{
 "cells": [
  {
   "cell_type": "code",
   "id": "initial_id",
   "metadata": {
    "collapsed": true,
    "ExecuteTime": {
     "end_time": "2025-05-28T12:21:28.414128Z",
     "start_time": "2025-05-28T12:21:28.276855Z"
    }
   },
   "source": [
    "import os\n",
    "\n",
    "import pandas as pd\n",
    "\n",
    "from os.path import commonprefix\n",
    "from pathlib import Path\n",
    "from IPython.display import HTML\n",
    "\n",
    "from scripts.data_processing import obtain_data\n",
    "from scripts.fasta_processing import plain_to_fasta\n",
    "from highlight import highlight_intron_in_seq\n",
    "from fasta_processing import read_single_fasta, dict_align_to_fasta, read_fasta, dict_align_to_fasta_upd\n",
    "from datasets import select_all_phylas, download_all_files_ncbi, check_transcript_count, update_data_for_species\n",
    "from taxonomy_processing import create_taxonomy\n",
    "from data_processing import analyze_exons, create_cassette, concat_cassette, dict_align_create, find_codon, \\\n",
    "    dict_align_info_analyze, dict_align_update_keys\n",
    "from build_rna_structures import run_rnafold_with_highlight"
   ],
   "outputs": [],
   "execution_count": 1
  },
  {
   "metadata": {},
   "cell_type": "markdown",
   "source": "## Введение",
   "id": "d33793d381cdba60"
  },
  {
   "metadata": {
    "ExecuteTime": {
     "end_time": "2025-05-28T12:21:28.516099Z",
     "start_time": "2025-05-28T12:21:28.503066Z"
    }
   },
   "cell_type": "code",
   "source": [
    "# читаем таблицы: с gene_id и taxonomy\n",
    "\n",
    "column_names = [\"tax_id\", \"org_name\", \"gene_id\", \"current_id\", \"status\", \"symbol\", \"aliases\", \"description\",\n",
    "                \"other_designations\", \"map_location\", \"chromosome\", \"genomic_nucleotide_accession.version\",\n",
    "                \"start_position_on_the_genomic_accession\", \"end_position_on_the_genomic_accession\", \"orientation\",\n",
    "                \"exon_count\", \"to_delete_1\", \"to_delete_2\"]\n",
    "\n",
    "df = pd.read_csv(\"../all_nxf1_2.txt\", sep=\"\\t\", skiprows=1, names=column_names, index_col=0)\n",
    "df.drop([\"to_delete_1\", \"to_delete_2\"], axis=1, inplace=True)\n",
    "\n",
    "df_taxonomy = pd.read_csv(\"../taxonomy/all_phylas_taxonomy.tsv\", sep=\"\\t\", names=[\"taxid\", \"taxonomy\"], index_col=0,\n",
    "                          dtype={\"taxid\": int, \"taxonomy\": str})\n",
    "\n",
    "# df_Deuterostomia = df_taxonomy[df_taxonomy.taxonomy.str.contains(\"Deuterostomia\")]  # 436 видов, из которых 238 млекопитающие\n",
    "# df_Deuterostomia.to_csv(f\"../Deuterostomia_taxonomy.tsv\", sep=\"\\t\", header=False)\n",
    "# create_taxonomy(f\"../Deuterostomia_taxonomy.tsv\")"
   ],
   "id": "338b8770606297f8",
   "outputs": [],
   "execution_count": 2
  },
  {
   "metadata": {},
   "cell_type": "markdown",
   "source": "## Переопределение функций",
   "id": "d7d4b104d17ae6ab"
  },
  {
   "metadata": {
    "ExecuteTime": {
     "end_time": "2025-05-28T12:21:28.557669Z",
     "start_time": "2025-05-28T12:21:28.553805Z"
    }
   },
   "cell_type": "code",
   "source": [
    "def create_taxids(df, sub_phylum_list):\n",
    "    taxids = {}\n",
    "    for sub_phylum in sub_phylum_list:\n",
    "        df_subset = df[df.taxonomy.str.contains(sub_phylum)]\n",
    "        taxids[sub_phylum] = df_subset.index.tolist()\n",
    "    return taxids\n",
    "\n",
    "def create_many_cassettes(phylum: str, data: dict) -> dict:\n",
    "    introns = {}\n",
    "    for org_name, (df, exons_i) in data.items():\n",
    "        cassette = create_cassette(phylum, org_name, df, exons_i=exons_i)\n",
    "        introns[org_name] = concat_cassette(cassette, \"i\")\n",
    "    return introns\n",
    "\n",
    "def find_cassettes(phylum):\n",
    "    prefix = \"../datasets\"\n",
    "    postfix = \"ncbi_dataset/data\"\n",
    "    nof = \"exons.fa\"\n",
    "    ref_exon_len = [37]\n",
    "    found_org_name_i = {}\n",
    "    data = {}\n",
    "\n",
    "    for org_name_i in os.listdir(f\"{prefix}/{phylum}\"):\n",
    "        df_exons = analyze_exons(f\"{prefix}/{phylum}/{org_name_i}/{postfix}/{nof}\")\n",
    "        condition = set(ref_exon_len) & set(df_exons.length.tolist())\n",
    "        if condition:\n",
    "            found_org_name_i[org_name_i] = condition\n",
    "\n",
    "    for org_name_i in found_org_name_i:  # CHANGE\n",
    "        df_exons = analyze_exons(f\"{prefix}/{phylum}/{org_name_i}/{postfix}/{nof}\")\n",
    "        exon_37_idx = df_exons[df_exons[\"length\"] == 37].index[0]\n",
    "        exon_110_idx = exon_37_idx - 1\n",
    "        data[f\"{org_name_i}\"] = (df_exons, [exon_110_idx, exon_37_idx])\n",
    "\n",
    "    return data, found_org_name_i\n",
    "\n",
    "def create_alignment(phylum, found_org_name_i, align_type = \"cds_cassette\"):\n",
    "    org_names = list(found_org_name_i.keys())\n",
    "    alignment_dict = dict_align_create(phylum, org_names, align_type)  # CHANGE\n",
    "    alignment_dict_upd = {\n",
    "        \"_\".join(key.split(\"_\")[:-1]).capitalize(): value\n",
    "        for key, value in alignment_dict.items()\n",
    "    }  # обновляем названия организмов для красоты в Ugene\n",
    "    os.makedirs(f\"../Alignment/{phylum}\", exist_ok=True)\n",
    "    dict_align_to_fasta(alignment_dict_upd, f\"../Alignment/{phylum}/{phylum}_cds_cassette.fa\")\n",
    "    dict_align_to_fasta(alignment_dict_upd, f\"../Alignment/{phylum}/{phylum}_cds_cassette.aln\")\n",
    "\n",
    "def create_dict_align_info(sub_phylum_list):\n",
    "    dict_align_info = {}\n",
    "    for sub_phylum in sub_phylum_list:\n",
    "        _, found_org_name_i = find_cassettes(sub_phylum)\n",
    "        dict_align_info[sub_phylum] = found_org_name_i.keys()\n",
    "    return dict_align_info"
   ],
   "id": "6a984e24bed985ef",
   "outputs": [],
   "execution_count": 3
  },
  {
   "metadata": {},
   "cell_type": "markdown",
   "source": "## Actinopterygii",
   "id": "ec6f04d88f16fab1"
  },
  {
   "metadata": {},
   "cell_type": "markdown",
   "source": "### Загрузка данных и создание кассет",
   "id": "3e3e97ecb989a7f1"
  },
  {
   "metadata": {
    "ExecuteTime": {
     "end_time": "2025-05-28T12:21:28.604785Z",
     "start_time": "2025-05-28T12:21:28.602630Z"
    }
   },
   "cell_type": "code",
   "source": [
    "# создаем сабсет таблицы для исследуемой филы\n",
    "phylum = \"Actinopterygii\"\n",
    "df_for_analysis = df_taxonomy[df_taxonomy.taxonomy.str.contains(phylum)] # в этой таблице вручную определяем подпапки из принта следующих 2х команд"
   ],
   "id": "b5df182b44647896",
   "outputs": [],
   "execution_count": 4
  },
  {
   "metadata": {
    "ExecuteTime": {
     "end_time": "2025-05-28T12:21:28.652293Z",
     "start_time": "2025-05-28T12:21:28.650875Z"
    }
   },
   "cell_type": "code",
   "source": [
    "# создаем принт таксономии для исследуемой филы\n",
    "# df_for_analysis.to_csv(f\"../{phylum}_taxonomy.tsv\", sep=\"\\t\", header=False)\n",
    "# create_taxonomy(f\"../{phylum}_taxonomy.tsv\")"
   ],
   "id": "778bf758da7225c8",
   "outputs": [],
   "execution_count": 5
  },
  {
   "metadata": {
    "ExecuteTime": {
     "end_time": "2025-05-28T12:21:28.703295Z",
     "start_time": "2025-05-28T12:21:28.700323Z"
    }
   },
   "cell_type": "code",
   "source": [
    "# создаем словарь taxids для последующей загрузки файлов\n",
    "sub_phylum_list = [\"Otomorpha\", \"Euteleosteomorpha\", \"Osteoglossomorpha\", \"Holostei\", \"Cladistia\"]\n",
    "taxids = create_taxids(df_for_analysis, sub_phylum_list)"
   ],
   "id": "b93b5799f2dfcf9",
   "outputs": [],
   "execution_count": 6
  },
  {
   "metadata": {
    "ExecuteTime": {
     "end_time": "2025-05-28T12:21:28.749831Z",
     "start_time": "2025-05-28T12:21:28.748122Z"
    }
   },
   "cell_type": "code",
   "source": [
    "# загружаем файлы через datasets: gene, rna, cds, protein; exons (создаются автоматически после загрузки файлов)\n",
    "\n",
    "# закомментировать, когда все загрузится!\n",
    "# download_all_files_ncbi(df, taxids, phylas=list(taxids.keys()))"
   ],
   "id": "c6f741dd908d3910",
   "outputs": [],
   "execution_count": 7
  },
  {
   "metadata": {
    "ExecuteTime": {
     "end_time": "2025-05-28T12:21:28.808980Z",
     "start_time": "2025-05-28T12:21:28.796953Z"
    }
   },
   "cell_type": "code",
   "source": [
    "# определяем, у каких видов больше 1 транскрипта\n",
    "# запускаем еще раз после прогона следующей ячейки, чтобы убедиться, что все удалилось\n",
    "species_to_update = check_transcript_count(sub_phylum_list)"
   ],
   "id": "90ee2d56e7f9fa0",
   "outputs": [],
   "execution_count": 8
  },
  {
   "metadata": {
    "ExecuteTime": {
     "end_time": "2025-05-28T12:21:28.845663Z",
     "start_time": "2025-05-28T12:21:28.844302Z"
    }
   },
   "cell_type": "code",
   "source": [
    "# удаляем все транскрипты, кроме 1-го - он, как правило, самый адекватный\n",
    "\n",
    "# закомментировать, когда все обновится!\n",
    "# update_data_for_species(species_to_update)"
   ],
   "id": "7527c0818276a235",
   "outputs": [],
   "execution_count": 9
  },
  {
   "metadata": {
    "ExecuteTime": {
     "end_time": "2025-05-28T12:21:28.978848Z",
     "start_time": "2025-05-28T12:21:28.891722Z"
    }
   },
   "cell_type": "code",
   "source": [
    "# создаем словарь data_phylum для видов, у которых в экзонах нашелся экзон размером 37 нт для дальнейшего создания кассет\n",
    "for sub_phylum in sub_phylum_list:\n",
    "    data, found_org_name_i = find_cassettes(sub_phylum)\n",
    "    # и сразу создаем кассеты для найденных данных\n",
    "    introns = create_many_cassettes(sub_phylum, data)\n",
    "    # и еще создаем выравнивания cds_cassette для всех sub_phylum (на всякий случай)\n",
    "    create_alignment(sub_phylum, found_org_name_i)"
   ],
   "id": "83dc81c3ed906714",
   "outputs": [],
   "execution_count": 10
  },
  {
   "metadata": {},
   "cell_type": "markdown",
   "source": "### Анализ интрона для всех выбранных сабфил",
   "id": "ca57e29c37be666"
  },
  {
   "metadata": {
    "ExecuteTime": {
     "end_time": "2025-05-28T12:21:29.024917Z",
     "start_time": "2025-05-28T12:21:28.988553Z"
    }
   },
   "cell_type": "code",
   "source": [
    "# сначала создаем словарь с данными\n",
    "dict_align_info = create_dict_align_info(sub_phylum_list)"
   ],
   "id": "43aba5e9a69e3ede",
   "outputs": [],
   "execution_count": 11
  },
  {
   "metadata": {
    "ExecuteTime": {
     "end_time": "2025-05-28T12:21:29.048617Z",
     "start_time": "2025-05-28T12:21:29.037754Z"
    }
   },
   "cell_type": "code",
   "source": [
    "# проверяем, чтобы в столбце equal_to_cds было везде True - это значит, что cds начинается со старт-кодона и заканчивается стоп-кодоном\n",
    "df_cds, dict_align_cds = dict_align_info_analyze(dict_align_info, \"cds\")\n",
    "df_cds.equal_to_cds.unique()"
   ],
   "id": "3716e1670f06ef2b",
   "outputs": [
    {
     "data": {
      "text/plain": [
       "array([ True])"
      ]
     },
     "execution_count": 12,
     "metadata": {},
     "output_type": "execute_result"
    }
   ],
   "execution_count": 12
  },
  {
   "metadata": {
    "ExecuteTime": {
     "end_time": "2025-05-28T12:21:29.101072Z",
     "start_time": "2025-05-28T12:21:29.089166Z"
    }
   },
   "cell_type": "code",
   "source": [
    "# смотрим на позиции стоп-кодона в интроне в его сохранении в cds\n",
    "\n",
    "df_cds_cassette, dict_align_cds_cassette = dict_align_info_analyze(dict_align_info, \"cds_cassette\")\n",
    "df_cds_cassette"
   ],
   "id": "ea8a153f27d49c8",
   "outputs": [
    {
     "data": {
      "text/plain": [
       "           sub_phylum              org_name_protein_id  \\\n",
       "0           Otomorpha           ictalurus_punctatus_11   \n",
       "1           Otomorpha                  chanos_chanos_4   \n",
       "2           Otomorpha  sinocyclocheilus_rhinocerous_12   \n",
       "3           Otomorpha              carassius_auratus_9   \n",
       "4           Otomorpha           denticeps_clupeoides_5   \n",
       "..                ...                              ...   \n",
       "68  Euteleosteomorpha       austrofundulus_limnaeus_42   \n",
       "69  Euteleosteomorpha      seriola_lalandi_dorsalis_32   \n",
       "70  Osteoglossomorpha       paramormyrops_kingsleyae_0   \n",
       "71  Osteoglossomorpha           scleropages_formosus_1   \n",
       "72          Cladistia      erpetoichthys_calabaricus_0   \n",
       "\n",
       "                        org_name  stop_codon_pos  equal_to_cds  \\\n",
       "0            Ictalurus_punctatus            1104         False   \n",
       "1                  Chanos_chanos            1071         False   \n",
       "2   Sinocyclocheilus_rhinocerous            1215         False   \n",
       "3              Carassius_auratus            1221         False   \n",
       "4           Denticeps_clupeoides            1041         False   \n",
       "..                           ...             ...           ...   \n",
       "68       Austrofundulus_limnaeus            1167         False   \n",
       "69      Seriola_lalandi_dorsalis            1185         False   \n",
       "70      Paramormyrops_kingsleyae            1254         False   \n",
       "71          Scleropages_formosus            1239         False   \n",
       "72     Erpetoichthys_calabaricus            1173         False   \n",
       "\n",
       "    cassette_intron_start  intron_length_to_stop_codon  intron_length  \\\n",
       "0                    1058                           46           3166   \n",
       "1                    1070                            1           3568   \n",
       "2                    1061                          154           3449   \n",
       "3                    1073                          148           3854   \n",
       "4                    1034                            7           2629   \n",
       "..                    ...                          ...            ...   \n",
       "68                   1145                           22           2541   \n",
       "69                   1163                           22           2481   \n",
       "70                   1133                          121           2929   \n",
       "71                   1127                          112           3412   \n",
       "72                   1118                           55           3662   \n",
       "\n",
       "    first_exon_length    source  \n",
       "0                 110  datasets  \n",
       "1                 110  datasets  \n",
       "2                 110  datasets  \n",
       "3                 110  datasets  \n",
       "4                 110  datasets  \n",
       "..                ...       ...  \n",
       "68                110  datasets  \n",
       "69                110  datasets  \n",
       "70                110  datasets  \n",
       "71                110  datasets  \n",
       "72                110  datasets  \n",
       "\n",
       "[73 rows x 10 columns]"
      ],
      "text/html": [
       "<div>\n",
       "<style scoped>\n",
       "    .dataframe tbody tr th:only-of-type {\n",
       "        vertical-align: middle;\n",
       "    }\n",
       "\n",
       "    .dataframe tbody tr th {\n",
       "        vertical-align: top;\n",
       "    }\n",
       "\n",
       "    .dataframe thead th {\n",
       "        text-align: right;\n",
       "    }\n",
       "</style>\n",
       "<table border=\"1\" class=\"dataframe\">\n",
       "  <thead>\n",
       "    <tr style=\"text-align: right;\">\n",
       "      <th></th>\n",
       "      <th>sub_phylum</th>\n",
       "      <th>org_name_protein_id</th>\n",
       "      <th>org_name</th>\n",
       "      <th>stop_codon_pos</th>\n",
       "      <th>equal_to_cds</th>\n",
       "      <th>cassette_intron_start</th>\n",
       "      <th>intron_length_to_stop_codon</th>\n",
       "      <th>intron_length</th>\n",
       "      <th>first_exon_length</th>\n",
       "      <th>source</th>\n",
       "    </tr>\n",
       "  </thead>\n",
       "  <tbody>\n",
       "    <tr>\n",
       "      <th>0</th>\n",
       "      <td>Otomorpha</td>\n",
       "      <td>ictalurus_punctatus_11</td>\n",
       "      <td>Ictalurus_punctatus</td>\n",
       "      <td>1104</td>\n",
       "      <td>False</td>\n",
       "      <td>1058</td>\n",
       "      <td>46</td>\n",
       "      <td>3166</td>\n",
       "      <td>110</td>\n",
       "      <td>datasets</td>\n",
       "    </tr>\n",
       "    <tr>\n",
       "      <th>1</th>\n",
       "      <td>Otomorpha</td>\n",
       "      <td>chanos_chanos_4</td>\n",
       "      <td>Chanos_chanos</td>\n",
       "      <td>1071</td>\n",
       "      <td>False</td>\n",
       "      <td>1070</td>\n",
       "      <td>1</td>\n",
       "      <td>3568</td>\n",
       "      <td>110</td>\n",
       "      <td>datasets</td>\n",
       "    </tr>\n",
       "    <tr>\n",
       "      <th>2</th>\n",
       "      <td>Otomorpha</td>\n",
       "      <td>sinocyclocheilus_rhinocerous_12</td>\n",
       "      <td>Sinocyclocheilus_rhinocerous</td>\n",
       "      <td>1215</td>\n",
       "      <td>False</td>\n",
       "      <td>1061</td>\n",
       "      <td>154</td>\n",
       "      <td>3449</td>\n",
       "      <td>110</td>\n",
       "      <td>datasets</td>\n",
       "    </tr>\n",
       "    <tr>\n",
       "      <th>3</th>\n",
       "      <td>Otomorpha</td>\n",
       "      <td>carassius_auratus_9</td>\n",
       "      <td>Carassius_auratus</td>\n",
       "      <td>1221</td>\n",
       "      <td>False</td>\n",
       "      <td>1073</td>\n",
       "      <td>148</td>\n",
       "      <td>3854</td>\n",
       "      <td>110</td>\n",
       "      <td>datasets</td>\n",
       "    </tr>\n",
       "    <tr>\n",
       "      <th>4</th>\n",
       "      <td>Otomorpha</td>\n",
       "      <td>denticeps_clupeoides_5</td>\n",
       "      <td>Denticeps_clupeoides</td>\n",
       "      <td>1041</td>\n",
       "      <td>False</td>\n",
       "      <td>1034</td>\n",
       "      <td>7</td>\n",
       "      <td>2629</td>\n",
       "      <td>110</td>\n",
       "      <td>datasets</td>\n",
       "    </tr>\n",
       "    <tr>\n",
       "      <th>...</th>\n",
       "      <td>...</td>\n",
       "      <td>...</td>\n",
       "      <td>...</td>\n",
       "      <td>...</td>\n",
       "      <td>...</td>\n",
       "      <td>...</td>\n",
       "      <td>...</td>\n",
       "      <td>...</td>\n",
       "      <td>...</td>\n",
       "      <td>...</td>\n",
       "    </tr>\n",
       "    <tr>\n",
       "      <th>68</th>\n",
       "      <td>Euteleosteomorpha</td>\n",
       "      <td>austrofundulus_limnaeus_42</td>\n",
       "      <td>Austrofundulus_limnaeus</td>\n",
       "      <td>1167</td>\n",
       "      <td>False</td>\n",
       "      <td>1145</td>\n",
       "      <td>22</td>\n",
       "      <td>2541</td>\n",
       "      <td>110</td>\n",
       "      <td>datasets</td>\n",
       "    </tr>\n",
       "    <tr>\n",
       "      <th>69</th>\n",
       "      <td>Euteleosteomorpha</td>\n",
       "      <td>seriola_lalandi_dorsalis_32</td>\n",
       "      <td>Seriola_lalandi_dorsalis</td>\n",
       "      <td>1185</td>\n",
       "      <td>False</td>\n",
       "      <td>1163</td>\n",
       "      <td>22</td>\n",
       "      <td>2481</td>\n",
       "      <td>110</td>\n",
       "      <td>datasets</td>\n",
       "    </tr>\n",
       "    <tr>\n",
       "      <th>70</th>\n",
       "      <td>Osteoglossomorpha</td>\n",
       "      <td>paramormyrops_kingsleyae_0</td>\n",
       "      <td>Paramormyrops_kingsleyae</td>\n",
       "      <td>1254</td>\n",
       "      <td>False</td>\n",
       "      <td>1133</td>\n",
       "      <td>121</td>\n",
       "      <td>2929</td>\n",
       "      <td>110</td>\n",
       "      <td>datasets</td>\n",
       "    </tr>\n",
       "    <tr>\n",
       "      <th>71</th>\n",
       "      <td>Osteoglossomorpha</td>\n",
       "      <td>scleropages_formosus_1</td>\n",
       "      <td>Scleropages_formosus</td>\n",
       "      <td>1239</td>\n",
       "      <td>False</td>\n",
       "      <td>1127</td>\n",
       "      <td>112</td>\n",
       "      <td>3412</td>\n",
       "      <td>110</td>\n",
       "      <td>datasets</td>\n",
       "    </tr>\n",
       "    <tr>\n",
       "      <th>72</th>\n",
       "      <td>Cladistia</td>\n",
       "      <td>erpetoichthys_calabaricus_0</td>\n",
       "      <td>Erpetoichthys_calabaricus</td>\n",
       "      <td>1173</td>\n",
       "      <td>False</td>\n",
       "      <td>1118</td>\n",
       "      <td>55</td>\n",
       "      <td>3662</td>\n",
       "      <td>110</td>\n",
       "      <td>datasets</td>\n",
       "    </tr>\n",
       "  </tbody>\n",
       "</table>\n",
       "<p>73 rows × 10 columns</p>\n",
       "</div>"
      ]
     },
     "execution_count": 13,
     "metadata": {},
     "output_type": "execute_result"
    }
   ],
   "execution_count": 13
  },
  {
   "metadata": {
    "ExecuteTime": {
     "end_time": "2025-05-28T12:21:29.163255Z",
     "start_time": "2025-05-28T12:21:29.158865Z"
    }
   },
   "cell_type": "code",
   "source": [
    "# ищем дубликаты\n",
    "df_cds_cassette[df_cds_cassette[\"org_name\"].duplicated(keep=False)]"
   ],
   "id": "ad486ae4a85dfee2",
   "outputs": [
    {
     "data": {
      "text/plain": [
       "  sub_phylum org_name_protein_id     org_name  stop_codon_pos  equal_to_cds  \\\n",
       "6  Otomorpha       danio_rerio_1  Danio_rerio            1233         False   \n",
       "9  Otomorpha       danio_rerio_2  Danio_rerio            1092         False   \n",
       "\n",
       "   cassette_intron_start  intron_length_to_stop_codon  intron_length  \\\n",
       "6                   1082                          151           3995   \n",
       "9                   1091                            1           3580   \n",
       "\n",
       "   first_exon_length    source  \n",
       "6                110  datasets  \n",
       "9                110  datasets  "
      ],
      "text/html": [
       "<div>\n",
       "<style scoped>\n",
       "    .dataframe tbody tr th:only-of-type {\n",
       "        vertical-align: middle;\n",
       "    }\n",
       "\n",
       "    .dataframe tbody tr th {\n",
       "        vertical-align: top;\n",
       "    }\n",
       "\n",
       "    .dataframe thead th {\n",
       "        text-align: right;\n",
       "    }\n",
       "</style>\n",
       "<table border=\"1\" class=\"dataframe\">\n",
       "  <thead>\n",
       "    <tr style=\"text-align: right;\">\n",
       "      <th></th>\n",
       "      <th>sub_phylum</th>\n",
       "      <th>org_name_protein_id</th>\n",
       "      <th>org_name</th>\n",
       "      <th>stop_codon_pos</th>\n",
       "      <th>equal_to_cds</th>\n",
       "      <th>cassette_intron_start</th>\n",
       "      <th>intron_length_to_stop_codon</th>\n",
       "      <th>intron_length</th>\n",
       "      <th>first_exon_length</th>\n",
       "      <th>source</th>\n",
       "    </tr>\n",
       "  </thead>\n",
       "  <tbody>\n",
       "    <tr>\n",
       "      <th>6</th>\n",
       "      <td>Otomorpha</td>\n",
       "      <td>danio_rerio_1</td>\n",
       "      <td>Danio_rerio</td>\n",
       "      <td>1233</td>\n",
       "      <td>False</td>\n",
       "      <td>1082</td>\n",
       "      <td>151</td>\n",
       "      <td>3995</td>\n",
       "      <td>110</td>\n",
       "      <td>datasets</td>\n",
       "    </tr>\n",
       "    <tr>\n",
       "      <th>9</th>\n",
       "      <td>Otomorpha</td>\n",
       "      <td>danio_rerio_2</td>\n",
       "      <td>Danio_rerio</td>\n",
       "      <td>1092</td>\n",
       "      <td>False</td>\n",
       "      <td>1091</td>\n",
       "      <td>1</td>\n",
       "      <td>3580</td>\n",
       "      <td>110</td>\n",
       "      <td>datasets</td>\n",
       "    </tr>\n",
       "  </tbody>\n",
       "</table>\n",
       "</div>"
      ]
     },
     "execution_count": 14,
     "metadata": {},
     "output_type": "execute_result"
    }
   ],
   "execution_count": 14
  },
  {
   "metadata": {
    "ExecuteTime": {
     "end_time": "2025-05-28T12:21:29.241959Z",
     "start_time": "2025-05-28T12:21:29.239977Z"
    }
   },
   "cell_type": "code",
   "source": [
    "# удаляем дубликаты\n",
    "\n",
    "# -----------------\n",
    "# 6 - danio_rerio_1, nxf1b\n",
    "# -----------------\n",
    "\n",
    "indices_to_drop = [6]\n",
    "df_cds_cassette = df_cds_cassette.drop(indices_to_drop)"
   ],
   "id": "db1a5de76ea23f74",
   "outputs": [],
   "execution_count": 15
  },
  {
   "metadata": {
    "ExecuteTime": {
     "end_time": "2025-05-28T12:21:29.330747Z",
     "start_time": "2025-05-28T12:21:29.327742Z"
    }
   },
   "cell_type": "code",
   "source": [
    "# сохраняем табличку для последующей загрузки в results_summary ноутбук\n",
    "df_cds_cassette.to_csv(f\"../results_summary/datasets_{phylum}_cds_cassette.tsv\", sep=\"\\t\", index=False)"
   ],
   "id": "2547e738a9265a7b",
   "outputs": [],
   "execution_count": 16
  },
  {
   "metadata": {},
   "cell_type": "markdown",
   "source": "## Amphibia",
   "id": "bf442e48c68e2774"
  },
  {
   "metadata": {},
   "cell_type": "markdown",
   "source": "### Загрузка данных и создание кассет",
   "id": "6fa9eaf91bc91872"
  },
  {
   "metadata": {
    "ExecuteTime": {
     "end_time": "2025-05-28T12:21:29.426107Z",
     "start_time": "2025-05-28T12:21:29.423804Z"
    }
   },
   "cell_type": "code",
   "source": [
    "# создаем сабсет таблицы для исследуемой филы\n",
    "phylum = \"Amphibia\"\n",
    "df_for_analysis = df_taxonomy[df_taxonomy.taxonomy.str.contains(phylum)] # в этой таблице вручную определяем подпапки из принта следующих 2х команд"
   ],
   "id": "cbd026bd59e9411f",
   "outputs": [],
   "execution_count": 17
  },
  {
   "metadata": {
    "ExecuteTime": {
     "end_time": "2025-05-28T12:21:29.489126Z",
     "start_time": "2025-05-28T12:21:29.487672Z"
    }
   },
   "cell_type": "code",
   "source": [
    "# создаем принт таксономии для исследуемой филы\n",
    "# df_for_analysis.to_csv(f\"../{phylum}_taxonomy.tsv\", sep=\"\\t\", header=False)\n",
    "# create_taxonomy(f\"../{phylum}_taxonomy.tsv\")"
   ],
   "id": "19357cb3e71b016c",
   "outputs": [],
   "execution_count": 18
  },
  {
   "metadata": {
    "ExecuteTime": {
     "end_time": "2025-05-28T12:21:29.542664Z",
     "start_time": "2025-05-28T12:21:29.539581Z"
    }
   },
   "cell_type": "code",
   "source": [
    "# создаем словарь taxids для последующей загрузки файлов\n",
    "sub_phylum_list = [\"Gymnophiona\", \"Caudata\", \"Anura\"]\n",
    "taxids = create_taxids(df_for_analysis, sub_phylum_list)"
   ],
   "id": "18cd82345abe2957",
   "outputs": [],
   "execution_count": 19
  },
  {
   "metadata": {
    "ExecuteTime": {
     "end_time": "2025-05-28T12:21:29.591406Z",
     "start_time": "2025-05-28T12:21:29.589943Z"
    }
   },
   "cell_type": "code",
   "source": [
    "# загружаем файлы через datasets: gene, rna, cds, protein; exons (создаются автоматически после загрузки файлов)\n",
    "\n",
    "# закомментировать, когда все загрузится!\n",
    "# download_all_files_ncbi(df, taxids, phylas=list(taxids.keys()))"
   ],
   "id": "a95212c18bd68127",
   "outputs": [],
   "execution_count": 20
  },
  {
   "metadata": {
    "ExecuteTime": {
     "end_time": "2025-05-28T12:21:29.647455Z",
     "start_time": "2025-05-28T12:21:29.641970Z"
    }
   },
   "cell_type": "code",
   "source": [
    "# определяем, у каких видов больше 1 транскрипта\n",
    "# запускаем еще раз после прогона следующей ячейки, чтобы убедиться, что все удалилось\n",
    "species_to_update = check_transcript_count(sub_phylum_list)"
   ],
   "id": "5d8b560cd44541ba",
   "outputs": [],
   "execution_count": 21
  },
  {
   "metadata": {
    "ExecuteTime": {
     "end_time": "2025-05-28T12:21:29.694425Z",
     "start_time": "2025-05-28T12:21:29.692969Z"
    }
   },
   "cell_type": "code",
   "source": [
    "# удаляем все транскрипты, кроме 1-го - он, как правило, самый адекватный\n",
    "\n",
    "# закомментировать, когда все обновится!\n",
    "# update_data_for_species(species_to_update)"
   ],
   "id": "3e11d09150db628a",
   "outputs": [],
   "execution_count": 22
  },
  {
   "metadata": {
    "ExecuteTime": {
     "end_time": "2025-05-28T12:21:29.783724Z",
     "start_time": "2025-05-28T12:21:29.744933Z"
    }
   },
   "cell_type": "code",
   "source": [
    "# создаем словарь data_phylum для видов, у которых в экзонах нашелся экзон размером 37 нт для дальнейшего создания кассет\n",
    "for sub_phylum in sub_phylum_list:\n",
    "    data, found_org_name_i = find_cassettes(sub_phylum)\n",
    "    # и сразу создаем кассеты для найденных данных\n",
    "    introns = create_many_cassettes(sub_phylum, data)\n",
    "    # и еще создаем выравнивания cds_cassette для всех sub_phylum (на всякий случай)\n",
    "    create_alignment(sub_phylum, found_org_name_i)"
   ],
   "id": "434f55595769f20a",
   "outputs": [],
   "execution_count": 23
  },
  {
   "metadata": {},
   "cell_type": "markdown",
   "source": "### Анализ интрона для всех выбранных сабфил",
   "id": "26a3a2e37c9a62d3"
  },
  {
   "metadata": {
    "ExecuteTime": {
     "end_time": "2025-05-28T12:21:29.811440Z",
     "start_time": "2025-05-28T12:21:29.798085Z"
    }
   },
   "cell_type": "code",
   "source": [
    "# сначала создаем словарь с данными\n",
    "dict_align_info = create_dict_align_info(sub_phylum_list)"
   ],
   "id": "5572c611abc6c8",
   "outputs": [],
   "execution_count": 24
  },
  {
   "metadata": {
    "ExecuteTime": {
     "end_time": "2025-05-28T12:21:29.856828Z",
     "start_time": "2025-05-28T12:21:29.851836Z"
    }
   },
   "cell_type": "code",
   "source": [
    "# проверяем, чтобы в столбце equal_to_cds было везде True - это значит, что cds начинается со старт-кодона и заканчивается стоп-кодоном\n",
    "df_cds, dict_align_cds = dict_align_info_analyze(dict_align_info, \"cds\")\n",
    "df_cds.equal_to_cds.unique()"
   ],
   "id": "196e8e20cda62aef",
   "outputs": [
    {
     "data": {
      "text/plain": [
       "array([ True])"
      ]
     },
     "execution_count": 25,
     "metadata": {},
     "output_type": "execute_result"
    }
   ],
   "execution_count": 25
  },
  {
   "metadata": {
    "ExecuteTime": {
     "end_time": "2025-05-28T12:21:29.915861Z",
     "start_time": "2025-05-28T12:21:29.907512Z"
    }
   },
   "cell_type": "code",
   "source": [
    "# смотрим на позиции стоп-кодона в интроне в его сохранении в cds\n",
    "\n",
    "df_cds_cassette, dict_align_cds_cassette = dict_align_info_analyze(dict_align_info, \"cds_cassette\")\n",
    "df_cds_cassette"
   ],
   "id": "804241254d80ee74",
   "outputs": [
    {
     "data": {
      "text/plain": [
       "     sub_phylum        org_name_protein_id                 org_name  \\\n",
       "0   Gymnophiona    geotrypetes_seraphini_2    Geotrypetes_seraphini   \n",
       "1   Gymnophiona   microcaecilia_unicolor_0   Microcaecilia_unicolor   \n",
       "2   Gymnophiona    rhinatrema_bivittatum_1    Rhinatrema_bivittatum   \n",
       "3       Caudata      ambystoma_mexicanum_0      Ambystoma_mexicanum   \n",
       "4       Caudata        pleurodeles_waltl_1        Pleurodeles_waltl   \n",
       "5         Anura          rana_temporaria_0          Rana_temporaria   \n",
       "6         Anura        bufo_gargarizans_12         Bufo_gargarizans   \n",
       "7         Anura          xenopus_laevis_18           Xenopus_laevis   \n",
       "8         Anura              hyla_sarda_10               Hyla_sarda   \n",
       "9         Anura       xenopus_tropicalis_2       Xenopus_tropicalis   \n",
       "10        Anura         spea_bombifrons_11          Spea_bombifrons   \n",
       "11        Anura   pyxicephalus_adspersus_3   Pyxicephalus_adspersus   \n",
       "12        Anura        bufo_gargarizans_13         Bufo_gargarizans   \n",
       "13        Anura          xenopus_laevis_17           Xenopus_laevis   \n",
       "14        Anura               bufo_bufo_15                Bufo_bufo   \n",
       "15        Anura   hyperolius_riggenbachi_7   Hyperolius_riggenbachi   \n",
       "16        Anura      ranitomeya_imitator_6      Ranitomeya_imitator   \n",
       "17        Anura               bufo_bufo_14                Bufo_bufo   \n",
       "18        Anura       xenopus_tropicalis_1       Xenopus_tropicalis   \n",
       "19        Anura   engystomops_pustulosus_4   Engystomops_pustulosus   \n",
       "20        Anura         pelobates_fuscus_9         Pelobates_fuscus   \n",
       "21        Anura        nanorana_parkeri_16         Nanorana_parkeri   \n",
       "22        Anura  pseudophryne_corroboree_8  Pseudophryne_corroboree   \n",
       "\n",
       "    stop_codon_pos  equal_to_cds  cassette_intron_start  \\\n",
       "0              894         False                    839   \n",
       "1             1116         False                    929   \n",
       "2             1134         False                   1031   \n",
       "3             1068         False                   1067   \n",
       "4             1344         False                   1193   \n",
       "5             1017         False                   1007   \n",
       "6             1017         False                   1010   \n",
       "7             1062         False                   1010   \n",
       "8             1032         False                   1007   \n",
       "9             1164         False                   1124   \n",
       "10            1041         False                   1016   \n",
       "11            1047         False                   1022   \n",
       "12            1104         False                    869   \n",
       "13            1146         False                   1073   \n",
       "14            1089         False                    854   \n",
       "15            1020         False                   1010   \n",
       "16            1047         False                   1010   \n",
       "17             720         False                    713   \n",
       "18            1083         False                   1037   \n",
       "19            1047         False                   1022   \n",
       "20            1011         False                   1010   \n",
       "21            1044         False                   1019   \n",
       "22            1035         False                   1016   \n",
       "\n",
       "    intron_length_to_stop_codon  intron_length  first_exon_length    source  \n",
       "0                            55           3065                110  datasets  \n",
       "1                           187           2784                110  datasets  \n",
       "2                           103           4053                110  datasets  \n",
       "3                             1          10340                110  datasets  \n",
       "4                           151           3245                110  datasets  \n",
       "5                            10           3036                110  datasets  \n",
       "6                             7           2879                110  datasets  \n",
       "7                            52           3791                110  datasets  \n",
       "8                            25           3029                110  datasets  \n",
       "9                            40           1714                110  datasets  \n",
       "10                           25           2840                110  datasets  \n",
       "11                           25           2917                110  datasets  \n",
       "12                          235            652                110  datasets  \n",
       "13                           73           3515                110  datasets  \n",
       "14                          235            618                110  datasets  \n",
       "15                           10           3902                110  datasets  \n",
       "16                           37           2650                110  datasets  \n",
       "17                            7           3002                110  datasets  \n",
       "18                           46           2596                110  datasets  \n",
       "19                           25           2004                110  datasets  \n",
       "20                            1           2424                110  datasets  \n",
       "21                           25           3038                110  datasets  \n",
       "22                           19           3561                110  datasets  "
      ],
      "text/html": [
       "<div>\n",
       "<style scoped>\n",
       "    .dataframe tbody tr th:only-of-type {\n",
       "        vertical-align: middle;\n",
       "    }\n",
       "\n",
       "    .dataframe tbody tr th {\n",
       "        vertical-align: top;\n",
       "    }\n",
       "\n",
       "    .dataframe thead th {\n",
       "        text-align: right;\n",
       "    }\n",
       "</style>\n",
       "<table border=\"1\" class=\"dataframe\">\n",
       "  <thead>\n",
       "    <tr style=\"text-align: right;\">\n",
       "      <th></th>\n",
       "      <th>sub_phylum</th>\n",
       "      <th>org_name_protein_id</th>\n",
       "      <th>org_name</th>\n",
       "      <th>stop_codon_pos</th>\n",
       "      <th>equal_to_cds</th>\n",
       "      <th>cassette_intron_start</th>\n",
       "      <th>intron_length_to_stop_codon</th>\n",
       "      <th>intron_length</th>\n",
       "      <th>first_exon_length</th>\n",
       "      <th>source</th>\n",
       "    </tr>\n",
       "  </thead>\n",
       "  <tbody>\n",
       "    <tr>\n",
       "      <th>0</th>\n",
       "      <td>Gymnophiona</td>\n",
       "      <td>geotrypetes_seraphini_2</td>\n",
       "      <td>Geotrypetes_seraphini</td>\n",
       "      <td>894</td>\n",
       "      <td>False</td>\n",
       "      <td>839</td>\n",
       "      <td>55</td>\n",
       "      <td>3065</td>\n",
       "      <td>110</td>\n",
       "      <td>datasets</td>\n",
       "    </tr>\n",
       "    <tr>\n",
       "      <th>1</th>\n",
       "      <td>Gymnophiona</td>\n",
       "      <td>microcaecilia_unicolor_0</td>\n",
       "      <td>Microcaecilia_unicolor</td>\n",
       "      <td>1116</td>\n",
       "      <td>False</td>\n",
       "      <td>929</td>\n",
       "      <td>187</td>\n",
       "      <td>2784</td>\n",
       "      <td>110</td>\n",
       "      <td>datasets</td>\n",
       "    </tr>\n",
       "    <tr>\n",
       "      <th>2</th>\n",
       "      <td>Gymnophiona</td>\n",
       "      <td>rhinatrema_bivittatum_1</td>\n",
       "      <td>Rhinatrema_bivittatum</td>\n",
       "      <td>1134</td>\n",
       "      <td>False</td>\n",
       "      <td>1031</td>\n",
       "      <td>103</td>\n",
       "      <td>4053</td>\n",
       "      <td>110</td>\n",
       "      <td>datasets</td>\n",
       "    </tr>\n",
       "    <tr>\n",
       "      <th>3</th>\n",
       "      <td>Caudata</td>\n",
       "      <td>ambystoma_mexicanum_0</td>\n",
       "      <td>Ambystoma_mexicanum</td>\n",
       "      <td>1068</td>\n",
       "      <td>False</td>\n",
       "      <td>1067</td>\n",
       "      <td>1</td>\n",
       "      <td>10340</td>\n",
       "      <td>110</td>\n",
       "      <td>datasets</td>\n",
       "    </tr>\n",
       "    <tr>\n",
       "      <th>4</th>\n",
       "      <td>Caudata</td>\n",
       "      <td>pleurodeles_waltl_1</td>\n",
       "      <td>Pleurodeles_waltl</td>\n",
       "      <td>1344</td>\n",
       "      <td>False</td>\n",
       "      <td>1193</td>\n",
       "      <td>151</td>\n",
       "      <td>3245</td>\n",
       "      <td>110</td>\n",
       "      <td>datasets</td>\n",
       "    </tr>\n",
       "    <tr>\n",
       "      <th>5</th>\n",
       "      <td>Anura</td>\n",
       "      <td>rana_temporaria_0</td>\n",
       "      <td>Rana_temporaria</td>\n",
       "      <td>1017</td>\n",
       "      <td>False</td>\n",
       "      <td>1007</td>\n",
       "      <td>10</td>\n",
       "      <td>3036</td>\n",
       "      <td>110</td>\n",
       "      <td>datasets</td>\n",
       "    </tr>\n",
       "    <tr>\n",
       "      <th>6</th>\n",
       "      <td>Anura</td>\n",
       "      <td>bufo_gargarizans_12</td>\n",
       "      <td>Bufo_gargarizans</td>\n",
       "      <td>1017</td>\n",
       "      <td>False</td>\n",
       "      <td>1010</td>\n",
       "      <td>7</td>\n",
       "      <td>2879</td>\n",
       "      <td>110</td>\n",
       "      <td>datasets</td>\n",
       "    </tr>\n",
       "    <tr>\n",
       "      <th>7</th>\n",
       "      <td>Anura</td>\n",
       "      <td>xenopus_laevis_18</td>\n",
       "      <td>Xenopus_laevis</td>\n",
       "      <td>1062</td>\n",
       "      <td>False</td>\n",
       "      <td>1010</td>\n",
       "      <td>52</td>\n",
       "      <td>3791</td>\n",
       "      <td>110</td>\n",
       "      <td>datasets</td>\n",
       "    </tr>\n",
       "    <tr>\n",
       "      <th>8</th>\n",
       "      <td>Anura</td>\n",
       "      <td>hyla_sarda_10</td>\n",
       "      <td>Hyla_sarda</td>\n",
       "      <td>1032</td>\n",
       "      <td>False</td>\n",
       "      <td>1007</td>\n",
       "      <td>25</td>\n",
       "      <td>3029</td>\n",
       "      <td>110</td>\n",
       "      <td>datasets</td>\n",
       "    </tr>\n",
       "    <tr>\n",
       "      <th>9</th>\n",
       "      <td>Anura</td>\n",
       "      <td>xenopus_tropicalis_2</td>\n",
       "      <td>Xenopus_tropicalis</td>\n",
       "      <td>1164</td>\n",
       "      <td>False</td>\n",
       "      <td>1124</td>\n",
       "      <td>40</td>\n",
       "      <td>1714</td>\n",
       "      <td>110</td>\n",
       "      <td>datasets</td>\n",
       "    </tr>\n",
       "    <tr>\n",
       "      <th>10</th>\n",
       "      <td>Anura</td>\n",
       "      <td>spea_bombifrons_11</td>\n",
       "      <td>Spea_bombifrons</td>\n",
       "      <td>1041</td>\n",
       "      <td>False</td>\n",
       "      <td>1016</td>\n",
       "      <td>25</td>\n",
       "      <td>2840</td>\n",
       "      <td>110</td>\n",
       "      <td>datasets</td>\n",
       "    </tr>\n",
       "    <tr>\n",
       "      <th>11</th>\n",
       "      <td>Anura</td>\n",
       "      <td>pyxicephalus_adspersus_3</td>\n",
       "      <td>Pyxicephalus_adspersus</td>\n",
       "      <td>1047</td>\n",
       "      <td>False</td>\n",
       "      <td>1022</td>\n",
       "      <td>25</td>\n",
       "      <td>2917</td>\n",
       "      <td>110</td>\n",
       "      <td>datasets</td>\n",
       "    </tr>\n",
       "    <tr>\n",
       "      <th>12</th>\n",
       "      <td>Anura</td>\n",
       "      <td>bufo_gargarizans_13</td>\n",
       "      <td>Bufo_gargarizans</td>\n",
       "      <td>1104</td>\n",
       "      <td>False</td>\n",
       "      <td>869</td>\n",
       "      <td>235</td>\n",
       "      <td>652</td>\n",
       "      <td>110</td>\n",
       "      <td>datasets</td>\n",
       "    </tr>\n",
       "    <tr>\n",
       "      <th>13</th>\n",
       "      <td>Anura</td>\n",
       "      <td>xenopus_laevis_17</td>\n",
       "      <td>Xenopus_laevis</td>\n",
       "      <td>1146</td>\n",
       "      <td>False</td>\n",
       "      <td>1073</td>\n",
       "      <td>73</td>\n",
       "      <td>3515</td>\n",
       "      <td>110</td>\n",
       "      <td>datasets</td>\n",
       "    </tr>\n",
       "    <tr>\n",
       "      <th>14</th>\n",
       "      <td>Anura</td>\n",
       "      <td>bufo_bufo_15</td>\n",
       "      <td>Bufo_bufo</td>\n",
       "      <td>1089</td>\n",
       "      <td>False</td>\n",
       "      <td>854</td>\n",
       "      <td>235</td>\n",
       "      <td>618</td>\n",
       "      <td>110</td>\n",
       "      <td>datasets</td>\n",
       "    </tr>\n",
       "    <tr>\n",
       "      <th>15</th>\n",
       "      <td>Anura</td>\n",
       "      <td>hyperolius_riggenbachi_7</td>\n",
       "      <td>Hyperolius_riggenbachi</td>\n",
       "      <td>1020</td>\n",
       "      <td>False</td>\n",
       "      <td>1010</td>\n",
       "      <td>10</td>\n",
       "      <td>3902</td>\n",
       "      <td>110</td>\n",
       "      <td>datasets</td>\n",
       "    </tr>\n",
       "    <tr>\n",
       "      <th>16</th>\n",
       "      <td>Anura</td>\n",
       "      <td>ranitomeya_imitator_6</td>\n",
       "      <td>Ranitomeya_imitator</td>\n",
       "      <td>1047</td>\n",
       "      <td>False</td>\n",
       "      <td>1010</td>\n",
       "      <td>37</td>\n",
       "      <td>2650</td>\n",
       "      <td>110</td>\n",
       "      <td>datasets</td>\n",
       "    </tr>\n",
       "    <tr>\n",
       "      <th>17</th>\n",
       "      <td>Anura</td>\n",
       "      <td>bufo_bufo_14</td>\n",
       "      <td>Bufo_bufo</td>\n",
       "      <td>720</td>\n",
       "      <td>False</td>\n",
       "      <td>713</td>\n",
       "      <td>7</td>\n",
       "      <td>3002</td>\n",
       "      <td>110</td>\n",
       "      <td>datasets</td>\n",
       "    </tr>\n",
       "    <tr>\n",
       "      <th>18</th>\n",
       "      <td>Anura</td>\n",
       "      <td>xenopus_tropicalis_1</td>\n",
       "      <td>Xenopus_tropicalis</td>\n",
       "      <td>1083</td>\n",
       "      <td>False</td>\n",
       "      <td>1037</td>\n",
       "      <td>46</td>\n",
       "      <td>2596</td>\n",
       "      <td>110</td>\n",
       "      <td>datasets</td>\n",
       "    </tr>\n",
       "    <tr>\n",
       "      <th>19</th>\n",
       "      <td>Anura</td>\n",
       "      <td>engystomops_pustulosus_4</td>\n",
       "      <td>Engystomops_pustulosus</td>\n",
       "      <td>1047</td>\n",
       "      <td>False</td>\n",
       "      <td>1022</td>\n",
       "      <td>25</td>\n",
       "      <td>2004</td>\n",
       "      <td>110</td>\n",
       "      <td>datasets</td>\n",
       "    </tr>\n",
       "    <tr>\n",
       "      <th>20</th>\n",
       "      <td>Anura</td>\n",
       "      <td>pelobates_fuscus_9</td>\n",
       "      <td>Pelobates_fuscus</td>\n",
       "      <td>1011</td>\n",
       "      <td>False</td>\n",
       "      <td>1010</td>\n",
       "      <td>1</td>\n",
       "      <td>2424</td>\n",
       "      <td>110</td>\n",
       "      <td>datasets</td>\n",
       "    </tr>\n",
       "    <tr>\n",
       "      <th>21</th>\n",
       "      <td>Anura</td>\n",
       "      <td>nanorana_parkeri_16</td>\n",
       "      <td>Nanorana_parkeri</td>\n",
       "      <td>1044</td>\n",
       "      <td>False</td>\n",
       "      <td>1019</td>\n",
       "      <td>25</td>\n",
       "      <td>3038</td>\n",
       "      <td>110</td>\n",
       "      <td>datasets</td>\n",
       "    </tr>\n",
       "    <tr>\n",
       "      <th>22</th>\n",
       "      <td>Anura</td>\n",
       "      <td>pseudophryne_corroboree_8</td>\n",
       "      <td>Pseudophryne_corroboree</td>\n",
       "      <td>1035</td>\n",
       "      <td>False</td>\n",
       "      <td>1016</td>\n",
       "      <td>19</td>\n",
       "      <td>3561</td>\n",
       "      <td>110</td>\n",
       "      <td>datasets</td>\n",
       "    </tr>\n",
       "  </tbody>\n",
       "</table>\n",
       "</div>"
      ]
     },
     "execution_count": 26,
     "metadata": {},
     "output_type": "execute_result"
    }
   ],
   "execution_count": 26
  },
  {
   "metadata": {
    "ExecuteTime": {
     "end_time": "2025-05-28T12:21:29.983643Z",
     "start_time": "2025-05-28T12:21:29.977896Z"
    }
   },
   "cell_type": "code",
   "source": [
    "# ищем дубликаты\n",
    "df_cds_cassette[df_cds_cassette[\"org_name\"].duplicated(keep=False)]"
   ],
   "id": "a41e35bf2c714e28",
   "outputs": [
    {
     "data": {
      "text/plain": [
       "   sub_phylum   org_name_protein_id            org_name  stop_codon_pos  \\\n",
       "6       Anura   bufo_gargarizans_12    Bufo_gargarizans            1017   \n",
       "7       Anura     xenopus_laevis_18      Xenopus_laevis            1062   \n",
       "9       Anura  xenopus_tropicalis_2  Xenopus_tropicalis            1164   \n",
       "12      Anura   bufo_gargarizans_13    Bufo_gargarizans            1104   \n",
       "13      Anura     xenopus_laevis_17      Xenopus_laevis            1146   \n",
       "14      Anura          bufo_bufo_15           Bufo_bufo            1089   \n",
       "17      Anura          bufo_bufo_14           Bufo_bufo             720   \n",
       "18      Anura  xenopus_tropicalis_1  Xenopus_tropicalis            1083   \n",
       "\n",
       "    equal_to_cds  cassette_intron_start  intron_length_to_stop_codon  \\\n",
       "6          False                   1010                            7   \n",
       "7          False                   1010                           52   \n",
       "9          False                   1124                           40   \n",
       "12         False                    869                          235   \n",
       "13         False                   1073                           73   \n",
       "14         False                    854                          235   \n",
       "17         False                    713                            7   \n",
       "18         False                   1037                           46   \n",
       "\n",
       "    intron_length  first_exon_length    source  \n",
       "6            2879                110  datasets  \n",
       "7            3791                110  datasets  \n",
       "9            1714                110  datasets  \n",
       "12            652                110  datasets  \n",
       "13           3515                110  datasets  \n",
       "14            618                110  datasets  \n",
       "17           3002                110  datasets  \n",
       "18           2596                110  datasets  "
      ],
      "text/html": [
       "<div>\n",
       "<style scoped>\n",
       "    .dataframe tbody tr th:only-of-type {\n",
       "        vertical-align: middle;\n",
       "    }\n",
       "\n",
       "    .dataframe tbody tr th {\n",
       "        vertical-align: top;\n",
       "    }\n",
       "\n",
       "    .dataframe thead th {\n",
       "        text-align: right;\n",
       "    }\n",
       "</style>\n",
       "<table border=\"1\" class=\"dataframe\">\n",
       "  <thead>\n",
       "    <tr style=\"text-align: right;\">\n",
       "      <th></th>\n",
       "      <th>sub_phylum</th>\n",
       "      <th>org_name_protein_id</th>\n",
       "      <th>org_name</th>\n",
       "      <th>stop_codon_pos</th>\n",
       "      <th>equal_to_cds</th>\n",
       "      <th>cassette_intron_start</th>\n",
       "      <th>intron_length_to_stop_codon</th>\n",
       "      <th>intron_length</th>\n",
       "      <th>first_exon_length</th>\n",
       "      <th>source</th>\n",
       "    </tr>\n",
       "  </thead>\n",
       "  <tbody>\n",
       "    <tr>\n",
       "      <th>6</th>\n",
       "      <td>Anura</td>\n",
       "      <td>bufo_gargarizans_12</td>\n",
       "      <td>Bufo_gargarizans</td>\n",
       "      <td>1017</td>\n",
       "      <td>False</td>\n",
       "      <td>1010</td>\n",
       "      <td>7</td>\n",
       "      <td>2879</td>\n",
       "      <td>110</td>\n",
       "      <td>datasets</td>\n",
       "    </tr>\n",
       "    <tr>\n",
       "      <th>7</th>\n",
       "      <td>Anura</td>\n",
       "      <td>xenopus_laevis_18</td>\n",
       "      <td>Xenopus_laevis</td>\n",
       "      <td>1062</td>\n",
       "      <td>False</td>\n",
       "      <td>1010</td>\n",
       "      <td>52</td>\n",
       "      <td>3791</td>\n",
       "      <td>110</td>\n",
       "      <td>datasets</td>\n",
       "    </tr>\n",
       "    <tr>\n",
       "      <th>9</th>\n",
       "      <td>Anura</td>\n",
       "      <td>xenopus_tropicalis_2</td>\n",
       "      <td>Xenopus_tropicalis</td>\n",
       "      <td>1164</td>\n",
       "      <td>False</td>\n",
       "      <td>1124</td>\n",
       "      <td>40</td>\n",
       "      <td>1714</td>\n",
       "      <td>110</td>\n",
       "      <td>datasets</td>\n",
       "    </tr>\n",
       "    <tr>\n",
       "      <th>12</th>\n",
       "      <td>Anura</td>\n",
       "      <td>bufo_gargarizans_13</td>\n",
       "      <td>Bufo_gargarizans</td>\n",
       "      <td>1104</td>\n",
       "      <td>False</td>\n",
       "      <td>869</td>\n",
       "      <td>235</td>\n",
       "      <td>652</td>\n",
       "      <td>110</td>\n",
       "      <td>datasets</td>\n",
       "    </tr>\n",
       "    <tr>\n",
       "      <th>13</th>\n",
       "      <td>Anura</td>\n",
       "      <td>xenopus_laevis_17</td>\n",
       "      <td>Xenopus_laevis</td>\n",
       "      <td>1146</td>\n",
       "      <td>False</td>\n",
       "      <td>1073</td>\n",
       "      <td>73</td>\n",
       "      <td>3515</td>\n",
       "      <td>110</td>\n",
       "      <td>datasets</td>\n",
       "    </tr>\n",
       "    <tr>\n",
       "      <th>14</th>\n",
       "      <td>Anura</td>\n",
       "      <td>bufo_bufo_15</td>\n",
       "      <td>Bufo_bufo</td>\n",
       "      <td>1089</td>\n",
       "      <td>False</td>\n",
       "      <td>854</td>\n",
       "      <td>235</td>\n",
       "      <td>618</td>\n",
       "      <td>110</td>\n",
       "      <td>datasets</td>\n",
       "    </tr>\n",
       "    <tr>\n",
       "      <th>17</th>\n",
       "      <td>Anura</td>\n",
       "      <td>bufo_bufo_14</td>\n",
       "      <td>Bufo_bufo</td>\n",
       "      <td>720</td>\n",
       "      <td>False</td>\n",
       "      <td>713</td>\n",
       "      <td>7</td>\n",
       "      <td>3002</td>\n",
       "      <td>110</td>\n",
       "      <td>datasets</td>\n",
       "    </tr>\n",
       "    <tr>\n",
       "      <th>18</th>\n",
       "      <td>Anura</td>\n",
       "      <td>xenopus_tropicalis_1</td>\n",
       "      <td>Xenopus_tropicalis</td>\n",
       "      <td>1083</td>\n",
       "      <td>False</td>\n",
       "      <td>1037</td>\n",
       "      <td>46</td>\n",
       "      <td>2596</td>\n",
       "      <td>110</td>\n",
       "      <td>datasets</td>\n",
       "    </tr>\n",
       "  </tbody>\n",
       "</table>\n",
       "</div>"
      ]
     },
     "execution_count": 27,
     "metadata": {},
     "output_type": "execute_result"
    }
   ],
   "execution_count": 27
  },
  {
   "metadata": {
    "ExecuteTime": {
     "end_time": "2025-05-28T12:21:30.055027Z",
     "start_time": "2025-05-28T12:21:30.053067Z"
    }
   },
   "cell_type": "code",
   "source": [
    "# удаляем дубликаты\n",
    "\n",
    "# -----------------\n",
    "# 14 - bufo_bufo_15\n",
    "# 12 - bufo_gargarizans_13\n",
    "# 13 - xenopus_laevis_17\n",
    "# 9 - xenopus_tropicalis_2\n",
    "# -----------------\n",
    "\n",
    "indices_to_drop = [14, 12, 13, 9]\n",
    "df_cds_cassette = df_cds_cassette.drop(indices_to_drop)"
   ],
   "id": "ac391cbdfcb6662c",
   "outputs": [],
   "execution_count": 28
  },
  {
   "metadata": {
    "ExecuteTime": {
     "end_time": "2025-05-28T12:21:30.111117Z",
     "start_time": "2025-05-28T12:21:30.109089Z"
    }
   },
   "cell_type": "code",
   "source": [
    "# сохраняем табличку для последующей загрузки в results_summary ноутбук\n",
    "df_cds_cassette.to_csv(f\"../results_summary/datasets_{phylum}_cds_cassette.tsv\", sep=\"\\t\", index=False)"
   ],
   "id": "7d7d5d682b32e3d3",
   "outputs": [],
   "execution_count": 29
  },
  {
   "metadata": {},
   "cell_type": "markdown",
   "source": "## Sauropsida",
   "id": "83f3148dfb4836a1"
  },
  {
   "metadata": {},
   "cell_type": "markdown",
   "source": "### Загрузка данных и создание кассет",
   "id": "42582f3b7c13ba0d"
  },
  {
   "metadata": {
    "ExecuteTime": {
     "end_time": "2025-05-28T12:21:30.179677Z",
     "start_time": "2025-05-28T12:21:30.177055Z"
    }
   },
   "cell_type": "code",
   "source": [
    "# создаем сабсет таблицы для исследуемой филы\n",
    "phylum = \"Sauropsida\"\n",
    "df_for_analysis = df_taxonomy[df_taxonomy.taxonomy.str.contains(phylum)] # в этой таблице вручную определяем подпапки из принта следующих 2х команд"
   ],
   "id": "5a459caff0ab085",
   "outputs": [],
   "execution_count": 30
  },
  {
   "metadata": {
    "ExecuteTime": {
     "end_time": "2025-05-28T12:21:30.251307Z",
     "start_time": "2025-05-28T12:21:30.249947Z"
    }
   },
   "cell_type": "code",
   "source": [
    "# создаем принт таксономии для исследуемой филы\n",
    "# df_for_analysis.to_csv(f\"../{phylum}_taxonomy.tsv\", sep=\"\\t\", header=False)\n",
    "# create_taxonomy(f\"../{phylum}_taxonomy.tsv\")"
   ],
   "id": "7b3a8b7b8178d97b",
   "outputs": [],
   "execution_count": 31
  },
  {
   "metadata": {
    "ExecuteTime": {
     "end_time": "2025-05-28T12:21:30.305868Z",
     "start_time": "2025-05-28T12:21:30.303022Z"
    }
   },
   "cell_type": "code",
   "source": [
    "# создаем словарь taxids для последующей загрузки файлов\n",
    "sub_phylum_list = [\"Lepidosauria\", \"Testudinata\", \"Crocodylia\", \"Aves\"]\n",
    "taxids = create_taxids(df_for_analysis, sub_phylum_list)"
   ],
   "id": "5a56125bc8f77626",
   "outputs": [],
   "execution_count": 32
  },
  {
   "metadata": {
    "ExecuteTime": {
     "end_time": "2025-05-28T12:21:30.357631Z",
     "start_time": "2025-05-28T12:21:30.356179Z"
    }
   },
   "cell_type": "code",
   "source": [
    "# загружаем файлы через datasets: gene, rna, cds, protein; exons (создаются автоматически после загрузки файлов)\n",
    "\n",
    "# закомментировать, когда все загрузится!\n",
    "# download_all_files_ncbi(df, taxids, phylas=list(taxids.keys()))"
   ],
   "id": "1b16d151ffdb42fe",
   "outputs": [],
   "execution_count": 33
  },
  {
   "metadata": {
    "ExecuteTime": {
     "end_time": "2025-05-28T12:21:30.421887Z",
     "start_time": "2025-05-28T12:21:30.409445Z"
    }
   },
   "cell_type": "code",
   "source": [
    "# определяем, у каких видов больше 1 транскрипта\n",
    "# запускаем еще раз после прогона следующей ячейки, чтобы убедиться, что все удалилось\n",
    "species_to_update = check_transcript_count(sub_phylum_list)\n",
    "\n",
    "# удалил Aves/anas_platyrhynchos_45, т.к. там ничего не скачалось"
   ],
   "id": "a5869eac3bbd95f0",
   "outputs": [],
   "execution_count": 34
  },
  {
   "metadata": {
    "ExecuteTime": {
     "end_time": "2025-05-28T12:21:30.464145Z",
     "start_time": "2025-05-28T12:21:30.462738Z"
    }
   },
   "cell_type": "code",
   "source": [
    "# удаляем все транскрипты, кроме 1-го - он, как правило, самый адекватный\n",
    "\n",
    "# закомментировать, когда все обновится!\n",
    "# update_data_for_species(species_to_update)"
   ],
   "id": "1645d67aa733e3d",
   "outputs": [],
   "execution_count": 35
  },
  {
   "metadata": {
    "ExecuteTime": {
     "end_time": "2025-05-28T12:21:30.612292Z",
     "start_time": "2025-05-28T12:21:30.515747Z"
    }
   },
   "cell_type": "code",
   "source": [
    "# создаем словарь data_phylum для видов, у которых в экзонах нашелся экзон размером 37 нт для дальнейшего создания кассет\n",
    "for sub_phylum in sub_phylum_list:\n",
    "    data, found_org_name_i = find_cassettes(sub_phylum)\n",
    "    # и сразу создаем кассеты для найденных данных\n",
    "    introns = create_many_cassettes(sub_phylum, data)\n",
    "    # и еще создаем выравнивания cds_cassette для всех sub_phylum (на всякий случай)\n",
    "    create_alignment(sub_phylum, found_org_name_i)"
   ],
   "id": "7b6944b16be99390",
   "outputs": [],
   "execution_count": 36
  },
  {
   "metadata": {},
   "cell_type": "markdown",
   "source": "### Анализ интрона для всех выбранных сабфил",
   "id": "425b5443e6596b82"
  },
  {
   "metadata": {
    "ExecuteTime": {
     "end_time": "2025-05-28T12:21:30.667192Z",
     "start_time": "2025-05-28T12:21:30.625978Z"
    }
   },
   "cell_type": "code",
   "source": [
    "# сначала создаем словарь с данными\n",
    "dict_align_info = create_dict_align_info(sub_phylum_list)"
   ],
   "id": "8f04c531f31deeb",
   "outputs": [],
   "execution_count": 37
  },
  {
   "metadata": {
    "ExecuteTime": {
     "end_time": "2025-05-28T12:21:30.708042Z",
     "start_time": "2025-05-28T12:21:30.696365Z"
    }
   },
   "cell_type": "code",
   "source": [
    "# проверяем, чтобы в столбце equal_to_cds было везде True - это значит, что cds начинается со старт-кодона и заканчивается стоп-кодоном\n",
    "df_cds, dict_align_cds = dict_align_info_analyze(dict_align_info, \"cds\")\n",
    "df_cds.equal_to_cds.unique()"
   ],
   "id": "7debb450ccd7288c",
   "outputs": [
    {
     "data": {
      "text/plain": [
       "array([ True])"
      ]
     },
     "execution_count": 38,
     "metadata": {},
     "output_type": "execute_result"
    }
   ],
   "execution_count": 38
  },
  {
   "metadata": {
    "ExecuteTime": {
     "end_time": "2025-05-28T12:21:30.762747Z",
     "start_time": "2025-05-28T12:21:30.751039Z"
    }
   },
   "cell_type": "code",
   "source": [
    "# смотрим на позиции стоп-кодона в интроне в его сохранении в cds\n",
    "\n",
    "df_cds_cassette, dict_align_cds_cassette = dict_align_info_analyze(dict_align_info, \"cds_cassette\")\n",
    "df_cds_cassette"
   ],
   "id": "69960710e418335f",
   "outputs": [
    {
     "data": {
      "text/plain": [
       "      sub_phylum              org_name_protein_id  \\\n",
       "0   Lepidosauria             python_bivittatus_26   \n",
       "1   Lepidosauria             notechis_scutatus_22   \n",
       "2   Lepidosauria           pseudonaja_textilis_21   \n",
       "3   Lepidosauria                  anolis_sagrei_5   \n",
       "4   Lepidosauria  pituophis_catenifer_annectens_0   \n",
       "..           ...                              ...   \n",
       "76          Aves            pezoporus_wallicus_18   \n",
       "77          Aves        aphelocoma_coerulescens_4   \n",
       "78          Aves            catharus_ustulatus_26   \n",
       "79          Aves    chroicocephalus_ridibundus_12   \n",
       "80          Aves               struthio_camelus_5   \n",
       "\n",
       "                         org_name  stop_codon_pos  equal_to_cds  \\\n",
       "0               Python_bivittatus            1035         False   \n",
       "1               Notechis_scutatus            1023         False   \n",
       "2             Pseudonaja_textilis            1029         False   \n",
       "3                   Anolis_sagrei            1038         False   \n",
       "4   Pituophis_catenifer_annectens            1320         False   \n",
       "..                            ...             ...           ...   \n",
       "76             Pezoporus_wallicus            1572         False   \n",
       "77        Aphelocoma_coerulescens            1077         False   \n",
       "78             Catharus_ustulatus            1227         False   \n",
       "79     Chroicocephalus_ridibundus            1566         False   \n",
       "80               Struthio_camelus            1074         False   \n",
       "\n",
       "    cassette_intron_start  intron_length_to_stop_codon  intron_length  \\\n",
       "0                    1034                            1           2374   \n",
       "1                    1022                            1           2507   \n",
       "2                    1028                            1           2519   \n",
       "3                    1037                            1           4667   \n",
       "4                    1319                            1           2420   \n",
       "..                    ...                          ...            ...   \n",
       "76                   1004                          568           1328   \n",
       "77                    992                           85           3626   \n",
       "78                    986                          241           3252   \n",
       "79                   1004                          562           1373   \n",
       "80                   1010                           64           1405   \n",
       "\n",
       "    first_exon_length    source  \n",
       "0                 110  datasets  \n",
       "1                 110  datasets  \n",
       "2                 110  datasets  \n",
       "3                 110  datasets  \n",
       "4                 110  datasets  \n",
       "..                ...       ...  \n",
       "76                110  datasets  \n",
       "77                110  datasets  \n",
       "78                110  datasets  \n",
       "79                110  datasets  \n",
       "80                110  datasets  \n",
       "\n",
       "[81 rows x 10 columns]"
      ],
      "text/html": [
       "<div>\n",
       "<style scoped>\n",
       "    .dataframe tbody tr th:only-of-type {\n",
       "        vertical-align: middle;\n",
       "    }\n",
       "\n",
       "    .dataframe tbody tr th {\n",
       "        vertical-align: top;\n",
       "    }\n",
       "\n",
       "    .dataframe thead th {\n",
       "        text-align: right;\n",
       "    }\n",
       "</style>\n",
       "<table border=\"1\" class=\"dataframe\">\n",
       "  <thead>\n",
       "    <tr style=\"text-align: right;\">\n",
       "      <th></th>\n",
       "      <th>sub_phylum</th>\n",
       "      <th>org_name_protein_id</th>\n",
       "      <th>org_name</th>\n",
       "      <th>stop_codon_pos</th>\n",
       "      <th>equal_to_cds</th>\n",
       "      <th>cassette_intron_start</th>\n",
       "      <th>intron_length_to_stop_codon</th>\n",
       "      <th>intron_length</th>\n",
       "      <th>first_exon_length</th>\n",
       "      <th>source</th>\n",
       "    </tr>\n",
       "  </thead>\n",
       "  <tbody>\n",
       "    <tr>\n",
       "      <th>0</th>\n",
       "      <td>Lepidosauria</td>\n",
       "      <td>python_bivittatus_26</td>\n",
       "      <td>Python_bivittatus</td>\n",
       "      <td>1035</td>\n",
       "      <td>False</td>\n",
       "      <td>1034</td>\n",
       "      <td>1</td>\n",
       "      <td>2374</td>\n",
       "      <td>110</td>\n",
       "      <td>datasets</td>\n",
       "    </tr>\n",
       "    <tr>\n",
       "      <th>1</th>\n",
       "      <td>Lepidosauria</td>\n",
       "      <td>notechis_scutatus_22</td>\n",
       "      <td>Notechis_scutatus</td>\n",
       "      <td>1023</td>\n",
       "      <td>False</td>\n",
       "      <td>1022</td>\n",
       "      <td>1</td>\n",
       "      <td>2507</td>\n",
       "      <td>110</td>\n",
       "      <td>datasets</td>\n",
       "    </tr>\n",
       "    <tr>\n",
       "      <th>2</th>\n",
       "      <td>Lepidosauria</td>\n",
       "      <td>pseudonaja_textilis_21</td>\n",
       "      <td>Pseudonaja_textilis</td>\n",
       "      <td>1029</td>\n",
       "      <td>False</td>\n",
       "      <td>1028</td>\n",
       "      <td>1</td>\n",
       "      <td>2519</td>\n",
       "      <td>110</td>\n",
       "      <td>datasets</td>\n",
       "    </tr>\n",
       "    <tr>\n",
       "      <th>3</th>\n",
       "      <td>Lepidosauria</td>\n",
       "      <td>anolis_sagrei_5</td>\n",
       "      <td>Anolis_sagrei</td>\n",
       "      <td>1038</td>\n",
       "      <td>False</td>\n",
       "      <td>1037</td>\n",
       "      <td>1</td>\n",
       "      <td>4667</td>\n",
       "      <td>110</td>\n",
       "      <td>datasets</td>\n",
       "    </tr>\n",
       "    <tr>\n",
       "      <th>4</th>\n",
       "      <td>Lepidosauria</td>\n",
       "      <td>pituophis_catenifer_annectens_0</td>\n",
       "      <td>Pituophis_catenifer_annectens</td>\n",
       "      <td>1320</td>\n",
       "      <td>False</td>\n",
       "      <td>1319</td>\n",
       "      <td>1</td>\n",
       "      <td>2420</td>\n",
       "      <td>110</td>\n",
       "      <td>datasets</td>\n",
       "    </tr>\n",
       "    <tr>\n",
       "      <th>...</th>\n",
       "      <td>...</td>\n",
       "      <td>...</td>\n",
       "      <td>...</td>\n",
       "      <td>...</td>\n",
       "      <td>...</td>\n",
       "      <td>...</td>\n",
       "      <td>...</td>\n",
       "      <td>...</td>\n",
       "      <td>...</td>\n",
       "      <td>...</td>\n",
       "    </tr>\n",
       "    <tr>\n",
       "      <th>76</th>\n",
       "      <td>Aves</td>\n",
       "      <td>pezoporus_wallicus_18</td>\n",
       "      <td>Pezoporus_wallicus</td>\n",
       "      <td>1572</td>\n",
       "      <td>False</td>\n",
       "      <td>1004</td>\n",
       "      <td>568</td>\n",
       "      <td>1328</td>\n",
       "      <td>110</td>\n",
       "      <td>datasets</td>\n",
       "    </tr>\n",
       "    <tr>\n",
       "      <th>77</th>\n",
       "      <td>Aves</td>\n",
       "      <td>aphelocoma_coerulescens_4</td>\n",
       "      <td>Aphelocoma_coerulescens</td>\n",
       "      <td>1077</td>\n",
       "      <td>False</td>\n",
       "      <td>992</td>\n",
       "      <td>85</td>\n",
       "      <td>3626</td>\n",
       "      <td>110</td>\n",
       "      <td>datasets</td>\n",
       "    </tr>\n",
       "    <tr>\n",
       "      <th>78</th>\n",
       "      <td>Aves</td>\n",
       "      <td>catharus_ustulatus_26</td>\n",
       "      <td>Catharus_ustulatus</td>\n",
       "      <td>1227</td>\n",
       "      <td>False</td>\n",
       "      <td>986</td>\n",
       "      <td>241</td>\n",
       "      <td>3252</td>\n",
       "      <td>110</td>\n",
       "      <td>datasets</td>\n",
       "    </tr>\n",
       "    <tr>\n",
       "      <th>79</th>\n",
       "      <td>Aves</td>\n",
       "      <td>chroicocephalus_ridibundus_12</td>\n",
       "      <td>Chroicocephalus_ridibundus</td>\n",
       "      <td>1566</td>\n",
       "      <td>False</td>\n",
       "      <td>1004</td>\n",
       "      <td>562</td>\n",
       "      <td>1373</td>\n",
       "      <td>110</td>\n",
       "      <td>datasets</td>\n",
       "    </tr>\n",
       "    <tr>\n",
       "      <th>80</th>\n",
       "      <td>Aves</td>\n",
       "      <td>struthio_camelus_5</td>\n",
       "      <td>Struthio_camelus</td>\n",
       "      <td>1074</td>\n",
       "      <td>False</td>\n",
       "      <td>1010</td>\n",
       "      <td>64</td>\n",
       "      <td>1405</td>\n",
       "      <td>110</td>\n",
       "      <td>datasets</td>\n",
       "    </tr>\n",
       "  </tbody>\n",
       "</table>\n",
       "<p>81 rows × 10 columns</p>\n",
       "</div>"
      ]
     },
     "execution_count": 39,
     "metadata": {},
     "output_type": "execute_result"
    }
   ],
   "execution_count": 39
  },
  {
   "metadata": {
    "ExecuteTime": {
     "end_time": "2025-05-28T12:21:30.824363Z",
     "start_time": "2025-05-28T12:21:30.821055Z"
    }
   },
   "cell_type": "code",
   "source": [
    "# ищем дубликаты\n",
    "df_cds_cassette[df_cds_cassette[\"org_name\"].duplicated(keep=False)]"
   ],
   "id": "45c4a6f137bd9974",
   "outputs": [
    {
     "data": {
      "text/plain": [
       "Empty DataFrame\n",
       "Columns: [sub_phylum, org_name_protein_id, org_name, stop_codon_pos, equal_to_cds, cassette_intron_start, intron_length_to_stop_codon, intron_length, first_exon_length, source]\n",
       "Index: []"
      ],
      "text/html": [
       "<div>\n",
       "<style scoped>\n",
       "    .dataframe tbody tr th:only-of-type {\n",
       "        vertical-align: middle;\n",
       "    }\n",
       "\n",
       "    .dataframe tbody tr th {\n",
       "        vertical-align: top;\n",
       "    }\n",
       "\n",
       "    .dataframe thead th {\n",
       "        text-align: right;\n",
       "    }\n",
       "</style>\n",
       "<table border=\"1\" class=\"dataframe\">\n",
       "  <thead>\n",
       "    <tr style=\"text-align: right;\">\n",
       "      <th></th>\n",
       "      <th>sub_phylum</th>\n",
       "      <th>org_name_protein_id</th>\n",
       "      <th>org_name</th>\n",
       "      <th>stop_codon_pos</th>\n",
       "      <th>equal_to_cds</th>\n",
       "      <th>cassette_intron_start</th>\n",
       "      <th>intron_length_to_stop_codon</th>\n",
       "      <th>intron_length</th>\n",
       "      <th>first_exon_length</th>\n",
       "      <th>source</th>\n",
       "    </tr>\n",
       "  </thead>\n",
       "  <tbody>\n",
       "  </tbody>\n",
       "</table>\n",
       "</div>"
      ]
     },
     "execution_count": 40,
     "metadata": {},
     "output_type": "execute_result"
    }
   ],
   "execution_count": 40
  },
  {
   "metadata": {
    "ExecuteTime": {
     "end_time": "2025-05-28T12:21:30.905113Z",
     "start_time": "2025-05-28T12:21:30.903690Z"
    }
   },
   "cell_type": "code",
   "source": [
    "# удаляем дубликаты\n",
    "\n",
    "# -----------------\n",
    "\n",
    "# -----------------\n",
    "\n",
    "# indices_to_drop = []\n",
    "# df_cds_cassette = df_cds_cassette.drop(indices_to_drop)"
   ],
   "id": "36e1a23cb945c5a4",
   "outputs": [],
   "execution_count": 41
  },
  {
   "metadata": {
    "ExecuteTime": {
     "end_time": "2025-05-28T12:21:31.043895Z",
     "start_time": "2025-05-28T12:21:31.041812Z"
    }
   },
   "cell_type": "code",
   "source": [
    "# сохраняем табличку для последующей загрузки в results_summary ноутбук\n",
    "df_cds_cassette.to_csv(f\"../results_summary/datasets_{phylum}_cds_cassette.tsv\", sep=\"\\t\", index=False)"
   ],
   "id": "ff79b46b51d0ef24",
   "outputs": [],
   "execution_count": 42
  }
 ],
 "metadata": {
  "kernelspec": {
   "display_name": "Python 3",
   "language": "python",
   "name": "python3"
  },
  "language_info": {
   "codemirror_mode": {
    "name": "ipython",
    "version": 2
   },
   "file_extension": ".py",
   "mimetype": "text/x-python",
   "name": "python",
   "nbconvert_exporter": "python",
   "pygments_lexer": "ipython2",
   "version": "2.7.6"
  }
 },
 "nbformat": 4,
 "nbformat_minor": 5
}
