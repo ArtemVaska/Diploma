{
 "cells": [
  {
   "metadata": {
    "ExecuteTime": {
     "end_time": "2025-05-31T15:49:30.262422Z",
     "start_time": "2025-05-31T15:49:30.223026Z"
    }
   },
   "cell_type": "code",
   "source": [
    "import os\n",
    "import subprocess\n",
    "import re\n",
    "\n",
    "from pathlib import Path\n",
    "import pandas as pd\n",
    "\n",
    "from fasta_processing import read_single_fasta, read_fasta\n",
    "from tg_logger import telegram_logger\n",
    "\n",
    "from meme_suite import create_input_meme, run_meme, parse_meme_block, run_tomtom, add_highlight_coords, highlight_coords"
   ],
   "id": "7b7a1cd13b045faa",
   "outputs": [],
   "execution_count": 1
  },
  {
   "cell_type": "code",
   "id": "initial_id",
   "metadata": {
    "collapsed": true,
    "ExecuteTime": {
     "end_time": "2025-05-31T15:49:32.014511Z",
     "start_time": "2025-05-31T15:49:32.010252Z"
    }
   },
   "source": [
    "protostomia = pd.read_csv(\"../results_summary/protostomia.tsv\", sep=\"\\t\")\n",
    "deuterostomia = pd.read_csv(\"../results_summary/deuterostomia.tsv\", sep=\"\\t\")"
   ],
   "outputs": [],
   "execution_count": 2
  },
  {
   "metadata": {},
   "cell_type": "markdown",
   "source": "## Actinopterygii",
   "id": "15e2263a8c398aa4"
  },
  {
   "metadata": {},
   "cell_type": "markdown",
   "source": "### Поиск мотивов",
   "id": "34d03b66ca5b8455"
  },
  {
   "metadata": {
    "ExecuteTime": {
     "end_time": "2025-05-31T15:49:33.643781Z",
     "start_time": "2025-05-31T15:49:33.641516Z"
    }
   },
   "cell_type": "code",
   "source": [
    "# Euteleosteomorpha 53\n",
    "# Otomorpha 16\n",
    "# Osteoglossomorpha 2\n",
    "# Cladistia 1\n",
    "# Holostei 0\n",
    "\n",
    "Actinopterygii_list = [\"Euteleosteomorpha\", \"Otomorpha\", \"Osteoglossomorpha\", \"Cladistia\"]\n",
    "# создали таблицу, в которой все найденные виды для лучеперых рыб\n",
    "df_Actinopterygii = deuterostomia[deuterostomia.sub_phylum.isin(Actinopterygii_list)]"
   ],
   "id": "3867e4aca9a6b68c",
   "outputs": [],
   "execution_count": 3
  },
  {
   "metadata": {
    "ExecuteTime": {
     "end_time": "2025-05-29T22:07:19.023300Z",
     "start_time": "2025-05-29T22:07:19.020823Z"
    }
   },
   "cell_type": "code",
   "source": "create_input_meme(df_Actinopterygii, phylum=\"Actinopterygii\")",
   "id": "ea210ad84493ddf0",
   "outputs": [],
   "execution_count": 4
  },
  {
   "metadata": {
    "ExecuteTime": {
     "end_time": "2025-05-29T22:11:29.073016Z",
     "start_time": "2025-05-29T22:07:21.745896Z"
    }
   },
   "cell_type": "code",
   "source": [
    "run_meme(input_file=\"../meme/Actinopterygii/Actinopterygii_introns.fa\", output_dir=\"../meme/Actinopterygii\")\n",
    "\n",
    "# после запуска этой команды лучше всего открыть .html файл в браузере и посмотреть на результаты глазами"
   ],
   "id": "a22a48174e974cc2",
   "outputs": [
    {
     "name": "stdout",
     "output_type": "stream",
     "text": [
      "Meme finished successfully!\n",
      "Input: ../meme/Actinopterygii/Actinopterygii_introns.fa\n",
      "Output: ../meme/Actinopterygii\n",
      "\n"
     ]
    }
   ],
   "execution_count": 5
  },
  {
   "metadata": {
    "ExecuteTime": {
     "end_time": "2025-05-31T15:49:36.065590Z",
     "start_time": "2025-05-31T15:49:36.062547Z"
    }
   },
   "cell_type": "code",
   "source": [
    "motif = \"AACCTAAGGCAGGCACAGTCACGATTACTCSGCCTC\"  # MEME-2 -- номер найденного мотива, mi=2 для Tomtom\n",
    "Actinopterygii_meme_result = parse_meme_block(\"../meme/Actinopterygii/meme.txt\", motif)"
   ],
   "id": "d6e573ae627c5e74",
   "outputs": [
    {
     "name": "stdout",
     "output_type": "stream",
     "text": [
      "MOTIF: AACCTAAGGCAGGCACAGTCACGATTACTCSGCCTC, width=36, seqs=68\n"
     ]
    }
   ],
   "execution_count": 4
  },
  {
   "metadata": {
    "ExecuteTime": {
     "end_time": "2025-05-31T15:06:29.632373Z",
     "start_time": "2025-05-31T15:06:05.326909Z"
    }
   },
   "cell_type": "code",
   "source": [
    "run_tomtom(input_file=\"../meme/Actinopterygii/meme.txt\", output_dir=\"../tomtom/Actinopterygii\", mi=2)\n",
    "\n",
    "# после запуска команды также стоит сначала просмотреть .html файл с результатами"
   ],
   "id": "ac8d5dc2ea149ca5",
   "outputs": [
    {
     "name": "stdout",
     "output_type": "stream",
     "text": [
      "Tomtom finished successfully!\n",
      "Input: ../meme/Actinopterygii/meme.txt\n",
      "Output: ../tomtom/Actinopterygii\n",
      "\n"
     ]
    }
   ],
   "execution_count": 5
  },
  {
   "metadata": {},
   "cell_type": "markdown",
   "source": "### Выделение цветом на вторичных структурах",
   "id": "dbff34a09a667734"
  },
  {
   "metadata": {
    "ExecuteTime": {
     "end_time": "2025-05-31T15:49:37.961468Z",
     "start_time": "2025-05-31T15:49:37.941976Z"
    }
   },
   "cell_type": "code",
   "source": [
    "Actinopterygii_meme_result = add_highlight_coords(df_Actinopterygii, Actinopterygii_meme_result)\n",
    "\n",
    "# сохраняем для дальнейшего выравнивания\n",
    "# os.makedirs(\"../alignment/Actinopterygii\", exist_ok=True)\n",
    "# Actinopterygii_meme_result.to_csv(\"../alignment/Actinopterygii/Actinopterygii_cds_cassette_motif.tsv\", sep=\"\\t\", index=False)"
   ],
   "id": "19cb28dcb72f12b8",
   "outputs": [],
   "execution_count": 5
  },
  {
   "metadata": {
    "ExecuteTime": {
     "end_time": "2025-05-31T15:49:55.118718Z",
     "start_time": "2025-05-31T15:49:54.252921Z"
    }
   },
   "cell_type": "code",
   "source": "highlight_coords(df_Actinopterygii, Actinopterygii_meme_result)",
   "id": "bb33fb7247e32ff8",
   "outputs": [
    {
     "name": "stderr",
     "output_type": "stream",
     "text": [
      "[WARNING] ...from traverse_loop. Loop 2 has crossed regions\n",
      "[WARNING] ...from traverse_loop. Loop 22 has crossed regions\n"
     ]
    }
   ],
   "execution_count": 6
  },
  {
   "metadata": {},
   "cell_type": "markdown",
   "source": "---",
   "id": "70c789ac499da0f9"
  },
  {
   "metadata": {
    "ExecuteTime": {
     "end_time": "2025-05-29T22:41:10.652541Z",
     "start_time": "2025-05-29T22:41:10.646482Z"
    }
   },
   "cell_type": "code",
   "source": "deuterostomia[deuterostomia[\"org_name\"] == \"Ictalurus_punctatus\"]",
   "id": "71de0156359b4874",
   "outputs": [
    {
     "data": {
      "text/plain": [
       "  sub_phylum     org_name_protein_id             org_name  stop_codon_pos  \\\n",
       "0  Otomorpha  ictalurus_punctatus_11  Ictalurus_punctatus            1104   \n",
       "\n",
       "   equal_to_cds  cassette_intron_start  intron_length_to_stop_codon  \\\n",
       "0         False                   1058                           46   \n",
       "\n",
       "   intron_length  first_exon_length    source  \n",
       "0           3166                110  datasets  "
      ],
      "text/html": [
       "<div>\n",
       "<style scoped>\n",
       "    .dataframe tbody tr th:only-of-type {\n",
       "        vertical-align: middle;\n",
       "    }\n",
       "\n",
       "    .dataframe tbody tr th {\n",
       "        vertical-align: top;\n",
       "    }\n",
       "\n",
       "    .dataframe thead th {\n",
       "        text-align: right;\n",
       "    }\n",
       "</style>\n",
       "<table border=\"1\" class=\"dataframe\">\n",
       "  <thead>\n",
       "    <tr style=\"text-align: right;\">\n",
       "      <th></th>\n",
       "      <th>sub_phylum</th>\n",
       "      <th>org_name_protein_id</th>\n",
       "      <th>org_name</th>\n",
       "      <th>stop_codon_pos</th>\n",
       "      <th>equal_to_cds</th>\n",
       "      <th>cassette_intron_start</th>\n",
       "      <th>intron_length_to_stop_codon</th>\n",
       "      <th>intron_length</th>\n",
       "      <th>first_exon_length</th>\n",
       "      <th>source</th>\n",
       "    </tr>\n",
       "  </thead>\n",
       "  <tbody>\n",
       "    <tr>\n",
       "      <th>0</th>\n",
       "      <td>Otomorpha</td>\n",
       "      <td>ictalurus_punctatus_11</td>\n",
       "      <td>Ictalurus_punctatus</td>\n",
       "      <td>1104</td>\n",
       "      <td>False</td>\n",
       "      <td>1058</td>\n",
       "      <td>46</td>\n",
       "      <td>3166</td>\n",
       "      <td>110</td>\n",
       "      <td>datasets</td>\n",
       "    </tr>\n",
       "  </tbody>\n",
       "</table>\n",
       "</div>"
      ]
     },
     "execution_count": 6,
     "metadata": {},
     "output_type": "execute_result"
    }
   ],
   "execution_count": 6
  }
 ],
 "metadata": {
  "kernelspec": {
   "display_name": "Python 3",
   "language": "python",
   "name": "python3"
  },
  "language_info": {
   "codemirror_mode": {
    "name": "ipython",
    "version": 2
   },
   "file_extension": ".py",
   "mimetype": "text/x-python",
   "name": "python",
   "nbconvert_exporter": "python",
   "pygments_lexer": "ipython2",
   "version": "2.7.6"
  }
 },
 "nbformat": 4,
 "nbformat_minor": 5
}
