{
 "cells": [
  {
   "cell_type": "code",
   "id": "initial_id",
   "metadata": {
    "collapsed": true,
    "ExecuteTime": {
     "end_time": "2025-05-28T12:21:13.796859Z",
     "start_time": "2025-05-28T12:21:13.658006Z"
    }
   },
   "source": [
    "import os\n",
    "\n",
    "import pandas as pd\n",
    "\n",
    "from scripts.fasta_processing import dict_align_to_fasta\n",
    "from scripts.datasets import check_transcript_count\n",
    "from scripts.data_processing import analyze_exons, create_cassette, concat_cassette, dict_align_create, dict_align_info_analyze"
   ],
   "outputs": [],
   "execution_count": 1
  },
  {
   "metadata": {},
   "cell_type": "markdown",
   "source": "## Введение",
   "id": "d33793d381cdba60"
  },
  {
   "metadata": {
    "ExecuteTime": {
     "end_time": "2025-05-28T12:21:13.905348Z",
     "start_time": "2025-05-28T12:21:13.886951Z"
    }
   },
   "cell_type": "code",
   "source": [
    "# читаем таблицы: с gene_id и taxonomy\n",
    "\n",
    "column_names = [\"tax_id\", \"org_name\", \"gene_id\", \"current_id\", \"status\", \"symbol\", \"aliases\", \"description\",\n",
    "                \"other_designations\", \"map_location\", \"chromosome\", \"genomic_nucleotide_accession.version\",\n",
    "                \"start_position_on_the_genomic_accession\", \"end_position_on_the_genomic_accession\", \"orientation\",\n",
    "                \"exon_count\", \"to_delete_1\", \"to_delete_2\"]\n",
    "\n",
    "df = pd.read_csv(\"../all_nxf1_2.txt\", sep=\"\\t\", skiprows=1, names=column_names, index_col=0)\n",
    "df.drop([\"to_delete_1\", \"to_delete_2\"], axis=1, inplace=True)\n",
    "\n",
    "df_taxonomy = pd.read_csv(\"../taxonomy/all_phylas_taxonomy.tsv\", sep=\"\\t\", names=[\"taxid\", \"taxonomy\"], index_col=0,\n",
    "                          dtype={\"taxid\": int, \"taxonomy\": str})\n",
    "\n",
    "# df_Protostomia = df_taxonomy[df_taxonomy.taxonomy.str.contains(\"Protostomia\")]  # 83 вида, из которых 70 артроподы\n",
    "# df_Protostomia.to_csv(f\"../Protostomia_taxonomy.tsv\", sep=\"\\t\", header=False)\n",
    "# create_taxonomy(f\"../Protostomia_taxonomy.tsv\")"
   ],
   "id": "338b8770606297f8",
   "outputs": [],
   "execution_count": 2
  },
  {
   "metadata": {},
   "cell_type": "markdown",
   "source": "## Переопределение функций",
   "id": "d7d4b104d17ae6ab"
  },
  {
   "metadata": {
    "ExecuteTime": {
     "end_time": "2025-05-28T12:21:13.942180Z",
     "start_time": "2025-05-28T12:21:13.938274Z"
    }
   },
   "cell_type": "code",
   "source": [
    "def create_taxids(df, sub_phylum_list):\n",
    "    taxids = {}\n",
    "    for sub_phylum in sub_phylum_list:\n",
    "        df_subset = df[df.taxonomy.str.contains(sub_phylum)]\n",
    "        taxids[sub_phylum] = df_subset.index.tolist()\n",
    "    return taxids\n",
    "\n",
    "def create_many_cassettes(phylum: str, data: dict) -> dict:\n",
    "    introns = {}\n",
    "    for org_name, (df, exons_i) in data.items():\n",
    "        cassette = create_cassette(phylum, org_name, df, exons_i=exons_i)\n",
    "        introns[org_name] = concat_cassette(cassette, \"i\")\n",
    "    return introns\n",
    "\n",
    "def find_cassettes(phylum):\n",
    "    prefix = \"../datasets\"\n",
    "    postfix = \"ncbi_dataset/data\"\n",
    "    nof = \"exons.fa\"\n",
    "    ref_exon_len = [37]\n",
    "    found_org_name_i = {}\n",
    "    data = {}\n",
    "\n",
    "    for org_name_i in os.listdir(f\"{prefix}/{phylum}\"):\n",
    "        df_exons = analyze_exons(f\"{prefix}/{phylum}/{org_name_i}/{postfix}/{nof}\")\n",
    "        condition = set(ref_exon_len) & set(df_exons.length.tolist())\n",
    "        if condition:\n",
    "            found_org_name_i[org_name_i] = condition\n",
    "\n",
    "    for org_name_i in found_org_name_i:  # CHANGE\n",
    "        df_exons = analyze_exons(f\"{prefix}/{phylum}/{org_name_i}/{postfix}/{nof}\")\n",
    "        exon_37_idx = df_exons[df_exons[\"length\"] == 37].index[0]\n",
    "        exon_110_idx = exon_37_idx - 1\n",
    "        data[f\"{org_name_i}\"] = (df_exons, [exon_110_idx, exon_37_idx])\n",
    "\n",
    "    return data, found_org_name_i\n",
    "\n",
    "def create_alignment(phylum, found_org_name_i, align_type = \"cds_cassette\"):\n",
    "    org_names = list(found_org_name_i.keys())\n",
    "    alignment_dict = dict_align_create(phylum, org_names, align_type)  # CHANGE\n",
    "    alignment_dict_upd = {\n",
    "        \"_\".join(key.split(\"_\")[:-1]).capitalize(): value\n",
    "        for key, value in alignment_dict.items()\n",
    "    }  # обновляем названия организмов для красоты в Ugene\n",
    "    os.makedirs(f\"../Alignment/{phylum}\", exist_ok=True)\n",
    "    dict_align_to_fasta(alignment_dict_upd, f\"../Alignment/{phylum}/{phylum}_cds_cassette.fa\")\n",
    "    dict_align_to_fasta(alignment_dict_upd, f\"../Alignment/{phylum}/{phylum}_cds_cassette.aln\")\n",
    "\n",
    "def create_dict_align_info(sub_phylum_list):\n",
    "    dict_align_info = {}\n",
    "    for sub_phylum in sub_phylum_list:\n",
    "        _, found_org_name_i = find_cassettes(sub_phylum)\n",
    "        dict_align_info[sub_phylum] = found_org_name_i.keys()\n",
    "    return dict_align_info"
   ],
   "id": "6a984e24bed985ef",
   "outputs": [],
   "execution_count": 3
  },
  {
   "metadata": {},
   "cell_type": "markdown",
   "source": "## Ecdysozoa",
   "id": "ec6f04d88f16fab1"
  },
  {
   "metadata": {},
   "cell_type": "markdown",
   "source": "### Загрузка данных и создание кассет",
   "id": "3e3e97ecb989a7f1"
  },
  {
   "metadata": {
    "ExecuteTime": {
     "end_time": "2025-05-28T12:21:13.983539Z",
     "start_time": "2025-05-28T12:21:13.981061Z"
    }
   },
   "cell_type": "code",
   "source": [
    "# создаем сабсет таблицы для исследуемой филы\n",
    "phylum = \"Ecdysozoa\"\n",
    "df_for_analysis = df_taxonomy[df_taxonomy.taxonomy.str.contains(phylum)] # в этой таблице вручную определяем подпапки из принта следующих 2х команд"
   ],
   "id": "b5df182b44647896",
   "outputs": [],
   "execution_count": 4
  },
  {
   "metadata": {
    "ExecuteTime": {
     "end_time": "2025-05-28T12:21:14.031516Z",
     "start_time": "2025-05-28T12:21:14.029866Z"
    }
   },
   "cell_type": "code",
   "source": [
    "# создаем принт таксономии для исследуемой филы\n",
    "# df_for_analysis.to_csv(f\"../{phylum}_taxonomy.tsv\", sep=\"\\t\", header=False)\n",
    "# create_taxonomy(f\"../{phylum}_taxonomy.tsv\")"
   ],
   "id": "778bf758da7225c8",
   "outputs": [],
   "execution_count": 5
  },
  {
   "metadata": {
    "ExecuteTime": {
     "end_time": "2025-05-28T12:21:14.082126Z",
     "start_time": "2025-05-28T12:21:14.078662Z"
    }
   },
   "cell_type": "code",
   "source": [
    "# создаем словарь taxids для последующей загрузки файлов\n",
    "sub_phylum_list = [\"Nematoda\", \"Scalidophora\", \"Chelicerata\", \"Crustacea\", \"Polyneoptera\", \"Paraneoptera\", \"Endopterygota\"]\n",
    "taxids = create_taxids(df_for_analysis, sub_phylum_list)"
   ],
   "id": "b93b5799f2dfcf9",
   "outputs": [],
   "execution_count": 6
  },
  {
   "metadata": {
    "ExecuteTime": {
     "end_time": "2025-05-28T12:21:14.128356Z",
     "start_time": "2025-05-28T12:21:14.126932Z"
    }
   },
   "cell_type": "code",
   "source": [
    "# загружаем файлы через datasets: gene, rna, cds, protein; exons (создаются автоматически после загрузки файлов)\n",
    "\n",
    "# закомментировать, когда все загрузится!\n",
    "# download_all_files_ncbi(df, taxids, phylas=list(taxids.keys()))"
   ],
   "id": "c6f741dd908d3910",
   "outputs": [],
   "execution_count": 7
  },
  {
   "metadata": {
    "ExecuteTime": {
     "end_time": "2025-05-28T12:21:14.190500Z",
     "start_time": "2025-05-28T12:21:14.175009Z"
    }
   },
   "cell_type": "code",
   "source": [
    "# определяем, у каких видов больше 1 транскрипта\n",
    "# запускаем еще раз после прогона следующей ячейки, чтобы убедиться, что все удалилось\n",
    "species_to_update = check_transcript_count(sub_phylum_list)"
   ],
   "id": "90ee2d56e7f9fa0",
   "outputs": [],
   "execution_count": 8
  },
  {
   "metadata": {
    "ExecuteTime": {
     "end_time": "2025-05-28T12:21:14.224843Z",
     "start_time": "2025-05-28T12:21:14.223154Z"
    }
   },
   "cell_type": "code",
   "source": [
    "# удаляем все транскрипты, кроме 1-го - он, как правило, самый адекватный\n",
    "\n",
    "# закомментировать, когда все обновится!\n",
    "# update_data_for_species(species_to_update)"
   ],
   "id": "7527c0818276a235",
   "outputs": [],
   "execution_count": 9
  },
  {
   "metadata": {
    "ExecuteTime": {
     "end_time": "2025-05-28T12:21:14.359011Z",
     "start_time": "2025-05-28T12:21:14.272842Z"
    }
   },
   "cell_type": "code",
   "source": [
    "# создаем словарь data_phylum для видов, у которых в экзонах нашелся экзон размером 37 нт для дальнейшего создания кассет\n",
    "for sub_phylum in sub_phylum_list:\n",
    "    data, found_org_name_i = find_cassettes(sub_phylum)\n",
    "    # и сразу создаем кассеты для найденных данных\n",
    "    introns = create_many_cassettes(sub_phylum, data)\n",
    "    # и еще создаем выравнивания cds_cassette для всех sub_phylum (на всякий случай)\n",
    "    create_alignment(sub_phylum, found_org_name_i)\n",
    "\n",
    "# удалил Chelicerata/centruroides_sculpturatus_3, вылезла ошибка"
   ],
   "id": "83dc81c3ed906714",
   "outputs": [],
   "execution_count": 10
  },
  {
   "metadata": {},
   "cell_type": "markdown",
   "source": "### Анализ интрона для всех выбранных сабфил",
   "id": "ca57e29c37be666"
  },
  {
   "metadata": {
    "ExecuteTime": {
     "end_time": "2025-05-28T12:21:14.411179Z",
     "start_time": "2025-05-28T12:21:14.371390Z"
    }
   },
   "cell_type": "code",
   "source": [
    "# сначала создаем словарь с данными\n",
    "dict_align_info = create_dict_align_info(sub_phylum_list)"
   ],
   "id": "43aba5e9a69e3ede",
   "outputs": [],
   "execution_count": 11
  },
  {
   "metadata": {
    "ExecuteTime": {
     "end_time": "2025-05-28T12:21:14.433538Z",
     "start_time": "2025-05-28T12:21:14.422838Z"
    }
   },
   "cell_type": "code",
   "source": [
    "# проверяем, чтобы в столбце equal_to_cds было везде True - это значит, что cds начинается со старт-кодона и заканчивается стоп-кодоном\n",
    "df_cds, dict_align_cds = dict_align_info_analyze(dict_align_info, \"cds\")\n",
    "df_cds.equal_to_cds.unique()"
   ],
   "id": "3716e1670f06ef2b",
   "outputs": [
    {
     "data": {
      "text/plain": [
       "array([ True])"
      ]
     },
     "execution_count": 12,
     "metadata": {},
     "output_type": "execute_result"
    }
   ],
   "execution_count": 12
  },
  {
   "metadata": {
    "ExecuteTime": {
     "end_time": "2025-05-28T12:21:14.488989Z",
     "start_time": "2025-05-28T12:21:14.477490Z"
    }
   },
   "cell_type": "code",
   "source": [
    "# смотрим на позиции стоп-кодона в интроне в его сохранении в cds\n",
    "\n",
    "df_cds_cassette, dict_align_cds_cassette = dict_align_info_analyze(dict_align_info, \"cds_cassette\")\n",
    "df_cds_cassette"
   ],
   "id": "ea8a153f27d49c8",
   "outputs": [
    {
     "data": {
      "text/plain": [
       "       sub_phylum        org_name_protein_id                org_name  \\\n",
       "0        Nematoda     trichinella_spiralis_3    Trichinella_spiralis   \n",
       "1        Nematoda            brugia_malayi_2           Brugia_malayi   \n",
       "2        Nematoda   caenorhabditis_elegans_0  Caenorhabditis_elegans   \n",
       "3    Scalidophora       priapulus_caudatus_0      Priapulus_caudatus   \n",
       "4     Chelicerata        varroa_destructor_5       Varroa_destructor   \n",
       "..            ...                        ...                     ...   \n",
       "65  Endopterygota   acromyrmex_echinatior_59   Acromyrmex_echinatior   \n",
       "66  Endopterygota       orussus_abietinus_39       Orussus_abietinus   \n",
       "67  Endopterygota      aphidius_gifuensis_42      Aphidius_gifuensis   \n",
       "68  Endopterygota      aphidius_gifuensis_43      Aphidius_gifuensis   \n",
       "69  Endopterygota  leptopilina_heterotoma_31  Leptopilina_heterotoma   \n",
       "\n",
       "    stop_codon_pos  equal_to_cds  cassette_intron_start  \\\n",
       "0               84         False                     83   \n",
       "1             1095         False                    956   \n",
       "2             1089         False                    896   \n",
       "3             1083         False                   1082   \n",
       "4              954         False                    932   \n",
       "..             ...           ...                    ...   \n",
       "65            1062         False                   1061   \n",
       "66            1026         False                   1025   \n",
       "67            1011         False                   1010   \n",
       "68            1179         False                   1016   \n",
       "69            1041         False                   1040   \n",
       "\n",
       "    intron_length_to_stop_codon  intron_length  first_exon_length    source  \n",
       "0                             1            417                 83  datasets  \n",
       "1                           139            243                110  datasets  \n",
       "2                           193            106                110  datasets  \n",
       "3                             1           2114                110  datasets  \n",
       "4                            22           3077                110  datasets  \n",
       "..                          ...            ...                ...       ...  \n",
       "65                            1            438                113  datasets  \n",
       "66                            1             74                113  datasets  \n",
       "67                            1            240                113  datasets  \n",
       "68                          163            246                113  datasets  \n",
       "69                            1            921                113  datasets  \n",
       "\n",
       "[70 rows x 10 columns]"
      ],
      "text/html": [
       "<div>\n",
       "<style scoped>\n",
       "    .dataframe tbody tr th:only-of-type {\n",
       "        vertical-align: middle;\n",
       "    }\n",
       "\n",
       "    .dataframe tbody tr th {\n",
       "        vertical-align: top;\n",
       "    }\n",
       "\n",
       "    .dataframe thead th {\n",
       "        text-align: right;\n",
       "    }\n",
       "</style>\n",
       "<table border=\"1\" class=\"dataframe\">\n",
       "  <thead>\n",
       "    <tr style=\"text-align: right;\">\n",
       "      <th></th>\n",
       "      <th>sub_phylum</th>\n",
       "      <th>org_name_protein_id</th>\n",
       "      <th>org_name</th>\n",
       "      <th>stop_codon_pos</th>\n",
       "      <th>equal_to_cds</th>\n",
       "      <th>cassette_intron_start</th>\n",
       "      <th>intron_length_to_stop_codon</th>\n",
       "      <th>intron_length</th>\n",
       "      <th>first_exon_length</th>\n",
       "      <th>source</th>\n",
       "    </tr>\n",
       "  </thead>\n",
       "  <tbody>\n",
       "    <tr>\n",
       "      <th>0</th>\n",
       "      <td>Nematoda</td>\n",
       "      <td>trichinella_spiralis_3</td>\n",
       "      <td>Trichinella_spiralis</td>\n",
       "      <td>84</td>\n",
       "      <td>False</td>\n",
       "      <td>83</td>\n",
       "      <td>1</td>\n",
       "      <td>417</td>\n",
       "      <td>83</td>\n",
       "      <td>datasets</td>\n",
       "    </tr>\n",
       "    <tr>\n",
       "      <th>1</th>\n",
       "      <td>Nematoda</td>\n",
       "      <td>brugia_malayi_2</td>\n",
       "      <td>Brugia_malayi</td>\n",
       "      <td>1095</td>\n",
       "      <td>False</td>\n",
       "      <td>956</td>\n",
       "      <td>139</td>\n",
       "      <td>243</td>\n",
       "      <td>110</td>\n",
       "      <td>datasets</td>\n",
       "    </tr>\n",
       "    <tr>\n",
       "      <th>2</th>\n",
       "      <td>Nematoda</td>\n",
       "      <td>caenorhabditis_elegans_0</td>\n",
       "      <td>Caenorhabditis_elegans</td>\n",
       "      <td>1089</td>\n",
       "      <td>False</td>\n",
       "      <td>896</td>\n",
       "      <td>193</td>\n",
       "      <td>106</td>\n",
       "      <td>110</td>\n",
       "      <td>datasets</td>\n",
       "    </tr>\n",
       "    <tr>\n",
       "      <th>3</th>\n",
       "      <td>Scalidophora</td>\n",
       "      <td>priapulus_caudatus_0</td>\n",
       "      <td>Priapulus_caudatus</td>\n",
       "      <td>1083</td>\n",
       "      <td>False</td>\n",
       "      <td>1082</td>\n",
       "      <td>1</td>\n",
       "      <td>2114</td>\n",
       "      <td>110</td>\n",
       "      <td>datasets</td>\n",
       "    </tr>\n",
       "    <tr>\n",
       "      <th>4</th>\n",
       "      <td>Chelicerata</td>\n",
       "      <td>varroa_destructor_5</td>\n",
       "      <td>Varroa_destructor</td>\n",
       "      <td>954</td>\n",
       "      <td>False</td>\n",
       "      <td>932</td>\n",
       "      <td>22</td>\n",
       "      <td>3077</td>\n",
       "      <td>110</td>\n",
       "      <td>datasets</td>\n",
       "    </tr>\n",
       "    <tr>\n",
       "      <th>...</th>\n",
       "      <td>...</td>\n",
       "      <td>...</td>\n",
       "      <td>...</td>\n",
       "      <td>...</td>\n",
       "      <td>...</td>\n",
       "      <td>...</td>\n",
       "      <td>...</td>\n",
       "      <td>...</td>\n",
       "      <td>...</td>\n",
       "      <td>...</td>\n",
       "    </tr>\n",
       "    <tr>\n",
       "      <th>65</th>\n",
       "      <td>Endopterygota</td>\n",
       "      <td>acromyrmex_echinatior_59</td>\n",
       "      <td>Acromyrmex_echinatior</td>\n",
       "      <td>1062</td>\n",
       "      <td>False</td>\n",
       "      <td>1061</td>\n",
       "      <td>1</td>\n",
       "      <td>438</td>\n",
       "      <td>113</td>\n",
       "      <td>datasets</td>\n",
       "    </tr>\n",
       "    <tr>\n",
       "      <th>66</th>\n",
       "      <td>Endopterygota</td>\n",
       "      <td>orussus_abietinus_39</td>\n",
       "      <td>Orussus_abietinus</td>\n",
       "      <td>1026</td>\n",
       "      <td>False</td>\n",
       "      <td>1025</td>\n",
       "      <td>1</td>\n",
       "      <td>74</td>\n",
       "      <td>113</td>\n",
       "      <td>datasets</td>\n",
       "    </tr>\n",
       "    <tr>\n",
       "      <th>67</th>\n",
       "      <td>Endopterygota</td>\n",
       "      <td>aphidius_gifuensis_42</td>\n",
       "      <td>Aphidius_gifuensis</td>\n",
       "      <td>1011</td>\n",
       "      <td>False</td>\n",
       "      <td>1010</td>\n",
       "      <td>1</td>\n",
       "      <td>240</td>\n",
       "      <td>113</td>\n",
       "      <td>datasets</td>\n",
       "    </tr>\n",
       "    <tr>\n",
       "      <th>68</th>\n",
       "      <td>Endopterygota</td>\n",
       "      <td>aphidius_gifuensis_43</td>\n",
       "      <td>Aphidius_gifuensis</td>\n",
       "      <td>1179</td>\n",
       "      <td>False</td>\n",
       "      <td>1016</td>\n",
       "      <td>163</td>\n",
       "      <td>246</td>\n",
       "      <td>113</td>\n",
       "      <td>datasets</td>\n",
       "    </tr>\n",
       "    <tr>\n",
       "      <th>69</th>\n",
       "      <td>Endopterygota</td>\n",
       "      <td>leptopilina_heterotoma_31</td>\n",
       "      <td>Leptopilina_heterotoma</td>\n",
       "      <td>1041</td>\n",
       "      <td>False</td>\n",
       "      <td>1040</td>\n",
       "      <td>1</td>\n",
       "      <td>921</td>\n",
       "      <td>113</td>\n",
       "      <td>datasets</td>\n",
       "    </tr>\n",
       "  </tbody>\n",
       "</table>\n",
       "<p>70 rows × 10 columns</p>\n",
       "</div>"
      ]
     },
     "execution_count": 13,
     "metadata": {},
     "output_type": "execute_result"
    }
   ],
   "execution_count": 13
  },
  {
   "metadata": {
    "ExecuteTime": {
     "end_time": "2025-05-28T12:21:14.553380Z",
     "start_time": "2025-05-28T12:21:14.547526Z"
    }
   },
   "cell_type": "code",
   "source": [
    "# ищем дубликаты\n",
    "df_cds_cassette[df_cds_cassette[\"org_name\"].duplicated(keep=False)]"
   ],
   "id": "ad486ae4a85dfee2",
   "outputs": [
    {
     "data": {
      "text/plain": [
       "       sub_phylum        org_name_protein_id                 org_name  \\\n",
       "11      Crustacea  amphibalanus_amphitrite_0  Amphibalanus_amphitrite   \n",
       "14      Crustacea  amphibalanus_amphitrite_1  Amphibalanus_amphitrite   \n",
       "17   Paraneoptera      melanaphis_sacchari_8      Melanaphis_sacchari   \n",
       "18   Paraneoptera          myzus_persicae_11           Myzus_persicae   \n",
       "19   Paraneoptera     acyrthosiphon_pisum_14      Acyrthosiphon_pisum   \n",
       "20   Paraneoptera         diuraphis_noxia_13          Diuraphis_noxia   \n",
       "21   Paraneoptera      melanaphis_sacchari_5      Melanaphis_sacchari   \n",
       "22   Paraneoptera              sipha_flava_1              Sipha_flava   \n",
       "24   Paraneoptera      melanaphis_sacchari_9      Melanaphis_sacchari   \n",
       "25   Paraneoptera         diuraphis_noxia_12          Diuraphis_noxia   \n",
       "26   Paraneoptera      melanaphis_sacchari_7      Melanaphis_sacchari   \n",
       "27   Paraneoptera     acyrthosiphon_pisum_17      Acyrthosiphon_pisum   \n",
       "28   Paraneoptera              sipha_flava_2              Sipha_flava   \n",
       "29   Paraneoptera          myzus_persicae_10           Myzus_persicae   \n",
       "33   Paraneoptera              sipha_flava_0              Sipha_flava   \n",
       "41  Endopterygota    vespula_pensylvanica_13     Vespula_pensylvanica   \n",
       "43  Endopterygota    vespula_pensylvanica_14     Vespula_pensylvanica   \n",
       "51  Endopterygota       polistes_fuscatus_50        Polistes_fuscatus   \n",
       "53  Endopterygota       polistes_fuscatus_51        Polistes_fuscatus   \n",
       "57  Endopterygota  leptopilina_heterotoma_32   Leptopilina_heterotoma   \n",
       "63  Endopterygota       polistes_fuscatus_49        Polistes_fuscatus   \n",
       "67  Endopterygota      aphidius_gifuensis_42       Aphidius_gifuensis   \n",
       "68  Endopterygota      aphidius_gifuensis_43       Aphidius_gifuensis   \n",
       "69  Endopterygota  leptopilina_heterotoma_31   Leptopilina_heterotoma   \n",
       "\n",
       "    stop_codon_pos  equal_to_cds  cassette_intron_start  \\\n",
       "11            1173         False                   1100   \n",
       "14            1170         False                   1100   \n",
       "17            1185         False                   1184   \n",
       "18            1110         False                   1043   \n",
       "19             384         False                    383   \n",
       "20            1080         False                   1043   \n",
       "21            1134         False                   1037   \n",
       "22            1038         False                   1037   \n",
       "24            1065         False                   1028   \n",
       "25            1239         False                   1238   \n",
       "26            1134         False                   1037   \n",
       "27            1071         False                   1043   \n",
       "28             960         False                    959   \n",
       "29            1167         False                   1166   \n",
       "33            1125         False                   1037   \n",
       "41            1017         False                   1016   \n",
       "43            1035         False                   1034   \n",
       "51            1035         False                   1034   \n",
       "53            1035         False                   1034   \n",
       "57            1107         False                   1106   \n",
       "63            1035         False                   1034   \n",
       "67            1011         False                   1010   \n",
       "68            1179         False                   1016   \n",
       "69            1041         False                   1040   \n",
       "\n",
       "    intron_length_to_stop_codon  intron_length  first_exon_length    source  \n",
       "11                           73            369                110  datasets  \n",
       "14                           70            392                110  datasets  \n",
       "17                            1            779                107  datasets  \n",
       "18                           67             70                107  datasets  \n",
       "19                            1           1196                107  datasets  \n",
       "20                           37             70                107  datasets  \n",
       "21                           97             71                107  datasets  \n",
       "22                            1             58                107  datasets  \n",
       "24                           37             77                107  datasets  \n",
       "25                            1            742                107  datasets  \n",
       "26                           97             71                107  datasets  \n",
       "27                           28             68                107  datasets  \n",
       "28                            1             61                107  datasets  \n",
       "29                            1            772                107  datasets  \n",
       "33                           88             58                107  datasets  \n",
       "41                            1            273                113  datasets  \n",
       "43                            1            363                113  datasets  \n",
       "51                            1            400                113  datasets  \n",
       "53                            1            400                113  datasets  \n",
       "57                            1           1269                307  datasets  \n",
       "63                            1            400                113  datasets  \n",
       "67                            1            240                113  datasets  \n",
       "68                          163            246                113  datasets  \n",
       "69                            1            921                113  datasets  "
      ],
      "text/html": [
       "<div>\n",
       "<style scoped>\n",
       "    .dataframe tbody tr th:only-of-type {\n",
       "        vertical-align: middle;\n",
       "    }\n",
       "\n",
       "    .dataframe tbody tr th {\n",
       "        vertical-align: top;\n",
       "    }\n",
       "\n",
       "    .dataframe thead th {\n",
       "        text-align: right;\n",
       "    }\n",
       "</style>\n",
       "<table border=\"1\" class=\"dataframe\">\n",
       "  <thead>\n",
       "    <tr style=\"text-align: right;\">\n",
       "      <th></th>\n",
       "      <th>sub_phylum</th>\n",
       "      <th>org_name_protein_id</th>\n",
       "      <th>org_name</th>\n",
       "      <th>stop_codon_pos</th>\n",
       "      <th>equal_to_cds</th>\n",
       "      <th>cassette_intron_start</th>\n",
       "      <th>intron_length_to_stop_codon</th>\n",
       "      <th>intron_length</th>\n",
       "      <th>first_exon_length</th>\n",
       "      <th>source</th>\n",
       "    </tr>\n",
       "  </thead>\n",
       "  <tbody>\n",
       "    <tr>\n",
       "      <th>11</th>\n",
       "      <td>Crustacea</td>\n",
       "      <td>amphibalanus_amphitrite_0</td>\n",
       "      <td>Amphibalanus_amphitrite</td>\n",
       "      <td>1173</td>\n",
       "      <td>False</td>\n",
       "      <td>1100</td>\n",
       "      <td>73</td>\n",
       "      <td>369</td>\n",
       "      <td>110</td>\n",
       "      <td>datasets</td>\n",
       "    </tr>\n",
       "    <tr>\n",
       "      <th>14</th>\n",
       "      <td>Crustacea</td>\n",
       "      <td>amphibalanus_amphitrite_1</td>\n",
       "      <td>Amphibalanus_amphitrite</td>\n",
       "      <td>1170</td>\n",
       "      <td>False</td>\n",
       "      <td>1100</td>\n",
       "      <td>70</td>\n",
       "      <td>392</td>\n",
       "      <td>110</td>\n",
       "      <td>datasets</td>\n",
       "    </tr>\n",
       "    <tr>\n",
       "      <th>17</th>\n",
       "      <td>Paraneoptera</td>\n",
       "      <td>melanaphis_sacchari_8</td>\n",
       "      <td>Melanaphis_sacchari</td>\n",
       "      <td>1185</td>\n",
       "      <td>False</td>\n",
       "      <td>1184</td>\n",
       "      <td>1</td>\n",
       "      <td>779</td>\n",
       "      <td>107</td>\n",
       "      <td>datasets</td>\n",
       "    </tr>\n",
       "    <tr>\n",
       "      <th>18</th>\n",
       "      <td>Paraneoptera</td>\n",
       "      <td>myzus_persicae_11</td>\n",
       "      <td>Myzus_persicae</td>\n",
       "      <td>1110</td>\n",
       "      <td>False</td>\n",
       "      <td>1043</td>\n",
       "      <td>67</td>\n",
       "      <td>70</td>\n",
       "      <td>107</td>\n",
       "      <td>datasets</td>\n",
       "    </tr>\n",
       "    <tr>\n",
       "      <th>19</th>\n",
       "      <td>Paraneoptera</td>\n",
       "      <td>acyrthosiphon_pisum_14</td>\n",
       "      <td>Acyrthosiphon_pisum</td>\n",
       "      <td>384</td>\n",
       "      <td>False</td>\n",
       "      <td>383</td>\n",
       "      <td>1</td>\n",
       "      <td>1196</td>\n",
       "      <td>107</td>\n",
       "      <td>datasets</td>\n",
       "    </tr>\n",
       "    <tr>\n",
       "      <th>20</th>\n",
       "      <td>Paraneoptera</td>\n",
       "      <td>diuraphis_noxia_13</td>\n",
       "      <td>Diuraphis_noxia</td>\n",
       "      <td>1080</td>\n",
       "      <td>False</td>\n",
       "      <td>1043</td>\n",
       "      <td>37</td>\n",
       "      <td>70</td>\n",
       "      <td>107</td>\n",
       "      <td>datasets</td>\n",
       "    </tr>\n",
       "    <tr>\n",
       "      <th>21</th>\n",
       "      <td>Paraneoptera</td>\n",
       "      <td>melanaphis_sacchari_5</td>\n",
       "      <td>Melanaphis_sacchari</td>\n",
       "      <td>1134</td>\n",
       "      <td>False</td>\n",
       "      <td>1037</td>\n",
       "      <td>97</td>\n",
       "      <td>71</td>\n",
       "      <td>107</td>\n",
       "      <td>datasets</td>\n",
       "    </tr>\n",
       "    <tr>\n",
       "      <th>22</th>\n",
       "      <td>Paraneoptera</td>\n",
       "      <td>sipha_flava_1</td>\n",
       "      <td>Sipha_flava</td>\n",
       "      <td>1038</td>\n",
       "      <td>False</td>\n",
       "      <td>1037</td>\n",
       "      <td>1</td>\n",
       "      <td>58</td>\n",
       "      <td>107</td>\n",
       "      <td>datasets</td>\n",
       "    </tr>\n",
       "    <tr>\n",
       "      <th>24</th>\n",
       "      <td>Paraneoptera</td>\n",
       "      <td>melanaphis_sacchari_9</td>\n",
       "      <td>Melanaphis_sacchari</td>\n",
       "      <td>1065</td>\n",
       "      <td>False</td>\n",
       "      <td>1028</td>\n",
       "      <td>37</td>\n",
       "      <td>77</td>\n",
       "      <td>107</td>\n",
       "      <td>datasets</td>\n",
       "    </tr>\n",
       "    <tr>\n",
       "      <th>25</th>\n",
       "      <td>Paraneoptera</td>\n",
       "      <td>diuraphis_noxia_12</td>\n",
       "      <td>Diuraphis_noxia</td>\n",
       "      <td>1239</td>\n",
       "      <td>False</td>\n",
       "      <td>1238</td>\n",
       "      <td>1</td>\n",
       "      <td>742</td>\n",
       "      <td>107</td>\n",
       "      <td>datasets</td>\n",
       "    </tr>\n",
       "    <tr>\n",
       "      <th>26</th>\n",
       "      <td>Paraneoptera</td>\n",
       "      <td>melanaphis_sacchari_7</td>\n",
       "      <td>Melanaphis_sacchari</td>\n",
       "      <td>1134</td>\n",
       "      <td>False</td>\n",
       "      <td>1037</td>\n",
       "      <td>97</td>\n",
       "      <td>71</td>\n",
       "      <td>107</td>\n",
       "      <td>datasets</td>\n",
       "    </tr>\n",
       "    <tr>\n",
       "      <th>27</th>\n",
       "      <td>Paraneoptera</td>\n",
       "      <td>acyrthosiphon_pisum_17</td>\n",
       "      <td>Acyrthosiphon_pisum</td>\n",
       "      <td>1071</td>\n",
       "      <td>False</td>\n",
       "      <td>1043</td>\n",
       "      <td>28</td>\n",
       "      <td>68</td>\n",
       "      <td>107</td>\n",
       "      <td>datasets</td>\n",
       "    </tr>\n",
       "    <tr>\n",
       "      <th>28</th>\n",
       "      <td>Paraneoptera</td>\n",
       "      <td>sipha_flava_2</td>\n",
       "      <td>Sipha_flava</td>\n",
       "      <td>960</td>\n",
       "      <td>False</td>\n",
       "      <td>959</td>\n",
       "      <td>1</td>\n",
       "      <td>61</td>\n",
       "      <td>107</td>\n",
       "      <td>datasets</td>\n",
       "    </tr>\n",
       "    <tr>\n",
       "      <th>29</th>\n",
       "      <td>Paraneoptera</td>\n",
       "      <td>myzus_persicae_10</td>\n",
       "      <td>Myzus_persicae</td>\n",
       "      <td>1167</td>\n",
       "      <td>False</td>\n",
       "      <td>1166</td>\n",
       "      <td>1</td>\n",
       "      <td>772</td>\n",
       "      <td>107</td>\n",
       "      <td>datasets</td>\n",
       "    </tr>\n",
       "    <tr>\n",
       "      <th>33</th>\n",
       "      <td>Paraneoptera</td>\n",
       "      <td>sipha_flava_0</td>\n",
       "      <td>Sipha_flava</td>\n",
       "      <td>1125</td>\n",
       "      <td>False</td>\n",
       "      <td>1037</td>\n",
       "      <td>88</td>\n",
       "      <td>58</td>\n",
       "      <td>107</td>\n",
       "      <td>datasets</td>\n",
       "    </tr>\n",
       "    <tr>\n",
       "      <th>41</th>\n",
       "      <td>Endopterygota</td>\n",
       "      <td>vespula_pensylvanica_13</td>\n",
       "      <td>Vespula_pensylvanica</td>\n",
       "      <td>1017</td>\n",
       "      <td>False</td>\n",
       "      <td>1016</td>\n",
       "      <td>1</td>\n",
       "      <td>273</td>\n",
       "      <td>113</td>\n",
       "      <td>datasets</td>\n",
       "    </tr>\n",
       "    <tr>\n",
       "      <th>43</th>\n",
       "      <td>Endopterygota</td>\n",
       "      <td>vespula_pensylvanica_14</td>\n",
       "      <td>Vespula_pensylvanica</td>\n",
       "      <td>1035</td>\n",
       "      <td>False</td>\n",
       "      <td>1034</td>\n",
       "      <td>1</td>\n",
       "      <td>363</td>\n",
       "      <td>113</td>\n",
       "      <td>datasets</td>\n",
       "    </tr>\n",
       "    <tr>\n",
       "      <th>51</th>\n",
       "      <td>Endopterygota</td>\n",
       "      <td>polistes_fuscatus_50</td>\n",
       "      <td>Polistes_fuscatus</td>\n",
       "      <td>1035</td>\n",
       "      <td>False</td>\n",
       "      <td>1034</td>\n",
       "      <td>1</td>\n",
       "      <td>400</td>\n",
       "      <td>113</td>\n",
       "      <td>datasets</td>\n",
       "    </tr>\n",
       "    <tr>\n",
       "      <th>53</th>\n",
       "      <td>Endopterygota</td>\n",
       "      <td>polistes_fuscatus_51</td>\n",
       "      <td>Polistes_fuscatus</td>\n",
       "      <td>1035</td>\n",
       "      <td>False</td>\n",
       "      <td>1034</td>\n",
       "      <td>1</td>\n",
       "      <td>400</td>\n",
       "      <td>113</td>\n",
       "      <td>datasets</td>\n",
       "    </tr>\n",
       "    <tr>\n",
       "      <th>57</th>\n",
       "      <td>Endopterygota</td>\n",
       "      <td>leptopilina_heterotoma_32</td>\n",
       "      <td>Leptopilina_heterotoma</td>\n",
       "      <td>1107</td>\n",
       "      <td>False</td>\n",
       "      <td>1106</td>\n",
       "      <td>1</td>\n",
       "      <td>1269</td>\n",
       "      <td>307</td>\n",
       "      <td>datasets</td>\n",
       "    </tr>\n",
       "    <tr>\n",
       "      <th>63</th>\n",
       "      <td>Endopterygota</td>\n",
       "      <td>polistes_fuscatus_49</td>\n",
       "      <td>Polistes_fuscatus</td>\n",
       "      <td>1035</td>\n",
       "      <td>False</td>\n",
       "      <td>1034</td>\n",
       "      <td>1</td>\n",
       "      <td>400</td>\n",
       "      <td>113</td>\n",
       "      <td>datasets</td>\n",
       "    </tr>\n",
       "    <tr>\n",
       "      <th>67</th>\n",
       "      <td>Endopterygota</td>\n",
       "      <td>aphidius_gifuensis_42</td>\n",
       "      <td>Aphidius_gifuensis</td>\n",
       "      <td>1011</td>\n",
       "      <td>False</td>\n",
       "      <td>1010</td>\n",
       "      <td>1</td>\n",
       "      <td>240</td>\n",
       "      <td>113</td>\n",
       "      <td>datasets</td>\n",
       "    </tr>\n",
       "    <tr>\n",
       "      <th>68</th>\n",
       "      <td>Endopterygota</td>\n",
       "      <td>aphidius_gifuensis_43</td>\n",
       "      <td>Aphidius_gifuensis</td>\n",
       "      <td>1179</td>\n",
       "      <td>False</td>\n",
       "      <td>1016</td>\n",
       "      <td>163</td>\n",
       "      <td>246</td>\n",
       "      <td>113</td>\n",
       "      <td>datasets</td>\n",
       "    </tr>\n",
       "    <tr>\n",
       "      <th>69</th>\n",
       "      <td>Endopterygota</td>\n",
       "      <td>leptopilina_heterotoma_31</td>\n",
       "      <td>Leptopilina_heterotoma</td>\n",
       "      <td>1041</td>\n",
       "      <td>False</td>\n",
       "      <td>1040</td>\n",
       "      <td>1</td>\n",
       "      <td>921</td>\n",
       "      <td>113</td>\n",
       "      <td>datasets</td>\n",
       "    </tr>\n",
       "  </tbody>\n",
       "</table>\n",
       "</div>"
      ]
     },
     "execution_count": 14,
     "metadata": {},
     "output_type": "execute_result"
    }
   ],
   "execution_count": 14
  },
  {
   "metadata": {
    "ExecuteTime": {
     "end_time": "2025-05-28T12:21:14.631563Z",
     "start_time": "2025-05-28T12:21:14.629303Z"
    }
   },
   "cell_type": "code",
   "source": [
    "# удаляем дубликаты\n",
    "\n",
    "# -----------------\n",
    "# 19 - acyrthosiphon_pisum_14 - слишком длинный интрон в сравнении\n",
    "# 14 - amphibalanus_amphitrite_1 - дубликат, старая сборка\n",
    "# 68 - aphidius_gifuensis_43 - дубликат, старая сборка\n",
    "# 20 - diuraphis_noxia_13 - дубликат\n",
    "# 57 - leptopilina_heterotoma_32 - дубликат\n",
    "# 26, 17, 24 - melanaphis_sacchari_7, melanaphis_sacchari_8, melanaphis_sacchari_9 - четвертипликат\n",
    "# 18 - myzus_persicae_11 - дубликат\n",
    "# 51, 53 - polistes_fuscatus_50, polistes_fuscatus_51 - трипликат\n",
    "# 33, 28 - sipha_flava_0, sipha_flava_2 - трипликат\n",
    "# 41 - vespula_pensylvanica_13 - дубликат\n",
    "# -----------------\n",
    "\n",
    "indices_to_drop = [19, 14, 68, 20, 57, 26, 17, 24, 18, 51, 53, 33, 28, 41]\n",
    "df_cds_cassette = df_cds_cassette.drop(indices_to_drop)"
   ],
   "id": "db1a5de76ea23f74",
   "outputs": [],
   "execution_count": 15
  },
  {
   "metadata": {
    "ExecuteTime": {
     "end_time": "2025-05-28T12:21:14.733897Z",
     "start_time": "2025-05-28T12:21:14.731319Z"
    }
   },
   "cell_type": "code",
   "source": [
    "# сохраняем табличку для последующей загрузки в results_summary ноутбук\n",
    "df_cds_cassette.to_csv(f\"../results_summary/datasets_{phylum}_cds_cassette.tsv\", sep=\"\\t\", index=False)\n",
    "\n",
    "# 2 - Caenorhabditis_elegans - интрон полностью считывается!!!\n",
    "# 31 - Rhopalosiphum_maidis - интрон полностью считывается!!!"
   ],
   "id": "2547e738a9265a7b",
   "outputs": [],
   "execution_count": 16
  },
  {
   "metadata": {},
   "cell_type": "markdown",
   "source": "## Spiralia",
   "id": "f7797c897807d6a9"
  },
  {
   "metadata": {},
   "cell_type": "markdown",
   "source": "### Загрузка данных и создание кассет",
   "id": "d327bb57944e134"
  },
  {
   "metadata": {
    "ExecuteTime": {
     "end_time": "2025-05-28T12:21:14.842451Z",
     "start_time": "2025-05-28T12:21:14.840221Z"
    }
   },
   "cell_type": "code",
   "source": [
    "# создаем сабсет таблицы для исследуемой филы\n",
    "phylum = \"Spiralia\"\n",
    "df_for_analysis = df_taxonomy[df_taxonomy.taxonomy.str.contains(phylum)] # в этой таблице вручную определяем подпапки из принта следующих 2х команд"
   ],
   "id": "953ca03cd04e4399",
   "outputs": [],
   "execution_count": 17
  },
  {
   "metadata": {
    "ExecuteTime": {
     "end_time": "2025-05-28T12:21:14.900475Z",
     "start_time": "2025-05-28T12:21:14.898758Z"
    }
   },
   "cell_type": "code",
   "source": [
    "# создаем принт таксономии для исследуемой филы\n",
    "# df_for_analysis.to_csv(f\"../{phylum}_taxonomy.tsv\", sep=\"\\t\", header=False)\n",
    "# create_taxonomy(f\"../{phylum}_taxonomy.tsv\")"
   ],
   "id": "3c65d2d9ed4b701c",
   "outputs": [],
   "execution_count": 18
  },
  {
   "metadata": {
    "ExecuteTime": {
     "end_time": "2025-05-28T12:21:14.961549Z",
     "start_time": "2025-05-28T12:21:14.959016Z"
    }
   },
   "cell_type": "code",
   "source": [
    "# создаем словарь taxids для последующей загрузки файлов\n",
    "sub_phylum_list = [\"Platyhelminthes\", \"Bivalvia\", \"Gastropoda\", \"Brachiopoda\"]\n",
    "taxids = create_taxids(df_for_analysis, sub_phylum_list)"
   ],
   "id": "208eade2ddf09d9d",
   "outputs": [],
   "execution_count": 19
  },
  {
   "metadata": {
    "ExecuteTime": {
     "end_time": "2025-05-28T12:21:15.013525Z",
     "start_time": "2025-05-28T12:21:15.011619Z"
    }
   },
   "cell_type": "code",
   "source": [
    "# загружаем файлы через datasets: gene, rna, cds, protein; exons (создаются автоматически после загрузки файлов)\n",
    "\n",
    "# закомментировать, когда все загрузится!\n",
    "# download_all_files_ncbi(df, taxids, phylas=list(taxids.keys()))"
   ],
   "id": "fb36de935fc0b412",
   "outputs": [],
   "execution_count": 20
  },
  {
   "metadata": {
    "ExecuteTime": {
     "end_time": "2025-05-28T12:21:15.071556Z",
     "start_time": "2025-05-28T12:21:15.065383Z"
    }
   },
   "cell_type": "code",
   "source": [
    "# определяем, у каких видов больше 1 транскрипта\n",
    "# запускаем еще раз после прогона следующей ячейки, чтобы убедиться, что все удалилось\n",
    "species_to_update = check_transcript_count(sub_phylum_list)"
   ],
   "id": "56e97cd620ef2efd",
   "outputs": [],
   "execution_count": 21
  },
  {
   "metadata": {
    "ExecuteTime": {
     "end_time": "2025-05-28T12:21:15.120194Z",
     "start_time": "2025-05-28T12:21:15.118513Z"
    }
   },
   "cell_type": "code",
   "source": [
    "# удаляем все транскрипты, кроме 1-го - он, как правило, самый адекватный\n",
    "\n",
    "# закомментировать, когда все обновится!\n",
    "# update_data_for_species(species_to_update)"
   ],
   "id": "fb280d9ea40e8402",
   "outputs": [],
   "execution_count": 22
  },
  {
   "metadata": {
    "ExecuteTime": {
     "end_time": "2025-05-28T12:21:15.244086Z",
     "start_time": "2025-05-28T12:21:15.230389Z"
    }
   },
   "cell_type": "code",
   "source": [
    "# создаем словарь data_phylum для видов, у которых в экзонах нашелся экзон размером 37 нт для дальнейшего создания кассет\n",
    "for sub_phylum in sub_phylum_list:\n",
    "    data, found_org_name_i = find_cassettes(sub_phylum)\n",
    "    # и сразу создаем кассеты для найденных данных\n",
    "    introns = create_many_cassettes(sub_phylum, data)\n",
    "    # и еще создаем выравнивания cds_cassette для всех sub_phylum (на всякий случай)\n",
    "    create_alignment(sub_phylum, found_org_name_i)"
   ],
   "id": "ad6dfd2c4d1adecb",
   "outputs": [],
   "execution_count": 23
  },
  {
   "metadata": {},
   "cell_type": "markdown",
   "source": "### Анализ интрона для всех выбранных сабфил",
   "id": "8c71729d98ec59ef"
  },
  {
   "metadata": {
    "ExecuteTime": {
     "end_time": "2025-05-28T12:21:15.286417Z",
     "start_time": "2025-05-28T12:21:15.280449Z"
    }
   },
   "cell_type": "code",
   "source": [
    "# сначала создаем словарь с данными\n",
    "dict_align_info = create_dict_align_info(sub_phylum_list)"
   ],
   "id": "9ae937feebbcc089",
   "outputs": [],
   "execution_count": 24
  },
  {
   "metadata": {
    "ExecuteTime": {
     "end_time": "2025-05-28T12:21:15.334644Z",
     "start_time": "2025-05-28T12:21:15.331053Z"
    }
   },
   "cell_type": "code",
   "source": [
    "# проверяем, чтобы в столбце equal_to_cds было везде True - это значит, что cds начинается со старт-кодона и заканчивается стоп-кодоном\n",
    "df_cds, dict_align_cds = dict_align_info_analyze(dict_align_info, \"cds\")\n",
    "df_cds.equal_to_cds.unique()"
   ],
   "id": "d332a056f657f05f",
   "outputs": [
    {
     "data": {
      "text/plain": [
       "array([ True])"
      ]
     },
     "execution_count": 25,
     "metadata": {},
     "output_type": "execute_result"
    }
   ],
   "execution_count": 25
  },
  {
   "metadata": {
    "ExecuteTime": {
     "end_time": "2025-05-28T12:21:15.388828Z",
     "start_time": "2025-05-28T12:21:15.383128Z"
    }
   },
   "cell_type": "code",
   "source": [
    "# смотрим на позиции стоп-кодона в интроне в его сохранении в cds\n",
    "\n",
    "df_cds_cassette, dict_align_cds_cassette = dict_align_info_analyze(dict_align_info, \"cds_cassette\")\n",
    "df_cds_cassette"
   ],
   "id": "76fd42be5313aa9d",
   "outputs": [
    {
     "data": {
      "text/plain": [
       "        sub_phylum        org_name_protein_id                 org_name  \\\n",
       "0  Platyhelminthes  schistosoma_haematobium_1  Schistosoma_haematobium   \n",
       "1         Bivalvia          magallana_gigas_2          Magallana_gigas   \n",
       "2         Bivalvia             mya_arenaria_0             Mya_arenaria   \n",
       "3         Bivalvia    crassostrea_virginica_1    Crassostrea_virginica   \n",
       "4       Gastropoda      aplysia_californica_2      Aplysia_californica   \n",
       "5       Gastropoda       gigantopelta_aegis_1       Gigantopelta_aegis   \n",
       "\n",
       "   stop_codon_pos  equal_to_cds  cassette_intron_start  \\\n",
       "0             981         False                    980   \n",
       "1            1035         False                   1034   \n",
       "2            1110         False                   1109   \n",
       "3            1110         False                   1109   \n",
       "4            1068         False                   1067   \n",
       "5            1050         False                   1049   \n",
       "\n",
       "   intron_length_to_stop_codon  intron_length  first_exon_length    source  \n",
       "0                            1            652                239  datasets  \n",
       "1                            1           1537                110  datasets  \n",
       "2                            1           1727                110  datasets  \n",
       "3                            1           1613                110  datasets  \n",
       "4                            1           4146                221  datasets  \n",
       "5                            1           1869                110  datasets  "
      ],
      "text/html": [
       "<div>\n",
       "<style scoped>\n",
       "    .dataframe tbody tr th:only-of-type {\n",
       "        vertical-align: middle;\n",
       "    }\n",
       "\n",
       "    .dataframe tbody tr th {\n",
       "        vertical-align: top;\n",
       "    }\n",
       "\n",
       "    .dataframe thead th {\n",
       "        text-align: right;\n",
       "    }\n",
       "</style>\n",
       "<table border=\"1\" class=\"dataframe\">\n",
       "  <thead>\n",
       "    <tr style=\"text-align: right;\">\n",
       "      <th></th>\n",
       "      <th>sub_phylum</th>\n",
       "      <th>org_name_protein_id</th>\n",
       "      <th>org_name</th>\n",
       "      <th>stop_codon_pos</th>\n",
       "      <th>equal_to_cds</th>\n",
       "      <th>cassette_intron_start</th>\n",
       "      <th>intron_length_to_stop_codon</th>\n",
       "      <th>intron_length</th>\n",
       "      <th>first_exon_length</th>\n",
       "      <th>source</th>\n",
       "    </tr>\n",
       "  </thead>\n",
       "  <tbody>\n",
       "    <tr>\n",
       "      <th>0</th>\n",
       "      <td>Platyhelminthes</td>\n",
       "      <td>schistosoma_haematobium_1</td>\n",
       "      <td>Schistosoma_haematobium</td>\n",
       "      <td>981</td>\n",
       "      <td>False</td>\n",
       "      <td>980</td>\n",
       "      <td>1</td>\n",
       "      <td>652</td>\n",
       "      <td>239</td>\n",
       "      <td>datasets</td>\n",
       "    </tr>\n",
       "    <tr>\n",
       "      <th>1</th>\n",
       "      <td>Bivalvia</td>\n",
       "      <td>magallana_gigas_2</td>\n",
       "      <td>Magallana_gigas</td>\n",
       "      <td>1035</td>\n",
       "      <td>False</td>\n",
       "      <td>1034</td>\n",
       "      <td>1</td>\n",
       "      <td>1537</td>\n",
       "      <td>110</td>\n",
       "      <td>datasets</td>\n",
       "    </tr>\n",
       "    <tr>\n",
       "      <th>2</th>\n",
       "      <td>Bivalvia</td>\n",
       "      <td>mya_arenaria_0</td>\n",
       "      <td>Mya_arenaria</td>\n",
       "      <td>1110</td>\n",
       "      <td>False</td>\n",
       "      <td>1109</td>\n",
       "      <td>1</td>\n",
       "      <td>1727</td>\n",
       "      <td>110</td>\n",
       "      <td>datasets</td>\n",
       "    </tr>\n",
       "    <tr>\n",
       "      <th>3</th>\n",
       "      <td>Bivalvia</td>\n",
       "      <td>crassostrea_virginica_1</td>\n",
       "      <td>Crassostrea_virginica</td>\n",
       "      <td>1110</td>\n",
       "      <td>False</td>\n",
       "      <td>1109</td>\n",
       "      <td>1</td>\n",
       "      <td>1613</td>\n",
       "      <td>110</td>\n",
       "      <td>datasets</td>\n",
       "    </tr>\n",
       "    <tr>\n",
       "      <th>4</th>\n",
       "      <td>Gastropoda</td>\n",
       "      <td>aplysia_californica_2</td>\n",
       "      <td>Aplysia_californica</td>\n",
       "      <td>1068</td>\n",
       "      <td>False</td>\n",
       "      <td>1067</td>\n",
       "      <td>1</td>\n",
       "      <td>4146</td>\n",
       "      <td>221</td>\n",
       "      <td>datasets</td>\n",
       "    </tr>\n",
       "    <tr>\n",
       "      <th>5</th>\n",
       "      <td>Gastropoda</td>\n",
       "      <td>gigantopelta_aegis_1</td>\n",
       "      <td>Gigantopelta_aegis</td>\n",
       "      <td>1050</td>\n",
       "      <td>False</td>\n",
       "      <td>1049</td>\n",
       "      <td>1</td>\n",
       "      <td>1869</td>\n",
       "      <td>110</td>\n",
       "      <td>datasets</td>\n",
       "    </tr>\n",
       "  </tbody>\n",
       "</table>\n",
       "</div>"
      ]
     },
     "execution_count": 26,
     "metadata": {},
     "output_type": "execute_result"
    }
   ],
   "execution_count": 26
  },
  {
   "metadata": {
    "ExecuteTime": {
     "end_time": "2025-05-28T12:21:15.454876Z",
     "start_time": "2025-05-28T12:21:15.451446Z"
    }
   },
   "cell_type": "code",
   "source": [
    "# ищем дубликаты\n",
    "df_cds_cassette[df_cds_cassette[\"org_name\"].duplicated(keep=False)]"
   ],
   "id": "53aef31149da0dcf",
   "outputs": [
    {
     "data": {
      "text/plain": [
       "Empty DataFrame\n",
       "Columns: [sub_phylum, org_name_protein_id, org_name, stop_codon_pos, equal_to_cds, cassette_intron_start, intron_length_to_stop_codon, intron_length, first_exon_length, source]\n",
       "Index: []"
      ],
      "text/html": [
       "<div>\n",
       "<style scoped>\n",
       "    .dataframe tbody tr th:only-of-type {\n",
       "        vertical-align: middle;\n",
       "    }\n",
       "\n",
       "    .dataframe tbody tr th {\n",
       "        vertical-align: top;\n",
       "    }\n",
       "\n",
       "    .dataframe thead th {\n",
       "        text-align: right;\n",
       "    }\n",
       "</style>\n",
       "<table border=\"1\" class=\"dataframe\">\n",
       "  <thead>\n",
       "    <tr style=\"text-align: right;\">\n",
       "      <th></th>\n",
       "      <th>sub_phylum</th>\n",
       "      <th>org_name_protein_id</th>\n",
       "      <th>org_name</th>\n",
       "      <th>stop_codon_pos</th>\n",
       "      <th>equal_to_cds</th>\n",
       "      <th>cassette_intron_start</th>\n",
       "      <th>intron_length_to_stop_codon</th>\n",
       "      <th>intron_length</th>\n",
       "      <th>first_exon_length</th>\n",
       "      <th>source</th>\n",
       "    </tr>\n",
       "  </thead>\n",
       "  <tbody>\n",
       "  </tbody>\n",
       "</table>\n",
       "</div>"
      ]
     },
     "execution_count": 27,
     "metadata": {},
     "output_type": "execute_result"
    }
   ],
   "execution_count": 27
  },
  {
   "metadata": {
    "ExecuteTime": {
     "end_time": "2025-05-28T12:21:15.528658Z",
     "start_time": "2025-05-28T12:21:15.527265Z"
    }
   },
   "cell_type": "code",
   "source": [
    "# удаляем дубликаты\n",
    "\n",
    "# -----------------\n",
    "\n",
    "# -----------------\n",
    "\n",
    "# indices_to_drop = []\n",
    "# df_cds_cassette = df_cds_cassette.drop(indices_to_drop)"
   ],
   "id": "3350cba7c780a583",
   "outputs": [],
   "execution_count": 28
  },
  {
   "metadata": {
    "ExecuteTime": {
     "end_time": "2025-05-28T12:21:15.597768Z",
     "start_time": "2025-05-28T12:21:15.595243Z"
    }
   },
   "cell_type": "code",
   "source": [
    "# сохраняем табличку для последующей загрузки в results_summary ноутбук\n",
    "df_cds_cassette.to_csv(f\"../results_summary/datasets_{phylum}_cds_cassette.tsv\", sep=\"\\t\", index=False)"
   ],
   "id": "8815f7d156e1dc63",
   "outputs": [],
   "execution_count": 29
  },
  {
   "metadata": {},
   "cell_type": "markdown",
   "source": "## Cnidaria (не Protostomia)",
   "id": "77837cde1539304"
  },
  {
   "metadata": {},
   "cell_type": "markdown",
   "source": "### Загрузка данных и создание кассет",
   "id": "d9a9cc80868e5943"
  },
  {
   "metadata": {
    "ExecuteTime": {
     "end_time": "2025-05-28T12:21:15.688666Z",
     "start_time": "2025-05-28T12:21:15.686518Z"
    }
   },
   "cell_type": "code",
   "source": [
    "# создаем сабсет таблицы для исследуемой филы\n",
    "phylum = \"Cnidaria\"\n",
    "df_for_analysis = df_taxonomy[df_taxonomy.taxonomy.str.contains(phylum)] # в этой таблице вручную определяем подпапки из принта следующих 2х команд"
   ],
   "id": "743aa88e46b560ca",
   "outputs": [],
   "execution_count": 30
  },
  {
   "metadata": {
    "ExecuteTime": {
     "end_time": "2025-05-28T12:21:15.744972Z",
     "start_time": "2025-05-28T12:21:15.743423Z"
    }
   },
   "cell_type": "code",
   "source": [
    "# создаем принт таксономии для исследуемой филы\n",
    "# df_for_analysis.to_csv(f\"../{phylum}_taxonomy.tsv\", sep=\"\\t\", header=False)\n",
    "# create_taxonomy(f\"../{phylum}_taxonomy.tsv\")"
   ],
   "id": "ec174e8dd8a65088",
   "outputs": [],
   "execution_count": 31
  },
  {
   "metadata": {
    "ExecuteTime": {
     "end_time": "2025-05-28T12:21:15.797520Z",
     "start_time": "2025-05-28T12:21:15.794589Z"
    }
   },
   "cell_type": "code",
   "source": [
    "# создаем словарь taxids для последующей загрузки файлов\n",
    "sub_phylum_list = [\"Anthozoa\", \"Hydrozoa\"]\n",
    "taxids = create_taxids(df_for_analysis, sub_phylum_list)"
   ],
   "id": "c00d6de3f6a820e2",
   "outputs": [],
   "execution_count": 32
  },
  {
   "metadata": {
    "ExecuteTime": {
     "end_time": "2025-05-28T12:21:15.848117Z",
     "start_time": "2025-05-28T12:21:15.846642Z"
    }
   },
   "cell_type": "code",
   "source": [
    "# загружаем файлы через datasets: gene, rna, cds, protein; exons (создаются автоматически после загрузки файлов)\n",
    "\n",
    "# закомментировать, когда все загрузится!\n",
    "# download_all_files_ncbi(df, taxids, phylas=list(taxids.keys()))"
   ],
   "id": "eac7a0237eb0494a",
   "outputs": [],
   "execution_count": 33
  },
  {
   "metadata": {
    "ExecuteTime": {
     "end_time": "2025-05-28T12:21:15.901148Z",
     "start_time": "2025-05-28T12:21:15.897795Z"
    }
   },
   "cell_type": "code",
   "source": [
    "# определяем, у каких видов больше 1 транскрипта\n",
    "# запускаем еще раз после прогона следующей ячейки, чтобы убедиться, что все удалилось\n",
    "species_to_update = check_transcript_count(sub_phylum_list)"
   ],
   "id": "3f0917fa41d3c3d3",
   "outputs": [],
   "execution_count": 34
  },
  {
   "metadata": {
    "ExecuteTime": {
     "end_time": "2025-05-28T12:21:15.950314Z",
     "start_time": "2025-05-28T12:21:15.948942Z"
    }
   },
   "cell_type": "code",
   "source": [
    "# удаляем все транскрипты, кроме 1-го - он, как правило, самый адекватный\n",
    "\n",
    "# закомментировать, когда все обновится!\n",
    "# update_data_for_species(species_to_update)"
   ],
   "id": "cdd2a3b48086d7ee",
   "outputs": [],
   "execution_count": 35
  },
  {
   "metadata": {
    "ExecuteTime": {
     "end_time": "2025-05-28T12:21:16.007180Z",
     "start_time": "2025-05-28T12:21:15.999555Z"
    }
   },
   "cell_type": "code",
   "source": [
    "# создаем словарь data_phylum для видов, у которых в экзонах нашелся экзон размером 37 нт для дальнейшего создания кассет\n",
    "for sub_phylum in sub_phylum_list:\n",
    "    data, found_org_name_i = find_cassettes(sub_phylum)\n",
    "    # и сразу создаем кассеты для найденных данных\n",
    "    introns = create_many_cassettes(sub_phylum, data)\n",
    "    # и еще создаем выравнивания cds_cassette для всех sub_phylum (на всякий случай)\n",
    "    create_alignment(sub_phylum, found_org_name_i)"
   ],
   "id": "7428b4d7f3f937f5",
   "outputs": [],
   "execution_count": 36
  },
  {
   "metadata": {},
   "cell_type": "markdown",
   "source": "### Анализ интрона для всех выбранных сабфил",
   "id": "77f9c1a96ba25cf2"
  },
  {
   "metadata": {
    "ExecuteTime": {
     "end_time": "2025-05-28T12:21:16.053791Z",
     "start_time": "2025-05-28T12:21:16.050306Z"
    }
   },
   "cell_type": "code",
   "source": [
    "# сначала создаем словарь с данными\n",
    "dict_align_info = create_dict_align_info(sub_phylum_list)"
   ],
   "id": "d67c6fc081ad8d71",
   "outputs": [],
   "execution_count": 37
  },
  {
   "metadata": {
    "ExecuteTime": {
     "end_time": "2025-05-28T12:21:16.105420Z",
     "start_time": "2025-05-28T12:21:16.102236Z"
    }
   },
   "cell_type": "code",
   "source": [
    "# проверяем, чтобы в столбце equal_to_cds было везде True - это значит, что cds начинается со старт-кодона и заканчивается стоп-кодоном\n",
    "df_cds, dict_align_cds = dict_align_info_analyze(dict_align_info, \"cds\")\n",
    "df_cds.equal_to_cds.unique()"
   ],
   "id": "ccb9e179683f25f5",
   "outputs": [
    {
     "data": {
      "text/plain": [
       "array([ True])"
      ]
     },
     "execution_count": 38,
     "metadata": {},
     "output_type": "execute_result"
    }
   ],
   "execution_count": 38
  },
  {
   "metadata": {
    "ExecuteTime": {
     "end_time": "2025-05-28T12:21:16.160122Z",
     "start_time": "2025-05-28T12:21:16.154619Z"
    }
   },
   "cell_type": "code",
   "source": [
    "# смотрим на позиции стоп-кодона в интроне в его сохранении в cds\n",
    "\n",
    "df_cds_cassette, dict_align_cds_cassette = dict_align_info_analyze(dict_align_info, \"cds_cassette\")\n",
    "df_cds_cassette"
   ],
   "id": "c8fe3c79879e5293",
   "outputs": [
    {
     "data": {
      "text/plain": [
       "  sub_phylum       org_name_protein_id                org_name  \\\n",
       "0   Anthozoa  nematostella_vectensis_2  Nematostella_vectensis   \n",
       "1   Anthozoa       actinia_tenebrosa_1       Actinia_tenebrosa   \n",
       "\n",
       "   stop_codon_pos  equal_to_cds  cassette_intron_start  \\\n",
       "0            1197         False                   1172   \n",
       "1            1152         False                   1142   \n",
       "\n",
       "   intron_length_to_stop_codon  intron_length  first_exon_length    source  \n",
       "0                           25            991                116  datasets  \n",
       "1                           10            173                116  datasets  "
      ],
      "text/html": [
       "<div>\n",
       "<style scoped>\n",
       "    .dataframe tbody tr th:only-of-type {\n",
       "        vertical-align: middle;\n",
       "    }\n",
       "\n",
       "    .dataframe tbody tr th {\n",
       "        vertical-align: top;\n",
       "    }\n",
       "\n",
       "    .dataframe thead th {\n",
       "        text-align: right;\n",
       "    }\n",
       "</style>\n",
       "<table border=\"1\" class=\"dataframe\">\n",
       "  <thead>\n",
       "    <tr style=\"text-align: right;\">\n",
       "      <th></th>\n",
       "      <th>sub_phylum</th>\n",
       "      <th>org_name_protein_id</th>\n",
       "      <th>org_name</th>\n",
       "      <th>stop_codon_pos</th>\n",
       "      <th>equal_to_cds</th>\n",
       "      <th>cassette_intron_start</th>\n",
       "      <th>intron_length_to_stop_codon</th>\n",
       "      <th>intron_length</th>\n",
       "      <th>first_exon_length</th>\n",
       "      <th>source</th>\n",
       "    </tr>\n",
       "  </thead>\n",
       "  <tbody>\n",
       "    <tr>\n",
       "      <th>0</th>\n",
       "      <td>Anthozoa</td>\n",
       "      <td>nematostella_vectensis_2</td>\n",
       "      <td>Nematostella_vectensis</td>\n",
       "      <td>1197</td>\n",
       "      <td>False</td>\n",
       "      <td>1172</td>\n",
       "      <td>25</td>\n",
       "      <td>991</td>\n",
       "      <td>116</td>\n",
       "      <td>datasets</td>\n",
       "    </tr>\n",
       "    <tr>\n",
       "      <th>1</th>\n",
       "      <td>Anthozoa</td>\n",
       "      <td>actinia_tenebrosa_1</td>\n",
       "      <td>Actinia_tenebrosa</td>\n",
       "      <td>1152</td>\n",
       "      <td>False</td>\n",
       "      <td>1142</td>\n",
       "      <td>10</td>\n",
       "      <td>173</td>\n",
       "      <td>116</td>\n",
       "      <td>datasets</td>\n",
       "    </tr>\n",
       "  </tbody>\n",
       "</table>\n",
       "</div>"
      ]
     },
     "execution_count": 39,
     "metadata": {},
     "output_type": "execute_result"
    }
   ],
   "execution_count": 39
  },
  {
   "metadata": {
    "ExecuteTime": {
     "end_time": "2025-05-28T12:21:16.225196Z",
     "start_time": "2025-05-28T12:21:16.221939Z"
    }
   },
   "cell_type": "code",
   "source": [
    "# ищем дубликаты\n",
    "df_cds_cassette[df_cds_cassette[\"org_name\"].duplicated(keep=False)]"
   ],
   "id": "3bb2dab05302ec82",
   "outputs": [
    {
     "data": {
      "text/plain": [
       "Empty DataFrame\n",
       "Columns: [sub_phylum, org_name_protein_id, org_name, stop_codon_pos, equal_to_cds, cassette_intron_start, intron_length_to_stop_codon, intron_length, first_exon_length, source]\n",
       "Index: []"
      ],
      "text/html": [
       "<div>\n",
       "<style scoped>\n",
       "    .dataframe tbody tr th:only-of-type {\n",
       "        vertical-align: middle;\n",
       "    }\n",
       "\n",
       "    .dataframe tbody tr th {\n",
       "        vertical-align: top;\n",
       "    }\n",
       "\n",
       "    .dataframe thead th {\n",
       "        text-align: right;\n",
       "    }\n",
       "</style>\n",
       "<table border=\"1\" class=\"dataframe\">\n",
       "  <thead>\n",
       "    <tr style=\"text-align: right;\">\n",
       "      <th></th>\n",
       "      <th>sub_phylum</th>\n",
       "      <th>org_name_protein_id</th>\n",
       "      <th>org_name</th>\n",
       "      <th>stop_codon_pos</th>\n",
       "      <th>equal_to_cds</th>\n",
       "      <th>cassette_intron_start</th>\n",
       "      <th>intron_length_to_stop_codon</th>\n",
       "      <th>intron_length</th>\n",
       "      <th>first_exon_length</th>\n",
       "      <th>source</th>\n",
       "    </tr>\n",
       "  </thead>\n",
       "  <tbody>\n",
       "  </tbody>\n",
       "</table>\n",
       "</div>"
      ]
     },
     "execution_count": 40,
     "metadata": {},
     "output_type": "execute_result"
    }
   ],
   "execution_count": 40
  },
  {
   "metadata": {
    "ExecuteTime": {
     "end_time": "2025-05-28T12:21:16.307663Z",
     "start_time": "2025-05-28T12:21:16.306108Z"
    }
   },
   "cell_type": "code",
   "source": [
    "# удаляем дубликаты\n",
    "\n",
    "# -----------------\n",
    "\n",
    "# -----------------\n",
    "\n",
    "# indices_to_drop = []\n",
    "# df_cds_cassette = df_cds_cassette.drop(indices_to_drop)"
   ],
   "id": "e6965e3964d8ebe2",
   "outputs": [],
   "execution_count": 41
  },
  {
   "metadata": {
    "ExecuteTime": {
     "end_time": "2025-05-28T12:21:16.374544Z",
     "start_time": "2025-05-28T12:21:16.372561Z"
    }
   },
   "cell_type": "code",
   "source": [
    "# сохраняем табличку для последующей загрузки в results_summary ноутбук\n",
    "df_cds_cassette.to_csv(f\"../results_summary/datasets_{phylum}_cds_cassette.tsv\", sep=\"\\t\", index=False)"
   ],
   "id": "620247f27602f9cb",
   "outputs": [],
   "execution_count": 42
  }
 ],
 "metadata": {
  "kernelspec": {
   "display_name": "Python 3",
   "language": "python",
   "name": "python3"
  },
  "language_info": {
   "codemirror_mode": {
    "name": "ipython",
    "version": 2
   },
   "file_extension": ".py",
   "mimetype": "text/x-python",
   "name": "python",
   "nbconvert_exporter": "python",
   "pygments_lexer": "ipython2",
   "version": "2.7.6"
  }
 },
 "nbformat": 4,
 "nbformat_minor": 5
}
