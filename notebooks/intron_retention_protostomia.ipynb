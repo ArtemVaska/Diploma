{
 "cells": [
  {
   "cell_type": "code",
   "id": "initial_id",
   "metadata": {
    "collapsed": true,
    "ExecuteTime": {
     "end_time": "2025-05-20T18:38:06.927545Z",
     "start_time": "2025-05-20T18:38:06.825168Z"
    }
   },
   "source": [
    "from Bio.Seq import Seq\n",
    "\n",
    "from fasta_processing import read_fasta, read_single_fasta, dict_align_to_fasta\n",
    "from data_processing import find_codon, obtain_data"
   ],
   "outputs": [],
   "execution_count": 1
  },
  {
   "metadata": {},
   "cell_type": "markdown",
   "source": [
    "MEME Suite, 1995\n",
    "\n",
    "Набор инструментов для обнаружения и анализа последовательностных мотивов в невыравненных нуклеотидных или белковых последовательностях.\n",
    "\n",
    "Может найти неизвестные последовательности, часто встречающиеся в интронах, включая A-rich элементы.\n",
    "\n",
    "https://meme-suite.org/meme/tools/meme"
   ],
   "id": "50fd39a0b1ac7666"
  },
  {
   "metadata": {
    "ExecuteTime": {
     "end_time": "2025-05-20T18:38:07.079973Z",
     "start_time": "2025-05-20T18:38:07.077885Z"
    }
   },
   "cell_type": "code",
   "source": [
    "def slice_cds_cassette_to_prot(phylum: str, org_names: list) -> dict:\n",
    "    prefix = \"../datasets\"\n",
    "    postfix = \"ncbi_dataset/data\"\n",
    "\n",
    "    proteins = {}\n",
    "\n",
    "    for org_name in org_names:\n",
    "        cds = read_single_fasta(f\"{prefix}/{phylum}/{org_name}/{postfix}/cds_cassette.fa\")\n",
    "        stop_codon_pos = find_codon(cds, which=\"stop\")\n",
    "\n",
    "        sliced_cds = cds[:stop_codon_pos + 3]\n",
    "        protein = str(Seq(sliced_cds).translate())\n",
    "        formatted_org_name = org_name.rsplit(\"_\", 1)[0].capitalize()\n",
    "\n",
    "        proteins[formatted_org_name] = protein\n",
    "\n",
    "    return proteins"
   ],
   "id": "7ac088b483dec449",
   "outputs": [],
   "execution_count": 4
  },
  {
   "metadata": {
    "ExecuteTime": {
     "end_time": "2025-05-20T18:38:07.125441Z",
     "start_time": "2025-05-20T18:38:07.122398Z"
    }
   },
   "cell_type": "code",
   "source": [
    "phylum = \"Spiralia\"\n",
    "org_names = \\\n",
    "    [\n",
    "        'schistosoma_haematobium_1',\n",
    "        'mya_arenaria_2',\n",
    "        'crassostrea_virginica_7',\n",
    "        'magallana_gigas_8',\n",
    "        'gigantopelta_aegis_6',\n",
    "        'aplysia_californica_9',\n",
    "    ]\n",
    "\n",
    "proteins_spiralia = slice_cds_cassette_to_prot(phylum, org_names)\n",
    "dict_align_to_fasta(proteins_spiralia, \"../alignment/Spiralia/Spiralia_proteins.fa\")"
   ],
   "id": "f4c0b4b25fd21595",
   "outputs": [],
   "execution_count": 5
  },
  {
   "metadata": {
    "ExecuteTime": {
     "end_time": "2025-05-20T18:38:07.168386Z",
     "start_time": "2025-05-20T18:38:07.167010Z"
    }
   },
   "cell_type": "code",
   "source": "# dict_align_to_fasta(proteins_spiralia, \"../alignment/Spiralia/Spiralia_proteins.aln\")",
   "id": "a564d8fa0ddd94e4",
   "outputs": [],
   "execution_count": 6
  },
  {
   "metadata": {
    "ExecuteTime": {
     "end_time": "2025-05-20T18:38:07.214524Z",
     "start_time": "2025-05-20T18:38:07.212269Z"
    }
   },
   "cell_type": "code",
   "source": [
    "phylum = \"Spiralia\"\n",
    "org_names = \\\n",
    "    [\n",
    "        'mya_arenaria_2',\n",
    "        'crassostrea_virginica_7',\n",
    "        'magallana_gigas_8',\n",
    "    ]\n",
    "\n",
    "proteins_spiralia = slice_cds_cassette_to_prot(phylum, org_names)\n",
    "dict_align_to_fasta(proteins_spiralia, \"../alignment/Spiralia/Spiralia_bivalvia_proteins.fa\")"
   ],
   "id": "4adc5422ec07dc36",
   "outputs": [],
   "execution_count": 7
  },
  {
   "metadata": {
    "ExecuteTime": {
     "end_time": "2025-05-20T18:38:07.258766Z",
     "start_time": "2025-05-20T18:38:07.257382Z"
    }
   },
   "cell_type": "code",
   "source": "# dict_align_to_fasta(proteins_spiralia, \"../alignment/Spiralia/Spiralia_bivalvia_proteins.aln\")",
   "id": "804d547890db6f31",
   "outputs": [],
   "execution_count": 8
  },
  {
   "metadata": {
    "ExecuteTime": {
     "end_time": "2025-05-20T18:38:07.304410Z",
     "start_time": "2025-05-20T18:38:07.302310Z"
    }
   },
   "cell_type": "code",
   "source": [
    "phylum = \"Spiralia\"\n",
    "org_names = \\\n",
    "    [\n",
    "        'gigantopelta_aegis_6',\n",
    "        'aplysia_californica_9',\n",
    "    ]\n",
    "\n",
    "proteins_spiralia = slice_cds_cassette_to_prot(phylum, org_names)\n",
    "dict_align_to_fasta(proteins_spiralia, \"../alignment/Spiralia/Spiralia_gastropoda_proteins.fa\")"
   ],
   "id": "416383c3abf0a33e",
   "outputs": [],
   "execution_count": 9
  },
  {
   "metadata": {
    "ExecuteTime": {
     "end_time": "2025-05-20T18:38:07.349010Z",
     "start_time": "2025-05-20T18:38:07.347641Z"
    }
   },
   "cell_type": "code",
   "source": "# dict_align_to_fasta(proteins_spiralia, \"../alignment/Spiralia/Spiralia_gastropoda_proteins.aln\")",
   "id": "679b0aed8e02ab28",
   "outputs": [],
   "execution_count": 10
  },
  {
   "metadata": {},
   "cell_type": "markdown",
   "source": [
    "белковая третичная стр-ра белка у нематод, как он будет выглядеть\n",
    "\n",
    "что там сохраняется или добавляется из транслируемого интрона\n",
    "\n",
    "если у с элеганс будет сохраняться общая простр организация как и у тех, у кого интрона нет, то значилась такая стрра в эволюции закреплялась\n",
    "\n",
    "- база данных для мотивов беспозвоночных\n",
    "- посмотреть какую-то группу позвоночных, сделать тот же анализ - поиск мотивов в интроне для сравнения с беспами\n",
    "- альфафолд 3 структура белка для нематод и других видов\n",
    "- расширить выборку psi-blast\n",
    "- ii стр-ра рнк cds+intron"
   ],
   "id": "fed8d90975167ad5"
  },
  {
   "metadata": {},
   "cell_type": "markdown",
   "source": "---",
   "id": "90ad0894bcd080dd"
  },
  {
   "metadata": {
    "ExecuteTime": {
     "end_time": "2025-05-20T18:38:07.393895Z",
     "start_time": "2025-05-20T18:38:07.392189Z"
    }
   },
   "cell_type": "code",
   "source": "c_elegans_data = obtain_data(\"Ecdysozoa\", \"caenorhabditis_elegans_0\")",
   "id": "87983fd2c146ec19",
   "outputs": [],
   "execution_count": 11
  },
  {
   "metadata": {
    "ExecuteTime": {
     "end_time": "2025-05-20T18:39:04.781952Z",
     "start_time": "2025-05-20T18:39:04.779218Z"
    }
   },
   "cell_type": "code",
   "source": "c_elegans_data[\"protein\"] == str(Seq(c_elegans_data[\"cds\"]).translate())[:-1]",
   "id": "aaa0d83469344f97",
   "outputs": [
    {
     "data": {
      "text/plain": [
       "True"
      ]
     },
     "execution_count": 17,
     "metadata": {},
     "output_type": "execute_result"
    }
   ],
   "execution_count": 17
  },
  {
   "metadata": {
    "ExecuteTime": {
     "end_time": "2025-05-20T18:38:43.524052Z",
     "start_time": "2025-05-20T18:38:43.521855Z"
    }
   },
   "cell_type": "code",
   "source": "c_elegans_data[\"protein\"]",
   "id": "abbb848cce6a700c",
   "outputs": [
    {
     "data": {
      "text/plain": [
       "'MNRKGFGGHRDAKQLSRTKNRFARLDPDTQSRYEDDDEPAVPVRASLTSASSRGRGGSSRGFGQSAASIANTGVRNADIVYKCRATGAAKKVDAKWLIKQLNQIIENFKPLLWTDNARGDFEWYVRDEDTASTIRANNRRVVHKESGTRVEFYTSKVPAPWMKLKREEIEIIHRVVDKRHNAENRVLDLSNFHEDEEFKAKDMMMNLTKGNVMLTVLDHIDDKYGNIVALSLSNNRIRHLDYASALVSIAKFVMELDLSHNHISTEKELEKFAGLPVERFFFEGNPVVESFTQRAAYISYIHQSFPRCNMLDGVEVQPLVVGPDLDIHDAMPFRAGYYPNPQIRVLVEQFVTSYFDFYDGPDGQRTRRNLHNAYDADASTFSLTIEHLRGSSHARHHNDECFAQYAGVSHNVLKQERFARHRASRSARGAMDIAVALSKLPTSSHMRDTFIVDVFLQSNDLLGFTVQGLFCDGDLTQTPSPSFFSRSFLVSPRENDSVAVISDQLFITVASLDRLEKFKKLYDQSIANGAAVEQVSAVQIAQIGVNGMGFDGAPALPIREEMIKAMCQFSGMIPPFSEKCLADCAWNFDFACQKFNEIKSSVPAEAFAH'"
      ]
     },
     "execution_count": 16,
     "metadata": {},
     "output_type": "execute_result"
    }
   ],
   "execution_count": 16
  },
  {
   "metadata": {
    "ExecuteTime": {
     "end_time": "2025-05-20T18:38:37.651842Z",
     "start_time": "2025-05-20T18:38:37.649556Z"
    }
   },
   "cell_type": "code",
   "source": "str(Seq(c_elegans_data[\"cds\"]).translate())",
   "id": "baab754a80e13bf4",
   "outputs": [
    {
     "data": {
      "text/plain": [
       "'MNRKGFGGHRDAKQLSRTKNRFARLDPDTQSRYEDDDEPAVPVRASLTSASSRGRGGSSRGFGQSAASIANTGVRNADIVYKCRATGAAKKVDAKWLIKQLNQIIENFKPLLWTDNARGDFEWYVRDEDTASTIRANNRRVVHKESGTRVEFYTSKVPAPWMKLKREEIEIIHRVVDKRHNAENRVLDLSNFHEDEEFKAKDMMMNLTKGNVMLTVLDHIDDKYGNIVALSLSNNRIRHLDYASALVSIAKFVMELDLSHNHISTEKELEKFAGLPVERFFFEGNPVVESFTQRAAYISYIHQSFPRCNMLDGVEVQPLVVGPDLDIHDAMPFRAGYYPNPQIRVLVEQFVTSYFDFYDGPDGQRTRRNLHNAYDADASTFSLTIEHLRGSSHARHHNDECFAQYAGVSHNVLKQERFARHRASRSARGAMDIAVALSKLPTSSHMRDTFIVDVFLQSNDLLGFTVQGLFCDGDLTQTPSPSFFSRSFLVSPRENDSVAVISDQLFITVASLDRLEKFKKLYDQSIANGAAVEQVSAVQIAQIGVNGMGFDGAPALPIREEMIKAMCQFSGMIPPFSEKCLADCAWNFDFACQKFNEIKSSVPAEAFAH*'"
      ]
     },
     "execution_count": 15,
     "metadata": {},
     "output_type": "execute_result"
    }
   ],
   "execution_count": 15
  },
  {
   "metadata": {
    "ExecuteTime": {
     "end_time": "2025-05-20T18:38:07.486489Z",
     "start_time": "2025-05-20T18:38:07.484523Z"
    }
   },
   "cell_type": "code",
   "source": "c_elegans_data[\"protein_sliced\"]",
   "id": "774399d952da4f65",
   "outputs": [
    {
     "data": {
      "text/plain": [
       "'MNRKGFGGHRDAKQLSRTKNRFARLDPDTQSRYEDDDEPAVPVRASLTSASSRGRGGSSRGFGQSAASIANTGVRNADIVYKCRATGAAKKVDAKWLIKQLNQIIENFKPLLWTDNARGDFEWYVRDEDTASTIRANNRRVVHKESGTRVEFYTSKVPAPWMKLKREEIEIIHRVVDKRHNAENRVLDLSNFHEDEEFKAKDMMMNLTKGNVMLTVLDHIDDKYGNIVALSLSNNRIRHLDYASALVSIAKFVMELDLSHNHISTEKELEKFAGLPVERFFFEGNPVVESFTQRAAYIRLHYLNDFQIFYLNFIVFSSLFPILLCSLTPNLPLQLYSSIIPAMQHAGRSRSAAAGCWTGSRYS*'"
      ]
     },
     "execution_count": 13,
     "metadata": {},
     "output_type": "execute_result"
    }
   ],
   "execution_count": 13
  }
 ],
 "metadata": {
  "kernelspec": {
   "display_name": "Python 3",
   "language": "python",
   "name": "python3"
  },
  "language_info": {
   "codemirror_mode": {
    "name": "ipython",
    "version": 2
   },
   "file_extension": ".py",
   "mimetype": "text/x-python",
   "name": "python",
   "nbconvert_exporter": "python",
   "pygments_lexer": "ipython2",
   "version": "2.7.6"
  }
 },
 "nbformat": 4,
 "nbformat_minor": 5
}
