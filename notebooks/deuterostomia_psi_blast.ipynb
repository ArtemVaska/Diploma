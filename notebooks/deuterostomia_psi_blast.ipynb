{
 "cells": [
  {
   "metadata": {
    "collapsed": true,
    "ExecuteTime": {
     "end_time": "2025-05-28T12:21:36.020125Z",
     "start_time": "2025-05-28T12:21:35.884203Z"
    }
   },
   "cell_type": "code",
   "source": [
    "import ast\n",
    "import os\n",
    "\n",
    "import pandas as pd\n",
    "from Bio import Entrez\n",
    "\n",
    "from scripts.data_processing import analyze_exons\n",
    "from scripts.fasta_processing import read_single_fasta, dict_align_to_fasta\n",
    "from scripts.parse_psi_blast_results import create_many_cassettes, dict_align_info_analyze\n",
    "\n",
    "Entrez.email = \"artemvaskaa@gmail.com\""
   ],
   "id": "38215c4867315246",
   "outputs": [],
   "execution_count": 1
  },
  {
   "metadata": {},
   "cell_type": "markdown",
   "source": "## Переопределение функций",
   "id": "44b8f188e5c89fba"
  },
  {
   "metadata": {
    "ExecuteTime": {
     "end_time": "2025-05-28T12:21:36.108777Z",
     "start_time": "2025-05-28T12:21:36.106191Z"
    }
   },
   "cell_type": "code",
   "source": [
    "def find_cassettes(df):\n",
    "    ref_exon_len = [37]\n",
    "    found_protein_ids = {}\n",
    "\n",
    "    for protein_id in df.protein_id:\n",
    "        df_exons = analyze_exons(f\"{dir}/{protein_id}/exons.fa\")\n",
    "        condition = set(ref_exon_len) & set(df_exons.length.tolist())\n",
    "        if condition:\n",
    "            found_protein_ids[protein_id] = condition\n",
    "    df_found_protein_ids = df[df[\"protein_id\"].isin(found_protein_ids.keys())]  # !!!\n",
    "\n",
    "    data = {}\n",
    "    for protein_id in df_found_protein_ids.protein_id:\n",
    "        df_subset = df_found_protein_ids[df_found_protein_ids[\"protein_id\"] == protein_id]\n",
    "        org_name = df_subset.org_name.iloc[0]\n",
    "        df_exons = analyze_exons(f\"{dir}/{protein_id}/exons.fa\")\n",
    "        exon_37_idx = df_exons[df_exons[\"length\"] == 37].index[0]\n",
    "        exon_110_idx = exon_37_idx - 1\n",
    "        data[f\"{org_name}__{protein_id}\"] = (df_exons, [exon_110_idx, exon_37_idx])\n",
    "\n",
    "    return data, df_found_protein_ids"
   ],
   "id": "29d7cf57f78d7bcb",
   "outputs": [],
   "execution_count": 2
  },
  {
   "metadata": {},
   "cell_type": "markdown",
   "source": "## Введение",
   "id": "8dc7e4fb98e7ee4a"
  },
  {
   "metadata": {
    "ExecuteTime": {
     "end_time": "2025-05-28T12:21:36.160614Z",
     "start_time": "2025-05-28T12:21:36.153461Z"
    }
   },
   "cell_type": "code",
   "source": [
    "# читаем все созданные таблицы\n",
    "datasets_Actinopterygii = pd.read_csv(\"../results_summary/datasets_Actinopterygii_cds_cassette.tsv\", sep=\"\\t\")\n",
    "datasets_Amphibia = pd.read_csv(\"../results_summary/datasets_Amphibia_cds_cassette.tsv\", sep=\"\\t\")\n",
    "datasets_Sauropsida = pd.read_csv(\"../results_summary/datasets_Sauropsida_cds_cassette.tsv\", sep=\"\\t\")\n",
    "\n",
    "# объединяем их в одну\n",
    "datasets_Deuterostomia = pd.concat([datasets_Actinopterygii, datasets_Amphibia, datasets_Sauropsida], ignore_index=True)\n",
    "\n",
    "# смотрим на value_counts в полученных данных из datasets, чтобы понять, что бластить\n",
    "datasets_Deuterostomia.sub_phylum.value_counts()"
   ],
   "id": "fe732019bbdfa7b2",
   "outputs": [
    {
     "data": {
      "text/plain": [
       "sub_phylum\n",
       "Euteleosteomorpha    53\n",
       "Aves                 36\n",
       "Lepidosauria         28\n",
       "Otomorpha            16\n",
       "Testudinata          15\n",
       "Anura                14\n",
       "Gymnophiona           3\n",
       "Osteoglossomorpha     2\n",
       "Caudata               2\n",
       "Crocodylia            2\n",
       "Cladistia             1\n",
       "Name: count, dtype: int64"
      ]
     },
     "execution_count": 3,
     "metadata": {},
     "output_type": "execute_result"
    }
   ],
   "execution_count": 3
  },
  {
   "metadata": {},
   "cell_type": "markdown",
   "source": "## Gymnophiona",
   "id": "7c6ff5a7a8b4d832"
  },
  {
   "metadata": {
    "ExecuteTime": {
     "end_time": "2025-05-28T12:21:36.228029Z",
     "start_time": "2025-05-28T12:21:36.223386Z"
    }
   },
   "cell_type": "code",
   "source": "datasets_Deuterostomia[datasets_Deuterostomia[\"sub_phylum\"] == \"Gymnophiona\"]",
   "id": "5ff069c9fb7b77f4",
   "outputs": [
    {
     "data": {
      "text/plain": [
       "     sub_phylum       org_name_protein_id                org_name  \\\n",
       "72  Gymnophiona   geotrypetes_seraphini_2   Geotrypetes_seraphini   \n",
       "73  Gymnophiona  microcaecilia_unicolor_0  Microcaecilia_unicolor   \n",
       "74  Gymnophiona   rhinatrema_bivittatum_1   Rhinatrema_bivittatum   \n",
       "\n",
       "    stop_codon_pos  equal_to_cds  cassette_intron_start  \\\n",
       "72             894         False                    839   \n",
       "73            1116         False                    929   \n",
       "74            1134         False                   1031   \n",
       "\n",
       "    intron_length_to_stop_codon  intron_length  first_exon_length    source  \n",
       "72                           55           3065                110  datasets  \n",
       "73                          187           2784                110  datasets  \n",
       "74                          103           4053                110  datasets  "
      ],
      "text/html": [
       "<div>\n",
       "<style scoped>\n",
       "    .dataframe tbody tr th:only-of-type {\n",
       "        vertical-align: middle;\n",
       "    }\n",
       "\n",
       "    .dataframe tbody tr th {\n",
       "        vertical-align: top;\n",
       "    }\n",
       "\n",
       "    .dataframe thead th {\n",
       "        text-align: right;\n",
       "    }\n",
       "</style>\n",
       "<table border=\"1\" class=\"dataframe\">\n",
       "  <thead>\n",
       "    <tr style=\"text-align: right;\">\n",
       "      <th></th>\n",
       "      <th>sub_phylum</th>\n",
       "      <th>org_name_protein_id</th>\n",
       "      <th>org_name</th>\n",
       "      <th>stop_codon_pos</th>\n",
       "      <th>equal_to_cds</th>\n",
       "      <th>cassette_intron_start</th>\n",
       "      <th>intron_length_to_stop_codon</th>\n",
       "      <th>intron_length</th>\n",
       "      <th>first_exon_length</th>\n",
       "      <th>source</th>\n",
       "    </tr>\n",
       "  </thead>\n",
       "  <tbody>\n",
       "    <tr>\n",
       "      <th>72</th>\n",
       "      <td>Gymnophiona</td>\n",
       "      <td>geotrypetes_seraphini_2</td>\n",
       "      <td>Geotrypetes_seraphini</td>\n",
       "      <td>894</td>\n",
       "      <td>False</td>\n",
       "      <td>839</td>\n",
       "      <td>55</td>\n",
       "      <td>3065</td>\n",
       "      <td>110</td>\n",
       "      <td>datasets</td>\n",
       "    </tr>\n",
       "    <tr>\n",
       "      <th>73</th>\n",
       "      <td>Gymnophiona</td>\n",
       "      <td>microcaecilia_unicolor_0</td>\n",
       "      <td>Microcaecilia_unicolor</td>\n",
       "      <td>1116</td>\n",
       "      <td>False</td>\n",
       "      <td>929</td>\n",
       "      <td>187</td>\n",
       "      <td>2784</td>\n",
       "      <td>110</td>\n",
       "      <td>datasets</td>\n",
       "    </tr>\n",
       "    <tr>\n",
       "      <th>74</th>\n",
       "      <td>Gymnophiona</td>\n",
       "      <td>rhinatrema_bivittatum_1</td>\n",
       "      <td>Rhinatrema_bivittatum</td>\n",
       "      <td>1134</td>\n",
       "      <td>False</td>\n",
       "      <td>1031</td>\n",
       "      <td>103</td>\n",
       "      <td>4053</td>\n",
       "      <td>110</td>\n",
       "      <td>datasets</td>\n",
       "    </tr>\n",
       "  </tbody>\n",
       "</table>\n",
       "</div>"
      ]
     },
     "execution_count": 4,
     "metadata": {},
     "output_type": "execute_result"
    }
   ],
   "execution_count": 4
  },
  {
   "metadata": {},
   "cell_type": "markdown",
   "source": "[geotrypetes_seraphini_gymnophiona](https://blast.ncbi.nlm.nih.gov/Blast.cgi?PAGE_TYPE=BlastSearch&USER_FORMAT_DEFAULTS=on&SET_SAVED_SEARCH=true&PAGE=Proteins&PROGRAM=blastp&QUERY=%3EXP_033810741.1%20NXF1%20%5Borganism%3DGeotrypetes%20seraphini%5D%20%5BGeneID%3D117365020%5D%0AMSETLETPKGRYTPYDRRRRRGEDWHDRDRGGTSNMQFIVRRDAGHPDRPGGNREPRKTWHKITIPHGKK%0AYEKNWLLSAIQSVCTVPFTPVEFHHDHNRALFYVEEASTAAALRQASRRITDKDGYKVTILSNPSDIPQT%0AILKELKPEEIVMLKVCMSKRYDSELQALDLKNLRNDPELLCNNIDLVLNRKNCLLTVLRIIEEHIPELLS%0ALNLSSNKLYRLDELTELVRKAPNLKILNLFCNELKSDRELDKVKGLKLEELWLDGNPLCDAFKDQSTYIR%0AAMRERFPMLLRLDGHILPPPIAFDVEAPTTLPPCKGSYFASDDIKALVLRFLQQYYSVYDSEDRQGLLDA%0AYHDGACCSLCIPAALGNPNRNNLSEYFKDSRNVKRLKDPAMRLKLLKHTRLNVVAFLNELPKTLHDTNSF%0AVVDICAQTNMLLSFVVHGIFKEVDGKSRDEVRAFSRMFVAVPAGNAGLCIVNDELFVRNATTEEIRKAFA%0ATPAPTPSSSPVPTLTATHQELLQAFSLQSGMNLEWSQKCLQDNDWDFPRAAQIFTQLKAEGKIPEVAFMK&JOB_TITLE=geotrypetes_seraphini_gymnophiona&GAPCOSTS=11%201&DATABASE=nr&BLAST_PROGRAMS=psiBlast&MAX_NUM_SEQ=100&SHORT_QUERY_ADJUST=on&EXPECT=0.05&WORD_SIZE=3&MATRIX_NAME=BLOSUM62&COMPOSITION_BASED_STATISTICS=2&I_THRESH=0.005&EQ_MENU=Gymnophiona%20%28taxid%3A8445%29&EQ_MENU1=Geotrypetes%20seraphini%20(taxid:260995)&ORG_EXCLUDE1=on&NUM_ORG=2&PROG_DEFAULTS=on&SHOW_OVERVIEW=on&SHOW_LINKOUT=on&ALIGNMENT_VIEW=Pairwise&MASK_CHAR=2&MASK_COLOR=1&GET_SEQUENCE=on&NUM_OVERVIEW=100&DESCRIPTIONS=100&ALIGNMENTS=100&FORMAT_OBJECT=Alignment&FORMAT_TYPE=HTML&ADV_VIEW=on&BOOKMARK=on)",
   "id": "142d1a0baeb5a017"
  },
  {
   "metadata": {
    "ExecuteTime": {
     "end_time": "2025-05-28T12:21:36.297937Z",
     "start_time": "2025-05-28T12:21:36.296314Z"
    }
   },
   "cell_type": "code",
   "source": [
    "phylum = \"Gymnophiona\"\n",
    "dir = f\"../Sequences_protein_id/{phylum}\""
   ],
   "id": "b1c1518338da9252",
   "outputs": [],
   "execution_count": 5
  },
  {
   "metadata": {
    "ExecuteTime": {
     "end_time": "2025-05-28T12:21:36.394977Z",
     "start_time": "2025-05-28T12:21:36.393373Z"
    }
   },
   "cell_type": "code",
   "source": [
    "# # читаем результат BLAST\n",
    "# name_of_blast_res = f\"../blast_res/psi_blast/geotrypetes_seraphini_{phylum.lower()}.xml\"\n",
    "#\n",
    "# # парсим, фильтруем и добавляем новые столбцы с координатами, именем организма и др.\n",
    "# df = parse_psiblast_xml(name_of_blast_res)\n",
    "# df = filter_psiblast_hits(df, min_qc=0, min_ident=0, min_sbjct_len=500)\n",
    "# df = update_df(df)\n",
    "#\n",
    "# # создаем подпапку в заданной выше директории и сохраняем таблицу, чтобы потом не ждать\n",
    "# os.makedirs(f\"{dir}\", exist_ok=True)\n",
    "# df.to_csv(f\"{dir}/df_{phylum.lower()}.tsv\", sep=\"\\t\", index=True)\n",
    "#\n",
    "# # закомментить после выполнения!!!"
   ],
   "id": "5cf2c10041e3adf4",
   "outputs": [],
   "execution_count": 6
  },
  {
   "metadata": {
    "ExecuteTime": {
     "end_time": "2025-05-28T12:21:36.497735Z",
     "start_time": "2025-05-28T12:21:36.495718Z"
    }
   },
   "cell_type": "code",
   "source": [
    "# сохраняем в заданную выше директорию\n",
    "# save_files(df, dir)\n",
    "\n",
    "# закомментить после выполнения!!!"
   ],
   "id": "273f516423af43c5",
   "outputs": [],
   "execution_count": 7
  },
  {
   "metadata": {
    "ExecuteTime": {
     "end_time": "2025-05-28T12:21:36.556671Z",
     "start_time": "2025-05-28T12:21:36.545305Z"
    }
   },
   "cell_type": "code",
   "source": [
    "# читаем сохраненную ранее таблицу\n",
    "df = pd.read_csv(f\"{dir}/df_{phylum.lower()}.tsv\", sep=\"\\t\", index_col=0,\n",
    "                 converters={11: ast.literal_eval, 13: ast.literal_eval})\n",
    "\n",
    "# получаем словарь для созданию кассет и protein_id для тех организмов, у кого нашелся экзон 37\n",
    "data, df_found_protein_ids = find_cassettes(df)\n",
    "\n",
    "# создаем кассеты и заодно получаем интроны для будущего анализа\n",
    "introns = create_many_cassettes(dir, data)"
   ],
   "id": "4e5380af962801f2",
   "outputs": [],
   "execution_count": 8
  },
  {
   "metadata": {
    "ExecuteTime": {
     "end_time": "2025-05-28T12:21:36.608027Z",
     "start_time": "2025-05-28T12:21:36.603817Z"
    }
   },
   "cell_type": "code",
   "source": [
    "# проверяем, чтобы в столбце equal_to_cds было везде True - это значит, что cds начинается со старт-кодона и заканчивается стоп-кодоном\n",
    "df_cds, dict_align_cds = dict_align_info_analyze(df_found_protein_ids, phylum, \"cds\", dir)\n",
    "df_cds.equal_to_cds.unique()"
   ],
   "id": "f73a8df54e5afca2",
   "outputs": [
    {
     "data": {
      "text/plain": [
       "array([ True])"
      ]
     },
     "execution_count": 9,
     "metadata": {},
     "output_type": "execute_result"
    }
   ],
   "execution_count": 9
  },
  {
   "metadata": {
    "ExecuteTime": {
     "end_time": "2025-05-28T12:21:36.671623Z",
     "start_time": "2025-05-28T12:21:36.665278Z"
    }
   },
   "cell_type": "code",
   "source": [
    "# смотрим на позиции стоп-кодона в интроне в его сохранении в cds\n",
    "df_cds_cassette, dict_align_cds_cassette = dict_align_info_analyze(df_found_protein_ids, phylum, \"cds_cassette\", dir)\n",
    "df_cds_cassette"
   ],
   "id": "7f3561d110e18237",
   "outputs": [
    {
     "data": {
      "text/plain": [
       "    sub_phylum               org_name                    org_name_protein_id  \\\n",
       "0  Gymnophiona  Rhinatrema_bivittatum  Rhinatrema_bivittatum__XP_029448917.1   \n",
       "1  Gymnophiona  Rhinatrema_bivittatum  Rhinatrema_bivittatum__XP_029448920.1   \n",
       "2  Gymnophiona  Rhinatrema_bivittatum  Rhinatrema_bivittatum__XP_029448918.1   \n",
       "\n",
       "   stop_codon_pos  equal_to_cds  cassette_intron_start  \\\n",
       "0             918         False                    881   \n",
       "1             918         False                    881   \n",
       "2             918         False                    881   \n",
       "\n",
       "   intron_length_to_stop_codon  intron_length  first_exon_length     source  \n",
       "0                           37           6770                110  psi_blast  \n",
       "1                           37           6770                110  psi_blast  \n",
       "2                           37           6770                110  psi_blast  "
      ],
      "text/html": [
       "<div>\n",
       "<style scoped>\n",
       "    .dataframe tbody tr th:only-of-type {\n",
       "        vertical-align: middle;\n",
       "    }\n",
       "\n",
       "    .dataframe tbody tr th {\n",
       "        vertical-align: top;\n",
       "    }\n",
       "\n",
       "    .dataframe thead th {\n",
       "        text-align: right;\n",
       "    }\n",
       "</style>\n",
       "<table border=\"1\" class=\"dataframe\">\n",
       "  <thead>\n",
       "    <tr style=\"text-align: right;\">\n",
       "      <th></th>\n",
       "      <th>sub_phylum</th>\n",
       "      <th>org_name</th>\n",
       "      <th>org_name_protein_id</th>\n",
       "      <th>stop_codon_pos</th>\n",
       "      <th>equal_to_cds</th>\n",
       "      <th>cassette_intron_start</th>\n",
       "      <th>intron_length_to_stop_codon</th>\n",
       "      <th>intron_length</th>\n",
       "      <th>first_exon_length</th>\n",
       "      <th>source</th>\n",
       "    </tr>\n",
       "  </thead>\n",
       "  <tbody>\n",
       "    <tr>\n",
       "      <th>0</th>\n",
       "      <td>Gymnophiona</td>\n",
       "      <td>Rhinatrema_bivittatum</td>\n",
       "      <td>Rhinatrema_bivittatum__XP_029448917.1</td>\n",
       "      <td>918</td>\n",
       "      <td>False</td>\n",
       "      <td>881</td>\n",
       "      <td>37</td>\n",
       "      <td>6770</td>\n",
       "      <td>110</td>\n",
       "      <td>psi_blast</td>\n",
       "    </tr>\n",
       "    <tr>\n",
       "      <th>1</th>\n",
       "      <td>Gymnophiona</td>\n",
       "      <td>Rhinatrema_bivittatum</td>\n",
       "      <td>Rhinatrema_bivittatum__XP_029448920.1</td>\n",
       "      <td>918</td>\n",
       "      <td>False</td>\n",
       "      <td>881</td>\n",
       "      <td>37</td>\n",
       "      <td>6770</td>\n",
       "      <td>110</td>\n",
       "      <td>psi_blast</td>\n",
       "    </tr>\n",
       "    <tr>\n",
       "      <th>2</th>\n",
       "      <td>Gymnophiona</td>\n",
       "      <td>Rhinatrema_bivittatum</td>\n",
       "      <td>Rhinatrema_bivittatum__XP_029448918.1</td>\n",
       "      <td>918</td>\n",
       "      <td>False</td>\n",
       "      <td>881</td>\n",
       "      <td>37</td>\n",
       "      <td>6770</td>\n",
       "      <td>110</td>\n",
       "      <td>psi_blast</td>\n",
       "    </tr>\n",
       "  </tbody>\n",
       "</table>\n",
       "</div>"
      ]
     },
     "execution_count": 10,
     "metadata": {},
     "output_type": "execute_result"
    }
   ],
   "execution_count": 10
  },
  {
   "metadata": {
    "ExecuteTime": {
     "end_time": "2025-05-28T12:21:36.750040Z",
     "start_time": "2025-05-28T12:21:36.745352Z"
    }
   },
   "cell_type": "code",
   "source": [
    "# ищем дубликаты\n",
    "df_cds_cassette[df_cds_cassette[\"org_name\"].duplicated(keep=False)]"
   ],
   "id": "52c531267968bbea",
   "outputs": [
    {
     "data": {
      "text/plain": [
       "    sub_phylum               org_name                    org_name_protein_id  \\\n",
       "0  Gymnophiona  Rhinatrema_bivittatum  Rhinatrema_bivittatum__XP_029448917.1   \n",
       "1  Gymnophiona  Rhinatrema_bivittatum  Rhinatrema_bivittatum__XP_029448920.1   \n",
       "2  Gymnophiona  Rhinatrema_bivittatum  Rhinatrema_bivittatum__XP_029448918.1   \n",
       "\n",
       "   stop_codon_pos  equal_to_cds  cassette_intron_start  \\\n",
       "0             918         False                    881   \n",
       "1             918         False                    881   \n",
       "2             918         False                    881   \n",
       "\n",
       "   intron_length_to_stop_codon  intron_length  first_exon_length     source  \n",
       "0                           37           6770                110  psi_blast  \n",
       "1                           37           6770                110  psi_blast  \n",
       "2                           37           6770                110  psi_blast  "
      ],
      "text/html": [
       "<div>\n",
       "<style scoped>\n",
       "    .dataframe tbody tr th:only-of-type {\n",
       "        vertical-align: middle;\n",
       "    }\n",
       "\n",
       "    .dataframe tbody tr th {\n",
       "        vertical-align: top;\n",
       "    }\n",
       "\n",
       "    .dataframe thead th {\n",
       "        text-align: right;\n",
       "    }\n",
       "</style>\n",
       "<table border=\"1\" class=\"dataframe\">\n",
       "  <thead>\n",
       "    <tr style=\"text-align: right;\">\n",
       "      <th></th>\n",
       "      <th>sub_phylum</th>\n",
       "      <th>org_name</th>\n",
       "      <th>org_name_protein_id</th>\n",
       "      <th>stop_codon_pos</th>\n",
       "      <th>equal_to_cds</th>\n",
       "      <th>cassette_intron_start</th>\n",
       "      <th>intron_length_to_stop_codon</th>\n",
       "      <th>intron_length</th>\n",
       "      <th>first_exon_length</th>\n",
       "      <th>source</th>\n",
       "    </tr>\n",
       "  </thead>\n",
       "  <tbody>\n",
       "    <tr>\n",
       "      <th>0</th>\n",
       "      <td>Gymnophiona</td>\n",
       "      <td>Rhinatrema_bivittatum</td>\n",
       "      <td>Rhinatrema_bivittatum__XP_029448917.1</td>\n",
       "      <td>918</td>\n",
       "      <td>False</td>\n",
       "      <td>881</td>\n",
       "      <td>37</td>\n",
       "      <td>6770</td>\n",
       "      <td>110</td>\n",
       "      <td>psi_blast</td>\n",
       "    </tr>\n",
       "    <tr>\n",
       "      <th>1</th>\n",
       "      <td>Gymnophiona</td>\n",
       "      <td>Rhinatrema_bivittatum</td>\n",
       "      <td>Rhinatrema_bivittatum__XP_029448920.1</td>\n",
       "      <td>918</td>\n",
       "      <td>False</td>\n",
       "      <td>881</td>\n",
       "      <td>37</td>\n",
       "      <td>6770</td>\n",
       "      <td>110</td>\n",
       "      <td>psi_blast</td>\n",
       "    </tr>\n",
       "    <tr>\n",
       "      <th>2</th>\n",
       "      <td>Gymnophiona</td>\n",
       "      <td>Rhinatrema_bivittatum</td>\n",
       "      <td>Rhinatrema_bivittatum__XP_029448918.1</td>\n",
       "      <td>918</td>\n",
       "      <td>False</td>\n",
       "      <td>881</td>\n",
       "      <td>37</td>\n",
       "      <td>6770</td>\n",
       "      <td>110</td>\n",
       "      <td>psi_blast</td>\n",
       "    </tr>\n",
       "  </tbody>\n",
       "</table>\n",
       "</div>"
      ]
     },
     "execution_count": 11,
     "metadata": {},
     "output_type": "execute_result"
    }
   ],
   "execution_count": 11
  },
  {
   "metadata": {
    "ExecuteTime": {
     "end_time": "2025-05-28T12:21:36.826239Z",
     "start_time": "2025-05-28T12:21:36.824361Z"
    }
   },
   "cell_type": "code",
   "source": [
    "# удаляем дубликаты\n",
    "\n",
    "# -----------------\n",
    "# 0, 2 - Rhinatrema_bivittatum__XP_029448917.1, Rhinatrema_bivittatum__XP_029448918.1\n",
    "# -----------------\n",
    "\n",
    "indices_to_drop = [0, 2]\n",
    "df_cds_cassette = df_cds_cassette.drop(indices_to_drop)"
   ],
   "id": "f23c5e6fcda8f112",
   "outputs": [],
   "execution_count": 12
  },
  {
   "metadata": {
    "ExecuteTime": {
     "end_time": "2025-05-28T12:21:36.932673Z",
     "start_time": "2025-05-28T12:21:36.930462Z"
    }
   },
   "cell_type": "code",
   "source": [
    "# создаем папку и файлы для выравнивания\n",
    "os.makedirs(f\"../alignment/psi_blast/{phylum}\", exist_ok=True)\n",
    "\n",
    "# закидываем в конец словаря референсную последовательность (вбить вручную)\n",
    "dict_align_cds_cassette[\"Geotrypetes_seraphini_reference\"] = read_single_fasta(\"../datasets/Gymnophiona/geotrypetes_seraphini_2/ncbi_dataset/data/cds_cassette.fa\")\n",
    "dict_align_to_fasta(dict_align_cds_cassette, f\"../Alignment/psi_blast/{phylum}/cds_cassette.fa\")\n",
    "dict_align_to_fasta(dict_align_cds_cassette, f\"../Alignment/psi_blast/{phylum}/cds_cassette.aln\")\n",
    "\n",
    "# закомментить последнюю строчку после выполнения!!!"
   ],
   "id": "7063f5bf7bf90de6",
   "outputs": [],
   "execution_count": 13
  },
  {
   "metadata": {
    "ExecuteTime": {
     "end_time": "2025-05-28T12:21:36.970668Z",
     "start_time": "2025-05-28T12:21:36.967902Z"
    }
   },
   "cell_type": "code",
   "source": [
    "# сохраняем табличку для последующей загрузки в results_summary ноутбук\n",
    "df_cds_cassette.to_csv(f\"../results_summary/psi_blast_{phylum}_cds_cassette.tsv\", sep=\"\\t\", index=False)"
   ],
   "id": "1628376f77f0f000",
   "outputs": [],
   "execution_count": 14
  },
  {
   "metadata": {},
   "cell_type": "markdown",
   "source": "## Osteoglossomorpha",
   "id": "3e759f6e0c53fa4c"
  },
  {
   "metadata": {
    "ExecuteTime": {
     "end_time": "2025-05-28T12:21:37.037297Z",
     "start_time": "2025-05-28T12:21:37.031504Z"
    }
   },
   "cell_type": "code",
   "source": "datasets_Deuterostomia[datasets_Deuterostomia[\"sub_phylum\"] == \"Osteoglossomorpha\"]",
   "id": "d3e9ef87522b3825",
   "outputs": [
    {
     "data": {
      "text/plain": [
       "           sub_phylum         org_name_protein_id                  org_name  \\\n",
       "69  Osteoglossomorpha  paramormyrops_kingsleyae_0  Paramormyrops_kingsleyae   \n",
       "70  Osteoglossomorpha      scleropages_formosus_1      Scleropages_formosus   \n",
       "\n",
       "    stop_codon_pos  equal_to_cds  cassette_intron_start  \\\n",
       "69            1254         False                   1133   \n",
       "70            1239         False                   1127   \n",
       "\n",
       "    intron_length_to_stop_codon  intron_length  first_exon_length    source  \n",
       "69                          121           2929                110  datasets  \n",
       "70                          112           3412                110  datasets  "
      ],
      "text/html": [
       "<div>\n",
       "<style scoped>\n",
       "    .dataframe tbody tr th:only-of-type {\n",
       "        vertical-align: middle;\n",
       "    }\n",
       "\n",
       "    .dataframe tbody tr th {\n",
       "        vertical-align: top;\n",
       "    }\n",
       "\n",
       "    .dataframe thead th {\n",
       "        text-align: right;\n",
       "    }\n",
       "</style>\n",
       "<table border=\"1\" class=\"dataframe\">\n",
       "  <thead>\n",
       "    <tr style=\"text-align: right;\">\n",
       "      <th></th>\n",
       "      <th>sub_phylum</th>\n",
       "      <th>org_name_protein_id</th>\n",
       "      <th>org_name</th>\n",
       "      <th>stop_codon_pos</th>\n",
       "      <th>equal_to_cds</th>\n",
       "      <th>cassette_intron_start</th>\n",
       "      <th>intron_length_to_stop_codon</th>\n",
       "      <th>intron_length</th>\n",
       "      <th>first_exon_length</th>\n",
       "      <th>source</th>\n",
       "    </tr>\n",
       "  </thead>\n",
       "  <tbody>\n",
       "    <tr>\n",
       "      <th>69</th>\n",
       "      <td>Osteoglossomorpha</td>\n",
       "      <td>paramormyrops_kingsleyae_0</td>\n",
       "      <td>Paramormyrops_kingsleyae</td>\n",
       "      <td>1254</td>\n",
       "      <td>False</td>\n",
       "      <td>1133</td>\n",
       "      <td>121</td>\n",
       "      <td>2929</td>\n",
       "      <td>110</td>\n",
       "      <td>datasets</td>\n",
       "    </tr>\n",
       "    <tr>\n",
       "      <th>70</th>\n",
       "      <td>Osteoglossomorpha</td>\n",
       "      <td>scleropages_formosus_1</td>\n",
       "      <td>Scleropages_formosus</td>\n",
       "      <td>1239</td>\n",
       "      <td>False</td>\n",
       "      <td>1127</td>\n",
       "      <td>112</td>\n",
       "      <td>3412</td>\n",
       "      <td>110</td>\n",
       "      <td>datasets</td>\n",
       "    </tr>\n",
       "  </tbody>\n",
       "</table>\n",
       "</div>"
      ]
     },
     "execution_count": 15,
     "metadata": {},
     "output_type": "execute_result"
    }
   ],
   "execution_count": 15
  },
  {
   "metadata": {},
   "cell_type": "markdown",
   "source": "[paramormyrops_kingsleyae_osteoglossomorpha](https://blast.ncbi.nlm.nih.gov/Blast.cgi?PAGE_TYPE=BlastSearch&USER_FORMAT_DEFAULTS=on&SET_SAVED_SEARCH=true&PAGE=Proteins&PROGRAM=blastp&QUERY=%3EXP_023650121.1%20nxf1a%20%5Borganism%3DParamormyrops%20kingsleyae%5D%20%5BGeneID%3D111834735%5D%20%5Bisoform%3DX2%5D%0AMTFFRKRYDNLAVVAYIHPDEDCDGVSFIQREVRSNGRLLEEHDDRVGGPQFRNRKGRGPFRGRMYSEQV%0AGRPRNRVGPGGGGPNPRTRFEDDDGDVAMNDSSQDGTPQRRYNPYDRPNRRGHNRPDRDRRGGGGGGGGY%0AGGGPAGGGGGGGAGRKNWFRMTIPHGKKYEKKWLLTVLKDNCAMPFTPIHYQTEGNKVQFYIEDATTANA%0ALQKVSRKITDTEGYKVTVLMNSCPPPAFIQTELKPEDLEHLKQCMAKRFDGSQQALDLNSIRTDPDLVSQ%0ANIDVVLNRKNCMQAVIKIIEENIPELVCLNLSNNRLYKLDDLAELISKAPNLKTLNLSQNELRTERELDK%0AIKGFKLVEIWLDRNPLCDHFKDQPNYISAVRERFPRVLKLDGHDLPPPIGFDVEAPTTLPPCKGSYFVSD%0AEIKSLILRFLQQYYNCYDSADRQPLLEAYHDGACFSLSIPFSLQNPSRSSLGDYHKDSRNIKKLKDPTTR%0AFRLLKHTRLNVVAFLNELPKTQHDTASFTVDVSTYTNTLLSFTVSGVFKEVDGRSRDAVRAFSRIFIAVP%0AAGNAGLCIVNDELFVRNATTEEIRKAFAAPAPTPSSSPVPTLSAPQQEMLSSFSQKSGMNLEWSQKCLQD%0ANDWDFNRAAEIFTQLKAQGKIPDVAFIK&JOB_TITLE=XP_023650121.1%20nxf1a%20%5Borganism%3DParamormyrops...&GAPCOSTS=11%201&DATABASE=nr&BLAST_PROGRAMS=psiBlast&MAX_NUM_SEQ=100&SHORT_QUERY_ADJUST=on&EXPECT=0.05&WORD_SIZE=3&MATRIX_NAME=BLOSUM62&COMPOSITION_BASED_STATISTICS=2&I_THRESH=0.005&EQ_MENU=Osteoglossomorpha%20%28taxid%3A31089%29&EQ_MENU1=Paramormyrops%20kingsleyae%20(taxid:1676925)&ORG_EXCLUDE1=on&NUM_ORG=2&PROG_DEFAULTS=on&SHOW_OVERVIEW=on&SHOW_LINKOUT=on&ALIGNMENT_VIEW=Pairwise&MASK_CHAR=2&MASK_COLOR=1&GET_SEQUENCE=on&NCBI_GI=false&NUM_OVERVIEW=100&DESCRIPTIONS=100&ALIGNMENTS=100&FORMAT_OBJECT=Alignment&FORMAT_TYPE=HTML&SHOW_CDS_FEATURE=false&ADV_VIEW=on&BOOKMARK=on)",
   "id": "7efaa32632da4cdd"
  },
  {
   "metadata": {
    "ExecuteTime": {
     "end_time": "2025-05-28T12:21:37.114202Z",
     "start_time": "2025-05-28T12:21:37.112695Z"
    }
   },
   "cell_type": "code",
   "source": [
    "phylum = \"Osteoglossomorpha\"\n",
    "dir = f\"../Sequences_protein_id/{phylum}\""
   ],
   "id": "a9429d9d37c3f734",
   "outputs": [],
   "execution_count": 16
  },
  {
   "metadata": {
    "ExecuteTime": {
     "end_time": "2025-05-28T12:21:37.190768Z",
     "start_time": "2025-05-28T12:21:37.189067Z"
    }
   },
   "cell_type": "code",
   "source": [
    "# # читаем результат BLAST\n",
    "# name_of_blast_res = f\"../blast_res/psi_blast/paramormyrops_kingsleyae_{phylum.lower()}.xml\"\n",
    "#\n",
    "# # парсим, фильтруем и добавляем новые столбцы с координатами, именем организма и др.\n",
    "# df = parse_psiblast_xml(name_of_blast_res)\n",
    "# df = filter_psiblast_hits(df, min_qc=0, min_ident=0, min_sbjct_len=500)\n",
    "# df = update_df(df)\n",
    "#\n",
    "# # создаем подпапку в заданной выше директории и сохраняем таблицу, чтобы потом не ждать\n",
    "# os.makedirs(f\"{dir}\", exist_ok=True)\n",
    "# df.to_csv(f\"{dir}/df_{phylum.lower()}.tsv\", sep=\"\\t\", index=True)\n",
    "#\n",
    "# # закомментить после выполнения!!!"
   ],
   "id": "60ec4a7391c0d510",
   "outputs": [],
   "execution_count": 17
  },
  {
   "metadata": {
    "ExecuteTime": {
     "end_time": "2025-05-28T12:21:37.233042Z",
     "start_time": "2025-05-28T12:21:37.231659Z"
    }
   },
   "cell_type": "code",
   "source": [
    "# сохраняем в заданную выше директорию\n",
    "# save_files(df, dir)\n",
    "\n",
    "# закомментить после выполнения!!!"
   ],
   "id": "23fce75026babf18",
   "outputs": [],
   "execution_count": 18
  },
  {
   "metadata": {
    "ExecuteTime": {
     "end_time": "2025-05-28T12:21:37.299990Z",
     "start_time": "2025-05-28T12:21:37.292816Z"
    }
   },
   "cell_type": "code",
   "source": [
    "# читаем сохраненную ранее таблицу\n",
    "df = pd.read_csv(f\"{dir}/df_{phylum.lower()}.tsv\", sep=\"\\t\", index_col=0,\n",
    "                 converters={11: ast.literal_eval, 13: ast.literal_eval})\n",
    "\n",
    "# получаем словарь для созданию кассет и protein_id для тех организмов, у кого нашелся экзон 37\n",
    "data, df_found_protein_ids = find_cassettes(df)\n",
    "\n",
    "# создаем кассеты и заодно получаем интроны для будущего анализа\n",
    "introns = create_many_cassettes(dir, data)"
   ],
   "id": "1f7e531e0a1ccdd3",
   "outputs": [],
   "execution_count": 19
  },
  {
   "metadata": {
    "ExecuteTime": {
     "end_time": "2025-05-28T12:21:37.352812Z",
     "start_time": "2025-05-28T12:21:37.351319Z"
    }
   },
   "cell_type": "code",
   "source": [
    "# проверяем, чтобы в столбце equal_to_cds было везде True - это значит, что cds начинается со старт-кодона и заканчивается стоп-кодоном\n",
    "# df_cds, dict_align_cds = dict_align_info_analyze(df_found_protein_ids, \"cds\", dir)\n",
    "# df_cds.equal_to_cds.unique()\n",
    "\n",
    "# падает с ошибкой, потому что нашелся всего 1 вид и старт-кодон не в начале последовательности\n",
    "# дальше проводить анализ нет смысла"
   ],
   "id": "c5b45f21b8a75b6b",
   "outputs": [],
   "execution_count": 20
  },
  {
   "metadata": {},
   "cell_type": "markdown",
   "source": "## Caudata",
   "id": "aa086f92789efca2"
  },
  {
   "metadata": {
    "ExecuteTime": {
     "end_time": "2025-05-28T12:21:37.412600Z",
     "start_time": "2025-05-28T12:21:37.408111Z"
    }
   },
   "cell_type": "code",
   "source": "datasets_Deuterostomia[datasets_Deuterostomia[\"sub_phylum\"] == \"Caudata\"]",
   "id": "8d339e987b55a8cd",
   "outputs": [
    {
     "data": {
      "text/plain": [
       "   sub_phylum    org_name_protein_id             org_name  stop_codon_pos  \\\n",
       "75    Caudata  ambystoma_mexicanum_0  Ambystoma_mexicanum            1068   \n",
       "76    Caudata    pleurodeles_waltl_1    Pleurodeles_waltl            1344   \n",
       "\n",
       "    equal_to_cds  cassette_intron_start  intron_length_to_stop_codon  \\\n",
       "75         False                   1067                            1   \n",
       "76         False                   1193                          151   \n",
       "\n",
       "    intron_length  first_exon_length    source  \n",
       "75          10340                110  datasets  \n",
       "76           3245                110  datasets  "
      ],
      "text/html": [
       "<div>\n",
       "<style scoped>\n",
       "    .dataframe tbody tr th:only-of-type {\n",
       "        vertical-align: middle;\n",
       "    }\n",
       "\n",
       "    .dataframe tbody tr th {\n",
       "        vertical-align: top;\n",
       "    }\n",
       "\n",
       "    .dataframe thead th {\n",
       "        text-align: right;\n",
       "    }\n",
       "</style>\n",
       "<table border=\"1\" class=\"dataframe\">\n",
       "  <thead>\n",
       "    <tr style=\"text-align: right;\">\n",
       "      <th></th>\n",
       "      <th>sub_phylum</th>\n",
       "      <th>org_name_protein_id</th>\n",
       "      <th>org_name</th>\n",
       "      <th>stop_codon_pos</th>\n",
       "      <th>equal_to_cds</th>\n",
       "      <th>cassette_intron_start</th>\n",
       "      <th>intron_length_to_stop_codon</th>\n",
       "      <th>intron_length</th>\n",
       "      <th>first_exon_length</th>\n",
       "      <th>source</th>\n",
       "    </tr>\n",
       "  </thead>\n",
       "  <tbody>\n",
       "    <tr>\n",
       "      <th>75</th>\n",
       "      <td>Caudata</td>\n",
       "      <td>ambystoma_mexicanum_0</td>\n",
       "      <td>Ambystoma_mexicanum</td>\n",
       "      <td>1068</td>\n",
       "      <td>False</td>\n",
       "      <td>1067</td>\n",
       "      <td>1</td>\n",
       "      <td>10340</td>\n",
       "      <td>110</td>\n",
       "      <td>datasets</td>\n",
       "    </tr>\n",
       "    <tr>\n",
       "      <th>76</th>\n",
       "      <td>Caudata</td>\n",
       "      <td>pleurodeles_waltl_1</td>\n",
       "      <td>Pleurodeles_waltl</td>\n",
       "      <td>1344</td>\n",
       "      <td>False</td>\n",
       "      <td>1193</td>\n",
       "      <td>151</td>\n",
       "      <td>3245</td>\n",
       "      <td>110</td>\n",
       "      <td>datasets</td>\n",
       "    </tr>\n",
       "  </tbody>\n",
       "</table>\n",
       "</div>"
      ]
     },
     "execution_count": 21,
     "metadata": {},
     "output_type": "execute_result"
    }
   ],
   "execution_count": 21
  },
  {
   "metadata": {},
   "cell_type": "markdown",
   "source": "[ambystoma_mexicanum_caudata](https://blast.ncbi.nlm.nih.gov/Blast.cgi?PAGE_TYPE=BlastSearch&USER_FORMAT_DEFAULTS=on&SET_SAVED_SEARCH=true&PAGE=Proteins&PROGRAM=blastp&QUERY=%3EXP_069501258.1%20NXF1%20%5Borganism%3DAmbystoma%20mexicanum%5D%20%5BGeneID%3D138567183%5D%0AMGRRAGPTAPPIDGRSFEHDDRVGGGFPMKKRKGRGPFRGKMYSGEQGHRGRNRGAGGAPPRPRLEDRDG%0ADVAMNDTLDNPRNRYNPYGHRPSRHEDWSARDQGGPSNIHITVRRDMPPQDQRGGSRENRKQWFRITIPQ%0AGRKYEKTWILSAIQSACTVPFIPIEFHFDRMRAEFYVEGENVAKALQQLSRRITDKDDNKMVILIKSCNP%0APPSTQKEFQDLKDEDIVQLKLCMSRRYDGALQALDLKNVRSDTELMTQGVVVMLQKRSCMEAVLRIIEEN%0AIPELLALDLSNNKLCRLEDLTELPQKAPLLKHLNLSGNELKTERELDRLKGMKLQELWLDGNPLCDFFRD%0AQSSYISAIRERFPKLLRLDGHDLPPPIAFDVETPTTLPPSKGSYFGSDDIKLLVLRFLHQYYSVYDSGNR%0AQALLDAYHDGACCSINIPFFTQNQNRNNLSDYFKDSRNVKKQKDPIMRFKLLKHTRLSVVAFLNELPKTL%0AHDINSFVIDITAQTNTLLCFAVHGVFKEVEGKFRDSTRAFNRVFIAVPAANAGLCIVNDQLHVRQATTEE%0AIRKAFVTPAPTPSSSPVLTLPSTHQEMLQAFSLQSGMNLEWSQKCLIDNDWDFARSAQIFTQLKLEGKIP%0ADVAFLK&JOB_TITLE=ambystoma_mexicanum_caudata&GAPCOSTS=11%201&DATABASE=nr&BLAST_PROGRAMS=psiBlast&MAX_NUM_SEQ=100&SHORT_QUERY_ADJUST=on&EXPECT=0.05&WORD_SIZE=3&MATRIX_NAME=BLOSUM62&COMPOSITION_BASED_STATISTICS=2&I_THRESH=0.005&EQ_MENU=Caudata%20%28taxid%3A8293%29&EQ_MENU1=Ambystoma%20mexicanum%20(taxid:8296)&ORG_EXCLUDE1=on&NUM_ORG=2&PROG_DEFAULTS=on&SHOW_OVERVIEW=on&SHOW_LINKOUT=on&ALIGNMENT_VIEW=Pairwise&MASK_CHAR=2&MASK_COLOR=1&GET_SEQUENCE=on&NCBI_GI=false&NUM_OVERVIEW=100&DESCRIPTIONS=100&ALIGNMENTS=100&FORMAT_OBJECT=Alignment&FORMAT_TYPE=HTML&SHOW_CDS_FEATURE=false&ADV_VIEW=on&BOOKMARK=on)",
   "id": "88263daeb1b9ab45"
  },
  {
   "metadata": {
    "ExecuteTime": {
     "end_time": "2025-05-28T12:21:37.485147Z",
     "start_time": "2025-05-28T12:21:37.483534Z"
    }
   },
   "cell_type": "code",
   "source": [
    "phylum = \"Caudata\"\n",
    "dir = f\"../Sequences_protein_id/{phylum}\""
   ],
   "id": "940ab5d02ea4ef8",
   "outputs": [],
   "execution_count": 22
  },
  {
   "metadata": {
    "ExecuteTime": {
     "end_time": "2025-05-28T12:21:37.544271Z",
     "start_time": "2025-05-28T12:21:37.542673Z"
    }
   },
   "cell_type": "code",
   "source": [
    "# # читаем результат BLAST\n",
    "# name_of_blast_res = f\"../blast_res/psi_blast/ambystoma_mexicanum_{phylum.lower()}.xml\"\n",
    "#\n",
    "# # парсим, фильтруем и добавляем новые столбцы с координатами, именем организма и др.\n",
    "# df = parse_psiblast_xml(name_of_blast_res)\n",
    "# df = filter_psiblast_hits(df, min_qc=0.8, min_ident=0, min_sbjct_len=500)\n",
    "# df = update_df(df)\n",
    "#\n",
    "# # создаем подпапку в заданной выше директории и сохраняем таблицу, чтобы потом не ждать\n",
    "# os.makedirs(f\"{dir}\", exist_ok=True)\n",
    "# df.to_csv(f\"{dir}/df_{phylum.lower()}.tsv\", sep=\"\\t\", index=True)\n",
    "#\n",
    "# # закомментить после выполнения!!!"
   ],
   "id": "aa63901d80542fb0",
   "outputs": [],
   "execution_count": 23
  },
  {
   "metadata": {
    "ExecuteTime": {
     "end_time": "2025-05-28T12:21:37.606495Z",
     "start_time": "2025-05-28T12:21:37.605053Z"
    }
   },
   "cell_type": "code",
   "source": [
    "# сохраняем в заданную выше директорию\n",
    "# save_files(df, dir)\n",
    "\n",
    "# закомментить после выполнения!!!"
   ],
   "id": "b7dcd6903631690b",
   "outputs": [],
   "execution_count": 24
  },
  {
   "metadata": {
    "ExecuteTime": {
     "end_time": "2025-05-28T12:21:37.658339Z",
     "start_time": "2025-05-28T12:21:37.652447Z"
    }
   },
   "cell_type": "code",
   "source": [
    "# читаем сохраненную ранее таблицу\n",
    "df = pd.read_csv(f\"{dir}/df_{phylum.lower()}.tsv\", sep=\"\\t\", index_col=0,\n",
    "                 converters={11: ast.literal_eval, 13: ast.literal_eval})\n",
    "\n",
    "# получаем словарь для созданию кассет и protein_id для тех организмов, у кого нашелся экзон 37\n",
    "data, df_found_protein_ids = find_cassettes(df)\n",
    "\n",
    "# создаем кассеты и заодно получаем интроны для будущего анализа\n",
    "introns = create_many_cassettes(dir, data)"
   ],
   "id": "d43084bc70c2c16",
   "outputs": [],
   "execution_count": 25
  },
  {
   "metadata": {
    "ExecuteTime": {
     "end_time": "2025-05-28T12:21:37.714103Z",
     "start_time": "2025-05-28T12:21:37.710330Z"
    }
   },
   "cell_type": "code",
   "source": [
    "# проверяем, чтобы в столбце equal_to_cds было везде True - это значит, что cds начинается со старт-кодона и заканчивается стоп-кодоном\n",
    "df_cds, dict_align_cds = dict_align_info_analyze(df_found_protein_ids, phylum, \"cds\", dir)\n",
    "df_cds.equal_to_cds.unique()"
   ],
   "id": "96126ee944a0de10",
   "outputs": [
    {
     "data": {
      "text/plain": [
       "array([ True])"
      ]
     },
     "execution_count": 26,
     "metadata": {},
     "output_type": "execute_result"
    }
   ],
   "execution_count": 26
  },
  {
   "metadata": {
    "ExecuteTime": {
     "end_time": "2025-05-28T12:21:37.776191Z",
     "start_time": "2025-05-28T12:21:37.770440Z"
    }
   },
   "cell_type": "code",
   "source": [
    "# смотрим на позиции стоп-кодона в интроне в его сохранении в cds\n",
    "df_cds_cassette, dict_align_cds_cassette = dict_align_info_analyze(df_found_protein_ids, phylum, \"cds_cassette\", dir)\n",
    "df_cds_cassette"
   ],
   "id": "807184766b61b7f5",
   "outputs": [
    {
     "data": {
      "text/plain": [
       "  sub_phylum           org_name              org_name_protein_id  \\\n",
       "0    Caudata  Pleurodeles_waltl  Pleurodeles_waltl__KAJ1108515.1   \n",
       "\n",
       "   stop_codon_pos  equal_to_cds  cassette_intron_start  \\\n",
       "0            1245         False                   1094   \n",
       "\n",
       "   intron_length_to_stop_codon  intron_length  first_exon_length     source  \n",
       "0                          151           3245                110  psi_blast  "
      ],
      "text/html": [
       "<div>\n",
       "<style scoped>\n",
       "    .dataframe tbody tr th:only-of-type {\n",
       "        vertical-align: middle;\n",
       "    }\n",
       "\n",
       "    .dataframe tbody tr th {\n",
       "        vertical-align: top;\n",
       "    }\n",
       "\n",
       "    .dataframe thead th {\n",
       "        text-align: right;\n",
       "    }\n",
       "</style>\n",
       "<table border=\"1\" class=\"dataframe\">\n",
       "  <thead>\n",
       "    <tr style=\"text-align: right;\">\n",
       "      <th></th>\n",
       "      <th>sub_phylum</th>\n",
       "      <th>org_name</th>\n",
       "      <th>org_name_protein_id</th>\n",
       "      <th>stop_codon_pos</th>\n",
       "      <th>equal_to_cds</th>\n",
       "      <th>cassette_intron_start</th>\n",
       "      <th>intron_length_to_stop_codon</th>\n",
       "      <th>intron_length</th>\n",
       "      <th>first_exon_length</th>\n",
       "      <th>source</th>\n",
       "    </tr>\n",
       "  </thead>\n",
       "  <tbody>\n",
       "    <tr>\n",
       "      <th>0</th>\n",
       "      <td>Caudata</td>\n",
       "      <td>Pleurodeles_waltl</td>\n",
       "      <td>Pleurodeles_waltl__KAJ1108515.1</td>\n",
       "      <td>1245</td>\n",
       "      <td>False</td>\n",
       "      <td>1094</td>\n",
       "      <td>151</td>\n",
       "      <td>3245</td>\n",
       "      <td>110</td>\n",
       "      <td>psi_blast</td>\n",
       "    </tr>\n",
       "  </tbody>\n",
       "</table>\n",
       "</div>"
      ]
     },
     "execution_count": 27,
     "metadata": {},
     "output_type": "execute_result"
    }
   ],
   "execution_count": 27
  },
  {
   "metadata": {
    "ExecuteTime": {
     "end_time": "2025-05-28T12:21:37.850303Z",
     "start_time": "2025-05-28T12:21:37.846634Z"
    }
   },
   "cell_type": "code",
   "source": [
    "# ищем дубликаты\n",
    "df_cds_cassette[df_cds_cassette[\"org_name\"].duplicated(keep=False)]"
   ],
   "id": "93aaa5d23da59381",
   "outputs": [
    {
     "data": {
      "text/plain": [
       "Empty DataFrame\n",
       "Columns: [sub_phylum, org_name, org_name_protein_id, stop_codon_pos, equal_to_cds, cassette_intron_start, intron_length_to_stop_codon, intron_length, first_exon_length, source]\n",
       "Index: []"
      ],
      "text/html": [
       "<div>\n",
       "<style scoped>\n",
       "    .dataframe tbody tr th:only-of-type {\n",
       "        vertical-align: middle;\n",
       "    }\n",
       "\n",
       "    .dataframe tbody tr th {\n",
       "        vertical-align: top;\n",
       "    }\n",
       "\n",
       "    .dataframe thead th {\n",
       "        text-align: right;\n",
       "    }\n",
       "</style>\n",
       "<table border=\"1\" class=\"dataframe\">\n",
       "  <thead>\n",
       "    <tr style=\"text-align: right;\">\n",
       "      <th></th>\n",
       "      <th>sub_phylum</th>\n",
       "      <th>org_name</th>\n",
       "      <th>org_name_protein_id</th>\n",
       "      <th>stop_codon_pos</th>\n",
       "      <th>equal_to_cds</th>\n",
       "      <th>cassette_intron_start</th>\n",
       "      <th>intron_length_to_stop_codon</th>\n",
       "      <th>intron_length</th>\n",
       "      <th>first_exon_length</th>\n",
       "      <th>source</th>\n",
       "    </tr>\n",
       "  </thead>\n",
       "  <tbody>\n",
       "  </tbody>\n",
       "</table>\n",
       "</div>"
      ]
     },
     "execution_count": 28,
     "metadata": {},
     "output_type": "execute_result"
    }
   ],
   "execution_count": 28
  },
  {
   "metadata": {
    "ExecuteTime": {
     "end_time": "2025-05-28T12:21:37.921612Z",
     "start_time": "2025-05-28T12:21:37.919890Z"
    }
   },
   "cell_type": "code",
   "source": [
    "# удаляем дубликаты\n",
    "\n",
    "# -----------------\n",
    "\n",
    "# -----------------\n",
    "\n",
    "# indices_to_drop = []\n",
    "# df_cds_cassette = df_cds_cassette.drop(indices_to_drop)"
   ],
   "id": "89898c28d58e2f3",
   "outputs": [],
   "execution_count": 29
  },
  {
   "metadata": {
    "ExecuteTime": {
     "end_time": "2025-05-28T12:21:37.987093Z",
     "start_time": "2025-05-28T12:21:37.985044Z"
    }
   },
   "cell_type": "code",
   "source": [
    "# создаем папку и файлы для выравнивания\n",
    "os.makedirs(f\"../alignment/psi_blast/{phylum}\", exist_ok=True)\n",
    "\n",
    "# закидываем в конец словаря референсную последовательность (вбить вручную)\n",
    "dict_align_cds_cassette[\"Geotrypetes_seraphini_reference\"] = read_single_fasta(\"../datasets/Gymnophiona/geotrypetes_seraphini_2/ncbi_dataset/data/cds_cassette.fa\")\n",
    "dict_align_to_fasta(dict_align_cds_cassette, f\"../Alignment/psi_blast/{phylum}/cds_cassette.fa\")\n",
    "# dict_align_to_fasta(dict_align_cds_cassette, f\"../alignment/psi_blast/{phylum}/cds_cassette.aln\")\n",
    "\n",
    "# закомментить последнюю строчку после выполнения!!!"
   ],
   "id": "a89a9462afb22bd5",
   "outputs": [],
   "execution_count": 30
  },
  {
   "metadata": {
    "ExecuteTime": {
     "end_time": "2025-05-28T12:21:38.046973Z",
     "start_time": "2025-05-28T12:21:38.044736Z"
    }
   },
   "cell_type": "code",
   "source": [
    "# сохраняем табличку для последующей загрузки в results_summary ноутбук\n",
    "df_cds_cassette.to_csv(f\"../results_summary/psi_blast_{phylum}_cds_cassette.tsv\", sep=\"\\t\", index=False)"
   ],
   "id": "e0de053bd824581b",
   "outputs": [],
   "execution_count": 31
  },
  {
   "metadata": {},
   "cell_type": "markdown",
   "source": "## Crocodylia",
   "id": "99454b4907c41ff4"
  },
  {
   "metadata": {
    "ExecuteTime": {
     "end_time": "2025-05-28T12:21:38.108478Z",
     "start_time": "2025-05-28T12:21:38.103609Z"
    }
   },
   "cell_type": "code",
   "source": "datasets_Deuterostomia[datasets_Deuterostomia[\"sub_phylum\"] == \"Crocodylia\"]",
   "id": "29290607720472fe",
   "outputs": [
    {
     "data": {
      "text/plain": [
       "     sub_phylum           org_name_protein_id                    org_name  \\\n",
       "134  Crocodylia          alligator_sinensis_1          Alligator_sinensis   \n",
       "135  Crocodylia  alligator_mississippiensis_0  Alligator_mississippiensis   \n",
       "\n",
       "     stop_codon_pos  equal_to_cds  cassette_intron_start  \\\n",
       "134             999         False                    851   \n",
       "135            1293         False                   1145   \n",
       "\n",
       "     intron_length_to_stop_codon  intron_length  first_exon_length    source  \n",
       "134                          148           1497                110  datasets  \n",
       "135                          148           1618                110  datasets  "
      ],
      "text/html": [
       "<div>\n",
       "<style scoped>\n",
       "    .dataframe tbody tr th:only-of-type {\n",
       "        vertical-align: middle;\n",
       "    }\n",
       "\n",
       "    .dataframe tbody tr th {\n",
       "        vertical-align: top;\n",
       "    }\n",
       "\n",
       "    .dataframe thead th {\n",
       "        text-align: right;\n",
       "    }\n",
       "</style>\n",
       "<table border=\"1\" class=\"dataframe\">\n",
       "  <thead>\n",
       "    <tr style=\"text-align: right;\">\n",
       "      <th></th>\n",
       "      <th>sub_phylum</th>\n",
       "      <th>org_name_protein_id</th>\n",
       "      <th>org_name</th>\n",
       "      <th>stop_codon_pos</th>\n",
       "      <th>equal_to_cds</th>\n",
       "      <th>cassette_intron_start</th>\n",
       "      <th>intron_length_to_stop_codon</th>\n",
       "      <th>intron_length</th>\n",
       "      <th>first_exon_length</th>\n",
       "      <th>source</th>\n",
       "    </tr>\n",
       "  </thead>\n",
       "  <tbody>\n",
       "    <tr>\n",
       "      <th>134</th>\n",
       "      <td>Crocodylia</td>\n",
       "      <td>alligator_sinensis_1</td>\n",
       "      <td>Alligator_sinensis</td>\n",
       "      <td>999</td>\n",
       "      <td>False</td>\n",
       "      <td>851</td>\n",
       "      <td>148</td>\n",
       "      <td>1497</td>\n",
       "      <td>110</td>\n",
       "      <td>datasets</td>\n",
       "    </tr>\n",
       "    <tr>\n",
       "      <th>135</th>\n",
       "      <td>Crocodylia</td>\n",
       "      <td>alligator_mississippiensis_0</td>\n",
       "      <td>Alligator_mississippiensis</td>\n",
       "      <td>1293</td>\n",
       "      <td>False</td>\n",
       "      <td>1145</td>\n",
       "      <td>148</td>\n",
       "      <td>1618</td>\n",
       "      <td>110</td>\n",
       "      <td>datasets</td>\n",
       "    </tr>\n",
       "  </tbody>\n",
       "</table>\n",
       "</div>"
      ]
     },
     "execution_count": 32,
     "metadata": {},
     "output_type": "execute_result"
    }
   ],
   "execution_count": 32
  },
  {
   "metadata": {},
   "cell_type": "markdown",
   "source": "[alligator_sinensis_crocodylia](https://blast.ncbi.nlm.nih.gov/Blast.cgi?PAGE_TYPE=BlastSearch&USER_FORMAT_DEFAULTS=on&SET_SAVED_SEARCH=true&PAGE=Proteins&PROGRAM=blastp&QUERY=%3EXP_025070745.1%20NXF1%20%5Borganism%3DAlligator%20sinensis%5D%20%5BGeneID%3D102374093%5D%0AMSDVHDGPRCRYNPYGSRPNRRGDDWHDRGRGGASNIHVAARRDQPIPDRGGNAGRDGTRKNWFKITIPY%0AGRKYDRSWLLTAIQNVCTVPFNPVEFHYDHNRAQFYVEDATAASALKLVSRKITDRENYKVVIIINSSAP%0APQSVQNELKPEEIEHLKLCMSKRYDRLQQALDLKDLRTDSDLVAQNVDMVLKRCSCMQAVLRIIEENIIP%0AELLSLNLSGNKLYRLDDLAELAQKATNIKILNLSRNELKSERELDKVKGLKLEELWLDGNPLCDCFRDQS%0ATYISAVRERFPKLLRLDGHELPPPIAFDVEAPTTLPPCKGSYFGSDNVKVLALRFLQLYYSIYDSGDRQG%0ALLDAYHDGACCSLSIPFFPQNPSRSTLSEYFKDSRNVKKLKDPTMRFKLLKHTRLNVVAFLNELPKTQHD%0AINSFVVDVCAQTNTLLCFAVHGIFKEVDGKSRDSVRAFTRVFVVVPAGNSGLCIVNDQLFVRNATTEEIR%0AKAFVMPAPTPSSSPVPTLSAEQQEMLQAFSMQSGMNLEWSQKCLQDNDWDYSRAAQVFTQLKVTQGPPVG%0AVGWGGRRVRGTPRGGWEGTPRVTSALSQ&JOB_TITLE=alligator_sinensis_crocodylia&GAPCOSTS=11%201&DATABASE=nr&BLAST_PROGRAMS=psiBlast&MAX_NUM_SEQ=100&SHORT_QUERY_ADJUST=on&EXPECT=0.05&WORD_SIZE=3&MATRIX_NAME=BLOSUM62&COMPOSITION_BASED_STATISTICS=2&I_THRESH=0.005&EQ_MENU=Crocodylia%20%28taxid%3A8493%29&EQ_MENU1=Alligator%20sinensis%20(taxid:38654)&ORG_EXCLUDE1=on&NUM_ORG=2&PROG_DEFAULTS=on&SHOW_OVERVIEW=on&SHOW_LINKOUT=on&ALIGNMENT_VIEW=Pairwise&MASK_CHAR=2&MASK_COLOR=1&GET_SEQUENCE=on&NCBI_GI=false&NUM_OVERVIEW=100&DESCRIPTIONS=100&ALIGNMENTS=100&FORMAT_OBJECT=Alignment&FORMAT_TYPE=HTML&SHOW_CDS_FEATURE=false&ADV_VIEW=on&BOOKMARK=on)",
   "id": "2eb5160152adfdde"
  },
  {
   "metadata": {},
   "cell_type": "markdown",
   "source": "No significant similarity found.",
   "id": "648e103c84dca83f"
  },
  {
   "metadata": {},
   "cell_type": "markdown",
   "source": "## Cladistia",
   "id": "cec9894212fd2adc"
  },
  {
   "metadata": {
    "ExecuteTime": {
     "end_time": "2025-05-28T12:21:38.186526Z",
     "start_time": "2025-05-28T12:21:38.181802Z"
    }
   },
   "cell_type": "code",
   "source": "datasets_Deuterostomia[datasets_Deuterostomia[\"sub_phylum\"] == \"Cladistia\"]",
   "id": "ccb9031e447230f",
   "outputs": [
    {
     "data": {
      "text/plain": [
       "   sub_phylum          org_name_protein_id                   org_name  \\\n",
       "71  Cladistia  erpetoichthys_calabaricus_0  Erpetoichthys_calabaricus   \n",
       "\n",
       "    stop_codon_pos  equal_to_cds  cassette_intron_start  \\\n",
       "71            1173         False                   1118   \n",
       "\n",
       "    intron_length_to_stop_codon  intron_length  first_exon_length    source  \n",
       "71                           55           3662                110  datasets  "
      ],
      "text/html": [
       "<div>\n",
       "<style scoped>\n",
       "    .dataframe tbody tr th:only-of-type {\n",
       "        vertical-align: middle;\n",
       "    }\n",
       "\n",
       "    .dataframe tbody tr th {\n",
       "        vertical-align: top;\n",
       "    }\n",
       "\n",
       "    .dataframe thead th {\n",
       "        text-align: right;\n",
       "    }\n",
       "</style>\n",
       "<table border=\"1\" class=\"dataframe\">\n",
       "  <thead>\n",
       "    <tr style=\"text-align: right;\">\n",
       "      <th></th>\n",
       "      <th>sub_phylum</th>\n",
       "      <th>org_name_protein_id</th>\n",
       "      <th>org_name</th>\n",
       "      <th>stop_codon_pos</th>\n",
       "      <th>equal_to_cds</th>\n",
       "      <th>cassette_intron_start</th>\n",
       "      <th>intron_length_to_stop_codon</th>\n",
       "      <th>intron_length</th>\n",
       "      <th>first_exon_length</th>\n",
       "      <th>source</th>\n",
       "    </tr>\n",
       "  </thead>\n",
       "  <tbody>\n",
       "    <tr>\n",
       "      <th>71</th>\n",
       "      <td>Cladistia</td>\n",
       "      <td>erpetoichthys_calabaricus_0</td>\n",
       "      <td>Erpetoichthys_calabaricus</td>\n",
       "      <td>1173</td>\n",
       "      <td>False</td>\n",
       "      <td>1118</td>\n",
       "      <td>55</td>\n",
       "      <td>3662</td>\n",
       "      <td>110</td>\n",
       "      <td>datasets</td>\n",
       "    </tr>\n",
       "  </tbody>\n",
       "</table>\n",
       "</div>"
      ]
     },
     "execution_count": 33,
     "metadata": {},
     "output_type": "execute_result"
    }
   ],
   "execution_count": 33
  },
  {
   "metadata": {},
   "cell_type": "markdown",
   "source": "[erpetoichthys_calabaricus_cladistia](https://blast.ncbi.nlm.nih.gov/Blast.cgi?PAGE_TYPE=BlastSearch&USER_FORMAT_DEFAULTS=on&SET_SAVED_SEARCH=true&PAGE=Proteins&PROGRAM=blastp&QUERY=%3EXP_028665628.1%20nxf1b%20%5Borganism%3DErpetoichthys%20calabaricus%5D%20%5BGeneID%3D114657852%5D%20%5Bisoform%3DX1%5D%0AMAFRRRRFQNFQVVRQVHFEEHGVYDGRQEAPFLPIGYSEHDDRVGGPTFRTKKGRGPFRGKMYSEQTSR%0AQRYRGGGAPGPRSRYEDDDDGDVSMSESLHDSGQRRYMPYGTRPGRRGEERHDNDRDRAGTSNNLSGLRL%0ASPREGSSRKGWFKVTIPFGKKYSNSWLLSTLQGLCMAPFEPVQLHYEGQKAVFYVEDSNIANALKASSKK%0AIRDKENFKLIILVRSSSPPSSVVRQELLKPEAVEILKQCMSKRYDRTQQALDLSNLRSDPDLLSQNIDAV%0ALNRKNIMQAVVKIIEEYIPELLSLNISNNRLYKLSNLTDLVGKAPNLKILNLSQNELKSDRELDRIKGFK%0ALEELWLDGNPLCDFSKDQTAYIRVVRERFPKLLRLDGHDLPLPITFDVEAPTTLPPCKGSYFGSDEIKSL%0AVLRFLHQYFYVYDSGDRQALLDAYHDGASFSVCIPISLPNPSRNALGEYHKDSRNLKKVKDPTNRFRMLK%0AHTRLNVVAFLNELPKTQHDVNSFVVDVHAYTNMLLSFTVNGVFKEVDDKSPHSVRAFTRAFIAVPSGNSG%0ALCIVNDELFVRKASSEEIRKAFATPAPTPSSSPVPTLTARQQEMLTEFSQRSGMNLEWSQKCLLDNDWDY%0ATQAGQVFEKLNAEGKIPEVAFKQYKLQ&JOB_TITLE=erpetoichthys_calabaricus_cladistia&GAPCOSTS=11%201&DATABASE=nr&BLAST_PROGRAMS=psiBlast&MAX_NUM_SEQ=100&SHORT_QUERY_ADJUST=on&EXPECT=0.05&WORD_SIZE=3&MATRIX_NAME=BLOSUM62&COMPOSITION_BASED_STATISTICS=2&I_THRESH=0.005&EQ_MENU=Cladistia%20%28taxid%3A8288%29&EQ_MENU1=Erpetoichthys%20calabaricus%20(taxid:27687)&ORG_EXCLUDE1=on&NUM_ORG=2&PROG_DEFAULTS=on&SHOW_OVERVIEW=on&SHOW_LINKOUT=on&ALIGNMENT_VIEW=Pairwise&MASK_CHAR=2&MASK_COLOR=1&GET_SEQUENCE=on&NCBI_GI=false&NUM_OVERVIEW=100&DESCRIPTIONS=100&ALIGNMENTS=100&FORMAT_OBJECT=Alignment&FORMAT_TYPE=HTML&SHOW_CDS_FEATURE=false&ADV_VIEW=on&BOOKMARK=on)",
   "id": "512ff24a5b1de33f"
  },
  {
   "metadata": {
    "ExecuteTime": {
     "end_time": "2025-05-28T12:21:38.259160Z",
     "start_time": "2025-05-28T12:21:38.257326Z"
    }
   },
   "cell_type": "code",
   "source": [
    "phylum = \"Cladistia\"\n",
    "dir = f\"../Sequences_protein_id/{phylum}\""
   ],
   "id": "25284743f27d47aa",
   "outputs": [],
   "execution_count": 34
  },
  {
   "metadata": {
    "ExecuteTime": {
     "end_time": "2025-05-28T12:21:38.360307Z",
     "start_time": "2025-05-28T12:21:38.358623Z"
    }
   },
   "cell_type": "code",
   "source": [
    "# # читаем результат BLAST\n",
    "# name_of_blast_res = f\"../blast_res/psi_blast/erpetoichthys_calabaricus_{phylum.lower()}.xml\"\n",
    "#\n",
    "# # парсим, фильтруем и добавляем новые столбцы с координатами, именем организма и др.\n",
    "# df = parse_psiblast_xml(name_of_blast_res)\n",
    "# df = filter_psiblast_hits(df, min_qc=0, min_ident=0, min_sbjct_len=500)\n",
    "# df = update_df(df)\n",
    "#\n",
    "# # создаем подпапку в заданной выше директории и сохраняем таблицу, чтобы потом не ждать\n",
    "# os.makedirs(f\"{dir}\", exist_ok=True)\n",
    "# df.to_csv(f\"{dir}/df_{phylum.lower()}.tsv\", sep=\"\\t\", index=True)\n",
    "#\n",
    "# # закомментить после выполнения!!!"
   ],
   "id": "9ca172d0e3371a9a",
   "outputs": [],
   "execution_count": 35
  },
  {
   "metadata": {
    "ExecuteTime": {
     "end_time": "2025-05-28T12:21:38.442786Z",
     "start_time": "2025-05-28T12:21:38.441450Z"
    }
   },
   "cell_type": "code",
   "source": [
    "# сохраняем в заданную выше директорию\n",
    "# save_files(df, dir)\n",
    "\n",
    "# закомментить после выполнения!!!"
   ],
   "id": "1cea7996e7116330",
   "outputs": [],
   "execution_count": 36
  },
  {
   "metadata": {
    "ExecuteTime": {
     "end_time": "2025-05-28T12:21:38.505039Z",
     "start_time": "2025-05-28T12:21:38.499062Z"
    }
   },
   "cell_type": "code",
   "source": [
    "# читаем сохраненную ранее таблицу\n",
    "df = pd.read_csv(f\"{dir}/df_{phylum.lower()}.tsv\", sep=\"\\t\", index_col=0,\n",
    "                 converters={11: ast.literal_eval, 13: ast.literal_eval})\n",
    "\n",
    "# получаем словарь для созданию кассет и protein_id для тех организмов, у кого нашелся экзон 37\n",
    "data, df_found_protein_ids = find_cassettes(df)\n",
    "\n",
    "# создаем кассеты и заодно получаем интроны для будущего анализа\n",
    "introns = create_many_cassettes(dir, data)"
   ],
   "id": "7b0bed5aa96fae7c",
   "outputs": [],
   "execution_count": 37
  },
  {
   "metadata": {
    "ExecuteTime": {
     "end_time": "2025-05-28T12:21:38.559327Z",
     "start_time": "2025-05-28T12:21:38.557689Z"
    }
   },
   "cell_type": "code",
   "source": [
    "# проверяем, чтобы в столбце equal_to_cds было везде True - это значит, что cds начинается со старт-кодона и заканчивается стоп-кодоном\n",
    "# df_cds, dict_align_cds = dict_align_info_analyze(df_found_protein_ids, \"cds\", dir)\n",
    "# df_cds.equal_to_cds.unique()\n",
    "\n",
    "# у единственного вида не было найдено стоп-кодона, поэтому дальнейший анализ не имеет смысла"
   ],
   "id": "667b071c350474cb",
   "outputs": [],
   "execution_count": 38
  }
 ],
 "metadata": {
  "kernelspec": {
   "display_name": "Python 3",
   "language": "python",
   "name": "python3"
  },
  "language_info": {
   "codemirror_mode": {
    "name": "ipython",
    "version": 2
   },
   "file_extension": ".py",
   "mimetype": "text/x-python",
   "name": "python",
   "nbconvert_exporter": "python",
   "pygments_lexer": "ipython2",
   "version": "2.7.6"
  }
 },
 "nbformat": 4,
 "nbformat_minor": 5
}
