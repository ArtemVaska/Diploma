{
 "cells": [
  {
   "metadata": {
    "ExecuteTime": {
     "end_time": "2024-12-18T21:12:25.295687Z",
     "start_time": "2024-12-18T21:12:24.726187Z"
    }
   },
   "cell_type": "code",
   "outputs": [],
   "execution_count": 2,
   "source": [
    "from Bio import Entrez\n",
    "from Bio import Blast\n",
    "\n",
    "from entrez import nucl_search, save_esearch_results\n",
    "from parse_blast_results import calculate_qc, filter_df, update_df\n",
    "from fasta_processing import plain_to_fasta, read_fasta\n",
    "from data_processing import (cluster_analysis_preview,\n",
    "                             cluster_analysis,\n",
    "                             save_seqs,\n",
    "                             extract_genome_coverages,\n",
    "                             add_genome_coverages,\n",
    "                             select_max_ids,\n",
    "                             filter_genome_coverages\n",
    "                             )\n",
    "from group_species import group_species, group_species_genome_coverage\n",
    "\n",
    "Entrez.email = \"artemvaskaa@gmail.com\"\n",
    "Blast.email = \"artemvaskaa@gmail.com\""
   ],
   "id": "d2f887633627954f"
  },
  {
   "metadata": {
    "ExecuteTime": {
     "end_time": "2024-12-18T21:12:26.796851Z",
     "start_time": "2024-12-18T21:12:26.647088Z"
    }
   },
   "cell_type": "code",
   "outputs": [],
   "execution_count": 3,
   "source": [
    "name_of_blast_res = \"../blast_res/full_sbr_RA_wgs_megablast_250_16.xml\" # XML2 !!!\n",
    "result_stream = open(name_of_blast_res, \"rb\")\n",
    "blast_record = Blast.read(result_stream)\n",
    "df = calculate_qc(blast_record)"
   ],
   "id": "ef43d150cfd6de73"
  },
  {
   "metadata": {
    "ExecuteTime": {
     "end_time": "2024-12-18T21:12:36.525691Z",
     "start_time": "2024-12-18T21:12:29.870859Z"
    }
   },
   "cell_type": "code",
   "outputs": [
    {
     "name": "stdout",
     "output_type": "stream",
     "text": [
      "Target range cannot be calculated automatically. Please enter coordinates manually from the list below:\n",
      "[7188510, 7189026, 7297434, 7297950, 8395741, 8395989, 8396190, 8396961, 8397432, 8397472, 8398959, 8399803, 8400836, 8400909, 8402321, 8402572, 8402845, 8402932, 8405238, 8405296, 8406927, 8408741, 8409289, 8409341, 8409703, 8410026]\n",
      "Target range cannot be calculated automatically. Please enter coordinates manually from the list below:\n",
      "[2269971, 2270487, 3349617, 3349865, 3350066, 3350837, 3351311, 3351351, 3352835, 3353679, 3354712, 3354785, 3356197, 3356448, 3356721, 3356808, 3359114, 3359172, 3360803, 3362617, 3363165, 3363217, 3363579, 3363902]\n"
     ]
    }
   ],
   "execution_count": 4,
   "source": "df = update_df(df, blast_record)  # 8395741 8410026 3349617 3363902",
   "id": "5e408a7be515c4a"
  },
  {
   "metadata": {
    "ExecuteTime": {
     "end_time": "2024-12-18T21:12:37.809143Z",
     "start_time": "2024-12-18T21:12:37.804853Z"
    }
   },
   "cell_type": "code",
   "outputs": [],
   "execution_count": 5,
   "source": "df = filter_df(df)",
   "id": "2e5c50bd3a0fe2e7"
  },
  {
   "metadata": {
    "ExecuteTime": {
     "end_time": "2024-12-18T21:12:38.983233Z",
     "start_time": "2024-12-18T21:12:38.945079Z"
    }
   },
   "cell_type": "code",
   "outputs": [
    {
     "name": "stdout",
     "output_type": "stream",
     "text": [
      "eps: 0.01, n_clusters: 16\n",
      "cluster: 15, qcs_range: (0.1554, 0.1803), items_in_cluster: 7\n",
      "cluster: 14, qcs_range: (0.1963, 0.1963), items_in_cluster: 1\n",
      "cluster: 11, qcs_range: (0.2065, 0.3523), items_in_cluster: 100\n",
      "cluster: 13, qcs_range: (0.3883, 0.3883), items_in_cluster: 1\n",
      "cluster: 12, qcs_range: (0.4376, 0.4376), items_in_cluster: 1\n",
      "cluster: 9, qcs_range: (0.4747, 0.4808), items_in_cluster: 3\n",
      "cluster: 10, qcs_range: (0.4984, 0.4984), items_in_cluster: 1\n",
      "cluster: 8, qcs_range: (0.5211, 0.5304), items_in_cluster: 6\n",
      "cluster: 4, qcs_range: (0.5582, 0.6002), items_in_cluster: 14\n",
      "cluster: 6, qcs_range: (0.6168, 0.6168), items_in_cluster: 1\n",
      "cluster: 5, qcs_range: (0.651, 0.6661), items_in_cluster: 9\n",
      "cluster: 7, qcs_range: (0.6859, 0.6874), items_in_cluster: 2\n",
      "cluster: 1, qcs_range: (0.8843, 0.9011), items_in_cluster: 9\n",
      "cluster: 2, qcs_range: (0.9171, 0.9171), items_in_cluster: 3\n",
      "cluster: 3, qcs_range: (0.9375, 0.9382), items_in_cluster: 2\n",
      "cluster: 0, qcs_range: (0.9649, 0.9797), items_in_cluster: 23\n",
      "\n",
      "eps: 0.02, n_clusters: 10\n",
      "cluster: 7, qcs_range: (0.1554, 0.3523), items_in_cluster: 108\n",
      "cluster: 9, qcs_range: (0.3883, 0.3883), items_in_cluster: 1\n",
      "cluster: 8, qcs_range: (0.4376, 0.4376), items_in_cluster: 1\n",
      "cluster: 6, qcs_range: (0.4747, 0.4984), items_in_cluster: 4\n",
      "cluster: 5, qcs_range: (0.5211, 0.5304), items_in_cluster: 6\n",
      "cluster: 3, qcs_range: (0.5582, 0.6168), items_in_cluster: 15\n",
      "cluster: 4, qcs_range: (0.651, 0.6874), items_in_cluster: 11\n",
      "cluster: 1, qcs_range: (0.8843, 0.9171), items_in_cluster: 12\n",
      "cluster: 2, qcs_range: (0.9375, 0.9382), items_in_cluster: 2\n",
      "cluster: 0, qcs_range: (0.9649, 0.9797), items_in_cluster: 23\n",
      "\n",
      "eps: 0.03, n_clusters: 6\n",
      "cluster: 3, qcs_range: (0.1554, 0.3523), items_in_cluster: 108\n",
      "cluster: 5, qcs_range: (0.3883, 0.3883), items_in_cluster: 1\n",
      "cluster: 4, qcs_range: (0.4376, 0.4376), items_in_cluster: 1\n",
      "cluster: 1, qcs_range: (0.4747, 0.6168), items_in_cluster: 25\n",
      "cluster: 2, qcs_range: (0.651, 0.6874), items_in_cluster: 11\n",
      "cluster: 0, qcs_range: (0.8843, 0.9797), items_in_cluster: 37\n",
      "\n",
      "eps: 0.04, n_clusters: 3\n",
      "cluster: 2, qcs_range: (0.1554, 0.3883), items_in_cluster: 109\n",
      "cluster: 1, qcs_range: (0.4376, 0.6874), items_in_cluster: 37\n",
      "cluster: 0, qcs_range: (0.8843, 0.9797), items_in_cluster: 37\n",
      "\n",
      "eps: 0.05, n_clusters: 2\n",
      "cluster: 1, qcs_range: (0.1554, 0.6874), items_in_cluster: 146\n",
      "cluster: 0, qcs_range: (0.8843, 0.9797), items_in_cluster: 37\n",
      "\n",
      "eps: 0.06, n_clusters: 2\n",
      "cluster: 1, qcs_range: (0.1554, 0.6874), items_in_cluster: 146\n",
      "cluster: 0, qcs_range: (0.8843, 0.9797), items_in_cluster: 37\n",
      "\n",
      "eps: 0.07, n_clusters: 2\n",
      "cluster: 1, qcs_range: (0.1554, 0.6874), items_in_cluster: 146\n",
      "cluster: 0, qcs_range: (0.8843, 0.9797), items_in_cluster: 37\n",
      "\n",
      "eps: 0.08, n_clusters: 2\n",
      "cluster: 1, qcs_range: (0.1554, 0.6874), items_in_cluster: 146\n",
      "cluster: 0, qcs_range: (0.8843, 0.9797), items_in_cluster: 37\n",
      "\n",
      "eps: 0.09, n_clusters: 2\n",
      "cluster: 1, qcs_range: (0.1554, 0.6874), items_in_cluster: 146\n",
      "cluster: 0, qcs_range: (0.8843, 0.9797), items_in_cluster: 37\n",
      "\n",
      "eps: 0.1, n_clusters: 2\n",
      "cluster: 1, qcs_range: (0.1554, 0.6874), items_in_cluster: 146\n",
      "cluster: 0, qcs_range: (0.8843, 0.9797), items_in_cluster: 37\n",
      "\n"
     ]
    }
   ],
   "execution_count": 6,
   "source": "cluster_analysis_preview(df)  # select eps",
   "id": "50ae631135d384b2"
  },
  {
   "metadata": {
    "ExecuteTime": {
     "end_time": "2024-12-18T21:12:42.443599Z",
     "start_time": "2024-12-18T21:12:42.440798Z"
    }
   },
   "cell_type": "code",
   "outputs": [],
   "execution_count": 7,
   "source": "df = cluster_analysis(df, eps=0.04)",
   "id": "38e946a799f43ab"
  },
  {
   "metadata": {
    "ExecuteTime": {
     "end_time": "2024-12-18T21:17:41.669084Z",
     "start_time": "2024-12-18T21:12:43.944453Z"
    }
   },
   "cell_type": "code",
   "outputs": [],
   "execution_count": 8,
   "source": [
    "# long-time execution\n",
    "\n",
    "save_seqs(df, \"Drosophilidae\")"
   ],
   "id": "5e08ac50f33a73fe"
  },
  {
   "metadata": {
    "ExecuteTime": {
     "end_time": "2024-12-18T21:17:41.735708Z",
     "start_time": "2024-12-18T21:17:41.678951Z"
    }
   },
   "cell_type": "code",
   "outputs": [],
   "execution_count": 9,
   "source": "group_species(df, \"Drosophilidae\", \"Drosophilidae_grouped\")",
   "id": "e20ea9bcb36fc8a6"
  },
  {
   "metadata": {
    "ExecuteTime": {
     "end_time": "2024-12-18T21:26:55.181257Z",
     "start_time": "2024-12-18T21:17:41.738255Z"
    }
   },
   "cell_type": "code",
   "outputs": [],
   "execution_count": 10,
   "source": [
    "# long-time execution\n",
    "\n",
    "genome_coverages = extract_genome_coverages(df)"
   ],
   "id": "d5e422d1783e99b"
  },
  {
   "metadata": {
    "ExecuteTime": {
     "end_time": "2024-12-18T21:26:55.198212Z",
     "start_time": "2024-12-18T21:26:55.194577Z"
    }
   },
   "cell_type": "code",
   "outputs": [
    {
     "data": {
      "text/plain": [
       "['            Genome Coverage        :: 12x',\n",
       " '            Genome Coverage        :: 12x',\n",
       " '            Genome Coverage        :: 50x',\n",
       " '            Genome Coverage        :: 50x',\n",
       " '            Genome Coverage        :: 12x',\n",
       " '            Genome Coverage        :: 50x',\n",
       " '            Genome Coverage        :: 12x',\n",
       " '            Genome Coverage        :: 103.8x',\n",
       " '            Genome Coverage        :: 165.0x',\n",
       " '            Genome Coverage        :: 160.0x',\n",
       " '            Genome Coverage           :: 120.0x',\n",
       " '            Genome Coverage        :: 0x',\n",
       " '            Genome Coverage        :: 0x',\n",
       " '            Genome Coverage        :: 50x',\n",
       " '            Genome Coverage        :: 0x',\n",
       " '            Genome Coverage        :: 180.0x',\n",
       " '            Genome Coverage        :: 0x',\n",
       " '            Genome Coverage        :: 104.0x',\n",
       " '            Genome Coverage        :: 12x',\n",
       " '            Genome Coverage        :: 75.0x',\n",
       " '            Genome Coverage        :: 123.1x',\n",
       " '            Genome Coverage        :: 115.0x',\n",
       " '            Genome Coverage        :: 0x',\n",
       " '            Genome Coverage        :: 190.0x',\n",
       " '            Genome Coverage        :: 89.5x',\n",
       " '            Genome Coverage        :: 0x',\n",
       " '            Genome Coverage        :: 78.1x',\n",
       " '            Genome Coverage           :: 168.0x',\n",
       " '            Genome Coverage        :: 84.3x',\n",
       " '            Genome Coverage        :: 100.0x',\n",
       " '            Genome Coverage           :: 103.0x',\n",
       " '            Genome Coverage        :: 80.8x',\n",
       " '            Genome Coverage        :: 107.9x',\n",
       " '            Genome Coverage           :: 80.0x',\n",
       " '            Genome Coverage        :: 0x',\n",
       " '            Genome Coverage           :: 90.0x',\n",
       " '            Genome Coverage        :: 118.0x',\n",
       " '            Genome Coverage       :: 218.1x',\n",
       " '            Genome Coverage        :: 67.4x',\n",
       " '            Genome Coverage        :: 149x',\n",
       " '            Genome Coverage        :: 98.0x',\n",
       " '            Genome Coverage        :: 112.7x',\n",
       " '            Genome Coverage        :: 40.0x',\n",
       " '            Genome Coverage        :: 109.0x',\n",
       " '            Genome Coverage        :: 137.0x',\n",
       " '            Genome Coverage        :: 75.9x',\n",
       " '            Genome Coverage        :: 124.6x',\n",
       " '            Genome Coverage        :: 232.2x',\n",
       " '            Genome Coverage        :: 260.0x',\n",
       " '            Genome Coverage        :: 29.8x',\n",
       " '            Genome Coverage        :: 106.9x',\n",
       " '            Genome Coverage        :: 66.2x',\n",
       " '            Genome Coverage        :: 36.0x',\n",
       " '            Genome Coverage           :: 20.0x',\n",
       " '            Genome Coverage           :: 20.0x',\n",
       " '            Genome Coverage        :: 108.2x',\n",
       " '            Genome Coverage       :: 204.9x',\n",
       " '            Genome Coverage        :: 160.0x',\n",
       " '            Genome Coverage        :: 200.0x',\n",
       " '            Genome Coverage        :: 96.7x',\n",
       " '            Genome Coverage       :: 208.7x',\n",
       " '            Genome Coverage        :: 50.0x',\n",
       " '            Genome Coverage        :: 20.0x',\n",
       " '            Genome Coverage        :: 98.1x',\n",
       " '            Genome Coverage        :: 100.0x',\n",
       " '            Genome Coverage        :: 111.7x',\n",
       " '            Genome Coverage       :: 186.9x',\n",
       " '            Genome Coverage        :: 69.8x',\n",
       " '            Genome Coverage        :: 27.0x',\n",
       " '            Genome Coverage        :: 119x',\n",
       " '            Genome Coverage        :: 37.0x',\n",
       " '            Genome Coverage       :: 242.1x',\n",
       " '            Genome Coverage        :: 66x',\n",
       " '            Genome Coverage        :: 149.5x',\n",
       " '            Genome Coverage        :: 114.1x',\n",
       " '            Genome Coverage        :: 40x',\n",
       " '            Genome Coverage        :: 124.8x',\n",
       " '            Genome Coverage        :: 47x',\n",
       " '            Genome Coverage        :: 102.8x',\n",
       " '            Genome Coverage        :: 59x',\n",
       " '            Genome Coverage        :: 20x',\n",
       " '            Genome Coverage        :: 25x',\n",
       " '            Genome Coverage        :: 88.9x',\n",
       " '            Genome Coverage        :: 164x',\n",
       " '            Genome Coverage        :: 45x',\n",
       " '            Genome Coverage        :: 20x',\n",
       " '            Genome Coverage        :: 28x',\n",
       " '            Genome Coverage        :: 36x',\n",
       " '            Genome Coverage        :: 34x',\n",
       " '            Genome Coverage        :: 151.1x',\n",
       " '            Genome Coverage        :: 29x',\n",
       " '            Genome Coverage        :: 20x',\n",
       " '            Genome Coverage        :: 40x',\n",
       " '            Genome Coverage        :: 22x',\n",
       " '            Genome Coverage        :: 41x',\n",
       " '            Genome Coverage        :: 117.9x',\n",
       " '            Genome Coverage        :: 32x',\n",
       " '            Genome Coverage        :: 117.4x',\n",
       " '            Genome Coverage        :: 51x',\n",
       " '            Genome Coverage        :: 20x',\n",
       " '            Genome Coverage        :: 85.6x',\n",
       " '            Genome Coverage        :: 20x',\n",
       " '            Genome Coverage        :: 39x',\n",
       " '            Genome Coverage        :: 20x',\n",
       " '            Genome Coverage        :: 67x',\n",
       " '            Genome Coverage        :: 113.0x',\n",
       " '            Genome Coverage       :: 181.7x',\n",
       " '            Genome Coverage        :: 133x',\n",
       " '            Genome Coverage        :: 125x',\n",
       " '            Genome Coverage        :: 78.7x',\n",
       " '            Genome Coverage        :: 20x',\n",
       " '            Genome Coverage        :: 63.0x',\n",
       " '            Genome Coverage        :: 86.4x',\n",
       " '            Genome Coverage        :: 187x',\n",
       " '            Genome Coverage        :: 38x',\n",
       " '            Genome Coverage        :: 20x',\n",
       " '            Genome Coverage        :: 38x',\n",
       " '            Genome Coverage        :: 179x',\n",
       " '            Genome Coverage        :: 112.9x',\n",
       " '            Genome Coverage        :: 105.0x',\n",
       " '            Genome Coverage        :: 104.1x',\n",
       " '            Genome Coverage           :: 500.0x',\n",
       " '            Genome Coverage        :: 87.5x',\n",
       " '            Genome Coverage       :: 370x',\n",
       " '            Genome Coverage        :: 0x',\n",
       " '            Genome Coverage        :: 165x',\n",
       " '            Genome Coverage        :: 112x',\n",
       " '            Genome Coverage        :: 45.0x',\n",
       " '            Genome Coverage        :: 63x',\n",
       " '            Genome Coverage        :: 133.1x',\n",
       " '            Genome Coverage        :: 100.0x',\n",
       " '            Genome Coverage        :: 57.8x',\n",
       " '            Genome Coverage        :: 89.1x',\n",
       " '            Genome Coverage        :: 131.3x',\n",
       " '            Genome Coverage       :: 95.0x',\n",
       " '            Genome Coverage       :: 266.3x',\n",
       " '            Genome Coverage        :: 60.0x',\n",
       " '            Genome Coverage        :: 74.3x',\n",
       " '            Genome Coverage        :: 35.0x',\n",
       " '            Genome Coverage        :: 107.2x',\n",
       " '            Genome Coverage        :: 110.5x',\n",
       " '            Genome Coverage        :: 72.0x',\n",
       " '            Genome Coverage        :: 127.1x',\n",
       " '            Genome Coverage        :: 216.9x',\n",
       " '            Genome Coverage        :: 66.2x',\n",
       " '            Genome Coverage        :: 280.0x',\n",
       " '            Genome Coverage        :: 130.0x',\n",
       " '            Genome Coverage        :: 114.0x',\n",
       " '            Genome Coverage        :: 116.6x',\n",
       " '            Genome Coverage        :: 0x',\n",
       " '            Genome Coverage        :: 150x Illumina; 70x PacBio',\n",
       " '            Genome Coverage        :: 171x',\n",
       " '            Genome Coverage        :: 141.7x',\n",
       " '            Genome Coverage        :: 50.0x',\n",
       " '            Genome Coverage        :: 0x',\n",
       " '            Genome Coverage        :: 97.7x',\n",
       " '            Genome Coverage        :: 45.0x',\n",
       " '            Genome Coverage        :: 118.0x',\n",
       " '            Genome Coverage        :: 37.0x',\n",
       " '            Genome Coverage        :: 110.5x',\n",
       " '            Genome Coverage        :: 0x',\n",
       " '            Genome Coverage        :: 40.0x',\n",
       " '            Genome Coverage        :: 119.0x',\n",
       " '            Genome Coverage        :: 121x',\n",
       " '            Genome Coverage       :: 425x',\n",
       " '            Genome Coverage        :: 67.2x',\n",
       " '            Genome Coverage        :: 135.0x',\n",
       " '            Genome Coverage        :: 133.3x',\n",
       " '            Genome Coverage        :: 133.4x',\n",
       " '            Genome Coverage        :: 0x',\n",
       " '            Genome Coverage        :: 13.9x',\n",
       " '            Genome Coverage        :: 84x',\n",
       " '            Genome Coverage        :: 72.3x',\n",
       " '            Genome Coverage        :: 64.1x',\n",
       " '            Genome Coverage        :: 103.4x',\n",
       " '            Genome Coverage        :: 133.9x',\n",
       " '            Genome Coverage        :: 71.4x',\n",
       " '            Genome Coverage        :: 116.1x',\n",
       " '            Genome Coverage        :: 96.8x',\n",
       " '            Genome Coverage        :: 67.6x',\n",
       " '            Genome Coverage        :: 129.4x',\n",
       " '            Genome Coverage        :: 87.1x',\n",
       " '            Genome Coverage        :: 185x']"
      ]
     },
     "execution_count": 11,
     "metadata": {},
     "output_type": "execute_result"
    }
   ],
   "execution_count": 11,
   "source": "genome_coverages  # check if everything is OK",
   "id": "d71d1fd1e19ddc67"
  },
  {
   "metadata": {
    "ExecuteTime": {
     "end_time": "2024-12-18T21:26:55.442921Z",
     "start_time": "2024-12-18T21:26:55.327804Z"
    }
   },
   "cell_type": "code",
   "outputs": [],
   "execution_count": 12,
   "source": [
    "df = add_genome_coverages(genome_coverages, df)\n",
    "df = select_max_ids(df)\n",
    "df = filter_genome_coverages(df, genome_coverage_threshold=50)"
   ],
   "id": "1c611d58794d1d56"
  },
  {
   "metadata": {
    "ExecuteTime": {
     "end_time": "2024-12-18T21:26:55.474736Z",
     "start_time": "2024-12-18T21:26:55.448228Z"
    }
   },
   "cell_type": "code",
   "outputs": [],
   "execution_count": 13,
   "source": "group_species_genome_coverage(df, folder_name=\"Drosophilidae\", new_folder_name=\"Drosophilidae_filtered\")",
   "id": "d6f568bada63a2a2"
  },
  {
   "metadata": {},
   "cell_type": "code",
   "outputs": [],
   "source": "",
   "id": "ccbd0c624343a486",
   "execution_count": null
  },
  {
   "metadata": {
    "ExecuteTime": {
     "end_time": "2024-12-18T23:22:26.138324Z",
     "start_time": "2024-12-18T23:22:26.126794Z"
    }
   },
   "cell_type": "code",
   "outputs": [],
   "execution_count": 35,
   "source": "edit_names_for_alignment(\"Drosophilidae_filtered\")",
   "id": "d1e17c580a6034d5"
  }
 ],
 "metadata": {
  "kernelspec": {
   "display_name": "Python 3",
   "language": "python",
   "name": "python3"
  },
  "language_info": {
   "codemirror_mode": {
    "name": "ipython",
    "version": 2
   },
   "file_extension": ".py",
   "mimetype": "text/x-python",
   "name": "python",
   "nbconvert_exporter": "python",
   "pygments_lexer": "ipython2",
   "version": "2.7.6"
  }
 },
 "nbformat": 4,
 "nbformat_minor": 5
}
