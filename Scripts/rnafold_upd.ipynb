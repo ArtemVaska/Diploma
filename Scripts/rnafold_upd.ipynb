{
 "cells": [
  {
   "metadata": {
    "ExecuteTime": {
     "end_time": "2025-05-28T14:32:52.597758Z",
     "start_time": "2025-05-28T14:32:52.561720Z"
    }
   },
   "cell_type": "code",
   "source": [
    "import pandas as pd\n",
    "from pathlib import Path\n",
    "\n",
    "from build_rna_structures import create_input_files, run_rnafold_with_highlight\n",
    "from tg_logger import telegram_logger"
   ],
   "id": "1a1d3b8429eb36b2",
   "outputs": [],
   "execution_count": 1
  },
  {
   "metadata": {
    "ExecuteTime": {
     "end_time": "2025-05-28T14:32:53.075669Z",
     "start_time": "2025-05-28T14:32:53.073401Z"
    }
   },
   "cell_type": "code",
   "source": [
    "@telegram_logger(chat_id=611478740)\n",
    "def create_structures(df: pd.DataFrame) -> None:\n",
    "    for sub_phylum in df.sub_phylum.unique():\n",
    "        run_rnafold_with_highlight(\n",
    "            Path(f\"../rnafold/{sub_phylum}/{sub_phylum}_cds_cassette.fa\"),\n",
    "            Path(f\"../rnafold/{sub_phylum}/{sub_phylum}_introns.fa\"),\n",
    "            Path(f\"../rnafold/{sub_phylum}/{sub_phylum}_structure\")\n",
    "        )"
   ],
   "id": "6ce4d1c540bccdc8",
   "outputs": [],
   "execution_count": 2
  },
  {
   "metadata": {
    "ExecuteTime": {
     "end_time": "2025-05-28T14:32:54.380568Z",
     "start_time": "2025-05-28T14:32:54.376331Z"
    }
   },
   "cell_type": "code",
   "source": [
    "protostomia = pd.read_csv(\"../results_summary/protostomia.tsv\", sep=\"\\t\")\n",
    "deuterostomia = pd.read_csv(\"../results_summary/deuterostomia.tsv\", sep=\"\\t\")"
   ],
   "id": "46e13d5a5106a77",
   "outputs": [],
   "execution_count": 3
  },
  {
   "metadata": {
    "ExecuteTime": {
     "end_time": "2025-05-28T14:32:56.779670Z",
     "start_time": "2025-05-28T14:32:56.738888Z"
    }
   },
   "cell_type": "code",
   "source": [
    "# создаем все файлы для построения вторичной структуры для первичноротых\n",
    "for sub_phylum in protostomia.sub_phylum.unique():\n",
    "    create_input_files(protostomia, sub_phylum)\n",
    "\n",
    "# создаем все файлы для построения вторичной структуры для вторичноротых\n",
    "for sub_phylum in deuterostomia.sub_phylum.unique():\n",
    "    create_input_files(deuterostomia, sub_phylum)"
   ],
   "id": "50cd9b2d8042b1f4",
   "outputs": [],
   "execution_count": 4
  },
  {
   "cell_type": "code",
   "id": "initial_id",
   "metadata": {
    "collapsed": true
   },
   "source": [
    "# запуск для всех первичноротых\n",
    "\n",
    "create_structures(protostomia)\n",
    "\n",
    "# прогналось за 15 часов 56 минут для всех видов"
   ],
   "outputs": [],
   "execution_count": null
  },
  {
   "metadata": {},
   "cell_type": "code",
   "source": [
    "# запуск для всех вторичноротых\n",
    "\n",
    "create_structures(deuterostomia)\n",
    "\n",
    "# прогналось 4 часа 2 минуты, закончилось на Rhinatrema_bivittatum (Otomorpha), всего 1 вид на 10к+ нт в интроне"
   ],
   "id": "c0396e001b3bc7d8",
   "outputs": [],
   "execution_count": null
  }
 ],
 "metadata": {
  "kernelspec": {
   "display_name": "Python 3",
   "language": "python",
   "name": "python3"
  },
  "language_info": {
   "codemirror_mode": {
    "name": "ipython",
    "version": 2
   },
   "file_extension": ".py",
   "mimetype": "text/x-python",
   "name": "python",
   "nbconvert_exporter": "python",
   "pygments_lexer": "ipython2",
   "version": "2.7.6"
  }
 },
 "nbformat": 4,
 "nbformat_minor": 5
}
