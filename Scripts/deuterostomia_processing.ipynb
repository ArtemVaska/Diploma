{
 "cells": [
  {
   "metadata": {
    "collapsed": true,
    "ExecuteTime": {
     "end_time": "2025-05-25T16:06:26.071976Z",
     "start_time": "2025-05-25T16:06:25.500514Z"
    }
   },
   "cell_type": "code",
   "source": [
    "import os\n",
    "\n",
    "import pandas as pd\n",
    "\n",
    "from os.path import commonprefix\n",
    "from pathlib import Path\n",
    "from IPython.display import HTML\n",
    "\n",
    "from Scripts.data_processing import obtain_data\n",
    "from Scripts.fasta_processing import plain_to_fasta\n",
    "from highlight import highlight_intron_in_seq\n",
    "from fasta_processing import read_single_fasta, dict_align_to_fasta, read_fasta, dict_align_to_fasta_upd\n",
    "from datasets import select_all_phylas, download_all_files_ncbi, check_transcript_count, update_data_for_species\n",
    "from taxonomy_processing import create_taxonomy\n",
    "from data_processing import analyze_exons, create_cassette, concat_cassette, dict_align_create, find_codon, \\\n",
    "    dict_align_info_analyze, dict_align_update_keys\n",
    "from build_rna_structures import run_rnafold_with_highlight"
   ],
   "id": "b098e12992c56143",
   "outputs": [],
   "execution_count": 1
  },
  {
   "metadata": {
    "ExecuteTime": {
     "end_time": "2025-05-25T16:06:26.664979Z",
     "start_time": "2025-05-25T16:06:26.648231Z"
    }
   },
   "cell_type": "code",
   "source": [
    "column_names = [\"tax_id\", \"org_name\", \"gene_id\", \"current_id\", \"status\", \"symbol\", \"aliases\", \"description\",\n",
    "                \"other_designations\", \"map_location\", \"chromosome\", \"genomic_nucleotide_accession.version\",\n",
    "                \"start_position_on_the_genomic_accession\", \"end_position_on_the_genomic_accession\", \"orientation\",\n",
    "                \"exon_count\", \"to_delete_1\", \"to_delete_2\"]\n",
    "\n",
    "df = pd.read_csv(\"../all_nxf1_2.txt\", sep=\"\\t\", skiprows=1, names=column_names, index_col=0)\n",
    "df.drop([\"to_delete_1\", \"to_delete_2\"], axis=1, inplace=True)\n",
    "df.head()"
   ],
   "id": "4a9e11130e237a73",
   "outputs": [
    {
     "data": {
      "text/plain": [
       "                  org_name    gene_id  current_id status symbol  \\\n",
       "tax_id                                                            \n",
       "9606          Homo sapiens      10482           0   live   NXF1   \n",
       "10090         Mus musculus      53319           0   live   Nxf1   \n",
       "10116    Rattus norvegicus      59087           0   live   Nxf1   \n",
       "8407       Rana temporaria  120917577           0   live   NXF1   \n",
       "8364    Xenopus tropicalis     734058           0   live   nxf1   \n",
       "\n",
       "                 aliases                  description  \\\n",
       "tax_id                                                  \n",
       "9606          MEX67, TAP  nuclear RNA export factor 1   \n",
       "10090   Mex67, Mvb1, Tap  nuclear RNA export factor 1   \n",
       "10116        Mex67h, Tap  nuclear RNA export factor 1   \n",
       "8407                 NaN  nuclear RNA export factor 1   \n",
       "8364          mex67, tap  nuclear RNA export factor 1   \n",
       "\n",
       "                                       other_designations map_location  \\\n",
       "tax_id                                                                   \n",
       "9606    nuclear RNA export factor 1|mRNA export factor...      11q12.3   \n",
       "10090   nuclear RNA export factor 1|Mex 67 homolog|mRN...    19 5.5 cM   \n",
       "10116   nuclear RNA export factor 1|mRNA export factor...         1q43   \n",
       "8407                          nuclear RNA export factor 1          NaN   \n",
       "8364                          nuclear RNA export factor 1          NaN   \n",
       "\n",
       "       chromosome genomic_nucleotide_accession.version  \\\n",
       "tax_id                                                   \n",
       "9606           11                         NC_000011.10   \n",
       "10090          19                          NC_000085.7   \n",
       "10116           1                          NC_086019.1   \n",
       "8407           11                          NC_053499.1   \n",
       "8364            4                          NC_030680.2   \n",
       "\n",
       "        start_position_on_the_genomic_accession  \\\n",
       "tax_id                                            \n",
       "9606                                 62792130.0   \n",
       "10090                                 8734467.0   \n",
       "10116                               215084563.0   \n",
       "8407                                120752259.0   \n",
       "8364                                 36493131.0   \n",
       "\n",
       "        end_position_on_the_genomic_accession orientation  exon_count  \n",
       "tax_id                                                                 \n",
       "9606                               62805440.0       minus        22.0  \n",
       "10090                               8748274.0        plus        20.0  \n",
       "10116                             215097756.0        plus        21.0  \n",
       "8407                              120809664.0        plus        22.0  \n",
       "8364                               36532401.0       minus        23.0  "
      ],
      "text/html": [
       "<div>\n",
       "<style scoped>\n",
       "    .dataframe tbody tr th:only-of-type {\n",
       "        vertical-align: middle;\n",
       "    }\n",
       "\n",
       "    .dataframe tbody tr th {\n",
       "        vertical-align: top;\n",
       "    }\n",
       "\n",
       "    .dataframe thead th {\n",
       "        text-align: right;\n",
       "    }\n",
       "</style>\n",
       "<table border=\"1\" class=\"dataframe\">\n",
       "  <thead>\n",
       "    <tr style=\"text-align: right;\">\n",
       "      <th></th>\n",
       "      <th>org_name</th>\n",
       "      <th>gene_id</th>\n",
       "      <th>current_id</th>\n",
       "      <th>status</th>\n",
       "      <th>symbol</th>\n",
       "      <th>aliases</th>\n",
       "      <th>description</th>\n",
       "      <th>other_designations</th>\n",
       "      <th>map_location</th>\n",
       "      <th>chromosome</th>\n",
       "      <th>genomic_nucleotide_accession.version</th>\n",
       "      <th>start_position_on_the_genomic_accession</th>\n",
       "      <th>end_position_on_the_genomic_accession</th>\n",
       "      <th>orientation</th>\n",
       "      <th>exon_count</th>\n",
       "    </tr>\n",
       "    <tr>\n",
       "      <th>tax_id</th>\n",
       "      <th></th>\n",
       "      <th></th>\n",
       "      <th></th>\n",
       "      <th></th>\n",
       "      <th></th>\n",
       "      <th></th>\n",
       "      <th></th>\n",
       "      <th></th>\n",
       "      <th></th>\n",
       "      <th></th>\n",
       "      <th></th>\n",
       "      <th></th>\n",
       "      <th></th>\n",
       "      <th></th>\n",
       "      <th></th>\n",
       "    </tr>\n",
       "  </thead>\n",
       "  <tbody>\n",
       "    <tr>\n",
       "      <th>9606</th>\n",
       "      <td>Homo sapiens</td>\n",
       "      <td>10482</td>\n",
       "      <td>0</td>\n",
       "      <td>live</td>\n",
       "      <td>NXF1</td>\n",
       "      <td>MEX67, TAP</td>\n",
       "      <td>nuclear RNA export factor 1</td>\n",
       "      <td>nuclear RNA export factor 1|mRNA export factor...</td>\n",
       "      <td>11q12.3</td>\n",
       "      <td>11</td>\n",
       "      <td>NC_000011.10</td>\n",
       "      <td>62792130.0</td>\n",
       "      <td>62805440.0</td>\n",
       "      <td>minus</td>\n",
       "      <td>22.0</td>\n",
       "    </tr>\n",
       "    <tr>\n",
       "      <th>10090</th>\n",
       "      <td>Mus musculus</td>\n",
       "      <td>53319</td>\n",
       "      <td>0</td>\n",
       "      <td>live</td>\n",
       "      <td>Nxf1</td>\n",
       "      <td>Mex67, Mvb1, Tap</td>\n",
       "      <td>nuclear RNA export factor 1</td>\n",
       "      <td>nuclear RNA export factor 1|Mex 67 homolog|mRN...</td>\n",
       "      <td>19 5.5 cM</td>\n",
       "      <td>19</td>\n",
       "      <td>NC_000085.7</td>\n",
       "      <td>8734467.0</td>\n",
       "      <td>8748274.0</td>\n",
       "      <td>plus</td>\n",
       "      <td>20.0</td>\n",
       "    </tr>\n",
       "    <tr>\n",
       "      <th>10116</th>\n",
       "      <td>Rattus norvegicus</td>\n",
       "      <td>59087</td>\n",
       "      <td>0</td>\n",
       "      <td>live</td>\n",
       "      <td>Nxf1</td>\n",
       "      <td>Mex67h, Tap</td>\n",
       "      <td>nuclear RNA export factor 1</td>\n",
       "      <td>nuclear RNA export factor 1|mRNA export factor...</td>\n",
       "      <td>1q43</td>\n",
       "      <td>1</td>\n",
       "      <td>NC_086019.1</td>\n",
       "      <td>215084563.0</td>\n",
       "      <td>215097756.0</td>\n",
       "      <td>plus</td>\n",
       "      <td>21.0</td>\n",
       "    </tr>\n",
       "    <tr>\n",
       "      <th>8407</th>\n",
       "      <td>Rana temporaria</td>\n",
       "      <td>120917577</td>\n",
       "      <td>0</td>\n",
       "      <td>live</td>\n",
       "      <td>NXF1</td>\n",
       "      <td>NaN</td>\n",
       "      <td>nuclear RNA export factor 1</td>\n",
       "      <td>nuclear RNA export factor 1</td>\n",
       "      <td>NaN</td>\n",
       "      <td>11</td>\n",
       "      <td>NC_053499.1</td>\n",
       "      <td>120752259.0</td>\n",
       "      <td>120809664.0</td>\n",
       "      <td>plus</td>\n",
       "      <td>22.0</td>\n",
       "    </tr>\n",
       "    <tr>\n",
       "      <th>8364</th>\n",
       "      <td>Xenopus tropicalis</td>\n",
       "      <td>734058</td>\n",
       "      <td>0</td>\n",
       "      <td>live</td>\n",
       "      <td>nxf1</td>\n",
       "      <td>mex67, tap</td>\n",
       "      <td>nuclear RNA export factor 1</td>\n",
       "      <td>nuclear RNA export factor 1</td>\n",
       "      <td>NaN</td>\n",
       "      <td>4</td>\n",
       "      <td>NC_030680.2</td>\n",
       "      <td>36493131.0</td>\n",
       "      <td>36532401.0</td>\n",
       "      <td>minus</td>\n",
       "      <td>23.0</td>\n",
       "    </tr>\n",
       "  </tbody>\n",
       "</table>\n",
       "</div>"
      ]
     },
     "execution_count": 2,
     "metadata": {},
     "output_type": "execute_result"
    }
   ],
   "execution_count": 2
  },
  {
   "metadata": {
    "ExecuteTime": {
     "end_time": "2025-05-25T16:06:28.977336Z",
     "start_time": "2025-05-25T16:06:28.972617Z"
    }
   },
   "cell_type": "code",
   "source": [
    "df_taxonomy = pd.read_csv(\"../all_phylas_taxonomy.tsv\", sep=\"\\t\", names=[\"taxid\", \"taxonomy\"], index_col=0,\n",
    "                          dtype={\"taxid\": int, \"taxonomy\": str})"
   ],
   "id": "63f1e83570bc6e74",
   "outputs": [],
   "execution_count": 3
  },
  {
   "metadata": {
    "ExecuteTime": {
     "end_time": "2025-05-25T16:06:29.750439Z",
     "start_time": "2025-05-25T16:06:29.748047Z"
    }
   },
   "cell_type": "code",
   "source": "df_deuterostomia = df_taxonomy[df_taxonomy.taxonomy.str.contains(\"Deuterostomia\")]",
   "id": "143a28c351ae9af0",
   "outputs": [],
   "execution_count": 4
  },
  {
   "metadata": {
    "ExecuteTime": {
     "end_time": "2025-05-21T13:55:33.557514Z",
     "start_time": "2025-05-21T13:55:33.556113Z"
    }
   },
   "cell_type": "code",
   "source": [
    "# df_deuterostomia.to_csv(\"../deuterostomia_taxonomy.tsv\", sep=\"\\t\", header=False)\n",
    "# create_taxonomy(\"../deuterostomia_taxonomy.tsv\")"
   ],
   "id": "6d34edcdf6608616",
   "outputs": [],
   "execution_count": 5
  },
  {
   "metadata": {},
   "cell_type": "markdown",
   "source": "### Whippomorpha",
   "id": "4c438d92fd3c341b"
  },
  {
   "metadata": {
    "ExecuteTime": {
     "end_time": "2025-05-21T13:55:33.606016Z",
     "start_time": "2025-05-21T13:55:33.603315Z"
    }
   },
   "cell_type": "code",
   "source": [
    "df_whippomorpha = df_taxonomy[df_taxonomy.taxonomy.str.contains(\"Cetacea\")]\n",
    "\n",
    "df_mysticeti = df_whippomorpha[df_whippomorpha.taxonomy.str.contains(\"Mysticeti\")]\n",
    "df_odontoceti = df_whippomorpha[df_whippomorpha.taxonomy.str.contains(\"Odontoceti\")]\n",
    "\n",
    "whippomorpha_taxids = {\n",
    "    \"Mysticeti\": df_mysticeti.index.tolist(),\n",
    "    \"Odontoceti\": df_odontoceti.index.tolist(),\n",
    "}"
   ],
   "id": "5b9c593a9edfb5bc",
   "outputs": [],
   "execution_count": 6
  },
  {
   "metadata": {
    "ExecuteTime": {
     "end_time": "2025-05-21T13:55:33.653404Z",
     "start_time": "2025-05-21T13:55:33.652030Z"
    }
   },
   "cell_type": "code",
   "source": "# df_whippomorpha.to_csv(\"../whippomorpha_taxonomy.tsv\", sep=\"\\t\", index=True, header=False)",
   "id": "38733d1b2776ae67",
   "outputs": [],
   "execution_count": 7
  },
  {
   "metadata": {
    "ExecuteTime": {
     "end_time": "2025-05-21T13:55:33.702738Z",
     "start_time": "2025-05-21T13:55:33.701335Z"
    }
   },
   "cell_type": "code",
   "source": "# create_taxonomy(\"../whippomorpha_taxonomy.tsv\")",
   "id": "81a1f52af3170048",
   "outputs": [],
   "execution_count": 8
  },
  {
   "metadata": {
    "ExecuteTime": {
     "end_time": "2025-05-21T13:55:33.751203Z",
     "start_time": "2025-05-21T13:55:33.749792Z"
    }
   },
   "cell_type": "code",
   "source": "# download_all_files_ncbi(df, whippomorpha_taxids, phylas=list(whippomorpha_taxids.keys()))",
   "id": "2a68aa78854bf65e",
   "outputs": [],
   "execution_count": 9
  },
  {
   "metadata": {
    "ExecuteTime": {
     "end_time": "2025-05-21T13:55:33.799957Z",
     "start_time": "2025-05-21T13:55:33.798560Z"
    }
   },
   "cell_type": "code",
   "source": [
    "# после изменения эта функция не должна ничего печатать\n",
    "# whippomorpha_species_to_update = check_transcript_count([\"Mysticeti\", \"Odontoceti\"])"
   ],
   "id": "55d604f9138b250",
   "outputs": [],
   "execution_count": 10
  },
  {
   "metadata": {
    "ExecuteTime": {
     "end_time": "2025-05-21T13:55:33.848211Z",
     "start_time": "2025-05-21T13:55:33.846812Z"
    }
   },
   "cell_type": "code",
   "source": "# update_data_for_species(whippomorpha_species_to_update)",
   "id": "a1b34f14b60fbce8",
   "outputs": [],
   "execution_count": 11
  },
  {
   "metadata": {
    "ExecuteTime": {
     "end_time": "2025-05-21T13:55:33.897633Z",
     "start_time": "2025-05-21T13:55:33.895753Z"
    }
   },
   "cell_type": "code",
   "source": [
    "def create_many_cassettes(phylum: str, data: dict) -> dict:\n",
    "    introns = {}\n",
    "    for org_name, (df, exons_i) in data.items():\n",
    "        cassette = create_cassette(phylum, org_name, df, exons_i=exons_i)\n",
    "        introns[org_name] = concat_cassette(cassette, \"i\")\n",
    "    return introns"
   ],
   "id": "f76535512a92006b",
   "outputs": [],
   "execution_count": 12
  },
  {
   "metadata": {
    "ExecuteTime": {
     "end_time": "2025-05-21T13:55:33.947361Z",
     "start_time": "2025-05-21T13:55:33.945142Z"
    }
   },
   "cell_type": "code",
   "source": "os.listdir(\"../Datasets/Mysticeti\")",
   "id": "671deeeccb47a717",
   "outputs": [
    {
     "data": {
      "text/plain": [
       "['balaenoptera_ricei_2',\n",
       " 'balaenoptera_musculus_3',\n",
       " 'balaenoptera_acutorostrata_4',\n",
       " 'eschrichtius_robustus_0',\n",
       " 'eubalaena_glacialis_1']"
      ]
     },
     "execution_count": 13,
     "metadata": {},
     "output_type": "execute_result"
    }
   ],
   "execution_count": 13
  },
  {
   "metadata": {
    "ExecuteTime": {
     "end_time": "2025-05-21T13:55:33.999375Z",
     "start_time": "2025-05-21T13:55:33.995767Z"
    }
   },
   "cell_type": "code",
   "source": [
    "prefix = \"../Datasets\"\n",
    "phylum = \"Mysticeti\"\n",
    "postfix = \"ncbi_dataset/data\"\n",
    "nof = \"exons.fa\"\n",
    "\n",
    "# Mysticeti\n",
    "balaenoptera_ricei_2 = analyze_exons(\n",
    "    f\"{prefix}/{phylum}/balaenoptera_ricei_2/{postfix}/{nof}\")  # 110 37 | 9, 10 || 116 43 | 15, 16\n",
    "\n",
    "balaenoptera_musculus_3 = analyze_exons(\n",
    "    f\"{prefix}/{phylum}/balaenoptera_musculus_3/{postfix}/{nof}\")  # 9 экзон ОГРОМНЫЙ 1977 нт || 116 43 | 14, 15\n",
    "\n",
    "balaenoptera_acutorostrata_4 = analyze_exons(\n",
    "    f\"{prefix}/{phylum}/balaenoptera_acutorostrata_4/{postfix}/{nof}\")  # 110 37 | 9, 10 || 116 43 | 15, 16\n",
    "\n",
    "eschrichtius_robustus_0 = analyze_exons(\n",
    "    f\"{prefix}/{phylum}/eschrichtius_robustus_0/{postfix}/{nof}\")  # 110 37 | 9, 10 || 116 43 | 15, 16\n",
    "\n",
    "eubalaena_glacialis_1 = analyze_exons(\n",
    "    f\"{prefix}/{phylum}/eubalaena_glacialis_1/{postfix}/{nof}\")  # 110 37 | 9, 10 || 116 43 | 15, 16\n",
    "\n",
    "# у всех одинаково все, кроме\n",
    "# balaenoptera_musculus_3 - объединение экзонов и интронов?"
   ],
   "id": "914bec237894a93f",
   "outputs": [],
   "execution_count": 14
  },
  {
   "metadata": {
    "ExecuteTime": {
     "end_time": "2025-05-21T13:55:34.048558Z",
     "start_time": "2025-05-21T13:55:34.046987Z"
    }
   },
   "cell_type": "code",
   "source": [
    "data_mysticeti = {\n",
    "    \"balaenoptera_ricei_2\": (balaenoptera_ricei_2, [9, 10]),\n",
    "    \"balaenoptera_acutorostrata_4\": (balaenoptera_acutorostrata_4, [9, 10]),\n",
    "    \"eschrichtius_robustus_0\": (eschrichtius_robustus_0, [9, 10]),\n",
    "    \"eubalaena_glacialis_1\": (eubalaena_glacialis_1, [9, 10]),\n",
    "}"
   ],
   "id": "3939f808ac2d8e8c",
   "outputs": [],
   "execution_count": 15
  },
  {
   "metadata": {
    "ExecuteTime": {
     "end_time": "2025-05-21T13:55:34.103812Z",
     "start_time": "2025-05-21T13:55:34.100966Z"
    }
   },
   "cell_type": "code",
   "source": "mysticeti_introns = create_many_cassettes(\"Mysticeti\", data_mysticeti)",
   "id": "653ba2ae44ec4c5b",
   "outputs": [],
   "execution_count": 16
  },
  {
   "metadata": {
    "ExecuteTime": {
     "end_time": "2025-05-21T13:55:34.157563Z",
     "start_time": "2025-05-21T13:55:34.155215Z"
    }
   },
   "cell_type": "code",
   "source": [
    "prefix = \"../Datasets\"\n",
    "phylum = \"Mysticeti\"\n",
    "postfix = \"ncbi_dataset/data\"\n",
    "align_type = \"cds_cassette\"\n",
    "\n",
    "org_names_mysticeti = os.listdir(f\"{prefix}/Mysticeti\")\n",
    "org_names_mysticeti.remove(\"balaenoptera_musculus_3\")\n",
    "\n",
    "mysticeti_alignment_dict = dict_align_create(phylum, org_names_mysticeti, align_type)\n",
    "mysticeti_alignment_dict_upd = {\n",
    "    \"_\".join(key.split(\"_\")[:-1]).capitalize(): value\n",
    "    for key, value in mysticeti_alignment_dict.items()\n",
    "}\n",
    "\n",
    "os.makedirs(f\"../Alignment/{phylum}\", exist_ok=True)\n",
    "dict_align_to_fasta(mysticeti_alignment_dict_upd, \"../Alignment/Mysticeti/Mysticeti_cds_cassette.fa\")\n",
    "# dict_align_to_fasta(mysticeti_alignment_dict_upd, \"../Alignment/Mysticeti/Mysticeti_cds_cassette.aln\")\n",
    "\n",
    "# выравнилось все, даже интрон"
   ],
   "id": "88690bec45567614",
   "outputs": [],
   "execution_count": 17
  },
  {
   "metadata": {},
   "cell_type": "markdown",
   "source": "---",
   "id": "6efff8f656ff2b8c"
  },
  {
   "metadata": {
    "ExecuteTime": {
     "end_time": "2025-05-21T13:55:34.210432Z",
     "start_time": "2025-05-21T13:55:34.208356Z"
    }
   },
   "cell_type": "code",
   "source": [
    "# удалил Odontoceti/phocoena_sinus_7, phocoena_sinus_6 кажется более полным\n",
    "\n",
    "os.listdir(\"../Datasets/Odontoceti\")"
   ],
   "id": "daf44b9ada8e04a1",
   "outputs": [
    {
     "data": {
      "text/plain": [
       "['delphinus_delphis_4',\n",
       " 'pseudorca_crassidens_0',\n",
       " 'delphinapterus_leucas_11',\n",
       " 'monodon_monoceros_9',\n",
       " 'kogia_breviceps_5',\n",
       " 'lipotes_vexillifer_12',\n",
       " 'globicephala_melas_8',\n",
       " 'orcinus_orca_15',\n",
       " 'lagenorhynchus_albirostris_2',\n",
       " 'tursiops_truncatus_14',\n",
       " 'physeter_macrocephalus_13',\n",
       " 'phocoena_phocoena_1',\n",
       " 'phocoena_sinus_6',\n",
       " 'mesoplodon_densirostris_3',\n",
       " 'neophocaena_asiaeorientalis_asiaeorientalis_10',\n",
       " 'sagmatias_obliquidens_16']"
      ]
     },
     "execution_count": 18,
     "metadata": {},
     "output_type": "execute_result"
    }
   ],
   "execution_count": 18
  },
  {
   "metadata": {},
   "cell_type": "markdown",
   "source": "---",
   "id": "6fcac8101fbebb97"
  },
  {
   "metadata": {
    "ExecuteTime": {
     "end_time": "2025-05-21T13:55:34.269598Z",
     "start_time": "2025-05-21T13:55:34.263920Z"
    }
   },
   "cell_type": "code",
   "source": [
    "prefix = \"../Datasets\"\n",
    "phylum = \"Odontoceti\"\n",
    "postfix = \"ncbi_dataset/data\"\n",
    "nof = \"exons.fa\"\n",
    "\n",
    "# Odontoceti\n",
    "delphinus_delphis_4 = analyze_exons(\n",
    "    f\"{prefix}/{phylum}/delphinus_delphis_4/{postfix}/{nof}\")  # 110 37 | 9, 10 || 116 43 | 15, 16\n",
    "\n",
    "pseudorca_crassidens_0 = analyze_exons(\n",
    "    f\"{prefix}/{phylum}/pseudorca_crassidens_0/{postfix}/{nof}\")  # 110 37 | 9, 10 || 116 43 | 15, 16\n",
    "\n",
    "delphinapterus_leucas_11 = analyze_exons(\n",
    "    f\"{prefix}/{phylum}/delphinapterus_leucas_11/{postfix}/{nof}\")  # 110 37 | 10, 11 || 116 43 | 16, 17\n",
    "\n",
    "monodon_monoceros_9 = analyze_exons(\n",
    "    f\"{prefix}/{phylum}/monodon_monoceros_9/{postfix}/{nof}\")  # 110 37 | 10, 11 || 116 43 | 16, 17\n",
    "\n",
    "kogia_breviceps_5 = analyze_exons(\n",
    "    f\"{prefix}/{phylum}/kogia_breviceps_5/{postfix}/{nof}\")  # 110 37 | 9, 10 || 116 43 | 15, 16\n",
    "\n",
    "lipotes_vexillifer_12 = analyze_exons(\n",
    "    f\"{prefix}/{phylum}/lipotes_vexillifer_12/{postfix}/{nof}\")  # 110 37 | 9, 10 || 116 43 | 15, 16\n",
    "\n",
    "globicephala_melas_8 = analyze_exons(\n",
    "    f\"{prefix}/{phylum}/globicephala_melas_8/{postfix}/{nof}\")  # 110 37 | 9, 10 || 116 43 | 15, 16\n",
    "\n",
    "orcinus_orca_15 = analyze_exons(\n",
    "    f\"{prefix}/{phylum}/orcinus_orca_15/{postfix}/{nof}\")  # 110 37 | 10, 11 || 116 43 | 16, 17\n",
    "\n",
    "lagenorhynchus_albirostris_2 = analyze_exons(\n",
    "    f\"{prefix}/{phylum}/lagenorhynchus_albirostris_2/{postfix}/{nof}\")  # 110 37 | 9, 10 || 116 43 | 15, 16\n",
    "\n",
    "tursiops_truncatus_14 = analyze_exons(\n",
    "    f\"{prefix}/{phylum}/tursiops_truncatus_14/{postfix}/{nof}\")  # 110 37 | 9, 10 || 116 43 | 15, 16\n",
    "\n",
    "physeter_macrocephalus_13 = analyze_exons(\n",
    "    f\"{prefix}/{phylum}/physeter_macrocephalus_13/{postfix}/{nof}\")  # 110 37 | 8, 9 || 116 43 | 14, 15\n",
    "\n",
    "phocoena_phocoena_1 = analyze_exons(\n",
    "    f\"{prefix}/{phylum}/phocoena_phocoena_1/{postfix}/{nof}\")  # 110 37 | 9, 10 || 116 43 | 15, 16\n",
    "\n",
    "phocoena_sinus_6 = analyze_exons(\n",
    "    f\"{prefix}/{phylum}/phocoena_sinus_6/{postfix}/{nof}\")  # 110 37 | 9, 10 || 116 43 | 15, 16\n",
    "\n",
    "mesoplodon_densirostris_3 = analyze_exons(\n",
    "    f\"{prefix}/{phylum}/mesoplodon_densirostris_3/{postfix}/{nof}\")  # 110 37 | 9, 10 || 116 43 | 15, 16\n",
    "\n",
    "neophocaena_asiaeorientalis_asiaeorientalis_10 = analyze_exons(\n",
    "    f\"{prefix}/{phylum}/neophocaena_asiaeorientalis_asiaeorientalis_10/{postfix}/{nof}\")  # 110 37 | 9, 10 || 116 43 | 15, 16\n",
    "\n",
    "sagmatias_obliquidens_16 = analyze_exons(\n",
    "    f\"{prefix}/{phylum}/sagmatias_obliquidens_16/{postfix}/{nof}\")  # 110 37 | 9, 10 || 116 43 | 15, 16"
   ],
   "id": "e3bd5f26c9812ea8",
   "outputs": [],
   "execution_count": 19
  },
  {
   "metadata": {
    "ExecuteTime": {
     "end_time": "2025-05-21T13:55:34.328405Z",
     "start_time": "2025-05-21T13:55:34.326065Z"
    }
   },
   "cell_type": "code",
   "source": [
    "data_odontoceti = {\n",
    "    \"delphinus_delphis_4\": (delphinus_delphis_4, [9, 10]),\n",
    "    \"pseudorca_crassidens_0\": (pseudorca_crassidens_0, [9, 10]),\n",
    "    \"delphinapterus_leucas_11\": (delphinapterus_leucas_11, [10, 11]),\n",
    "    \"monodon_monoceros_9\": (monodon_monoceros_9, [10, 11]),\n",
    "    \"kogia_breviceps_5\": (kogia_breviceps_5, [9, 10]),\n",
    "    \"lipotes_vexillifer_12\": (lipotes_vexillifer_12, [9, 10]),\n",
    "    \"globicephala_melas_8\": (globicephala_melas_8, [9, 10]),\n",
    "    \"orcinus_orca_15\": (orcinus_orca_15, [10, 11]),\n",
    "    \"lagenorhynchus_albirostris_2\": (lagenorhynchus_albirostris_2, [9, 10]),\n",
    "    \"tursiops_truncatus_14\": (tursiops_truncatus_14, [9, 10]),\n",
    "    \"physeter_macrocephalus_13\": (physeter_macrocephalus_13, [8, 9]),\n",
    "    \"phocoena_phocoena_1\": (phocoena_phocoena_1, [9, 10]),\n",
    "    \"phocoena_sinus_6\": (phocoena_sinus_6, [9, 10]),\n",
    "    \"mesoplodon_densirostris_3\": (mesoplodon_densirostris_3, [9, 10]),\n",
    "    \"neophocaena_asiaeorientalis_asiaeorientalis_10\": (neophocaena_asiaeorientalis_asiaeorientalis_10, [9, 10]),\n",
    "    \"sagmatias_obliquidens_16\": (sagmatias_obliquidens_16, [9, 10]),\n",
    "}"
   ],
   "id": "6f52fe8666e664fa",
   "outputs": [],
   "execution_count": 20
  },
  {
   "metadata": {
    "ExecuteTime": {
     "end_time": "2025-05-21T13:55:34.396734Z",
     "start_time": "2025-05-21T13:55:34.389612Z"
    }
   },
   "cell_type": "code",
   "source": "odontoceti_introns = create_many_cassettes(\"Odontoceti\", data_odontoceti)",
   "id": "888bb0ff9b43d9a1",
   "outputs": [],
   "execution_count": 21
  },
  {
   "metadata": {
    "ExecuteTime": {
     "end_time": "2025-05-21T13:55:34.456810Z",
     "start_time": "2025-05-21T13:55:34.454172Z"
    }
   },
   "cell_type": "code",
   "source": [
    "prefix = \"../Datasets\"\n",
    "phylum = \"Odontoceti\"\n",
    "postfix = \"ncbi_dataset/data\"\n",
    "align_type = \"cds_cassette\"\n",
    "\n",
    "org_names = os.listdir(f\"{prefix}/{phylum}\")\n",
    "\n",
    "odontoceti_alignment_dict = dict_align_create(phylum, org_names, align_type)\n",
    "odontoceti_alignment_dict_upd = {\n",
    "    \"_\".join(key.split(\"_\")[:-1]).capitalize(): value\n",
    "    for key, value in odontoceti_alignment_dict.items()\n",
    "}\n",
    "\n",
    "os.makedirs(f\"../Alignment/{phylum}\", exist_ok=True)\n",
    "dict_align_to_fasta(odontoceti_alignment_dict_upd, \"../Alignment/Odontoceti/Odontoceti_cds_cassette.fa\")\n",
    "# dict_align_to_fasta(odontoceti_alignment_dict_upd, \"../Alignment/Odontoceti/Odontoceti_cds_cassette.aln\")"
   ],
   "id": "944d2c12e1e2e25e",
   "outputs": [],
   "execution_count": 22
  },
  {
   "metadata": {},
   "cell_type": "markdown",
   "source": "---",
   "id": "e8cb3b5e3c4fd602"
  },
  {
   "metadata": {
    "ExecuteTime": {
     "end_time": "2025-05-21T13:55:34.519912Z",
     "start_time": "2025-05-21T13:55:34.518145Z"
    }
   },
   "cell_type": "code",
   "source": [
    "prefix = \"../Datasets\"\n",
    "\n",
    "org_names_mysticeti = os.listdir(f\"{prefix}/Mysticeti\")\n",
    "org_names_mysticeti.remove(\"balaenoptera_musculus_3\")\n",
    "\n",
    "org_names_odontoceti = os.listdir(f\"{prefix}/Odontoceti\")\n",
    "\n",
    "dict_align_info = {\n",
    "    \"Mysticeti\": org_names_mysticeti,\n",
    "    \"Odontoceti\": org_names_odontoceti,\n",
    "}"
   ],
   "id": "df5d0c79c72cbec1",
   "outputs": [],
   "execution_count": 23
  },
  {
   "metadata": {
    "ExecuteTime": {
     "end_time": "2025-05-21T13:55:34.589064Z",
     "start_time": "2025-05-21T13:55:34.582569Z"
    }
   },
   "cell_type": "code",
   "source": [
    "# здесь везде должно быть True в столбце equal_to_cds\n",
    "\n",
    "whippomorpha_df_cds, whippomorpha_dict_align_cds = dict_align_info_analyze(dict_align_info, \"cds\")\n",
    "whippomorpha_df_cds"
   ],
   "id": "955c31290880e5ae",
   "outputs": [
    {
     "data": {
      "text/plain": [
       "        phylum                                        org_name  \\\n",
       "0    Mysticeti                            balaenoptera_ricei_2   \n",
       "1    Mysticeti                    balaenoptera_acutorostrata_4   \n",
       "2    Mysticeti                         eschrichtius_robustus_0   \n",
       "3    Mysticeti                           eubalaena_glacialis_1   \n",
       "4   Odontoceti                             delphinus_delphis_4   \n",
       "5   Odontoceti                          pseudorca_crassidens_0   \n",
       "6   Odontoceti                        delphinapterus_leucas_11   \n",
       "7   Odontoceti                             monodon_monoceros_9   \n",
       "8   Odontoceti                               kogia_breviceps_5   \n",
       "9   Odontoceti                           lipotes_vexillifer_12   \n",
       "10  Odontoceti                            globicephala_melas_8   \n",
       "11  Odontoceti                                 orcinus_orca_15   \n",
       "12  Odontoceti                    lagenorhynchus_albirostris_2   \n",
       "13  Odontoceti                           tursiops_truncatus_14   \n",
       "14  Odontoceti                       physeter_macrocephalus_13   \n",
       "15  Odontoceti                             phocoena_phocoena_1   \n",
       "16  Odontoceti                                phocoena_sinus_6   \n",
       "17  Odontoceti                       mesoplodon_densirostris_3   \n",
       "18  Odontoceti  neophocaena_asiaeorientalis_asiaeorientalis_10   \n",
       "19  Odontoceti                        sagmatias_obliquidens_16   \n",
       "\n",
       "    stop_codon_pos  equal_to_cds  cassette_start  length_to_stop_codon  \\\n",
       "0             1869          True              -1                  1870   \n",
       "1             1869          True              -1                  1870   \n",
       "2             1869          True              -1                  1870   \n",
       "3             1860          True              -1                  1861   \n",
       "4             1860          True              -1                  1861   \n",
       "5             1860          True              -1                  1861   \n",
       "6             1860          True              -1                  1861   \n",
       "7             1860          True              -1                  1861   \n",
       "8             1860          True              -1                  1861   \n",
       "9             1860          True              -1                  1861   \n",
       "10            1860          True              -1                  1861   \n",
       "11            1977          True              -1                  1978   \n",
       "12            1962          True              -1                  1963   \n",
       "13            1887          True              -1                  1888   \n",
       "14            1869          True              -1                  1870   \n",
       "15            1860          True              -1                  1861   \n",
       "16            1860          True              -1                  1861   \n",
       "17            1860          True              -1                  1861   \n",
       "18            1860          True              -1                  1861   \n",
       "19            1869          True              -1                  1870   \n",
       "\n",
       "    intron_length  \n",
       "0            1831  \n",
       "1            1835  \n",
       "2            1835  \n",
       "3            1830  \n",
       "4            1825  \n",
       "5            1824  \n",
       "6            1824  \n",
       "7            1828  \n",
       "8            1846  \n",
       "9            1914  \n",
       "10           1825  \n",
       "11           1824  \n",
       "12           1824  \n",
       "13           1826  \n",
       "14           1827  \n",
       "15           1823  \n",
       "16           1825  \n",
       "17           1824  \n",
       "18           1825  \n",
       "19           1825  "
      ],
      "text/html": [
       "<div>\n",
       "<style scoped>\n",
       "    .dataframe tbody tr th:only-of-type {\n",
       "        vertical-align: middle;\n",
       "    }\n",
       "\n",
       "    .dataframe tbody tr th {\n",
       "        vertical-align: top;\n",
       "    }\n",
       "\n",
       "    .dataframe thead th {\n",
       "        text-align: right;\n",
       "    }\n",
       "</style>\n",
       "<table border=\"1\" class=\"dataframe\">\n",
       "  <thead>\n",
       "    <tr style=\"text-align: right;\">\n",
       "      <th></th>\n",
       "      <th>phylum</th>\n",
       "      <th>org_name</th>\n",
       "      <th>stop_codon_pos</th>\n",
       "      <th>equal_to_cds</th>\n",
       "      <th>cassette_start</th>\n",
       "      <th>length_to_stop_codon</th>\n",
       "      <th>intron_length</th>\n",
       "    </tr>\n",
       "  </thead>\n",
       "  <tbody>\n",
       "    <tr>\n",
       "      <th>0</th>\n",
       "      <td>Mysticeti</td>\n",
       "      <td>balaenoptera_ricei_2</td>\n",
       "      <td>1869</td>\n",
       "      <td>True</td>\n",
       "      <td>-1</td>\n",
       "      <td>1870</td>\n",
       "      <td>1831</td>\n",
       "    </tr>\n",
       "    <tr>\n",
       "      <th>1</th>\n",
       "      <td>Mysticeti</td>\n",
       "      <td>balaenoptera_acutorostrata_4</td>\n",
       "      <td>1869</td>\n",
       "      <td>True</td>\n",
       "      <td>-1</td>\n",
       "      <td>1870</td>\n",
       "      <td>1835</td>\n",
       "    </tr>\n",
       "    <tr>\n",
       "      <th>2</th>\n",
       "      <td>Mysticeti</td>\n",
       "      <td>eschrichtius_robustus_0</td>\n",
       "      <td>1869</td>\n",
       "      <td>True</td>\n",
       "      <td>-1</td>\n",
       "      <td>1870</td>\n",
       "      <td>1835</td>\n",
       "    </tr>\n",
       "    <tr>\n",
       "      <th>3</th>\n",
       "      <td>Mysticeti</td>\n",
       "      <td>eubalaena_glacialis_1</td>\n",
       "      <td>1860</td>\n",
       "      <td>True</td>\n",
       "      <td>-1</td>\n",
       "      <td>1861</td>\n",
       "      <td>1830</td>\n",
       "    </tr>\n",
       "    <tr>\n",
       "      <th>4</th>\n",
       "      <td>Odontoceti</td>\n",
       "      <td>delphinus_delphis_4</td>\n",
       "      <td>1860</td>\n",
       "      <td>True</td>\n",
       "      <td>-1</td>\n",
       "      <td>1861</td>\n",
       "      <td>1825</td>\n",
       "    </tr>\n",
       "    <tr>\n",
       "      <th>5</th>\n",
       "      <td>Odontoceti</td>\n",
       "      <td>pseudorca_crassidens_0</td>\n",
       "      <td>1860</td>\n",
       "      <td>True</td>\n",
       "      <td>-1</td>\n",
       "      <td>1861</td>\n",
       "      <td>1824</td>\n",
       "    </tr>\n",
       "    <tr>\n",
       "      <th>6</th>\n",
       "      <td>Odontoceti</td>\n",
       "      <td>delphinapterus_leucas_11</td>\n",
       "      <td>1860</td>\n",
       "      <td>True</td>\n",
       "      <td>-1</td>\n",
       "      <td>1861</td>\n",
       "      <td>1824</td>\n",
       "    </tr>\n",
       "    <tr>\n",
       "      <th>7</th>\n",
       "      <td>Odontoceti</td>\n",
       "      <td>monodon_monoceros_9</td>\n",
       "      <td>1860</td>\n",
       "      <td>True</td>\n",
       "      <td>-1</td>\n",
       "      <td>1861</td>\n",
       "      <td>1828</td>\n",
       "    </tr>\n",
       "    <tr>\n",
       "      <th>8</th>\n",
       "      <td>Odontoceti</td>\n",
       "      <td>kogia_breviceps_5</td>\n",
       "      <td>1860</td>\n",
       "      <td>True</td>\n",
       "      <td>-1</td>\n",
       "      <td>1861</td>\n",
       "      <td>1846</td>\n",
       "    </tr>\n",
       "    <tr>\n",
       "      <th>9</th>\n",
       "      <td>Odontoceti</td>\n",
       "      <td>lipotes_vexillifer_12</td>\n",
       "      <td>1860</td>\n",
       "      <td>True</td>\n",
       "      <td>-1</td>\n",
       "      <td>1861</td>\n",
       "      <td>1914</td>\n",
       "    </tr>\n",
       "    <tr>\n",
       "      <th>10</th>\n",
       "      <td>Odontoceti</td>\n",
       "      <td>globicephala_melas_8</td>\n",
       "      <td>1860</td>\n",
       "      <td>True</td>\n",
       "      <td>-1</td>\n",
       "      <td>1861</td>\n",
       "      <td>1825</td>\n",
       "    </tr>\n",
       "    <tr>\n",
       "      <th>11</th>\n",
       "      <td>Odontoceti</td>\n",
       "      <td>orcinus_orca_15</td>\n",
       "      <td>1977</td>\n",
       "      <td>True</td>\n",
       "      <td>-1</td>\n",
       "      <td>1978</td>\n",
       "      <td>1824</td>\n",
       "    </tr>\n",
       "    <tr>\n",
       "      <th>12</th>\n",
       "      <td>Odontoceti</td>\n",
       "      <td>lagenorhynchus_albirostris_2</td>\n",
       "      <td>1962</td>\n",
       "      <td>True</td>\n",
       "      <td>-1</td>\n",
       "      <td>1963</td>\n",
       "      <td>1824</td>\n",
       "    </tr>\n",
       "    <tr>\n",
       "      <th>13</th>\n",
       "      <td>Odontoceti</td>\n",
       "      <td>tursiops_truncatus_14</td>\n",
       "      <td>1887</td>\n",
       "      <td>True</td>\n",
       "      <td>-1</td>\n",
       "      <td>1888</td>\n",
       "      <td>1826</td>\n",
       "    </tr>\n",
       "    <tr>\n",
       "      <th>14</th>\n",
       "      <td>Odontoceti</td>\n",
       "      <td>physeter_macrocephalus_13</td>\n",
       "      <td>1869</td>\n",
       "      <td>True</td>\n",
       "      <td>-1</td>\n",
       "      <td>1870</td>\n",
       "      <td>1827</td>\n",
       "    </tr>\n",
       "    <tr>\n",
       "      <th>15</th>\n",
       "      <td>Odontoceti</td>\n",
       "      <td>phocoena_phocoena_1</td>\n",
       "      <td>1860</td>\n",
       "      <td>True</td>\n",
       "      <td>-1</td>\n",
       "      <td>1861</td>\n",
       "      <td>1823</td>\n",
       "    </tr>\n",
       "    <tr>\n",
       "      <th>16</th>\n",
       "      <td>Odontoceti</td>\n",
       "      <td>phocoena_sinus_6</td>\n",
       "      <td>1860</td>\n",
       "      <td>True</td>\n",
       "      <td>-1</td>\n",
       "      <td>1861</td>\n",
       "      <td>1825</td>\n",
       "    </tr>\n",
       "    <tr>\n",
       "      <th>17</th>\n",
       "      <td>Odontoceti</td>\n",
       "      <td>mesoplodon_densirostris_3</td>\n",
       "      <td>1860</td>\n",
       "      <td>True</td>\n",
       "      <td>-1</td>\n",
       "      <td>1861</td>\n",
       "      <td>1824</td>\n",
       "    </tr>\n",
       "    <tr>\n",
       "      <th>18</th>\n",
       "      <td>Odontoceti</td>\n",
       "      <td>neophocaena_asiaeorientalis_asiaeorientalis_10</td>\n",
       "      <td>1860</td>\n",
       "      <td>True</td>\n",
       "      <td>-1</td>\n",
       "      <td>1861</td>\n",
       "      <td>1825</td>\n",
       "    </tr>\n",
       "    <tr>\n",
       "      <th>19</th>\n",
       "      <td>Odontoceti</td>\n",
       "      <td>sagmatias_obliquidens_16</td>\n",
       "      <td>1869</td>\n",
       "      <td>True</td>\n",
       "      <td>-1</td>\n",
       "      <td>1870</td>\n",
       "      <td>1825</td>\n",
       "    </tr>\n",
       "  </tbody>\n",
       "</table>\n",
       "</div>"
      ]
     },
     "execution_count": 24,
     "metadata": {},
     "output_type": "execute_result"
    }
   ],
   "execution_count": 24
  },
  {
   "metadata": {
    "ExecuteTime": {
     "end_time": "2025-05-21T13:55:34.673551Z",
     "start_time": "2025-05-21T13:55:34.667293Z"
    }
   },
   "cell_type": "code",
   "source": [
    "whippomorpha_df_cds_cassette, whippomorpha_dict_align_cds_cassette = dict_align_info_analyze(dict_align_info, \"cds_cassette\")\n",
    "whippomorpha_df_cds_cassette"
   ],
   "id": "f25784d0310ef9bb",
   "outputs": [
    {
     "data": {
      "text/plain": [
       "        phylum                                        org_name  \\\n",
       "0    Mysticeti                            balaenoptera_ricei_2   \n",
       "1    Mysticeti                    balaenoptera_acutorostrata_4   \n",
       "2    Mysticeti                         eschrichtius_robustus_0   \n",
       "3    Mysticeti                           eubalaena_glacialis_1   \n",
       "4   Odontoceti                             delphinus_delphis_4   \n",
       "5   Odontoceti                          pseudorca_crassidens_0   \n",
       "6   Odontoceti                        delphinapterus_leucas_11   \n",
       "7   Odontoceti                             monodon_monoceros_9   \n",
       "8   Odontoceti                               kogia_breviceps_5   \n",
       "9   Odontoceti                           lipotes_vexillifer_12   \n",
       "10  Odontoceti                            globicephala_melas_8   \n",
       "11  Odontoceti                                 orcinus_orca_15   \n",
       "12  Odontoceti                    lagenorhynchus_albirostris_2   \n",
       "13  Odontoceti                           tursiops_truncatus_14   \n",
       "14  Odontoceti                       physeter_macrocephalus_13   \n",
       "15  Odontoceti                             phocoena_phocoena_1   \n",
       "16  Odontoceti                                phocoena_sinus_6   \n",
       "17  Odontoceti                       mesoplodon_densirostris_3   \n",
       "18  Odontoceti  neophocaena_asiaeorientalis_asiaeorientalis_10   \n",
       "19  Odontoceti                        sagmatias_obliquidens_16   \n",
       "\n",
       "    stop_codon_pos  equal_to_cds  cassette_start  length_to_stop_codon  \\\n",
       "0             1080         False            1028                    52   \n",
       "1             1080         False            1028                    52   \n",
       "2             1080         False            1028                    52   \n",
       "3             1071         False            1019                    52   \n",
       "4             1071         False            1019                    52   \n",
       "5             1071         False            1019                    52   \n",
       "6             1071         False            1019                    52   \n",
       "7             1071         False            1019                    52   \n",
       "8             1071         False            1019                    52   \n",
       "9             1071         False            1019                    52   \n",
       "10            1071         False            1019                    52   \n",
       "11            1071         False            1019                    52   \n",
       "12            1164         False            1121                    43   \n",
       "13            1098         False            1046                    52   \n",
       "14            1098         False            1028                    70   \n",
       "15            1071         False            1019                    52   \n",
       "16            1071         False            1019                    52   \n",
       "17            1071         False            1019                    52   \n",
       "18            1071         False            1019                    52   \n",
       "19            1080         False            1028                    52   \n",
       "\n",
       "    intron_length  \n",
       "0            1831  \n",
       "1            1835  \n",
       "2            1835  \n",
       "3            1830  \n",
       "4            1825  \n",
       "5            1824  \n",
       "6            1824  \n",
       "7            1828  \n",
       "8            1846  \n",
       "9            1914  \n",
       "10           1825  \n",
       "11           1824  \n",
       "12           1824  \n",
       "13           1826  \n",
       "14           1827  \n",
       "15           1823  \n",
       "16           1825  \n",
       "17           1824  \n",
       "18           1825  \n",
       "19           1825  "
      ],
      "text/html": [
       "<div>\n",
       "<style scoped>\n",
       "    .dataframe tbody tr th:only-of-type {\n",
       "        vertical-align: middle;\n",
       "    }\n",
       "\n",
       "    .dataframe tbody tr th {\n",
       "        vertical-align: top;\n",
       "    }\n",
       "\n",
       "    .dataframe thead th {\n",
       "        text-align: right;\n",
       "    }\n",
       "</style>\n",
       "<table border=\"1\" class=\"dataframe\">\n",
       "  <thead>\n",
       "    <tr style=\"text-align: right;\">\n",
       "      <th></th>\n",
       "      <th>phylum</th>\n",
       "      <th>org_name</th>\n",
       "      <th>stop_codon_pos</th>\n",
       "      <th>equal_to_cds</th>\n",
       "      <th>cassette_start</th>\n",
       "      <th>length_to_stop_codon</th>\n",
       "      <th>intron_length</th>\n",
       "    </tr>\n",
       "  </thead>\n",
       "  <tbody>\n",
       "    <tr>\n",
       "      <th>0</th>\n",
       "      <td>Mysticeti</td>\n",
       "      <td>balaenoptera_ricei_2</td>\n",
       "      <td>1080</td>\n",
       "      <td>False</td>\n",
       "      <td>1028</td>\n",
       "      <td>52</td>\n",
       "      <td>1831</td>\n",
       "    </tr>\n",
       "    <tr>\n",
       "      <th>1</th>\n",
       "      <td>Mysticeti</td>\n",
       "      <td>balaenoptera_acutorostrata_4</td>\n",
       "      <td>1080</td>\n",
       "      <td>False</td>\n",
       "      <td>1028</td>\n",
       "      <td>52</td>\n",
       "      <td>1835</td>\n",
       "    </tr>\n",
       "    <tr>\n",
       "      <th>2</th>\n",
       "      <td>Mysticeti</td>\n",
       "      <td>eschrichtius_robustus_0</td>\n",
       "      <td>1080</td>\n",
       "      <td>False</td>\n",
       "      <td>1028</td>\n",
       "      <td>52</td>\n",
       "      <td>1835</td>\n",
       "    </tr>\n",
       "    <tr>\n",
       "      <th>3</th>\n",
       "      <td>Mysticeti</td>\n",
       "      <td>eubalaena_glacialis_1</td>\n",
       "      <td>1071</td>\n",
       "      <td>False</td>\n",
       "      <td>1019</td>\n",
       "      <td>52</td>\n",
       "      <td>1830</td>\n",
       "    </tr>\n",
       "    <tr>\n",
       "      <th>4</th>\n",
       "      <td>Odontoceti</td>\n",
       "      <td>delphinus_delphis_4</td>\n",
       "      <td>1071</td>\n",
       "      <td>False</td>\n",
       "      <td>1019</td>\n",
       "      <td>52</td>\n",
       "      <td>1825</td>\n",
       "    </tr>\n",
       "    <tr>\n",
       "      <th>5</th>\n",
       "      <td>Odontoceti</td>\n",
       "      <td>pseudorca_crassidens_0</td>\n",
       "      <td>1071</td>\n",
       "      <td>False</td>\n",
       "      <td>1019</td>\n",
       "      <td>52</td>\n",
       "      <td>1824</td>\n",
       "    </tr>\n",
       "    <tr>\n",
       "      <th>6</th>\n",
       "      <td>Odontoceti</td>\n",
       "      <td>delphinapterus_leucas_11</td>\n",
       "      <td>1071</td>\n",
       "      <td>False</td>\n",
       "      <td>1019</td>\n",
       "      <td>52</td>\n",
       "      <td>1824</td>\n",
       "    </tr>\n",
       "    <tr>\n",
       "      <th>7</th>\n",
       "      <td>Odontoceti</td>\n",
       "      <td>monodon_monoceros_9</td>\n",
       "      <td>1071</td>\n",
       "      <td>False</td>\n",
       "      <td>1019</td>\n",
       "      <td>52</td>\n",
       "      <td>1828</td>\n",
       "    </tr>\n",
       "    <tr>\n",
       "      <th>8</th>\n",
       "      <td>Odontoceti</td>\n",
       "      <td>kogia_breviceps_5</td>\n",
       "      <td>1071</td>\n",
       "      <td>False</td>\n",
       "      <td>1019</td>\n",
       "      <td>52</td>\n",
       "      <td>1846</td>\n",
       "    </tr>\n",
       "    <tr>\n",
       "      <th>9</th>\n",
       "      <td>Odontoceti</td>\n",
       "      <td>lipotes_vexillifer_12</td>\n",
       "      <td>1071</td>\n",
       "      <td>False</td>\n",
       "      <td>1019</td>\n",
       "      <td>52</td>\n",
       "      <td>1914</td>\n",
       "    </tr>\n",
       "    <tr>\n",
       "      <th>10</th>\n",
       "      <td>Odontoceti</td>\n",
       "      <td>globicephala_melas_8</td>\n",
       "      <td>1071</td>\n",
       "      <td>False</td>\n",
       "      <td>1019</td>\n",
       "      <td>52</td>\n",
       "      <td>1825</td>\n",
       "    </tr>\n",
       "    <tr>\n",
       "      <th>11</th>\n",
       "      <td>Odontoceti</td>\n",
       "      <td>orcinus_orca_15</td>\n",
       "      <td>1071</td>\n",
       "      <td>False</td>\n",
       "      <td>1019</td>\n",
       "      <td>52</td>\n",
       "      <td>1824</td>\n",
       "    </tr>\n",
       "    <tr>\n",
       "      <th>12</th>\n",
       "      <td>Odontoceti</td>\n",
       "      <td>lagenorhynchus_albirostris_2</td>\n",
       "      <td>1164</td>\n",
       "      <td>False</td>\n",
       "      <td>1121</td>\n",
       "      <td>43</td>\n",
       "      <td>1824</td>\n",
       "    </tr>\n",
       "    <tr>\n",
       "      <th>13</th>\n",
       "      <td>Odontoceti</td>\n",
       "      <td>tursiops_truncatus_14</td>\n",
       "      <td>1098</td>\n",
       "      <td>False</td>\n",
       "      <td>1046</td>\n",
       "      <td>52</td>\n",
       "      <td>1826</td>\n",
       "    </tr>\n",
       "    <tr>\n",
       "      <th>14</th>\n",
       "      <td>Odontoceti</td>\n",
       "      <td>physeter_macrocephalus_13</td>\n",
       "      <td>1098</td>\n",
       "      <td>False</td>\n",
       "      <td>1028</td>\n",
       "      <td>70</td>\n",
       "      <td>1827</td>\n",
       "    </tr>\n",
       "    <tr>\n",
       "      <th>15</th>\n",
       "      <td>Odontoceti</td>\n",
       "      <td>phocoena_phocoena_1</td>\n",
       "      <td>1071</td>\n",
       "      <td>False</td>\n",
       "      <td>1019</td>\n",
       "      <td>52</td>\n",
       "      <td>1823</td>\n",
       "    </tr>\n",
       "    <tr>\n",
       "      <th>16</th>\n",
       "      <td>Odontoceti</td>\n",
       "      <td>phocoena_sinus_6</td>\n",
       "      <td>1071</td>\n",
       "      <td>False</td>\n",
       "      <td>1019</td>\n",
       "      <td>52</td>\n",
       "      <td>1825</td>\n",
       "    </tr>\n",
       "    <tr>\n",
       "      <th>17</th>\n",
       "      <td>Odontoceti</td>\n",
       "      <td>mesoplodon_densirostris_3</td>\n",
       "      <td>1071</td>\n",
       "      <td>False</td>\n",
       "      <td>1019</td>\n",
       "      <td>52</td>\n",
       "      <td>1824</td>\n",
       "    </tr>\n",
       "    <tr>\n",
       "      <th>18</th>\n",
       "      <td>Odontoceti</td>\n",
       "      <td>neophocaena_asiaeorientalis_asiaeorientalis_10</td>\n",
       "      <td>1071</td>\n",
       "      <td>False</td>\n",
       "      <td>1019</td>\n",
       "      <td>52</td>\n",
       "      <td>1825</td>\n",
       "    </tr>\n",
       "    <tr>\n",
       "      <th>19</th>\n",
       "      <td>Odontoceti</td>\n",
       "      <td>sagmatias_obliquidens_16</td>\n",
       "      <td>1080</td>\n",
       "      <td>False</td>\n",
       "      <td>1028</td>\n",
       "      <td>52</td>\n",
       "      <td>1825</td>\n",
       "    </tr>\n",
       "  </tbody>\n",
       "</table>\n",
       "</div>"
      ]
     },
     "execution_count": 25,
     "metadata": {},
     "output_type": "execute_result"
    }
   ],
   "execution_count": 25
  },
  {
   "metadata": {
    "ExecuteTime": {
     "end_time": "2025-05-21T13:55:34.745367Z",
     "start_time": "2025-05-21T13:55:34.743729Z"
    }
   },
   "cell_type": "code",
   "source": [
    "dict_align_to_fasta_upd(whippomorpha_dict_align_cds_cassette, \"../Alignment/Whippomorpha_cds_cassette.fa\")\n",
    "# dict_align_to_fasta_upd(whippomorpha_dict_align_cds_cassette, \"../Alignment/Whippomorpha_cds_cassette.aln\")"
   ],
   "id": "caca8420559d45d6",
   "outputs": [],
   "execution_count": 26
  },
  {
   "metadata": {},
   "cell_type": "markdown",
   "source": "---",
   "id": "7fa9a6373cbe890a"
  },
  {
   "metadata": {
    "ExecuteTime": {
     "end_time": "2025-05-21T13:55:34.819254Z",
     "start_time": "2025-05-21T13:55:34.816956Z"
    }
   },
   "cell_type": "code",
   "source": [
    "prefix = \"../Datasets\"\n",
    "phylum = \"Mysticeti\"\n",
    "postfix = \"ncbi_dataset/data\"\n",
    "align_type = \"protein\"\n",
    "\n",
    "org_names = os.listdir(f\"{prefix}/{phylum}\")\n",
    "org_names.remove(\"balaenoptera_musculus_3\")\n",
    "\n",
    "alignment_dict = dict_align_create(phylum, org_names, align_type)\n",
    "alignment_dict_upd = {\n",
    "    \"_\".join(key.split(\"_\")[:-1]).capitalize(): value\n",
    "    for key, value in alignment_dict.items()\n",
    "}\n",
    "\n",
    "dict_align_to_fasta(alignment_dict_upd, f\"../Alignment/{phylum}/{phylum}_protein.fa\")\n",
    "# dict_align_to_fasta(alignment_dict_upd, f\"../Alignment/{phylum}/{phylum}_protein.aln\")"
   ],
   "id": "c276e344e50e6530",
   "outputs": [],
   "execution_count": 27
  },
  {
   "metadata": {
    "ExecuteTime": {
     "end_time": "2025-05-21T13:55:34.870910Z",
     "start_time": "2025-05-21T13:55:34.868400Z"
    }
   },
   "cell_type": "code",
   "source": [
    "prefix = \"../Datasets\"\n",
    "phylum = \"Odontoceti\"\n",
    "postfix = \"ncbi_dataset/data\"\n",
    "align_type = \"protein\"\n",
    "\n",
    "org_names = os.listdir(f\"{prefix}/{phylum}\")\n",
    "\n",
    "alignment_dict = dict_align_create(phylum, org_names, align_type)\n",
    "alignment_dict_upd = {\n",
    "    \"_\".join(key.split(\"_\")[:-1]).capitalize(): value\n",
    "    for key, value in alignment_dict.items()\n",
    "}\n",
    "\n",
    "dict_align_to_fasta(alignment_dict_upd, f\"../Alignment/{phylum}/{phylum}_protein.fa\")\n",
    "# dict_align_to_fasta(alignment_dict_upd, f\"../Alignment/{phylum}/{phylum}_protein.aln\")"
   ],
   "id": "7503a8c7afa98ecf",
   "outputs": [],
   "execution_count": 28
  },
  {
   "metadata": {},
   "cell_type": "markdown",
   "source": "---",
   "id": "7d9e5c90ebff8bdc"
  },
  {
   "metadata": {
    "ExecuteTime": {
     "end_time": "2025-05-21T13:55:34.913314Z",
     "start_time": "2025-05-21T13:55:34.910257Z"
    }
   },
   "cell_type": "code",
   "source": [
    "prefix = \"../Datasets\"\n",
    "phylum = \"Mysticeti\"\n",
    "postfix = \"ncbi_dataset/data\"\n",
    "\n",
    "org_names = os.listdir(f\"{prefix}/{phylum}\")\n",
    "org_names.remove(\"balaenoptera_musculus_3\")\n",
    "\n",
    "alignment_dict = {}\n",
    "for org_name in org_names:\n",
    "    data = obtain_data(phylum, org_name)\n",
    "    formatted_org_name = org_name.rsplit(\"_\", 1)[0].capitalize()\n",
    "    alignment_dict[formatted_org_name] = data[\"protein_sliced\"]\n",
    "\n",
    "dict_align_to_fasta(alignment_dict, f\"../Alignment/{phylum}/{phylum}_protein_sliced.fa\")\n",
    "# dict_align_to_fasta(alignment_dict, f\"../Alignment/{phylum}/{phylum}_protein_sliced.aln\")"
   ],
   "id": "4a8f9e0b7cd4f8da",
   "outputs": [],
   "execution_count": 29
  },
  {
   "metadata": {
    "ExecuteTime": {
     "end_time": "2025-05-21T13:55:34.981986Z",
     "start_time": "2025-05-21T13:55:34.976773Z"
    }
   },
   "cell_type": "code",
   "source": [
    "prefix = \"../Datasets\"\n",
    "phylum = \"Odontoceti\"\n",
    "postfix = \"ncbi_dataset/data\"\n",
    "\n",
    "org_names = os.listdir(f\"{prefix}/{phylum}\")\n",
    "\n",
    "alignment_dict = {}\n",
    "for org_name in org_names:\n",
    "    data = obtain_data(phylum, org_name)\n",
    "    formatted_org_name = org_name.rsplit(\"_\", 1)[0].capitalize()\n",
    "    alignment_dict[formatted_org_name] = data[\"protein_sliced\"]\n",
    "\n",
    "dict_align_to_fasta(alignment_dict, f\"../Alignment/{phylum}/{phylum}_protein_sliced.fa\")\n",
    "# dict_align_to_fasta(alignment_dict, f\"../Alignment/{phylum}/{phylum}_protein_sliced.aln\")"
   ],
   "id": "90a2aa38cd45728a",
   "outputs": [],
   "execution_count": 30
  },
  {
   "metadata": {},
   "cell_type": "markdown",
   "source": "---",
   "id": "c65f50221df5eb3f"
  },
  {
   "metadata": {},
   "cell_type": "markdown",
   "source": "#### RNAfold",
   "id": "d5a80a52dc6e0266"
  },
  {
   "metadata": {
    "ExecuteTime": {
     "end_time": "2025-05-21T13:55:35.048736Z",
     "start_time": "2025-05-21T13:55:35.046121Z"
    }
   },
   "cell_type": "code",
   "source": [
    "prefix = \"../Datasets\"\n",
    "phylum = \"Mysticeti\"\n",
    "postfix = \"ncbi_dataset/data\"\n",
    "\n",
    "org_names = os.listdir(f\"{prefix}/{phylum}\")\n",
    "org_names.remove(\"balaenoptera_musculus_3\")\n",
    "\n",
    "alignment_dict = {}\n",
    "for org_name in org_names:\n",
    "    formatted_org_name = org_name.rsplit(\"_\", 1)[0].capitalize()\n",
    "    alignment_dict[formatted_org_name] = mysticeti_introns[org_name]\n",
    "\n",
    "dict_align_to_fasta(alignment_dict, f\"../Alignment/{phylum}/{phylum}_introns.fa\")\n",
    "# dict_align_to_fasta(alignment_dict, f\"../Alignment/{phylum}/{phylum}_introns.aln\")"
   ],
   "id": "53d344f795aca9d7",
   "outputs": [],
   "execution_count": 31
  },
  {
   "metadata": {
    "ExecuteTime": {
     "end_time": "2025-05-21T13:55:35.113157Z",
     "start_time": "2025-05-21T13:55:35.111745Z"
    }
   },
   "cell_type": "code",
   "source": [
    "# prefix = \"../Alignment\"\n",
    "# phylum = \"Mysticeti\"\n",
    "#\n",
    "# run_rnafold_with_highlight(\n",
    "#     Path(f\"{prefix}/{phylum}/{phylum}_cds_cassette.fa\"),\n",
    "#     Path(f\"{prefix}/{phylum}/{phylum}_introns.fa\"),\n",
    "#     Path(f\"../rnafold_output/{phylum}_cds_cassette\")\n",
    "# )"
   ],
   "id": "b773c68ef7fde845",
   "outputs": [],
   "execution_count": 32
  },
  {
   "metadata": {
    "ExecuteTime": {
     "end_time": "2025-05-21T13:55:35.182574Z",
     "start_time": "2025-05-21T13:55:35.180501Z"
    }
   },
   "cell_type": "code",
   "source": [
    "prefix = \"../Datasets\"\n",
    "phylum = \"Odontoceti\"\n",
    "postfix = \"ncbi_dataset/data\"\n",
    "\n",
    "org_names = os.listdir(f\"{prefix}/{phylum}\")\n",
    "\n",
    "alignment_dict = {}\n",
    "for org_name in org_names:\n",
    "    formatted_org_name = org_name.rsplit(\"_\", 1)[0].capitalize()\n",
    "    alignment_dict[formatted_org_name] = odontoceti_introns[org_name]\n",
    "\n",
    "dict_align_to_fasta(alignment_dict, f\"../Alignment/{phylum}/{phylum}_introns.fa\")\n",
    "# dict_align_to_fasta(alignment_dict, f\"../Alignment/{phylum}/{phylum}_introns.aln\")"
   ],
   "id": "df873f8055652049",
   "outputs": [],
   "execution_count": 33
  },
  {
   "metadata": {
    "ExecuteTime": {
     "end_time": "2025-05-21T13:55:35.247993Z",
     "start_time": "2025-05-21T13:55:35.246437Z"
    }
   },
   "cell_type": "code",
   "source": [
    "# prefix = \"../Alignment\"\n",
    "# phylum = \"Odontoceti\"\n",
    "#\n",
    "# run_rnafold_with_highlight(\n",
    "#     Path(f\"{prefix}/{phylum}/{phylum}_cds_cassette.fa\"),\n",
    "#     Path(f\"{prefix}/{phylum}/{phylum}_introns.fa\"),\n",
    "#     Path(f\"../rnafold_output/{phylum}_cds_cassette\")\n",
    "# )"
   ],
   "id": "af6db7c8a5d3c7ca",
   "outputs": [],
   "execution_count": 34
  },
  {
   "metadata": {},
   "cell_type": "markdown",
   "source": "---",
   "id": "26a6030b14d491dd"
  },
  {
   "metadata": {},
   "cell_type": "markdown",
   "source": "### Homo sapiens",
   "id": "c22b392a11e853d8"
  },
  {
   "metadata": {
    "ExecuteTime": {
     "end_time": "2025-05-21T13:55:35.315185Z",
     "start_time": "2025-05-21T13:55:35.313337Z"
    }
   },
   "cell_type": "code",
   "source": "df_homo = df_taxonomy[df_taxonomy.taxonomy.str.contains(\"Homo\")]",
   "id": "3c079aeee5b33af2",
   "outputs": [],
   "execution_count": 35
  },
  {
   "metadata": {
    "ExecuteTime": {
     "end_time": "2025-05-21T13:55:35.451121Z",
     "start_time": "2025-05-21T13:55:35.448616Z"
    }
   },
   "cell_type": "code",
   "source": [
    "homo_taxids = {\n",
    "    \"Homo\": df_homo.index.tolist(),\n",
    "}\n",
    "\n",
    "df_homo_subset = df.loc[homo_taxids[\"Homo\"]]\n",
    "df_homo_subset_nxf1 = df_homo_subset[df_homo_subset[\"symbol\"] == \"NXF1\"]"
   ],
   "id": "909222576528780e",
   "outputs": [],
   "execution_count": 37
  },
  {
   "metadata": {
    "ExecuteTime": {
     "end_time": "2025-05-21T13:55:35.521112Z",
     "start_time": "2025-05-21T13:55:35.519789Z"
    }
   },
   "cell_type": "code",
   "source": "# download_all_files_ncbi(df_homo_subset_nxf1, homo_taxids, phylas=list(homo_taxids.keys()))",
   "id": "104b5db69f0f06c4",
   "outputs": [],
   "execution_count": 38
  },
  {
   "metadata": {
    "ExecuteTime": {
     "end_time": "2025-05-21T13:57:07.781004Z",
     "start_time": "2025-05-21T13:57:07.779218Z"
    }
   },
   "cell_type": "code",
   "source": [
    "# после изменения эта функция не должна ничего печатать\n",
    "homo_species_to_update = check_transcript_count([\"Homo\"])"
   ],
   "id": "8911a26f5561d29d",
   "outputs": [],
   "execution_count": 41
  },
  {
   "metadata": {
    "ExecuteTime": {
     "end_time": "2025-05-21T13:57:05.913399Z",
     "start_time": "2025-05-21T13:57:05.911175Z"
    }
   },
   "cell_type": "code",
   "source": "update_data_for_species(homo_species_to_update)",
   "id": "e3aabd8c94c8e7cc",
   "outputs": [],
   "execution_count": 40
  },
  {
   "metadata": {
    "ExecuteTime": {
     "end_time": "2025-05-21T13:58:03.017168Z",
     "start_time": "2025-05-21T13:58:03.014591Z"
    }
   },
   "cell_type": "code",
   "source": [
    "prefix = \"../Datasets\"\n",
    "phylum = \"Homo\"\n",
    "postfix = \"ncbi_dataset/data\"\n",
    "nof = \"exons.fa\"\n",
    "\n",
    "# Homo\n",
    "homo_sapiens_0 = analyze_exons(\n",
    "    f\"{prefix}/{phylum}/homo_sapiens_0/{postfix}/{nof}\")  # 110 37 | 9, 10 || 116 43 | 15, 16"
   ],
   "id": "a8c5c03d107909a3",
   "outputs": [],
   "execution_count": 42
  },
  {
   "metadata": {
    "ExecuteTime": {
     "end_time": "2025-05-21T13:59:34.986454Z",
     "start_time": "2025-05-21T13:59:34.984657Z"
    }
   },
   "cell_type": "code",
   "source": [
    "data_homo = {\n",
    "    \"homo_sapiens_0\": (homo_sapiens_0, [9, 10]),\n",
    "}"
   ],
   "id": "8cb4519beb546ff0",
   "outputs": [],
   "execution_count": 43
  },
  {
   "metadata": {
    "ExecuteTime": {
     "end_time": "2025-05-21T13:59:47.735615Z",
     "start_time": "2025-05-21T13:59:47.733332Z"
    }
   },
   "cell_type": "code",
   "source": "homo_introns = create_many_cassettes(\"Homo\", data_homo)",
   "id": "e10b42f621e0177f",
   "outputs": [],
   "execution_count": 44
  },
  {
   "metadata": {
    "ExecuteTime": {
     "end_time": "2025-05-21T14:01:26.585430Z",
     "start_time": "2025-05-21T14:01:26.582737Z"
    }
   },
   "cell_type": "code",
   "source": [
    "prefix = \"../Datasets\"\n",
    "phylum = \"Homo\"\n",
    "postfix = \"ncbi_dataset/data\"\n",
    "align_type = \"cds_cassette\"\n",
    "\n",
    "org_names_homo = os.listdir(f\"{prefix}/{phylum}\")\n",
    "\n",
    "homo_alignment_dict = dict_align_create(phylum, org_names_homo, align_type)\n",
    "homo_alignment_dict_upd = {\n",
    "    \"_\".join(key.split(\"_\")[:-1]).capitalize(): value\n",
    "    for key, value in homo_alignment_dict.items()\n",
    "}\n",
    "\n",
    "os.makedirs(f\"../Alignment/{phylum}\", exist_ok=True)\n",
    "dict_align_to_fasta(homo_alignment_dict_upd, \"../Alignment/Homo/Homo_cds_cassette.fa\")\n",
    "# dict_align_to_fasta(homo_alignment_dict_upd, \"../Alignment/Homo/Homo_cds_cassette.aln\")"
   ],
   "id": "38ccfa8579387474",
   "outputs": [],
   "execution_count": 46
  },
  {
   "metadata": {
    "ExecuteTime": {
     "end_time": "2025-05-21T14:03:46.578021Z",
     "start_time": "2025-05-21T14:03:46.576301Z"
    }
   },
   "cell_type": "code",
   "source": [
    "dict_align_info = {\n",
    "    \"Homo\": org_names_homo,\n",
    "}"
   ],
   "id": "9e037c9f82864ab9",
   "outputs": [],
   "execution_count": 48
  },
  {
   "metadata": {
    "ExecuteTime": {
     "end_time": "2025-05-21T14:03:47.817296Z",
     "start_time": "2025-05-21T14:03:47.812685Z"
    }
   },
   "cell_type": "code",
   "source": [
    "homo_df_cds_cassette, homo_dict_align_cds_cassette = dict_align_info_analyze(dict_align_info, \"cds\")\n",
    "homo_df_cds_cassette"
   ],
   "id": "690cf776ecc18248",
   "outputs": [
    {
     "data": {
      "text/plain": [
       "  phylum        org_name  stop_codon_pos  equal_to_cds  cassette_start  \\\n",
       "0   Homo  homo_sapiens_0            1815          True              -1   \n",
       "\n",
       "   length_to_stop_codon  intron_length  \n",
       "0                  1816           1801  "
      ],
      "text/html": [
       "<div>\n",
       "<style scoped>\n",
       "    .dataframe tbody tr th:only-of-type {\n",
       "        vertical-align: middle;\n",
       "    }\n",
       "\n",
       "    .dataframe tbody tr th {\n",
       "        vertical-align: top;\n",
       "    }\n",
       "\n",
       "    .dataframe thead th {\n",
       "        text-align: right;\n",
       "    }\n",
       "</style>\n",
       "<table border=\"1\" class=\"dataframe\">\n",
       "  <thead>\n",
       "    <tr style=\"text-align: right;\">\n",
       "      <th></th>\n",
       "      <th>phylum</th>\n",
       "      <th>org_name</th>\n",
       "      <th>stop_codon_pos</th>\n",
       "      <th>equal_to_cds</th>\n",
       "      <th>cassette_start</th>\n",
       "      <th>length_to_stop_codon</th>\n",
       "      <th>intron_length</th>\n",
       "    </tr>\n",
       "  </thead>\n",
       "  <tbody>\n",
       "    <tr>\n",
       "      <th>0</th>\n",
       "      <td>Homo</td>\n",
       "      <td>homo_sapiens_0</td>\n",
       "      <td>1815</td>\n",
       "      <td>True</td>\n",
       "      <td>-1</td>\n",
       "      <td>1816</td>\n",
       "      <td>1801</td>\n",
       "    </tr>\n",
       "  </tbody>\n",
       "</table>\n",
       "</div>"
      ]
     },
     "execution_count": 49,
     "metadata": {},
     "output_type": "execute_result"
    }
   ],
   "execution_count": 49
  },
  {
   "metadata": {
    "ExecuteTime": {
     "end_time": "2025-05-21T14:03:59.728796Z",
     "start_time": "2025-05-21T14:03:59.723919Z"
    }
   },
   "cell_type": "code",
   "source": [
    "homo_df_cds_cassette, homo_dict_align_cds_cassette = dict_align_info_analyze(dict_align_info, \"cds_cassette\")\n",
    "homo_df_cds_cassette"
   ],
   "id": "e96c8a5734ddf4de",
   "outputs": [
    {
     "data": {
      "text/plain": [
       "  phylum        org_name  stop_codon_pos  equal_to_cds  cassette_start  \\\n",
       "0   Homo  homo_sapiens_0            1068         False            1016   \n",
       "\n",
       "   length_to_stop_codon  intron_length  \n",
       "0                    52           1801  "
      ],
      "text/html": [
       "<div>\n",
       "<style scoped>\n",
       "    .dataframe tbody tr th:only-of-type {\n",
       "        vertical-align: middle;\n",
       "    }\n",
       "\n",
       "    .dataframe tbody tr th {\n",
       "        vertical-align: top;\n",
       "    }\n",
       "\n",
       "    .dataframe thead th {\n",
       "        text-align: right;\n",
       "    }\n",
       "</style>\n",
       "<table border=\"1\" class=\"dataframe\">\n",
       "  <thead>\n",
       "    <tr style=\"text-align: right;\">\n",
       "      <th></th>\n",
       "      <th>phylum</th>\n",
       "      <th>org_name</th>\n",
       "      <th>stop_codon_pos</th>\n",
       "      <th>equal_to_cds</th>\n",
       "      <th>cassette_start</th>\n",
       "      <th>length_to_stop_codon</th>\n",
       "      <th>intron_length</th>\n",
       "    </tr>\n",
       "  </thead>\n",
       "  <tbody>\n",
       "    <tr>\n",
       "      <th>0</th>\n",
       "      <td>Homo</td>\n",
       "      <td>homo_sapiens_0</td>\n",
       "      <td>1068</td>\n",
       "      <td>False</td>\n",
       "      <td>1016</td>\n",
       "      <td>52</td>\n",
       "      <td>1801</td>\n",
       "    </tr>\n",
       "  </tbody>\n",
       "</table>\n",
       "</div>"
      ]
     },
     "execution_count": 50,
     "metadata": {},
     "output_type": "execute_result"
    }
   ],
   "execution_count": 50
  },
  {
   "metadata": {},
   "cell_type": "markdown",
   "source": "### Рыбы",
   "id": "ee7f1d8620c6f018"
  },
  {
   "metadata": {},
   "cell_type": "markdown",
   "source": "#### Actinopterygii - Лучепёрые рыбы - 74 вида",
   "id": "b9c7648e3ce2726a"
  },
  {
   "metadata": {
    "ExecuteTime": {
     "end_time": "2025-05-25T16:06:36.665862Z",
     "start_time": "2025-05-25T16:06:36.663494Z"
    }
   },
   "cell_type": "code",
   "source": "df_Actinopterygii = df_taxonomy[df_taxonomy.taxonomy.str.contains(\"Actinopterygii\")]",
   "id": "aca31c32c9777db2",
   "outputs": [],
   "execution_count": 5
  },
  {
   "metadata": {
    "ExecuteTime": {
     "end_time": "2025-05-25T15:48:15.003195Z",
     "start_time": "2025-05-25T15:48:14.998360Z"
    }
   },
   "cell_type": "code",
   "source": [
    "# df_actinopterygii.to_csv(\"../actinopterygii_taxonomy.tsv\", sep=\"\\t\", index=True, header=False)\n",
    "# create_taxonomy(\"../actinopterygii_taxonomy.tsv\")"
   ],
   "id": "c94e509952ea726c",
   "outputs": [],
   "execution_count": 19
  },
  {
   "metadata": {
    "ExecuteTime": {
     "end_time": "2025-05-25T16:06:38.415168Z",
     "start_time": "2025-05-25T16:06:38.411846Z"
    }
   },
   "cell_type": "code",
   "source": [
    "df_Otomorpha = df_Actinopterygii[df_Actinopterygii.taxonomy.str.contains(\"Otomorpha\")]  # 16\n",
    "df_Euteleosteomorpha = df_Actinopterygii[df_Actinopterygii.taxonomy.str.contains(\"Euteleosteomorpha\")]  # 54\n",
    "df_Osteoglossomorpha = df_Actinopterygii[df_Actinopterygii.taxonomy.str.contains(\"Osteoglossomorpha\")]  # 2\n",
    "df_Holostei = df_Actinopterygii[df_Actinopterygii.taxonomy.str.contains(\"Holostei\")]  # 1\n",
    "df_Cladistia = df_Actinopterygii[df_Actinopterygii.taxonomy.str.contains(\"Cladistia\")]  # 1"
   ],
   "id": "4b406d73792f2c3a",
   "outputs": [],
   "execution_count": 6
  },
  {
   "metadata": {
    "ExecuteTime": {
     "end_time": "2025-05-25T16:06:39.941871Z",
     "start_time": "2025-05-25T16:06:39.939939Z"
    }
   },
   "cell_type": "code",
   "source": [
    "Actinopterygii_taxids = {\n",
    "    \"Otomorpha\": df_Otomorpha.index.tolist(),\n",
    "    \"Euteleosteomorpha\": df_Euteleosteomorpha.index.tolist(),\n",
    "    \"Osteoglossomorpha\": df_Osteoglossomorpha.index.tolist(),\n",
    "    \"Holostei\": df_Holostei.index.tolist(),\n",
    "    \"Cladistia\": df_Cladistia.index.tolist(),\n",
    "}"
   ],
   "id": "7387b5bdc20034ed",
   "outputs": [],
   "execution_count": 7
  },
  {
   "metadata": {
    "ExecuteTime": {
     "end_time": "2025-05-25T16:01:19.078345Z",
     "start_time": "2025-05-25T15:57:22.385089Z"
    }
   },
   "cell_type": "code",
   "source": "# download_all_files_ncbi(df, Actinopterygii_taxids, phylas=list(Actinopterygii_taxids.keys()))",
   "id": "5388555da7a0ceb1",
   "outputs": [
    {
     "name": "stdout",
     "output_type": "stream",
     "text": [
      "Gene, mRNA, protein for Otomorpha/colossoma_macropomum_0 downloaded successfully\n",
      "Gene, mRNA, protein for Otomorpha/danio_rerio_1 downloaded successfully\n",
      "Gene, mRNA, protein for Otomorpha/danio_rerio_2 downloaded successfully\n",
      "Gene, mRNA, protein for Otomorpha/astyanax_mexicanus_3 downloaded successfully\n",
      "Gene, mRNA, protein for Otomorpha/chanos_chanos_4 downloaded successfully\n",
      "Gene, mRNA, protein for Otomorpha/denticeps_clupeoides_5 downloaded successfully\n",
      "Gene, mRNA, protein for Otomorpha/tachysurus_fulvidraco_6 downloaded successfully\n",
      "Gene, mRNA, protein for Otomorpha/electrophorus_electricus_7 downloaded successfully\n",
      "Gene, mRNA, protein for Otomorpha/pangasianodon_hypophthalmus_8 downloaded successfully\n",
      "Gene, mRNA, protein for Otomorpha/carassius_auratus_9 downloaded successfully\n",
      "Gene, mRNA, protein for Otomorpha/pygocentrus_nattereri_10 downloaded successfully\n",
      "Gene, mRNA, protein for Otomorpha/ictalurus_punctatus_11 downloaded successfully\n",
      "Gene, mRNA, protein for Otomorpha/sinocyclocheilus_rhinocerous_12 downloaded successfully\n",
      "Gene, mRNA, protein for Otomorpha/sinocyclocheilus_anshuiensis_13 downloaded successfully\n",
      "Gene, mRNA, protein for Otomorpha/sinocyclocheilus_grahami_14 downloaded successfully\n",
      "Gene, mRNA, protein for Otomorpha/clupea_harengus_15 downloaded successfully\n",
      "Gene, mRNA, protein for Otomorpha/puntigrus_tetrazona_16 downloaded successfully\n",
      "Gene GenBank for Otomorpha/colossoma_macropomum_0 downloaded successfully\n",
      "Gene GenBank for Otomorpha/danio_rerio_1 downloaded successfully\n",
      "Gene GenBank for Otomorpha/danio_rerio_2 downloaded successfully\n",
      "Gene GenBank for Otomorpha/astyanax_mexicanus_3 downloaded successfully\n",
      "Gene GenBank for Otomorpha/chanos_chanos_4 downloaded successfully\n",
      "Gene GenBank for Otomorpha/denticeps_clupeoides_5 downloaded successfully\n",
      "Gene GenBank for Otomorpha/tachysurus_fulvidraco_6 downloaded successfully\n",
      "Gene GenBank for Otomorpha/electrophorus_electricus_7 downloaded successfully\n",
      "Gene GenBank for Otomorpha/pangasianodon_hypophthalmus_8 downloaded successfully\n",
      "Gene GenBank for Otomorpha/carassius_auratus_9 downloaded successfully\n",
      "Gene GenBank for Otomorpha/pygocentrus_nattereri_10 downloaded successfully\n",
      "Gene GenBank for Otomorpha/ictalurus_punctatus_11 downloaded successfully\n",
      "Gene GenBank for Otomorpha/sinocyclocheilus_rhinocerous_12 downloaded successfully\n",
      "Gene GenBank for Otomorpha/sinocyclocheilus_anshuiensis_13 downloaded successfully\n",
      "Gene GenBank for Otomorpha/sinocyclocheilus_grahami_14 downloaded successfully\n",
      "Gene GenBank for Otomorpha/clupea_harengus_15 downloaded successfully\n",
      "Gene GenBank for Otomorpha/puntigrus_tetrazona_16 downloaded successfully\n",
      "Exons for Otomorpha/colossoma_macropomum_0 created successfully\n",
      "Exons for Otomorpha/danio_rerio_1 created successfully\n",
      "Exons for Otomorpha/danio_rerio_2 created successfully\n",
      "Exons for Otomorpha/astyanax_mexicanus_3 created successfully\n",
      "Exons for Otomorpha/chanos_chanos_4 created successfully\n",
      "Exons for Otomorpha/denticeps_clupeoides_5 created successfully\n",
      "Exons for Otomorpha/tachysurus_fulvidraco_6 created successfully\n",
      "Exons for Otomorpha/electrophorus_electricus_7 created successfully\n",
      "Exons for Otomorpha/pangasianodon_hypophthalmus_8 created successfully\n",
      "Exons for Otomorpha/carassius_auratus_9 created successfully\n",
      "Exons for Otomorpha/pygocentrus_nattereri_10 created successfully\n",
      "Exons for Otomorpha/ictalurus_punctatus_11 created successfully\n",
      "Exons for Otomorpha/sinocyclocheilus_rhinocerous_12 created successfully\n",
      "Exons for Otomorpha/sinocyclocheilus_anshuiensis_13 created successfully\n",
      "Exons for Otomorpha/sinocyclocheilus_grahami_14 created successfully\n",
      "Exons for Otomorpha/clupea_harengus_15 created successfully\n",
      "Exons for Otomorpha/puntigrus_tetrazona_16 created successfully\n",
      "\n",
      "Gene, mRNA, protein for Euteleosteomorpha/salmo_salar_0 downloaded successfully\n",
      "Gene, mRNA, protein for Euteleosteomorpha/parambassis_ranga_1 downloaded successfully\n",
      "Gene, mRNA, protein for Euteleosteomorpha/poecilia_latipinna_2 downloaded successfully\n",
      "Gene, mRNA, protein for Euteleosteomorpha/poecilia_mexicana_3 downloaded successfully\n",
      "Gene, mRNA, protein for Euteleosteomorpha/lates_calcarifer_4 downloaded successfully\n",
      "Gene, mRNA, protein for Euteleosteomorpha/oryzias_melastigma_5 downloaded successfully\n",
      "Gene, mRNA, protein for Euteleosteomorpha/seriola_dumerili_6 downloaded successfully\n",
      "Gene, mRNA, protein for Euteleosteomorpha/nothobranchius_furzeri_7 downloaded successfully\n",
      "Gene, mRNA, protein for Euteleosteomorpha/gadus_morhua_8 downloaded successfully\n",
      "Gene, mRNA, protein for Euteleosteomorpha/oryzias_latipes_9 downloaded successfully\n",
      "Gene, mRNA, protein for Euteleosteomorpha/xiphophorus_hellerii_10 downloaded successfully\n",
      "Gene, mRNA, protein for Euteleosteomorpha/etheostoma_spectabile_11 downloaded successfully\n",
      "Gene, mRNA, protein for Euteleosteomorpha/anarrhichthys_ocellatus_12 downloaded successfully\n",
      "Gene, mRNA, protein for Euteleosteomorpha/oreochromis_aureus_13 downloaded successfully\n",
      "Gene, mRNA, protein for Euteleosteomorpha/sander_lucioperca_14 downloaded successfully\n",
      "Gene, mRNA, protein for Euteleosteomorpha/archocentrus_centrarchus_15 downloaded successfully\n",
      "Gene, mRNA, protein for Euteleosteomorpha/sparus_aurata_16 downloaded successfully\n",
      "Gene, mRNA, protein for Euteleosteomorpha/sphaeramia_orbicularis_17 downloaded successfully\n",
      "Gene, mRNA, protein for Euteleosteomorpha/salarias_fasciatus_18 downloaded successfully\n",
      "Gene, mRNA, protein for Euteleosteomorpha/myripristis_murdjan_19 downloaded successfully\n",
      "Gene, mRNA, protein for Euteleosteomorpha/echeneis_naucrates_20 downloaded successfully\n",
      "Gene, mRNA, protein for Euteleosteomorpha/cottoperca_gobio_21 downloaded successfully\n",
      "Gene, mRNA, protein for Euteleosteomorpha/betta_splendens_22 downloaded successfully\n",
      "Gene, mRNA, protein for Euteleosteomorpha/perca_flavescens_23 downloaded successfully\n",
      "Gene, mRNA, protein for Euteleosteomorpha/gouania_willdenowi_24 downloaded successfully\n",
      "Gene, mRNA, protein for Euteleosteomorpha/gouania_willdenowi_25 downloaded successfully\n",
      "Gene, mRNA, protein for Euteleosteomorpha/gouania_willdenowi_26 downloaded successfully\n",
      "Gene, mRNA, protein for Euteleosteomorpha/gouania_willdenowi_27 downloaded successfully\n",
      "Gene, mRNA, protein for Euteleosteomorpha/xiphophorus_couchianus_28 downloaded successfully\n",
      "Gene, mRNA, protein for Euteleosteomorpha/anabas_testudineus_29 downloaded successfully\n",
      "Gene, mRNA, protein for Euteleosteomorpha/mastacembelus_armatus_30 downloaded successfully\n",
      "Gene, mRNA, protein for Euteleosteomorpha/astatotilapia_calliptera_31 downloaded successfully\n",
      "Gene, mRNA, protein for Euteleosteomorpha/seriola_lalandi_dorsalis_32 downloaded successfully\n",
      "Gene, mRNA, protein for Euteleosteomorpha/amphiprion_ocellaris_33 downloaded successfully\n",
      "Gene, mRNA, protein for Euteleosteomorpha/acanthochromis_polyacanthus_34 downloaded successfully\n",
      "Gene, mRNA, protein for Euteleosteomorpha/boleophthalmus_pectinirostris_35 downloaded successfully\n",
      "Gene, mRNA, protein for Euteleosteomorpha/labrus_bergylta_36 downloaded successfully\n",
      "Gene, mRNA, protein for Euteleosteomorpha/monopterus_albus_37 downloaded successfully\n",
      "Gene, mRNA, protein for Euteleosteomorpha/paralichthys_olivaceus_38 downloaded successfully\n",
      "Gene, mRNA, protein for Euteleosteomorpha/hippocampus_comes_39 downloaded successfully\n",
      "Gene, mRNA, protein for Euteleosteomorpha/kryptolebias_marmoratus_40 downloaded successfully\n",
      "Gene, mRNA, protein for Euteleosteomorpha/cyprinodon_variegatus_41 downloaded successfully\n",
      "Gene, mRNA, protein for Euteleosteomorpha/austrofundulus_limnaeus_42 downloaded successfully\n",
      "Gene, mRNA, protein for Euteleosteomorpha/fundulus_heteroclitus_43 downloaded successfully\n",
      "Gene, mRNA, protein for Euteleosteomorpha/esox_lucius_44 downloaded successfully\n",
      "Gene, mRNA, protein for Euteleosteomorpha/notothenia_coriiceps_45 downloaded successfully\n",
      "Gene, mRNA, protein for Euteleosteomorpha/larimichthys_crocea_46 downloaded successfully\n",
      "Gene, mRNA, protein for Euteleosteomorpha/poecilia_reticulata_47 downloaded successfully\n",
      "Gene, mRNA, protein for Euteleosteomorpha/cynoglossus_semilaevis_48 downloaded successfully\n",
      "Gene, mRNA, protein for Euteleosteomorpha/stegastes_partitus_49 downloaded successfully\n",
      "Gene, mRNA, protein for Euteleosteomorpha/poecilia_formosa_50 downloaded successfully\n",
      "Gene, mRNA, protein for Euteleosteomorpha/haplochromis_burtoni_51 downloaded successfully\n",
      "Gene, mRNA, protein for Euteleosteomorpha/xiphophorus_maculatus_52 downloaded successfully\n",
      "Gene, mRNA, protein for Euteleosteomorpha/pundamilia_nyererei_53 downloaded successfully\n",
      "Gene, mRNA, protein for Euteleosteomorpha/maylandia_zebra_54 downloaded successfully\n",
      "Gene, mRNA, protein for Euteleosteomorpha/takifugu_rubripes_55 downloaded successfully\n",
      "Gene, mRNA, protein for Euteleosteomorpha/oreochromis_niloticus_56 downloaded successfully\n",
      "Gene GenBank for Euteleosteomorpha/salmo_salar_0 downloaded successfully\n",
      "Gene GenBank for Euteleosteomorpha/parambassis_ranga_1 downloaded successfully\n",
      "Gene GenBank for Euteleosteomorpha/poecilia_latipinna_2 downloaded successfully\n",
      "Gene GenBank for Euteleosteomorpha/poecilia_mexicana_3 downloaded successfully\n",
      "Gene GenBank for Euteleosteomorpha/lates_calcarifer_4 downloaded successfully\n",
      "Gene GenBank for Euteleosteomorpha/oryzias_melastigma_5 downloaded successfully\n",
      "Gene GenBank for Euteleosteomorpha/seriola_dumerili_6 downloaded successfully\n",
      "Gene GenBank for Euteleosteomorpha/nothobranchius_furzeri_7 downloaded successfully\n",
      "Gene GenBank for Euteleosteomorpha/gadus_morhua_8 downloaded successfully\n",
      "Gene GenBank for Euteleosteomorpha/oryzias_latipes_9 downloaded successfully\n",
      "Gene GenBank for Euteleosteomorpha/xiphophorus_hellerii_10 downloaded successfully\n",
      "Gene GenBank for Euteleosteomorpha/etheostoma_spectabile_11 downloaded successfully\n",
      "Gene GenBank for Euteleosteomorpha/anarrhichthys_ocellatus_12 downloaded successfully\n",
      "Gene GenBank for Euteleosteomorpha/oreochromis_aureus_13 downloaded successfully\n",
      "Gene GenBank for Euteleosteomorpha/sander_lucioperca_14 downloaded successfully\n",
      "Gene GenBank for Euteleosteomorpha/archocentrus_centrarchus_15 downloaded successfully\n",
      "Gene GenBank for Euteleosteomorpha/sparus_aurata_16 downloaded successfully\n",
      "Gene GenBank for Euteleosteomorpha/sphaeramia_orbicularis_17 downloaded successfully\n",
      "Gene GenBank for Euteleosteomorpha/salarias_fasciatus_18 downloaded successfully\n",
      "Gene GenBank for Euteleosteomorpha/myripristis_murdjan_19 downloaded successfully\n",
      "Gene GenBank for Euteleosteomorpha/echeneis_naucrates_20 downloaded successfully\n",
      "Gene GenBank for Euteleosteomorpha/cottoperca_gobio_21 downloaded successfully\n",
      "Gene GenBank for Euteleosteomorpha/betta_splendens_22 downloaded successfully\n",
      "Gene GenBank for Euteleosteomorpha/perca_flavescens_23 downloaded successfully\n",
      "Gene GenBank for Euteleosteomorpha/gouania_willdenowi_24 downloaded successfully\n",
      "Gene GenBank for Euteleosteomorpha/gouania_willdenowi_25 downloaded successfully\n",
      "Gene GenBank for Euteleosteomorpha/gouania_willdenowi_26 downloaded successfully\n",
      "Gene GenBank for Euteleosteomorpha/gouania_willdenowi_27 downloaded successfully\n",
      "Gene GenBank for Euteleosteomorpha/xiphophorus_couchianus_28 downloaded successfully\n",
      "Gene GenBank for Euteleosteomorpha/anabas_testudineus_29 downloaded successfully\n",
      "Gene GenBank for Euteleosteomorpha/mastacembelus_armatus_30 downloaded successfully\n",
      "Gene GenBank for Euteleosteomorpha/astatotilapia_calliptera_31 downloaded successfully\n",
      "Gene GenBank for Euteleosteomorpha/seriola_lalandi_dorsalis_32 downloaded successfully\n",
      "Gene GenBank for Euteleosteomorpha/amphiprion_ocellaris_33 downloaded successfully\n",
      "Gene GenBank for Euteleosteomorpha/acanthochromis_polyacanthus_34 downloaded successfully\n",
      "Gene GenBank for Euteleosteomorpha/boleophthalmus_pectinirostris_35 downloaded successfully\n",
      "Gene GenBank for Euteleosteomorpha/labrus_bergylta_36 downloaded successfully\n",
      "Gene GenBank for Euteleosteomorpha/monopterus_albus_37 downloaded successfully\n",
      "Gene GenBank for Euteleosteomorpha/paralichthys_olivaceus_38 downloaded successfully\n",
      "Gene GenBank for Euteleosteomorpha/hippocampus_comes_39 downloaded successfully\n",
      "Gene GenBank for Euteleosteomorpha/kryptolebias_marmoratus_40 downloaded successfully\n",
      "Gene GenBank for Euteleosteomorpha/cyprinodon_variegatus_41 downloaded successfully\n",
      "Gene GenBank for Euteleosteomorpha/austrofundulus_limnaeus_42 downloaded successfully\n",
      "Gene GenBank for Euteleosteomorpha/fundulus_heteroclitus_43 downloaded successfully\n",
      "Gene GenBank for Euteleosteomorpha/esox_lucius_44 downloaded successfully\n",
      "Gene GenBank for Euteleosteomorpha/notothenia_coriiceps_45 downloaded successfully\n",
      "Gene GenBank for Euteleosteomorpha/larimichthys_crocea_46 downloaded successfully\n",
      "Gene GenBank for Euteleosteomorpha/poecilia_reticulata_47 downloaded successfully\n",
      "Gene GenBank for Euteleosteomorpha/cynoglossus_semilaevis_48 downloaded successfully\n",
      "Gene GenBank for Euteleosteomorpha/stegastes_partitus_49 downloaded successfully\n",
      "Gene GenBank for Euteleosteomorpha/poecilia_formosa_50 downloaded successfully\n",
      "Gene GenBank for Euteleosteomorpha/haplochromis_burtoni_51 downloaded successfully\n",
      "Gene GenBank for Euteleosteomorpha/xiphophorus_maculatus_52 downloaded successfully\n",
      "Gene GenBank for Euteleosteomorpha/pundamilia_nyererei_53 downloaded successfully\n",
      "Gene GenBank for Euteleosteomorpha/maylandia_zebra_54 downloaded successfully\n",
      "Gene GenBank for Euteleosteomorpha/takifugu_rubripes_55 downloaded successfully\n",
      "Gene GenBank for Euteleosteomorpha/oreochromis_niloticus_56 downloaded successfully\n",
      "Exons for Euteleosteomorpha/salmo_salar_0 created successfully\n",
      "Exons for Euteleosteomorpha/parambassis_ranga_1 created successfully\n",
      "Exons for Euteleosteomorpha/poecilia_latipinna_2 created successfully\n",
      "Exons for Euteleosteomorpha/poecilia_mexicana_3 created successfully\n",
      "Exons for Euteleosteomorpha/lates_calcarifer_4 created successfully\n",
      "Exons for Euteleosteomorpha/oryzias_melastigma_5 created successfully\n",
      "Exons for Euteleosteomorpha/seriola_dumerili_6 created successfully\n",
      "Exons for Euteleosteomorpha/nothobranchius_furzeri_7 created successfully\n",
      "Exons for Euteleosteomorpha/gadus_morhua_8 created successfully\n",
      "Exons for Euteleosteomorpha/oryzias_latipes_9 created successfully\n",
      "Exons for Euteleosteomorpha/xiphophorus_hellerii_10 created successfully\n",
      "Exons for Euteleosteomorpha/etheostoma_spectabile_11 created successfully\n",
      "Exons for Euteleosteomorpha/anarrhichthys_ocellatus_12 created successfully\n",
      "Exons for Euteleosteomorpha/oreochromis_aureus_13 created successfully\n",
      "Exons for Euteleosteomorpha/sander_lucioperca_14 created successfully\n",
      "Exons for Euteleosteomorpha/archocentrus_centrarchus_15 created successfully\n",
      "Exons for Euteleosteomorpha/sparus_aurata_16 created successfully\n",
      "Exons for Euteleosteomorpha/sphaeramia_orbicularis_17 created successfully\n",
      "Exons for Euteleosteomorpha/salarias_fasciatus_18 created successfully\n",
      "Exons for Euteleosteomorpha/myripristis_murdjan_19 created successfully\n",
      "Exons for Euteleosteomorpha/echeneis_naucrates_20 created successfully\n",
      "Exons for Euteleosteomorpha/cottoperca_gobio_21 created successfully\n",
      "Exons for Euteleosteomorpha/betta_splendens_22 created successfully\n",
      "Exons for Euteleosteomorpha/perca_flavescens_23 created successfully\n",
      "Exons for Euteleosteomorpha/gouania_willdenowi_24 created successfully\n",
      "Exons for Euteleosteomorpha/gouania_willdenowi_25 created successfully\n",
      "Exons for Euteleosteomorpha/gouania_willdenowi_26 created successfully\n",
      "Exons for Euteleosteomorpha/gouania_willdenowi_27 created successfully\n",
      "Exons for Euteleosteomorpha/xiphophorus_couchianus_28 created successfully\n",
      "Exons for Euteleosteomorpha/anabas_testudineus_29 created successfully\n",
      "Exons for Euteleosteomorpha/mastacembelus_armatus_30 created successfully\n",
      "Exons for Euteleosteomorpha/astatotilapia_calliptera_31 created successfully\n",
      "Exons for Euteleosteomorpha/seriola_lalandi_dorsalis_32 created successfully\n",
      "Exons for Euteleosteomorpha/amphiprion_ocellaris_33 created successfully\n",
      "Exons for Euteleosteomorpha/acanthochromis_polyacanthus_34 created successfully\n",
      "Exons for Euteleosteomorpha/boleophthalmus_pectinirostris_35 created successfully\n",
      "Exons for Euteleosteomorpha/labrus_bergylta_36 created successfully\n",
      "Exons for Euteleosteomorpha/monopterus_albus_37 created successfully\n",
      "Exons for Euteleosteomorpha/paralichthys_olivaceus_38 created successfully\n",
      "Exons for Euteleosteomorpha/hippocampus_comes_39 created successfully\n",
      "Exons for Euteleosteomorpha/kryptolebias_marmoratus_40 created successfully\n",
      "Exons for Euteleosteomorpha/cyprinodon_variegatus_41 created successfully\n",
      "Exons for Euteleosteomorpha/austrofundulus_limnaeus_42 created successfully\n",
      "Exons for Euteleosteomorpha/fundulus_heteroclitus_43 created successfully\n",
      "Exons for Euteleosteomorpha/esox_lucius_44 created successfully\n",
      "Exons for Euteleosteomorpha/notothenia_coriiceps_45 created successfully\n",
      "Exons for Euteleosteomorpha/larimichthys_crocea_46 created successfully\n",
      "Exons for Euteleosteomorpha/poecilia_reticulata_47 created successfully\n",
      "Exons for Euteleosteomorpha/cynoglossus_semilaevis_48 created successfully\n",
      "Exons for Euteleosteomorpha/stegastes_partitus_49 created successfully\n",
      "Exons for Euteleosteomorpha/poecilia_formosa_50 created successfully\n",
      "Exons for Euteleosteomorpha/haplochromis_burtoni_51 created successfully\n",
      "Exons for Euteleosteomorpha/xiphophorus_maculatus_52 created successfully\n",
      "Exons for Euteleosteomorpha/pundamilia_nyererei_53 created successfully\n",
      "Exons for Euteleosteomorpha/maylandia_zebra_54 created successfully\n",
      "Exons for Euteleosteomorpha/takifugu_rubripes_55 created successfully\n",
      "Exons for Euteleosteomorpha/oreochromis_niloticus_56 created successfully\n",
      "\n",
      "Gene, mRNA, protein for Osteoglossomorpha/paramormyrops_kingsleyae_0 downloaded successfully\n",
      "Gene, mRNA, protein for Osteoglossomorpha/scleropages_formosus_1 downloaded successfully\n",
      "Gene GenBank for Osteoglossomorpha/paramormyrops_kingsleyae_0 downloaded successfully\n",
      "Gene GenBank for Osteoglossomorpha/scleropages_formosus_1 downloaded successfully\n",
      "Exons for Osteoglossomorpha/paramormyrops_kingsleyae_0 created successfully\n",
      "Exons for Osteoglossomorpha/scleropages_formosus_1 created successfully\n",
      "\n",
      "Gene, mRNA, protein for Holostei/lepisosteus_oculatus_0 downloaded successfully\n",
      "Gene GenBank for Holostei/lepisosteus_oculatus_0 downloaded successfully\n",
      "Exons for Holostei/lepisosteus_oculatus_0 created successfully\n",
      "\n",
      "Gene, mRNA, protein for Cladistia/erpetoichthys_calabaricus_0 downloaded successfully\n",
      "Gene GenBank for Cladistia/erpetoichthys_calabaricus_0 downloaded successfully\n",
      "Exons for Cladistia/erpetoichthys_calabaricus_0 created successfully\n",
      "\n"
     ]
    }
   ],
   "execution_count": 34
  },
  {
   "metadata": {
    "ExecuteTime": {
     "end_time": "2025-05-25T16:06:47.160270Z",
     "start_time": "2025-05-25T16:06:47.156428Z"
    }
   },
   "cell_type": "code",
   "source": "# Actinopterygii_species_to_update = check_transcript_count([\"Otomorpha\", \"Euteleosteomorpha\", \"Osteoglossomorpha\", \"Holostei\", \"Cladistia\"])",
   "id": "6fb2a9fce8c663a7",
   "outputs": [
    {
     "name": "stdout",
     "output_type": "stream",
     "text": [
      "Otomorpha/sinocyclocheilus_rhinocerous_12: 2 transcripts\n",
      "Otomorpha/carassius_auratus_9: 2 transcripts\n",
      "Otomorpha/sinocyclocheilus_grahami_14: 2 transcripts\n",
      "Otomorpha/danio_rerio_2: 2 transcripts\n",
      "Otomorpha/sinocyclocheilus_anshuiensis_13: 2 transcripts\n",
      "Otomorpha/astyanax_mexicanus_3: 2 transcripts\n",
      "Otomorpha/puntigrus_tetrazona_16: 2 transcripts\n",
      "Otomorpha/clupea_harengus_15: 2 transcripts\n",
      "Euteleosteomorpha/poecilia_mexicana_3: 2 transcripts\n",
      "Euteleosteomorpha/xiphophorus_couchianus_28: 2 transcripts\n",
      "Euteleosteomorpha/cottoperca_gobio_21: 3 transcripts\n",
      "Euteleosteomorpha/cyprinodon_variegatus_41: 2 transcripts\n",
      "Euteleosteomorpha/poecilia_reticulata_47: 2 transcripts\n",
      "Euteleosteomorpha/takifugu_rubripes_55: 3 transcripts\n",
      "Euteleosteomorpha/myripristis_murdjan_19: 6 transcripts\n",
      "Euteleosteomorpha/betta_splendens_22: 3 transcripts\n",
      "Euteleosteomorpha/etheostoma_spectabile_11: 8 transcripts\n",
      "Euteleosteomorpha/larimichthys_crocea_46: 4 transcripts\n",
      "Euteleosteomorpha/lates_calcarifer_4: 4 transcripts\n",
      "Euteleosteomorpha/fundulus_heteroclitus_43: 2 transcripts\n",
      "Euteleosteomorpha/sparus_aurata_16: 2 transcripts\n",
      "Euteleosteomorpha/anarrhichthys_ocellatus_12: 3 transcripts\n",
      "Euteleosteomorpha/cynoglossus_semilaevis_48: 7 transcripts\n",
      "Euteleosteomorpha/anabas_testudineus_29: 2 transcripts\n",
      "Euteleosteomorpha/mastacembelus_armatus_30: 3 transcripts\n",
      "Euteleosteomorpha/haplochromis_burtoni_51: 4 transcripts\n",
      "Euteleosteomorpha/nothobranchius_furzeri_7: 2 transcripts\n",
      "Euteleosteomorpha/paralichthys_olivaceus_38: 3 transcripts\n",
      "Euteleosteomorpha/maylandia_zebra_54: 4 transcripts\n",
      "Euteleosteomorpha/labrus_bergylta_36: 3 transcripts\n",
      "Euteleosteomorpha/parambassis_ranga_1: 2 transcripts\n",
      "Euteleosteomorpha/sander_lucioperca_14: 7 transcripts\n",
      "Euteleosteomorpha/oryzias_latipes_9: 3 transcripts\n",
      "Euteleosteomorpha/archocentrus_centrarchus_15: 4 transcripts\n",
      "Euteleosteomorpha/sphaeramia_orbicularis_17: 2 transcripts\n",
      "Euteleosteomorpha/poecilia_latipinna_2: 2 transcripts\n",
      "Euteleosteomorpha/pundamilia_nyererei_53: 5 transcripts\n",
      "Euteleosteomorpha/hippocampus_comes_39: 2 transcripts\n",
      "Euteleosteomorpha/poecilia_formosa_50: 2 transcripts\n",
      "Euteleosteomorpha/oreochromis_niloticus_56: 4 transcripts\n",
      "Euteleosteomorpha/kryptolebias_marmoratus_40: 2 transcripts\n",
      "Euteleosteomorpha/oryzias_melastigma_5: 2 transcripts\n",
      "Euteleosteomorpha/oreochromis_aureus_13: 5 transcripts\n",
      "Euteleosteomorpha/perca_flavescens_23: 6 transcripts\n",
      "Euteleosteomorpha/gadus_morhua_8: 2 transcripts\n",
      "Euteleosteomorpha/astatotilapia_calliptera_31: 4 transcripts\n",
      "Euteleosteomorpha/austrofundulus_limnaeus_42: 2 transcripts\n",
      "Euteleosteomorpha/seriola_lalandi_dorsalis_32: 2 transcripts\n",
      "Osteoglossomorpha/paramormyrops_kingsleyae_0: 5 transcripts\n",
      "Osteoglossomorpha/scleropages_formosus_1: 2 transcripts\n",
      "Holostei/lepisosteus_oculatus_0: 3 transcripts\n",
      "Cladistia/erpetoichthys_calabaricus_0: 2 transcripts\n",
      "\n",
      "Delete other transcripts from cds.fna, protein.faa and rna.fna\n",
      "Also check gene.fna !!!\n"
     ]
    }
   ],
   "execution_count": 8
  },
  {
   "metadata": {
    "ExecuteTime": {
     "end_time": "2025-05-25T16:06:59.515551Z",
     "start_time": "2025-05-25T16:06:59.489519Z"
    }
   },
   "cell_type": "code",
   "source": "# update_data_for_species(Actinopterygii_species_to_update)",
   "id": "5bbd141bf34ae50e",
   "outputs": [],
   "execution_count": 9
  },
  {
   "metadata": {
    "ExecuteTime": {
     "end_time": "2025-05-25T16:07:24.954226Z",
     "start_time": "2025-05-25T16:07:24.951136Z"
    }
   },
   "cell_type": "code",
   "source": [
    "# после апдейта ничего не должно выводиться в этой ячейке\n",
    "Actinopterygii_species_to_update = check_transcript_count([\"Otomorpha\", \"Euteleosteomorpha\", \"Osteoglossomorpha\", \"Holostei\", \"Cladistia\"])"
   ],
   "id": "8c5572fab8978673",
   "outputs": [],
   "execution_count": 10
  },
  {
   "metadata": {
    "ExecuteTime": {
     "end_time": "2025-05-25T16:24:31.704446Z",
     "start_time": "2025-05-25T16:24:31.702389Z"
    }
   },
   "cell_type": "code",
   "source": [
    "def create_many_cassettes(phylum: str, data: dict) -> dict:\n",
    "    introns = {}\n",
    "    for org_name, (df, exons_i) in data.items():\n",
    "        cassette = create_cassette(phylum, org_name, df, exons_i=exons_i)\n",
    "        introns[org_name] = concat_cassette(cassette, \"i\")\n",
    "    return introns"
   ],
   "id": "5fcdbfbb30dbb28d",
   "outputs": [],
   "execution_count": 18
  },
  {
   "metadata": {},
   "cell_type": "markdown",
   "source": "#### Otomorpha",
   "id": "5a1de2a34b863ee"
  },
  {
   "metadata": {
    "ExecuteTime": {
     "end_time": "2025-05-25T16:36:31.336884Z",
     "start_time": "2025-05-25T16:36:31.319752Z"
    }
   },
   "cell_type": "code",
   "source": [
    "# создаем словарь data_Phylum\n",
    "\n",
    "prefix = \"../Datasets\"\n",
    "phylum = \"Otomorpha\"\n",
    "postfix = \"ncbi_dataset/data\"\n",
    "nof = \"exons.fa\"\n",
    "\n",
    "ref_exon_len = [37]\n",
    "found_org_name_i_Otomorpha = {}  # CHANGE\n",
    "\n",
    "for org_name_i in os.listdir(f\"../Datasets/{phylum}\"):\n",
    "    df_exons = analyze_exons(f\"{prefix}/{phylum}/{org_name_i}/{postfix}/{nof}\")\n",
    "    condition = set(ref_exon_len) & set(df_exons.length.tolist())\n",
    "    if condition:\n",
    "        found_org_name_i_Otomorpha[org_name_i] = condition  # CHANGE\n",
    "\n",
    "data = {}\n",
    "\n",
    "for org_name_i in found_org_name_i_Otomorpha:  # CHANGE\n",
    "    df_exons = analyze_exons(f\"{prefix}/{phylum}/{org_name_i}/{postfix}/{nof}\")\n",
    "    exon_37_idx = df_exons[df_exons[\"length\"] == 37].index[0]\n",
    "    exon_110_idx = exon_37_idx - 1\n",
    "    data[f\"{org_name_i}\"] = (df_exons, [exon_110_idx, exon_37_idx])\n",
    "\n",
    "introns = create_many_cassettes(phylum, data)"
   ],
   "id": "66ac0c20efde9183",
   "outputs": [],
   "execution_count": 39
  },
  {
   "metadata": {
    "ExecuteTime": {
     "end_time": "2025-05-25T16:36:33.126696Z",
     "start_time": "2025-05-25T16:36:33.123679Z"
    }
   },
   "cell_type": "code",
   "source": [
    "# создаем выравнивание cds_cassette для Phylum\n",
    "\n",
    "align_type = \"cds_cassette\"\n",
    "\n",
    "org_names_Otomorpha = list(found_org_name_i_Otomorpha.keys())  # CHANGE\n",
    "\n",
    "alignment_dict = dict_align_create(phylum, org_names_Otomorpha, align_type)  # CHANGE\n",
    "alignment_dict_upd = {\n",
    "    \"_\".join(key.split(\"_\")[:-1]).capitalize(): value\n",
    "    for key, value in alignment_dict.items()\n",
    "}\n",
    "\n",
    "os.makedirs(f\"../Alignment/{phylum}\", exist_ok=True)\n",
    "dict_align_to_fasta(alignment_dict_upd, f\"../Alignment/{phylum}/{phylum}_cds_cassette.fa\")\n",
    "dict_align_to_fasta(alignment_dict_upd, f\"../Alignment/{phylum}/{phylum}_cds_cassette.aln\")"
   ],
   "id": "9bb1318b14a460b5",
   "outputs": [],
   "execution_count": 40
  },
  {
   "metadata": {},
   "cell_type": "markdown",
   "source": "#### Euteleosteomorpha",
   "id": "7cd4c3a851a40a05"
  },
  {
   "metadata": {
    "ExecuteTime": {
     "end_time": "2025-05-25T16:37:50.245235Z",
     "start_time": "2025-05-25T16:37:50.200638Z"
    }
   },
   "cell_type": "code",
   "source": [
    "# создаем словарь data_Phylum\n",
    "\n",
    "prefix = \"../Datasets\"\n",
    "phylum = \"Euteleosteomorpha\"\n",
    "postfix = \"ncbi_dataset/data\"\n",
    "nof = \"exons.fa\"\n",
    "\n",
    "ref_exon_len = [37]\n",
    "found_org_name_i_Euteleosteomorpha = {}  # CHANGE\n",
    "\n",
    "for org_name_i in os.listdir(f\"../Datasets/{phylum}\"):\n",
    "    df_exons = analyze_exons(f\"{prefix}/{phylum}/{org_name_i}/{postfix}/{nof}\")\n",
    "    condition = set(ref_exon_len) & set(df_exons.length.tolist())\n",
    "    if condition:\n",
    "        found_org_name_i_Euteleosteomorpha[org_name_i] = condition  # CHANGE\n",
    "\n",
    "data = {}\n",
    "\n",
    "for org_name_i in found_org_name_i_Euteleosteomorpha:  # CHANGE\n",
    "    df_exons = analyze_exons(f\"{prefix}/{phylum}/{org_name_i}/{postfix}/{nof}\")\n",
    "    exon_37_idx = df_exons[df_exons[\"length\"] == 37].index[0]\n",
    "    exon_110_idx = exon_37_idx - 1\n",
    "    data[f\"{org_name_i}\"] = (df_exons, [exon_110_idx, exon_37_idx])\n",
    "\n",
    "introns = create_many_cassettes(phylum, data)"
   ],
   "id": "542f82d7f573ada1",
   "outputs": [],
   "execution_count": 41
  },
  {
   "metadata": {
    "ExecuteTime": {
     "end_time": "2025-05-25T16:37:52.024443Z",
     "start_time": "2025-05-25T16:37:52.020442Z"
    }
   },
   "cell_type": "code",
   "source": [
    "# создаем выравнивание cds_cassette для Phylum\n",
    "\n",
    "align_type = \"cds_cassette\"\n",
    "\n",
    "org_names_Euteleosteomorpha = list(found_org_name_i_Euteleosteomorpha.keys())  # CHANGE\n",
    "\n",
    "alignment_dict = dict_align_create(phylum, org_names_Euteleosteomorpha, align_type)  # CHANGE\n",
    "alignment_dict_upd = {\n",
    "    \"_\".join(key.split(\"_\")[:-1]).capitalize(): value\n",
    "    for key, value in alignment_dict.items()\n",
    "}\n",
    "\n",
    "os.makedirs(f\"../Alignment/{phylum}\", exist_ok=True)\n",
    "dict_align_to_fasta(alignment_dict_upd, f\"../Alignment/{phylum}/{phylum}_cds_cassette.fa\")\n",
    "dict_align_to_fasta(alignment_dict_upd, f\"../Alignment/{phylum}/{phylum}_cds_cassette.aln\")"
   ],
   "id": "c29d69e3ae098ae8",
   "outputs": [],
   "execution_count": 42
  },
  {
   "metadata": {},
   "cell_type": "markdown",
   "source": "#### Osteoglossomorpha",
   "id": "721397f202f902b7"
  },
  {
   "metadata": {
    "ExecuteTime": {
     "end_time": "2025-05-25T16:41:24.690532Z",
     "start_time": "2025-05-25T16:41:24.687651Z"
    }
   },
   "cell_type": "code",
   "source": [
    "# создаем словарь data_Phylum\n",
    "\n",
    "prefix = \"../Datasets\"\n",
    "phylum = \"Osteoglossomorpha\"\n",
    "postfix = \"ncbi_dataset/data\"\n",
    "nof = \"exons.fa\"\n",
    "\n",
    "ref_exon_len = [37]\n",
    "found_org_name_i_Osteoglossomorpha = {}  # CHANGE\n",
    "\n",
    "for org_name_i in os.listdir(f\"../Datasets/{phylum}\"):\n",
    "    df_exons = analyze_exons(f\"{prefix}/{phylum}/{org_name_i}/{postfix}/{nof}\")\n",
    "    condition = set(ref_exon_len) & set(df_exons.length.tolist())\n",
    "    if condition:\n",
    "        found_org_name_i_Osteoglossomorpha[org_name_i] = condition  # CHANGE"
   ],
   "id": "7d9ab599ec5f665a",
   "outputs": [],
   "execution_count": 43
  },
  {
   "metadata": {
    "ExecuteTime": {
     "end_time": "2025-05-25T16:41:25.865925Z",
     "start_time": "2025-05-25T16:41:25.863839Z"
    }
   },
   "cell_type": "code",
   "source": "found_org_name_i_Osteoglossomorpha  # CHANGE",
   "id": "1924146a71c77ebe",
   "outputs": [
    {
     "data": {
      "text/plain": [
       "{'paramormyrops_kingsleyae_0': {37}, 'scleropages_formosus_1': {37}}"
      ]
     },
     "execution_count": 44,
     "metadata": {},
     "output_type": "execute_result"
    }
   ],
   "execution_count": 44
  },
  {
   "metadata": {
    "ExecuteTime": {
     "end_time": "2025-05-25T16:41:27.267450Z",
     "start_time": "2025-05-25T16:41:27.262775Z"
    }
   },
   "cell_type": "code",
   "source": [
    "data = {}\n",
    "\n",
    "for org_name_i in found_org_name_i_Osteoglossomorpha:  # CHANGE\n",
    "    df_exons = analyze_exons(f\"{prefix}/{phylum}/{org_name_i}/{postfix}/{nof}\")\n",
    "    exon_37_idx = df_exons[df_exons[\"length\"] == 37].index[0]\n",
    "    exon_110_idx = exon_37_idx - 1\n",
    "    data[f\"{org_name_i}\"] = (df_exons, [exon_110_idx, exon_37_idx])\n",
    "\n",
    "introns = create_many_cassettes(phylum, data)"
   ],
   "id": "3f8f19b7eca32dd9",
   "outputs": [],
   "execution_count": 45
  },
  {
   "metadata": {},
   "cell_type": "markdown",
   "source": "#### Holostei",
   "id": "afd5c58d3db8f5c5"
  },
  {
   "metadata": {
    "ExecuteTime": {
     "end_time": "2025-05-25T16:41:47.348610Z",
     "start_time": "2025-05-25T16:41:47.346110Z"
    }
   },
   "cell_type": "code",
   "source": [
    "# создаем словарь data_Phylum\n",
    "\n",
    "prefix = \"../Datasets\"\n",
    "phylum = \"Holostei\"\n",
    "postfix = \"ncbi_dataset/data\"\n",
    "nof = \"exons.fa\"\n",
    "\n",
    "ref_exon_len = [37]\n",
    "found_org_name_i_Holostei = {}  # CHANGE\n",
    "\n",
    "for org_name_i in os.listdir(f\"../Datasets/{phylum}\"):\n",
    "    df_exons = analyze_exons(f\"{prefix}/{phylum}/{org_name_i}/{postfix}/{nof}\")\n",
    "    condition = set(ref_exon_len) & set(df_exons.length.tolist())\n",
    "    if condition:\n",
    "        found_org_name_i_Holostei[org_name_i] = condition  # CHANGE"
   ],
   "id": "f675ae07e131320c",
   "outputs": [],
   "execution_count": 46
  },
  {
   "metadata": {
    "ExecuteTime": {
     "end_time": "2025-05-25T16:41:48.397318Z",
     "start_time": "2025-05-25T16:41:48.394744Z"
    }
   },
   "cell_type": "code",
   "source": "found_org_name_i_Holostei  # CHANGE",
   "id": "edfc32ce446b1027",
   "outputs": [
    {
     "data": {
      "text/plain": [
       "{}"
      ]
     },
     "execution_count": 47,
     "metadata": {},
     "output_type": "execute_result"
    }
   ],
   "execution_count": 47
  },
  {
   "metadata": {},
   "cell_type": "markdown",
   "source": "#### Cladistia",
   "id": "3e9619f591a5d507"
  },
  {
   "metadata": {
    "ExecuteTime": {
     "end_time": "2025-05-25T16:42:32.136210Z",
     "start_time": "2025-05-25T16:42:32.133572Z"
    }
   },
   "cell_type": "code",
   "source": [
    "# создаем словарь data_Phylum\n",
    "\n",
    "prefix = \"../Datasets\"\n",
    "phylum = \"Cladistia\"\n",
    "postfix = \"ncbi_dataset/data\"\n",
    "nof = \"exons.fa\"\n",
    "\n",
    "ref_exon_len = [37]\n",
    "found_org_name_i_Cladistia = {}  # CHANGE\n",
    "\n",
    "for org_name_i in os.listdir(f\"../Datasets/{phylum}\"):\n",
    "    df_exons = analyze_exons(f\"{prefix}/{phylum}/{org_name_i}/{postfix}/{nof}\")\n",
    "    condition = set(ref_exon_len) & set(df_exons.length.tolist())\n",
    "    if condition:\n",
    "        found_org_name_i_Cladistia[org_name_i] = condition"
   ],
   "id": "21aaa5ff1d86d13e",
   "outputs": [],
   "execution_count": 50
  },
  {
   "metadata": {
    "ExecuteTime": {
     "end_time": "2025-05-25T16:42:34.158250Z",
     "start_time": "2025-05-25T16:42:34.156069Z"
    }
   },
   "cell_type": "code",
   "source": "found_org_name_i_Cladistia  # CHANGE",
   "id": "7e67de71ac80e87a",
   "outputs": [
    {
     "data": {
      "text/plain": [
       "{'erpetoichthys_calabaricus_0': {37}}"
      ]
     },
     "execution_count": 51,
     "metadata": {},
     "output_type": "execute_result"
    }
   ],
   "execution_count": 51
  },
  {
   "metadata": {
    "ExecuteTime": {
     "end_time": "2025-05-25T16:42:36.145246Z",
     "start_time": "2025-05-25T16:42:36.141667Z"
    }
   },
   "cell_type": "code",
   "source": [
    "data = {}\n",
    "\n",
    "for org_name_i in found_org_name_i_Cladistia:  # CHANGE\n",
    "    df_exons = analyze_exons(f\"{prefix}/{phylum}/{org_name_i}/{postfix}/{nof}\")\n",
    "    exon_37_idx = df_exons[df_exons[\"length\"] == 37].index[0]\n",
    "    exon_110_idx = exon_37_idx - 1\n",
    "    data[f\"{org_name_i}\"] = (df_exons, [exon_110_idx, exon_37_idx])\n",
    "\n",
    "introns = create_many_cassettes(phylum, data)"
   ],
   "id": "d4f3b92fb386077f",
   "outputs": [],
   "execution_count": 52
  },
  {
   "metadata": {},
   "cell_type": "markdown",
   "source": "#### Анализ интрона у всех групп",
   "id": "9c61c72909ca1003"
  },
  {
   "metadata": {
    "ExecuteTime": {
     "end_time": "2025-05-25T16:44:55.888848Z",
     "start_time": "2025-05-25T16:44:55.887059Z"
    }
   },
   "cell_type": "code",
   "source": [
    "prefix = \"../Datasets\"\n",
    "\n",
    "org_names_Otomorpha = found_org_name_i_Otomorpha.keys()\n",
    "org_names_Euteleosteomorpha = found_org_name_i_Euteleosteomorpha.keys()\n",
    "org_names_Osteoglossomorpha = found_org_name_i_Osteoglossomorpha.keys()\n",
    "org_names_Holostei = found_org_name_i_Holostei.keys()  # 0\n",
    "org_names_Cladistia = found_org_name_i_Cladistia.keys()"
   ],
   "id": "9870f0e6b6bacf49",
   "outputs": [],
   "execution_count": 53
  },
  {
   "metadata": {
    "ExecuteTime": {
     "end_time": "2025-05-25T16:45:34.265640Z",
     "start_time": "2025-05-25T16:45:34.263939Z"
    }
   },
   "cell_type": "code",
   "source": [
    "dict_align_info = {\n",
    "    \"Otomorpha\": org_names_Otomorpha,\n",
    "    \"Euteleosteomorpha\": org_names_Euteleosteomorpha,\n",
    "    \"Osteoglossomorpha\": org_names_Osteoglossomorpha,\n",
    "    \"Cladistia\": org_names_Cladistia,\n",
    "}"
   ],
   "id": "acbb096c77aae4be",
   "outputs": [],
   "execution_count": 54
  },
  {
   "metadata": {
    "ExecuteTime": {
     "end_time": "2025-05-25T16:46:27.722534Z",
     "start_time": "2025-05-25T16:46:27.712682Z"
    }
   },
   "cell_type": "code",
   "source": [
    "# здесь везде должно быть True в столбце equal_to_cds\n",
    "\n",
    "Actinopterygii_df_cds, Actinopterygii_dict_align_cds = dict_align_info_analyze(dict_align_info, \"cds\")\n",
    "Actinopterygii_df_cds.equal_to_cds.unique()"
   ],
   "id": "24bdfd5792c8b1cf",
   "outputs": [
    {
     "data": {
      "text/plain": [
       "array([ True])"
      ]
     },
     "execution_count": 56,
     "metadata": {},
     "output_type": "execute_result"
    }
   ],
   "execution_count": 56
  },
  {
   "metadata": {
    "ExecuteTime": {
     "end_time": "2025-05-25T16:47:36.128744Z",
     "start_time": "2025-05-25T16:47:36.118560Z"
    }
   },
   "cell_type": "code",
   "source": [
    "Actinopterygii_df_cds_cassette, Actinopterygii_dict_align_cds_cassette = dict_align_info_analyze(dict_align_info, \"cds_cassette\")\n",
    "Actinopterygii_df_cds_cassette"
   ],
   "id": "823ffd6a786cc782",
   "outputs": [
    {
     "data": {
      "text/plain": [
       "               phylum                         org_name  stop_codon_pos  \\\n",
       "0           Otomorpha           ictalurus_punctatus_11            1104   \n",
       "1           Otomorpha                  chanos_chanos_4            1071   \n",
       "2           Otomorpha  sinocyclocheilus_rhinocerous_12            1215   \n",
       "3           Otomorpha              carassius_auratus_9            1221   \n",
       "4           Otomorpha           denticeps_clupeoides_5            1041   \n",
       "..                ...                              ...             ...   \n",
       "68  Euteleosteomorpha       austrofundulus_limnaeus_42            1167   \n",
       "69  Euteleosteomorpha      seriola_lalandi_dorsalis_32            1185   \n",
       "70  Osteoglossomorpha       paramormyrops_kingsleyae_0            1254   \n",
       "71  Osteoglossomorpha           scleropages_formosus_1            1239   \n",
       "72          Cladistia      erpetoichthys_calabaricus_0            1173   \n",
       "\n",
       "    equal_to_cds  cassette_start  length_to_stop_codon  intron_length  \n",
       "0          False            1058                    46           3166  \n",
       "1          False            1070                     1           3568  \n",
       "2          False            1061                   154           3449  \n",
       "3          False            1073                   148           3854  \n",
       "4          False            1034                     7           2629  \n",
       "..           ...             ...                   ...            ...  \n",
       "68         False            1145                    22           2541  \n",
       "69         False            1163                    22           2481  \n",
       "70         False            1133                   121           2929  \n",
       "71         False            1127                   112           3412  \n",
       "72         False            1118                    55           3662  \n",
       "\n",
       "[73 rows x 7 columns]"
      ],
      "text/html": [
       "<div>\n",
       "<style scoped>\n",
       "    .dataframe tbody tr th:only-of-type {\n",
       "        vertical-align: middle;\n",
       "    }\n",
       "\n",
       "    .dataframe tbody tr th {\n",
       "        vertical-align: top;\n",
       "    }\n",
       "\n",
       "    .dataframe thead th {\n",
       "        text-align: right;\n",
       "    }\n",
       "</style>\n",
       "<table border=\"1\" class=\"dataframe\">\n",
       "  <thead>\n",
       "    <tr style=\"text-align: right;\">\n",
       "      <th></th>\n",
       "      <th>phylum</th>\n",
       "      <th>org_name</th>\n",
       "      <th>stop_codon_pos</th>\n",
       "      <th>equal_to_cds</th>\n",
       "      <th>cassette_start</th>\n",
       "      <th>length_to_stop_codon</th>\n",
       "      <th>intron_length</th>\n",
       "    </tr>\n",
       "  </thead>\n",
       "  <tbody>\n",
       "    <tr>\n",
       "      <th>0</th>\n",
       "      <td>Otomorpha</td>\n",
       "      <td>ictalurus_punctatus_11</td>\n",
       "      <td>1104</td>\n",
       "      <td>False</td>\n",
       "      <td>1058</td>\n",
       "      <td>46</td>\n",
       "      <td>3166</td>\n",
       "    </tr>\n",
       "    <tr>\n",
       "      <th>1</th>\n",
       "      <td>Otomorpha</td>\n",
       "      <td>chanos_chanos_4</td>\n",
       "      <td>1071</td>\n",
       "      <td>False</td>\n",
       "      <td>1070</td>\n",
       "      <td>1</td>\n",
       "      <td>3568</td>\n",
       "    </tr>\n",
       "    <tr>\n",
       "      <th>2</th>\n",
       "      <td>Otomorpha</td>\n",
       "      <td>sinocyclocheilus_rhinocerous_12</td>\n",
       "      <td>1215</td>\n",
       "      <td>False</td>\n",
       "      <td>1061</td>\n",
       "      <td>154</td>\n",
       "      <td>3449</td>\n",
       "    </tr>\n",
       "    <tr>\n",
       "      <th>3</th>\n",
       "      <td>Otomorpha</td>\n",
       "      <td>carassius_auratus_9</td>\n",
       "      <td>1221</td>\n",
       "      <td>False</td>\n",
       "      <td>1073</td>\n",
       "      <td>148</td>\n",
       "      <td>3854</td>\n",
       "    </tr>\n",
       "    <tr>\n",
       "      <th>4</th>\n",
       "      <td>Otomorpha</td>\n",
       "      <td>denticeps_clupeoides_5</td>\n",
       "      <td>1041</td>\n",
       "      <td>False</td>\n",
       "      <td>1034</td>\n",
       "      <td>7</td>\n",
       "      <td>2629</td>\n",
       "    </tr>\n",
       "    <tr>\n",
       "      <th>...</th>\n",
       "      <td>...</td>\n",
       "      <td>...</td>\n",
       "      <td>...</td>\n",
       "      <td>...</td>\n",
       "      <td>...</td>\n",
       "      <td>...</td>\n",
       "      <td>...</td>\n",
       "    </tr>\n",
       "    <tr>\n",
       "      <th>68</th>\n",
       "      <td>Euteleosteomorpha</td>\n",
       "      <td>austrofundulus_limnaeus_42</td>\n",
       "      <td>1167</td>\n",
       "      <td>False</td>\n",
       "      <td>1145</td>\n",
       "      <td>22</td>\n",
       "      <td>2541</td>\n",
       "    </tr>\n",
       "    <tr>\n",
       "      <th>69</th>\n",
       "      <td>Euteleosteomorpha</td>\n",
       "      <td>seriola_lalandi_dorsalis_32</td>\n",
       "      <td>1185</td>\n",
       "      <td>False</td>\n",
       "      <td>1163</td>\n",
       "      <td>22</td>\n",
       "      <td>2481</td>\n",
       "    </tr>\n",
       "    <tr>\n",
       "      <th>70</th>\n",
       "      <td>Osteoglossomorpha</td>\n",
       "      <td>paramormyrops_kingsleyae_0</td>\n",
       "      <td>1254</td>\n",
       "      <td>False</td>\n",
       "      <td>1133</td>\n",
       "      <td>121</td>\n",
       "      <td>2929</td>\n",
       "    </tr>\n",
       "    <tr>\n",
       "      <th>71</th>\n",
       "      <td>Osteoglossomorpha</td>\n",
       "      <td>scleropages_formosus_1</td>\n",
       "      <td>1239</td>\n",
       "      <td>False</td>\n",
       "      <td>1127</td>\n",
       "      <td>112</td>\n",
       "      <td>3412</td>\n",
       "    </tr>\n",
       "    <tr>\n",
       "      <th>72</th>\n",
       "      <td>Cladistia</td>\n",
       "      <td>erpetoichthys_calabaricus_0</td>\n",
       "      <td>1173</td>\n",
       "      <td>False</td>\n",
       "      <td>1118</td>\n",
       "      <td>55</td>\n",
       "      <td>3662</td>\n",
       "    </tr>\n",
       "  </tbody>\n",
       "</table>\n",
       "<p>73 rows × 7 columns</p>\n",
       "</div>"
      ]
     },
     "execution_count": 57,
     "metadata": {},
     "output_type": "execute_result"
    }
   ],
   "execution_count": 57
  },
  {
   "metadata": {
    "ExecuteTime": {
     "end_time": "2025-05-25T16:52:14.727536Z",
     "start_time": "2025-05-25T16:52:14.724878Z"
    }
   },
   "cell_type": "code",
   "source": [
    "# dict_align_to_fasta_upd(Actinopterygii_dict_align_cds_cassette, \"../Alignment/Actinopterygii_cds_cassette.fa\")\n",
    "# dict_align_to_fasta_upd(Actinopterygii_dict_align_cds_cassette, \"../Alignment/Actinopterygii_cds_cassette.aln\")"
   ],
   "id": "d9583595d6265634",
   "outputs": [],
   "execution_count": 58
  },
  {
   "metadata": {
    "ExecuteTime": {
     "end_time": "2025-05-25T17:05:58.254011Z",
     "start_time": "2025-05-25T17:05:58.152048Z"
    }
   },
   "cell_type": "code",
   "source": [
    "import seaborn as sns\n",
    "import matplotlib.pyplot as plt\n",
    "import pandas as pd\n",
    "\n",
    "# Подсчёт количества значений по каждой филе\n",
    "counts = Actinopterygii_df_cds_cassette['phylum'].value_counts()\n",
    "ordered_phyla = Actinopterygii_df_cds_cassette['phylum'].unique()\n",
    "group_labels = [f\"{ph} (n={counts[ph]})\" for ph in ordered_phyla]\n",
    "\n",
    "# Создание графика\n",
    "plt.figure(figsize=(10, 6))\n",
    "ax = sns.boxplot(\n",
    "    data=Actinopterygii_df_cds_cassette,\n",
    "    x=\"phylum\",\n",
    "    y=\"length_to_stop_codon\",\n",
    "    hue=\"phylum\",\n",
    "    palette=\"Set2\",\n",
    "    dodge=False\n",
    ")\n",
    "\n",
    "# Удаление легенды, если она есть\n",
    "if ax.legend_ is not None:\n",
    "    ax.legend_.remove()\n",
    "\n",
    "# Установка тиков и подписей оси X\n",
    "ax.set_xticks(range(len(ordered_phyla)))\n",
    "ax.set_xticklabels(group_labels, rotation=30)\n",
    "\n",
    "# Расчёт и добавление подписей медиан\n",
    "medians = (\n",
    "    Actinopterygii_df_cds_cassette\n",
    "    .groupby(\"phylum\")[\"length_to_stop_codon\"]\n",
    "    .median()\n",
    ")\n",
    "\n",
    "for x, ph in enumerate(ordered_phyla):\n",
    "    median_val = medians[ph]\n",
    "\n",
    "    # Сколько раз медиана встречается в данных этой филы\n",
    "    n_matches = (\n",
    "        Actinopterygii_df_cds_cassette\n",
    "        .query(\"phylum == @ph\")[\"length_to_stop_codon\"]\n",
    "        .eq(median_val)\n",
    "        .sum()\n",
    "    )\n",
    "\n",
    "    ax.text(\n",
    "        x=x + 0.1,  # сдвиг подписи правее\n",
    "        y=median_val + 5,\n",
    "        s=f\"{int(median_val)} (n={n_matches})\",\n",
    "        ha='left',\n",
    "        va='bottom',\n",
    "        fontsize=9,\n",
    "        fontweight='bold',\n",
    "        color='black'\n",
    "    )\n",
    "\n",
    "# Оформление\n",
    "plt.title(\"Распределение длины до стоп-кодона по типам (Phylum)\")\n",
    "plt.xlabel(\"Phylum\")\n",
    "plt.ylabel(\"Length to stop codon\")\n",
    "plt.tight_layout()\n",
    "plt.show()"
   ],
   "id": "161878b34919702c",
   "outputs": [
    {
     "data": {
      "text/plain": [
       "<Figure size 1000x600 with 1 Axes>"
      ],
      "image/png": "[encoded data removed]"
     },
     "metadata": {},
     "output_type": "display_data"
    }
   ],
   "execution_count": 70
  },
  {
   "metadata": {
    "ExecuteTime": {
     "end_time": "2025-05-25T17:14:56.674377Z",
     "start_time": "2025-05-25T17:14:56.670062Z"
    }
   },
   "cell_type": "code",
   "source": [
    "dict_align_info = {\n",
    "    \"Otomorpha\": org_names_Otomorpha,\n",
    "    \"Euteleosteomorpha\": org_names_Euteleosteomorpha,\n",
    "    \"Osteoglossomorpha\": org_names_Osteoglossomorpha,\n",
    "    \"Cladistia\": org_names_Cladistia,\n",
    "}\n",
    "\n",
    "exon_1_lengths = []\n",
    "for phylum, org_names in dict_align_info.items():\n",
    "    for org_name in org_names:\n",
    "        cassette = read_fasta(f\"../Datasets/{phylum}/{org_name}/ncbi_dataset/data/cassette.fa\")\n",
    "        for header, seq in cassette.items():\n",
    "            print(f\"{phylum}-{org_name}: {len(seq)}\")\n",
    "            exon_1_lengths.append(len(seq))\n",
    "            break"
   ],
   "id": "b3c3d49019277dbb",
   "outputs": [
    {
     "name": "stdout",
     "output_type": "stream",
     "text": [
      "Otomorpha-ictalurus_punctatus_11: 110\n",
      "Otomorpha-chanos_chanos_4: 110\n",
      "Otomorpha-sinocyclocheilus_rhinocerous_12: 110\n",
      "Otomorpha-carassius_auratus_9: 110\n",
      "Otomorpha-denticeps_clupeoides_5: 110\n",
      "Otomorpha-pygocentrus_nattereri_10: 110\n",
      "Otomorpha-danio_rerio_1: 110\n",
      "Otomorpha-pangasianodon_hypophthalmus_8: 110\n",
      "Otomorpha-sinocyclocheilus_grahami_14: 110\n",
      "Otomorpha-danio_rerio_2: 110\n",
      "Otomorpha-electrophorus_electricus_7: 110\n",
      "Otomorpha-tachysurus_fulvidraco_6: 110\n",
      "Otomorpha-sinocyclocheilus_anshuiensis_13: 110\n",
      "Otomorpha-astyanax_mexicanus_3: 110\n",
      "Otomorpha-colossoma_macropomum_0: 110\n",
      "Otomorpha-puntigrus_tetrazona_16: 110\n",
      "Otomorpha-clupea_harengus_15: 110\n",
      "Euteleosteomorpha-salarias_fasciatus_18: 110\n",
      "Euteleosteomorpha-poecilia_mexicana_3: 110\n",
      "Euteleosteomorpha-xiphophorus_couchianus_28: 110\n",
      "Euteleosteomorpha-cottoperca_gobio_21: 110\n",
      "Euteleosteomorpha-cyprinodon_variegatus_41: 110\n",
      "Euteleosteomorpha-gouania_willdenowi_24: 110\n",
      "Euteleosteomorpha-poecilia_reticulata_47: 110\n",
      "Euteleosteomorpha-takifugu_rubripes_55: 110\n",
      "Euteleosteomorpha-notothenia_coriiceps_45: 110\n",
      "Euteleosteomorpha-myripristis_murdjan_19: 110\n",
      "Euteleosteomorpha-betta_splendens_22: 110\n",
      "Euteleosteomorpha-etheostoma_spectabile_11: 110\n",
      "Euteleosteomorpha-salmo_salar_0: 110\n",
      "Euteleosteomorpha-larimichthys_crocea_46: 110\n",
      "Euteleosteomorpha-lates_calcarifer_4: 110\n",
      "Euteleosteomorpha-stegastes_partitus_49: 110\n",
      "Euteleosteomorpha-fundulus_heteroclitus_43: 110\n",
      "Euteleosteomorpha-sparus_aurata_16: 110\n",
      "Euteleosteomorpha-anarrhichthys_ocellatus_12: 110\n",
      "Euteleosteomorpha-boleophthalmus_pectinirostris_35: 110\n",
      "Euteleosteomorpha-xiphophorus_maculatus_52: 110\n",
      "Euteleosteomorpha-anabas_testudineus_29: 110\n",
      "Euteleosteomorpha-mastacembelus_armatus_30: 110\n",
      "Euteleosteomorpha-acanthochromis_polyacanthus_34: 110\n",
      "Euteleosteomorpha-haplochromis_burtoni_51: 110\n",
      "Euteleosteomorpha-nothobranchius_furzeri_7: 110\n",
      "Euteleosteomorpha-paralichthys_olivaceus_38: 110\n",
      "Euteleosteomorpha-maylandia_zebra_54: 110\n",
      "Euteleosteomorpha-labrus_bergylta_36: 110\n",
      "Euteleosteomorpha-parambassis_ranga_1: 110\n",
      "Euteleosteomorpha-sander_lucioperca_14: 110\n",
      "Euteleosteomorpha-oryzias_latipes_9: 110\n",
      "Euteleosteomorpha-archocentrus_centrarchus_15: 110\n",
      "Euteleosteomorpha-esox_lucius_44: 110\n",
      "Euteleosteomorpha-monopterus_albus_37: 110\n",
      "Euteleosteomorpha-echeneis_naucrates_20: 110\n",
      "Euteleosteomorpha-sphaeramia_orbicularis_17: 110\n",
      "Euteleosteomorpha-xiphophorus_hellerii_10: 110\n",
      "Euteleosteomorpha-poecilia_latipinna_2: 110\n",
      "Euteleosteomorpha-pundamilia_nyererei_53: 110\n",
      "Euteleosteomorpha-hippocampus_comes_39: 110\n",
      "Euteleosteomorpha-poecilia_formosa_50: 110\n",
      "Euteleosteomorpha-oreochromis_niloticus_56: 110\n",
      "Euteleosteomorpha-kryptolebias_marmoratus_40: 110\n",
      "Euteleosteomorpha-oryzias_melastigma_5: 110\n",
      "Euteleosteomorpha-amphiprion_ocellaris_33: 110\n",
      "Euteleosteomorpha-seriola_dumerili_6: 110\n",
      "Euteleosteomorpha-oreochromis_aureus_13: 110\n",
      "Euteleosteomorpha-perca_flavescens_23: 110\n",
      "Euteleosteomorpha-gadus_morhua_8: 110\n",
      "Euteleosteomorpha-astatotilapia_calliptera_31: 110\n",
      "Euteleosteomorpha-austrofundulus_limnaeus_42: 110\n",
      "Euteleosteomorpha-seriola_lalandi_dorsalis_32: 110\n",
      "Osteoglossomorpha-paramormyrops_kingsleyae_0: 110\n",
      "Osteoglossomorpha-scleropages_formosus_1: 110\n",
      "Cladistia-erpetoichthys_calabaricus_0: 110\n"
     ]
    }
   ],
   "execution_count": 73
  },
  {
   "metadata": {
    "ExecuteTime": {
     "end_time": "2025-05-25T17:15:18.354024Z",
     "start_time": "2025-05-25T17:15:18.351941Z"
    }
   },
   "cell_type": "code",
   "source": "len(exon_1_lengths)",
   "id": "5dbfa60dbd1c3726",
   "outputs": [
    {
     "data": {
      "text/plain": [
       "73"
      ]
     },
     "execution_count": 77,
     "metadata": {},
     "output_type": "execute_result"
    }
   ],
   "execution_count": 77
  },
  {
   "metadata": {},
   "cell_type": "markdown",
   "source": "#### Cephalochordata",
   "id": "66101fc18b66fa55"
  },
  {
   "metadata": {
    "ExecuteTime": {
     "end_time": "2025-05-25T17:53:17.301663Z",
     "start_time": "2025-05-25T17:53:17.299206Z"
    }
   },
   "cell_type": "code",
   "source": "df_Cephalochordata = df_taxonomy[df_taxonomy.taxonomy.str.contains(\"Cephalochordata\")]",
   "id": "5a4aa2683ceeeac",
   "outputs": [],
   "execution_count": 78
  },
  {
   "metadata": {
    "ExecuteTime": {
     "end_time": "2025-05-25T17:53:57.976727Z",
     "start_time": "2025-05-25T17:53:57.974673Z"
    }
   },
   "cell_type": "code",
   "source": [
    "Cephalochordata_taxids = {\n",
    "    \"Cephalochordata\": df_Cephalochordata.index.tolist(),\n",
    "}"
   ],
   "id": "32fd13e2e315cb20",
   "outputs": [],
   "execution_count": 79
  },
  {
   "metadata": {
    "ExecuteTime": {
     "end_time": "2025-05-25T17:54:12.276013Z",
     "start_time": "2025-05-25T17:54:07.746039Z"
    }
   },
   "cell_type": "code",
   "source": "download_all_files_ncbi(df, Cephalochordata_taxids, phylas=list(Cephalochordata_taxids.keys()))",
   "id": "544581a8a92fd593",
   "outputs": [
    {
     "name": "stdout",
     "output_type": "stream",
     "text": [
      "Gene, mRNA, protein for Cephalochordata/branchiostoma_floridae_0 downloaded successfully\n",
      "Gene GenBank for Cephalochordata/branchiostoma_floridae_0 downloaded successfully\n",
      "Exons for Cephalochordata/branchiostoma_floridae_0 created successfully\n",
      "\n"
     ]
    }
   ],
   "execution_count": 80
  },
  {
   "metadata": {
    "ExecuteTime": {
     "end_time": "2025-05-25T17:55:19.239916Z",
     "start_time": "2025-05-25T17:55:19.237899Z"
    }
   },
   "cell_type": "code",
   "source": "Cephalochordata_species_to_update = check_transcript_count([\"Cephalochordata\"])",
   "id": "37ccb0e3ec1251b4",
   "outputs": [],
   "execution_count": 81
  },
  {
   "metadata": {
    "ExecuteTime": {
     "end_time": "2025-05-25T16:06:59.515551Z",
     "start_time": "2025-05-25T16:06:59.489519Z"
    }
   },
   "cell_type": "code",
   "outputs": [],
   "execution_count": 9,
   "source": "# update_data_for_species(Cephalochordata_species_to_update)",
   "id": "29a30af3d30da0e2"
  },
  {
   "metadata": {
    "ExecuteTime": {
     "end_time": "2025-05-25T18:15:49.204821Z",
     "start_time": "2025-05-25T18:15:49.201035Z"
    }
   },
   "cell_type": "code",
   "source": [
    "# создаем словарь data_Phylum\n",
    "\n",
    "prefix = \"../Datasets\"\n",
    "phylum = \"Cephalochordata\"\n",
    "postfix = \"ncbi_dataset/data\"\n",
    "nof = \"exons.fa\"\n",
    "\n",
    "ref_exon_len = [37]\n",
    "found_org_name_i_Cephalochordata = {}  # CHANGE\n",
    "\n",
    "for org_name_i in os.listdir(f\"../Datasets/{phylum}\"):\n",
    "    df_exons = analyze_exons(f\"{prefix}/{phylum}/{org_name_i}/{postfix}/{nof}\")\n",
    "    condition = set(ref_exon_len) & set(df_exons.length.tolist())\n",
    "    if condition:\n",
    "        found_org_name_i_Cephalochordata[org_name_i] = condition  # CHANGE\n",
    "\n",
    "found_org_name_i_Cephalochordata"
   ],
   "id": "3bc2ac125c6cd4fb",
   "outputs": [
    {
     "data": {
      "text/plain": [
       "{'branchiostoma_floridae_0': {37}}"
      ]
     },
     "execution_count": 140,
     "metadata": {},
     "output_type": "execute_result"
    }
   ],
   "execution_count": 140
  },
  {
   "metadata": {
    "ExecuteTime": {
     "end_time": "2025-05-25T17:58:51.363304Z",
     "start_time": "2025-05-25T17:58:51.360147Z"
    }
   },
   "cell_type": "code",
   "source": [
    "data = {}\n",
    "\n",
    "for org_name_i in found_org_name_i_Cephalochordata:  # CHANGE\n",
    "    df_exons = analyze_exons(f\"{prefix}/{phylum}/{org_name_i}/{postfix}/{nof}\")\n",
    "    exon_37_idx = df_exons[df_exons[\"length\"] == 37].index[0]\n",
    "    exon_110_idx = exon_37_idx - 1\n",
    "    data[f\"{org_name_i}\"] = (df_exons, [exon_110_idx, exon_37_idx])\n",
    "\n",
    "introns = create_many_cassettes(phylum, data)"
   ],
   "id": "b215d5fb3e92123f",
   "outputs": [],
   "execution_count": 88
  },
  {
   "metadata": {},
   "cell_type": "markdown",
   "source": "#### Tunicata",
   "id": "bdb00a292897da38"
  },
  {
   "metadata": {
    "ExecuteTime": {
     "end_time": "2025-05-25T18:03:01.625560Z",
     "start_time": "2025-05-25T18:03:01.623072Z"
    }
   },
   "cell_type": "code",
   "source": "df_Tunicata = df_taxonomy[df_taxonomy.taxonomy.str.contains(\"Tunicata\")]",
   "id": "e6c9a94053f9ea85",
   "outputs": [],
   "execution_count": 102
  },
  {
   "metadata": {
    "ExecuteTime": {
     "end_time": "2025-05-25T18:03:02.814261Z",
     "start_time": "2025-05-25T18:03:02.812449Z"
    }
   },
   "cell_type": "code",
   "source": [
    "Tunicata_taxids = {\n",
    "    \"Tunicata\": df_Tunicata.index.tolist(),\n",
    "}"
   ],
   "id": "842a8ac9afa6c73f",
   "outputs": [],
   "execution_count": 103
  },
  {
   "metadata": {
    "ExecuteTime": {
     "end_time": "2025-05-25T18:00:15.601939Z",
     "start_time": "2025-05-25T18:00:11.046537Z"
    }
   },
   "cell_type": "code",
   "source": "download_all_files_ncbi(df, Tunicata_taxids, phylas=list(Tunicata_taxids.keys()))",
   "id": "91ed46ed62792626",
   "outputs": [
    {
     "name": "stdout",
     "output_type": "stream",
     "text": [
      "Gene, mRNA, protein for Tunicata/styela_clava_0 downloaded successfully\n",
      "Gene GenBank for Tunicata/styela_clava_0 downloaded successfully\n",
      "Exons for Tunicata/styela_clava_0 created successfully\n",
      "\n"
     ]
    }
   ],
   "execution_count": 91
  },
  {
   "metadata": {
    "ExecuteTime": {
     "end_time": "2025-05-25T18:03:05.129632Z",
     "start_time": "2025-05-25T18:03:05.127793Z"
    }
   },
   "cell_type": "code",
   "source": "Tunicata_species_to_update = check_transcript_count([\"Tunicata\"])",
   "id": "c8c7234027349ec0",
   "outputs": [],
   "execution_count": 104
  },
  {
   "metadata": {
    "ExecuteTime": {
     "end_time": "2025-05-25T16:06:59.515551Z",
     "start_time": "2025-05-25T16:06:59.489519Z"
    }
   },
   "cell_type": "code",
   "outputs": [],
   "execution_count": 9,
   "source": "# update_data_for_species(Tunicata_species_to_update)",
   "id": "d617e9e85338a9b2"
  },
  {
   "metadata": {
    "ExecuteTime": {
     "end_time": "2025-05-25T18:03:09.731442Z",
     "start_time": "2025-05-25T18:03:09.728195Z"
    }
   },
   "cell_type": "code",
   "source": [
    "# создаем словарь data_Phylum\n",
    "\n",
    "prefix = \"../Datasets\"\n",
    "phylum = \"Tunicata\"\n",
    "postfix = \"ncbi_dataset/data\"\n",
    "nof = \"exons.fa\"\n",
    "\n",
    "ref_exon_len = [37]\n",
    "found_org_name_i_Tunicata = {}  # CHANGE\n",
    "\n",
    "for org_name_i in os.listdir(f\"../Datasets/{phylum}\"):\n",
    "    df_exons = analyze_exons(f\"{prefix}/{phylum}/{org_name_i}/{postfix}/{nof}\")\n",
    "    condition = set(ref_exon_len) & set(df_exons.length.tolist())\n",
    "    if condition:\n",
    "        found_org_name_i_Tunicata[org_name_i] = condition  # CHANGE\n",
    "\n",
    "found_org_name_i_Tunicata"
   ],
   "id": "cb30664bada0f0fd",
   "outputs": [
    {
     "data": {
      "text/plain": [
       "{'styela_clava_0': {37}}"
      ]
     },
     "execution_count": 105,
     "metadata": {},
     "output_type": "execute_result"
    }
   ],
   "execution_count": 105
  },
  {
   "metadata": {
    "ExecuteTime": {
     "end_time": "2025-05-25T18:03:33.155066Z",
     "start_time": "2025-05-25T18:03:33.151907Z"
    }
   },
   "cell_type": "code",
   "source": [
    "data = {}\n",
    "\n",
    "for org_name_i in found_org_name_i_Tunicata:  # CHANGE\n",
    "    df_exons = analyze_exons(f\"{prefix}/{phylum}/{org_name_i}/{postfix}/{nof}\")\n",
    "    exon_37_idx = df_exons[df_exons[\"length\"] == 37].index[0]\n",
    "    exon_110_idx = exon_37_idx - 1\n",
    "    data[f\"{org_name_i}\"] = (df_exons, [exon_110_idx, exon_37_idx])\n",
    "\n",
    "introns = create_many_cassettes(phylum, data)"
   ],
   "id": "938feea882c69214",
   "outputs": [],
   "execution_count": 106
  },
  {
   "metadata": {},
   "cell_type": "markdown",
   "source": "#### Cyclostomata",
   "id": "ba5ec87918e12e2e"
  },
  {
   "metadata": {
    "ExecuteTime": {
     "end_time": "2025-05-25T18:03:41.441949Z",
     "start_time": "2025-05-25T18:03:41.439287Z"
    }
   },
   "cell_type": "code",
   "source": "df_Cyclostomata = df_taxonomy[df_taxonomy.taxonomy.str.contains(\"Cyclostomata\")]",
   "id": "71a4453b4b2581f1",
   "outputs": [],
   "execution_count": 107
  },
  {
   "metadata": {
    "ExecuteTime": {
     "end_time": "2025-05-25T18:03:42.638208Z",
     "start_time": "2025-05-25T18:03:42.636425Z"
    }
   },
   "cell_type": "code",
   "source": [
    "Cyclostomata_taxids = {\n",
    "    \"Cyclostomata\": df_Cyclostomata.index.tolist(),\n",
    "}"
   ],
   "id": "6cdd8d826079a37d",
   "outputs": [],
   "execution_count": 108
  },
  {
   "metadata": {
    "ExecuteTime": {
     "end_time": "2025-05-25T18:01:50.369802Z",
     "start_time": "2025-05-25T18:01:37.674177Z"
    }
   },
   "cell_type": "code",
   "source": "download_all_files_ncbi(df, Cyclostomata_taxids, phylas=list(Cyclostomata_taxids.keys()))",
   "id": "2861dd3585ad4bff",
   "outputs": [
    {
     "name": "stdout",
     "output_type": "stream",
     "text": [
      "Gene, mRNA, protein for Cyclostomata/myxine_glutinosa_0 downloaded successfully\n",
      "Gene, mRNA, protein for Cyclostomata/lethenteron_reissneri_1 downloaded successfully\n",
      "Gene, mRNA, protein for Cyclostomata/petromyzon_marinus_2 downloaded successfully\n",
      "Gene, mRNA, protein for Cyclostomata/petromyzon_marinus_3 downloaded successfully\n",
      "Gene GenBank for Cyclostomata/myxine_glutinosa_0 downloaded successfully\n",
      "Gene GenBank for Cyclostomata/lethenteron_reissneri_1 downloaded successfully\n",
      "Gene GenBank for Cyclostomata/petromyzon_marinus_2 downloaded successfully\n",
      "Gene GenBank for Cyclostomata/petromyzon_marinus_3 downloaded successfully\n",
      "Exons for Cyclostomata/myxine_glutinosa_0 created successfully\n",
      "Exons for Cyclostomata/lethenteron_reissneri_1 created successfully\n",
      "Exons for Cyclostomata/petromyzon_marinus_2 created successfully\n",
      "Exons for Cyclostomata/petromyzon_marinus_3 created successfully\n",
      "\n"
     ]
    }
   ],
   "execution_count": 96
  },
  {
   "metadata": {
    "ExecuteTime": {
     "end_time": "2025-05-25T18:03:45.037415Z",
     "start_time": "2025-05-25T18:03:45.035594Z"
    }
   },
   "cell_type": "code",
   "source": "Cyclostomata_species_to_update = check_transcript_count([\"Cyclostomata\"])",
   "id": "78f13acf167f986d",
   "outputs": [],
   "execution_count": 109
  },
  {
   "metadata": {
    "ExecuteTime": {
     "end_time": "2025-05-25T18:02:15.319262Z",
     "start_time": "2025-05-25T18:02:15.316700Z"
    }
   },
   "cell_type": "code",
   "source": "update_data_for_species(Cyclostomata_species_to_update)",
   "id": "4d6f22f36e2dd9be",
   "outputs": [],
   "execution_count": 99
  },
  {
   "metadata": {
    "ExecuteTime": {
     "end_time": "2025-05-25T18:03:54.406963Z",
     "start_time": "2025-05-25T18:03:54.403177Z"
    }
   },
   "cell_type": "code",
   "source": [
    "# создаем словарь data_Phylum\n",
    "\n",
    "prefix = \"../Datasets\"\n",
    "phylum = \"Cyclostomata\"\n",
    "postfix = \"ncbi_dataset/data\"\n",
    "nof = \"exons.fa\"\n",
    "\n",
    "ref_exon_len = [37]\n",
    "found_org_name_i_Cyclostomata = {}  # CHANGE\n",
    "\n",
    "for org_name_i in os.listdir(f\"../Datasets/{phylum}\"):\n",
    "    df_exons = analyze_exons(f\"{prefix}/{phylum}/{org_name_i}/{postfix}/{nof}\")\n",
    "    condition = set(ref_exon_len) & set(df_exons.length.tolist())\n",
    "    if condition:\n",
    "        found_org_name_i_Cyclostomata[org_name_i] = condition  # CHANGE\n",
    "\n",
    "found_org_name_i_Cyclostomata"
   ],
   "id": "b4cfefbcda95089d",
   "outputs": [
    {
     "data": {
      "text/plain": [
       "{'petromyzon_marinus_2': {37},\n",
       " 'lethenteron_reissneri_1': {37},\n",
       " 'myxine_glutinosa_0': {37}}"
      ]
     },
     "execution_count": 110,
     "metadata": {},
     "output_type": "execute_result"
    }
   ],
   "execution_count": 110
  },
  {
   "metadata": {
    "ExecuteTime": {
     "end_time": "2025-05-25T18:04:10.345703Z",
     "start_time": "2025-05-25T18:04:10.341003Z"
    }
   },
   "cell_type": "code",
   "source": [
    "data = {}\n",
    "\n",
    "for org_name_i in found_org_name_i_Cyclostomata:  # CHANGE\n",
    "    df_exons = analyze_exons(f\"{prefix}/{phylum}/{org_name_i}/{postfix}/{nof}\")\n",
    "    exon_37_idx = df_exons[df_exons[\"length\"] == 37].index[0]\n",
    "    exon_110_idx = exon_37_idx - 1\n",
    "    data[f\"{org_name_i}\"] = (df_exons, [exon_110_idx, exon_37_idx])\n",
    "\n",
    "introns = create_many_cassettes(phylum, data)"
   ],
   "id": "bf8d886ca2b8b770",
   "outputs": [],
   "execution_count": 111
  },
  {
   "metadata": {},
   "cell_type": "markdown",
   "source": "#### Chondrichthyes",
   "id": "c966f0d4a95ad8cf"
  },
  {
   "metadata": {
    "ExecuteTime": {
     "end_time": "2025-05-25T18:06:26.870828Z",
     "start_time": "2025-05-25T18:06:26.868295Z"
    }
   },
   "cell_type": "code",
   "source": "df_Chondrichthyes = df_taxonomy[df_taxonomy.taxonomy.str.contains(\"Chondrichthyes\")]",
   "id": "b4080417e19e0055",
   "outputs": [],
   "execution_count": 116
  },
  {
   "metadata": {
    "ExecuteTime": {
     "end_time": "2025-05-25T18:06:27.790319Z",
     "start_time": "2025-05-25T18:06:27.788378Z"
    }
   },
   "cell_type": "code",
   "source": [
    "Chondrichthyes_taxids = {\n",
    "    \"Chondrichthyes\": df_Chondrichthyes.index.tolist(),\n",
    "}"
   ],
   "id": "e8336925cf4c877b",
   "outputs": [],
   "execution_count": 117
  },
  {
   "metadata": {
    "ExecuteTime": {
     "end_time": "2025-05-25T18:06:51.035881Z",
     "start_time": "2025-05-25T18:06:42.613669Z"
    }
   },
   "cell_type": "code",
   "source": "download_all_files_ncbi(df, Chondrichthyes_taxids, phylas=list(Chondrichthyes_taxids.keys()))",
   "id": "1207085a6662aff8",
   "outputs": [
    {
     "name": "stdout",
     "output_type": "stream",
     "text": [
      "Gene, mRNA, protein for Chondrichthyes/amblyraja_radiata_0 downloaded successfully\n",
      "Gene, mRNA, protein for Chondrichthyes/rhincodon_typus_1 downloaded successfully\n",
      "Gene, mRNA, protein for Chondrichthyes/callorhinchus_milii_2 downloaded successfully\n",
      "Gene GenBank for Chondrichthyes/amblyraja_radiata_0 downloaded successfully\n",
      "Gene GenBank for Chondrichthyes/rhincodon_typus_1 downloaded successfully\n",
      "Exons for Chondrichthyes/amblyraja_radiata_0 created successfully\n",
      "Exons for Chondrichthyes/rhincodon_typus_1 created successfully\n",
      "\n"
     ]
    }
   ],
   "execution_count": 119
  },
  {
   "metadata": {},
   "cell_type": "code",
   "outputs": [],
   "execution_count": null,
   "source": "# callorhinchus_milii_2 удалил, потому что там ничего не скачалось",
   "id": "153981a98f0eec91"
  },
  {
   "metadata": {
    "ExecuteTime": {
     "end_time": "2025-05-25T18:07:29.080798Z",
     "start_time": "2025-05-25T18:07:29.078761Z"
    }
   },
   "cell_type": "code",
   "source": "Chondrichthyes_species_to_update = check_transcript_count([\"Chondrichthyes\"])",
   "id": "22cd126742ad04b0",
   "outputs": [],
   "execution_count": 122
  },
  {
   "metadata": {
    "ExecuteTime": {
     "end_time": "2025-05-25T18:07:28.113600Z",
     "start_time": "2025-05-25T18:07:28.110181Z"
    }
   },
   "cell_type": "code",
   "source": "update_data_for_species(Chondrichthyes_species_to_update)",
   "id": "6bd7af0479b7aaee",
   "outputs": [],
   "execution_count": 121
  },
  {
   "metadata": {
    "ExecuteTime": {
     "end_time": "2025-05-25T18:07:40.908892Z",
     "start_time": "2025-05-25T18:07:40.905221Z"
    }
   },
   "cell_type": "code",
   "source": [
    "# создаем словарь data_Phylum\n",
    "\n",
    "prefix = \"../Datasets\"\n",
    "phylum = \"Chondrichthyes\"\n",
    "postfix = \"ncbi_dataset/data\"\n",
    "nof = \"exons.fa\"\n",
    "\n",
    "ref_exon_len = [37]\n",
    "found_org_name_i_Chondrichthyes = {}  # CHANGE\n",
    "\n",
    "for org_name_i in os.listdir(f\"../Datasets/{phylum}\"):\n",
    "    df_exons = analyze_exons(f\"{prefix}/{phylum}/{org_name_i}/{postfix}/{nof}\")\n",
    "    condition = set(ref_exon_len) & set(df_exons.length.tolist())\n",
    "    if condition:\n",
    "        found_org_name_i_Chondrichthyes[org_name_i] = condition  # CHANGE\n",
    "\n",
    "found_org_name_i_Chondrichthyes"
   ],
   "id": "6fc851378aea181",
   "outputs": [
    {
     "data": {
      "text/plain": [
       "{'rhincodon_typus_1': {37}, 'amblyraja_radiata_0': {37}}"
      ]
     },
     "execution_count": 123,
     "metadata": {},
     "output_type": "execute_result"
    }
   ],
   "execution_count": 123
  },
  {
   "metadata": {
    "ExecuteTime": {
     "end_time": "2025-05-25T18:07:47.026958Z",
     "start_time": "2025-05-25T18:07:47.022642Z"
    }
   },
   "cell_type": "code",
   "source": [
    "data = {}\n",
    "\n",
    "for org_name_i in found_org_name_i_Chondrichthyes:  # CHANGE\n",
    "    df_exons = analyze_exons(f\"{prefix}/{phylum}/{org_name_i}/{postfix}/{nof}\")\n",
    "    exon_37_idx = df_exons[df_exons[\"length\"] == 37].index[0]\n",
    "    exon_110_idx = exon_37_idx - 1\n",
    "    data[f\"{org_name_i}\"] = (df_exons, [exon_110_idx, exon_37_idx])\n",
    "\n",
    "introns = create_many_cassettes(phylum, data)"
   ],
   "id": "69e2be8b76d0e479",
   "outputs": [],
   "execution_count": 124
  },
  {
   "metadata": {},
   "cell_type": "markdown",
   "source": "#### Coelacanthimorpha",
   "id": "26dccf9455fc5ba3"
  },
  {
   "metadata": {
    "ExecuteTime": {
     "end_time": "2025-05-25T18:08:31.341795Z",
     "start_time": "2025-05-25T18:08:31.339290Z"
    }
   },
   "cell_type": "code",
   "source": "df_Coelacanthimorpha = df_taxonomy[df_taxonomy.taxonomy.str.contains(\"Coelacanthimorpha\")]",
   "id": "14988e91065c7406",
   "outputs": [],
   "execution_count": 125
  },
  {
   "metadata": {
    "ExecuteTime": {
     "end_time": "2025-05-25T18:08:33.097218Z",
     "start_time": "2025-05-25T18:08:33.095206Z"
    }
   },
   "cell_type": "code",
   "source": [
    "Coelacanthimorpha_taxids = {\n",
    "    \"Coelacanthimorpha\": df_Coelacanthimorpha.index.tolist(),\n",
    "}"
   ],
   "id": "cc36a7118097ce3",
   "outputs": [],
   "execution_count": 126
  },
  {
   "metadata": {
    "ExecuteTime": {
     "end_time": "2025-05-25T18:08:37.845426Z",
     "start_time": "2025-05-25T18:08:34.120518Z"
    }
   },
   "cell_type": "code",
   "source": "download_all_files_ncbi(df, Coelacanthimorpha_taxids, phylas=list(Coelacanthimorpha_taxids.keys()))",
   "id": "2a1b9fa61bed11c6",
   "outputs": [
    {
     "name": "stdout",
     "output_type": "stream",
     "text": [
      "Gene, mRNA, protein for Coelacanthimorpha/latimeria_chalumnae_0 downloaded successfully\n",
      "Gene GenBank for Coelacanthimorpha/latimeria_chalumnae_0 downloaded successfully\n",
      "Exons for Coelacanthimorpha/latimeria_chalumnae_0 created successfully\n",
      "\n"
     ]
    }
   ],
   "execution_count": 127
  },
  {
   "metadata": {
    "ExecuteTime": {
     "end_time": "2025-05-25T18:08:44.668089Z",
     "start_time": "2025-05-25T18:08:44.666307Z"
    }
   },
   "cell_type": "code",
   "source": "Coelacanthimorpha_species_to_update = check_transcript_count([\"Coelacanthimorpha\"])",
   "id": "a4848f53c6f65430",
   "outputs": [],
   "execution_count": 128
  },
  {
   "metadata": {
    "ExecuteTime": {
     "end_time": "2025-05-25T18:07:28.113600Z",
     "start_time": "2025-05-25T18:07:28.110181Z"
    }
   },
   "cell_type": "code",
   "outputs": [],
   "execution_count": 121,
   "source": "# update_data_for_species(Coelacanthimorpha_species_to_update)",
   "id": "c64858a04d9159ec"
  },
  {
   "metadata": {
    "ExecuteTime": {
     "end_time": "2025-05-25T18:09:03.701561Z",
     "start_time": "2025-05-25T18:09:03.697040Z"
    }
   },
   "cell_type": "code",
   "source": [
    "# создаем словарь data_Phylum\n",
    "\n",
    "prefix = \"../Datasets\"\n",
    "phylum = \"Coelacanthimorpha\"\n",
    "postfix = \"ncbi_dataset/data\"\n",
    "nof = \"exons.fa\"\n",
    "\n",
    "ref_exon_len = [37]\n",
    "found_org_name_i_Coelacanthimorpha = {}  # CHANGE\n",
    "\n",
    "for org_name_i in os.listdir(f\"../Datasets/{phylum}\"):\n",
    "    df_exons = analyze_exons(f\"{prefix}/{phylum}/{org_name_i}/{postfix}/{nof}\")\n",
    "    condition = set(ref_exon_len) & set(df_exons.length.tolist())\n",
    "    if condition:\n",
    "        found_org_name_i_Coelacanthimorpha[org_name_i] = condition  # CHANGE\n",
    "\n",
    "found_org_name_i_Coelacanthimorpha"
   ],
   "id": "bf448582eec24581",
   "outputs": [
    {
     "data": {
      "text/plain": [
       "{'latimeria_chalumnae_0': {37}}"
      ]
     },
     "execution_count": 129,
     "metadata": {},
     "output_type": "execute_result"
    }
   ],
   "execution_count": 129
  },
  {
   "metadata": {
    "ExecuteTime": {
     "end_time": "2025-05-25T18:09:07.689852Z",
     "start_time": "2025-05-25T18:09:07.686643Z"
    }
   },
   "cell_type": "code",
   "source": [
    "data = {}\n",
    "\n",
    "for org_name_i in found_org_name_i_Coelacanthimorpha:  # CHANGE\n",
    "    df_exons = analyze_exons(f\"{prefix}/{phylum}/{org_name_i}/{postfix}/{nof}\")\n",
    "    exon_37_idx = df_exons[df_exons[\"length\"] == 37].index[0]\n",
    "    exon_110_idx = exon_37_idx - 1\n",
    "    data[f\"{org_name_i}\"] = (df_exons, [exon_110_idx, exon_37_idx])\n",
    "\n",
    "introns = create_many_cassettes(phylum, data)"
   ],
   "id": "b03bb9f0b98183ee",
   "outputs": [],
   "execution_count": 130
  },
  {
   "metadata": {},
   "cell_type": "markdown",
   "source": "#### Dipnomorpha",
   "id": "59afbca7e72fd018"
  },
  {
   "metadata": {
    "ExecuteTime": {
     "end_time": "2025-05-25T18:09:36.445163Z",
     "start_time": "2025-05-25T18:09:36.442859Z"
    }
   },
   "cell_type": "code",
   "source": "df_Dipnomorpha = df_taxonomy[df_taxonomy.taxonomy.str.contains(\"Dipnomorpha\")]",
   "id": "d4a33c9cead680e5",
   "outputs": [],
   "execution_count": 131
  },
  {
   "metadata": {
    "ExecuteTime": {
     "end_time": "2025-05-25T18:09:39.602616Z",
     "start_time": "2025-05-25T18:09:39.600982Z"
    }
   },
   "cell_type": "code",
   "source": [
    "Dipnomorpha_taxids = {\n",
    "    \"Dipnomorpha\": df_Dipnomorpha.index.tolist(),\n",
    "}"
   ],
   "id": "23b6745f3df3876c",
   "outputs": [],
   "execution_count": 132
  },
  {
   "metadata": {
    "ExecuteTime": {
     "end_time": "2025-05-25T18:09:53.361769Z",
     "start_time": "2025-05-25T18:09:40.770152Z"
    }
   },
   "cell_type": "code",
   "source": "download_all_files_ncbi(df, Dipnomorpha_taxids, phylas=list(Dipnomorpha_taxids.keys()))",
   "id": "d56503e542bfa2ac",
   "outputs": [
    {
     "name": "stdout",
     "output_type": "stream",
     "text": [
      "Gene, mRNA, protein for Dipnomorpha/protopterus_annectens_0 downloaded successfully\n",
      "Gene, mRNA, protein for Dipnomorpha/protopterus_annectens_1 downloaded successfully\n",
      "Gene GenBank for Dipnomorpha/protopterus_annectens_0 downloaded successfully\n",
      "Gene GenBank for Dipnomorpha/protopterus_annectens_1 downloaded successfully\n",
      "Exons for Dipnomorpha/protopterus_annectens_0 created successfully\n",
      "Exons for Dipnomorpha/protopterus_annectens_1 created successfully\n",
      "\n"
     ]
    }
   ],
   "execution_count": 133
  },
  {
   "metadata": {
    "ExecuteTime": {
     "end_time": "2025-05-25T18:09:58.647713Z",
     "start_time": "2025-05-25T18:09:58.645548Z"
    }
   },
   "cell_type": "code",
   "source": "Dipnomorpha_species_to_update = check_transcript_count([\"Dipnomorpha\"])",
   "id": "d423d04d1e352249",
   "outputs": [],
   "execution_count": 134
  },
  {
   "metadata": {
    "ExecuteTime": {
     "end_time": "2025-05-25T18:07:28.113600Z",
     "start_time": "2025-05-25T18:07:28.110181Z"
    }
   },
   "cell_type": "code",
   "outputs": [],
   "execution_count": 121,
   "source": "# update_data_for_species(Dipnomorpha_species_to_update)",
   "id": "9798b049fea7c0e2"
  },
  {
   "metadata": {
    "ExecuteTime": {
     "end_time": "2025-05-25T18:10:08.063887Z",
     "start_time": "2025-05-25T18:10:08.060183Z"
    }
   },
   "cell_type": "code",
   "source": [
    "# создаем словарь data_Phylum\n",
    "\n",
    "prefix = \"../Datasets\"\n",
    "phylum = \"Dipnomorpha\"\n",
    "postfix = \"ncbi_dataset/data\"\n",
    "nof = \"exons.fa\"\n",
    "\n",
    "ref_exon_len = [37]\n",
    "found_org_name_i_Dipnomorpha = {}  # CHANGE\n",
    "\n",
    "for org_name_i in os.listdir(f\"../Datasets/{phylum}\"):\n",
    "    df_exons = analyze_exons(f\"{prefix}/{phylum}/{org_name_i}/{postfix}/{nof}\")\n",
    "    condition = set(ref_exon_len) & set(df_exons.length.tolist())\n",
    "    if condition:\n",
    "        found_org_name_i_Dipnomorpha[org_name_i] = condition  # CHANGE\n",
    "\n",
    "found_org_name_i_Dipnomorpha"
   ],
   "id": "c53cf29c258fd3d0",
   "outputs": [
    {
     "data": {
      "text/plain": [
       "{'protopterus_annectens_0': {37}}"
      ]
     },
     "execution_count": 135,
     "metadata": {},
     "output_type": "execute_result"
    }
   ],
   "execution_count": 135
  },
  {
   "metadata": {
    "ExecuteTime": {
     "end_time": "2025-05-25T18:10:14.606776Z",
     "start_time": "2025-05-25T18:10:14.599207Z"
    }
   },
   "cell_type": "code",
   "source": [
    "data = {}\n",
    "\n",
    "for org_name_i in found_org_name_i_Dipnomorpha:  # CHANGE\n",
    "    df_exons = analyze_exons(f\"{prefix}/{phylum}/{org_name_i}/{postfix}/{nof}\")\n",
    "    exon_37_idx = df_exons[df_exons[\"length\"] == 37].index[0]\n",
    "    exon_110_idx = exon_37_idx - 1\n",
    "    data[f\"{org_name_i}\"] = (df_exons, [exon_110_idx, exon_37_idx])\n",
    "\n",
    "introns = create_many_cassettes(phylum, data)"
   ],
   "id": "c342ef1923982984",
   "outputs": [],
   "execution_count": 136
  },
  {
   "metadata": {},
   "cell_type": "markdown",
   "source": "#### Анализ интронов у отдельных микрогрупп",
   "id": "39351f1adcf37783"
  },
  {
   "metadata": {
    "ExecuteTime": {
     "end_time": "2025-05-25T18:16:04.353154Z",
     "start_time": "2025-05-25T18:16:04.351242Z"
    }
   },
   "cell_type": "code",
   "source": [
    "prefix = \"../Datasets\"\n",
    "\n",
    "org_names_Cephalochordata = found_org_name_i_Cephalochordata.keys()\n",
    "org_names_Tunicata = found_org_name_i_Tunicata.keys()\n",
    "org_names_Cyclostomata = found_org_name_i_Cyclostomata.keys()\n",
    "org_names_Chondrichthyes = found_org_name_i_Chondrichthyes.keys()\n",
    "org_names_Coelacanthimorpha = found_org_name_i_Coelacanthimorpha.keys()\n",
    "org_names_Dipnomorpha = found_org_name_i_Dipnomorpha.keys()"
   ],
   "id": "bfdb65f54d7f6232",
   "outputs": [],
   "execution_count": 141
  },
  {
   "metadata": {
    "ExecuteTime": {
     "end_time": "2025-05-25T18:16:22.855334Z",
     "start_time": "2025-05-25T18:16:22.853623Z"
    }
   },
   "cell_type": "code",
   "source": [
    "dict_align_info = {\n",
    "    \"Cephalochordata\": org_names_Cephalochordata,\n",
    "    \"Tunicata\": org_names_Tunicata,\n",
    "    \"Cyclostomata\": org_names_Cyclostomata,\n",
    "    \"Chondrichthyes\": org_names_Chondrichthyes,\n",
    "    \"Coelacanthimorpha\": org_names_Coelacanthimorpha,\n",
    "    \"Dipnomorpha\": org_names_Dipnomorpha,\n",
    "}"
   ],
   "id": "3167710145030d1d",
   "outputs": [],
   "execution_count": 142
  },
  {
   "metadata": {
    "ExecuteTime": {
     "end_time": "2025-05-25T18:16:23.938612Z",
     "start_time": "2025-05-25T18:16:23.935016Z"
    }
   },
   "cell_type": "code",
   "source": [
    "# здесь везде должно быть True в столбце equal_to_cds\n",
    "\n",
    "Small_groups_df_cds, Small_groups_dict_align_cds = dict_align_info_analyze(dict_align_info, \"cds\")\n",
    "Small_groups_df_cds.equal_to_cds.unique()"
   ],
   "id": "145750b1e1fbbeb2",
   "outputs": [
    {
     "data": {
      "text/plain": [
       "array([ True])"
      ]
     },
     "execution_count": 143,
     "metadata": {},
     "output_type": "execute_result"
    }
   ],
   "execution_count": 143
  },
  {
   "metadata": {
    "ExecuteTime": {
     "end_time": "2025-05-25T18:16:28.577124Z",
     "start_time": "2025-05-25T18:16:28.571689Z"
    }
   },
   "cell_type": "code",
   "source": [
    "Small_groups_df_cds_cassette, Small_groups_dict_align_cds_cassette = dict_align_info_analyze(dict_align_info, \"cds_cassette\")\n",
    "Small_groups_df_cds_cassette"
   ],
   "id": "d6a781fe0ff22608",
   "outputs": [
    {
     "data": {
      "text/plain": [
       "              phylum                  org_name  stop_codon_pos  equal_to_cds  \\\n",
       "0    Cephalochordata  branchiostoma_floridae_0            1635         False   \n",
       "1           Tunicata            styela_clava_0            1113         False   \n",
       "2       Cyclostomata      petromyzon_marinus_2            1251         False   \n",
       "3       Cyclostomata   lethenteron_reissneri_1            1272         False   \n",
       "4       Cyclostomata        myxine_glutinosa_0             717         False   \n",
       "5     Chondrichthyes         rhincodon_typus_1            1320         False   \n",
       "6     Chondrichthyes       amblyraja_radiata_0            1356         False   \n",
       "7  Coelacanthimorpha     latimeria_chalumnae_0            1044         False   \n",
       "8        Dipnomorpha   protopterus_annectens_0             786         False   \n",
       "\n",
       "   cassette_start  length_to_stop_codon  intron_length  \n",
       "0            1634                     1           1843  \n",
       "1            1106                     7            964  \n",
       "2            1226                    25           3200  \n",
       "3            1247                    25           3169  \n",
       "4             680                    37           2607  \n",
       "5            1115                   205           3206  \n",
       "6            1127                   229           3999  \n",
       "7            1043                     1           3431  \n",
       "8             743                    43          28462  "
      ],
      "text/html": [
       "<div>\n",
       "<style scoped>\n",
       "    .dataframe tbody tr th:only-of-type {\n",
       "        vertical-align: middle;\n",
       "    }\n",
       "\n",
       "    .dataframe tbody tr th {\n",
       "        vertical-align: top;\n",
       "    }\n",
       "\n",
       "    .dataframe thead th {\n",
       "        text-align: right;\n",
       "    }\n",
       "</style>\n",
       "<table border=\"1\" class=\"dataframe\">\n",
       "  <thead>\n",
       "    <tr style=\"text-align: right;\">\n",
       "      <th></th>\n",
       "      <th>phylum</th>\n",
       "      <th>org_name</th>\n",
       "      <th>stop_codon_pos</th>\n",
       "      <th>equal_to_cds</th>\n",
       "      <th>cassette_start</th>\n",
       "      <th>length_to_stop_codon</th>\n",
       "      <th>intron_length</th>\n",
       "    </tr>\n",
       "  </thead>\n",
       "  <tbody>\n",
       "    <tr>\n",
       "      <th>0</th>\n",
       "      <td>Cephalochordata</td>\n",
       "      <td>branchiostoma_floridae_0</td>\n",
       "      <td>1635</td>\n",
       "      <td>False</td>\n",
       "      <td>1634</td>\n",
       "      <td>1</td>\n",
       "      <td>1843</td>\n",
       "    </tr>\n",
       "    <tr>\n",
       "      <th>1</th>\n",
       "      <td>Tunicata</td>\n",
       "      <td>styela_clava_0</td>\n",
       "      <td>1113</td>\n",
       "      <td>False</td>\n",
       "      <td>1106</td>\n",
       "      <td>7</td>\n",
       "      <td>964</td>\n",
       "    </tr>\n",
       "    <tr>\n",
       "      <th>2</th>\n",
       "      <td>Cyclostomata</td>\n",
       "      <td>petromyzon_marinus_2</td>\n",
       "      <td>1251</td>\n",
       "      <td>False</td>\n",
       "      <td>1226</td>\n",
       "      <td>25</td>\n",
       "      <td>3200</td>\n",
       "    </tr>\n",
       "    <tr>\n",
       "      <th>3</th>\n",
       "      <td>Cyclostomata</td>\n",
       "      <td>lethenteron_reissneri_1</td>\n",
       "      <td>1272</td>\n",
       "      <td>False</td>\n",
       "      <td>1247</td>\n",
       "      <td>25</td>\n",
       "      <td>3169</td>\n",
       "    </tr>\n",
       "    <tr>\n",
       "      <th>4</th>\n",
       "      <td>Cyclostomata</td>\n",
       "      <td>myxine_glutinosa_0</td>\n",
       "      <td>717</td>\n",
       "      <td>False</td>\n",
       "      <td>680</td>\n",
       "      <td>37</td>\n",
       "      <td>2607</td>\n",
       "    </tr>\n",
       "    <tr>\n",
       "      <th>5</th>\n",
       "      <td>Chondrichthyes</td>\n",
       "      <td>rhincodon_typus_1</td>\n",
       "      <td>1320</td>\n",
       "      <td>False</td>\n",
       "      <td>1115</td>\n",
       "      <td>205</td>\n",
       "      <td>3206</td>\n",
       "    </tr>\n",
       "    <tr>\n",
       "      <th>6</th>\n",
       "      <td>Chondrichthyes</td>\n",
       "      <td>amblyraja_radiata_0</td>\n",
       "      <td>1356</td>\n",
       "      <td>False</td>\n",
       "      <td>1127</td>\n",
       "      <td>229</td>\n",
       "      <td>3999</td>\n",
       "    </tr>\n",
       "    <tr>\n",
       "      <th>7</th>\n",
       "      <td>Coelacanthimorpha</td>\n",
       "      <td>latimeria_chalumnae_0</td>\n",
       "      <td>1044</td>\n",
       "      <td>False</td>\n",
       "      <td>1043</td>\n",
       "      <td>1</td>\n",
       "      <td>3431</td>\n",
       "    </tr>\n",
       "    <tr>\n",
       "      <th>8</th>\n",
       "      <td>Dipnomorpha</td>\n",
       "      <td>protopterus_annectens_0</td>\n",
       "      <td>786</td>\n",
       "      <td>False</td>\n",
       "      <td>743</td>\n",
       "      <td>43</td>\n",
       "      <td>28462</td>\n",
       "    </tr>\n",
       "  </tbody>\n",
       "</table>\n",
       "</div>"
      ]
     },
     "execution_count": 144,
     "metadata": {},
     "output_type": "execute_result"
    }
   ],
   "execution_count": 144
  },
  {
   "metadata": {
    "ExecuteTime": {
     "end_time": "2025-05-25T18:19:11.052620Z",
     "start_time": "2025-05-25T18:19:11.050019Z"
    }
   },
   "cell_type": "code",
   "source": [
    "dict_align_info = {\n",
    "    \"Cephalochordata\": org_names_Cephalochordata,\n",
    "    \"Tunicata\": org_names_Tunicata,\n",
    "    \"Cyclostomata\": org_names_Cyclostomata,\n",
    "    \"Chondrichthyes\": org_names_Chondrichthyes,\n",
    "    \"Coelacanthimorpha\": org_names_Coelacanthimorpha,\n",
    "    \"Dipnomorpha\": org_names_Dipnomorpha,\n",
    "}\n",
    "\n",
    "exon_1_lengths = []\n",
    "for phylum, org_names in dict_align_info.items():\n",
    "    for org_name in org_names:\n",
    "        cassette = read_fasta(f\"../Datasets/{phylum}/{org_name}/ncbi_dataset/data/cassette.fa\")\n",
    "        for header, seq in cassette.items():\n",
    "            print(f\"{phylum}-{org_name}: {len(seq)}\")\n",
    "            exon_1_lengths.append(len(seq))\n",
    "            break"
   ],
   "id": "e4f9b27ff565b8b0",
   "outputs": [
    {
     "name": "stdout",
     "output_type": "stream",
     "text": [
      "Cephalochordata-branchiostoma_floridae_0: 110\n",
      "Tunicata-styela_clava_0: 110\n",
      "Cyclostomata-petromyzon_marinus_2: 110\n",
      "Cyclostomata-lethenteron_reissneri_1: 110\n",
      "Cyclostomata-myxine_glutinosa_0: 110\n",
      "Chondrichthyes-rhincodon_typus_1: 110\n",
      "Chondrichthyes-amblyraja_radiata_0: 110\n",
      "Coelacanthimorpha-latimeria_chalumnae_0: 110\n",
      "Dipnomorpha-protopterus_annectens_0: 110\n"
     ]
    }
   ],
   "execution_count": 146
  },
  {
   "metadata": {
    "ExecuteTime": {
     "end_time": "2025-05-25T18:17:31.547089Z",
     "start_time": "2025-05-25T18:17:31.544722Z"
    }
   },
   "cell_type": "code",
   "source": [
    "# dict_align_to_fasta_upd(Small_groups_dict_align_cds_cassette, \"../Alignment/Small_groups_cds_cassette.fa\")\n",
    "# dict_align_to_fasta_upd(Small_groups_dict_align_cds_cassette, \"../Alignment/Small_groups_cds_cassette.aln\")"
   ],
   "id": "dbc926d90a68bd71",
   "outputs": [],
   "execution_count": 145
  }
 ],
 "metadata": {
  "kernelspec": {
   "display_name": "Python 3",
   "language": "python",
   "name": "python3"
  },
  "language_info": {
   "codemirror_mode": {
    "name": "ipython",
    "version": 2
   },
   "file_extension": ".py",
   "mimetype": "text/x-python",
   "name": "python",
   "nbconvert_exporter": "python",
   "pygments_lexer": "ipython2",
   "version": "2.7.6"
  }
 },
 "nbformat": 4,
 "nbformat_minor": 5
}
