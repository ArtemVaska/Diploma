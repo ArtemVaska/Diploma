{
 "cells": [
  {
   "metadata": {
    "collapsed": true,
    "ExecuteTime": {
     "end_time": "2025-05-21T13:55:33.300687Z",
     "start_time": "2025-05-21T13:55:33.165999Z"
    }
   },
   "cell_type": "code",
   "source": [
    "import os\n",
    "\n",
    "import pandas as pd\n",
    "\n",
    "from os.path import commonprefix\n",
    "from pathlib import Path\n",
    "from IPython.display import HTML\n",
    "\n",
    "from Scripts.data_processing import obtain_data\n",
    "from Scripts.fasta_processing import plain_to_fasta\n",
    "from highlight import highlight_intron_in_seq\n",
    "from fasta_processing import read_single_fasta, dict_align_to_fasta, read_fasta, dict_align_to_fasta_upd\n",
    "from datasets import select_all_phylas, download_all_files_ncbi, check_transcript_count, update_data_for_species\n",
    "from taxonomy_processing import create_taxonomy\n",
    "from data_processing import analyze_exons, create_cassette, concat_cassette, dict_align_create, find_codon, \\\n",
    "    dict_align_info_analyze, dict_align_update_keys\n",
    "from build_rna_structures import run_rnafold_with_highlight"
   ],
   "id": "b098e12992c56143",
   "outputs": [],
   "execution_count": 1
  },
  {
   "metadata": {
    "ExecuteTime": {
     "end_time": "2025-05-21T13:55:33.373653Z",
     "start_time": "2025-05-21T13:55:33.356862Z"
    }
   },
   "cell_type": "code",
   "source": [
    "column_names = [\"tax_id\", \"org_name\", \"gene_id\", \"current_id\", \"status\", \"symbol\", \"aliases\", \"description\",\n",
    "                \"other_designations\", \"map_location\", \"chromosome\", \"genomic_nucleotide_accession.version\",\n",
    "                \"start_position_on_the_genomic_accession\", \"end_position_on_the_genomic_accession\", \"orientation\",\n",
    "                \"exon_count\", \"to_delete_1\", \"to_delete_2\"]\n",
    "\n",
    "df = pd.read_csv(\"../all_nxf1_2.txt\", sep=\"\\t\", skiprows=1, names=column_names, index_col=0)\n",
    "df.drop([\"to_delete_1\", \"to_delete_2\"], axis=1, inplace=True)\n",
    "df.head()"
   ],
   "id": "4a9e11130e237a73",
   "outputs": [
    {
     "data": {
      "text/plain": [
       "                  org_name    gene_id  current_id status symbol  \\\n",
       "tax_id                                                            \n",
       "9606          Homo sapiens      10482           0   live   NXF1   \n",
       "10090         Mus musculus      53319           0   live   Nxf1   \n",
       "10116    Rattus norvegicus      59087           0   live   Nxf1   \n",
       "8407       Rana temporaria  120917577           0   live   NXF1   \n",
       "8364    Xenopus tropicalis     734058           0   live   nxf1   \n",
       "\n",
       "                 aliases                  description  \\\n",
       "tax_id                                                  \n",
       "9606          MEX67, TAP  nuclear RNA export factor 1   \n",
       "10090   Mex67, Mvb1, Tap  nuclear RNA export factor 1   \n",
       "10116        Mex67h, Tap  nuclear RNA export factor 1   \n",
       "8407                 NaN  nuclear RNA export factor 1   \n",
       "8364          mex67, tap  nuclear RNA export factor 1   \n",
       "\n",
       "                                       other_designations map_location  \\\n",
       "tax_id                                                                   \n",
       "9606    nuclear RNA export factor 1|mRNA export factor...      11q12.3   \n",
       "10090   nuclear RNA export factor 1|Mex 67 homolog|mRN...    19 5.5 cM   \n",
       "10116   nuclear RNA export factor 1|mRNA export factor...         1q43   \n",
       "8407                          nuclear RNA export factor 1          NaN   \n",
       "8364                          nuclear RNA export factor 1          NaN   \n",
       "\n",
       "       chromosome genomic_nucleotide_accession.version  \\\n",
       "tax_id                                                   \n",
       "9606           11                         NC_000011.10   \n",
       "10090          19                          NC_000085.7   \n",
       "10116           1                          NC_086019.1   \n",
       "8407           11                          NC_053499.1   \n",
       "8364            4                          NC_030680.2   \n",
       "\n",
       "        start_position_on_the_genomic_accession  \\\n",
       "tax_id                                            \n",
       "9606                                 62792130.0   \n",
       "10090                                 8734467.0   \n",
       "10116                               215084563.0   \n",
       "8407                                120752259.0   \n",
       "8364                                 36493131.0   \n",
       "\n",
       "        end_position_on_the_genomic_accession orientation  exon_count  \n",
       "tax_id                                                                 \n",
       "9606                               62805440.0       minus        22.0  \n",
       "10090                               8748274.0        plus        20.0  \n",
       "10116                             215097756.0        plus        21.0  \n",
       "8407                              120809664.0        plus        22.0  \n",
       "8364                               36532401.0       minus        23.0  "
      ],
      "text/html": [
       "<div>\n",
       "<style scoped>\n",
       "    .dataframe tbody tr th:only-of-type {\n",
       "        vertical-align: middle;\n",
       "    }\n",
       "\n",
       "    .dataframe tbody tr th {\n",
       "        vertical-align: top;\n",
       "    }\n",
       "\n",
       "    .dataframe thead th {\n",
       "        text-align: right;\n",
       "    }\n",
       "</style>\n",
       "<table border=\"1\" class=\"dataframe\">\n",
       "  <thead>\n",
       "    <tr style=\"text-align: right;\">\n",
       "      <th></th>\n",
       "      <th>org_name</th>\n",
       "      <th>gene_id</th>\n",
       "      <th>current_id</th>\n",
       "      <th>status</th>\n",
       "      <th>symbol</th>\n",
       "      <th>aliases</th>\n",
       "      <th>description</th>\n",
       "      <th>other_designations</th>\n",
       "      <th>map_location</th>\n",
       "      <th>chromosome</th>\n",
       "      <th>genomic_nucleotide_accession.version</th>\n",
       "      <th>start_position_on_the_genomic_accession</th>\n",
       "      <th>end_position_on_the_genomic_accession</th>\n",
       "      <th>orientation</th>\n",
       "      <th>exon_count</th>\n",
       "    </tr>\n",
       "    <tr>\n",
       "      <th>tax_id</th>\n",
       "      <th></th>\n",
       "      <th></th>\n",
       "      <th></th>\n",
       "      <th></th>\n",
       "      <th></th>\n",
       "      <th></th>\n",
       "      <th></th>\n",
       "      <th></th>\n",
       "      <th></th>\n",
       "      <th></th>\n",
       "      <th></th>\n",
       "      <th></th>\n",
       "      <th></th>\n",
       "      <th></th>\n",
       "      <th></th>\n",
       "    </tr>\n",
       "  </thead>\n",
       "  <tbody>\n",
       "    <tr>\n",
       "      <th>9606</th>\n",
       "      <td>Homo sapiens</td>\n",
       "      <td>10482</td>\n",
       "      <td>0</td>\n",
       "      <td>live</td>\n",
       "      <td>NXF1</td>\n",
       "      <td>MEX67, TAP</td>\n",
       "      <td>nuclear RNA export factor 1</td>\n",
       "      <td>nuclear RNA export factor 1|mRNA export factor...</td>\n",
       "      <td>11q12.3</td>\n",
       "      <td>11</td>\n",
       "      <td>NC_000011.10</td>\n",
       "      <td>62792130.0</td>\n",
       "      <td>62805440.0</td>\n",
       "      <td>minus</td>\n",
       "      <td>22.0</td>\n",
       "    </tr>\n",
       "    <tr>\n",
       "      <th>10090</th>\n",
       "      <td>Mus musculus</td>\n",
       "      <td>53319</td>\n",
       "      <td>0</td>\n",
       "      <td>live</td>\n",
       "      <td>Nxf1</td>\n",
       "      <td>Mex67, Mvb1, Tap</td>\n",
       "      <td>nuclear RNA export factor 1</td>\n",
       "      <td>nuclear RNA export factor 1|Mex 67 homolog|mRN...</td>\n",
       "      <td>19 5.5 cM</td>\n",
       "      <td>19</td>\n",
       "      <td>NC_000085.7</td>\n",
       "      <td>8734467.0</td>\n",
       "      <td>8748274.0</td>\n",
       "      <td>plus</td>\n",
       "      <td>20.0</td>\n",
       "    </tr>\n",
       "    <tr>\n",
       "      <th>10116</th>\n",
       "      <td>Rattus norvegicus</td>\n",
       "      <td>59087</td>\n",
       "      <td>0</td>\n",
       "      <td>live</td>\n",
       "      <td>Nxf1</td>\n",
       "      <td>Mex67h, Tap</td>\n",
       "      <td>nuclear RNA export factor 1</td>\n",
       "      <td>nuclear RNA export factor 1|mRNA export factor...</td>\n",
       "      <td>1q43</td>\n",
       "      <td>1</td>\n",
       "      <td>NC_086019.1</td>\n",
       "      <td>215084563.0</td>\n",
       "      <td>215097756.0</td>\n",
       "      <td>plus</td>\n",
       "      <td>21.0</td>\n",
       "    </tr>\n",
       "    <tr>\n",
       "      <th>8407</th>\n",
       "      <td>Rana temporaria</td>\n",
       "      <td>120917577</td>\n",
       "      <td>0</td>\n",
       "      <td>live</td>\n",
       "      <td>NXF1</td>\n",
       "      <td>NaN</td>\n",
       "      <td>nuclear RNA export factor 1</td>\n",
       "      <td>nuclear RNA export factor 1</td>\n",
       "      <td>NaN</td>\n",
       "      <td>11</td>\n",
       "      <td>NC_053499.1</td>\n",
       "      <td>120752259.0</td>\n",
       "      <td>120809664.0</td>\n",
       "      <td>plus</td>\n",
       "      <td>22.0</td>\n",
       "    </tr>\n",
       "    <tr>\n",
       "      <th>8364</th>\n",
       "      <td>Xenopus tropicalis</td>\n",
       "      <td>734058</td>\n",
       "      <td>0</td>\n",
       "      <td>live</td>\n",
       "      <td>nxf1</td>\n",
       "      <td>mex67, tap</td>\n",
       "      <td>nuclear RNA export factor 1</td>\n",
       "      <td>nuclear RNA export factor 1</td>\n",
       "      <td>NaN</td>\n",
       "      <td>4</td>\n",
       "      <td>NC_030680.2</td>\n",
       "      <td>36493131.0</td>\n",
       "      <td>36532401.0</td>\n",
       "      <td>minus</td>\n",
       "      <td>23.0</td>\n",
       "    </tr>\n",
       "  </tbody>\n",
       "</table>\n",
       "</div>"
      ]
     },
     "execution_count": 2,
     "metadata": {},
     "output_type": "execute_result"
    }
   ],
   "execution_count": 2
  },
  {
   "metadata": {
    "ExecuteTime": {
     "end_time": "2025-05-21T13:55:33.463911Z",
     "start_time": "2025-05-21T13:55:33.458905Z"
    }
   },
   "cell_type": "code",
   "source": [
    "df_taxonomy = pd.read_csv(\"../all_phylas_taxonomy.tsv\", sep=\"\\t\", names=[\"taxid\", \"taxonomy\"], index_col=0,\n",
    "                          dtype={\"taxid\": int, \"taxonomy\": str})"
   ],
   "id": "63f1e83570bc6e74",
   "outputs": [],
   "execution_count": 3
  },
  {
   "metadata": {
    "ExecuteTime": {
     "end_time": "2025-05-21T13:55:33.507677Z",
     "start_time": "2025-05-21T13:55:33.505543Z"
    }
   },
   "cell_type": "code",
   "source": "df_deuterostomia = df_taxonomy[df_taxonomy.taxonomy.str.contains(\"Deuterostomia\")]",
   "id": "143a28c351ae9af0",
   "outputs": [],
   "execution_count": 4
  },
  {
   "metadata": {
    "ExecuteTime": {
     "end_time": "2025-05-21T13:55:33.557514Z",
     "start_time": "2025-05-21T13:55:33.556113Z"
    }
   },
   "cell_type": "code",
   "source": [
    "# df_deuterostomia.to_csv(\"../deuterostomia_taxonomy.tsv\", sep=\"\\t\", header=False)\n",
    "# create_taxonomy(\"../deuterostomia_taxonomy.tsv\")"
   ],
   "id": "6d34edcdf6608616",
   "outputs": [],
   "execution_count": 5
  },
  {
   "metadata": {
    "ExecuteTime": {
     "end_time": "2025-05-21T13:55:33.606016Z",
     "start_time": "2025-05-21T13:55:33.603315Z"
    }
   },
   "cell_type": "code",
   "source": [
    "df_whippomorpha = df_taxonomy[df_taxonomy.taxonomy.str.contains(\"Cetacea\")]\n",
    "\n",
    "df_mysticeti = df_whippomorpha[df_whippomorpha.taxonomy.str.contains(\"Mysticeti\")]\n",
    "df_odontoceti = df_whippomorpha[df_whippomorpha.taxonomy.str.contains(\"Odontoceti\")]\n",
    "\n",
    "whippomorpha_taxids = {\n",
    "    \"Mysticeti\": df_mysticeti.index.tolist(),\n",
    "    \"Odontoceti\": df_odontoceti.index.tolist(),\n",
    "}"
   ],
   "id": "5b9c593a9edfb5bc",
   "outputs": [],
   "execution_count": 6
  },
  {
   "metadata": {
    "ExecuteTime": {
     "end_time": "2025-05-21T13:55:33.653404Z",
     "start_time": "2025-05-21T13:55:33.652030Z"
    }
   },
   "cell_type": "code",
   "source": "# df_whippomorpha.to_csv(\"../whippomorpha_taxonomy.tsv\", sep=\"\\t\", index=True, header=False)",
   "id": "38733d1b2776ae67",
   "outputs": [],
   "execution_count": 7
  },
  {
   "metadata": {
    "ExecuteTime": {
     "end_time": "2025-05-21T13:55:33.702738Z",
     "start_time": "2025-05-21T13:55:33.701335Z"
    }
   },
   "cell_type": "code",
   "source": "# create_taxonomy(\"../whippomorpha_taxonomy.tsv\")",
   "id": "81a1f52af3170048",
   "outputs": [],
   "execution_count": 8
  },
  {
   "metadata": {
    "ExecuteTime": {
     "end_time": "2025-05-21T13:55:33.751203Z",
     "start_time": "2025-05-21T13:55:33.749792Z"
    }
   },
   "cell_type": "code",
   "source": "# download_all_files_ncbi(df, whippomorpha_taxids, phylas=list(whippomorpha_taxids.keys()))",
   "id": "2a68aa78854bf65e",
   "outputs": [],
   "execution_count": 9
  },
  {
   "metadata": {
    "ExecuteTime": {
     "end_time": "2025-05-21T13:55:33.799957Z",
     "start_time": "2025-05-21T13:55:33.798560Z"
    }
   },
   "cell_type": "code",
   "source": [
    "\n",
    "# после изменения эта функция не должна ничего печатать\n",
    "# whippomorpha_species_to_update = check_transcript_count([\"Mysticeti\", \"Odontoceti\"])"
   ],
   "id": "55d604f9138b250",
   "outputs": [],
   "execution_count": 10
  },
  {
   "metadata": {
    "ExecuteTime": {
     "end_time": "2025-05-21T13:55:33.848211Z",
     "start_time": "2025-05-21T13:55:33.846812Z"
    }
   },
   "cell_type": "code",
   "source": "# update_data_for_species(whippomorpha_species_to_update)",
   "id": "a1b34f14b60fbce8",
   "outputs": [],
   "execution_count": 11
  },
  {
   "metadata": {
    "ExecuteTime": {
     "end_time": "2025-05-21T13:55:33.897633Z",
     "start_time": "2025-05-21T13:55:33.895753Z"
    }
   },
   "cell_type": "code",
   "source": [
    "def create_many_cassettes(phylum: str, data: dict) -> dict:\n",
    "    introns = {}\n",
    "    for org_name, (df, exons_i) in data.items():\n",
    "        cassette = create_cassette(phylum, org_name, df, exons_i=exons_i)\n",
    "        introns[org_name] = concat_cassette(cassette, \"i\")\n",
    "    return introns"
   ],
   "id": "f76535512a92006b",
   "outputs": [],
   "execution_count": 12
  },
  {
   "metadata": {
    "ExecuteTime": {
     "end_time": "2025-05-21T13:55:33.947361Z",
     "start_time": "2025-05-21T13:55:33.945142Z"
    }
   },
   "cell_type": "code",
   "source": "os.listdir(\"../Datasets/Mysticeti\")",
   "id": "671deeeccb47a717",
   "outputs": [
    {
     "data": {
      "text/plain": [
       "['balaenoptera_ricei_2',\n",
       " 'balaenoptera_musculus_3',\n",
       " 'balaenoptera_acutorostrata_4',\n",
       " 'eschrichtius_robustus_0',\n",
       " 'eubalaena_glacialis_1']"
      ]
     },
     "execution_count": 13,
     "metadata": {},
     "output_type": "execute_result"
    }
   ],
   "execution_count": 13
  },
  {
   "metadata": {
    "ExecuteTime": {
     "end_time": "2025-05-21T13:55:33.999375Z",
     "start_time": "2025-05-21T13:55:33.995767Z"
    }
   },
   "cell_type": "code",
   "source": [
    "prefix = \"../Datasets\"\n",
    "phylum = \"Mysticeti\"\n",
    "postfix = \"ncbi_dataset/data\"\n",
    "nof = \"exons.fa\"\n",
    "\n",
    "# Mysticeti\n",
    "balaenoptera_ricei_2 = analyze_exons(\n",
    "    f\"{prefix}/{phylum}/balaenoptera_ricei_2/{postfix}/{nof}\")  # 110 37 | 9, 10 || 116 43 | 15, 16\n",
    "\n",
    "balaenoptera_musculus_3 = analyze_exons(\n",
    "    f\"{prefix}/{phylum}/balaenoptera_musculus_3/{postfix}/{nof}\")  # 9 экзон ОГРОМНЫЙ 1977 нт || 116 43 | 14, 15\n",
    "\n",
    "balaenoptera_acutorostrata_4 = analyze_exons(\n",
    "    f\"{prefix}/{phylum}/balaenoptera_acutorostrata_4/{postfix}/{nof}\")  # 110 37 | 9, 10 || 116 43 | 15, 16\n",
    "\n",
    "eschrichtius_robustus_0 = analyze_exons(\n",
    "    f\"{prefix}/{phylum}/eschrichtius_robustus_0/{postfix}/{nof}\")  # 110 37 | 9, 10 || 116 43 | 15, 16\n",
    "\n",
    "eubalaena_glacialis_1 = analyze_exons(\n",
    "    f\"{prefix}/{phylum}/eubalaena_glacialis_1/{postfix}/{nof}\")  # 110 37 | 9, 10 || 116 43 | 15, 16\n",
    "\n",
    "# у всех одинаково все, кроме\n",
    "# balaenoptera_musculus_3 - объединение экзонов и интронов?"
   ],
   "id": "914bec237894a93f",
   "outputs": [],
   "execution_count": 14
  },
  {
   "metadata": {
    "ExecuteTime": {
     "end_time": "2025-05-21T13:55:34.048558Z",
     "start_time": "2025-05-21T13:55:34.046987Z"
    }
   },
   "cell_type": "code",
   "source": [
    "data_mysticeti = {\n",
    "    \"balaenoptera_ricei_2\": (balaenoptera_ricei_2, [9, 10]),\n",
    "    \"balaenoptera_acutorostrata_4\": (balaenoptera_acutorostrata_4, [9, 10]),\n",
    "    \"eschrichtius_robustus_0\": (eschrichtius_robustus_0, [9, 10]),\n",
    "    \"eubalaena_glacialis_1\": (eubalaena_glacialis_1, [9, 10]),\n",
    "}"
   ],
   "id": "3939f808ac2d8e8c",
   "outputs": [],
   "execution_count": 15
  },
  {
   "metadata": {
    "ExecuteTime": {
     "end_time": "2025-05-21T13:55:34.103812Z",
     "start_time": "2025-05-21T13:55:34.100966Z"
    }
   },
   "cell_type": "code",
   "source": "mysticeti_introns = create_many_cassettes(\"Mysticeti\", data_mysticeti)",
   "id": "653ba2ae44ec4c5b",
   "outputs": [],
   "execution_count": 16
  },
  {
   "metadata": {
    "ExecuteTime": {
     "end_time": "2025-05-21T13:55:34.157563Z",
     "start_time": "2025-05-21T13:55:34.155215Z"
    }
   },
   "cell_type": "code",
   "source": [
    "prefix = \"../Datasets\"\n",
    "phylum = \"Mysticeti\"\n",
    "postfix = \"ncbi_dataset/data\"\n",
    "align_type = \"cds_cassette\"\n",
    "\n",
    "org_names_mysticeti = os.listdir(f\"{prefix}/Mysticeti\")\n",
    "org_names_mysticeti.remove(\"balaenoptera_musculus_3\")\n",
    "\n",
    "mysticeti_alignment_dict = dict_align_create(phylum, org_names_mysticeti, align_type)\n",
    "mysticeti_alignment_dict_upd = {\n",
    "    \"_\".join(key.split(\"_\")[:-1]).capitalize(): value\n",
    "    for key, value in mysticeti_alignment_dict.items()\n",
    "}\n",
    "\n",
    "os.makedirs(f\"../Alignment/{phylum}\", exist_ok=True)\n",
    "dict_align_to_fasta(mysticeti_alignment_dict_upd, \"../Alignment/Mysticeti/Mysticeti_cds_cassette.fa\")\n",
    "# dict_align_to_fasta(mysticeti_alignment_dict_upd, \"../Alignment/Mysticeti/Mysticeti_cds_cassette.aln\")\n",
    "\n",
    "# выравнилось все, даже интрон"
   ],
   "id": "88690bec45567614",
   "outputs": [],
   "execution_count": 17
  },
  {
   "metadata": {},
   "cell_type": "markdown",
   "source": "---",
   "id": "6efff8f656ff2b8c"
  },
  {
   "metadata": {
    "ExecuteTime": {
     "end_time": "2025-05-21T13:55:34.210432Z",
     "start_time": "2025-05-21T13:55:34.208356Z"
    }
   },
   "cell_type": "code",
   "source": [
    "# удалил Odontoceti/phocoena_sinus_7, phocoena_sinus_6 кажется более полным\n",
    "\n",
    "os.listdir(\"../Datasets/Odontoceti\")"
   ],
   "id": "daf44b9ada8e04a1",
   "outputs": [
    {
     "data": {
      "text/plain": [
       "['delphinus_delphis_4',\n",
       " 'pseudorca_crassidens_0',\n",
       " 'delphinapterus_leucas_11',\n",
       " 'monodon_monoceros_9',\n",
       " 'kogia_breviceps_5',\n",
       " 'lipotes_vexillifer_12',\n",
       " 'globicephala_melas_8',\n",
       " 'orcinus_orca_15',\n",
       " 'lagenorhynchus_albirostris_2',\n",
       " 'tursiops_truncatus_14',\n",
       " 'physeter_macrocephalus_13',\n",
       " 'phocoena_phocoena_1',\n",
       " 'phocoena_sinus_6',\n",
       " 'mesoplodon_densirostris_3',\n",
       " 'neophocaena_asiaeorientalis_asiaeorientalis_10',\n",
       " 'sagmatias_obliquidens_16']"
      ]
     },
     "execution_count": 18,
     "metadata": {},
     "output_type": "execute_result"
    }
   ],
   "execution_count": 18
  },
  {
   "metadata": {},
   "cell_type": "markdown",
   "source": "---",
   "id": "6fcac8101fbebb97"
  },
  {
   "metadata": {
    "ExecuteTime": {
     "end_time": "2025-05-21T13:55:34.269598Z",
     "start_time": "2025-05-21T13:55:34.263920Z"
    }
   },
   "cell_type": "code",
   "source": [
    "prefix = \"../Datasets\"\n",
    "phylum = \"Odontoceti\"\n",
    "postfix = \"ncbi_dataset/data\"\n",
    "nof = \"exons.fa\"\n",
    "\n",
    "# Odontoceti\n",
    "delphinus_delphis_4 = analyze_exons(\n",
    "    f\"{prefix}/{phylum}/delphinus_delphis_4/{postfix}/{nof}\")  # 110 37 | 9, 10 || 116 43 | 15, 16\n",
    "\n",
    "pseudorca_crassidens_0 = analyze_exons(\n",
    "    f\"{prefix}/{phylum}/pseudorca_crassidens_0/{postfix}/{nof}\")  # 110 37 | 9, 10 || 116 43 | 15, 16\n",
    "\n",
    "delphinapterus_leucas_11 = analyze_exons(\n",
    "    f\"{prefix}/{phylum}/delphinapterus_leucas_11/{postfix}/{nof}\")  # 110 37 | 10, 11 || 116 43 | 16, 17\n",
    "\n",
    "monodon_monoceros_9 = analyze_exons(\n",
    "    f\"{prefix}/{phylum}/monodon_monoceros_9/{postfix}/{nof}\")  # 110 37 | 10, 11 || 116 43 | 16, 17\n",
    "\n",
    "kogia_breviceps_5 = analyze_exons(\n",
    "    f\"{prefix}/{phylum}/kogia_breviceps_5/{postfix}/{nof}\")  # 110 37 | 9, 10 || 116 43 | 15, 16\n",
    "\n",
    "lipotes_vexillifer_12 = analyze_exons(\n",
    "    f\"{prefix}/{phylum}/lipotes_vexillifer_12/{postfix}/{nof}\")  # 110 37 | 9, 10 || 116 43 | 15, 16\n",
    "\n",
    "globicephala_melas_8 = analyze_exons(\n",
    "    f\"{prefix}/{phylum}/globicephala_melas_8/{postfix}/{nof}\")  # 110 37 | 9, 10 || 116 43 | 15, 16\n",
    "\n",
    "orcinus_orca_15 = analyze_exons(\n",
    "    f\"{prefix}/{phylum}/orcinus_orca_15/{postfix}/{nof}\")  # 110 37 | 10, 11 || 116 43 | 16, 17\n",
    "\n",
    "lagenorhynchus_albirostris_2 = analyze_exons(\n",
    "    f\"{prefix}/{phylum}/lagenorhynchus_albirostris_2/{postfix}/{nof}\")  # 110 37 | 9, 10 || 116 43 | 15, 16\n",
    "\n",
    "tursiops_truncatus_14 = analyze_exons(\n",
    "    f\"{prefix}/{phylum}/tursiops_truncatus_14/{postfix}/{nof}\")  # 110 37 | 9, 10 || 116 43 | 15, 16\n",
    "\n",
    "physeter_macrocephalus_13 = analyze_exons(\n",
    "    f\"{prefix}/{phylum}/physeter_macrocephalus_13/{postfix}/{nof}\")  # 110 37 | 8, 9 || 116 43 | 14, 15\n",
    "\n",
    "phocoena_phocoena_1 = analyze_exons(\n",
    "    f\"{prefix}/{phylum}/phocoena_phocoena_1/{postfix}/{nof}\")  # 110 37 | 9, 10 || 116 43 | 15, 16\n",
    "\n",
    "phocoena_sinus_6 = analyze_exons(\n",
    "    f\"{prefix}/{phylum}/phocoena_sinus_6/{postfix}/{nof}\")  # 110 37 | 9, 10 || 116 43 | 15, 16\n",
    "\n",
    "mesoplodon_densirostris_3 = analyze_exons(\n",
    "    f\"{prefix}/{phylum}/mesoplodon_densirostris_3/{postfix}/{nof}\")  # 110 37 | 9, 10 || 116 43 | 15, 16\n",
    "\n",
    "neophocaena_asiaeorientalis_asiaeorientalis_10 = analyze_exons(\n",
    "    f\"{prefix}/{phylum}/neophocaena_asiaeorientalis_asiaeorientalis_10/{postfix}/{nof}\")  # 110 37 | 9, 10 || 116 43 | 15, 16\n",
    "\n",
    "sagmatias_obliquidens_16 = analyze_exons(\n",
    "    f\"{prefix}/{phylum}/sagmatias_obliquidens_16/{postfix}/{nof}\")  # 110 37 | 9, 10 || 116 43 | 15, 16"
   ],
   "id": "e3bd5f26c9812ea8",
   "outputs": [],
   "execution_count": 19
  },
  {
   "metadata": {
    "ExecuteTime": {
     "end_time": "2025-05-21T13:55:34.328405Z",
     "start_time": "2025-05-21T13:55:34.326065Z"
    }
   },
   "cell_type": "code",
   "source": [
    "data_odontoceti = {\n",
    "    \"delphinus_delphis_4\": (delphinus_delphis_4, [9, 10]),\n",
    "    \"pseudorca_crassidens_0\": (pseudorca_crassidens_0, [9, 10]),\n",
    "    \"delphinapterus_leucas_11\": (delphinapterus_leucas_11, [10, 11]),\n",
    "    \"monodon_monoceros_9\": (monodon_monoceros_9, [10, 11]),\n",
    "    \"kogia_breviceps_5\": (kogia_breviceps_5, [9, 10]),\n",
    "    \"lipotes_vexillifer_12\": (lipotes_vexillifer_12, [9, 10]),\n",
    "    \"globicephala_melas_8\": (globicephala_melas_8, [9, 10]),\n",
    "    \"orcinus_orca_15\": (orcinus_orca_15, [10, 11]),\n",
    "    \"lagenorhynchus_albirostris_2\": (lagenorhynchus_albirostris_2, [9, 10]),\n",
    "    \"tursiops_truncatus_14\": (tursiops_truncatus_14, [9, 10]),\n",
    "    \"physeter_macrocephalus_13\": (physeter_macrocephalus_13, [8, 9]),\n",
    "    \"phocoena_phocoena_1\": (phocoena_phocoena_1, [9, 10]),\n",
    "    \"phocoena_sinus_6\": (phocoena_sinus_6, [9, 10]),\n",
    "    \"mesoplodon_densirostris_3\": (mesoplodon_densirostris_3, [9, 10]),\n",
    "    \"neophocaena_asiaeorientalis_asiaeorientalis_10\": (neophocaena_asiaeorientalis_asiaeorientalis_10, [9, 10]),\n",
    "    \"sagmatias_obliquidens_16\": (sagmatias_obliquidens_16, [9, 10]),\n",
    "}"
   ],
   "id": "6f52fe8666e664fa",
   "outputs": [],
   "execution_count": 20
  },
  {
   "metadata": {
    "ExecuteTime": {
     "end_time": "2025-05-21T13:55:34.396734Z",
     "start_time": "2025-05-21T13:55:34.389612Z"
    }
   },
   "cell_type": "code",
   "source": "odontoceti_introns = create_many_cassettes(\"Odontoceti\", data_odontoceti)",
   "id": "888bb0ff9b43d9a1",
   "outputs": [],
   "execution_count": 21
  },
  {
   "metadata": {
    "ExecuteTime": {
     "end_time": "2025-05-21T13:55:34.456810Z",
     "start_time": "2025-05-21T13:55:34.454172Z"
    }
   },
   "cell_type": "code",
   "source": [
    "prefix = \"../Datasets\"\n",
    "phylum = \"Odontoceti\"\n",
    "postfix = \"ncbi_dataset/data\"\n",
    "align_type = \"cds_cassette\"\n",
    "\n",
    "org_names = os.listdir(f\"{prefix}/{phylum}\")\n",
    "\n",
    "odontoceti_alignment_dict = dict_align_create(phylum, org_names, align_type)\n",
    "odontoceti_alignment_dict_upd = {\n",
    "    \"_\".join(key.split(\"_\")[:-1]).capitalize(): value\n",
    "    for key, value in odontoceti_alignment_dict.items()\n",
    "}\n",
    "\n",
    "os.makedirs(f\"../Alignment/{phylum}\", exist_ok=True)\n",
    "dict_align_to_fasta(odontoceti_alignment_dict_upd, \"../Alignment/Odontoceti/Odontoceti_cds_cassette.fa\")\n",
    "# dict_align_to_fasta(odontoceti_alignment_dict_upd, \"../Alignment/Odontoceti/Odontoceti_cds_cassette.aln\")"
   ],
   "id": "944d2c12e1e2e25e",
   "outputs": [],
   "execution_count": 22
  },
  {
   "metadata": {},
   "cell_type": "markdown",
   "source": "---",
   "id": "e8cb3b5e3c4fd602"
  },
  {
   "metadata": {
    "ExecuteTime": {
     "end_time": "2025-05-21T13:55:34.519912Z",
     "start_time": "2025-05-21T13:55:34.518145Z"
    }
   },
   "cell_type": "code",
   "source": [
    "prefix = \"../Datasets\"\n",
    "\n",
    "org_names_mysticeti = os.listdir(f\"{prefix}/Mysticeti\")\n",
    "org_names_mysticeti.remove(\"balaenoptera_musculus_3\")\n",
    "\n",
    "org_names_odontoceti = os.listdir(f\"{prefix}/Odontoceti\")\n",
    "\n",
    "dict_align_info = {\n",
    "    \"Mysticeti\": org_names_mysticeti,\n",
    "    \"Odontoceti\": org_names_odontoceti,\n",
    "}"
   ],
   "id": "df5d0c79c72cbec1",
   "outputs": [],
   "execution_count": 23
  },
  {
   "metadata": {
    "ExecuteTime": {
     "end_time": "2025-05-21T13:55:34.589064Z",
     "start_time": "2025-05-21T13:55:34.582569Z"
    }
   },
   "cell_type": "code",
   "source": [
    "# здесь везде должно быть True в столбце equal_to_cds\n",
    "\n",
    "whippomorpha_df_cds, whippomorpha_dict_align_cds = dict_align_info_analyze(dict_align_info, \"cds\")\n",
    "whippomorpha_df_cds"
   ],
   "id": "955c31290880e5ae",
   "outputs": [
    {
     "data": {
      "text/plain": [
       "        phylum                                        org_name  \\\n",
       "0    Mysticeti                            balaenoptera_ricei_2   \n",
       "1    Mysticeti                    balaenoptera_acutorostrata_4   \n",
       "2    Mysticeti                         eschrichtius_robustus_0   \n",
       "3    Mysticeti                           eubalaena_glacialis_1   \n",
       "4   Odontoceti                             delphinus_delphis_4   \n",
       "5   Odontoceti                          pseudorca_crassidens_0   \n",
       "6   Odontoceti                        delphinapterus_leucas_11   \n",
       "7   Odontoceti                             monodon_monoceros_9   \n",
       "8   Odontoceti                               kogia_breviceps_5   \n",
       "9   Odontoceti                           lipotes_vexillifer_12   \n",
       "10  Odontoceti                            globicephala_melas_8   \n",
       "11  Odontoceti                                 orcinus_orca_15   \n",
       "12  Odontoceti                    lagenorhynchus_albirostris_2   \n",
       "13  Odontoceti                           tursiops_truncatus_14   \n",
       "14  Odontoceti                       physeter_macrocephalus_13   \n",
       "15  Odontoceti                             phocoena_phocoena_1   \n",
       "16  Odontoceti                                phocoena_sinus_6   \n",
       "17  Odontoceti                       mesoplodon_densirostris_3   \n",
       "18  Odontoceti  neophocaena_asiaeorientalis_asiaeorientalis_10   \n",
       "19  Odontoceti                        sagmatias_obliquidens_16   \n",
       "\n",
       "    stop_codon_pos  equal_to_cds  cassette_start  length_to_stop_codon  \\\n",
       "0             1869          True              -1                  1870   \n",
       "1             1869          True              -1                  1870   \n",
       "2             1869          True              -1                  1870   \n",
       "3             1860          True              -1                  1861   \n",
       "4             1860          True              -1                  1861   \n",
       "5             1860          True              -1                  1861   \n",
       "6             1860          True              -1                  1861   \n",
       "7             1860          True              -1                  1861   \n",
       "8             1860          True              -1                  1861   \n",
       "9             1860          True              -1                  1861   \n",
       "10            1860          True              -1                  1861   \n",
       "11            1977          True              -1                  1978   \n",
       "12            1962          True              -1                  1963   \n",
       "13            1887          True              -1                  1888   \n",
       "14            1869          True              -1                  1870   \n",
       "15            1860          True              -1                  1861   \n",
       "16            1860          True              -1                  1861   \n",
       "17            1860          True              -1                  1861   \n",
       "18            1860          True              -1                  1861   \n",
       "19            1869          True              -1                  1870   \n",
       "\n",
       "    intron_length  \n",
       "0            1831  \n",
       "1            1835  \n",
       "2            1835  \n",
       "3            1830  \n",
       "4            1825  \n",
       "5            1824  \n",
       "6            1824  \n",
       "7            1828  \n",
       "8            1846  \n",
       "9            1914  \n",
       "10           1825  \n",
       "11           1824  \n",
       "12           1824  \n",
       "13           1826  \n",
       "14           1827  \n",
       "15           1823  \n",
       "16           1825  \n",
       "17           1824  \n",
       "18           1825  \n",
       "19           1825  "
      ],
      "text/html": [
       "<div>\n",
       "<style scoped>\n",
       "    .dataframe tbody tr th:only-of-type {\n",
       "        vertical-align: middle;\n",
       "    }\n",
       "\n",
       "    .dataframe tbody tr th {\n",
       "        vertical-align: top;\n",
       "    }\n",
       "\n",
       "    .dataframe thead th {\n",
       "        text-align: right;\n",
       "    }\n",
       "</style>\n",
       "<table border=\"1\" class=\"dataframe\">\n",
       "  <thead>\n",
       "    <tr style=\"text-align: right;\">\n",
       "      <th></th>\n",
       "      <th>phylum</th>\n",
       "      <th>org_name</th>\n",
       "      <th>stop_codon_pos</th>\n",
       "      <th>equal_to_cds</th>\n",
       "      <th>cassette_start</th>\n",
       "      <th>length_to_stop_codon</th>\n",
       "      <th>intron_length</th>\n",
       "    </tr>\n",
       "  </thead>\n",
       "  <tbody>\n",
       "    <tr>\n",
       "      <th>0</th>\n",
       "      <td>Mysticeti</td>\n",
       "      <td>balaenoptera_ricei_2</td>\n",
       "      <td>1869</td>\n",
       "      <td>True</td>\n",
       "      <td>-1</td>\n",
       "      <td>1870</td>\n",
       "      <td>1831</td>\n",
       "    </tr>\n",
       "    <tr>\n",
       "      <th>1</th>\n",
       "      <td>Mysticeti</td>\n",
       "      <td>balaenoptera_acutorostrata_4</td>\n",
       "      <td>1869</td>\n",
       "      <td>True</td>\n",
       "      <td>-1</td>\n",
       "      <td>1870</td>\n",
       "      <td>1835</td>\n",
       "    </tr>\n",
       "    <tr>\n",
       "      <th>2</th>\n",
       "      <td>Mysticeti</td>\n",
       "      <td>eschrichtius_robustus_0</td>\n",
       "      <td>1869</td>\n",
       "      <td>True</td>\n",
       "      <td>-1</td>\n",
       "      <td>1870</td>\n",
       "      <td>1835</td>\n",
       "    </tr>\n",
       "    <tr>\n",
       "      <th>3</th>\n",
       "      <td>Mysticeti</td>\n",
       "      <td>eubalaena_glacialis_1</td>\n",
       "      <td>1860</td>\n",
       "      <td>True</td>\n",
       "      <td>-1</td>\n",
       "      <td>1861</td>\n",
       "      <td>1830</td>\n",
       "    </tr>\n",
       "    <tr>\n",
       "      <th>4</th>\n",
       "      <td>Odontoceti</td>\n",
       "      <td>delphinus_delphis_4</td>\n",
       "      <td>1860</td>\n",
       "      <td>True</td>\n",
       "      <td>-1</td>\n",
       "      <td>1861</td>\n",
       "      <td>1825</td>\n",
       "    </tr>\n",
       "    <tr>\n",
       "      <th>5</th>\n",
       "      <td>Odontoceti</td>\n",
       "      <td>pseudorca_crassidens_0</td>\n",
       "      <td>1860</td>\n",
       "      <td>True</td>\n",
       "      <td>-1</td>\n",
       "      <td>1861</td>\n",
       "      <td>1824</td>\n",
       "    </tr>\n",
       "    <tr>\n",
       "      <th>6</th>\n",
       "      <td>Odontoceti</td>\n",
       "      <td>delphinapterus_leucas_11</td>\n",
       "      <td>1860</td>\n",
       "      <td>True</td>\n",
       "      <td>-1</td>\n",
       "      <td>1861</td>\n",
       "      <td>1824</td>\n",
       "    </tr>\n",
       "    <tr>\n",
       "      <th>7</th>\n",
       "      <td>Odontoceti</td>\n",
       "      <td>monodon_monoceros_9</td>\n",
       "      <td>1860</td>\n",
       "      <td>True</td>\n",
       "      <td>-1</td>\n",
       "      <td>1861</td>\n",
       "      <td>1828</td>\n",
       "    </tr>\n",
       "    <tr>\n",
       "      <th>8</th>\n",
       "      <td>Odontoceti</td>\n",
       "      <td>kogia_breviceps_5</td>\n",
       "      <td>1860</td>\n",
       "      <td>True</td>\n",
       "      <td>-1</td>\n",
       "      <td>1861</td>\n",
       "      <td>1846</td>\n",
       "    </tr>\n",
       "    <tr>\n",
       "      <th>9</th>\n",
       "      <td>Odontoceti</td>\n",
       "      <td>lipotes_vexillifer_12</td>\n",
       "      <td>1860</td>\n",
       "      <td>True</td>\n",
       "      <td>-1</td>\n",
       "      <td>1861</td>\n",
       "      <td>1914</td>\n",
       "    </tr>\n",
       "    <tr>\n",
       "      <th>10</th>\n",
       "      <td>Odontoceti</td>\n",
       "      <td>globicephala_melas_8</td>\n",
       "      <td>1860</td>\n",
       "      <td>True</td>\n",
       "      <td>-1</td>\n",
       "      <td>1861</td>\n",
       "      <td>1825</td>\n",
       "    </tr>\n",
       "    <tr>\n",
       "      <th>11</th>\n",
       "      <td>Odontoceti</td>\n",
       "      <td>orcinus_orca_15</td>\n",
       "      <td>1977</td>\n",
       "      <td>True</td>\n",
       "      <td>-1</td>\n",
       "      <td>1978</td>\n",
       "      <td>1824</td>\n",
       "    </tr>\n",
       "    <tr>\n",
       "      <th>12</th>\n",
       "      <td>Odontoceti</td>\n",
       "      <td>lagenorhynchus_albirostris_2</td>\n",
       "      <td>1962</td>\n",
       "      <td>True</td>\n",
       "      <td>-1</td>\n",
       "      <td>1963</td>\n",
       "      <td>1824</td>\n",
       "    </tr>\n",
       "    <tr>\n",
       "      <th>13</th>\n",
       "      <td>Odontoceti</td>\n",
       "      <td>tursiops_truncatus_14</td>\n",
       "      <td>1887</td>\n",
       "      <td>True</td>\n",
       "      <td>-1</td>\n",
       "      <td>1888</td>\n",
       "      <td>1826</td>\n",
       "    </tr>\n",
       "    <tr>\n",
       "      <th>14</th>\n",
       "      <td>Odontoceti</td>\n",
       "      <td>physeter_macrocephalus_13</td>\n",
       "      <td>1869</td>\n",
       "      <td>True</td>\n",
       "      <td>-1</td>\n",
       "      <td>1870</td>\n",
       "      <td>1827</td>\n",
       "    </tr>\n",
       "    <tr>\n",
       "      <th>15</th>\n",
       "      <td>Odontoceti</td>\n",
       "      <td>phocoena_phocoena_1</td>\n",
       "      <td>1860</td>\n",
       "      <td>True</td>\n",
       "      <td>-1</td>\n",
       "      <td>1861</td>\n",
       "      <td>1823</td>\n",
       "    </tr>\n",
       "    <tr>\n",
       "      <th>16</th>\n",
       "      <td>Odontoceti</td>\n",
       "      <td>phocoena_sinus_6</td>\n",
       "      <td>1860</td>\n",
       "      <td>True</td>\n",
       "      <td>-1</td>\n",
       "      <td>1861</td>\n",
       "      <td>1825</td>\n",
       "    </tr>\n",
       "    <tr>\n",
       "      <th>17</th>\n",
       "      <td>Odontoceti</td>\n",
       "      <td>mesoplodon_densirostris_3</td>\n",
       "      <td>1860</td>\n",
       "      <td>True</td>\n",
       "      <td>-1</td>\n",
       "      <td>1861</td>\n",
       "      <td>1824</td>\n",
       "    </tr>\n",
       "    <tr>\n",
       "      <th>18</th>\n",
       "      <td>Odontoceti</td>\n",
       "      <td>neophocaena_asiaeorientalis_asiaeorientalis_10</td>\n",
       "      <td>1860</td>\n",
       "      <td>True</td>\n",
       "      <td>-1</td>\n",
       "      <td>1861</td>\n",
       "      <td>1825</td>\n",
       "    </tr>\n",
       "    <tr>\n",
       "      <th>19</th>\n",
       "      <td>Odontoceti</td>\n",
       "      <td>sagmatias_obliquidens_16</td>\n",
       "      <td>1869</td>\n",
       "      <td>True</td>\n",
       "      <td>-1</td>\n",
       "      <td>1870</td>\n",
       "      <td>1825</td>\n",
       "    </tr>\n",
       "  </tbody>\n",
       "</table>\n",
       "</div>"
      ]
     },
     "execution_count": 24,
     "metadata": {},
     "output_type": "execute_result"
    }
   ],
   "execution_count": 24
  },
  {
   "metadata": {
    "ExecuteTime": {
     "end_time": "2025-05-21T13:55:34.673551Z",
     "start_time": "2025-05-21T13:55:34.667293Z"
    }
   },
   "cell_type": "code",
   "source": [
    "whippomorpha_df_cds_cassette, whippomorpha_dict_align_cds_cassette = dict_align_info_analyze(dict_align_info, \"cds_cassette\")\n",
    "whippomorpha_df_cds_cassette"
   ],
   "id": "f25784d0310ef9bb",
   "outputs": [
    {
     "data": {
      "text/plain": [
       "        phylum                                        org_name  \\\n",
       "0    Mysticeti                            balaenoptera_ricei_2   \n",
       "1    Mysticeti                    balaenoptera_acutorostrata_4   \n",
       "2    Mysticeti                         eschrichtius_robustus_0   \n",
       "3    Mysticeti                           eubalaena_glacialis_1   \n",
       "4   Odontoceti                             delphinus_delphis_4   \n",
       "5   Odontoceti                          pseudorca_crassidens_0   \n",
       "6   Odontoceti                        delphinapterus_leucas_11   \n",
       "7   Odontoceti                             monodon_monoceros_9   \n",
       "8   Odontoceti                               kogia_breviceps_5   \n",
       "9   Odontoceti                           lipotes_vexillifer_12   \n",
       "10  Odontoceti                            globicephala_melas_8   \n",
       "11  Odontoceti                                 orcinus_orca_15   \n",
       "12  Odontoceti                    lagenorhynchus_albirostris_2   \n",
       "13  Odontoceti                           tursiops_truncatus_14   \n",
       "14  Odontoceti                       physeter_macrocephalus_13   \n",
       "15  Odontoceti                             phocoena_phocoena_1   \n",
       "16  Odontoceti                                phocoena_sinus_6   \n",
       "17  Odontoceti                       mesoplodon_densirostris_3   \n",
       "18  Odontoceti  neophocaena_asiaeorientalis_asiaeorientalis_10   \n",
       "19  Odontoceti                        sagmatias_obliquidens_16   \n",
       "\n",
       "    stop_codon_pos  equal_to_cds  cassette_start  length_to_stop_codon  \\\n",
       "0             1080         False            1028                    52   \n",
       "1             1080         False            1028                    52   \n",
       "2             1080         False            1028                    52   \n",
       "3             1071         False            1019                    52   \n",
       "4             1071         False            1019                    52   \n",
       "5             1071         False            1019                    52   \n",
       "6             1071         False            1019                    52   \n",
       "7             1071         False            1019                    52   \n",
       "8             1071         False            1019                    52   \n",
       "9             1071         False            1019                    52   \n",
       "10            1071         False            1019                    52   \n",
       "11            1071         False            1019                    52   \n",
       "12            1164         False            1121                    43   \n",
       "13            1098         False            1046                    52   \n",
       "14            1098         False            1028                    70   \n",
       "15            1071         False            1019                    52   \n",
       "16            1071         False            1019                    52   \n",
       "17            1071         False            1019                    52   \n",
       "18            1071         False            1019                    52   \n",
       "19            1080         False            1028                    52   \n",
       "\n",
       "    intron_length  \n",
       "0            1831  \n",
       "1            1835  \n",
       "2            1835  \n",
       "3            1830  \n",
       "4            1825  \n",
       "5            1824  \n",
       "6            1824  \n",
       "7            1828  \n",
       "8            1846  \n",
       "9            1914  \n",
       "10           1825  \n",
       "11           1824  \n",
       "12           1824  \n",
       "13           1826  \n",
       "14           1827  \n",
       "15           1823  \n",
       "16           1825  \n",
       "17           1824  \n",
       "18           1825  \n",
       "19           1825  "
      ],
      "text/html": [
       "<div>\n",
       "<style scoped>\n",
       "    .dataframe tbody tr th:only-of-type {\n",
       "        vertical-align: middle;\n",
       "    }\n",
       "\n",
       "    .dataframe tbody tr th {\n",
       "        vertical-align: top;\n",
       "    }\n",
       "\n",
       "    .dataframe thead th {\n",
       "        text-align: right;\n",
       "    }\n",
       "</style>\n",
       "<table border=\"1\" class=\"dataframe\">\n",
       "  <thead>\n",
       "    <tr style=\"text-align: right;\">\n",
       "      <th></th>\n",
       "      <th>phylum</th>\n",
       "      <th>org_name</th>\n",
       "      <th>stop_codon_pos</th>\n",
       "      <th>equal_to_cds</th>\n",
       "      <th>cassette_start</th>\n",
       "      <th>length_to_stop_codon</th>\n",
       "      <th>intron_length</th>\n",
       "    </tr>\n",
       "  </thead>\n",
       "  <tbody>\n",
       "    <tr>\n",
       "      <th>0</th>\n",
       "      <td>Mysticeti</td>\n",
       "      <td>balaenoptera_ricei_2</td>\n",
       "      <td>1080</td>\n",
       "      <td>False</td>\n",
       "      <td>1028</td>\n",
       "      <td>52</td>\n",
       "      <td>1831</td>\n",
       "    </tr>\n",
       "    <tr>\n",
       "      <th>1</th>\n",
       "      <td>Mysticeti</td>\n",
       "      <td>balaenoptera_acutorostrata_4</td>\n",
       "      <td>1080</td>\n",
       "      <td>False</td>\n",
       "      <td>1028</td>\n",
       "      <td>52</td>\n",
       "      <td>1835</td>\n",
       "    </tr>\n",
       "    <tr>\n",
       "      <th>2</th>\n",
       "      <td>Mysticeti</td>\n",
       "      <td>eschrichtius_robustus_0</td>\n",
       "      <td>1080</td>\n",
       "      <td>False</td>\n",
       "      <td>1028</td>\n",
       "      <td>52</td>\n",
       "      <td>1835</td>\n",
       "    </tr>\n",
       "    <tr>\n",
       "      <th>3</th>\n",
       "      <td>Mysticeti</td>\n",
       "      <td>eubalaena_glacialis_1</td>\n",
       "      <td>1071</td>\n",
       "      <td>False</td>\n",
       "      <td>1019</td>\n",
       "      <td>52</td>\n",
       "      <td>1830</td>\n",
       "    </tr>\n",
       "    <tr>\n",
       "      <th>4</th>\n",
       "      <td>Odontoceti</td>\n",
       "      <td>delphinus_delphis_4</td>\n",
       "      <td>1071</td>\n",
       "      <td>False</td>\n",
       "      <td>1019</td>\n",
       "      <td>52</td>\n",
       "      <td>1825</td>\n",
       "    </tr>\n",
       "    <tr>\n",
       "      <th>5</th>\n",
       "      <td>Odontoceti</td>\n",
       "      <td>pseudorca_crassidens_0</td>\n",
       "      <td>1071</td>\n",
       "      <td>False</td>\n",
       "      <td>1019</td>\n",
       "      <td>52</td>\n",
       "      <td>1824</td>\n",
       "    </tr>\n",
       "    <tr>\n",
       "      <th>6</th>\n",
       "      <td>Odontoceti</td>\n",
       "      <td>delphinapterus_leucas_11</td>\n",
       "      <td>1071</td>\n",
       "      <td>False</td>\n",
       "      <td>1019</td>\n",
       "      <td>52</td>\n",
       "      <td>1824</td>\n",
       "    </tr>\n",
       "    <tr>\n",
       "      <th>7</th>\n",
       "      <td>Odontoceti</td>\n",
       "      <td>monodon_monoceros_9</td>\n",
       "      <td>1071</td>\n",
       "      <td>False</td>\n",
       "      <td>1019</td>\n",
       "      <td>52</td>\n",
       "      <td>1828</td>\n",
       "    </tr>\n",
       "    <tr>\n",
       "      <th>8</th>\n",
       "      <td>Odontoceti</td>\n",
       "      <td>kogia_breviceps_5</td>\n",
       "      <td>1071</td>\n",
       "      <td>False</td>\n",
       "      <td>1019</td>\n",
       "      <td>52</td>\n",
       "      <td>1846</td>\n",
       "    </tr>\n",
       "    <tr>\n",
       "      <th>9</th>\n",
       "      <td>Odontoceti</td>\n",
       "      <td>lipotes_vexillifer_12</td>\n",
       "      <td>1071</td>\n",
       "      <td>False</td>\n",
       "      <td>1019</td>\n",
       "      <td>52</td>\n",
       "      <td>1914</td>\n",
       "    </tr>\n",
       "    <tr>\n",
       "      <th>10</th>\n",
       "      <td>Odontoceti</td>\n",
       "      <td>globicephala_melas_8</td>\n",
       "      <td>1071</td>\n",
       "      <td>False</td>\n",
       "      <td>1019</td>\n",
       "      <td>52</td>\n",
       "      <td>1825</td>\n",
       "    </tr>\n",
       "    <tr>\n",
       "      <th>11</th>\n",
       "      <td>Odontoceti</td>\n",
       "      <td>orcinus_orca_15</td>\n",
       "      <td>1071</td>\n",
       "      <td>False</td>\n",
       "      <td>1019</td>\n",
       "      <td>52</td>\n",
       "      <td>1824</td>\n",
       "    </tr>\n",
       "    <tr>\n",
       "      <th>12</th>\n",
       "      <td>Odontoceti</td>\n",
       "      <td>lagenorhynchus_albirostris_2</td>\n",
       "      <td>1164</td>\n",
       "      <td>False</td>\n",
       "      <td>1121</td>\n",
       "      <td>43</td>\n",
       "      <td>1824</td>\n",
       "    </tr>\n",
       "    <tr>\n",
       "      <th>13</th>\n",
       "      <td>Odontoceti</td>\n",
       "      <td>tursiops_truncatus_14</td>\n",
       "      <td>1098</td>\n",
       "      <td>False</td>\n",
       "      <td>1046</td>\n",
       "      <td>52</td>\n",
       "      <td>1826</td>\n",
       "    </tr>\n",
       "    <tr>\n",
       "      <th>14</th>\n",
       "      <td>Odontoceti</td>\n",
       "      <td>physeter_macrocephalus_13</td>\n",
       "      <td>1098</td>\n",
       "      <td>False</td>\n",
       "      <td>1028</td>\n",
       "      <td>70</td>\n",
       "      <td>1827</td>\n",
       "    </tr>\n",
       "    <tr>\n",
       "      <th>15</th>\n",
       "      <td>Odontoceti</td>\n",
       "      <td>phocoena_phocoena_1</td>\n",
       "      <td>1071</td>\n",
       "      <td>False</td>\n",
       "      <td>1019</td>\n",
       "      <td>52</td>\n",
       "      <td>1823</td>\n",
       "    </tr>\n",
       "    <tr>\n",
       "      <th>16</th>\n",
       "      <td>Odontoceti</td>\n",
       "      <td>phocoena_sinus_6</td>\n",
       "      <td>1071</td>\n",
       "      <td>False</td>\n",
       "      <td>1019</td>\n",
       "      <td>52</td>\n",
       "      <td>1825</td>\n",
       "    </tr>\n",
       "    <tr>\n",
       "      <th>17</th>\n",
       "      <td>Odontoceti</td>\n",
       "      <td>mesoplodon_densirostris_3</td>\n",
       "      <td>1071</td>\n",
       "      <td>False</td>\n",
       "      <td>1019</td>\n",
       "      <td>52</td>\n",
       "      <td>1824</td>\n",
       "    </tr>\n",
       "    <tr>\n",
       "      <th>18</th>\n",
       "      <td>Odontoceti</td>\n",
       "      <td>neophocaena_asiaeorientalis_asiaeorientalis_10</td>\n",
       "      <td>1071</td>\n",
       "      <td>False</td>\n",
       "      <td>1019</td>\n",
       "      <td>52</td>\n",
       "      <td>1825</td>\n",
       "    </tr>\n",
       "    <tr>\n",
       "      <th>19</th>\n",
       "      <td>Odontoceti</td>\n",
       "      <td>sagmatias_obliquidens_16</td>\n",
       "      <td>1080</td>\n",
       "      <td>False</td>\n",
       "      <td>1028</td>\n",
       "      <td>52</td>\n",
       "      <td>1825</td>\n",
       "    </tr>\n",
       "  </tbody>\n",
       "</table>\n",
       "</div>"
      ]
     },
     "execution_count": 25,
     "metadata": {},
     "output_type": "execute_result"
    }
   ],
   "execution_count": 25
  },
  {
   "metadata": {
    "ExecuteTime": {
     "end_time": "2025-05-21T13:55:34.745367Z",
     "start_time": "2025-05-21T13:55:34.743729Z"
    }
   },
   "cell_type": "code",
   "source": [
    "dict_align_to_fasta_upd(whippomorpha_dict_align_cds_cassette, \"../Alignment/Whippomorpha_cds_cassette.fa\")\n",
    "# dict_align_to_fasta_upd(whippomorpha_dict_align_cds_cassette, \"../Alignment/Whippomorpha_cds_cassette.aln\")"
   ],
   "id": "caca8420559d45d6",
   "outputs": [],
   "execution_count": 26
  },
  {
   "metadata": {},
   "cell_type": "markdown",
   "source": "---",
   "id": "7fa9a6373cbe890a"
  },
  {
   "metadata": {
    "ExecuteTime": {
     "end_time": "2025-05-21T13:55:34.819254Z",
     "start_time": "2025-05-21T13:55:34.816956Z"
    }
   },
   "cell_type": "code",
   "source": [
    "prefix = \"../Datasets\"\n",
    "phylum = \"Mysticeti\"\n",
    "postfix = \"ncbi_dataset/data\"\n",
    "align_type = \"protein\"\n",
    "\n",
    "org_names = os.listdir(f\"{prefix}/{phylum}\")\n",
    "org_names.remove(\"balaenoptera_musculus_3\")\n",
    "\n",
    "alignment_dict = dict_align_create(phylum, org_names, align_type)\n",
    "alignment_dict_upd = {\n",
    "    \"_\".join(key.split(\"_\")[:-1]).capitalize(): value\n",
    "    for key, value in alignment_dict.items()\n",
    "}\n",
    "\n",
    "dict_align_to_fasta(alignment_dict_upd, f\"../Alignment/{phylum}/{phylum}_protein.fa\")\n",
    "# dict_align_to_fasta(alignment_dict_upd, f\"../Alignment/{phylum}/{phylum}_protein.aln\")"
   ],
   "id": "c276e344e50e6530",
   "outputs": [],
   "execution_count": 27
  },
  {
   "metadata": {
    "ExecuteTime": {
     "end_time": "2025-05-21T13:55:34.870910Z",
     "start_time": "2025-05-21T13:55:34.868400Z"
    }
   },
   "cell_type": "code",
   "source": [
    "prefix = \"../Datasets\"\n",
    "phylum = \"Odontoceti\"\n",
    "postfix = \"ncbi_dataset/data\"\n",
    "align_type = \"protein\"\n",
    "\n",
    "org_names = os.listdir(f\"{prefix}/{phylum}\")\n",
    "\n",
    "alignment_dict = dict_align_create(phylum, org_names, align_type)\n",
    "alignment_dict_upd = {\n",
    "    \"_\".join(key.split(\"_\")[:-1]).capitalize(): value\n",
    "    for key, value in alignment_dict.items()\n",
    "}\n",
    "\n",
    "dict_align_to_fasta(alignment_dict_upd, f\"../Alignment/{phylum}/{phylum}_protein.fa\")\n",
    "# dict_align_to_fasta(alignment_dict_upd, f\"../Alignment/{phylum}/{phylum}_protein.aln\")"
   ],
   "id": "7503a8c7afa98ecf",
   "outputs": [],
   "execution_count": 28
  },
  {
   "metadata": {},
   "cell_type": "markdown",
   "source": "---",
   "id": "7d9e5c90ebff8bdc"
  },
  {
   "metadata": {
    "ExecuteTime": {
     "end_time": "2025-05-21T13:55:34.913314Z",
     "start_time": "2025-05-21T13:55:34.910257Z"
    }
   },
   "cell_type": "code",
   "source": [
    "prefix = \"../Datasets\"\n",
    "phylum = \"Mysticeti\"\n",
    "postfix = \"ncbi_dataset/data\"\n",
    "\n",
    "org_names = os.listdir(f\"{prefix}/{phylum}\")\n",
    "org_names.remove(\"balaenoptera_musculus_3\")\n",
    "\n",
    "alignment_dict = {}\n",
    "for org_name in org_names:\n",
    "    data = obtain_data(phylum, org_name)\n",
    "    formatted_org_name = org_name.rsplit(\"_\", 1)[0].capitalize()\n",
    "    alignment_dict[formatted_org_name] = data[\"protein_sliced\"]\n",
    "\n",
    "dict_align_to_fasta(alignment_dict, f\"../Alignment/{phylum}/{phylum}_protein_sliced.fa\")\n",
    "# dict_align_to_fasta(alignment_dict, f\"../Alignment/{phylum}/{phylum}_protein_sliced.aln\")"
   ],
   "id": "4a8f9e0b7cd4f8da",
   "outputs": [],
   "execution_count": 29
  },
  {
   "metadata": {
    "ExecuteTime": {
     "end_time": "2025-05-21T13:55:34.981986Z",
     "start_time": "2025-05-21T13:55:34.976773Z"
    }
   },
   "cell_type": "code",
   "source": [
    "prefix = \"../Datasets\"\n",
    "phylum = \"Odontoceti\"\n",
    "postfix = \"ncbi_dataset/data\"\n",
    "\n",
    "org_names = os.listdir(f\"{prefix}/{phylum}\")\n",
    "\n",
    "alignment_dict = {}\n",
    "for org_name in org_names:\n",
    "    data = obtain_data(phylum, org_name)\n",
    "    formatted_org_name = org_name.rsplit(\"_\", 1)[0].capitalize()\n",
    "    alignment_dict[formatted_org_name] = data[\"protein_sliced\"]\n",
    "\n",
    "dict_align_to_fasta(alignment_dict, f\"../Alignment/{phylum}/{phylum}_protein_sliced.fa\")\n",
    "# dict_align_to_fasta(alignment_dict, f\"../Alignment/{phylum}/{phylum}_protein_sliced.aln\")"
   ],
   "id": "90a2aa38cd45728a",
   "outputs": [],
   "execution_count": 30
  },
  {
   "metadata": {},
   "cell_type": "markdown",
   "source": "---",
   "id": "c65f50221df5eb3f"
  },
  {
   "metadata": {},
   "cell_type": "markdown",
   "source": "### RNAfold",
   "id": "d5a80a52dc6e0266"
  },
  {
   "metadata": {
    "ExecuteTime": {
     "end_time": "2025-05-21T13:55:35.048736Z",
     "start_time": "2025-05-21T13:55:35.046121Z"
    }
   },
   "cell_type": "code",
   "source": [
    "prefix = \"../Datasets\"\n",
    "phylum = \"Mysticeti\"\n",
    "postfix = \"ncbi_dataset/data\"\n",
    "\n",
    "org_names = os.listdir(f\"{prefix}/{phylum}\")\n",
    "org_names.remove(\"balaenoptera_musculus_3\")\n",
    "\n",
    "alignment_dict = {}\n",
    "for org_name in org_names:\n",
    "    formatted_org_name = org_name.rsplit(\"_\", 1)[0].capitalize()\n",
    "    alignment_dict[formatted_org_name] = mysticeti_introns[org_name]\n",
    "\n",
    "dict_align_to_fasta(alignment_dict, f\"../Alignment/{phylum}/{phylum}_introns.fa\")\n",
    "# dict_align_to_fasta(alignment_dict, f\"../Alignment/{phylum}/{phylum}_introns.aln\")"
   ],
   "id": "53d344f795aca9d7",
   "outputs": [],
   "execution_count": 31
  },
  {
   "metadata": {
    "ExecuteTime": {
     "end_time": "2025-05-21T13:55:35.113157Z",
     "start_time": "2025-05-21T13:55:35.111745Z"
    }
   },
   "cell_type": "code",
   "source": [
    "# prefix = \"../Alignment\"\n",
    "# phylum = \"Mysticeti\"\n",
    "#\n",
    "# run_rnafold_with_highlight(\n",
    "#     Path(f\"{prefix}/{phylum}/{phylum}_cds_cassette.fa\"),\n",
    "#     Path(f\"{prefix}/{phylum}/{phylum}_introns.fa\"),\n",
    "#     Path(f\"../rnafold_output/{phylum}_cds_cassette\")\n",
    "# )"
   ],
   "id": "b773c68ef7fde845",
   "outputs": [],
   "execution_count": 32
  },
  {
   "metadata": {
    "ExecuteTime": {
     "end_time": "2025-05-21T13:55:35.182574Z",
     "start_time": "2025-05-21T13:55:35.180501Z"
    }
   },
   "cell_type": "code",
   "source": [
    "prefix = \"../Datasets\"\n",
    "phylum = \"Odontoceti\"\n",
    "postfix = \"ncbi_dataset/data\"\n",
    "\n",
    "org_names = os.listdir(f\"{prefix}/{phylum}\")\n",
    "\n",
    "alignment_dict = {}\n",
    "for org_name in org_names:\n",
    "    formatted_org_name = org_name.rsplit(\"_\", 1)[0].capitalize()\n",
    "    alignment_dict[formatted_org_name] = odontoceti_introns[org_name]\n",
    "\n",
    "dict_align_to_fasta(alignment_dict, f\"../Alignment/{phylum}/{phylum}_introns.fa\")\n",
    "# dict_align_to_fasta(alignment_dict, f\"../Alignment/{phylum}/{phylum}_introns.aln\")"
   ],
   "id": "df873f8055652049",
   "outputs": [],
   "execution_count": 33
  },
  {
   "metadata": {
    "ExecuteTime": {
     "end_time": "2025-05-21T13:55:35.247993Z",
     "start_time": "2025-05-21T13:55:35.246437Z"
    }
   },
   "cell_type": "code",
   "source": [
    "# prefix = \"../Alignment\"\n",
    "# phylum = \"Odontoceti\"\n",
    "#\n",
    "# run_rnafold_with_highlight(\n",
    "#     Path(f\"{prefix}/{phylum}/{phylum}_cds_cassette.fa\"),\n",
    "#     Path(f\"{prefix}/{phylum}/{phylum}_introns.fa\"),\n",
    "#     Path(f\"../rnafold_output/{phylum}_cds_cassette\")\n",
    "# )"
   ],
   "id": "af6db7c8a5d3c7ca",
   "outputs": [],
   "execution_count": 34
  },
  {
   "metadata": {},
   "cell_type": "markdown",
   "source": "---",
   "id": "26a6030b14d491dd"
  },
  {
   "metadata": {},
   "cell_type": "markdown",
   "source": "### Homo sapiens",
   "id": "c22b392a11e853d8"
  },
  {
   "metadata": {
    "ExecuteTime": {
     "end_time": "2025-05-21T13:55:35.315185Z",
     "start_time": "2025-05-21T13:55:35.313337Z"
    }
   },
   "cell_type": "code",
   "source": "df_homo = df_taxonomy[df_taxonomy.taxonomy.str.contains(\"Homo\")]",
   "id": "3c079aeee5b33af2",
   "outputs": [],
   "execution_count": 35
  },
  {
   "metadata": {
    "ExecuteTime": {
     "end_time": "2025-05-21T13:55:35.451121Z",
     "start_time": "2025-05-21T13:55:35.448616Z"
    }
   },
   "cell_type": "code",
   "source": [
    "homo_taxids = {\n",
    "    \"Homo\": df_homo.index.tolist(),\n",
    "}\n",
    "\n",
    "df_homo_subset = df.loc[homo_taxids[\"Homo\"]]\n",
    "df_homo_subset_nxf1 = df_homo_subset[df_homo_subset[\"symbol\"] == \"NXF1\"]"
   ],
   "id": "909222576528780e",
   "outputs": [],
   "execution_count": 37
  },
  {
   "metadata": {
    "ExecuteTime": {
     "end_time": "2025-05-21T13:55:35.521112Z",
     "start_time": "2025-05-21T13:55:35.519789Z"
    }
   },
   "cell_type": "code",
   "source": "# download_all_files_ncbi(df_homo_subset_nxf1, homo_taxids, phylas=list(homo_taxids.keys()))",
   "id": "104b5db69f0f06c4",
   "outputs": [],
   "execution_count": 38
  },
  {
   "metadata": {
    "ExecuteTime": {
     "end_time": "2025-05-21T13:57:07.781004Z",
     "start_time": "2025-05-21T13:57:07.779218Z"
    }
   },
   "cell_type": "code",
   "source": [
    "# после изменения эта функция не должна ничего печатать\n",
    "homo_species_to_update = check_transcript_count([\"Homo\"])"
   ],
   "id": "8911a26f5561d29d",
   "outputs": [],
   "execution_count": 41
  },
  {
   "metadata": {
    "ExecuteTime": {
     "end_time": "2025-05-21T13:57:05.913399Z",
     "start_time": "2025-05-21T13:57:05.911175Z"
    }
   },
   "cell_type": "code",
   "source": "update_data_for_species(homo_species_to_update)",
   "id": "e3aabd8c94c8e7cc",
   "outputs": [],
   "execution_count": 40
  },
  {
   "metadata": {
    "ExecuteTime": {
     "end_time": "2025-05-21T13:58:03.017168Z",
     "start_time": "2025-05-21T13:58:03.014591Z"
    }
   },
   "cell_type": "code",
   "source": [
    "prefix = \"../Datasets\"\n",
    "phylum = \"Homo\"\n",
    "postfix = \"ncbi_dataset/data\"\n",
    "nof = \"exons.fa\"\n",
    "\n",
    "# Homo\n",
    "homo_sapiens_0 = analyze_exons(\n",
    "    f\"{prefix}/{phylum}/homo_sapiens_0/{postfix}/{nof}\")  # 110 37 | 9, 10 || 116 43 | 15, 16"
   ],
   "id": "a8c5c03d107909a3",
   "outputs": [],
   "execution_count": 42
  },
  {
   "metadata": {
    "ExecuteTime": {
     "end_time": "2025-05-21T13:59:34.986454Z",
     "start_time": "2025-05-21T13:59:34.984657Z"
    }
   },
   "cell_type": "code",
   "source": [
    "data_homo = {\n",
    "    \"homo_sapiens_0\": (homo_sapiens_0, [9, 10]),\n",
    "}"
   ],
   "id": "8cb4519beb546ff0",
   "outputs": [],
   "execution_count": 43
  },
  {
   "metadata": {
    "ExecuteTime": {
     "end_time": "2025-05-21T13:59:47.735615Z",
     "start_time": "2025-05-21T13:59:47.733332Z"
    }
   },
   "cell_type": "code",
   "source": "homo_introns = create_many_cassettes(\"Homo\", data_homo)",
   "id": "e10b42f621e0177f",
   "outputs": [],
   "execution_count": 44
  },
  {
   "metadata": {
    "ExecuteTime": {
     "end_time": "2025-05-21T14:01:26.585430Z",
     "start_time": "2025-05-21T14:01:26.582737Z"
    }
   },
   "cell_type": "code",
   "source": [
    "prefix = \"../Datasets\"\n",
    "phylum = \"Homo\"\n",
    "postfix = \"ncbi_dataset/data\"\n",
    "align_type = \"cds_cassette\"\n",
    "\n",
    "org_names_homo = os.listdir(f\"{prefix}/{phylum}\")\n",
    "\n",
    "homo_alignment_dict = dict_align_create(phylum, org_names_homo, align_type)\n",
    "homo_alignment_dict_upd = {\n",
    "    \"_\".join(key.split(\"_\")[:-1]).capitalize(): value\n",
    "    for key, value in homo_alignment_dict.items()\n",
    "}\n",
    "\n",
    "os.makedirs(f\"../Alignment/{phylum}\", exist_ok=True)\n",
    "dict_align_to_fasta(homo_alignment_dict_upd, \"../Alignment/Homo/Homo_cds_cassette.fa\")\n",
    "# dict_align_to_fasta(homo_alignment_dict_upd, \"../Alignment/Homo/Homo_cds_cassette.aln\")"
   ],
   "id": "38ccfa8579387474",
   "outputs": [],
   "execution_count": 46
  },
  {
   "metadata": {
    "ExecuteTime": {
     "end_time": "2025-05-21T14:03:46.578021Z",
     "start_time": "2025-05-21T14:03:46.576301Z"
    }
   },
   "cell_type": "code",
   "source": [
    "dict_align_info = {\n",
    "    \"Homo\": org_names_homo,\n",
    "}"
   ],
   "id": "9e037c9f82864ab9",
   "outputs": [],
   "execution_count": 48
  },
  {
   "metadata": {
    "ExecuteTime": {
     "end_time": "2025-05-21T14:03:47.817296Z",
     "start_time": "2025-05-21T14:03:47.812685Z"
    }
   },
   "cell_type": "code",
   "source": [
    "homo_df_cds_cassette, homo_dict_align_cds_cassette = dict_align_info_analyze(dict_align_info, \"cds\")\n",
    "homo_df_cds_cassette"
   ],
   "id": "690cf776ecc18248",
   "outputs": [
    {
     "data": {
      "text/plain": [
       "  phylum        org_name  stop_codon_pos  equal_to_cds  cassette_start  \\\n",
       "0   Homo  homo_sapiens_0            1815          True              -1   \n",
       "\n",
       "   length_to_stop_codon  intron_length  \n",
       "0                  1816           1801  "
      ],
      "text/html": [
       "<div>\n",
       "<style scoped>\n",
       "    .dataframe tbody tr th:only-of-type {\n",
       "        vertical-align: middle;\n",
       "    }\n",
       "\n",
       "    .dataframe tbody tr th {\n",
       "        vertical-align: top;\n",
       "    }\n",
       "\n",
       "    .dataframe thead th {\n",
       "        text-align: right;\n",
       "    }\n",
       "</style>\n",
       "<table border=\"1\" class=\"dataframe\">\n",
       "  <thead>\n",
       "    <tr style=\"text-align: right;\">\n",
       "      <th></th>\n",
       "      <th>phylum</th>\n",
       "      <th>org_name</th>\n",
       "      <th>stop_codon_pos</th>\n",
       "      <th>equal_to_cds</th>\n",
       "      <th>cassette_start</th>\n",
       "      <th>length_to_stop_codon</th>\n",
       "      <th>intron_length</th>\n",
       "    </tr>\n",
       "  </thead>\n",
       "  <tbody>\n",
       "    <tr>\n",
       "      <th>0</th>\n",
       "      <td>Homo</td>\n",
       "      <td>homo_sapiens_0</td>\n",
       "      <td>1815</td>\n",
       "      <td>True</td>\n",
       "      <td>-1</td>\n",
       "      <td>1816</td>\n",
       "      <td>1801</td>\n",
       "    </tr>\n",
       "  </tbody>\n",
       "</table>\n",
       "</div>"
      ]
     },
     "execution_count": 49,
     "metadata": {},
     "output_type": "execute_result"
    }
   ],
   "execution_count": 49
  },
  {
   "metadata": {
    "ExecuteTime": {
     "end_time": "2025-05-21T14:03:59.728796Z",
     "start_time": "2025-05-21T14:03:59.723919Z"
    }
   },
   "cell_type": "code",
   "source": [
    "homo_df_cds_cassette, homo_dict_align_cds_cassette = dict_align_info_analyze(dict_align_info, \"cds_cassette\")\n",
    "homo_df_cds_cassette"
   ],
   "id": "e96c8a5734ddf4de",
   "outputs": [
    {
     "data": {
      "text/plain": [
       "  phylum        org_name  stop_codon_pos  equal_to_cds  cassette_start  \\\n",
       "0   Homo  homo_sapiens_0            1068         False            1016   \n",
       "\n",
       "   length_to_stop_codon  intron_length  \n",
       "0                    52           1801  "
      ],
      "text/html": [
       "<div>\n",
       "<style scoped>\n",
       "    .dataframe tbody tr th:only-of-type {\n",
       "        vertical-align: middle;\n",
       "    }\n",
       "\n",
       "    .dataframe tbody tr th {\n",
       "        vertical-align: top;\n",
       "    }\n",
       "\n",
       "    .dataframe thead th {\n",
       "        text-align: right;\n",
       "    }\n",
       "</style>\n",
       "<table border=\"1\" class=\"dataframe\">\n",
       "  <thead>\n",
       "    <tr style=\"text-align: right;\">\n",
       "      <th></th>\n",
       "      <th>phylum</th>\n",
       "      <th>org_name</th>\n",
       "      <th>stop_codon_pos</th>\n",
       "      <th>equal_to_cds</th>\n",
       "      <th>cassette_start</th>\n",
       "      <th>length_to_stop_codon</th>\n",
       "      <th>intron_length</th>\n",
       "    </tr>\n",
       "  </thead>\n",
       "  <tbody>\n",
       "    <tr>\n",
       "      <th>0</th>\n",
       "      <td>Homo</td>\n",
       "      <td>homo_sapiens_0</td>\n",
       "      <td>1068</td>\n",
       "      <td>False</td>\n",
       "      <td>1016</td>\n",
       "      <td>52</td>\n",
       "      <td>1801</td>\n",
       "    </tr>\n",
       "  </tbody>\n",
       "</table>\n",
       "</div>"
      ]
     },
     "execution_count": 50,
     "metadata": {},
     "output_type": "execute_result"
    }
   ],
   "execution_count": 50
  },
  {
   "metadata": {},
   "cell_type": "code",
   "outputs": [],
   "execution_count": null,
   "source": "",
   "id": "94412c475184059a"
  },
  {
   "metadata": {},
   "cell_type": "code",
   "outputs": [],
   "execution_count": null,
   "source": "",
   "id": "aca31c32c9777db2"
  }
 ],
 "metadata": {
  "kernelspec": {
   "display_name": "Python 3",
   "language": "python",
   "name": "python3"
  },
  "language_info": {
   "codemirror_mode": {
    "name": "ipython",
    "version": 2
   },
   "file_extension": ".py",
   "mimetype": "text/x-python",
   "name": "python",
   "nbconvert_exporter": "python",
   "pygments_lexer": "ipython2",
   "version": "2.7.6"
  }
 },
 "nbformat": 4,
 "nbformat_minor": 5
}
