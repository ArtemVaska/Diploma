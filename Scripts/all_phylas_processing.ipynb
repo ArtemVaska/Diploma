{
 "cells": [
  {
   "cell_type": "code",
   "id": "initial_id",
   "metadata": {
    "collapsed": true,
    "ExecuteTime": {
     "end_time": "2025-04-28T11:39:40.996826Z",
     "start_time": "2025-04-28T11:39:40.765608Z"
    }
   },
   "source": [
    "import pandas as pd\n",
    "\n",
    "from datasets import select_all_phylas, download_all_files_ncbi\n",
    "from taxonomy_processing import create_taxonomy"
   ],
   "outputs": [],
   "execution_count": 1
  },
  {
   "metadata": {
    "ExecuteTime": {
     "end_time": "2025-04-28T11:39:42.080582Z",
     "start_time": "2025-04-28T11:39:42.061590Z"
    }
   },
   "cell_type": "code",
   "source": [
    "column_names = [\"tax_id\", \"org_name\", \"gene_id\", \"current_id\", \"status\", \"symbol\", \"aliases\", \"description\",\n",
    "                \"other_designations\", \"map_location\", \"chromosome\", \"genomic_nucleotide_accession.version\",\n",
    "                \"start_position_on_the_genomic_accession\", \"end_position_on_the_genomic_accession\", \"orientation\",\n",
    "                \"exon_count\", \"to_delete_1\", \"to_delete_2\"]\n",
    "\n",
    "df = pd.read_csv(\"../all_nxf1_2.txt\", sep=\"\\t\", skiprows=1, names=column_names, index_col=0)\n",
    "df.drop([\"to_delete_1\", \"to_delete_2\"], axis=1, inplace=True)\n",
    "df.head()"
   ],
   "id": "908f37acdf34084a",
   "outputs": [
    {
     "data": {
      "text/plain": [
       "                  org_name    gene_id  current_id status symbol  \\\n",
       "tax_id                                                            \n",
       "9606          Homo sapiens      10482           0   live   NXF1   \n",
       "10090         Mus musculus      53319           0   live   Nxf1   \n",
       "10116    Rattus norvegicus      59087           0   live   Nxf1   \n",
       "8407       Rana temporaria  120917577           0   live   NXF1   \n",
       "8364    Xenopus tropicalis     734058           0   live   nxf1   \n",
       "\n",
       "                 aliases                  description  \\\n",
       "tax_id                                                  \n",
       "9606          MEX67, TAP  nuclear RNA export factor 1   \n",
       "10090   Mex67, Mvb1, Tap  nuclear RNA export factor 1   \n",
       "10116        Mex67h, Tap  nuclear RNA export factor 1   \n",
       "8407                 NaN  nuclear RNA export factor 1   \n",
       "8364          mex67, tap  nuclear RNA export factor 1   \n",
       "\n",
       "                                       other_designations map_location  \\\n",
       "tax_id                                                                   \n",
       "9606    nuclear RNA export factor 1|mRNA export factor...      11q12.3   \n",
       "10090   nuclear RNA export factor 1|Mex 67 homolog|mRN...    19 5.5 cM   \n",
       "10116   nuclear RNA export factor 1|mRNA export factor...         1q43   \n",
       "8407                          nuclear RNA export factor 1          NaN   \n",
       "8364                          nuclear RNA export factor 1          NaN   \n",
       "\n",
       "       chromosome genomic_nucleotide_accession.version  \\\n",
       "tax_id                                                   \n",
       "9606           11                         NC_000011.10   \n",
       "10090          19                          NC_000085.7   \n",
       "10116           1                          NC_086019.1   \n",
       "8407           11                          NC_053499.1   \n",
       "8364            4                          NC_030680.2   \n",
       "\n",
       "        start_position_on_the_genomic_accession  \\\n",
       "tax_id                                            \n",
       "9606                                 62792130.0   \n",
       "10090                                 8734467.0   \n",
       "10116                               215084563.0   \n",
       "8407                                120752259.0   \n",
       "8364                                 36493131.0   \n",
       "\n",
       "        end_position_on_the_genomic_accession orientation  exon_count  \n",
       "tax_id                                                                 \n",
       "9606                               62805440.0       minus        22.0  \n",
       "10090                               8748274.0        plus        20.0  \n",
       "10116                             215097756.0        plus        21.0  \n",
       "8407                              120809664.0        plus        22.0  \n",
       "8364                               36532401.0       minus        23.0  "
      ],
      "text/html": [
       "<div>\n",
       "<style scoped>\n",
       "    .dataframe tbody tr th:only-of-type {\n",
       "        vertical-align: middle;\n",
       "    }\n",
       "\n",
       "    .dataframe tbody tr th {\n",
       "        vertical-align: top;\n",
       "    }\n",
       "\n",
       "    .dataframe thead th {\n",
       "        text-align: right;\n",
       "    }\n",
       "</style>\n",
       "<table border=\"1\" class=\"dataframe\">\n",
       "  <thead>\n",
       "    <tr style=\"text-align: right;\">\n",
       "      <th></th>\n",
       "      <th>org_name</th>\n",
       "      <th>gene_id</th>\n",
       "      <th>current_id</th>\n",
       "      <th>status</th>\n",
       "      <th>symbol</th>\n",
       "      <th>aliases</th>\n",
       "      <th>description</th>\n",
       "      <th>other_designations</th>\n",
       "      <th>map_location</th>\n",
       "      <th>chromosome</th>\n",
       "      <th>genomic_nucleotide_accession.version</th>\n",
       "      <th>start_position_on_the_genomic_accession</th>\n",
       "      <th>end_position_on_the_genomic_accession</th>\n",
       "      <th>orientation</th>\n",
       "      <th>exon_count</th>\n",
       "    </tr>\n",
       "    <tr>\n",
       "      <th>tax_id</th>\n",
       "      <th></th>\n",
       "      <th></th>\n",
       "      <th></th>\n",
       "      <th></th>\n",
       "      <th></th>\n",
       "      <th></th>\n",
       "      <th></th>\n",
       "      <th></th>\n",
       "      <th></th>\n",
       "      <th></th>\n",
       "      <th></th>\n",
       "      <th></th>\n",
       "      <th></th>\n",
       "      <th></th>\n",
       "      <th></th>\n",
       "    </tr>\n",
       "  </thead>\n",
       "  <tbody>\n",
       "    <tr>\n",
       "      <th>9606</th>\n",
       "      <td>Homo sapiens</td>\n",
       "      <td>10482</td>\n",
       "      <td>0</td>\n",
       "      <td>live</td>\n",
       "      <td>NXF1</td>\n",
       "      <td>MEX67, TAP</td>\n",
       "      <td>nuclear RNA export factor 1</td>\n",
       "      <td>nuclear RNA export factor 1|mRNA export factor...</td>\n",
       "      <td>11q12.3</td>\n",
       "      <td>11</td>\n",
       "      <td>NC_000011.10</td>\n",
       "      <td>62792130.0</td>\n",
       "      <td>62805440.0</td>\n",
       "      <td>minus</td>\n",
       "      <td>22.0</td>\n",
       "    </tr>\n",
       "    <tr>\n",
       "      <th>10090</th>\n",
       "      <td>Mus musculus</td>\n",
       "      <td>53319</td>\n",
       "      <td>0</td>\n",
       "      <td>live</td>\n",
       "      <td>Nxf1</td>\n",
       "      <td>Mex67, Mvb1, Tap</td>\n",
       "      <td>nuclear RNA export factor 1</td>\n",
       "      <td>nuclear RNA export factor 1|Mex 67 homolog|mRN...</td>\n",
       "      <td>19 5.5 cM</td>\n",
       "      <td>19</td>\n",
       "      <td>NC_000085.7</td>\n",
       "      <td>8734467.0</td>\n",
       "      <td>8748274.0</td>\n",
       "      <td>plus</td>\n",
       "      <td>20.0</td>\n",
       "    </tr>\n",
       "    <tr>\n",
       "      <th>10116</th>\n",
       "      <td>Rattus norvegicus</td>\n",
       "      <td>59087</td>\n",
       "      <td>0</td>\n",
       "      <td>live</td>\n",
       "      <td>Nxf1</td>\n",
       "      <td>Mex67h, Tap</td>\n",
       "      <td>nuclear RNA export factor 1</td>\n",
       "      <td>nuclear RNA export factor 1|mRNA export factor...</td>\n",
       "      <td>1q43</td>\n",
       "      <td>1</td>\n",
       "      <td>NC_086019.1</td>\n",
       "      <td>215084563.0</td>\n",
       "      <td>215097756.0</td>\n",
       "      <td>plus</td>\n",
       "      <td>21.0</td>\n",
       "    </tr>\n",
       "    <tr>\n",
       "      <th>8407</th>\n",
       "      <td>Rana temporaria</td>\n",
       "      <td>120917577</td>\n",
       "      <td>0</td>\n",
       "      <td>live</td>\n",
       "      <td>NXF1</td>\n",
       "      <td>NaN</td>\n",
       "      <td>nuclear RNA export factor 1</td>\n",
       "      <td>nuclear RNA export factor 1</td>\n",
       "      <td>NaN</td>\n",
       "      <td>11</td>\n",
       "      <td>NC_053499.1</td>\n",
       "      <td>120752259.0</td>\n",
       "      <td>120809664.0</td>\n",
       "      <td>plus</td>\n",
       "      <td>22.0</td>\n",
       "    </tr>\n",
       "    <tr>\n",
       "      <th>8364</th>\n",
       "      <td>Xenopus tropicalis</td>\n",
       "      <td>734058</td>\n",
       "      <td>0</td>\n",
       "      <td>live</td>\n",
       "      <td>nxf1</td>\n",
       "      <td>mex67, tap</td>\n",
       "      <td>nuclear RNA export factor 1</td>\n",
       "      <td>nuclear RNA export factor 1</td>\n",
       "      <td>NaN</td>\n",
       "      <td>4</td>\n",
       "      <td>NC_030680.2</td>\n",
       "      <td>36493131.0</td>\n",
       "      <td>36532401.0</td>\n",
       "      <td>minus</td>\n",
       "      <td>23.0</td>\n",
       "    </tr>\n",
       "  </tbody>\n",
       "</table>\n",
       "</div>"
      ]
     },
     "execution_count": 2,
     "metadata": {},
     "output_type": "execute_result"
    }
   ],
   "execution_count": 2
  },
  {
   "metadata": {
    "ExecuteTime": {
     "end_time": "2025-04-28T10:14:26.630465Z",
     "start_time": "2025-04-28T09:36:26.011566Z"
    }
   },
   "cell_type": "code",
   "source": [
    "# long-time func !!!\n",
    "phyla_taxids, taxids_error = select_all_phylas(df)"
   ],
   "id": "9eb0734171373ffc",
   "outputs": [
    {
     "name": "stdout",
     "output_type": "stream",
     "text": [
      "ERROR taxid: 9606, Homo sapiens\n"
     ]
    }
   ],
   "execution_count": 3
  },
  {
   "metadata": {
    "ExecuteTime": {
     "end_time": "2025-04-28T10:14:26.653151Z",
     "start_time": "2025-04-28T10:14:26.650882Z"
    }
   },
   "cell_type": "code",
   "source": [
    "with open(\"../taxonomy/all_phylas_taxonomy.tsv\", \"w\") as outfile:\n",
    "    for index, taxonomy in phyla_taxids.items():\n",
    "        outfile.write(f\"{index}\\t{taxonomy}\\n\")"
   ],
   "id": "e1a218a47f315326",
   "outputs": [],
   "execution_count": 4
  },
  {
   "metadata": {
    "ExecuteTime": {
     "end_time": "2025-04-28T10:15:02.274600Z",
     "start_time": "2025-04-28T10:15:02.264586Z"
    }
   },
   "cell_type": "code",
   "source": "create_taxonomy(\"../taxonomy/all_phylas_taxonomy.tsv\")",
   "id": "8ad08acf1b0d8ba3",
   "outputs": [],
   "execution_count": 5
  },
  {
   "metadata": {},
   "cell_type": "markdown",
   "source": "---",
   "id": "27f39f28aa5f9ea2"
  },
  {
   "metadata": {
    "ExecuteTime": {
     "end_time": "2025-04-28T13:54:34.698607Z",
     "start_time": "2025-04-28T13:54:34.694222Z"
    }
   },
   "cell_type": "code",
   "source": "df_taxonomy = pd.read_csv(\"../taxonomy/all_phylas_taxonomy.tsv\", sep=\"\\t\", names=[\"taxid\", \"taxonomy\"], index_col=0, dtype={\"taxid\": int, \"taxonomy\": str})",
   "id": "777a885214b0f3c0",
   "outputs": [],
   "execution_count": 89
  },
  {
   "metadata": {
    "ExecuteTime": {
     "end_time": "2025-04-28T13:55:01.648369Z",
     "start_time": "2025-04-28T13:55:01.644819Z"
    }
   },
   "cell_type": "code",
   "source": [
    "df_amoebozoa = df_taxonomy[df_taxonomy.taxonomy.str.contains(\"Amoebozoa\")]\n",
    "df_amoebozoa"
   ],
   "id": "fe962634cf9b014f",
   "outputs": [
    {
     "data": {
      "text/plain": [
       "                                                  taxonomy\n",
       "taxid                                                     \n",
       "1257118  cellular organisms; Eukaryota; Amoebozoa; Disc...\n",
       "261658   cellular organisms; Eukaryota; Amoebozoa; Evos...\n",
       "5786     cellular organisms; Eukaryota; Amoebozoa; Evos..."
      ],
      "text/html": [
       "<div>\n",
       "<style scoped>\n",
       "    .dataframe tbody tr th:only-of-type {\n",
       "        vertical-align: middle;\n",
       "    }\n",
       "\n",
       "    .dataframe tbody tr th {\n",
       "        vertical-align: top;\n",
       "    }\n",
       "\n",
       "    .dataframe thead th {\n",
       "        text-align: right;\n",
       "    }\n",
       "</style>\n",
       "<table border=\"1\" class=\"dataframe\">\n",
       "  <thead>\n",
       "    <tr style=\"text-align: right;\">\n",
       "      <th></th>\n",
       "      <th>taxonomy</th>\n",
       "    </tr>\n",
       "    <tr>\n",
       "      <th>taxid</th>\n",
       "      <th></th>\n",
       "    </tr>\n",
       "  </thead>\n",
       "  <tbody>\n",
       "    <tr>\n",
       "      <th>1257118</th>\n",
       "      <td>cellular organisms; Eukaryota; Amoebozoa; Disc...</td>\n",
       "    </tr>\n",
       "    <tr>\n",
       "      <th>261658</th>\n",
       "      <td>cellular organisms; Eukaryota; Amoebozoa; Evos...</td>\n",
       "    </tr>\n",
       "    <tr>\n",
       "      <th>5786</th>\n",
       "      <td>cellular organisms; Eukaryota; Amoebozoa; Evos...</td>\n",
       "    </tr>\n",
       "  </tbody>\n",
       "</table>\n",
       "</div>"
      ]
     },
     "execution_count": 91,
     "metadata": {},
     "output_type": "execute_result"
    }
   ],
   "execution_count": 91
  },
  {
   "metadata": {
    "ExecuteTime": {
     "end_time": "2025-04-28T13:56:41.165169Z",
     "start_time": "2025-04-28T13:56:41.163256Z"
    }
   },
   "cell_type": "code",
   "source": [
    "amoebozoa_taxids = {\n",
    "    \"Amoebozoa\": df_amoebozoa.index.tolist(),\n",
    "}"
   ],
   "id": "918aecb3dc316f51",
   "outputs": [],
   "execution_count": 94
  },
  {
   "metadata": {
    "ExecuteTime": {
     "end_time": "2025-04-28T13:56:41.673680Z",
     "start_time": "2025-04-28T13:56:41.671540Z"
    }
   },
   "cell_type": "code",
   "source": "amoebozoa_taxids",
   "id": "a893714065a6cacc",
   "outputs": [
    {
     "data": {
      "text/plain": [
       "{'Amoebozoa': [1257118, 261658, 5786]}"
      ]
     },
     "execution_count": 95,
     "metadata": {},
     "output_type": "execute_result"
    }
   ],
   "execution_count": 95
  },
  {
   "metadata": {
    "ExecuteTime": {
     "end_time": "2025-04-28T13:57:25.140937Z",
     "start_time": "2025-04-28T13:56:50.850601Z"
    }
   },
   "cell_type": "code",
   "source": "download_all_files_ncbi(df, amoebozoa_taxids, phylas=list(amoebozoa_taxids.keys()))",
   "id": "d77a26ff3b5a5a06",
   "outputs": [
    {
     "name": "stdout",
     "output_type": "stream",
     "text": [
      "Gene, mRNA, protein for Amoebozoa/acanthamoeba_castellanii_str._neff_0 downloaded successfully\n",
      "Gene, mRNA, protein for Amoebozoa/cavenderia_fasciculata_1 downloaded successfully\n",
      "Gene, mRNA, protein for Amoebozoa/dictyostelium_purpureum_2 downloaded successfully\n",
      "Gene, mRNA, protein for Amoebozoa/dictyostelium_purpureum_3 downloaded successfully\n",
      "Gene GenBank for Amoebozoa/acanthamoeba_castellanii_str._neff_0 downloaded successfully\n",
      "Gene GenBank for Amoebozoa/cavenderia_fasciculata_1 downloaded successfully\n",
      "Gene GenBank for Amoebozoa/dictyostelium_purpureum_2 downloaded successfully\n",
      "Gene GenBank for Amoebozoa/dictyostelium_purpureum_3 downloaded successfully\n",
      "Exons for Amoebozoa/acanthamoeba_castellanii_str._neff_0 created successfully\n",
      "Exons for Amoebozoa/cavenderia_fasciculata_1 created successfully\n",
      "Exons for Amoebozoa/dictyostelium_purpureum_2 created successfully\n",
      "Exons for Amoebozoa/dictyostelium_purpureum_3 created successfully\n",
      "\n"
     ]
    }
   ],
   "execution_count": 96
  },
  {
   "metadata": {
    "ExecuteTime": {
     "end_time": "2025-04-28T13:59:24.273465Z",
     "start_time": "2025-04-28T13:59:24.271027Z"
    }
   },
   "cell_type": "code",
   "source": [
    "import os\n",
    "\n",
    "dir_name = \"Amoebozoa\"\n",
    "ascomycota_dict = {}\n",
    "\n",
    "for org_name in os.listdir(f\"../Datasets/{dir_name}\"):\n",
    "    seq = \"\"\n",
    "    with open(f\"../Datasets/{dir_name}/{org_name}/ncbi_dataset/data/gene.fna\", \"r\") as infile:\n",
    "        for line in infile:\n",
    "            if line.startswith(\">\"):\n",
    "                continue\n",
    "            seq += line.strip()\n",
    "    ascomycota_dict[org_name] = len(seq)"
   ],
   "id": "9ec2d281150b7c66",
   "outputs": [],
   "execution_count": 97
  },
  {
   "metadata": {
    "ExecuteTime": {
     "end_time": "2025-04-28T13:59:25.355826Z",
     "start_time": "2025-04-28T13:59:25.353444Z"
    }
   },
   "cell_type": "code",
   "source": "ascomycota_dict",
   "id": "e1a8e58585a1382d",
   "outputs": [
    {
     "data": {
      "text/plain": [
       "{'dictyostelium_purpureum_3': 1014,\n",
       " 'dictyostelium_purpureum_2': 1012,\n",
       " 'acanthamoeba_castellanii_str._neff_0': 2870,\n",
       " 'cavenderia_fasciculata_1': 3079}"
      ]
     },
     "execution_count": 98,
     "metadata": {},
     "output_type": "execute_result"
    }
   ],
   "execution_count": 98
  },
  {
   "metadata": {
    "ExecuteTime": {
     "end_time": "2025-04-28T14:00:38.137717Z",
     "start_time": "2025-04-28T14:00:38.135690Z"
    }
   },
   "cell_type": "code",
   "source": "org_names = list(ascomycota_dict.keys())",
   "id": "fa6583149e248b1a",
   "outputs": [],
   "execution_count": 101
  },
  {
   "metadata": {
    "ExecuteTime": {
     "end_time": "2025-04-28T14:00:38.979708Z",
     "start_time": "2025-04-28T14:00:38.977487Z"
    }
   },
   "cell_type": "code",
   "source": "org_names",
   "id": "6acc34c6dfb5a2be",
   "outputs": [
    {
     "data": {
      "text/plain": [
       "['dictyostelium_purpureum_3',\n",
       " 'dictyostelium_purpureum_2',\n",
       " 'acanthamoeba_castellanii_str._neff_0',\n",
       " 'cavenderia_fasciculata_1']"
      ]
     },
     "execution_count": 102,
     "metadata": {},
     "output_type": "execute_result"
    }
   ],
   "execution_count": 102
  },
  {
   "metadata": {
    "ExecuteTime": {
     "end_time": "2025-04-28T14:01:50.098493Z",
     "start_time": "2025-04-28T14:01:50.096248Z"
    }
   },
   "cell_type": "code",
   "source": [
    "dir_name = \"Amoebozoa\"\n",
    "ascomycota_dict = {}\n",
    "exons_count = 0\n",
    "\n",
    "for org_name in os.listdir(f\"../Datasets/{dir_name}\"):\n",
    "    seq = \"\"\n",
    "    with open(f\"../Datasets/{dir_name}/{org_name}/ncbi_dataset/data/gene.fna\", \"r\") as infile:\n",
    "        for line in infile:\n",
    "            if line.startswith(\">\"):\n",
    "                exons_count += 1\n",
    "    ascomycota_dict[org_name] = exons_count"
   ],
   "id": "4e303d2092d9bc38",
   "outputs": [],
   "execution_count": 103
  },
  {
   "metadata": {
    "ExecuteTime": {
     "end_time": "2025-04-28T14:01:53.705358Z",
     "start_time": "2025-04-28T14:01:53.702680Z"
    }
   },
   "cell_type": "code",
   "source": "ascomycota_dict",
   "id": "2c93e798f8f98489",
   "outputs": [
    {
     "data": {
      "text/plain": [
       "{'dictyostelium_purpureum_3': 1,\n",
       " 'dictyostelium_purpureum_2': 2,\n",
       " 'acanthamoeba_castellanii_str._neff_0': 3,\n",
       " 'cavenderia_fasciculata_1': 4}"
      ]
     },
     "execution_count": 104,
     "metadata": {},
     "output_type": "execute_result"
    }
   ],
   "execution_count": 104
  },
  {
   "metadata": {},
   "cell_type": "code",
   "outputs": [],
   "execution_count": null,
   "source": "",
   "id": "be57093e33f8fadc"
  },
  {
   "metadata": {},
   "cell_type": "code",
   "outputs": [],
   "execution_count": null,
   "source": "org_names",
   "id": "9332a690588e48d1"
  },
  {
   "metadata": {
    "ExecuteTime": {
     "end_time": "2025-04-28T14:03:12.449958Z",
     "start_time": "2025-04-28T14:03:12.447566Z"
    }
   },
   "cell_type": "code",
   "source": [
    "from Scripts.data_processing import dict_align_create\n",
    "from Scripts.fasta_processing import dict_align_to_fasta\n",
    "\n",
    "dict_align = dict_align_create(\"Amoebozoa\", org_names, \"gene\")\n",
    "\n",
    "dict_align_to_fasta(dict_align, f\"../Alignment/Amoebozoa_gene.fa\")\n",
    "dict_align_to_fasta(dict_align, f\"../Alignment/Amoebozoa_gene.aln\")"
   ],
   "id": "b358746d0f9316a0",
   "outputs": [],
   "execution_count": 105
  },
  {
   "metadata": {},
   "cell_type": "code",
   "outputs": [],
   "execution_count": null,
   "source": "",
   "id": "4cdbc75a944f750d"
  },
  {
   "metadata": {
    "ExecuteTime": {
     "end_time": "2025-04-28T11:39:44.967414Z",
     "start_time": "2025-04-28T11:39:44.965036Z"
    }
   },
   "cell_type": "code",
   "source": "df_fungi = df_taxonomy[df_taxonomy.taxonomy.str.contains(\"Fungi\")]",
   "id": "597ac0acf8d0f712",
   "outputs": [],
   "execution_count": 4
  },
  {
   "metadata": {
    "ExecuteTime": {
     "end_time": "2025-04-28T11:22:47.455256Z",
     "start_time": "2025-04-28T11:22:47.451118Z"
    }
   },
   "cell_type": "code",
   "source": "df_fungi",
   "id": "81bd9760986b6846",
   "outputs": [
    {
     "data": {
      "text/plain": [
       "                                                  taxonomy\n",
       "taxid                                                     \n",
       "644352   cellular organisms; Eukaryota; Opisthokonta; F...\n",
       "242507   cellular organisms; Eukaryota; Opisthokonta; F...\n",
       "332648   cellular organisms; Eukaryota; Opisthokonta; F...\n",
       "1397361  cellular organisms; Eukaryota; Opisthokonta; F...\n",
       "879819   cellular organisms; Eukaryota; Opisthokonta; F...\n",
       "...                                                    ...\n",
       "578456   cellular organisms; Eukaryota; Opisthokonta; F...\n",
       "321614   cellular organisms; Eukaryota; Opisthokonta; F...\n",
       "665079   cellular organisms; Eukaryota; Opisthokonta; F...\n",
       "559292   cellular organisms; Eukaryota; Opisthokonta; F...\n",
       "5061     cellular organisms; Eukaryota; Opisthokonta; F...\n",
       "\n",
       "[114 rows x 1 columns]"
      ],
      "text/html": [
       "<div>\n",
       "<style scoped>\n",
       "    .dataframe tbody tr th:only-of-type {\n",
       "        vertical-align: middle;\n",
       "    }\n",
       "\n",
       "    .dataframe tbody tr th {\n",
       "        vertical-align: top;\n",
       "    }\n",
       "\n",
       "    .dataframe thead th {\n",
       "        text-align: right;\n",
       "    }\n",
       "</style>\n",
       "<table border=\"1\" class=\"dataframe\">\n",
       "  <thead>\n",
       "    <tr style=\"text-align: right;\">\n",
       "      <th></th>\n",
       "      <th>taxonomy</th>\n",
       "    </tr>\n",
       "    <tr>\n",
       "      <th>taxid</th>\n",
       "      <th></th>\n",
       "    </tr>\n",
       "  </thead>\n",
       "  <tbody>\n",
       "    <tr>\n",
       "      <th>644352</th>\n",
       "      <td>cellular organisms; Eukaryota; Opisthokonta; F...</td>\n",
       "    </tr>\n",
       "    <tr>\n",
       "      <th>242507</th>\n",
       "      <td>cellular organisms; Eukaryota; Opisthokonta; F...</td>\n",
       "    </tr>\n",
       "    <tr>\n",
       "      <th>332648</th>\n",
       "      <td>cellular organisms; Eukaryota; Opisthokonta; F...</td>\n",
       "    </tr>\n",
       "    <tr>\n",
       "      <th>1397361</th>\n",
       "      <td>cellular organisms; Eukaryota; Opisthokonta; F...</td>\n",
       "    </tr>\n",
       "    <tr>\n",
       "      <th>879819</th>\n",
       "      <td>cellular organisms; Eukaryota; Opisthokonta; F...</td>\n",
       "    </tr>\n",
       "    <tr>\n",
       "      <th>...</th>\n",
       "      <td>...</td>\n",
       "    </tr>\n",
       "    <tr>\n",
       "      <th>578456</th>\n",
       "      <td>cellular organisms; Eukaryota; Opisthokonta; F...</td>\n",
       "    </tr>\n",
       "    <tr>\n",
       "      <th>321614</th>\n",
       "      <td>cellular organisms; Eukaryota; Opisthokonta; F...</td>\n",
       "    </tr>\n",
       "    <tr>\n",
       "      <th>665079</th>\n",
       "      <td>cellular organisms; Eukaryota; Opisthokonta; F...</td>\n",
       "    </tr>\n",
       "    <tr>\n",
       "      <th>559292</th>\n",
       "      <td>cellular organisms; Eukaryota; Opisthokonta; F...</td>\n",
       "    </tr>\n",
       "    <tr>\n",
       "      <th>5061</th>\n",
       "      <td>cellular organisms; Eukaryota; Opisthokonta; F...</td>\n",
       "    </tr>\n",
       "  </tbody>\n",
       "</table>\n",
       "<p>114 rows × 1 columns</p>\n",
       "</div>"
      ]
     },
     "execution_count": 6,
     "metadata": {},
     "output_type": "execute_result"
    }
   ],
   "execution_count": 6
  },
  {
   "metadata": {
    "ExecuteTime": {
     "end_time": "2025-04-28T10:26:37.182141Z",
     "start_time": "2025-04-28T10:26:37.179184Z"
    }
   },
   "cell_type": "code",
   "source": "df_fungi.to_csv(\"../fungi_taxonomy.tsv\", sep=\"\\t\", header=False)",
   "id": "eee5647c637647d0",
   "outputs": [],
   "execution_count": 8
  },
  {
   "metadata": {
    "ExecuteTime": {
     "end_time": "2025-04-28T10:26:38.538378Z",
     "start_time": "2025-04-28T10:26:38.535047Z"
    }
   },
   "cell_type": "code",
   "source": "create_taxonomy(\"../taxonomy/fungi_taxonomy.tsv\")",
   "id": "db2f25166bbfd546",
   "outputs": [],
   "execution_count": 9
  },
  {
   "metadata": {},
   "cell_type": "markdown",
   "source": "---",
   "id": "cd900199cda3fb47"
  },
  {
   "metadata": {
    "ExecuteTime": {
     "end_time": "2025-04-28T11:16:42.366916Z",
     "start_time": "2025-04-28T11:16:42.361549Z"
    }
   },
   "cell_type": "code",
   "source": "df_fungi",
   "id": "aed8896dec55ac2f",
   "outputs": [
    {
     "data": {
      "text/plain": [
       "                                                  taxonomy\n",
       "taxid                                                     \n",
       "644352   cellular organisms; Eukaryota; Opisthokonta; F...\n",
       "242507   cellular organisms; Eukaryota; Opisthokonta; F...\n",
       "332648   cellular organisms; Eukaryota; Opisthokonta; F...\n",
       "1397361  cellular organisms; Eukaryota; Opisthokonta; F...\n",
       "879819   cellular organisms; Eukaryota; Opisthokonta; F...\n",
       "...                                                    ...\n",
       "578456   cellular organisms; Eukaryota; Opisthokonta; F...\n",
       "321614   cellular organisms; Eukaryota; Opisthokonta; F...\n",
       "665079   cellular organisms; Eukaryota; Opisthokonta; F...\n",
       "559292   cellular organisms; Eukaryota; Opisthokonta; F...\n",
       "5061     cellular organisms; Eukaryota; Opisthokonta; F...\n",
       "\n",
       "[114 rows x 1 columns]"
      ],
      "text/html": [
       "<div>\n",
       "<style scoped>\n",
       "    .dataframe tbody tr th:only-of-type {\n",
       "        vertical-align: middle;\n",
       "    }\n",
       "\n",
       "    .dataframe tbody tr th {\n",
       "        vertical-align: top;\n",
       "    }\n",
       "\n",
       "    .dataframe thead th {\n",
       "        text-align: right;\n",
       "    }\n",
       "</style>\n",
       "<table border=\"1\" class=\"dataframe\">\n",
       "  <thead>\n",
       "    <tr style=\"text-align: right;\">\n",
       "      <th></th>\n",
       "      <th>taxonomy</th>\n",
       "    </tr>\n",
       "    <tr>\n",
       "      <th>taxid</th>\n",
       "      <th></th>\n",
       "    </tr>\n",
       "  </thead>\n",
       "  <tbody>\n",
       "    <tr>\n",
       "      <th>644352</th>\n",
       "      <td>cellular organisms; Eukaryota; Opisthokonta; F...</td>\n",
       "    </tr>\n",
       "    <tr>\n",
       "      <th>242507</th>\n",
       "      <td>cellular organisms; Eukaryota; Opisthokonta; F...</td>\n",
       "    </tr>\n",
       "    <tr>\n",
       "      <th>332648</th>\n",
       "      <td>cellular organisms; Eukaryota; Opisthokonta; F...</td>\n",
       "    </tr>\n",
       "    <tr>\n",
       "      <th>1397361</th>\n",
       "      <td>cellular organisms; Eukaryota; Opisthokonta; F...</td>\n",
       "    </tr>\n",
       "    <tr>\n",
       "      <th>879819</th>\n",
       "      <td>cellular organisms; Eukaryota; Opisthokonta; F...</td>\n",
       "    </tr>\n",
       "    <tr>\n",
       "      <th>...</th>\n",
       "      <td>...</td>\n",
       "    </tr>\n",
       "    <tr>\n",
       "      <th>578456</th>\n",
       "      <td>cellular organisms; Eukaryota; Opisthokonta; F...</td>\n",
       "    </tr>\n",
       "    <tr>\n",
       "      <th>321614</th>\n",
       "      <td>cellular organisms; Eukaryota; Opisthokonta; F...</td>\n",
       "    </tr>\n",
       "    <tr>\n",
       "      <th>665079</th>\n",
       "      <td>cellular organisms; Eukaryota; Opisthokonta; F...</td>\n",
       "    </tr>\n",
       "    <tr>\n",
       "      <th>559292</th>\n",
       "      <td>cellular organisms; Eukaryota; Opisthokonta; F...</td>\n",
       "    </tr>\n",
       "    <tr>\n",
       "      <th>5061</th>\n",
       "      <td>cellular organisms; Eukaryota; Opisthokonta; F...</td>\n",
       "    </tr>\n",
       "  </tbody>\n",
       "</table>\n",
       "<p>114 rows × 1 columns</p>\n",
       "</div>"
      ]
     },
     "execution_count": 5,
     "metadata": {},
     "output_type": "execute_result"
    }
   ],
   "execution_count": 5
  },
  {
   "metadata": {
    "ExecuteTime": {
     "end_time": "2025-04-28T10:53:22.813874Z",
     "start_time": "2025-04-28T10:53:22.811471Z"
    }
   },
   "cell_type": "code",
   "source": [
    "fungi_taxids = {\n",
    "    \"Ascomycota\": list(set(df_fungi[df_fungi.taxonomy.str.contains(\"Ascomycota\")].index)),\n",
    "    \"Basidiomycota\": list(set(df_fungi[df_fungi.taxonomy.str.contains(\"Basidiomycota\")].index))\n",
    "}"
   ],
   "id": "168d8c691debafd3",
   "outputs": [],
   "execution_count": 25
  },
  {
   "metadata": {},
   "cell_type": "code",
   "outputs": [],
   "execution_count": null,
   "source": [
    "# Ascomycota: Pezizomycotina, Saccharomycotina, Taphrinomycotina\n",
    "# Basidiomycota: Agaricomycotina, Pucciniomycotina, Ustilaginomycotina, Wallemiomycotina"
   ],
   "id": "12c60991acf151af"
  },
  {
   "metadata": {
    "ExecuteTime": {
     "end_time": "2025-04-28T11:22:53.211441Z",
     "start_time": "2025-04-28T11:22:53.208595Z"
    }
   },
   "cell_type": "code",
   "source": [
    "fungi_taxids_ascomycota = {\n",
    "    \"Pezizomycotina\": list(set(df_fungi[df_fungi.taxonomy.str.contains(\"Pezizomycotina\")].index)),\n",
    "    \"Saccharomycotina\": list(set(df_fungi[df_fungi.taxonomy.str.contains(\"Saccharomycotina\")].index)),\n",
    "    \"Taphrinomycotina\": list(set(df_fungi[df_fungi.taxonomy.str.contains(\"Taphrinomycotina\")].index)),\n",
    "}"
   ],
   "id": "2b753a952fdc85a5",
   "outputs": [],
   "execution_count": 7
  },
  {
   "metadata": {
    "ExecuteTime": {
     "end_time": "2025-04-28T11:06:34.183670Z",
     "start_time": "2025-04-28T11:03:47.970823Z"
    }
   },
   "cell_type": "code",
   "source": "download_all_files_ncbi(df, fungi_taxids_ascomycota, phylas=list(fungi_taxids_ascomycota.keys()))",
   "id": "334585b26e44b2c5",
   "outputs": [
    {
     "name": "stdout",
     "output_type": "stream",
     "text": [
      "Gene, mRNA, protein for Pezizomycotina/gaeumannomyces_tritici_r3-111a-1_0 downloaded successfully\n",
      "Gene, mRNA, protein for Pezizomycotina/cercospora_beticola_1 downloaded successfully\n",
      "Gene, mRNA, protein for Pezizomycotina/cercospora_beticola_2 downloaded successfully\n",
      "Gene, mRNA, protein for Pezizomycotina/sclerotinia_sclerotiorum_1980_uf-70_3 downloaded successfully\n",
      "Gene, mRNA, protein for Pezizomycotina/ustilaginoidea_virens_4 downloaded successfully\n",
      "Gene, mRNA, protein for Pezizomycotina/botrytis_fragariae_5 downloaded successfully\n",
      "Gene, mRNA, protein for Pezizomycotina/scedosporium_apiospermum_6 downloaded successfully\n",
      "Gene, mRNA, protein for Pezizomycotina/sporothrix_brasiliensis_5110_7 downloaded successfully\n",
      "Gene, mRNA, protein for Pezizomycotina/penicillium_solitum_8 downloaded successfully\n",
      "Gene, mRNA, protein for Pezizomycotina/thyridium_curvatum_9 downloaded successfully\n",
      "Gene, mRNA, protein for Pezizomycotina/venustampulla_echinocandica_10 downloaded successfully\n",
      "Gene, mRNA, protein for Pezizomycotina/lindgomyces_ingoldianus_11 downloaded successfully\n",
      "Gene, mRNA, protein for Pezizomycotina/morchella_sextelata_12 downloaded successfully\n",
      "Gene, mRNA, protein for Pezizomycotina/cladophialophora_immunda_13 downloaded successfully\n",
      "Gene, mRNA, protein for Pezizomycotina/fusarium_vanettenii_77-13-4_14 downloaded successfully\n",
      "Gene, mRNA, protein for Pezizomycotina/botrytis_deweyae_15 downloaded successfully\n",
      "Gene, mRNA, protein for Pezizomycotina/letharia_columbiana_16 downloaded successfully\n",
      "Gene, mRNA, protein for Pezizomycotina/zasmidium_cellare_atcc_36951_17 downloaded successfully\n",
      "Gene, mRNA, protein for Pezizomycotina/penicillium_digitatum_18 downloaded successfully\n",
      "Gene, mRNA, protein for Pezizomycotina/microsporum_canis_cbs_113480_19 downloaded successfully\n",
      "Gene, mRNA, protein for Pezizomycotina/pyricularia_pennisetigena_20 downloaded successfully\n",
      "Gene, mRNA, protein for Pezizomycotina/fusarium_odoratissimum_nrrl_54006_21 downloaded successfully\n",
      "Gene, mRNA, protein for Pezizomycotina/sphaerulina_musiva_so2202_22 downloaded successfully\n",
      "Gene, mRNA, protein for Pezizomycotina/cercospora_kikuchii_23 downloaded successfully\n",
      "Gene, mRNA, protein for Pezizomycotina/lachnellula_hyalina_24 downloaded successfully\n",
      "Gene, mRNA, protein for Pezizomycotina/bacidia_gigantensis_25 downloaded successfully\n",
      "Gene, mRNA, protein for Pezizomycotina/endocarpon_pusillum_z07020_26 downloaded successfully\n",
      "Gene, mRNA, protein for Pezizomycotina/aureobasidium_pullulans_exf-150_27 downloaded successfully\n",
      "Gene, mRNA, protein for Pezizomycotina/aureobasidium_melanogenum_cbs_110374_28 downloaded successfully\n",
      "Gene, mRNA, protein for Pezizomycotina/verruconis_gallopava_29 downloaded successfully\n",
      "Gene, mRNA, protein for Pezizomycotina/botrytis_porri_30 downloaded successfully\n",
      "Gene, mRNA, protein for Pezizomycotina/botrytis_sinoallii_31 downloaded successfully\n",
      "Gene, mRNA, protein for Pezizomycotina/fonsecaea_pedrosoi_cbs_271.37_32 downloaded successfully\n",
      "Gene, mRNA, protein for Pezizomycotina/glarea_lozoyensis_atcc_20868_33 downloaded successfully\n",
      "Gene, mRNA, protein for Pezizomycotina/mytilinidion_resinicola_34 downloaded successfully\n",
      "Gene, mRNA, protein for Pezizomycotina/aspergillus_niger_35 downloaded successfully\n",
      "Gene, mRNA, protein for Pezizomycotina/drepanopeziza_brunnea_f._sp._'multigermtubi'_36 downloaded successfully\n",
      "Gene, mRNA, protein for Pezizomycotina/neohortaea_acidophila_37 downloaded successfully\n",
      "Gene, mRNA, protein for Pezizomycotina/pyricularia_oryzae_70-15_38 downloaded successfully\n",
      "Gene, mRNA, protein for Pezizomycotina/lasiodiplodia_theobromae_39 downloaded successfully\n",
      "Gene, mRNA, protein for Pezizomycotina/baudoinia_panamericana_uamh_10762_40 downloaded successfully\n",
      "Gene, mRNA, protein for Pezizomycotina/baudoinia_panamericana_uamh_10762_41 downloaded successfully\n",
      "Gene, mRNA, protein for Pezizomycotina/parastagonospora_nodorum_sn15_42 downloaded successfully\n",
      "Gene, mRNA, protein for Pezizomycotina/pseudovirgaria_hyperparasitica_43 downloaded successfully\n",
      "Gene, mRNA, protein for Pezizomycotina/pyricularia_grisea_44 downloaded successfully\n",
      "Gene, mRNA, protein for Pezizomycotina/zymoseptoria_tritici_ipo323_45 downloaded successfully\n",
      "Gene, mRNA, protein for Pezizomycotina/diaporthe_batatas_46 downloaded successfully\n",
      "Gene, mRNA, protein for Pezizomycotina/coniosporium_apollinis_cbs_100218_47 downloaded successfully\n",
      "Gene, mRNA, protein for Pezizomycotina/dissoconium_aciculare_cbs_342.82_48 downloaded successfully\n",
      "Gene, mRNA, protein for Pezizomycotina/botrytis_cinerea_b05.10_49 downloaded successfully\n",
      "Gene, mRNA, protein for Pezizomycotina/thermochaetoides_thermophila_dsm_1495_50 downloaded successfully\n",
      "Gene, mRNA, protein for Pezizomycotina/pseudomassariella_vexata_51 downloaded successfully\n",
      "Gene, mRNA, protein for Pezizomycotina/fonsecaea_monophora_52 downloaded successfully\n",
      "Gene, mRNA, protein for Pezizomycotina/pseudocercospora_fijiensis_cirad86_53 downloaded successfully\n",
      "Gene, mRNA, protein for Pezizomycotina/sporothrix_schenckii_1099-18_54 downloaded successfully\n",
      "Gene, mRNA, protein for Pezizomycotina/orbilia_oligospora_atcc_24927_55 downloaded successfully\n",
      "Gene, mRNA, protein for Pezizomycotina/grosmannia_clavigera_kw1407_56 downloaded successfully\n",
      "Gene, mRNA, protein for Pezizomycotina/tuber_melanosporum_57 downloaded successfully\n",
      "Gene, mRNA, protein for Pezizomycotina/botrytis_byssoidea_58 downloaded successfully\n",
      "Gene, mRNA, protein for Pezizomycotina/letharia_lupina_59 downloaded successfully\n",
      "Gene, mRNA, protein for Pezizomycotina/amorphotheca_resinae_atcc_22711_60 downloaded successfully\n",
      "Gene GenBank for Pezizomycotina/gaeumannomyces_tritici_r3-111a-1_0 downloaded successfully\n",
      "Gene GenBank for Pezizomycotina/cercospora_beticola_1 downloaded successfully\n",
      "Gene GenBank for Pezizomycotina/cercospora_beticola_2 downloaded successfully\n",
      "Gene GenBank for Pezizomycotina/sclerotinia_sclerotiorum_1980_uf-70_3 downloaded successfully\n",
      "Gene GenBank for Pezizomycotina/ustilaginoidea_virens_4 downloaded successfully\n",
      "Gene GenBank for Pezizomycotina/botrytis_fragariae_5 downloaded successfully\n",
      "Gene GenBank for Pezizomycotina/scedosporium_apiospermum_6 downloaded successfully\n",
      "Gene GenBank for Pezizomycotina/sporothrix_brasiliensis_5110_7 downloaded successfully\n",
      "Gene GenBank for Pezizomycotina/penicillium_solitum_8 downloaded successfully\n",
      "Gene GenBank for Pezizomycotina/thyridium_curvatum_9 downloaded successfully\n",
      "Gene GenBank for Pezizomycotina/venustampulla_echinocandica_10 downloaded successfully\n",
      "Gene GenBank for Pezizomycotina/lindgomyces_ingoldianus_11 downloaded successfully\n",
      "Gene GenBank for Pezizomycotina/morchella_sextelata_12 downloaded successfully\n",
      "Gene GenBank for Pezizomycotina/cladophialophora_immunda_13 downloaded successfully\n",
      "Gene GenBank for Pezizomycotina/fusarium_vanettenii_77-13-4_14 downloaded successfully\n",
      "Gene GenBank for Pezizomycotina/botrytis_deweyae_15 downloaded successfully\n",
      "Gene GenBank for Pezizomycotina/letharia_columbiana_16 downloaded successfully\n",
      "Gene GenBank for Pezizomycotina/zasmidium_cellare_atcc_36951_17 downloaded successfully\n",
      "Gene GenBank for Pezizomycotina/penicillium_digitatum_18 downloaded successfully\n",
      "Gene GenBank for Pezizomycotina/microsporum_canis_cbs_113480_19 downloaded successfully\n",
      "Gene GenBank for Pezizomycotina/pyricularia_pennisetigena_20 downloaded successfully\n",
      "Gene GenBank for Pezizomycotina/fusarium_odoratissimum_nrrl_54006_21 downloaded successfully\n",
      "Gene GenBank for Pezizomycotina/sphaerulina_musiva_so2202_22 downloaded successfully\n",
      "Gene GenBank for Pezizomycotina/cercospora_kikuchii_23 downloaded successfully\n",
      "Gene GenBank for Pezizomycotina/lachnellula_hyalina_24 downloaded successfully\n",
      "Gene GenBank for Pezizomycotina/bacidia_gigantensis_25 downloaded successfully\n",
      "Gene GenBank for Pezizomycotina/endocarpon_pusillum_z07020_26 downloaded successfully\n",
      "Gene GenBank for Pezizomycotina/aureobasidium_pullulans_exf-150_27 downloaded successfully\n",
      "Gene GenBank for Pezizomycotina/aureobasidium_melanogenum_cbs_110374_28 downloaded successfully\n",
      "Gene GenBank for Pezizomycotina/verruconis_gallopava_29 downloaded successfully\n",
      "Gene GenBank for Pezizomycotina/botrytis_porri_30 downloaded successfully\n",
      "Gene GenBank for Pezizomycotina/botrytis_sinoallii_31 downloaded successfully\n",
      "Gene GenBank for Pezizomycotina/fonsecaea_pedrosoi_cbs_271.37_32 downloaded successfully\n",
      "Gene GenBank for Pezizomycotina/glarea_lozoyensis_atcc_20868_33 downloaded successfully\n",
      "Gene GenBank for Pezizomycotina/mytilinidion_resinicola_34 downloaded successfully\n",
      "Gene GenBank for Pezizomycotina/aspergillus_niger_35 downloaded successfully\n",
      "Gene GenBank for Pezizomycotina/drepanopeziza_brunnea_f._sp._'multigermtubi'_36 downloaded successfully\n",
      "Gene GenBank for Pezizomycotina/neohortaea_acidophila_37 downloaded successfully\n",
      "Gene GenBank for Pezizomycotina/pyricularia_oryzae_70-15_38 downloaded successfully\n",
      "Gene GenBank for Pezizomycotina/lasiodiplodia_theobromae_39 downloaded successfully\n",
      "Gene GenBank for Pezizomycotina/baudoinia_panamericana_uamh_10762_40 downloaded successfully\n",
      "Gene GenBank for Pezizomycotina/baudoinia_panamericana_uamh_10762_41 downloaded successfully\n",
      "Gene GenBank for Pezizomycotina/parastagonospora_nodorum_sn15_42 downloaded successfully\n",
      "Gene GenBank for Pezizomycotina/pseudovirgaria_hyperparasitica_43 downloaded successfully\n",
      "Gene GenBank for Pezizomycotina/pyricularia_grisea_44 downloaded successfully\n",
      "Gene GenBank for Pezizomycotina/zymoseptoria_tritici_ipo323_45 downloaded successfully\n",
      "Gene GenBank for Pezizomycotina/diaporthe_batatas_46 downloaded successfully\n",
      "Gene GenBank for Pezizomycotina/coniosporium_apollinis_cbs_100218_47 downloaded successfully\n",
      "Gene GenBank for Pezizomycotina/dissoconium_aciculare_cbs_342.82_48 downloaded successfully\n",
      "Gene GenBank for Pezizomycotina/botrytis_cinerea_b05.10_49 downloaded successfully\n",
      "Gene GenBank for Pezizomycotina/thermochaetoides_thermophila_dsm_1495_50 downloaded successfully\n",
      "Gene GenBank for Pezizomycotina/pseudomassariella_vexata_51 downloaded successfully\n",
      "Gene GenBank for Pezizomycotina/fonsecaea_monophora_52 downloaded successfully\n",
      "Gene GenBank for Pezizomycotina/pseudocercospora_fijiensis_cirad86_53 downloaded successfully\n",
      "Gene GenBank for Pezizomycotina/sporothrix_schenckii_1099-18_54 downloaded successfully\n",
      "Gene GenBank for Pezizomycotina/orbilia_oligospora_atcc_24927_55 downloaded successfully\n",
      "Gene GenBank for Pezizomycotina/grosmannia_clavigera_kw1407_56 downloaded successfully\n",
      "Gene GenBank for Pezizomycotina/tuber_melanosporum_57 downloaded successfully\n",
      "Gene GenBank for Pezizomycotina/botrytis_byssoidea_58 downloaded successfully\n",
      "Gene GenBank for Pezizomycotina/letharia_lupina_59 downloaded successfully\n",
      "Gene GenBank for Pezizomycotina/amorphotheca_resinae_atcc_22711_60 downloaded successfully\n",
      "Exons for Pezizomycotina/gaeumannomyces_tritici_r3-111a-1_0 created successfully\n",
      "Exons for Pezizomycotina/cercospora_beticola_1 created successfully\n",
      "Exons for Pezizomycotina/cercospora_beticola_2 created successfully\n",
      "Exons for Pezizomycotina/sclerotinia_sclerotiorum_1980_uf-70_3 created successfully\n",
      "Exons for Pezizomycotina/ustilaginoidea_virens_4 created successfully\n",
      "Exons for Pezizomycotina/botrytis_fragariae_5 created successfully\n",
      "Exons for Pezizomycotina/scedosporium_apiospermum_6 created successfully\n",
      "Exons for Pezizomycotina/sporothrix_brasiliensis_5110_7 created successfully\n",
      "Exons for Pezizomycotina/penicillium_solitum_8 created successfully\n",
      "Exons for Pezizomycotina/thyridium_curvatum_9 created successfully\n",
      "Exons for Pezizomycotina/venustampulla_echinocandica_10 created successfully\n",
      "Exons for Pezizomycotina/lindgomyces_ingoldianus_11 created successfully\n",
      "Exons for Pezizomycotina/morchella_sextelata_12 created successfully\n",
      "Exons for Pezizomycotina/cladophialophora_immunda_13 created successfully\n",
      "Exons for Pezizomycotina/fusarium_vanettenii_77-13-4_14 created successfully\n",
      "Exons for Pezizomycotina/botrytis_deweyae_15 created successfully\n",
      "Exons for Pezizomycotina/letharia_columbiana_16 created successfully\n",
      "Exons for Pezizomycotina/zasmidium_cellare_atcc_36951_17 created successfully\n",
      "Exons for Pezizomycotina/penicillium_digitatum_18 created successfully\n",
      "Exons for Pezizomycotina/microsporum_canis_cbs_113480_19 created successfully\n",
      "Exons for Pezizomycotina/pyricularia_pennisetigena_20 created successfully\n",
      "Exons for Pezizomycotina/fusarium_odoratissimum_nrrl_54006_21 created successfully\n",
      "Exons for Pezizomycotina/sphaerulina_musiva_so2202_22 created successfully\n",
      "Exons for Pezizomycotina/cercospora_kikuchii_23 created successfully\n",
      "Exons for Pezizomycotina/lachnellula_hyalina_24 created successfully\n",
      "Exons for Pezizomycotina/bacidia_gigantensis_25 created successfully\n",
      "Exons for Pezizomycotina/endocarpon_pusillum_z07020_26 created successfully\n",
      "Exons for Pezizomycotina/aureobasidium_pullulans_exf-150_27 created successfully\n",
      "Exons for Pezizomycotina/aureobasidium_melanogenum_cbs_110374_28 created successfully\n",
      "Exons for Pezizomycotina/verruconis_gallopava_29 created successfully\n",
      "Exons for Pezizomycotina/botrytis_porri_30 created successfully\n",
      "Exons for Pezizomycotina/botrytis_sinoallii_31 created successfully\n",
      "Exons for Pezizomycotina/fonsecaea_pedrosoi_cbs_271.37_32 created successfully\n",
      "Exons for Pezizomycotina/glarea_lozoyensis_atcc_20868_33 created successfully\n",
      "Exons for Pezizomycotina/mytilinidion_resinicola_34 created successfully\n",
      "Exons for Pezizomycotina/aspergillus_niger_35 created successfully\n",
      "Exons for Pezizomycotina/drepanopeziza_brunnea_f._sp._'multigermtubi'_36 created successfully\n",
      "Exons for Pezizomycotina/neohortaea_acidophila_37 created successfully\n",
      "Exons for Pezizomycotina/pyricularia_oryzae_70-15_38 created successfully\n",
      "Exons for Pezizomycotina/lasiodiplodia_theobromae_39 created successfully\n",
      "Exons for Pezizomycotina/baudoinia_panamericana_uamh_10762_40 created successfully\n",
      "Exons for Pezizomycotina/baudoinia_panamericana_uamh_10762_41 created successfully\n",
      "Exons for Pezizomycotina/parastagonospora_nodorum_sn15_42 created successfully\n",
      "Exons for Pezizomycotina/pseudovirgaria_hyperparasitica_43 created successfully\n",
      "Exons for Pezizomycotina/pyricularia_grisea_44 created successfully\n",
      "Exons for Pezizomycotina/zymoseptoria_tritici_ipo323_45 created successfully\n",
      "Exons for Pezizomycotina/diaporthe_batatas_46 created successfully\n",
      "Exons for Pezizomycotina/coniosporium_apollinis_cbs_100218_47 created successfully\n",
      "Exons for Pezizomycotina/dissoconium_aciculare_cbs_342.82_48 created successfully\n",
      "Exons for Pezizomycotina/botrytis_cinerea_b05.10_49 created successfully\n",
      "Exons for Pezizomycotina/thermochaetoides_thermophila_dsm_1495_50 created successfully\n",
      "Exons for Pezizomycotina/pseudomassariella_vexata_51 created successfully\n",
      "Exons for Pezizomycotina/fonsecaea_monophora_52 created successfully\n",
      "Exons for Pezizomycotina/pseudocercospora_fijiensis_cirad86_53 created successfully\n",
      "Exons for Pezizomycotina/sporothrix_schenckii_1099-18_54 created successfully\n",
      "Exons for Pezizomycotina/orbilia_oligospora_atcc_24927_55 created successfully\n",
      "Exons for Pezizomycotina/grosmannia_clavigera_kw1407_56 created successfully\n",
      "Exons for Pezizomycotina/tuber_melanosporum_57 created successfully\n",
      "Exons for Pezizomycotina/botrytis_byssoidea_58 created successfully\n",
      "Exons for Pezizomycotina/letharia_lupina_59 created successfully\n",
      "Exons for Pezizomycotina/amorphotheca_resinae_atcc_22711_60 created successfully\n",
      "\n",
      "Gene, mRNA, protein for Saccharomycotina/wickerhamomyces_ciferrii_0 downloaded successfully\n",
      "Gene, mRNA, protein for Saccharomycotina/saccharomyces_cerevisiae_s288c_1 downloaded successfully\n",
      "Gene, mRNA, protein for Saccharomycotina/saccharomyces_cerevisiae_s288c_2 downloaded successfully\n",
      "Gene, mRNA, protein for Saccharomycotina/saccharomyces_cerevisiae_s288c_3 downloaded successfully\n",
      "Gene, mRNA, protein for Saccharomycotina/[candida]_sorbophila_4 downloaded successfully\n",
      "Gene, mRNA, protein for Saccharomycotina/komagataella_phaffii_gs115_5 downloaded successfully\n",
      "Gene GenBank for Saccharomycotina/wickerhamomyces_ciferrii_0 downloaded successfully\n",
      "Gene GenBank for Saccharomycotina/saccharomyces_cerevisiae_s288c_1 downloaded successfully\n",
      "Gene GenBank for Saccharomycotina/saccharomyces_cerevisiae_s288c_2 downloaded successfully\n",
      "Gene GenBank for Saccharomycotina/saccharomyces_cerevisiae_s288c_3 downloaded successfully\n",
      "Gene GenBank for Saccharomycotina/[candida]_sorbophila_4 downloaded successfully\n",
      "Gene GenBank for Saccharomycotina/komagataella_phaffii_gs115_5 downloaded successfully\n",
      "Exons for Saccharomycotina/wickerhamomyces_ciferrii_0 created successfully\n",
      "Exons for Saccharomycotina/saccharomyces_cerevisiae_s288c_1 created successfully\n",
      "Exons for Saccharomycotina/saccharomyces_cerevisiae_s288c_2 created successfully\n",
      "Exons for Saccharomycotina/saccharomyces_cerevisiae_s288c_3 created successfully\n",
      "Exons for Saccharomycotina/[candida]_sorbophila_4 created successfully\n",
      "Exons for Saccharomycotina/komagataella_phaffii_gs115_5 created successfully\n",
      "\n",
      "Gene, mRNA, protein for Taphrinomycotina/pneumocystis_murina_b123_0 downloaded successfully\n",
      "Gene GenBank for Taphrinomycotina/pneumocystis_murina_b123_0 downloaded successfully\n",
      "Exons for Taphrinomycotina/pneumocystis_murina_b123_0 created successfully\n",
      "\n"
     ]
    }
   ],
   "execution_count": 37
  },
  {
   "metadata": {
    "ExecuteTime": {
     "end_time": "2025-04-28T11:39:49.267325Z",
     "start_time": "2025-04-28T11:39:49.264282Z"
    }
   },
   "cell_type": "code",
   "source": [
    "fungi_taxids_basidiomycota = {\n",
    "    \"Agaricomycotina\": list(set(df_fungi[df_fungi.taxonomy.str.contains(\"Agaricomycotina\")].index)),\n",
    "    \"Pucciniomycotina\": list(set(df_fungi[df_fungi.taxonomy.str.contains(\"Pucciniomycotina\")].index)),\n",
    "    \"Ustilaginomycotina\": list(set(df_fungi[df_fungi.taxonomy.str.contains(\"Ustilaginomycotina\")].index)),\n",
    "    \"Wallemiomycotina\": list(set(df_fungi[df_fungi.taxonomy.str.contains(\"Wallemiomycotina\")].index)),\n",
    "}"
   ],
   "id": "fdaaea316121d2fd",
   "outputs": [],
   "execution_count": 5
  },
  {
   "metadata": {
    "ExecuteTime": {
     "end_time": "2025-04-28T11:41:46.011421Z",
     "start_time": "2025-04-28T11:39:50.659534Z"
    }
   },
   "cell_type": "code",
   "source": "download_all_files_ncbi(df, fungi_taxids_basidiomycota, phylas=list(fungi_taxids_basidiomycota.keys()))",
   "id": "badf5183c88cc828",
   "outputs": [
    {
     "name": "stdout",
     "output_type": "stream",
     "text": [
      "Gene, mRNA, protein for Agaricomycotina/marasmius_oreades_0 downloaded successfully\n",
      "Gene, mRNA, protein for Agaricomycotina/heterobasidion_irregulare_tc_32_1_1 downloaded successfully\n",
      "Gene, mRNA, protein for Agaricomycotina/dichomitus_squalens_lyad_421_ss1_2 downloaded successfully\n",
      "Gene, mRNA, protein for Agaricomycotina/kockovaella_imperatae_3 downloaded successfully\n",
      "Gene, mRNA, protein for Agaricomycotina/trichosporon_asahii_var._asahii_cbs_2479_4 downloaded successfully\n",
      "Gene, mRNA, protein for Agaricomycotina/gloeophyllum_trabeum_atcc_11539_5 downloaded successfully\n",
      "Gene, mRNA, protein for Agaricomycotina/tremella_mesenterica_dsm_1558_6 downloaded successfully\n",
      "Gene, mRNA, protein for Agaricomycotina/laccaria_bicolor_s238n_h82_7 downloaded successfully\n",
      "Gene, mRNA, protein for Agaricomycotina/serpula_lacrymans_var._lacrymans_s7.9_8 downloaded successfully\n",
      "Gene, mRNA, protein for Agaricomycotina/punctularia_strigosozonata_hhb_11173_ss5_9 downloaded successfully\n",
      "Gene, mRNA, protein for Agaricomycotina/suillus_clintonianus_10 downloaded successfully\n",
      "Gene, mRNA, protein for Agaricomycotina/fibroporia_radiculosa_11 downloaded successfully\n",
      "Gene, mRNA, protein for Agaricomycotina/rhizoctonia_solani_12 downloaded successfully\n",
      "Gene, mRNA, protein for Agaricomycotina/cantharellus_anzutake_13 downloaded successfully\n",
      "Gene, mRNA, protein for Agaricomycotina/guyanagaster_necrorhizus_mca_3950_14 downloaded successfully\n",
      "Gene, mRNA, protein for Agaricomycotina/tsuchiyaea_wingfieldii_cbs_7118_15 downloaded successfully\n",
      "Gene, mRNA, protein for Agaricomycotina/coprinopsis_cinerea_okayama7#130_16 downloaded successfully\n",
      "Gene, mRNA, protein for Agaricomycotina/cryptococcus_neoformans_var._grubii_h99_17 downloaded successfully\n",
      "Gene, mRNA, protein for Agaricomycotina/suillus_bovinus_18 downloaded successfully\n",
      "Gene, mRNA, protein for Agaricomycotina/fomitiporia_mediterranea_mf3_22_19 downloaded successfully\n",
      "Gene, mRNA, protein for Agaricomycotina/phanerochaete_carnosa_hhb_10118_sp_20 downloaded successfully\n",
      "Gene, mRNA, protein for Agaricomycotina/coniophora_puteana_rwd_64_598_ss2_21 downloaded successfully\n",
      "Gene, mRNA, protein for Agaricomycotina/suillus_subalutaceus_22 downloaded successfully\n",
      "Gene, mRNA, protein for Agaricomycotina/cutaneotrichosporon_oleaginosum_23 downloaded successfully\n",
      "Gene, mRNA, protein for Agaricomycotina/suillus_subaureus_24 downloaded successfully\n",
      "Gene, mRNA, protein for Agaricomycotina/pleurotus_ostreatus_25 downloaded successfully\n",
      "Gene, mRNA, protein for Agaricomycotina/kwoniella_shandongensis_26 downloaded successfully\n",
      "Gene, mRNA, protein for Agaricomycotina/stereum_hirsutum_fp_91666_ss1_27 downloaded successfully\n",
      "Gene, mRNA, protein for Agaricomycotina/laetiporus_sulphureus_93_53_28 downloaded successfully\n",
      "Gene, mRNA, protein for Agaricomycotina/mycena_indigotica_29 downloaded successfully\n",
      "Gene, mRNA, protein for Agaricomycotina/suillus_discolor_30 downloaded successfully\n",
      "Gene, mRNA, protein for Agaricomycotina/suillus_fuscotomentosus_31 downloaded successfully\n",
      "Gene, mRNA, protein for Agaricomycotina/suillus_fuscotomentosus_32 downloaded successfully\n",
      "Gene, mRNA, protein for Agaricomycotina/agaricus_bisporus_var._bisporus_h97_33 downloaded successfully\n",
      "Gene, mRNA, protein for Agaricomycotina/agaricus_bisporus_var._burnettii_jb137_s8_34 downloaded successfully\n",
      "Gene, mRNA, protein for Agaricomycotina/postia_placenta_mad_698_r_sb12_35 downloaded successfully\n",
      "Gene, mRNA, protein for Agaricomycotina/trametes_versicolor_fp_101664_ss1_36 downloaded successfully\n",
      "Gene, mRNA, protein for Agaricomycotina/suillus_plorans_37 downloaded successfully\n",
      "Gene GenBank for Agaricomycotina/marasmius_oreades_0 downloaded successfully\n",
      "Gene GenBank for Agaricomycotina/heterobasidion_irregulare_tc_32_1_1 downloaded successfully\n",
      "Gene GenBank for Agaricomycotina/dichomitus_squalens_lyad_421_ss1_2 downloaded successfully\n",
      "Gene GenBank for Agaricomycotina/kockovaella_imperatae_3 downloaded successfully\n",
      "Gene GenBank for Agaricomycotina/trichosporon_asahii_var._asahii_cbs_2479_4 downloaded successfully\n",
      "Gene GenBank for Agaricomycotina/gloeophyllum_trabeum_atcc_11539_5 downloaded successfully\n",
      "Gene GenBank for Agaricomycotina/tremella_mesenterica_dsm_1558_6 downloaded successfully\n",
      "Gene GenBank for Agaricomycotina/laccaria_bicolor_s238n_h82_7 downloaded successfully\n",
      "Gene GenBank for Agaricomycotina/serpula_lacrymans_var._lacrymans_s7.9_8 downloaded successfully\n",
      "Gene GenBank for Agaricomycotina/punctularia_strigosozonata_hhb_11173_ss5_9 downloaded successfully\n",
      "Gene GenBank for Agaricomycotina/suillus_clintonianus_10 downloaded successfully\n",
      "Gene GenBank for Agaricomycotina/fibroporia_radiculosa_11 downloaded successfully\n",
      "Gene GenBank for Agaricomycotina/rhizoctonia_solani_12 downloaded successfully\n",
      "Gene GenBank for Agaricomycotina/cantharellus_anzutake_13 downloaded successfully\n",
      "Gene GenBank for Agaricomycotina/guyanagaster_necrorhizus_mca_3950_14 downloaded successfully\n",
      "Gene GenBank for Agaricomycotina/tsuchiyaea_wingfieldii_cbs_7118_15 downloaded successfully\n",
      "Gene GenBank for Agaricomycotina/coprinopsis_cinerea_okayama7#130_16 downloaded successfully\n",
      "Gene GenBank for Agaricomycotina/cryptococcus_neoformans_var._grubii_h99_17 downloaded successfully\n",
      "Gene GenBank for Agaricomycotina/suillus_bovinus_18 downloaded successfully\n",
      "Gene GenBank for Agaricomycotina/fomitiporia_mediterranea_mf3_22_19 downloaded successfully\n",
      "Gene GenBank for Agaricomycotina/phanerochaete_carnosa_hhb_10118_sp_20 downloaded successfully\n",
      "Gene GenBank for Agaricomycotina/coniophora_puteana_rwd_64_598_ss2_21 downloaded successfully\n",
      "Gene GenBank for Agaricomycotina/suillus_subalutaceus_22 downloaded successfully\n",
      "Gene GenBank for Agaricomycotina/cutaneotrichosporon_oleaginosum_23 downloaded successfully\n",
      "Gene GenBank for Agaricomycotina/suillus_subaureus_24 downloaded successfully\n",
      "Gene GenBank for Agaricomycotina/pleurotus_ostreatus_25 downloaded successfully\n",
      "Gene GenBank for Agaricomycotina/kwoniella_shandongensis_26 downloaded successfully\n",
      "Gene GenBank for Agaricomycotina/stereum_hirsutum_fp_91666_ss1_27 downloaded successfully\n",
      "Gene GenBank for Agaricomycotina/laetiporus_sulphureus_93_53_28 downloaded successfully\n",
      "Gene GenBank for Agaricomycotina/mycena_indigotica_29 downloaded successfully\n",
      "Gene GenBank for Agaricomycotina/suillus_discolor_30 downloaded successfully\n",
      "Gene GenBank for Agaricomycotina/suillus_fuscotomentosus_31 downloaded successfully\n",
      "Gene GenBank for Agaricomycotina/suillus_fuscotomentosus_32 downloaded successfully\n",
      "Gene GenBank for Agaricomycotina/agaricus_bisporus_var._bisporus_h97_33 downloaded successfully\n",
      "Gene GenBank for Agaricomycotina/agaricus_bisporus_var._burnettii_jb137_s8_34 downloaded successfully\n",
      "Gene GenBank for Agaricomycotina/postia_placenta_mad_698_r_sb12_35 downloaded successfully\n",
      "Gene GenBank for Agaricomycotina/trametes_versicolor_fp_101664_ss1_36 downloaded successfully\n",
      "Gene GenBank for Agaricomycotina/suillus_plorans_37 downloaded successfully\n",
      "Exons for Agaricomycotina/marasmius_oreades_0 created successfully\n",
      "Exons for Agaricomycotina/heterobasidion_irregulare_tc_32_1_1 created successfully\n",
      "Exons for Agaricomycotina/dichomitus_squalens_lyad_421_ss1_2 created successfully\n",
      "Exons for Agaricomycotina/kockovaella_imperatae_3 created successfully\n",
      "Exons for Agaricomycotina/trichosporon_asahii_var._asahii_cbs_2479_4 created successfully\n",
      "Exons for Agaricomycotina/gloeophyllum_trabeum_atcc_11539_5 created successfully\n",
      "Exons for Agaricomycotina/tremella_mesenterica_dsm_1558_6 created successfully\n",
      "Exons for Agaricomycotina/laccaria_bicolor_s238n_h82_7 created successfully\n",
      "Exons for Agaricomycotina/serpula_lacrymans_var._lacrymans_s7.9_8 created successfully\n",
      "Exons for Agaricomycotina/punctularia_strigosozonata_hhb_11173_ss5_9 created successfully\n",
      "Exons for Agaricomycotina/suillus_clintonianus_10 created successfully\n",
      "Exons for Agaricomycotina/fibroporia_radiculosa_11 created successfully\n",
      "Exons for Agaricomycotina/rhizoctonia_solani_12 created successfully\n",
      "Exons for Agaricomycotina/cantharellus_anzutake_13 created successfully\n",
      "Exons for Agaricomycotina/guyanagaster_necrorhizus_mca_3950_14 created successfully\n",
      "Exons for Agaricomycotina/tsuchiyaea_wingfieldii_cbs_7118_15 created successfully\n",
      "Exons for Agaricomycotina/coprinopsis_cinerea_okayama7#130_16 created successfully\n",
      "Exons for Agaricomycotina/cryptococcus_neoformans_var._grubii_h99_17 created successfully\n",
      "Exons for Agaricomycotina/suillus_bovinus_18 created successfully\n",
      "Exons for Agaricomycotina/fomitiporia_mediterranea_mf3_22_19 created successfully\n",
      "Exons for Agaricomycotina/phanerochaete_carnosa_hhb_10118_sp_20 created successfully\n",
      "Exons for Agaricomycotina/coniophora_puteana_rwd_64_598_ss2_21 created successfully\n",
      "Exons for Agaricomycotina/suillus_subalutaceus_22 created successfully\n",
      "Exons for Agaricomycotina/cutaneotrichosporon_oleaginosum_23 created successfully\n",
      "Exons for Agaricomycotina/suillus_subaureus_24 created successfully\n",
      "Exons for Agaricomycotina/pleurotus_ostreatus_25 created successfully\n",
      "Exons for Agaricomycotina/kwoniella_shandongensis_26 created successfully\n",
      "Exons for Agaricomycotina/stereum_hirsutum_fp_91666_ss1_27 created successfully\n",
      "Exons for Agaricomycotina/laetiporus_sulphureus_93_53_28 created successfully\n",
      "Exons for Agaricomycotina/mycena_indigotica_29 created successfully\n",
      "Exons for Agaricomycotina/suillus_discolor_30 created successfully\n",
      "Exons for Agaricomycotina/suillus_fuscotomentosus_31 created successfully\n",
      "Exons for Agaricomycotina/suillus_fuscotomentosus_32 created successfully\n",
      "Exons for Agaricomycotina/agaricus_bisporus_var._bisporus_h97_33 created successfully\n",
      "Exons for Agaricomycotina/agaricus_bisporus_var._burnettii_jb137_s8_34 created successfully\n",
      "Exons for Agaricomycotina/postia_placenta_mad_698_r_sb12_35 created successfully\n",
      "Exons for Agaricomycotina/trametes_versicolor_fp_101664_ss1_36 created successfully\n",
      "Exons for Agaricomycotina/suillus_plorans_37 created successfully\n",
      "\n",
      "Gene, mRNA, protein for Pucciniomycotina/rhodotorula_toruloides_np11_0 downloaded successfully\n",
      "Gene, mRNA, protein for Pucciniomycotina/puccinia_graminis_f._sp._tritici_crl_75_36_700_3_1 downloaded successfully\n",
      "Gene, mRNA, protein for Pucciniomycotina/melampsora_larici_populina_98ag31_2 downloaded successfully\n",
      "Gene, mRNA, protein for Pucciniomycotina/mixia_osmundae_iam_14324_3 downloaded successfully\n",
      "Gene GenBank for Pucciniomycotina/rhodotorula_toruloides_np11_0 downloaded successfully\n",
      "Gene GenBank for Pucciniomycotina/puccinia_graminis_f._sp._tritici_crl_75_36_700_3_1 downloaded successfully\n",
      "Gene GenBank for Pucciniomycotina/melampsora_larici_populina_98ag31_2 downloaded successfully\n",
      "Gene GenBank for Pucciniomycotina/mixia_osmundae_iam_14324_3 downloaded successfully\n",
      "Exons for Pucciniomycotina/rhodotorula_toruloides_np11_0 created successfully\n",
      "Exons for Pucciniomycotina/puccinia_graminis_f._sp._tritici_crl_75_36_700_3_1 created successfully\n",
      "Exons for Pucciniomycotina/melampsora_larici_populina_98ag31_2 created successfully\n",
      "Exons for Pucciniomycotina/mixia_osmundae_iam_14324_3 created successfully\n",
      "\n",
      "Gene, mRNA, protein for Ustilaginomycotina/pseudomicrostroma_glucosiphilum_0 downloaded successfully\n",
      "Gene, mRNA, protein for Ustilaginomycotina/tilletiaria_anomala_ubc_951_1 downloaded successfully\n",
      "Gene, mRNA, protein for Ustilaginomycotina/jaminaea_rosea_2 downloaded successfully\n",
      "Gene GenBank for Ustilaginomycotina/pseudomicrostroma_glucosiphilum_0 downloaded successfully\n",
      "Gene GenBank for Ustilaginomycotina/tilletiaria_anomala_ubc_951_1 downloaded successfully\n",
      "Gene GenBank for Ustilaginomycotina/jaminaea_rosea_2 downloaded successfully\n",
      "Exons for Ustilaginomycotina/pseudomicrostroma_glucosiphilum_0 created successfully\n",
      "Exons for Ustilaginomycotina/tilletiaria_anomala_ubc_951_1 created successfully\n",
      "Exons for Ustilaginomycotina/jaminaea_rosea_2 created successfully\n",
      "\n",
      "Gene, mRNA, protein for Wallemiomycotina/wallemia_mellicola_cbs_633.66_0 downloaded successfully\n",
      "Gene, mRNA, protein for Wallemiomycotina/wallemia_ichthyophaga_exf_994_1 downloaded successfully\n",
      "Gene GenBank for Wallemiomycotina/wallemia_mellicola_cbs_633.66_0 downloaded successfully\n",
      "Gene GenBank for Wallemiomycotina/wallemia_ichthyophaga_exf_994_1 downloaded successfully\n",
      "Exons for Wallemiomycotina/wallemia_mellicola_cbs_633.66_0 created successfully\n",
      "Exons for Wallemiomycotina/wallemia_ichthyophaga_exf_994_1 created successfully\n",
      "\n"
     ]
    }
   ],
   "execution_count": 6
  },
  {
   "metadata": {},
   "cell_type": "code",
   "outputs": [],
   "execution_count": null,
   "source": "",
   "id": "e5c94cb7ed43ebc4"
  },
  {
   "metadata": {},
   "cell_type": "code",
   "outputs": [],
   "execution_count": null,
   "source": "",
   "id": "9d65baf171db775a"
  },
  {
   "metadata": {
    "ExecuteTime": {
     "end_time": "2025-04-28T11:57:42.431929Z",
     "start_time": "2025-04-28T11:57:42.430203Z"
    }
   },
   "cell_type": "code",
   "source": "import os",
   "id": "71b19e6c2e4609c1",
   "outputs": [],
   "execution_count": 7
  },
  {
   "metadata": {
    "ExecuteTime": {
     "end_time": "2025-04-28T12:37:48.634800Z",
     "start_time": "2025-04-28T12:37:48.631145Z"
    }
   },
   "cell_type": "code",
   "source": [
    "dir_name = \"Basidiomycota\"\n",
    "big_list = []\n",
    "\n",
    "for folder_name in os.listdir(f\"../Datasets/{dir_name}/\"):\n",
    "    print(folder_name)\n",
    "    ascomycota_dict = {folder_name: []}\n",
    "    for org_name in os.listdir(f\"../Datasets/{dir_name}/{folder_name}\"):\n",
    "        seq = \"\"\n",
    "        with open(f\"../Datasets/{dir_name}/{folder_name}/{org_name}/ncbi_dataset/data/gene.fna\", \"r\") as infile:\n",
    "            for line in infile:\n",
    "                if line.startswith(\">\"):\n",
    "                    continue\n",
    "                seq += line.strip()\n",
    "        ascomycota_dict[folder_name].append({org_name: len(seq)})\n",
    "    big_list.append(ascomycota_dict)"
   ],
   "id": "f4b55488433248f6",
   "outputs": [
    {
     "name": "stdout",
     "output_type": "stream",
     "text": [
      "Agaricomycotina\n",
      "Pucciniomycotina\n",
      "Wallemiomycotina\n",
      "Ustilaginomycotina\n"
     ]
    }
   ],
   "execution_count": 62
  },
  {
   "metadata": {
    "ExecuteTime": {
     "end_time": "2025-04-28T12:37:50.809561Z",
     "start_time": "2025-04-28T12:37:50.806780Z"
    }
   },
   "cell_type": "code",
   "source": "big_list",
   "id": "de3367ba6fe37dd7",
   "outputs": [
    {
     "data": {
      "text/plain": [
       "[{'Agaricomycotina': [{'mycena_indigotica_29': 2285},\n",
       "   {'fibroporia_radiculosa_11': 2414},\n",
       "   {'agaricus_bisporus_var._bisporus_h97_33': 2703},\n",
       "   {'phanerochaete_carnosa_hhb_10118_sp_20': 2771},\n",
       "   {'stereum_hirsutum_fp_91666_ss1_27': 3047},\n",
       "   {'trametes_versicolor_fp_101664_ss1_36': 2413},\n",
       "   {'tsuchiyaea_wingfieldii_cbs_7118_15': 2742},\n",
       "   {'cutaneotrichosporon_oleaginosum_23': 2749},\n",
       "   {'tremella_mesenterica_dsm_1558_6': 3286},\n",
       "   {'heterobasidion_irregulare_tc_32_1_1': 2672},\n",
       "   {'dichomitus_squalens_lyad_421_ss1_2': 2854},\n",
       "   {'gloeophyllum_trabeum_atcc_11539_5': 2296},\n",
       "   {'pleurotus_ostreatus_25': 2359},\n",
       "   {'postia_placenta_mad_698_r_sb12_35': 2616},\n",
       "   {'trichosporon_asahii_var._asahii_cbs_2479_4': 306},\n",
       "   {'marasmius_oreades_0': 2331},\n",
       "   {'suillus_fuscotomentosus_32': 3030},\n",
       "   {'guyanagaster_necrorhizus_mca_3950_14': 2549},\n",
       "   {'cantharellus_anzutake_13': 2371},\n",
       "   {'punctularia_strigosozonata_hhb_11173_ss5_9': 5238},\n",
       "   {'suillus_clintonianus_10': 2610},\n",
       "   {'suillus_discolor_30': 3142},\n",
       "   {'suillus_subaureus_24': 3108},\n",
       "   {'cryptococcus_neoformans_var._grubii_h99_17': 3137},\n",
       "   {'suillus_subalutaceus_22': 3283},\n",
       "   {'kockovaella_imperatae_3': 2589},\n",
       "   {'serpula_lacrymans_var._lacrymans_s7.9_8': 2819},\n",
       "   {'suillus_plorans_37': 3069},\n",
       "   {'agaricus_bisporus_var._burnettii_jb137_s8_34': 2705},\n",
       "   {'laetiporus_sulphureus_93_53_28': 2783},\n",
       "   {'laccaria_bicolor_s238n_h82_7': 2192},\n",
       "   {'kwoniella_shandongensis_26': 2909},\n",
       "   {'fomitiporia_mediterranea_mf3_22_19': 2836},\n",
       "   {'suillus_fuscotomentosus_31': 3030},\n",
       "   {'coprinopsis_cinerea_okayama7#130_16': 2665},\n",
       "   {'coniophora_puteana_rwd_64_598_ss2_21': 3138},\n",
       "   {'rhizoctonia_solani_12': 2575},\n",
       "   {'suillus_bovinus_18': 3112}]},\n",
       " {'Pucciniomycotina': [{'melampsora_larici_populina_98ag31_2': 3077},\n",
       "   {'puccinia_graminis_f._sp._tritici_crl_75_36_700_3_1': 2956},\n",
       "   {'rhodotorula_toruloides_np11_0': 2529},\n",
       "   {'mixia_osmundae_iam_14324_3': 2453}]},\n",
       " {'Wallemiomycotina': [{'wallemia_mellicola_cbs_633.66_0': 1823},\n",
       "   {'wallemia_ichthyophaga_exf_994_1': 1782}]},\n",
       " {'Ustilaginomycotina': [{'tilletiaria_anomala_ubc_951_1': 2736},\n",
       "   {'jaminaea_rosea_2': 2526},\n",
       "   {'pseudomicrostroma_glucosiphilum_0': 2821}]}]"
      ]
     },
     "execution_count": 63,
     "metadata": {},
     "output_type": "execute_result"
    }
   ],
   "execution_count": 63
  },
  {
   "metadata": {
    "ExecuteTime": {
     "end_time": "2025-04-28T12:22:20.678078Z",
     "start_time": "2025-04-28T12:22:20.676312Z"
    }
   },
   "cell_type": "code",
   "source": [
    "org_names = [\n",
    "    list(org_name.keys())[0] for org_name in big_list[2][\"Pezizomycotina\"]\n",
    "]"
   ],
   "id": "be9332ce8cc29ecf",
   "outputs": [],
   "execution_count": 48
  },
  {
   "metadata": {
    "ExecuteTime": {
     "end_time": "2025-04-28T12:22:21.436681Z",
     "start_time": "2025-04-28T12:22:21.434557Z"
    }
   },
   "cell_type": "code",
   "source": "org_names",
   "id": "791b4ab786dabbec",
   "outputs": [
    {
     "data": {
      "text/plain": [
       "['orbilia_oligospora_atcc_24927_55',\n",
       " 'fusarium_odoratissimum_nrrl_54006_21',\n",
       " \"drepanopeziza_brunnea_f._sp._'multigermtubi'_36\",\n",
       " 'sphaerulina_musiva_so2202_22',\n",
       " 'fusarium_vanettenii_77-13-4_14',\n",
       " 'thermochaetoides_thermophila_dsm_1495_50',\n",
       " 'neohortaea_acidophila_37',\n",
       " 'gaeumannomyces_tritici_r3-111a-1_0',\n",
       " 'coniosporium_apollinis_cbs_100218_47',\n",
       " 'cercospora_beticola_2',\n",
       " 'verruconis_gallopava_29',\n",
       " 'aureobasidium_pullulans_exf-150_27',\n",
       " 'pyricularia_pennisetigena_20',\n",
       " 'zymoseptoria_tritici_ipo323_45',\n",
       " 'pseudomassariella_vexata_51',\n",
       " 'lindgomyces_ingoldianus_11',\n",
       " 'penicillium_solitum_8',\n",
       " 'botrytis_byssoidea_58',\n",
       " 'botrytis_fragariae_5',\n",
       " 'glarea_lozoyensis_atcc_20868_33',\n",
       " 'penicillium_digitatum_18',\n",
       " 'cladophialophora_immunda_13',\n",
       " 'microsporum_canis_cbs_113480_19',\n",
       " 'pyricularia_oryzae_70-15_38',\n",
       " 'amorphotheca_resinae_atcc_22711_60',\n",
       " 'aureobasidium_melanogenum_cbs_110374_28',\n",
       " 'sclerotinia_sclerotiorum_1980_uf-70_3',\n",
       " 'sporothrix_schenckii_1099-18_54',\n",
       " 'venustampulla_echinocandica_10',\n",
       " 'diaporthe_batatas_46',\n",
       " 'bacidia_gigantensis_25',\n",
       " 'botrytis_porri_30',\n",
       " 'botrytis_cinerea_b05.10_49',\n",
       " 'baudoinia_panamericana_uamh_10762_41',\n",
       " 'zasmidium_cellare_atcc_36951_17',\n",
       " 'botrytis_deweyae_15',\n",
       " 'baudoinia_panamericana_uamh_10762_40',\n",
       " 'letharia_columbiana_16',\n",
       " 'aspergillus_niger_35',\n",
       " 'lachnellula_hyalina_24',\n",
       " 'dissoconium_aciculare_cbs_342.82_48',\n",
       " 'morchella_sextelata_12',\n",
       " 'sporothrix_brasiliensis_5110_7',\n",
       " 'fonsecaea_pedrosoi_cbs_271.37_32',\n",
       " 'ustilaginoidea_virens_4',\n",
       " 'letharia_lupina_59',\n",
       " 'cercospora_kikuchii_23',\n",
       " 'fonsecaea_monophora_52',\n",
       " 'pyricularia_grisea_44',\n",
       " 'endocarpon_pusillum_z07020_26',\n",
       " 'pseudocercospora_fijiensis_cirad86_53',\n",
       " 'pseudovirgaria_hyperparasitica_43',\n",
       " 'botrytis_sinoallii_31',\n",
       " 'grosmannia_clavigera_kw1407_56',\n",
       " 'cercospora_beticola_1',\n",
       " 'thyridium_curvatum_9',\n",
       " 'mytilinidion_resinicola_34',\n",
       " 'scedosporium_apiospermum_6',\n",
       " 'parastagonospora_nodorum_sn15_42',\n",
       " 'lasiodiplodia_theobromae_39',\n",
       " 'tuber_melanosporum_57']"
      ]
     },
     "execution_count": 49,
     "metadata": {},
     "output_type": "execute_result"
    }
   ],
   "execution_count": 49
  },
  {
   "metadata": {
    "ExecuteTime": {
     "end_time": "2025-04-28T12:22:37.906640Z",
     "start_time": "2025-04-28T12:22:37.903628Z"
    }
   },
   "cell_type": "code",
   "source": [
    "from Scripts.data_processing import dict_align_create, analyze_exons\n",
    "\n",
    "dict_align = dict_align_create(\"Ascomycota/Pezizomycotina\", org_names, \"gene\")"
   ],
   "id": "9edd1100f94c0ab4",
   "outputs": [],
   "execution_count": 50
  },
  {
   "metadata": {
    "ExecuteTime": {
     "end_time": "2025-04-28T12:22:38.760298Z",
     "start_time": "2025-04-28T12:22:38.757875Z"
    }
   },
   "cell_type": "code",
   "source": [
    "from Scripts.fasta_processing import dict_align_to_fasta\n",
    "\n",
    "dict_align_to_fasta(dict_align, f\"../Alignment/Pezizomycotina_gene.fa\")\n",
    "dict_align_to_fasta(dict_align, f\"../Alignment/Pezizomycotina_gene.aln\")"
   ],
   "id": "9005893aab4eb83b",
   "outputs": [],
   "execution_count": 51
  },
  {
   "metadata": {
    "ExecuteTime": {
     "end_time": "2025-04-28T12:37:59.922986Z",
     "start_time": "2025-04-28T12:37:59.919830Z"
    }
   },
   "cell_type": "code",
   "source": [
    "dir_name = \"Basidiomycota\"\n",
    "big_list = []\n",
    "\n",
    "for folder_name in os.listdir(f\"../Datasets/{dir_name}/\"):\n",
    "    ascomycota_dict = {folder_name: []}\n",
    "    for org_name in os.listdir(f\"../Datasets/{dir_name}/{folder_name}\"):\n",
    "        seq = \"\"\n",
    "        with open(f\"../Datasets/{dir_name}/{folder_name}/{org_name}/ncbi_dataset/data/exons.fa\", \"r\") as infile:\n",
    "            exons_count = 0\n",
    "            for line in infile:\n",
    "                if line.startswith(\">\"):\n",
    "                    exons_count += 1\n",
    "        ascomycota_dict[folder_name].append({org_name: exons_count})\n",
    "    big_list.append(ascomycota_dict)"
   ],
   "id": "fb2ad67615172f63",
   "outputs": [],
   "execution_count": 64
  },
  {
   "metadata": {
    "ExecuteTime": {
     "end_time": "2025-04-28T12:38:01.526697Z",
     "start_time": "2025-04-28T12:38:01.524033Z"
    }
   },
   "cell_type": "code",
   "source": "big_list",
   "id": "b5b06bef44a581a2",
   "outputs": [
    {
     "data": {
      "text/plain": [
       "[{'Agaricomycotina': [{'mycena_indigotica_29': 9},\n",
       "   {'fibroporia_radiculosa_11': 10},\n",
       "   {'agaricus_bisporus_var._bisporus_h97_33': 9},\n",
       "   {'phanerochaete_carnosa_hhb_10118_sp_20': 10},\n",
       "   {'stereum_hirsutum_fp_91666_ss1_27': 8},\n",
       "   {'trametes_versicolor_fp_101664_ss1_36': 8},\n",
       "   {'tsuchiyaea_wingfieldii_cbs_7118_15': 8},\n",
       "   {'cutaneotrichosporon_oleaginosum_23': 8},\n",
       "   {'tremella_mesenterica_dsm_1558_6': 8},\n",
       "   {'heterobasidion_irregulare_tc_32_1_1': 10},\n",
       "   {'dichomitus_squalens_lyad_421_ss1_2': 8},\n",
       "   {'gloeophyllum_trabeum_atcc_11539_5': 8},\n",
       "   {'pleurotus_ostreatus_25': 9},\n",
       "   {'postia_placenta_mad_698_r_sb12_35': 10},\n",
       "   {'trichosporon_asahii_var._asahii_cbs_2479_4': 1},\n",
       "   {'marasmius_oreades_0': 9},\n",
       "   {'suillus_fuscotomentosus_32': 10},\n",
       "   {'guyanagaster_necrorhizus_mca_3950_14': 9},\n",
       "   {'cantharellus_anzutake_13': 8},\n",
       "   {'punctularia_strigosozonata_hhb_11173_ss5_9': 9},\n",
       "   {'suillus_clintonianus_10': 10},\n",
       "   {'suillus_discolor_30': 10},\n",
       "   {'suillus_subaureus_24': 10},\n",
       "   {'cryptococcus_neoformans_var._grubii_h99_17': 7},\n",
       "   {'suillus_subalutaceus_22': 11},\n",
       "   {'kockovaella_imperatae_3': 9},\n",
       "   {'serpula_lacrymans_var._lacrymans_s7.9_8': 10},\n",
       "   {'suillus_plorans_37': 10},\n",
       "   {'agaricus_bisporus_var._burnettii_jb137_s8_34': 9},\n",
       "   {'laetiporus_sulphureus_93_53_28': 10},\n",
       "   {'laccaria_bicolor_s238n_h82_7': 9},\n",
       "   {'kwoniella_shandongensis_26': 8},\n",
       "   {'fomitiporia_mediterranea_mf3_22_19': 9},\n",
       "   {'suillus_fuscotomentosus_31': 10},\n",
       "   {'coprinopsis_cinerea_okayama7#130_16': 10},\n",
       "   {'coniophora_puteana_rwd_64_598_ss2_21': 9},\n",
       "   {'rhizoctonia_solani_12': 10},\n",
       "   {'suillus_bovinus_18': 10}]},\n",
       " {'Pucciniomycotina': [{'melampsora_larici_populina_98ag31_2': 7},\n",
       "   {'puccinia_graminis_f._sp._tritici_crl_75_36_700_3_1': 7},\n",
       "   {'rhodotorula_toruloides_np11_0': 9},\n",
       "   {'mixia_osmundae_iam_14324_3': 9}]},\n",
       " {'Wallemiomycotina': [{'wallemia_mellicola_cbs_633.66_0': 3},\n",
       "   {'wallemia_ichthyophaga_exf_994_1': 2}]},\n",
       " {'Ustilaginomycotina': [{'tilletiaria_anomala_ubc_951_1': 5},\n",
       "   {'jaminaea_rosea_2': 3},\n",
       "   {'pseudomicrostroma_glucosiphilum_0': 3}]}]"
      ]
     },
     "execution_count": 65,
     "metadata": {},
     "output_type": "execute_result"
    }
   ],
   "execution_count": 65
  },
  {
   "metadata": {
    "ExecuteTime": {
     "end_time": "2025-04-28T12:43:54.047165Z",
     "start_time": "2025-04-28T12:43:54.043266Z"
    }
   },
   "cell_type": "code",
   "source": "analyze_exons(f\"../Datasets/Basidiomycota/Agaricomycotina/mycena_indigotica_29/ncbi_dataset/data/exons.fa\")",
   "id": "6429257fae993661",
   "outputs": [
    {
     "data": {
      "text/plain": [
       "   length     coords                                           sequence\n",
       "0     216      0-216  CCCACACACATCTACACAATGTTCTCCAGCCCAACCCCTGCGCCAG...\n",
       "1     167    255-422  GTCATCGACCTCTCCTCTCTCTCTCTCGACTACTTGAAACCCACCG...\n",
       "2     109    466-575  TCCAGCCTCAAGCCGTATCCTTGCTGGTAAATCAACTCGAACCCTG...\n",
       "3     410   622-1032  TCCATCCAAGATGACGAAATAATTCGGAAGCATGGTCTTCAAACCC...\n",
       "4     581  1086-1667  GGAGGCTCTACGTCGATTCCTCACCCTTGAGCTACTTGATCAAGAA...\n",
       "5      67  1716-1783  CGCCTTCCCAGGGCATCCGCTCATTCGATAGAACCTTCATCTTGGC...\n",
       "6     178  1828-2006  TGCTAGAGCCAATGGCTGGGACGTTGTCATCCTCTCCGATCAGTGG...\n",
       "7     132  2058-2190  CCTGAGGCCCAGCGGCCTGCCGTCCTGGAACTCTGCGGCCGCTCCC...\n",
       "8      45  2240-2285      GCGACACTACCGCCAGACGCATTCTTACGACCTATGGCATCCTAA"
      ],
      "text/html": [
       "<div>\n",
       "<style scoped>\n",
       "    .dataframe tbody tr th:only-of-type {\n",
       "        vertical-align: middle;\n",
       "    }\n",
       "\n",
       "    .dataframe tbody tr th {\n",
       "        vertical-align: top;\n",
       "    }\n",
       "\n",
       "    .dataframe thead th {\n",
       "        text-align: right;\n",
       "    }\n",
       "</style>\n",
       "<table border=\"1\" class=\"dataframe\">\n",
       "  <thead>\n",
       "    <tr style=\"text-align: right;\">\n",
       "      <th></th>\n",
       "      <th>length</th>\n",
       "      <th>coords</th>\n",
       "      <th>sequence</th>\n",
       "    </tr>\n",
       "  </thead>\n",
       "  <tbody>\n",
       "    <tr>\n",
       "      <th>0</th>\n",
       "      <td>216</td>\n",
       "      <td>0-216</td>\n",
       "      <td>CCCACACACATCTACACAATGTTCTCCAGCCCAACCCCTGCGCCAG...</td>\n",
       "    </tr>\n",
       "    <tr>\n",
       "      <th>1</th>\n",
       "      <td>167</td>\n",
       "      <td>255-422</td>\n",
       "      <td>GTCATCGACCTCTCCTCTCTCTCTCTCGACTACTTGAAACCCACCG...</td>\n",
       "    </tr>\n",
       "    <tr>\n",
       "      <th>2</th>\n",
       "      <td>109</td>\n",
       "      <td>466-575</td>\n",
       "      <td>TCCAGCCTCAAGCCGTATCCTTGCTGGTAAATCAACTCGAACCCTG...</td>\n",
       "    </tr>\n",
       "    <tr>\n",
       "      <th>3</th>\n",
       "      <td>410</td>\n",
       "      <td>622-1032</td>\n",
       "      <td>TCCATCCAAGATGACGAAATAATTCGGAAGCATGGTCTTCAAACCC...</td>\n",
       "    </tr>\n",
       "    <tr>\n",
       "      <th>4</th>\n",
       "      <td>581</td>\n",
       "      <td>1086-1667</td>\n",
       "      <td>GGAGGCTCTACGTCGATTCCTCACCCTTGAGCTACTTGATCAAGAA...</td>\n",
       "    </tr>\n",
       "    <tr>\n",
       "      <th>5</th>\n",
       "      <td>67</td>\n",
       "      <td>1716-1783</td>\n",
       "      <td>CGCCTTCCCAGGGCATCCGCTCATTCGATAGAACCTTCATCTTGGC...</td>\n",
       "    </tr>\n",
       "    <tr>\n",
       "      <th>6</th>\n",
       "      <td>178</td>\n",
       "      <td>1828-2006</td>\n",
       "      <td>TGCTAGAGCCAATGGCTGGGACGTTGTCATCCTCTCCGATCAGTGG...</td>\n",
       "    </tr>\n",
       "    <tr>\n",
       "      <th>7</th>\n",
       "      <td>132</td>\n",
       "      <td>2058-2190</td>\n",
       "      <td>CCTGAGGCCCAGCGGCCTGCCGTCCTGGAACTCTGCGGCCGCTCCC...</td>\n",
       "    </tr>\n",
       "    <tr>\n",
       "      <th>8</th>\n",
       "      <td>45</td>\n",
       "      <td>2240-2285</td>\n",
       "      <td>GCGACACTACCGCCAGACGCATTCTTACGACCTATGGCATCCTAA</td>\n",
       "    </tr>\n",
       "  </tbody>\n",
       "</table>\n",
       "</div>"
      ]
     },
     "execution_count": 75,
     "metadata": {},
     "output_type": "execute_result"
    }
   ],
   "execution_count": 75
  },
  {
   "metadata": {
    "ExecuteTime": {
     "end_time": "2025-04-28T12:43:23.510297Z",
     "start_time": "2025-04-28T12:43:23.508311Z"
    }
   },
   "cell_type": "code",
   "source": [
    "from data_processing import analyze_exons\n",
    "\n",
    "org_names = [\n",
    "    list(org_name.keys())[0] for org_name in big_list[0][\"Agaricomycotina\"]\n",
    "]"
   ],
   "id": "37c673d433226a7b",
   "outputs": [],
   "execution_count": 72
  },
  {
   "metadata": {
    "ExecuteTime": {
     "end_time": "2025-04-28T12:43:24.057632Z",
     "start_time": "2025-04-28T12:43:24.055348Z"
    }
   },
   "cell_type": "code",
   "source": "org_names",
   "id": "9eecf09493df9cf7",
   "outputs": [
    {
     "data": {
      "text/plain": [
       "['mycena_indigotica_29',\n",
       " 'fibroporia_radiculosa_11',\n",
       " 'agaricus_bisporus_var._bisporus_h97_33',\n",
       " 'phanerochaete_carnosa_hhb_10118_sp_20',\n",
       " 'stereum_hirsutum_fp_91666_ss1_27',\n",
       " 'trametes_versicolor_fp_101664_ss1_36',\n",
       " 'tsuchiyaea_wingfieldii_cbs_7118_15',\n",
       " 'cutaneotrichosporon_oleaginosum_23',\n",
       " 'tremella_mesenterica_dsm_1558_6',\n",
       " 'heterobasidion_irregulare_tc_32_1_1',\n",
       " 'dichomitus_squalens_lyad_421_ss1_2',\n",
       " 'gloeophyllum_trabeum_atcc_11539_5',\n",
       " 'pleurotus_ostreatus_25',\n",
       " 'postia_placenta_mad_698_r_sb12_35',\n",
       " 'trichosporon_asahii_var._asahii_cbs_2479_4',\n",
       " 'marasmius_oreades_0',\n",
       " 'suillus_fuscotomentosus_32',\n",
       " 'guyanagaster_necrorhizus_mca_3950_14',\n",
       " 'cantharellus_anzutake_13',\n",
       " 'punctularia_strigosozonata_hhb_11173_ss5_9',\n",
       " 'suillus_clintonianus_10',\n",
       " 'suillus_discolor_30',\n",
       " 'suillus_subaureus_24',\n",
       " 'cryptococcus_neoformans_var._grubii_h99_17',\n",
       " 'suillus_subalutaceus_22',\n",
       " 'kockovaella_imperatae_3',\n",
       " 'serpula_lacrymans_var._lacrymans_s7.9_8',\n",
       " 'suillus_plorans_37',\n",
       " 'agaricus_bisporus_var._burnettii_jb137_s8_34',\n",
       " 'laetiporus_sulphureus_93_53_28',\n",
       " 'laccaria_bicolor_s238n_h82_7',\n",
       " 'kwoniella_shandongensis_26',\n",
       " 'fomitiporia_mediterranea_mf3_22_19',\n",
       " 'suillus_fuscotomentosus_31',\n",
       " 'coprinopsis_cinerea_okayama7#130_16',\n",
       " 'coniophora_puteana_rwd_64_598_ss2_21',\n",
       " 'rhizoctonia_solani_12',\n",
       " 'suillus_bovinus_18']"
      ]
     },
     "execution_count": 73,
     "metadata": {},
     "output_type": "execute_result"
    }
   ],
   "execution_count": 73
  },
  {
   "metadata": {
    "ExecuteTime": {
     "end_time": "2025-04-28T12:50:51.949553Z",
     "start_time": "2025-04-28T12:50:51.941098Z"
    }
   },
   "cell_type": "code",
   "source": [
    "exons_length_list = []\n",
    "\n",
    "for org_name in org_names:\n",
    "    df_analyze_exons = analyze_exons(f\"../Datasets/Basidiomycota/Agaricomycotina/{org_name}/ncbi_dataset/data/exons.fa\")\n",
    "    exons_length_list.append(df_analyze_exons.length.tolist())"
   ],
   "id": "bfde76eb20986210",
   "outputs": [],
   "execution_count": 87
  },
  {
   "metadata": {
    "ExecuteTime": {
     "end_time": "2025-04-28T12:50:54.683174Z",
     "start_time": "2025-04-28T12:50:54.679390Z"
    }
   },
   "cell_type": "code",
   "source": "exons_length_list",
   "id": "59ff6d71c8aebded",
   "outputs": [
    {
     "data": {
      "text/plain": [
       "[[216, 167, 109, 410, 581, 67, 178, 132, 45],\n",
       " [234, 189, 114, 242, 198, 404, 67, 181, 132, 30],\n",
       " [290, 207, 114, 239, 198, 398, 67, 193, 456],\n",
       " [362, 204, 114, 242, 195, 404, 67, 199, 132, 251],\n",
       " [277, 216, 117, 251, 605, 296, 132, 505],\n",
       " [345, 114, 242, 599, 67, 154, 132, 331],\n",
       " [213, 285, 117, 290, 213, 404, 67, 376],\n",
       " [177, 282, 117, 287, 213, 395, 67, 337],\n",
       " [426, 303, 117, 290, 213, 395, 67, 636],\n",
       " [227, 204, 117, 242, 198, 395, 67, 187, 132, 264],\n",
       " [698, 114, 242, 596, 67, 154, 132, 409],\n",
       " [237, 117, 242, 192, 395, 245, 132, 339],\n",
       " [201, 216, 353, 195, 401, 67, 190, 132, 30],\n",
       " [131, 133, 117, 242, 198, 404, 67, 181, 132, 286],\n",
       " [306],\n",
       " [195, 225, 114, 239, 195, 398, 67, 223, 147],\n",
       " [360, 210, 117, 242, 195, 395, 67, 214, 132, 311],\n",
       " [186, 291, 114, 245, 593, 67, 202, 132, 325],\n",
       " [243, 255, 368, 593, 67, 262, 136, 32],\n",
       " [666, 716, 1814, 120, 242, 201, 404, 401, 222],\n",
       " [201, 213, 117, 242, 195, 395, 67, 211, 132, 30],\n",
       " [356, 210, 117, 242, 195, 395, 67, 214, 132, 427],\n",
       " [392, 213, 117, 242, 195, 395, 67, 217, 132, 324],\n",
       " [258, 282, 117, 290, 213, 468, 1001],\n",
       " [580, 213, 117, 242, 195, 395, 67, 217, 132, 99, 175],\n",
       " [360, 120, 315, 117, 290, 213, 404, 67, 345],\n",
       " [329, 234, 117, 242, 195, 404, 67, 190, 132, 292],\n",
       " [403, 210, 117, 242, 195, 395, 67, 214, 132, 307],\n",
       " [290, 207, 114, 239, 198, 398, 67, 193, 457],\n",
       " [380, 189, 117, 242, 198, 404, 67, 193, 132, 252],\n",
       " [279, 117, 239, 195, 404, 67, 211, 132, 30],\n",
       " [264, 315, 117, 290, 213, 401, 67, 334],\n",
       " [322, 180, 359, 201, 416, 67, 226, 132, 299],\n",
       " [360, 210, 117, 242, 195, 395, 67, 214, 132, 311],\n",
       " [207, 243, 117, 239, 192, 395, 67, 235, 132, 267],\n",
       " [321, 255, 117, 242, 198, 386, 314, 132, 357],\n",
       " [282, 234, 117, 254, 219, 449, 89, 133, 131, 45],\n",
       " [359, 210, 117, 242, 195, 395, 67, 220, 132, 375]]"
      ]
     },
     "execution_count": 88,
     "metadata": {},
     "output_type": "execute_result"
    }
   ],
   "execution_count": 88
  },
  {
   "metadata": {},
   "cell_type": "code",
   "outputs": [],
   "execution_count": null,
   "source": "",
   "id": "797c5b06bbb93eaf"
  },
  {
   "metadata": {},
   "cell_type": "code",
   "outputs": [],
   "execution_count": null,
   "source": "",
   "id": "ae8efac4d3325ed6"
  },
  {
   "metadata": {
    "ExecuteTime": {
     "end_time": "2025-04-28T18:36:30.828720Z",
     "start_time": "2025-04-28T18:36:30.825084Z"
    }
   },
   "cell_type": "code",
   "source": "df_taxonomy[df_taxonomy.taxonomy.str.contains(\"Viruses\")]",
   "id": "ee4e389ec3e0212f",
   "outputs": [
    {
     "data": {
      "text/plain": [
       "                                                  taxonomy\n",
       "taxid                                                     \n",
       "11676    Viruses; Riboviria; Pararnavirae; Artvervirico...\n",
       "2697049  Viruses; Riboviria; Orthornavirae; Pisuviricot...\n",
       "10298    Viruses; Duplodnaviria; Heunggongvirae; Peplov...\n",
       "333760   Viruses; Monodnaviria; Shotokuvirae; Cossaviri...\n",
       "10376    Viruses; Duplodnaviria; Heunggongvirae; Peplov...\n",
       "211044   Viruses; Riboviria; Orthornavirae; Negarnaviri...\n",
       "10600    Viruses; Monodnaviria; Shotokuvirae; Cossaviri...\n",
       "1335626  Viruses; Riboviria; Orthornavirae; Pisuviricot...\n",
       "10335    Viruses; Duplodnaviria; Heunggongvirae; Peplov..."
      ],
      "text/html": [
       "<div>\n",
       "<style scoped>\n",
       "    .dataframe tbody tr th:only-of-type {\n",
       "        vertical-align: middle;\n",
       "    }\n",
       "\n",
       "    .dataframe tbody tr th {\n",
       "        vertical-align: top;\n",
       "    }\n",
       "\n",
       "    .dataframe thead th {\n",
       "        text-align: right;\n",
       "    }\n",
       "</style>\n",
       "<table border=\"1\" class=\"dataframe\">\n",
       "  <thead>\n",
       "    <tr style=\"text-align: right;\">\n",
       "      <th></th>\n",
       "      <th>taxonomy</th>\n",
       "    </tr>\n",
       "    <tr>\n",
       "      <th>taxid</th>\n",
       "      <th></th>\n",
       "    </tr>\n",
       "  </thead>\n",
       "  <tbody>\n",
       "    <tr>\n",
       "      <th>11676</th>\n",
       "      <td>Viruses; Riboviria; Pararnavirae; Artvervirico...</td>\n",
       "    </tr>\n",
       "    <tr>\n",
       "      <th>2697049</th>\n",
       "      <td>Viruses; Riboviria; Orthornavirae; Pisuviricot...</td>\n",
       "    </tr>\n",
       "    <tr>\n",
       "      <th>10298</th>\n",
       "      <td>Viruses; Duplodnaviria; Heunggongvirae; Peplov...</td>\n",
       "    </tr>\n",
       "    <tr>\n",
       "      <th>333760</th>\n",
       "      <td>Viruses; Monodnaviria; Shotokuvirae; Cossaviri...</td>\n",
       "    </tr>\n",
       "    <tr>\n",
       "      <th>10376</th>\n",
       "      <td>Viruses; Duplodnaviria; Heunggongvirae; Peplov...</td>\n",
       "    </tr>\n",
       "    <tr>\n",
       "      <th>211044</th>\n",
       "      <td>Viruses; Riboviria; Orthornavirae; Negarnaviri...</td>\n",
       "    </tr>\n",
       "    <tr>\n",
       "      <th>10600</th>\n",
       "      <td>Viruses; Monodnaviria; Shotokuvirae; Cossaviri...</td>\n",
       "    </tr>\n",
       "    <tr>\n",
       "      <th>1335626</th>\n",
       "      <td>Viruses; Riboviria; Orthornavirae; Pisuviricot...</td>\n",
       "    </tr>\n",
       "    <tr>\n",
       "      <th>10335</th>\n",
       "      <td>Viruses; Duplodnaviria; Heunggongvirae; Peplov...</td>\n",
       "    </tr>\n",
       "  </tbody>\n",
       "</table>\n",
       "</div>"
      ]
     },
     "execution_count": 144,
     "metadata": {},
     "output_type": "execute_result"
    }
   ],
   "execution_count": 144
  },
  {
   "metadata": {},
   "cell_type": "code",
   "outputs": [],
   "execution_count": null,
   "source": "",
   "id": "6f073d7134d75d9e"
  }
 ],
 "metadata": {
  "kernelspec": {
   "display_name": "Python 3",
   "language": "python",
   "name": "python3"
  },
  "language_info": {
   "codemirror_mode": {
    "name": "ipython",
    "version": 2
   },
   "file_extension": ".py",
   "mimetype": "text/x-python",
   "name": "python",
   "nbconvert_exporter": "python",
   "pygments_lexer": "ipython2",
   "version": "2.7.6"
  }
 },
 "nbformat": 4,
 "nbformat_minor": 5
}
