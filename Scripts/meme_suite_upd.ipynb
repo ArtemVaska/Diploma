{
 "cells": [
  {
   "metadata": {
    "ExecuteTime": {
     "end_time": "2025-05-29T22:14:05.479614Z",
     "start_time": "2025-05-29T22:14:05.270179Z"
    }
   },
   "cell_type": "code",
   "source": [
    "import os\n",
    "import subprocess\n",
    "import re\n",
    "\n",
    "from pathlib import Path\n",
    "import pandas as pd\n",
    "\n",
    "from fasta_processing import read_single_fasta, read_fasta\n",
    "from tg_logger import telegram_logger\n",
    "\n",
    "from meme_suite import create_input_meme, run_meme, parse_meme_block, run_tomtom, add_highlight_coords, highlight_coords"
   ],
   "id": "7b7a1cd13b045faa",
   "outputs": [],
   "execution_count": 1
  },
  {
   "cell_type": "code",
   "id": "initial_id",
   "metadata": {
    "collapsed": true,
    "ExecuteTime": {
     "end_time": "2025-05-29T22:14:06.544501Z",
     "start_time": "2025-05-29T22:14:06.539876Z"
    }
   },
   "source": [
    "protostomia = pd.read_csv(\"../results_summary/protostomia.tsv\", sep=\"\\t\")\n",
    "deuterostomia = pd.read_csv(\"../results_summary/deuterostomia.tsv\", sep=\"\\t\")"
   ],
   "outputs": [],
   "execution_count": 2
  },
  {
   "metadata": {},
   "cell_type": "markdown",
   "source": "## Actinopterygii",
   "id": "15e2263a8c398aa4"
  },
  {
   "metadata": {},
   "cell_type": "markdown",
   "source": "### Поиск мотивов",
   "id": "34d03b66ca5b8455"
  },
  {
   "metadata": {
    "ExecuteTime": {
     "end_time": "2025-05-29T22:14:07.753214Z",
     "start_time": "2025-05-29T22:14:07.751021Z"
    }
   },
   "cell_type": "code",
   "source": [
    "# Euteleosteomorpha 53\n",
    "# Otomorpha 16\n",
    "# Osteoglossomorpha 2\n",
    "# Cladistia 1\n",
    "# Holostei 0\n",
    "\n",
    "Actinopterygii_list = [\"Euteleosteomorpha\", \"Otomorpha\", \"Osteoglossomorpha\", \"Cladistia\"]\n",
    "# создали таблицу, в которой все найденные виды для лучеперых рыб\n",
    "df_Actinopterygii = deuterostomia[deuterostomia.sub_phylum.isin(Actinopterygii_list)]"
   ],
   "id": "3867e4aca9a6b68c",
   "outputs": [],
   "execution_count": 3
  },
  {
   "metadata": {
    "ExecuteTime": {
     "end_time": "2025-05-29T22:07:19.023300Z",
     "start_time": "2025-05-29T22:07:19.020823Z"
    }
   },
   "cell_type": "code",
   "source": "create_input_meme(df_Actinopterygii, phylum=\"Actinopterygii\")",
   "id": "ea210ad84493ddf0",
   "outputs": [],
   "execution_count": 4
  },
  {
   "metadata": {
    "ExecuteTime": {
     "end_time": "2025-05-29T22:11:29.073016Z",
     "start_time": "2025-05-29T22:07:21.745896Z"
    }
   },
   "cell_type": "code",
   "source": [
    "run_meme(input_file=\"../meme/Actinopterygii/Actinopterygii_introns.fa\", output_dir=\"../meme/Actinopterygii\")\n",
    "\n",
    "# после запуска этой команды лучше всего открыть .html файл в браузере и посмотреть на результаты глазами"
   ],
   "id": "a22a48174e974cc2",
   "outputs": [
    {
     "name": "stdout",
     "output_type": "stream",
     "text": [
      "Meme finished successfully!\n",
      "Input: ../meme/Actinopterygii/Actinopterygii_introns.fa\n",
      "Output: ../meme/Actinopterygii\n",
      "\n"
     ]
    }
   ],
   "execution_count": 5
  },
  {
   "metadata": {
    "ExecuteTime": {
     "end_time": "2025-05-29T22:14:11.099280Z",
     "start_time": "2025-05-29T22:14:11.096369Z"
    }
   },
   "cell_type": "code",
   "source": [
    "motif = \"AGGCGAGTATGGAAGGCTGGATAGCCMATGACGGGTAAGATCCCACCTYGAAACCYYGGG\"  # MEME-1 -- номер найденного мотива, mi=1 для Tomtom\n",
    "Actinopterygii_meme_result = parse_meme_block(\"../meme/Actinopterygii/meme.txt\", motif)"
   ],
   "id": "d6e573ae627c5e74",
   "outputs": [
    {
     "name": "stdout",
     "output_type": "stream",
     "text": [
      "MOTIF: AGGCGAGTATGGAAGGCTGGATAGCCMATGACGGGTAAGATCCCACCTYGAAACCYYGGG, width=60, seqs=67\n"
     ]
    }
   ],
   "execution_count": 4
  },
  {
   "metadata": {
    "ExecuteTime": {
     "end_time": "2025-05-29T22:12:57.067154Z",
     "start_time": "2025-05-29T22:11:29.204107Z"
    }
   },
   "cell_type": "code",
   "source": [
    "run_tomtom(input_file=\"../meme/Actinopterygii/meme.txt\", output_dir=\"../tomtom/Actinopterygii\", mi=1)\n",
    "\n",
    "# после запуска команды также стоит сначала просмотреть .html файл с результатами"
   ],
   "id": "ac8d5dc2ea149ca5",
   "outputs": [
    {
     "name": "stdout",
     "output_type": "stream",
     "text": [
      "Tomtom finished successfully!\n",
      "Input: ../meme/Actinopterygii/meme.txt\n",
      "Output: ../tomtom/Actinopterygii\n",
      "\n"
     ]
    }
   ],
   "execution_count": 7
  },
  {
   "metadata": {},
   "cell_type": "markdown",
   "source": "### Выделение цветом на вторичных структурах",
   "id": "dbff34a09a667734"
  },
  {
   "metadata": {
    "ExecuteTime": {
     "end_time": "2025-05-29T22:14:15.662765Z",
     "start_time": "2025-05-29T22:14:15.639786Z"
    }
   },
   "cell_type": "code",
   "source": "Actinopterygii_meme_result = add_highlight_coords(df_Actinopterygii, Actinopterygii_meme_result)",
   "id": "19cb28dcb72f12b8",
   "outputs": [],
   "execution_count": 5
  },
  {
   "metadata": {
    "ExecuteTime": {
     "end_time": "2025-05-29T22:05:27.743513Z",
     "start_time": "2025-05-29T22:05:26.998100Z"
    }
   },
   "cell_type": "code",
   "source": "highlight_coords(df_Actinopterygii, Actinopterygii_meme_result)",
   "id": "bb33fb7247e32ff8",
   "outputs": [
    {
     "name": "stderr",
     "output_type": "stream",
     "text": [
      "[WARNING] ...from traverse_loop. Loop 2 has crossed regions\n",
      "[WARNING] ...from traverse_loop. Loop 22 has crossed regions\n"
     ]
    }
   ],
   "execution_count": 59
  }
 ],
 "metadata": {
  "kernelspec": {
   "display_name": "Python 3",
   "language": "python",
   "name": "python3"
  },
  "language_info": {
   "codemirror_mode": {
    "name": "ipython",
    "version": 2
   },
   "file_extension": ".py",
   "mimetype": "text/x-python",
   "name": "python",
   "nbconvert_exporter": "python",
   "pygments_lexer": "ipython2",
   "version": "2.7.6"
  }
 },
 "nbformat": 4,
 "nbformat_minor": 5
}
