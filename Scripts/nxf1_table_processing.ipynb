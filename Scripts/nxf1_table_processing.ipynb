{
 "cells": [
  {
   "cell_type": "code",
   "id": "initial_id",
   "metadata": {
    "collapsed": true,
    "ExecuteTime": {
     "end_time": "2025-04-11T13:36:27.933346Z",
     "start_time": "2025-04-11T13:36:27.084823Z"
    }
   },
   "source": [
    "import pandas as pd\n",
    "\n",
    "from entrez import select_phyla\n",
    "from fasta_processing import read_single_fasta, dict_align_to_fasta\n",
    "from data_processing import choose_best_frameshift, save_subset_df_transcripts"
   ],
   "outputs": [],
   "execution_count": 1
  },
  {
   "metadata": {
    "ExecuteTime": {
     "end_time": "2025-04-11T13:36:28.496169Z",
     "start_time": "2025-04-11T13:36:28.471890Z"
    }
   },
   "cell_type": "code",
   "source": [
    "column_names = [\"tax_id\", \"org_name\", \"gene_id\", \"current_id\", \"status\", \"symbol\", \"aliases\", \"description\",\n",
    "                \"other_designations\", \"map_location\", \"chromosome\", \"genomic_nucleotide_accession.version\",\n",
    "                \"start_position_on_the_genomic_accession\", \"end_position_on_the_genomic_accession\", \"orientation\",\n",
    "                \"exon_count\", \"to_delete_1\", \"to_delete_2\"]\n",
    "\n",
    "df = pd.read_csv(\"../all_nxf1.txt\", sep=\"\\t\", skiprows=1, names=column_names, index_col=0)\n",
    "df.drop([\"to_delete_1\", \"to_delete_2\"], axis=1, inplace=True)\n",
    "df.head()"
   ],
   "id": "295f39ed37e160be",
   "outputs": [
    {
     "data": {
      "text/plain": [
       "                      org_name    gene_id  current_id status symbol  \\\n",
       "tax_id                                                                \n",
       "8407           Rana temporaria  120917577           0   live   NXF1   \n",
       "8364        Xenopus tropicalis     734058           0   live   nxf1   \n",
       "9598           Pan troglodytes     451267           0   live   NXF1   \n",
       "9913                Bos taurus     512136           0   live   NXF1   \n",
       "9615    Canis lupus familiaris     483780           0   live   NXF1   \n",
       "\n",
       "               aliases                  description  \\\n",
       "tax_id                                                \n",
       "8407               NaN  nuclear RNA export factor 1   \n",
       "8364        mex67, tap  nuclear RNA export factor 1   \n",
       "9598    CK820_G0030982  nuclear RNA export factor 1   \n",
       "9913               NaN  nuclear RNA export factor 1   \n",
       "9615               NaN  nuclear RNA export factor 1   \n",
       "\n",
       "                 other_designations  map_location chromosome  \\\n",
       "tax_id                                                         \n",
       "8407    nuclear RNA export factor 1           NaN         11   \n",
       "8364    nuclear RNA export factor 1           NaN          4   \n",
       "9598    nuclear RNA export factor 1           NaN          9   \n",
       "9913    nuclear RNA export factor 1           NaN         29   \n",
       "9615    nuclear RNA export factor 1           NaN         18   \n",
       "\n",
       "       genomic_nucleotide_accession.version  \\\n",
       "tax_id                                        \n",
       "8407                            NC_053499.1   \n",
       "8364                            NC_030680.2   \n",
       "9598                            NC_072407.2   \n",
       "9913                            NC_037356.1   \n",
       "9615                            NC_051822.1   \n",
       "\n",
       "        start_position_on_the_genomic_accession  \\\n",
       "tax_id                                            \n",
       "8407                                120752259.0   \n",
       "8364                                 36493131.0   \n",
       "9598                                 65104305.0   \n",
       "9913                                 41099477.0   \n",
       "9615                                 54936964.0   \n",
       "\n",
       "        end_position_on_the_genomic_accession orientation  exon_count  \n",
       "tax_id                                                                 \n",
       "8407                              120809664.0        plus        22.0  \n",
       "8364                               36532401.0       minus        23.0  \n",
       "9598                               65118449.0       minus        23.0  \n",
       "9913                               41110792.0       minus        22.0  \n",
       "9615                               54947631.0        plus        21.0  "
      ],
      "text/html": [
       "<div>\n",
       "<style scoped>\n",
       "    .dataframe tbody tr th:only-of-type {\n",
       "        vertical-align: middle;\n",
       "    }\n",
       "\n",
       "    .dataframe tbody tr th {\n",
       "        vertical-align: top;\n",
       "    }\n",
       "\n",
       "    .dataframe thead th {\n",
       "        text-align: right;\n",
       "    }\n",
       "</style>\n",
       "<table border=\"1\" class=\"dataframe\">\n",
       "  <thead>\n",
       "    <tr style=\"text-align: right;\">\n",
       "      <th></th>\n",
       "      <th>org_name</th>\n",
       "      <th>gene_id</th>\n",
       "      <th>current_id</th>\n",
       "      <th>status</th>\n",
       "      <th>symbol</th>\n",
       "      <th>aliases</th>\n",
       "      <th>description</th>\n",
       "      <th>other_designations</th>\n",
       "      <th>map_location</th>\n",
       "      <th>chromosome</th>\n",
       "      <th>genomic_nucleotide_accession.version</th>\n",
       "      <th>start_position_on_the_genomic_accession</th>\n",
       "      <th>end_position_on_the_genomic_accession</th>\n",
       "      <th>orientation</th>\n",
       "      <th>exon_count</th>\n",
       "    </tr>\n",
       "    <tr>\n",
       "      <th>tax_id</th>\n",
       "      <th></th>\n",
       "      <th></th>\n",
       "      <th></th>\n",
       "      <th></th>\n",
       "      <th></th>\n",
       "      <th></th>\n",
       "      <th></th>\n",
       "      <th></th>\n",
       "      <th></th>\n",
       "      <th></th>\n",
       "      <th></th>\n",
       "      <th></th>\n",
       "      <th></th>\n",
       "      <th></th>\n",
       "      <th></th>\n",
       "    </tr>\n",
       "  </thead>\n",
       "  <tbody>\n",
       "    <tr>\n",
       "      <th>8407</th>\n",
       "      <td>Rana temporaria</td>\n",
       "      <td>120917577</td>\n",
       "      <td>0</td>\n",
       "      <td>live</td>\n",
       "      <td>NXF1</td>\n",
       "      <td>NaN</td>\n",
       "      <td>nuclear RNA export factor 1</td>\n",
       "      <td>nuclear RNA export factor 1</td>\n",
       "      <td>NaN</td>\n",
       "      <td>11</td>\n",
       "      <td>NC_053499.1</td>\n",
       "      <td>120752259.0</td>\n",
       "      <td>120809664.0</td>\n",
       "      <td>plus</td>\n",
       "      <td>22.0</td>\n",
       "    </tr>\n",
       "    <tr>\n",
       "      <th>8364</th>\n",
       "      <td>Xenopus tropicalis</td>\n",
       "      <td>734058</td>\n",
       "      <td>0</td>\n",
       "      <td>live</td>\n",
       "      <td>nxf1</td>\n",
       "      <td>mex67, tap</td>\n",
       "      <td>nuclear RNA export factor 1</td>\n",
       "      <td>nuclear RNA export factor 1</td>\n",
       "      <td>NaN</td>\n",
       "      <td>4</td>\n",
       "      <td>NC_030680.2</td>\n",
       "      <td>36493131.0</td>\n",
       "      <td>36532401.0</td>\n",
       "      <td>minus</td>\n",
       "      <td>23.0</td>\n",
       "    </tr>\n",
       "    <tr>\n",
       "      <th>9598</th>\n",
       "      <td>Pan troglodytes</td>\n",
       "      <td>451267</td>\n",
       "      <td>0</td>\n",
       "      <td>live</td>\n",
       "      <td>NXF1</td>\n",
       "      <td>CK820_G0030982</td>\n",
       "      <td>nuclear RNA export factor 1</td>\n",
       "      <td>nuclear RNA export factor 1</td>\n",
       "      <td>NaN</td>\n",
       "      <td>9</td>\n",
       "      <td>NC_072407.2</td>\n",
       "      <td>65104305.0</td>\n",
       "      <td>65118449.0</td>\n",
       "      <td>minus</td>\n",
       "      <td>23.0</td>\n",
       "    </tr>\n",
       "    <tr>\n",
       "      <th>9913</th>\n",
       "      <td>Bos taurus</td>\n",
       "      <td>512136</td>\n",
       "      <td>0</td>\n",
       "      <td>live</td>\n",
       "      <td>NXF1</td>\n",
       "      <td>NaN</td>\n",
       "      <td>nuclear RNA export factor 1</td>\n",
       "      <td>nuclear RNA export factor 1</td>\n",
       "      <td>NaN</td>\n",
       "      <td>29</td>\n",
       "      <td>NC_037356.1</td>\n",
       "      <td>41099477.0</td>\n",
       "      <td>41110792.0</td>\n",
       "      <td>minus</td>\n",
       "      <td>22.0</td>\n",
       "    </tr>\n",
       "    <tr>\n",
       "      <th>9615</th>\n",
       "      <td>Canis lupus familiaris</td>\n",
       "      <td>483780</td>\n",
       "      <td>0</td>\n",
       "      <td>live</td>\n",
       "      <td>NXF1</td>\n",
       "      <td>NaN</td>\n",
       "      <td>nuclear RNA export factor 1</td>\n",
       "      <td>nuclear RNA export factor 1</td>\n",
       "      <td>NaN</td>\n",
       "      <td>18</td>\n",
       "      <td>NC_051822.1</td>\n",
       "      <td>54936964.0</td>\n",
       "      <td>54947631.0</td>\n",
       "      <td>plus</td>\n",
       "      <td>21.0</td>\n",
       "    </tr>\n",
       "  </tbody>\n",
       "</table>\n",
       "</div>"
      ]
     },
     "execution_count": 2,
     "metadata": {},
     "output_type": "execute_result"
    }
   ],
   "execution_count": 2
  },
  {
   "metadata": {
    "ExecuteTime": {
     "end_time": "2025-04-11T09:43:29.973440Z",
     "start_time": "2025-04-11T09:43:22.935696Z"
    }
   },
   "cell_type": "code",
   "source": "cnidaria = select_phyla(df_cnidaria, \"Cnidaria\")",
   "id": "884a1e3bc1e831fe",
   "outputs": [
    {
     "name": "stdout",
     "output_type": "stream",
     "text": [
      "50429 Stylophora pistillata\n",
      "6105 Actinia tenebrosa\n",
      "6087 Hydra vulgaris\n",
      "45351 Nematostella vectensis\n"
     ]
    }
   ],
   "execution_count": 4
  },
  {
   "metadata": {
    "ExecuteTime": {
     "end_time": "2025-04-11T09:43:32.658808Z",
     "start_time": "2025-04-11T09:43:32.655620Z"
    }
   },
   "cell_type": "code",
   "source": "cnidaria",
   "id": "52f338c5d2e8712e",
   "outputs": [
    {
     "data": {
      "text/plain": [
       "{'Cnidaria': [50429, 6105, 6087, 45351]}"
      ]
     },
     "execution_count": 5,
     "metadata": {},
     "output_type": "execute_result"
    }
   ],
   "execution_count": 5
  },
  {
   "metadata": {
    "ExecuteTime": {
     "end_time": "2025-04-11T09:45:19.466349Z",
     "start_time": "2025-04-11T09:45:19.462651Z"
    }
   },
   "cell_type": "code",
   "source": "df_cnidaria = df.loc[cnidaria[\"Cnidaria\"]]",
   "id": "8e8e386d454e2888",
   "outputs": [],
   "execution_count": 6
  },
  {
   "metadata": {
    "ExecuteTime": {
     "end_time": "2025-04-11T13:19:45.909437Z",
     "start_time": "2025-04-11T13:19:45.894887Z"
    }
   },
   "cell_type": "code",
   "source": "df_cnidaria",
   "id": "e513c1dc56764b1e",
   "outputs": [
    {
     "data": {
      "text/plain": [
       "                      org_name    gene_id  current_id status        symbol  \\\n",
       "tax_id                                                                       \n",
       "50429    Stylophora pistillata  111339613           0   live  LOC111339613   \n",
       "6105         Actinia tenebrosa  116292710           0   live  LOC116292710   \n",
       "6087            Hydra vulgaris  100214173           0   live  LOC100214173   \n",
       "45351   Nematostella vectensis    5510737           0   live    LOC5510737   \n",
       "\n",
       "                          aliases                       description  \\\n",
       "tax_id                                                                \n",
       "50429   AWC38_SpisGene17253, NXF1  nuclear RNA export factor 1-like   \n",
       "6105                          NaN  nuclear RNA export factor 1-like   \n",
       "6087                          NaN       nuclear RNA export factor 1   \n",
       "45351        NEMVEDRAFT_v1g244041       nuclear RNA export factor 1   \n",
       "\n",
       "                                       other_designations  map_location  \\\n",
       "tax_id                                                                    \n",
       "50429   nuclear RNA export factor 1-like|Nuclear RNA e...           NaN   \n",
       "6105                     nuclear RNA export factor 1-like           NaN   \n",
       "6087                          nuclear RNA export factor 1           NaN   \n",
       "45351       nuclear RNA export factor 1|predicted protein           NaN   \n",
       "\n",
       "       chromosome genomic_nucleotide_accession.version  \\\n",
       "tax_id                                                   \n",
       "50429          Un                       NW_019218197.1   \n",
       "6105           Un                       NW_022259381.1   \n",
       "6087           12                          NC_088975.1   \n",
       "45351           7                          NC_064040.1   \n",
       "\n",
       "        start_position_on_the_genomic_accession  \\\n",
       "tax_id                                            \n",
       "50429                                   98177.0   \n",
       "6105                                    16092.0   \n",
       "6087                                   736736.0   \n",
       "45351                                11955766.0   \n",
       "\n",
       "        end_position_on_the_genomic_accession orientation  exon_count  \n",
       "tax_id                                                                 \n",
       "50429                                131366.0        plus        21.0  \n",
       "6105                                  33206.0        plus        24.0  \n",
       "6087                                 739315.0       minus         2.0  \n",
       "45351                              11973360.0        plus        24.0  "
      ],
      "text/html": [
       "<div>\n",
       "<style scoped>\n",
       "    .dataframe tbody tr th:only-of-type {\n",
       "        vertical-align: middle;\n",
       "    }\n",
       "\n",
       "    .dataframe tbody tr th {\n",
       "        vertical-align: top;\n",
       "    }\n",
       "\n",
       "    .dataframe thead th {\n",
       "        text-align: right;\n",
       "    }\n",
       "</style>\n",
       "<table border=\"1\" class=\"dataframe\">\n",
       "  <thead>\n",
       "    <tr style=\"text-align: right;\">\n",
       "      <th></th>\n",
       "      <th>org_name</th>\n",
       "      <th>gene_id</th>\n",
       "      <th>current_id</th>\n",
       "      <th>status</th>\n",
       "      <th>symbol</th>\n",
       "      <th>aliases</th>\n",
       "      <th>description</th>\n",
       "      <th>other_designations</th>\n",
       "      <th>map_location</th>\n",
       "      <th>chromosome</th>\n",
       "      <th>genomic_nucleotide_accession.version</th>\n",
       "      <th>start_position_on_the_genomic_accession</th>\n",
       "      <th>end_position_on_the_genomic_accession</th>\n",
       "      <th>orientation</th>\n",
       "      <th>exon_count</th>\n",
       "    </tr>\n",
       "    <tr>\n",
       "      <th>tax_id</th>\n",
       "      <th></th>\n",
       "      <th></th>\n",
       "      <th></th>\n",
       "      <th></th>\n",
       "      <th></th>\n",
       "      <th></th>\n",
       "      <th></th>\n",
       "      <th></th>\n",
       "      <th></th>\n",
       "      <th></th>\n",
       "      <th></th>\n",
       "      <th></th>\n",
       "      <th></th>\n",
       "      <th></th>\n",
       "      <th></th>\n",
       "    </tr>\n",
       "  </thead>\n",
       "  <tbody>\n",
       "    <tr>\n",
       "      <th>50429</th>\n",
       "      <td>Stylophora pistillata</td>\n",
       "      <td>111339613</td>\n",
       "      <td>0</td>\n",
       "      <td>live</td>\n",
       "      <td>LOC111339613</td>\n",
       "      <td>AWC38_SpisGene17253, NXF1</td>\n",
       "      <td>nuclear RNA export factor 1-like</td>\n",
       "      <td>nuclear RNA export factor 1-like|Nuclear RNA e...</td>\n",
       "      <td>NaN</td>\n",
       "      <td>Un</td>\n",
       "      <td>NW_019218197.1</td>\n",
       "      <td>98177.0</td>\n",
       "      <td>131366.0</td>\n",
       "      <td>plus</td>\n",
       "      <td>21.0</td>\n",
       "    </tr>\n",
       "    <tr>\n",
       "      <th>6105</th>\n",
       "      <td>Actinia tenebrosa</td>\n",
       "      <td>116292710</td>\n",
       "      <td>0</td>\n",
       "      <td>live</td>\n",
       "      <td>LOC116292710</td>\n",
       "      <td>NaN</td>\n",
       "      <td>nuclear RNA export factor 1-like</td>\n",
       "      <td>nuclear RNA export factor 1-like</td>\n",
       "      <td>NaN</td>\n",
       "      <td>Un</td>\n",
       "      <td>NW_022259381.1</td>\n",
       "      <td>16092.0</td>\n",
       "      <td>33206.0</td>\n",
       "      <td>plus</td>\n",
       "      <td>24.0</td>\n",
       "    </tr>\n",
       "    <tr>\n",
       "      <th>6087</th>\n",
       "      <td>Hydra vulgaris</td>\n",
       "      <td>100214173</td>\n",
       "      <td>0</td>\n",
       "      <td>live</td>\n",
       "      <td>LOC100214173</td>\n",
       "      <td>NaN</td>\n",
       "      <td>nuclear RNA export factor 1</td>\n",
       "      <td>nuclear RNA export factor 1</td>\n",
       "      <td>NaN</td>\n",
       "      <td>12</td>\n",
       "      <td>NC_088975.1</td>\n",
       "      <td>736736.0</td>\n",
       "      <td>739315.0</td>\n",
       "      <td>minus</td>\n",
       "      <td>2.0</td>\n",
       "    </tr>\n",
       "    <tr>\n",
       "      <th>45351</th>\n",
       "      <td>Nematostella vectensis</td>\n",
       "      <td>5510737</td>\n",
       "      <td>0</td>\n",
       "      <td>live</td>\n",
       "      <td>LOC5510737</td>\n",
       "      <td>NEMVEDRAFT_v1g244041</td>\n",
       "      <td>nuclear RNA export factor 1</td>\n",
       "      <td>nuclear RNA export factor 1|predicted protein</td>\n",
       "      <td>NaN</td>\n",
       "      <td>7</td>\n",
       "      <td>NC_064040.1</td>\n",
       "      <td>11955766.0</td>\n",
       "      <td>11973360.0</td>\n",
       "      <td>plus</td>\n",
       "      <td>24.0</td>\n",
       "    </tr>\n",
       "  </tbody>\n",
       "</table>\n",
       "</div>"
      ]
     },
     "execution_count": 4,
     "metadata": {},
     "output_type": "execute_result"
    }
   ],
   "execution_count": 4
  },
  {
   "metadata": {
    "ExecuteTime": {
     "end_time": "2025-04-11T13:36:34.117760Z",
     "start_time": "2025-04-11T13:36:34.114724Z"
    }
   },
   "cell_type": "code",
   "source": "df_cnidaria = df.loc[[50429, 6105, 6087, 45351]]",
   "id": "7eb8a7add3497114",
   "outputs": [],
   "execution_count": 3
  },
  {
   "metadata": {},
   "cell_type": "markdown",
   "source": "---",
   "id": "6fbb08c11ad935b3"
  },
  {
   "metadata": {
    "ExecuteTime": {
     "end_time": "2025-04-11T13:37:15.577765Z",
     "start_time": "2025-04-11T13:36:35.991638Z"
    }
   },
   "cell_type": "code",
   "source": "cnidaria_seqs = save_subset_df_transcripts(df_cnidaria)",
   "id": "70e3f6f8bc61f9a7",
   "outputs": [
    {
     "name": "stdout",
     "output_type": "stream",
     "text": [
      "Found 2 mRNA sequences for GeneID 111339613.\n",
      "Saved transcript to ../References/stylophora_pistillata/XM_022946298.1.fasta\n",
      "Saved transcript to ../References/stylophora_pistillata/NW_019218197.1.fasta\n",
      "\n",
      "Found 2 mRNA sequences for GeneID 116292710.\n",
      "Saved transcript to ../References/actinia_tenebrosa/XM_031700062.1.fasta\n",
      "Saved transcript to ../References/actinia_tenebrosa/NW_022259381.1.fasta\n",
      "\n",
      "Found 3 mRNA sequences for GeneID 100214173.\n",
      "Saved transcript to ../References/hydra_vulgaris/XM_065811174.1.fasta\n",
      "Saved transcript to ../References/hydra_vulgaris/XM_002156424.5.fasta\n"
     ]
    },
    {
     "ename": "KeyboardInterrupt",
     "evalue": "",
     "output_type": "error",
     "traceback": [
      "\u001B[0;31m---------------------------------------------------------------------------\u001B[0m",
      "\u001B[0;31mKeyboardInterrupt\u001B[0m                         Traceback (most recent call last)",
      "Cell \u001B[0;32mIn[4], line 1\u001B[0m\n\u001B[0;32m----> 1\u001B[0m cnidaria_seqs \u001B[38;5;241m=\u001B[39m \u001B[43msave_subset_df_transcripts\u001B[49m\u001B[43m(\u001B[49m\u001B[43mdf_cnidaria\u001B[49m\u001B[43m)\u001B[49m\n",
      "File \u001B[0;32m~/Master_degree/Diploma/Scripts/data_processing.py:353\u001B[0m, in \u001B[0;36msave_subset_df_transcripts\u001B[0;34m(df)\u001B[0m\n\u001B[1;32m    351\u001B[0m \u001B[38;5;28;01mfor\u001B[39;00m index, row \u001B[38;5;129;01min\u001B[39;00m df\u001B[38;5;241m.\u001B[39miterrows():\n\u001B[1;32m    352\u001B[0m     folder_name \u001B[38;5;241m=\u001B[39m row[\u001B[38;5;124m\"\u001B[39m\u001B[38;5;124morg_name\u001B[39m\u001B[38;5;124m\"\u001B[39m]\u001B[38;5;241m.\u001B[39mlower()\u001B[38;5;241m.\u001B[39mreplace(\u001B[38;5;124m\"\u001B[39m\u001B[38;5;124m \u001B[39m\u001B[38;5;124m\"\u001B[39m, \u001B[38;5;124m\"\u001B[39m\u001B[38;5;124m_\u001B[39m\u001B[38;5;124m\"\u001B[39m)\n\u001B[0;32m--> 353\u001B[0m     filename \u001B[38;5;241m=\u001B[39m \u001B[43mdownload_transcripts_by_geneid\u001B[49m\u001B[43m(\u001B[49m\u001B[38;5;28;43mstr\u001B[39;49m\u001B[43m(\u001B[49m\u001B[43mrow\u001B[49m\u001B[43m[\u001B[49m\u001B[38;5;124;43m\"\u001B[39;49m\u001B[38;5;124;43mgene_id\u001B[39;49m\u001B[38;5;124;43m\"\u001B[39;49m\u001B[43m]\u001B[49m\u001B[43m)\u001B[49m\u001B[43m,\u001B[49m\u001B[43m \u001B[49m\u001B[43mfolder_name\u001B[49m\u001B[43m,\u001B[49m\u001B[43m \u001B[49m\u001B[43mmax_results\u001B[49m\u001B[38;5;241;43m=\u001B[39;49m\u001B[38;5;241;43m3\u001B[39;49m\u001B[43m)\u001B[49m\n\u001B[1;32m    354\u001B[0m     \u001B[38;5;28mprint\u001B[39m()\n\u001B[1;32m    355\u001B[0m     seq \u001B[38;5;241m=\u001B[39m read_single_fasta(\u001B[38;5;124mf\u001B[39m\u001B[38;5;124m\"\u001B[39m\u001B[38;5;124m../References/\u001B[39m\u001B[38;5;132;01m{\u001B[39;00mfolder_name\u001B[38;5;132;01m}\u001B[39;00m\u001B[38;5;124m/\u001B[39m\u001B[38;5;132;01m{\u001B[39;00mfilename\u001B[38;5;132;01m}\u001B[39;00m\u001B[38;5;124m.fasta\u001B[39m\u001B[38;5;124m\"\u001B[39m)\n",
      "File \u001B[0;32m~/Master_degree/Diploma/Scripts/data_processing.py:330\u001B[0m, in \u001B[0;36mdownload_transcripts_by_geneid\u001B[0;34m(gene_id, org_name, max_results)\u001B[0m\n\u001B[1;32m    328\u001B[0m \u001B[38;5;28;01mif\u001B[39;00m \u001B[38;5;124m\"\u001B[39m\u001B[38;5;124mXM_\u001B[39m\u001B[38;5;124m\"\u001B[39m \u001B[38;5;129;01mor\u001B[39;00m \u001B[38;5;124m\"\u001B[39m\u001B[38;5;124mNW_\u001B[39m\u001B[38;5;124m\"\u001B[39m \u001B[38;5;129;01mor\u001B[39;00m \u001B[38;5;124m\"\u001B[39m\u001B[38;5;124mNC_\u001B[39m\u001B[38;5;124m\"\u001B[39m \u001B[38;5;129;01min\u001B[39;00m seq_id:\n\u001B[1;32m    329\u001B[0m     fetch_handle \u001B[38;5;241m=\u001B[39m Entrez\u001B[38;5;241m.\u001B[39mefetch(db\u001B[38;5;241m=\u001B[39m\u001B[38;5;124m\"\u001B[39m\u001B[38;5;124mnucleotide\u001B[39m\u001B[38;5;124m\"\u001B[39m, \u001B[38;5;28mid\u001B[39m\u001B[38;5;241m=\u001B[39mseq_id, rettype\u001B[38;5;241m=\u001B[39m\u001B[38;5;124m\"\u001B[39m\u001B[38;5;124mfasta\u001B[39m\u001B[38;5;124m\"\u001B[39m, retmode\u001B[38;5;241m=\u001B[39m\u001B[38;5;124m\"\u001B[39m\u001B[38;5;124mtext\u001B[39m\u001B[38;5;124m\"\u001B[39m)\n\u001B[0;32m--> 330\u001B[0m     seq_record \u001B[38;5;241m=\u001B[39m \u001B[43mSeqIO\u001B[49m\u001B[38;5;241;43m.\u001B[39;49m\u001B[43mread\u001B[49m\u001B[43m(\u001B[49m\u001B[43mfetch_handle\u001B[49m\u001B[43m,\u001B[49m\u001B[43m \u001B[49m\u001B[38;5;124;43m\"\u001B[39;49m\u001B[38;5;124;43mfasta\u001B[39;49m\u001B[38;5;124;43m\"\u001B[39;49m\u001B[43m)\u001B[49m\n\u001B[1;32m    331\u001B[0m     seq_records\u001B[38;5;241m.\u001B[39mappend(seq_record\u001B[38;5;241m.\u001B[39mid)\n\u001B[1;32m    332\u001B[0m     fetch_handle\u001B[38;5;241m.\u001B[39mclose()\n",
      "File \u001B[0;32m~/mamba/envs/diploma/lib/python3.12/site-packages/Bio/SeqIO/__init__.py:674\u001B[0m, in \u001B[0;36mread\u001B[0;34m(handle, format, alphabet)\u001B[0m\n\u001B[1;32m    672\u001B[0m iterator \u001B[38;5;241m=\u001B[39m parse(handle, \u001B[38;5;28mformat\u001B[39m, alphabet)\n\u001B[1;32m    673\u001B[0m \u001B[38;5;28;01mtry\u001B[39;00m:\n\u001B[0;32m--> 674\u001B[0m     record \u001B[38;5;241m=\u001B[39m \u001B[38;5;28;43mnext\u001B[39;49m\u001B[43m(\u001B[49m\u001B[43miterator\u001B[49m\u001B[43m)\u001B[49m\n\u001B[1;32m    675\u001B[0m \u001B[38;5;28;01mexcept\u001B[39;00m \u001B[38;5;167;01mStopIteration\u001B[39;00m:\n\u001B[1;32m    676\u001B[0m     \u001B[38;5;28;01mraise\u001B[39;00m \u001B[38;5;167;01mValueError\u001B[39;00m(\u001B[38;5;124m\"\u001B[39m\u001B[38;5;124mNo records found in handle\u001B[39m\u001B[38;5;124m\"\u001B[39m) \u001B[38;5;28;01mfrom\u001B[39;00m \u001B[38;5;28;01mNone\u001B[39;00m\n",
      "File \u001B[0;32m~/mamba/envs/diploma/lib/python3.12/site-packages/Bio/SeqIO/Interfaces.py:91\u001B[0m, in \u001B[0;36mSequenceIterator.__next__\u001B[0;34m(self)\u001B[0m\n\u001B[1;32m     89\u001B[0m \u001B[38;5;250m\u001B[39m\u001B[38;5;124;03m\"\"\"Return the next entry.\"\"\"\u001B[39;00m\n\u001B[1;32m     90\u001B[0m \u001B[38;5;28;01mtry\u001B[39;00m:\n\u001B[0;32m---> 91\u001B[0m     \u001B[38;5;28;01mreturn\u001B[39;00m \u001B[38;5;28;43mnext\u001B[39;49m\u001B[43m(\u001B[49m\u001B[38;5;28;43mself\u001B[39;49m\u001B[38;5;241;43m.\u001B[39;49m\u001B[43mrecords\u001B[49m\u001B[43m)\u001B[49m\n\u001B[1;32m     92\u001B[0m \u001B[38;5;28;01mexcept\u001B[39;00m \u001B[38;5;167;01mException\u001B[39;00m:\n\u001B[1;32m     93\u001B[0m     \u001B[38;5;28;01mif\u001B[39;00m \u001B[38;5;28mself\u001B[39m\u001B[38;5;241m.\u001B[39mshould_close_stream:\n",
      "File \u001B[0;32m~/mamba/envs/diploma/lib/python3.12/site-packages/Bio/SeqIO/FastaIO.py:196\u001B[0m, in \u001B[0;36mFastaIterator.iterate\u001B[0;34m(self, handle)\u001B[0m\n\u001B[1;32m    194\u001B[0m \u001B[38;5;28;01mdef\u001B[39;00m \u001B[38;5;21miterate\u001B[39m(\u001B[38;5;28mself\u001B[39m, handle):\n\u001B[1;32m    195\u001B[0m \u001B[38;5;250m    \u001B[39m\u001B[38;5;124;03m\"\"\"Parse the file and generate SeqRecord objects.\"\"\"\u001B[39;00m\n\u001B[0;32m--> 196\u001B[0m \u001B[43m    \u001B[49m\u001B[38;5;28;43;01mfor\u001B[39;49;00m\u001B[43m \u001B[49m\u001B[43mtitle\u001B[49m\u001B[43m,\u001B[49m\u001B[43m \u001B[49m\u001B[43msequence\u001B[49m\u001B[43m \u001B[49m\u001B[38;5;129;43;01min\u001B[39;49;00m\u001B[43m \u001B[49m\u001B[43mSimpleFastaParser\u001B[49m\u001B[43m(\u001B[49m\u001B[43mhandle\u001B[49m\u001B[43m)\u001B[49m\u001B[43m:\u001B[49m\n\u001B[1;32m    197\u001B[0m \u001B[43m        \u001B[49m\u001B[38;5;28;43;01mtry\u001B[39;49;00m\u001B[43m:\u001B[49m\n\u001B[1;32m    198\u001B[0m \u001B[43m            \u001B[49m\u001B[43mfirst_word\u001B[49m\u001B[43m \u001B[49m\u001B[38;5;241;43m=\u001B[39;49m\u001B[43m \u001B[49m\u001B[43mtitle\u001B[49m\u001B[38;5;241;43m.\u001B[39;49m\u001B[43msplit\u001B[49m\u001B[43m(\u001B[49m\u001B[38;5;28;43;01mNone\u001B[39;49;00m\u001B[43m,\u001B[49m\u001B[43m \u001B[49m\u001B[38;5;241;43m1\u001B[39;49m\u001B[43m)\u001B[49m\u001B[43m[\u001B[49m\u001B[38;5;241;43m0\u001B[39;49m\u001B[43m]\u001B[49m\n",
      "File \u001B[0;32m~/mamba/envs/diploma/lib/python3.12/site-packages/Bio/SeqIO/FastaIO.py:68\u001B[0m, in \u001B[0;36mSimpleFastaParser\u001B[0;34m(handle)\u001B[0m\n\u001B[1;32m     66\u001B[0m         title \u001B[38;5;241m=\u001B[39m line[\u001B[38;5;241m1\u001B[39m:]\u001B[38;5;241m.\u001B[39mrstrip()\n\u001B[1;32m     67\u001B[0m         \u001B[38;5;28;01mcontinue\u001B[39;00m\n\u001B[0;32m---> 68\u001B[0m     lines\u001B[38;5;241m.\u001B[39mappend(\u001B[43mline\u001B[49m\u001B[38;5;241;43m.\u001B[39;49m\u001B[43mrstrip\u001B[49m\u001B[43m(\u001B[49m\u001B[43m)\u001B[49m)\n\u001B[1;32m     70\u001B[0m \u001B[38;5;28;01myield\u001B[39;00m title, \u001B[38;5;124m\"\u001B[39m\u001B[38;5;124m\"\u001B[39m\u001B[38;5;241m.\u001B[39mjoin(lines)\u001B[38;5;241m.\u001B[39mreplace(\u001B[38;5;124m\"\u001B[39m\u001B[38;5;124m \u001B[39m\u001B[38;5;124m\"\u001B[39m, \u001B[38;5;124m\"\u001B[39m\u001B[38;5;124m\"\u001B[39m)\u001B[38;5;241m.\u001B[39mreplace(\u001B[38;5;124m\"\u001B[39m\u001B[38;5;130;01m\\r\u001B[39;00m\u001B[38;5;124m\"\u001B[39m, \u001B[38;5;124m\"\u001B[39m\u001B[38;5;124m\"\u001B[39m)\n",
      "\u001B[0;31mKeyboardInterrupt\u001B[0m: "
     ]
    }
   ],
   "execution_count": 4
  },
  {
   "metadata": {
    "ExecuteTime": {
     "end_time": "2025-04-11T12:14:12.312582Z",
     "start_time": "2025-04-11T12:14:12.308454Z"
    }
   },
   "cell_type": "code",
   "source": [
    "hydra_vulgaris_cds = read_single_fasta(\"../References/hydra_vulgaris/XM_065811174.1.fasta\")\n",
    "hydra_vulgaris = choose_best_frameshift(hydra_vulgaris_cds, translate=True)"
   ],
   "id": "29bd397607bbbc17",
   "outputs": [
    {
     "name": "stdout",
     "output_type": "stream",
     "text": [
      "Frameshift 0: Start: 48, Stop: 63, Length: 15\n",
      "Frameshift 1: Start: 4, Stop: 49, Length: 45\n",
      "Frameshift 2: Start: 284, Stop: 2225, Length: 1941\n"
     ]
    }
   ],
   "execution_count": 54
  },
  {
   "metadata": {
    "ExecuteTime": {
     "end_time": "2025-04-11T12:10:33.960257Z",
     "start_time": "2025-04-11T12:10:33.955047Z"
    }
   },
   "cell_type": "code",
   "source": [
    "stylophora_pistillata = choose_best_frameshift(cnidaria_seqs[\"stylophora_pistillata\"], translate=True)\n",
    "actinia_tenebrosa = choose_best_frameshift(cnidaria_seqs[\"actinia_tenebrosa\"], translate=True)\n",
    "hydra_vulgaris = choose_best_frameshift(cnidaria_seqs[\"hydra_vulgaris\"], translate=True)\n",
    "nematostella_vectensis = choose_best_frameshift(cnidaria_seqs[\"nematostella_vectensis\"], translate=True)"
   ],
   "id": "2cfde34671e93832",
   "outputs": [
    {
     "name": "stdout",
     "output_type": "stream",
     "text": [
      "Frameshift 0: Start: 0, Stop: 2226, Length: 2226\n",
      "Frameshift 1: Start: 82, Stop: 172, Length: 90\n",
      "Frameshift 2: Start: 788, Stop: 821, Length: 33\n",
      "Frameshift 0: Start: 129, Stop: 147, Length: 18\n",
      "Frameshift 1: Start: 496, Stop: 628, Length: 132\n",
      "Frameshift 2: Start: 98, Stop: 2192, Length: 2094\n",
      "Frameshift 0: Start: 201, Stop: 222, Length: 21\n",
      "Frameshift 1: Start: 130, Stop: 163, Length: 33\n",
      "Frameshift 2: Start: 110, Stop: 131, Length: 21\n",
      "Frameshift 0: Start: 579, Stop: 594, Length: 15\n",
      "Frameshift 1: Start: 127, Stop: 2227, Length: 2100\n",
      "Frameshift 2: Start: 29, Stop: 89, Length: 60\n"
     ]
    }
   ],
   "execution_count": 50
  },
  {
   "metadata": {
    "ExecuteTime": {
     "end_time": "2025-04-11T12:14:28.087372Z",
     "start_time": "2025-04-11T12:14:28.084802Z"
    }
   },
   "cell_type": "code",
   "source": [
    "align_dict = {\n",
    "    \"stylophora_pistillata\": stylophora_pistillata,\n",
    "    \"actinia_tenebrosa\": actinia_tenebrosa,\n",
    "    \"hydra_vulgaris\": hydra_vulgaris,\n",
    "    \"nematostella_vectensis\": nematostella_vectensis,\n",
    "}\n",
    "dict_align_to_fasta(align_dict, \"cnidaria_4_sp\")"
   ],
   "id": "5dc4010826b0d8dc",
   "outputs": [],
   "execution_count": 56
  },
  {
   "metadata": {
    "ExecuteTime": {
     "end_time": "2025-04-11T13:46:58.297280Z",
     "start_time": "2025-04-11T13:46:58.294631Z"
    }
   },
   "cell_type": "code",
   "source": [
    "from Bio import Entrez, SeqIO\n",
    "\n",
    "Entrez.email = \"artemvaskaa@gmail.com\"\n",
    "gene_id = \"111339613\""
   ],
   "id": "eb80187aac1d1214",
   "outputs": [],
   "execution_count": 3
  },
  {
   "metadata": {
    "ExecuteTime": {
     "end_time": "2025-04-11T13:47:00.250548Z",
     "start_time": "2025-04-11T13:46:59.265038Z"
    }
   },
   "cell_type": "code",
   "source": [
    "search_term = f\"{gene_id}[GeneID]\"\n",
    "handle = Entrez.esearch(db=\"nucleotide\", term=f\"{gene_id}[GeneID]\", idtype=\"acc\", retmax=3)\n",
    "search_results = Entrez.read(handle)\n",
    "handle.close()"
   ],
   "id": "eba679c82a15e61c",
   "outputs": [],
   "execution_count": 4
  },
  {
   "metadata": {
    "ExecuteTime": {
     "end_time": "2025-04-11T13:47:08.684954Z",
     "start_time": "2025-04-11T13:47:08.682197Z"
    }
   },
   "cell_type": "code",
   "source": "seq_id = search_results[\"IdList\"][0]",
   "id": "c36268ce097a46aa",
   "outputs": [],
   "execution_count": 6
  },
  {
   "metadata": {
    "ExecuteTime": {
     "end_time": "2025-04-11T13:54:34.776975Z",
     "start_time": "2025-04-11T13:54:33.485561Z"
    }
   },
   "cell_type": "code",
   "source": [
    "fetch_handle = Entrez.efetch(db=\"nucleotide\", id=seq_id, rettype=\"gb\", retmode=\"text\")\n",
    "record = SeqIO.read(fetch_handle, \"genbank\")\n",
    "fetch_handle.close()"
   ],
   "id": "d0d7bb561a3e9a80",
   "outputs": [],
   "execution_count": 17
  },
  {
   "metadata": {},
   "cell_type": "markdown",
   "source": "Может вот так последовательность доставать? Раз я ее сразу закидываю в choose_best_frameshift",
   "id": "3688aeb19550e892"
  },
  {
   "metadata": {
    "ExecuteTime": {
     "end_time": "2025-04-11T13:57:20.591418Z",
     "start_time": "2025-04-11T13:57:20.588994Z"
    }
   },
   "cell_type": "code",
   "source": "print(record.seq)",
   "id": "44c644106992c76b",
   "outputs": [
    {
     "name": "stdout",
     "output_type": "stream",
     "text": [
      "ATGTGGTTCCTACCACCAGTGGTCTGCTTCGATAATAAGCTTCATTCCCAAGAGCCAGTCATCTACAGGGCAAAGCGTATGGATGAAGATGCTGCTCAGATCTTTCAGGTTGAACTGTTCGAAGAGAACATTAAGACGATTCATGAGCAATTCGAATTCACAAAGAAGGTGATCTTCACTCAAGAGGATAGGCAAACTTTCAATGCAAAGATGTCGTTGTCGGCTCTTCCATCGCCAAAGACGAAGACAAAACTTGTATCAGATAATCCAGTCTATTGTGGAATGAGCATCCTCGATATCAACAAGACACTGATGTATGACTTCCTCTATAACTACATCAAAGAGAAGAATGGAGATCGTGCAAAGCTTCTATTTACAGACACTGACAATCTCACGTATGAGATTGAAACTAAAGACTTTTACAAGGATATGGGTGAAGGTGTTGATGACAATAAGGAGACANCAGGCAGAAGCAGGGGTAGAGGAAGGGGGAGAGGAAGAGGGCGTAGCAGTAGCCACCATGGAAGCTATCCTCATCCTAGATCACACTTAGCTGGTGATGATGATGATGATGATGACATAGACATGGATGAAGGAAGCCAAAGATCTCAATCAAGATACAATCCTTACAACAGAAGACCTCCGTCTCGTCGTGGAGACAGAGGAAGTAATAGAGGTGATGTAAGGTCTAGATTAGGGGCAGTCCCTGATAGAGCTGCTGGAACTCAAGGAAATAAGTCGGACTGGCATAAAGTTGTGATACCACAAGGGAAAAAACACGACAAAGAATGGCTTATAAAAAAACTGCAGAATACATGTGAAGAGGCCTTCCAACCAGTTAGTTTCCATCCCTTCAAGGGAGAGTCTTCAGCCTTCTTTGTTGAAGGAAGTAAAGCTGCAGAAGCATTGAAAAGAGTTAGTCACAAAATAACTGTCAAGGATGGATCAAAGCTGATAGTGAGTGTTCGTGCCAGTGCCCCACCCCAAAACCAAACCAATAATTTTCCTGTTCGTGAAGTTCATGATGGCAGTAGTAGAGGTGGTGATTCATTAGATGATGCCACAAAACAAGTATTGAGGGAGTGTCTCAGTAAACGTTATGATAATATGGCAAAAGCACTCGACCTCTCTGATTTGTTTCACGATGAAGTGCTAAATTCAAATAATGTACAAGGAGTACTGTCAAGATATTGGCTGGCATCAGGAATTGTGAAAATTATTGGAGAGAACTGCCCTGAGGTTCAGTCACTTGACTTAAGTAACAATCGCCTAAAGAGCTTGGATGGTTTTAAGGACCTTGCAAAGGAAACATCAAACTTAAAGCATATCAAGATCTCCAATAATCAATTAAGAGCTGTAGAAGAACTGGACAAGATAAAGTCCTTGAGTCAGCTCCAAACCATTGCACTTGATGGCAATCCTCTTTGCGATATATTTCAAGACAAACAAAGTTCGTATACCAGTTTTTTTGGTGATCCTGCAGTTAAGGACCTGGTGCTAAAATTCATTGACCAATATTTTAAGATTTATGACACAGACAACAGACAAGGCCTTCTAGAAGCTTACCATGATCAGGCAATATTTTCCATGTGTGTCAATACAGAAGCATTAGTGAAGGATCGCGGTGGTCAAAGGGCTCCTTCACTTGGTGACTACATGAAGAACAGCCGAAACTTGAAAAGAGTCACAGATCCAGAGCGTCGAAGCAGTTTCTTAAAGCACTCAAGACTCTCTGTTGTTGCATTTTTGAATGAGCTGCCCAGCACCAAGCATGATTTGTCAAGTTTTACTATTGATGTGAGTCTGGCCCTGCCTTCCTGCTTGTCATTTGCAGTCAGAGGATTGTTCTTAGAGAATTCAAAAACATGGAGGTCTTTTACAAGAGTATTTCTCGCTGTTCCTGCTGCCAGCGGAAAGGCGTTGAGTATAATAAATGATGAACTTCACATTAGCCACGCTTCAACATCTCAAGTTCAGGCTGCTGAGAGTGCGATTGCCACAAACAGCACTGCAACGTTACAAGTCAATGCGGCTGTTCCTGGTTTGTCATCAGCAACTCCACAGCAGCAGCAGATGATTCTCCAGTTTGCAGAGCGGTCTACAATGAACTTAGAGTGGTCATACAAGTGCCTGTCTGAATATAATTGGAACTTTGAGAAAGCTGCAATGGCGTTTTCTTCATTAAAGGAGAGTGGGAGGATTCCGCCCGAAGCTTTTGTGAAATGACTCGAATCAGTTATGCAAAATAATGAGCTTTAGAAAATTTATTCAGAGCTGTAGAGTAGATTCACAGTTTTCATTTCAACTAACAATTCCTTTGCCATCGTTCAGGGTATTGGTTACTGCTCTGAACTTTACGCTTTTAAGTCTGTCGCAGTTGTTGATGCAGTTTTTAAGTTGTGAATTCTGGGTCGCTGGATTTTCTACATTGATATCCTTGTACATAATTTCCTCACAAAGTCCGTGTTAGCCCAATAATAGCGTTCAGAACAGCGTATTTTACTTGTTAACATTCGGAAATAGACTTTTTAGAACATTTTACTACATCTACGACTGTTTTTGTTTTTTTTTTTTTTTTCAAGTAATTATTGTTAACCAGAGCCTTAAATGAACCACTCACCGCTATTTAAGATGGCCGCAGTAAACACCTTTTGATGTTATTGTGAAGAATGTCGAAATAATGAAAGAATAAATTGATAACGAAGTGA\n"
     ]
    }
   ],
   "execution_count": 21
  }
 ],
 "metadata": {
  "kernelspec": {
   "display_name": "Python 3",
   "language": "python",
   "name": "python3"
  },
  "language_info": {
   "codemirror_mode": {
    "name": "ipython",
    "version": 2
   },
   "file_extension": ".py",
   "mimetype": "text/x-python",
   "name": "python",
   "nbconvert_exporter": "python",
   "pygments_lexer": "ipython2",
   "version": "2.7.6"
  }
 },
 "nbformat": 4,
 "nbformat_minor": 5
}
