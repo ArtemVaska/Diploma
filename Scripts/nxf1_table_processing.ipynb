{
 "cells": [
  {
   "cell_type": "code",
   "id": "initial_id",
   "metadata": {
    "collapsed": true,
    "ExecuteTime": {
     "end_time": "2025-04-12T11:03:28.827967Z",
     "start_time": "2025-04-12T11:03:28.825197Z"
    }
   },
   "source": [
    "import pandas as pd\n",
    "\n",
    "from entrez import select_phyla\n",
    "from fasta_processing import read_fasta, read_single_fasta, dict_align_to_fasta\n",
    "from data_processing import choose_best_frameshift, save_subset_df_transcripts, find_codon"
   ],
   "outputs": [],
   "execution_count": 82
  },
  {
   "metadata": {
    "ExecuteTime": {
     "end_time": "2025-04-12T07:54:56.005116Z",
     "start_time": "2025-04-12T07:54:55.975509Z"
    }
   },
   "cell_type": "code",
   "source": [
    "column_names = [\"tax_id\", \"org_name\", \"gene_id\", \"current_id\", \"status\", \"symbol\", \"aliases\", \"description\",\n",
    "                \"other_designations\", \"map_location\", \"chromosome\", \"genomic_nucleotide_accession.version\",\n",
    "                \"start_position_on_the_genomic_accession\", \"end_position_on_the_genomic_accession\", \"orientation\",\n",
    "                \"exon_count\", \"to_delete_1\", \"to_delete_2\"]\n",
    "\n",
    "df = pd.read_csv(\"../all_nxf1.txt\", sep=\"\\t\", skiprows=1, names=column_names, index_col=0)\n",
    "df.drop([\"to_delete_1\", \"to_delete_2\"], axis=1, inplace=True)\n",
    "df.head()"
   ],
   "id": "295f39ed37e160be",
   "outputs": [
    {
     "data": {
      "text/plain": [
       "                      org_name    gene_id  current_id status symbol  \\\n",
       "tax_id                                                                \n",
       "8407           Rana temporaria  120917577           0   live   NXF1   \n",
       "8364        Xenopus tropicalis     734058           0   live   nxf1   \n",
       "9598           Pan troglodytes     451267           0   live   NXF1   \n",
       "9913                Bos taurus     512136           0   live   NXF1   \n",
       "9615    Canis lupus familiaris     483780           0   live   NXF1   \n",
       "\n",
       "               aliases                  description  \\\n",
       "tax_id                                                \n",
       "8407               NaN  nuclear RNA export factor 1   \n",
       "8364        mex67, tap  nuclear RNA export factor 1   \n",
       "9598    CK820_G0030982  nuclear RNA export factor 1   \n",
       "9913               NaN  nuclear RNA export factor 1   \n",
       "9615               NaN  nuclear RNA export factor 1   \n",
       "\n",
       "                 other_designations  map_location chromosome  \\\n",
       "tax_id                                                         \n",
       "8407    nuclear RNA export factor 1           NaN         11   \n",
       "8364    nuclear RNA export factor 1           NaN          4   \n",
       "9598    nuclear RNA export factor 1           NaN          9   \n",
       "9913    nuclear RNA export factor 1           NaN         29   \n",
       "9615    nuclear RNA export factor 1           NaN         18   \n",
       "\n",
       "       genomic_nucleotide_accession.version  \\\n",
       "tax_id                                        \n",
       "8407                            NC_053499.1   \n",
       "8364                            NC_030680.2   \n",
       "9598                            NC_072407.2   \n",
       "9913                            NC_037356.1   \n",
       "9615                            NC_051822.1   \n",
       "\n",
       "        start_position_on_the_genomic_accession  \\\n",
       "tax_id                                            \n",
       "8407                                120752259.0   \n",
       "8364                                 36493131.0   \n",
       "9598                                 65104305.0   \n",
       "9913                                 41099477.0   \n",
       "9615                                 54936964.0   \n",
       "\n",
       "        end_position_on_the_genomic_accession orientation  exon_count  \n",
       "tax_id                                                                 \n",
       "8407                              120809664.0        plus        22.0  \n",
       "8364                               36532401.0       minus        23.0  \n",
       "9598                               65118449.0       minus        23.0  \n",
       "9913                               41110792.0       minus        22.0  \n",
       "9615                               54947631.0        plus        21.0  "
      ],
      "text/html": [
       "<div>\n",
       "<style scoped>\n",
       "    .dataframe tbody tr th:only-of-type {\n",
       "        vertical-align: middle;\n",
       "    }\n",
       "\n",
       "    .dataframe tbody tr th {\n",
       "        vertical-align: top;\n",
       "    }\n",
       "\n",
       "    .dataframe thead th {\n",
       "        text-align: right;\n",
       "    }\n",
       "</style>\n",
       "<table border=\"1\" class=\"dataframe\">\n",
       "  <thead>\n",
       "    <tr style=\"text-align: right;\">\n",
       "      <th></th>\n",
       "      <th>org_name</th>\n",
       "      <th>gene_id</th>\n",
       "      <th>current_id</th>\n",
       "      <th>status</th>\n",
       "      <th>symbol</th>\n",
       "      <th>aliases</th>\n",
       "      <th>description</th>\n",
       "      <th>other_designations</th>\n",
       "      <th>map_location</th>\n",
       "      <th>chromosome</th>\n",
       "      <th>genomic_nucleotide_accession.version</th>\n",
       "      <th>start_position_on_the_genomic_accession</th>\n",
       "      <th>end_position_on_the_genomic_accession</th>\n",
       "      <th>orientation</th>\n",
       "      <th>exon_count</th>\n",
       "    </tr>\n",
       "    <tr>\n",
       "      <th>tax_id</th>\n",
       "      <th></th>\n",
       "      <th></th>\n",
       "      <th></th>\n",
       "      <th></th>\n",
       "      <th></th>\n",
       "      <th></th>\n",
       "      <th></th>\n",
       "      <th></th>\n",
       "      <th></th>\n",
       "      <th></th>\n",
       "      <th></th>\n",
       "      <th></th>\n",
       "      <th></th>\n",
       "      <th></th>\n",
       "      <th></th>\n",
       "    </tr>\n",
       "  </thead>\n",
       "  <tbody>\n",
       "    <tr>\n",
       "      <th>8407</th>\n",
       "      <td>Rana temporaria</td>\n",
       "      <td>120917577</td>\n",
       "      <td>0</td>\n",
       "      <td>live</td>\n",
       "      <td>NXF1</td>\n",
       "      <td>NaN</td>\n",
       "      <td>nuclear RNA export factor 1</td>\n",
       "      <td>nuclear RNA export factor 1</td>\n",
       "      <td>NaN</td>\n",
       "      <td>11</td>\n",
       "      <td>NC_053499.1</td>\n",
       "      <td>120752259.0</td>\n",
       "      <td>120809664.0</td>\n",
       "      <td>plus</td>\n",
       "      <td>22.0</td>\n",
       "    </tr>\n",
       "    <tr>\n",
       "      <th>8364</th>\n",
       "      <td>Xenopus tropicalis</td>\n",
       "      <td>734058</td>\n",
       "      <td>0</td>\n",
       "      <td>live</td>\n",
       "      <td>nxf1</td>\n",
       "      <td>mex67, tap</td>\n",
       "      <td>nuclear RNA export factor 1</td>\n",
       "      <td>nuclear RNA export factor 1</td>\n",
       "      <td>NaN</td>\n",
       "      <td>4</td>\n",
       "      <td>NC_030680.2</td>\n",
       "      <td>36493131.0</td>\n",
       "      <td>36532401.0</td>\n",
       "      <td>minus</td>\n",
       "      <td>23.0</td>\n",
       "    </tr>\n",
       "    <tr>\n",
       "      <th>9598</th>\n",
       "      <td>Pan troglodytes</td>\n",
       "      <td>451267</td>\n",
       "      <td>0</td>\n",
       "      <td>live</td>\n",
       "      <td>NXF1</td>\n",
       "      <td>CK820_G0030982</td>\n",
       "      <td>nuclear RNA export factor 1</td>\n",
       "      <td>nuclear RNA export factor 1</td>\n",
       "      <td>NaN</td>\n",
       "      <td>9</td>\n",
       "      <td>NC_072407.2</td>\n",
       "      <td>65104305.0</td>\n",
       "      <td>65118449.0</td>\n",
       "      <td>minus</td>\n",
       "      <td>23.0</td>\n",
       "    </tr>\n",
       "    <tr>\n",
       "      <th>9913</th>\n",
       "      <td>Bos taurus</td>\n",
       "      <td>512136</td>\n",
       "      <td>0</td>\n",
       "      <td>live</td>\n",
       "      <td>NXF1</td>\n",
       "      <td>NaN</td>\n",
       "      <td>nuclear RNA export factor 1</td>\n",
       "      <td>nuclear RNA export factor 1</td>\n",
       "      <td>NaN</td>\n",
       "      <td>29</td>\n",
       "      <td>NC_037356.1</td>\n",
       "      <td>41099477.0</td>\n",
       "      <td>41110792.0</td>\n",
       "      <td>minus</td>\n",
       "      <td>22.0</td>\n",
       "    </tr>\n",
       "    <tr>\n",
       "      <th>9615</th>\n",
       "      <td>Canis lupus familiaris</td>\n",
       "      <td>483780</td>\n",
       "      <td>0</td>\n",
       "      <td>live</td>\n",
       "      <td>NXF1</td>\n",
       "      <td>NaN</td>\n",
       "      <td>nuclear RNA export factor 1</td>\n",
       "      <td>nuclear RNA export factor 1</td>\n",
       "      <td>NaN</td>\n",
       "      <td>18</td>\n",
       "      <td>NC_051822.1</td>\n",
       "      <td>54936964.0</td>\n",
       "      <td>54947631.0</td>\n",
       "      <td>plus</td>\n",
       "      <td>21.0</td>\n",
       "    </tr>\n",
       "  </tbody>\n",
       "</table>\n",
       "</div>"
      ]
     },
     "execution_count": 2,
     "metadata": {},
     "output_type": "execute_result"
    }
   ],
   "execution_count": 2
  },
  {
   "metadata": {
    "ExecuteTime": {
     "end_time": "2025-04-11T09:43:29.973440Z",
     "start_time": "2025-04-11T09:43:22.935696Z"
    }
   },
   "cell_type": "code",
   "source": "cnidaria = select_phyla(df_cnidaria, \"Cnidaria\")",
   "id": "884a1e3bc1e831fe",
   "outputs": [
    {
     "name": "stdout",
     "output_type": "stream",
     "text": [
      "50429 Stylophora pistillata\n",
      "6105 Actinia tenebrosa\n",
      "6087 Hydra vulgaris\n",
      "45351 Nematostella vectensis\n"
     ]
    }
   ],
   "execution_count": 4
  },
  {
   "metadata": {
    "ExecuteTime": {
     "end_time": "2025-04-11T09:43:32.658808Z",
     "start_time": "2025-04-11T09:43:32.655620Z"
    }
   },
   "cell_type": "code",
   "source": "cnidaria",
   "id": "52f338c5d2e8712e",
   "outputs": [
    {
     "data": {
      "text/plain": [
       "{'Cnidaria': [50429, 6105, 6087, 45351]}"
      ]
     },
     "execution_count": 5,
     "metadata": {},
     "output_type": "execute_result"
    }
   ],
   "execution_count": 5
  },
  {
   "metadata": {
    "ExecuteTime": {
     "end_time": "2025-04-11T09:45:19.466349Z",
     "start_time": "2025-04-11T09:45:19.462651Z"
    }
   },
   "cell_type": "code",
   "source": "df_cnidaria = df.loc[cnidaria[\"Cnidaria\"]]",
   "id": "8e8e386d454e2888",
   "outputs": [],
   "execution_count": 6
  },
  {
   "metadata": {
    "ExecuteTime": {
     "end_time": "2025-04-11T13:19:45.909437Z",
     "start_time": "2025-04-11T13:19:45.894887Z"
    }
   },
   "cell_type": "code",
   "source": "df_cnidaria",
   "id": "e513c1dc56764b1e",
   "outputs": [
    {
     "data": {
      "text/plain": [
       "                      org_name    gene_id  current_id status        symbol  \\\n",
       "tax_id                                                                       \n",
       "50429    Stylophora pistillata  111339613           0   live  LOC111339613   \n",
       "6105         Actinia tenebrosa  116292710           0   live  LOC116292710   \n",
       "6087            Hydra vulgaris  100214173           0   live  LOC100214173   \n",
       "45351   Nematostella vectensis    5510737           0   live    LOC5510737   \n",
       "\n",
       "                          aliases                       description  \\\n",
       "tax_id                                                                \n",
       "50429   AWC38_SpisGene17253, NXF1  nuclear RNA export factor 1-like   \n",
       "6105                          NaN  nuclear RNA export factor 1-like   \n",
       "6087                          NaN       nuclear RNA export factor 1   \n",
       "45351        NEMVEDRAFT_v1g244041       nuclear RNA export factor 1   \n",
       "\n",
       "                                       other_designations  map_location  \\\n",
       "tax_id                                                                    \n",
       "50429   nuclear RNA export factor 1-like|Nuclear RNA e...           NaN   \n",
       "6105                     nuclear RNA export factor 1-like           NaN   \n",
       "6087                          nuclear RNA export factor 1           NaN   \n",
       "45351       nuclear RNA export factor 1|predicted protein           NaN   \n",
       "\n",
       "       chromosome genomic_nucleotide_accession.version  \\\n",
       "tax_id                                                   \n",
       "50429          Un                       NW_019218197.1   \n",
       "6105           Un                       NW_022259381.1   \n",
       "6087           12                          NC_088975.1   \n",
       "45351           7                          NC_064040.1   \n",
       "\n",
       "        start_position_on_the_genomic_accession  \\\n",
       "tax_id                                            \n",
       "50429                                   98177.0   \n",
       "6105                                    16092.0   \n",
       "6087                                   736736.0   \n",
       "45351                                11955766.0   \n",
       "\n",
       "        end_position_on_the_genomic_accession orientation  exon_count  \n",
       "tax_id                                                                 \n",
       "50429                                131366.0        plus        21.0  \n",
       "6105                                  33206.0        plus        24.0  \n",
       "6087                                 739315.0       minus         2.0  \n",
       "45351                              11973360.0        plus        24.0  "
      ],
      "text/html": [
       "<div>\n",
       "<style scoped>\n",
       "    .dataframe tbody tr th:only-of-type {\n",
       "        vertical-align: middle;\n",
       "    }\n",
       "\n",
       "    .dataframe tbody tr th {\n",
       "        vertical-align: top;\n",
       "    }\n",
       "\n",
       "    .dataframe thead th {\n",
       "        text-align: right;\n",
       "    }\n",
       "</style>\n",
       "<table border=\"1\" class=\"dataframe\">\n",
       "  <thead>\n",
       "    <tr style=\"text-align: right;\">\n",
       "      <th></th>\n",
       "      <th>org_name</th>\n",
       "      <th>gene_id</th>\n",
       "      <th>current_id</th>\n",
       "      <th>status</th>\n",
       "      <th>symbol</th>\n",
       "      <th>aliases</th>\n",
       "      <th>description</th>\n",
       "      <th>other_designations</th>\n",
       "      <th>map_location</th>\n",
       "      <th>chromosome</th>\n",
       "      <th>genomic_nucleotide_accession.version</th>\n",
       "      <th>start_position_on_the_genomic_accession</th>\n",
       "      <th>end_position_on_the_genomic_accession</th>\n",
       "      <th>orientation</th>\n",
       "      <th>exon_count</th>\n",
       "    </tr>\n",
       "    <tr>\n",
       "      <th>tax_id</th>\n",
       "      <th></th>\n",
       "      <th></th>\n",
       "      <th></th>\n",
       "      <th></th>\n",
       "      <th></th>\n",
       "      <th></th>\n",
       "      <th></th>\n",
       "      <th></th>\n",
       "      <th></th>\n",
       "      <th></th>\n",
       "      <th></th>\n",
       "      <th></th>\n",
       "      <th></th>\n",
       "      <th></th>\n",
       "      <th></th>\n",
       "    </tr>\n",
       "  </thead>\n",
       "  <tbody>\n",
       "    <tr>\n",
       "      <th>50429</th>\n",
       "      <td>Stylophora pistillata</td>\n",
       "      <td>111339613</td>\n",
       "      <td>0</td>\n",
       "      <td>live</td>\n",
       "      <td>LOC111339613</td>\n",
       "      <td>AWC38_SpisGene17253, NXF1</td>\n",
       "      <td>nuclear RNA export factor 1-like</td>\n",
       "      <td>nuclear RNA export factor 1-like|Nuclear RNA e...</td>\n",
       "      <td>NaN</td>\n",
       "      <td>Un</td>\n",
       "      <td>NW_019218197.1</td>\n",
       "      <td>98177.0</td>\n",
       "      <td>131366.0</td>\n",
       "      <td>plus</td>\n",
       "      <td>21.0</td>\n",
       "    </tr>\n",
       "    <tr>\n",
       "      <th>6105</th>\n",
       "      <td>Actinia tenebrosa</td>\n",
       "      <td>116292710</td>\n",
       "      <td>0</td>\n",
       "      <td>live</td>\n",
       "      <td>LOC116292710</td>\n",
       "      <td>NaN</td>\n",
       "      <td>nuclear RNA export factor 1-like</td>\n",
       "      <td>nuclear RNA export factor 1-like</td>\n",
       "      <td>NaN</td>\n",
       "      <td>Un</td>\n",
       "      <td>NW_022259381.1</td>\n",
       "      <td>16092.0</td>\n",
       "      <td>33206.0</td>\n",
       "      <td>plus</td>\n",
       "      <td>24.0</td>\n",
       "    </tr>\n",
       "    <tr>\n",
       "      <th>6087</th>\n",
       "      <td>Hydra vulgaris</td>\n",
       "      <td>100214173</td>\n",
       "      <td>0</td>\n",
       "      <td>live</td>\n",
       "      <td>LOC100214173</td>\n",
       "      <td>NaN</td>\n",
       "      <td>nuclear RNA export factor 1</td>\n",
       "      <td>nuclear RNA export factor 1</td>\n",
       "      <td>NaN</td>\n",
       "      <td>12</td>\n",
       "      <td>NC_088975.1</td>\n",
       "      <td>736736.0</td>\n",
       "      <td>739315.0</td>\n",
       "      <td>minus</td>\n",
       "      <td>2.0</td>\n",
       "    </tr>\n",
       "    <tr>\n",
       "      <th>45351</th>\n",
       "      <td>Nematostella vectensis</td>\n",
       "      <td>5510737</td>\n",
       "      <td>0</td>\n",
       "      <td>live</td>\n",
       "      <td>LOC5510737</td>\n",
       "      <td>NEMVEDRAFT_v1g244041</td>\n",
       "      <td>nuclear RNA export factor 1</td>\n",
       "      <td>nuclear RNA export factor 1|predicted protein</td>\n",
       "      <td>NaN</td>\n",
       "      <td>7</td>\n",
       "      <td>NC_064040.1</td>\n",
       "      <td>11955766.0</td>\n",
       "      <td>11973360.0</td>\n",
       "      <td>plus</td>\n",
       "      <td>24.0</td>\n",
       "    </tr>\n",
       "  </tbody>\n",
       "</table>\n",
       "</div>"
      ]
     },
     "execution_count": 4,
     "metadata": {},
     "output_type": "execute_result"
    }
   ],
   "execution_count": 4
  },
  {
   "metadata": {
    "ExecuteTime": {
     "end_time": "2025-04-12T07:54:59.295889Z",
     "start_time": "2025-04-12T07:54:59.290872Z"
    }
   },
   "cell_type": "code",
   "source": "df_cnidaria = df.loc[[50429, 6105, 6087, 45351]]",
   "id": "7eb8a7add3497114",
   "outputs": [],
   "execution_count": 3
  },
  {
   "metadata": {},
   "cell_type": "markdown",
   "source": "---",
   "id": "6fbb08c11ad935b3"
  },
  {
   "metadata": {},
   "cell_type": "code",
   "outputs": [],
   "execution_count": null,
   "source": "",
   "id": "8cc941dbd4310ac"
  },
  {
   "metadata": {},
   "cell_type": "code",
   "outputs": [],
   "execution_count": null,
   "source": "",
   "id": "8e9a25e147fc5044"
  },
  {
   "metadata": {},
   "cell_type": "code",
   "outputs": [],
   "execution_count": null,
   "source": "",
   "id": "c733cab727418a01"
  },
  {
   "metadata": {},
   "cell_type": "code",
   "outputs": [],
   "execution_count": null,
   "source": "",
   "id": "b8b9930181f7a8bf"
  },
  {
   "metadata": {
    "ExecuteTime": {
     "end_time": "2025-04-11T13:37:15.577765Z",
     "start_time": "2025-04-11T13:36:35.991638Z"
    }
   },
   "cell_type": "code",
   "source": "cnidaria_seqs = save_subset_df_transcripts(df_cnidaria)",
   "id": "70e3f6f8bc61f9a7",
   "outputs": [
    {
     "name": "stdout",
     "output_type": "stream",
     "text": [
      "Found 2 mRNA sequences for GeneID 111339613.\n",
      "Saved transcript to ../References/stylophora_pistillata/XM_022946298.1.fasta\n",
      "Saved transcript to ../References/stylophora_pistillata/NW_019218197.1.fasta\n",
      "\n",
      "Found 2 mRNA sequences for GeneID 116292710.\n",
      "Saved transcript to ../References/actinia_tenebrosa/XM_031700062.1.fasta\n",
      "Saved transcript to ../References/actinia_tenebrosa/NW_022259381.1.fasta\n",
      "\n",
      "Found 3 mRNA sequences for GeneID 100214173.\n",
      "Saved transcript to ../References/hydra_vulgaris/XM_065811174.1.fasta\n",
      "Saved transcript to ../References/hydra_vulgaris/XM_002156424.5.fasta\n"
     ]
    },
    {
     "ename": "KeyboardInterrupt",
     "evalue": "",
     "output_type": "error",
     "traceback": [
      "\u001B[0;31m---------------------------------------------------------------------------\u001B[0m",
      "\u001B[0;31mKeyboardInterrupt\u001B[0m                         Traceback (most recent call last)",
      "Cell \u001B[0;32mIn[4], line 1\u001B[0m\n\u001B[0;32m----> 1\u001B[0m cnidaria_seqs \u001B[38;5;241m=\u001B[39m \u001B[43msave_subset_df_transcripts\u001B[49m\u001B[43m(\u001B[49m\u001B[43mdf_cnidaria\u001B[49m\u001B[43m)\u001B[49m\n",
      "File \u001B[0;32m~/Master_degree/Diploma/Scripts/data_processing.py:353\u001B[0m, in \u001B[0;36msave_subset_df_transcripts\u001B[0;34m(df)\u001B[0m\n\u001B[1;32m    351\u001B[0m \u001B[38;5;28;01mfor\u001B[39;00m index, row \u001B[38;5;129;01min\u001B[39;00m df\u001B[38;5;241m.\u001B[39miterrows():\n\u001B[1;32m    352\u001B[0m     folder_name \u001B[38;5;241m=\u001B[39m row[\u001B[38;5;124m\"\u001B[39m\u001B[38;5;124morg_name\u001B[39m\u001B[38;5;124m\"\u001B[39m]\u001B[38;5;241m.\u001B[39mlower()\u001B[38;5;241m.\u001B[39mreplace(\u001B[38;5;124m\"\u001B[39m\u001B[38;5;124m \u001B[39m\u001B[38;5;124m\"\u001B[39m, \u001B[38;5;124m\"\u001B[39m\u001B[38;5;124m_\u001B[39m\u001B[38;5;124m\"\u001B[39m)\n\u001B[0;32m--> 353\u001B[0m     filename \u001B[38;5;241m=\u001B[39m \u001B[43mdownload_transcripts_by_geneid\u001B[49m\u001B[43m(\u001B[49m\u001B[38;5;28;43mstr\u001B[39;49m\u001B[43m(\u001B[49m\u001B[43mrow\u001B[49m\u001B[43m[\u001B[49m\u001B[38;5;124;43m\"\u001B[39;49m\u001B[38;5;124;43mgene_id\u001B[39;49m\u001B[38;5;124;43m\"\u001B[39;49m\u001B[43m]\u001B[49m\u001B[43m)\u001B[49m\u001B[43m,\u001B[49m\u001B[43m \u001B[49m\u001B[43mfolder_name\u001B[49m\u001B[43m,\u001B[49m\u001B[43m \u001B[49m\u001B[43mmax_results\u001B[49m\u001B[38;5;241;43m=\u001B[39;49m\u001B[38;5;241;43m3\u001B[39;49m\u001B[43m)\u001B[49m\n\u001B[1;32m    354\u001B[0m     \u001B[38;5;28mprint\u001B[39m()\n\u001B[1;32m    355\u001B[0m     seq \u001B[38;5;241m=\u001B[39m read_single_fasta(\u001B[38;5;124mf\u001B[39m\u001B[38;5;124m\"\u001B[39m\u001B[38;5;124m../References/\u001B[39m\u001B[38;5;132;01m{\u001B[39;00mfolder_name\u001B[38;5;132;01m}\u001B[39;00m\u001B[38;5;124m/\u001B[39m\u001B[38;5;132;01m{\u001B[39;00mfilename\u001B[38;5;132;01m}\u001B[39;00m\u001B[38;5;124m.fasta\u001B[39m\u001B[38;5;124m\"\u001B[39m)\n",
      "File \u001B[0;32m~/Master_degree/Diploma/Scripts/data_processing.py:330\u001B[0m, in \u001B[0;36mdownload_transcripts_by_geneid\u001B[0;34m(gene_id, org_name, max_results)\u001B[0m\n\u001B[1;32m    328\u001B[0m \u001B[38;5;28;01mif\u001B[39;00m \u001B[38;5;124m\"\u001B[39m\u001B[38;5;124mXM_\u001B[39m\u001B[38;5;124m\"\u001B[39m \u001B[38;5;129;01mor\u001B[39;00m \u001B[38;5;124m\"\u001B[39m\u001B[38;5;124mNW_\u001B[39m\u001B[38;5;124m\"\u001B[39m \u001B[38;5;129;01mor\u001B[39;00m \u001B[38;5;124m\"\u001B[39m\u001B[38;5;124mNC_\u001B[39m\u001B[38;5;124m\"\u001B[39m \u001B[38;5;129;01min\u001B[39;00m seq_id:\n\u001B[1;32m    329\u001B[0m     fetch_handle \u001B[38;5;241m=\u001B[39m Entrez\u001B[38;5;241m.\u001B[39mefetch(db\u001B[38;5;241m=\u001B[39m\u001B[38;5;124m\"\u001B[39m\u001B[38;5;124mnucleotide\u001B[39m\u001B[38;5;124m\"\u001B[39m, \u001B[38;5;28mid\u001B[39m\u001B[38;5;241m=\u001B[39mseq_id, rettype\u001B[38;5;241m=\u001B[39m\u001B[38;5;124m\"\u001B[39m\u001B[38;5;124mfasta\u001B[39m\u001B[38;5;124m\"\u001B[39m, retmode\u001B[38;5;241m=\u001B[39m\u001B[38;5;124m\"\u001B[39m\u001B[38;5;124mtext\u001B[39m\u001B[38;5;124m\"\u001B[39m)\n\u001B[0;32m--> 330\u001B[0m     seq_record \u001B[38;5;241m=\u001B[39m \u001B[43mSeqIO\u001B[49m\u001B[38;5;241;43m.\u001B[39;49m\u001B[43mread\u001B[49m\u001B[43m(\u001B[49m\u001B[43mfetch_handle\u001B[49m\u001B[43m,\u001B[49m\u001B[43m \u001B[49m\u001B[38;5;124;43m\"\u001B[39;49m\u001B[38;5;124;43mfasta\u001B[39;49m\u001B[38;5;124;43m\"\u001B[39;49m\u001B[43m)\u001B[49m\n\u001B[1;32m    331\u001B[0m     seq_records\u001B[38;5;241m.\u001B[39mappend(seq_record\u001B[38;5;241m.\u001B[39mid)\n\u001B[1;32m    332\u001B[0m     fetch_handle\u001B[38;5;241m.\u001B[39mclose()\n",
      "File \u001B[0;32m~/mamba/envs/diploma/lib/python3.12/site-packages/Bio/SeqIO/__init__.py:674\u001B[0m, in \u001B[0;36mread\u001B[0;34m(handle, format, alphabet)\u001B[0m\n\u001B[1;32m    672\u001B[0m iterator \u001B[38;5;241m=\u001B[39m parse(handle, \u001B[38;5;28mformat\u001B[39m, alphabet)\n\u001B[1;32m    673\u001B[0m \u001B[38;5;28;01mtry\u001B[39;00m:\n\u001B[0;32m--> 674\u001B[0m     record \u001B[38;5;241m=\u001B[39m \u001B[38;5;28;43mnext\u001B[39;49m\u001B[43m(\u001B[49m\u001B[43miterator\u001B[49m\u001B[43m)\u001B[49m\n\u001B[1;32m    675\u001B[0m \u001B[38;5;28;01mexcept\u001B[39;00m \u001B[38;5;167;01mStopIteration\u001B[39;00m:\n\u001B[1;32m    676\u001B[0m     \u001B[38;5;28;01mraise\u001B[39;00m \u001B[38;5;167;01mValueError\u001B[39;00m(\u001B[38;5;124m\"\u001B[39m\u001B[38;5;124mNo records found in handle\u001B[39m\u001B[38;5;124m\"\u001B[39m) \u001B[38;5;28;01mfrom\u001B[39;00m \u001B[38;5;28;01mNone\u001B[39;00m\n",
      "File \u001B[0;32m~/mamba/envs/diploma/lib/python3.12/site-packages/Bio/SeqIO/Interfaces.py:91\u001B[0m, in \u001B[0;36mSequenceIterator.__next__\u001B[0;34m(self)\u001B[0m\n\u001B[1;32m     89\u001B[0m \u001B[38;5;250m\u001B[39m\u001B[38;5;124;03m\"\"\"Return the next entry.\"\"\"\u001B[39;00m\n\u001B[1;32m     90\u001B[0m \u001B[38;5;28;01mtry\u001B[39;00m:\n\u001B[0;32m---> 91\u001B[0m     \u001B[38;5;28;01mreturn\u001B[39;00m \u001B[38;5;28;43mnext\u001B[39;49m\u001B[43m(\u001B[49m\u001B[38;5;28;43mself\u001B[39;49m\u001B[38;5;241;43m.\u001B[39;49m\u001B[43mrecords\u001B[49m\u001B[43m)\u001B[49m\n\u001B[1;32m     92\u001B[0m \u001B[38;5;28;01mexcept\u001B[39;00m \u001B[38;5;167;01mException\u001B[39;00m:\n\u001B[1;32m     93\u001B[0m     \u001B[38;5;28;01mif\u001B[39;00m \u001B[38;5;28mself\u001B[39m\u001B[38;5;241m.\u001B[39mshould_close_stream:\n",
      "File \u001B[0;32m~/mamba/envs/diploma/lib/python3.12/site-packages/Bio/SeqIO/FastaIO.py:196\u001B[0m, in \u001B[0;36mFastaIterator.iterate\u001B[0;34m(self, handle)\u001B[0m\n\u001B[1;32m    194\u001B[0m \u001B[38;5;28;01mdef\u001B[39;00m \u001B[38;5;21miterate\u001B[39m(\u001B[38;5;28mself\u001B[39m, handle):\n\u001B[1;32m    195\u001B[0m \u001B[38;5;250m    \u001B[39m\u001B[38;5;124;03m\"\"\"Parse the file and generate SeqRecord objects.\"\"\"\u001B[39;00m\n\u001B[0;32m--> 196\u001B[0m \u001B[43m    \u001B[49m\u001B[38;5;28;43;01mfor\u001B[39;49;00m\u001B[43m \u001B[49m\u001B[43mtitle\u001B[49m\u001B[43m,\u001B[49m\u001B[43m \u001B[49m\u001B[43msequence\u001B[49m\u001B[43m \u001B[49m\u001B[38;5;129;43;01min\u001B[39;49;00m\u001B[43m \u001B[49m\u001B[43mSimpleFastaParser\u001B[49m\u001B[43m(\u001B[49m\u001B[43mhandle\u001B[49m\u001B[43m)\u001B[49m\u001B[43m:\u001B[49m\n\u001B[1;32m    197\u001B[0m \u001B[43m        \u001B[49m\u001B[38;5;28;43;01mtry\u001B[39;49;00m\u001B[43m:\u001B[49m\n\u001B[1;32m    198\u001B[0m \u001B[43m            \u001B[49m\u001B[43mfirst_word\u001B[49m\u001B[43m \u001B[49m\u001B[38;5;241;43m=\u001B[39;49m\u001B[43m \u001B[49m\u001B[43mtitle\u001B[49m\u001B[38;5;241;43m.\u001B[39;49m\u001B[43msplit\u001B[49m\u001B[43m(\u001B[49m\u001B[38;5;28;43;01mNone\u001B[39;49;00m\u001B[43m,\u001B[49m\u001B[43m \u001B[49m\u001B[38;5;241;43m1\u001B[39;49m\u001B[43m)\u001B[49m\u001B[43m[\u001B[49m\u001B[38;5;241;43m0\u001B[39;49m\u001B[43m]\u001B[49m\n",
      "File \u001B[0;32m~/mamba/envs/diploma/lib/python3.12/site-packages/Bio/SeqIO/FastaIO.py:68\u001B[0m, in \u001B[0;36mSimpleFastaParser\u001B[0;34m(handle)\u001B[0m\n\u001B[1;32m     66\u001B[0m         title \u001B[38;5;241m=\u001B[39m line[\u001B[38;5;241m1\u001B[39m:]\u001B[38;5;241m.\u001B[39mrstrip()\n\u001B[1;32m     67\u001B[0m         \u001B[38;5;28;01mcontinue\u001B[39;00m\n\u001B[0;32m---> 68\u001B[0m     lines\u001B[38;5;241m.\u001B[39mappend(\u001B[43mline\u001B[49m\u001B[38;5;241;43m.\u001B[39;49m\u001B[43mrstrip\u001B[49m\u001B[43m(\u001B[49m\u001B[43m)\u001B[49m)\n\u001B[1;32m     70\u001B[0m \u001B[38;5;28;01myield\u001B[39;00m title, \u001B[38;5;124m\"\u001B[39m\u001B[38;5;124m\"\u001B[39m\u001B[38;5;241m.\u001B[39mjoin(lines)\u001B[38;5;241m.\u001B[39mreplace(\u001B[38;5;124m\"\u001B[39m\u001B[38;5;124m \u001B[39m\u001B[38;5;124m\"\u001B[39m, \u001B[38;5;124m\"\u001B[39m\u001B[38;5;124m\"\u001B[39m)\u001B[38;5;241m.\u001B[39mreplace(\u001B[38;5;124m\"\u001B[39m\u001B[38;5;130;01m\\r\u001B[39;00m\u001B[38;5;124m\"\u001B[39m, \u001B[38;5;124m\"\u001B[39m\u001B[38;5;124m\"\u001B[39m)\n",
      "\u001B[0;31mKeyboardInterrupt\u001B[0m: "
     ]
    }
   ],
   "execution_count": 4
  },
  {
   "metadata": {
    "ExecuteTime": {
     "end_time": "2025-04-11T12:14:12.312582Z",
     "start_time": "2025-04-11T12:14:12.308454Z"
    }
   },
   "cell_type": "code",
   "source": [
    "hydra_vulgaris_cds = read_single_fasta(\"../References/hydra_vulgaris/XM_065811174.1.fasta\")\n",
    "hydra_vulgaris = choose_best_frameshift(hydra_vulgaris_cds, translate=True)"
   ],
   "id": "29bd397607bbbc17",
   "outputs": [
    {
     "name": "stdout",
     "output_type": "stream",
     "text": [
      "Frameshift 0: Start: 48, Stop: 63, Length: 15\n",
      "Frameshift 1: Start: 4, Stop: 49, Length: 45\n",
      "Frameshift 2: Start: 284, Stop: 2225, Length: 1941\n"
     ]
    }
   ],
   "execution_count": 54
  },
  {
   "metadata": {
    "ExecuteTime": {
     "end_time": "2025-04-11T12:10:33.960257Z",
     "start_time": "2025-04-11T12:10:33.955047Z"
    }
   },
   "cell_type": "code",
   "source": [
    "stylophora_pistillata = choose_best_frameshift(cnidaria_seqs[\"stylophora_pistillata\"], translate=True)\n",
    "actinia_tenebrosa = choose_best_frameshift(cnidaria_seqs[\"actinia_tenebrosa\"], translate=True)\n",
    "hydra_vulgaris = choose_best_frameshift(cnidaria_seqs[\"hydra_vulgaris\"], translate=True)\n",
    "nematostella_vectensis = choose_best_frameshift(cnidaria_seqs[\"nematostella_vectensis\"], translate=True)"
   ],
   "id": "2cfde34671e93832",
   "outputs": [
    {
     "name": "stdout",
     "output_type": "stream",
     "text": [
      "Frameshift 0: Start: 0, Stop: 2226, Length: 2226\n",
      "Frameshift 1: Start: 82, Stop: 172, Length: 90\n",
      "Frameshift 2: Start: 788, Stop: 821, Length: 33\n",
      "Frameshift 0: Start: 129, Stop: 147, Length: 18\n",
      "Frameshift 1: Start: 496, Stop: 628, Length: 132\n",
      "Frameshift 2: Start: 98, Stop: 2192, Length: 2094\n",
      "Frameshift 0: Start: 201, Stop: 222, Length: 21\n",
      "Frameshift 1: Start: 130, Stop: 163, Length: 33\n",
      "Frameshift 2: Start: 110, Stop: 131, Length: 21\n",
      "Frameshift 0: Start: 579, Stop: 594, Length: 15\n",
      "Frameshift 1: Start: 127, Stop: 2227, Length: 2100\n",
      "Frameshift 2: Start: 29, Stop: 89, Length: 60\n"
     ]
    }
   ],
   "execution_count": 50
  },
  {
   "metadata": {
    "ExecuteTime": {
     "end_time": "2025-04-11T12:14:28.087372Z",
     "start_time": "2025-04-11T12:14:28.084802Z"
    }
   },
   "cell_type": "code",
   "source": [
    "align_dict = {\n",
    "    \"stylophora_pistillata\": stylophora_pistillata,\n",
    "    \"actinia_tenebrosa\": actinia_tenebrosa,\n",
    "    \"hydra_vulgaris\": hydra_vulgaris,\n",
    "    \"nematostella_vectensis\": nematostella_vectensis,\n",
    "}\n",
    "dict_align_to_fasta(align_dict, \"cnidaria_4_sp\")"
   ],
   "id": "5dc4010826b0d8dc",
   "outputs": [],
   "execution_count": 56
  },
  {
   "metadata": {
    "ExecuteTime": {
     "end_time": "2025-04-11T13:46:58.297280Z",
     "start_time": "2025-04-11T13:46:58.294631Z"
    }
   },
   "cell_type": "code",
   "source": [
    "from Bio import Entrez, SeqIO\n",
    "\n",
    "Entrez.email = \"artemvaskaa@gmail.com\"\n",
    "gene_id = \"111339613\""
   ],
   "id": "eb80187aac1d1214",
   "outputs": [],
   "execution_count": 3
  },
  {
   "metadata": {
    "ExecuteTime": {
     "end_time": "2025-04-11T13:47:00.250548Z",
     "start_time": "2025-04-11T13:46:59.265038Z"
    }
   },
   "cell_type": "code",
   "source": [
    "search_term = f\"{gene_id}[GeneID]\"\n",
    "handle = Entrez.esearch(db=\"nucleotide\", term=f\"{gene_id}[GeneID]\", idtype=\"acc\", retmax=3)\n",
    "search_results = Entrez.read(handle)\n",
    "handle.close()"
   ],
   "id": "eba679c82a15e61c",
   "outputs": [],
   "execution_count": 4
  },
  {
   "metadata": {
    "ExecuteTime": {
     "end_time": "2025-04-11T13:47:08.684954Z",
     "start_time": "2025-04-11T13:47:08.682197Z"
    }
   },
   "cell_type": "code",
   "source": "seq_id = search_results[\"IdList\"][0]",
   "id": "c36268ce097a46aa",
   "outputs": [],
   "execution_count": 6
  },
  {
   "metadata": {
    "ExecuteTime": {
     "end_time": "2025-04-11T13:54:34.776975Z",
     "start_time": "2025-04-11T13:54:33.485561Z"
    }
   },
   "cell_type": "code",
   "source": [
    "fetch_handle = Entrez.efetch(db=\"nucleotide\", id=seq_id, rettype=\"gb\", retmode=\"text\")\n",
    "record = SeqIO.read(fetch_handle, \"genbank\")\n",
    "fetch_handle.close()"
   ],
   "id": "d0d7bb561a3e9a80",
   "outputs": [],
   "execution_count": 17
  },
  {
   "metadata": {},
   "cell_type": "markdown",
   "source": "Может вот так последовательность доставать? Раз я ее сразу закидываю в choose_best_frameshift",
   "id": "3688aeb19550e892"
  },
  {
   "metadata": {
    "ExecuteTime": {
     "end_time": "2025-04-11T13:57:20.591418Z",
     "start_time": "2025-04-11T13:57:20.588994Z"
    }
   },
   "cell_type": "code",
   "source": "print(record.seq)",
   "id": "44c644106992c76b",
   "outputs": [
    {
     "name": "stdout",
     "output_type": "stream",
     "text": [
      "ATGTGGTTCCTACCACCAGTGGTCTGCTTCGATAATAAGCTTCATTCCCAAGAGCCAGTCATCTACAGGGCAAAGCGTATGGATGAAGATGCTGCTCAGATCTTTCAGGTTGAACTGTTCGAAGAGAACATTAAGACGATTCATGAGCAATTCGAATTCACAAAGAAGGTGATCTTCACTCAAGAGGATAGGCAAACTTTCAATGCAAAGATGTCGTTGTCGGCTCTTCCATCGCCAAAGACGAAGACAAAACTTGTATCAGATAATCCAGTCTATTGTGGAATGAGCATCCTCGATATCAACAAGACACTGATGTATGACTTCCTCTATAACTACATCAAAGAGAAGAATGGAGATCGTGCAAAGCTTCTATTTACAGACACTGACAATCTCACGTATGAGATTGAAACTAAAGACTTTTACAAGGATATGGGTGAAGGTGTTGATGACAATAAGGAGACANCAGGCAGAAGCAGGGGTAGAGGAAGGGGGAGAGGAAGAGGGCGTAGCAGTAGCCACCATGGAAGCTATCCTCATCCTAGATCACACTTAGCTGGTGATGATGATGATGATGATGACATAGACATGGATGAAGGAAGCCAAAGATCTCAATCAAGATACAATCCTTACAACAGAAGACCTCCGTCTCGTCGTGGAGACAGAGGAAGTAATAGAGGTGATGTAAGGTCTAGATTAGGGGCAGTCCCTGATAGAGCTGCTGGAACTCAAGGAAATAAGTCGGACTGGCATAAAGTTGTGATACCACAAGGGAAAAAACACGACAAAGAATGGCTTATAAAAAAACTGCAGAATACATGTGAAGAGGCCTTCCAACCAGTTAGTTTCCATCCCTTCAAGGGAGAGTCTTCAGCCTTCTTTGTTGAAGGAAGTAAAGCTGCAGAAGCATTGAAAAGAGTTAGTCACAAAATAACTGTCAAGGATGGATCAAAGCTGATAGTGAGTGTTCGTGCCAGTGCCCCACCCCAAAACCAAACCAATAATTTTCCTGTTCGTGAAGTTCATGATGGCAGTAGTAGAGGTGGTGATTCATTAGATGATGCCACAAAACAAGTATTGAGGGAGTGTCTCAGTAAACGTTATGATAATATGGCAAAAGCACTCGACCTCTCTGATTTGTTTCACGATGAAGTGCTAAATTCAAATAATGTACAAGGAGTACTGTCAAGATATTGGCTGGCATCAGGAATTGTGAAAATTATTGGAGAGAACTGCCCTGAGGTTCAGTCACTTGACTTAAGTAACAATCGCCTAAAGAGCTTGGATGGTTTTAAGGACCTTGCAAAGGAAACATCAAACTTAAAGCATATCAAGATCTCCAATAATCAATTAAGAGCTGTAGAAGAACTGGACAAGATAAAGTCCTTGAGTCAGCTCCAAACCATTGCACTTGATGGCAATCCTCTTTGCGATATATTTCAAGACAAACAAAGTTCGTATACCAGTTTTTTTGGTGATCCTGCAGTTAAGGACCTGGTGCTAAAATTCATTGACCAATATTTTAAGATTTATGACACAGACAACAGACAAGGCCTTCTAGAAGCTTACCATGATCAGGCAATATTTTCCATGTGTGTCAATACAGAAGCATTAGTGAAGGATCGCGGTGGTCAAAGGGCTCCTTCACTTGGTGACTACATGAAGAACAGCCGAAACTTGAAAAGAGTCACAGATCCAGAGCGTCGAAGCAGTTTCTTAAAGCACTCAAGACTCTCTGTTGTTGCATTTTTGAATGAGCTGCCCAGCACCAAGCATGATTTGTCAAGTTTTACTATTGATGTGAGTCTGGCCCTGCCTTCCTGCTTGTCATTTGCAGTCAGAGGATTGTTCTTAGAGAATTCAAAAACATGGAGGTCTTTTACAAGAGTATTTCTCGCTGTTCCTGCTGCCAGCGGAAAGGCGTTGAGTATAATAAATGATGAACTTCACATTAGCCACGCTTCAACATCTCAAGTTCAGGCTGCTGAGAGTGCGATTGCCACAAACAGCACTGCAACGTTACAAGTCAATGCGGCTGTTCCTGGTTTGTCATCAGCAACTCCACAGCAGCAGCAGATGATTCTCCAGTTTGCAGAGCGGTCTACAATGAACTTAGAGTGGTCATACAAGTGCCTGTCTGAATATAATTGGAACTTTGAGAAAGCTGCAATGGCGTTTTCTTCATTAAAGGAGAGTGGGAGGATTCCGCCCGAAGCTTTTGTGAAATGACTCGAATCAGTTATGCAAAATAATGAGCTTTAGAAAATTTATTCAGAGCTGTAGAGTAGATTCACAGTTTTCATTTCAACTAACAATTCCTTTGCCATCGTTCAGGGTATTGGTTACTGCTCTGAACTTTACGCTTTTAAGTCTGTCGCAGTTGTTGATGCAGTTTTTAAGTTGTGAATTCTGGGTCGCTGGATTTTCTACATTGATATCCTTGTACATAATTTCCTCACAAAGTCCGTGTTAGCCCAATAATAGCGTTCAGAACAGCGTATTTTACTTGTTAACATTCGGAAATAGACTTTTTAGAACATTTTACTACATCTACGACTGTTTTTGTTTTTTTTTTTTTTTTCAAGTAATTATTGTTAACCAGAGCCTTAAATGAACCACTCACCGCTATTTAAGATGGCCGCAGTAAACACCTTTTGATGTTATTGTGAAGAATGTCGAAATAATGAAAGAATAAATTGATAACGAAGTGA\n"
     ]
    }
   ],
   "execution_count": 21
  },
  {
   "metadata": {},
   "cell_type": "code",
   "outputs": [],
   "execution_count": null,
   "source": "",
   "id": "175353d1288aa06"
  },
  {
   "metadata": {},
   "cell_type": "code",
   "outputs": [],
   "execution_count": null,
   "source": [
    "# stylophora_pistillata\n",
    "\"datasets download gene gene-id 111339613 --include gene,rna,protein --filename Datasets/stylophora_pistillata.zip\"\n",
    "\"unzip Datasets/stylophora_pistillata.zip -d Datasets/stylophora_pistillata && rm -r Datasets/stylophora_pistillata.zip\""
   ],
   "id": "bab6a802723c5481"
  },
  {
   "metadata": {},
   "cell_type": "code",
   "outputs": [],
   "execution_count": null,
   "source": [
    "# actinia_tenebrosa\n",
    "\"datasets download gene gene-id 116292710 --include gene,rna,protein --filename Datasets/actinia_tenebrosa.zip\"\n",
    "\"unzip Datasets/actinia_tenebrosa.zip -d Datasets/actinia_tenebrosa && rm -r Datasets/actinia_tenebrosa.zip\""
   ],
   "id": "6111a12cbf31ba99"
  },
  {
   "metadata": {},
   "cell_type": "code",
   "outputs": [],
   "execution_count": null,
   "source": [
    "# hydra_vulgaris\n",
    "\"datasets download gene gene-id 100214173 --include gene,rna,protein --filename Datasets/hydra_vulgaris.zip\"\n",
    "\"unzip Datasets/hydra_vulgaris.zip -d Datasets/hydra_vulgaris && rm -r Datasets/hydra_vulgaris.zip\""
   ],
   "id": "98cc94185130c97b"
  },
  {
   "metadata": {},
   "cell_type": "code",
   "outputs": [],
   "execution_count": null,
   "source": [
    "# nematostella_vectensis\n",
    "\"datasets download gene gene-id 5510737 --include gene,rna,protein --filename Datasets/nematostella_vectensis.zip\"\n",
    "\"unzip Datasets/nematostella_vectensis.zip -d Datasets/nematostella_vectensis && rm -r Datasets/nematostella_vectensis.zip\""
   ],
   "id": "e18ca2186eea6f9f"
  },
  {
   "metadata": {},
   "cell_type": "code",
   "outputs": [],
   "execution_count": null,
   "source": "",
   "id": "a5f93d1866857ef1"
  },
  {
   "metadata": {},
   "cell_type": "code",
   "outputs": [],
   "execution_count": null,
   "source": "",
   "id": "d968b88970de24"
  },
  {
   "metadata": {},
   "cell_type": "code",
   "outputs": [],
   "execution_count": null,
   "source": "",
   "id": "dcab931829fd6b8a"
  },
  {
   "metadata": {
    "ExecuteTime": {
     "end_time": "2025-04-12T08:06:33.351321Z",
     "start_time": "2025-04-12T08:06:33.347968Z"
    }
   },
   "cell_type": "code",
   "source": [
    "org_name = \"stylophora_pistillata\"\n",
    "path = f\"../Datasets/{org_name}/ncbi_dataset/data\"\n",
    "\n",
    "gene = read_single_fasta(f\"{path}/gene.fna\")\n",
    "rna = read_single_fasta(f\"{path}/rna.fna\")\n",
    "protein = read_single_fasta(f\"{path}/protein.faa\")"
   ],
   "id": "ef00f743d4aeac8d",
   "outputs": [],
   "execution_count": 17
  },
  {
   "metadata": {
    "ExecuteTime": {
     "end_time": "2025-04-12T08:07:40.506398Z",
     "start_time": "2025-04-12T08:07:40.503973Z"
    }
   },
   "cell_type": "code",
   "source": [
    "dict_align = {\n",
    "    \"stylophora_pistillata_gene\": gene,\n",
    "    \"stylophora_pistillata_rna\": rna,\n",
    "}"
   ],
   "id": "caa3fb430a6c2678",
   "outputs": [],
   "execution_count": 18
  },
  {
   "metadata": {
    "ExecuteTime": {
     "end_time": "2025-04-12T08:15:21.998714Z",
     "start_time": "2025-04-12T08:15:21.995841Z"
    }
   },
   "cell_type": "code",
   "source": [
    "dict_align_to_fasta(dict_align, f\"../Alignment/stylophora_gene_rna.fa\")\n",
    "dict_align_to_fasta(dict_align, f\"../Alignment/stylophora_gene_rna.aln\")"
   ],
   "id": "cbac716a17f6f41e",
   "outputs": [],
   "execution_count": 21
  },
  {
   "metadata": {
    "ExecuteTime": {
     "end_time": "2025-04-12T08:12:16.946868Z",
     "start_time": "2025-04-12T08:12:16.943184Z"
    }
   },
   "cell_type": "code",
   "source": "\"AAGGAAGTAAAGCTGCAGAAGCATTGAAAAGAGTTAGTCACAAAAT\" in gene",
   "id": "47f9e991592ee80a",
   "outputs": [
    {
     "data": {
      "text/plain": [
       "False"
      ]
     },
     "execution_count": 20,
     "metadata": {},
     "output_type": "execute_result"
    }
   ],
   "execution_count": 20
  },
  {
   "metadata": {},
   "cell_type": "code",
   "outputs": [],
   "execution_count": null,
   "source": "",
   "id": "e1966e803aeefbee"
  },
  {
   "metadata": {},
   "cell_type": "code",
   "outputs": [],
   "execution_count": null,
   "source": "",
   "id": "ec849a83ba49992b"
  },
  {
   "metadata": {
    "ExecuteTime": {
     "end_time": "2025-04-12T09:41:11.191299Z",
     "start_time": "2025-04-12T09:41:11.187536Z"
    }
   },
   "cell_type": "code",
   "source": [
    "# ПЕРЕДЕЛАТЬ. Просто создать табличку (индекс[0-ласт экзон], длина, последовательность), название НЕ НУЖНО\n",
    "\n",
    "def find_exons(org_name: str, exons_len: tuple = (110, 37)) -> dict:\n",
    "\n",
    "    print(f\"Selected lengths are {exons_len[0]} and {exons_len[1]}\\n\")\n",
    "    exon_seq = {\n",
    "        exons_len[0]: [],\n",
    "        exons_len[1]: []\n",
    "    }\n",
    "    path = f\"../Datasets/{org_name}/ncbi_dataset/data/\"\n",
    "    exons = read_fasta(f\"{path}/{org_name}_exons.fa\")\n",
    "\n",
    "    lengths = {}\n",
    "    i = 0\n",
    "    for header, seq in exons.items():\n",
    "        lengths[i] = len(seq)\n",
    "        i += 1\n",
    "        if len(seq) == exons_len[0]:\n",
    "            exon_seq[str(exons_len[0])].append(seq)\n",
    "        if len(seq) == exons_len[1]:\n",
    "            exon_seq[str(exons_len[1])].append(seq)\n",
    "\n",
    "    for key, value in lengths.items():\n",
    "        print(f\"{key}: {value}\")\n",
    "\n",
    "    return exon_seq"
   ],
   "id": "2178f9b6541623fb",
   "outputs": [],
   "execution_count": 48
  },
  {
   "metadata": {},
   "cell_type": "markdown",
   "source": [
    "попробовать из выравнивания транскрипта на ген вытащить экзоны! (если нет файла .exons.fa)\n",
    "\n",
    "и потом уже искать сначала 110 37\n",
    "\n",
    "если не находятся, то просматриваем примерно похожие, вытаскиваем пары и выравниваем на ген (т.к. нам нужны интроны и кассетный интрон в частности)"
   ],
   "id": "3105808dea90d817"
  },
  {
   "metadata": {
    "ExecuteTime": {
     "end_time": "2025-04-12T08:50:51.378240Z",
     "start_time": "2025-04-12T08:50:51.375267Z"
    }
   },
   "cell_type": "code",
   "source": "stylophora_pistillata_exons = read_fasta(\"../Datasets/stylophora_pistillata/ncbi_dataset/data/stylophora_pistillata_exons.fa\")",
   "id": "e3ddff0660b128de",
   "outputs": [],
   "execution_count": 26
  },
  {
   "metadata": {},
   "cell_type": "code",
   "outputs": [],
   "execution_count": null,
   "source": "",
   "id": "ff6a3519ad017e6"
  },
  {
   "metadata": {
    "ExecuteTime": {
     "end_time": "2025-04-12T10:35:42.274957Z",
     "start_time": "2025-04-12T10:35:42.272165Z"
    }
   },
   "cell_type": "code",
   "source": [
    "def analyze_exons(org_name: str) -> pd.DataFrame:\n",
    "    path = f\"../Datasets/{org_name}/ncbi_dataset/data\"\n",
    "    exons = read_fasta(f\"{path}/{org_name}_exons.fa\")\n",
    "\n",
    "    lengths = [len(seq) for seq in exons.values()]\n",
    "    seqs = exons.values()\n",
    "\n",
    "    df = pd.DataFrame(\n",
    "        {\n",
    "            \"length\": lengths,\n",
    "            \"sequence\": seqs,\n",
    "        }\n",
    "    )\n",
    "    return df"
   ],
   "id": "1a10f58d95e71594",
   "outputs": [],
   "execution_count": 69
  },
  {
   "metadata": {
    "ExecuteTime": {
     "end_time": "2025-04-12T10:37:56.403515Z",
     "start_time": "2025-04-12T10:37:56.399027Z"
    }
   },
   "cell_type": "code",
   "source": [
    "df_nematostella_vectensis = analyze_exons(\"nematostella_vectensis\")\n",
    "df_stylophora_pistillata = analyze_exons(\"stylophora_pistillata\")\n",
    "df_actinia_tenebrosa = analyze_exons(\"actinia_tenebrosa\")\n",
    "# df_hydra_vulgaris = analyze_exons(\"hydra_vulgaris\")"
   ],
   "id": "296a63aa910df9f7",
   "outputs": [],
   "execution_count": 70
  },
  {
   "metadata": {
    "ExecuteTime": {
     "end_time": "2025-04-12T10:38:03.110253Z",
     "start_time": "2025-04-12T10:38:03.105504Z"
    }
   },
   "cell_type": "code",
   "source": "df_nematostella_vectensis",
   "id": "104dedc32073cc95",
   "outputs": [
    {
     "data": {
      "text/plain": [
       "    length                                           sequence\n",
       "0      218  GTAACCGCGCCTGCCTCTTTAAGGCCAGGATGCCAAGTAAACTTGA...\n",
       "1      250  GTGACGGCATGGAGGATGATAGGCAGAGTAATAGAGGTAGAGGTCG...\n",
       "2      148  CACACCATATGGCGCGCGACCCCCTAGTAGGCGTGGCTATCAGCAT...\n",
       "3       84  GTTAACAGGGCCAAGATCCATGACAAAGAATGGCTCATCAAACGGC...\n",
       "4      105  TTCCATTACATGGGTGAAAGTGCTGTGTTTTTTGTGGAGGGCTCAA...\n",
       "5      111  TTGATAATTACAGTACGGCCAAGCCAGAAACCATTTAAAAGTCACA...\n",
       "6       70  GAATGTCTTAGCAATCGATACAATCCTCAAACAAAAACTATGGATC...\n",
       "7       89  TTCTAAAAGCAAATAATGTTTTTGGAGCTCTGAACAAGTATCCACT...\n",
       "8      108  GTTGAGTCCCTAGATGTCAGCAATAACCGGCTATTCCAGTTGGACC...\n",
       "9      116  TTAAAAAGTATTGATGAACTCGACAAAGTGAAGGGACTCAAGGAGC...\n",
       "10      37              TGCTGTCAGAAGTAGGTTTCCAAAAGTCACAAATCTT\n",
       "11      69  GATGGCAATGAGCTGCCGCCACCAATTGGGTTTGACTTGCAGACCT...\n",
       "12      56  GGAAGCTACATCCCCGACCCCGCTGTCAAAGATTTGGTGCTCAAGT...\n",
       "13      61  GTACTTCAAGATCTATGATTCTGGGGACAGACAGCCTCTACTTGAT...\n",
       "14      56  GCAATATTCTCAATGTGTGTGGACACACAGGCAAACTCCAGCACAA...\n",
       "15      62  AGGACCCTCCTTAGGTCCCTATATGAGGAACAGTCGAAATATGAAG...\n",
       "16     116  ACCATCGTGCAGCATTGATCAAGCATAACCGCCTGTCTGTGGTCGC...\n",
       "17      43        TCGACTATTATATCGTTTTCTGTCAGAGGACTATTTATGGAAG\n",
       "18      64  AAGACAAAACAGCCCGGTCTTTTACGCGAGTCTTCGTCGCCGTCCC...\n",
       "19      58  TTTGAGTATCATCAATGATGAATTGCATATAAGGAATGCTTCTTCC...\n",
       "20     138  AAACTAGCTTCAGCCGCCTCAGCATCCATCATCACGCCTAATGTGG...\n",
       "21      65  CAACAACAACAGATGGTGTTGCAGTTTTCGAATCAATCCCAGATGA...\n",
       "22      61  GTGCCTATCGGAAAATGGGTGGAATTACGAGAAATCAGCCGAAATA...\n",
       "23     426  GCTGCGGGAAGCATTCCACCAGACGCCTTCGTGAAAAAATAATAGT..."
      ],
      "text/html": [
       "<div>\n",
       "<style scoped>\n",
       "    .dataframe tbody tr th:only-of-type {\n",
       "        vertical-align: middle;\n",
       "    }\n",
       "\n",
       "    .dataframe tbody tr th {\n",
       "        vertical-align: top;\n",
       "    }\n",
       "\n",
       "    .dataframe thead th {\n",
       "        text-align: right;\n",
       "    }\n",
       "</style>\n",
       "<table border=\"1\" class=\"dataframe\">\n",
       "  <thead>\n",
       "    <tr style=\"text-align: right;\">\n",
       "      <th></th>\n",
       "      <th>length</th>\n",
       "      <th>sequence</th>\n",
       "    </tr>\n",
       "  </thead>\n",
       "  <tbody>\n",
       "    <tr>\n",
       "      <th>0</th>\n",
       "      <td>218</td>\n",
       "      <td>GTAACCGCGCCTGCCTCTTTAAGGCCAGGATGCCAAGTAAACTTGA...</td>\n",
       "    </tr>\n",
       "    <tr>\n",
       "      <th>1</th>\n",
       "      <td>250</td>\n",
       "      <td>GTGACGGCATGGAGGATGATAGGCAGAGTAATAGAGGTAGAGGTCG...</td>\n",
       "    </tr>\n",
       "    <tr>\n",
       "      <th>2</th>\n",
       "      <td>148</td>\n",
       "      <td>CACACCATATGGCGCGCGACCCCCTAGTAGGCGTGGCTATCAGCAT...</td>\n",
       "    </tr>\n",
       "    <tr>\n",
       "      <th>3</th>\n",
       "      <td>84</td>\n",
       "      <td>GTTAACAGGGCCAAGATCCATGACAAAGAATGGCTCATCAAACGGC...</td>\n",
       "    </tr>\n",
       "    <tr>\n",
       "      <th>4</th>\n",
       "      <td>105</td>\n",
       "      <td>TTCCATTACATGGGTGAAAGTGCTGTGTTTTTTGTGGAGGGCTCAA...</td>\n",
       "    </tr>\n",
       "    <tr>\n",
       "      <th>5</th>\n",
       "      <td>111</td>\n",
       "      <td>TTGATAATTACAGTACGGCCAAGCCAGAAACCATTTAAAAGTCACA...</td>\n",
       "    </tr>\n",
       "    <tr>\n",
       "      <th>6</th>\n",
       "      <td>70</td>\n",
       "      <td>GAATGTCTTAGCAATCGATACAATCCTCAAACAAAAACTATGGATC...</td>\n",
       "    </tr>\n",
       "    <tr>\n",
       "      <th>7</th>\n",
       "      <td>89</td>\n",
       "      <td>TTCTAAAAGCAAATAATGTTTTTGGAGCTCTGAACAAGTATCCACT...</td>\n",
       "    </tr>\n",
       "    <tr>\n",
       "      <th>8</th>\n",
       "      <td>108</td>\n",
       "      <td>GTTGAGTCCCTAGATGTCAGCAATAACCGGCTATTCCAGTTGGACC...</td>\n",
       "    </tr>\n",
       "    <tr>\n",
       "      <th>9</th>\n",
       "      <td>116</td>\n",
       "      <td>TTAAAAAGTATTGATGAACTCGACAAAGTGAAGGGACTCAAGGAGC...</td>\n",
       "    </tr>\n",
       "    <tr>\n",
       "      <th>10</th>\n",
       "      <td>37</td>\n",
       "      <td>TGCTGTCAGAAGTAGGTTTCCAAAAGTCACAAATCTT</td>\n",
       "    </tr>\n",
       "    <tr>\n",
       "      <th>11</th>\n",
       "      <td>69</td>\n",
       "      <td>GATGGCAATGAGCTGCCGCCACCAATTGGGTTTGACTTGCAGACCT...</td>\n",
       "    </tr>\n",
       "    <tr>\n",
       "      <th>12</th>\n",
       "      <td>56</td>\n",
       "      <td>GGAAGCTACATCCCCGACCCCGCTGTCAAAGATTTGGTGCTCAAGT...</td>\n",
       "    </tr>\n",
       "    <tr>\n",
       "      <th>13</th>\n",
       "      <td>61</td>\n",
       "      <td>GTACTTCAAGATCTATGATTCTGGGGACAGACAGCCTCTACTTGAT...</td>\n",
       "    </tr>\n",
       "    <tr>\n",
       "      <th>14</th>\n",
       "      <td>56</td>\n",
       "      <td>GCAATATTCTCAATGTGTGTGGACACACAGGCAAACTCCAGCACAA...</td>\n",
       "    </tr>\n",
       "    <tr>\n",
       "      <th>15</th>\n",
       "      <td>62</td>\n",
       "      <td>AGGACCCTCCTTAGGTCCCTATATGAGGAACAGTCGAAATATGAAG...</td>\n",
       "    </tr>\n",
       "    <tr>\n",
       "      <th>16</th>\n",
       "      <td>116</td>\n",
       "      <td>ACCATCGTGCAGCATTGATCAAGCATAACCGCCTGTCTGTGGTCGC...</td>\n",
       "    </tr>\n",
       "    <tr>\n",
       "      <th>17</th>\n",
       "      <td>43</td>\n",
       "      <td>TCGACTATTATATCGTTTTCTGTCAGAGGACTATTTATGGAAG</td>\n",
       "    </tr>\n",
       "    <tr>\n",
       "      <th>18</th>\n",
       "      <td>64</td>\n",
       "      <td>AAGACAAAACAGCCCGGTCTTTTACGCGAGTCTTCGTCGCCGTCCC...</td>\n",
       "    </tr>\n",
       "    <tr>\n",
       "      <th>19</th>\n",
       "      <td>58</td>\n",
       "      <td>TTTGAGTATCATCAATGATGAATTGCATATAAGGAATGCTTCTTCC...</td>\n",
       "    </tr>\n",
       "    <tr>\n",
       "      <th>20</th>\n",
       "      <td>138</td>\n",
       "      <td>AAACTAGCTTCAGCCGCCTCAGCATCCATCATCACGCCTAATGTGG...</td>\n",
       "    </tr>\n",
       "    <tr>\n",
       "      <th>21</th>\n",
       "      <td>65</td>\n",
       "      <td>CAACAACAACAGATGGTGTTGCAGTTTTCGAATCAATCCCAGATGA...</td>\n",
       "    </tr>\n",
       "    <tr>\n",
       "      <th>22</th>\n",
       "      <td>61</td>\n",
       "      <td>GTGCCTATCGGAAAATGGGTGGAATTACGAGAAATCAGCCGAAATA...</td>\n",
       "    </tr>\n",
       "    <tr>\n",
       "      <th>23</th>\n",
       "      <td>426</td>\n",
       "      <td>GCTGCGGGAAGCATTCCACCAGACGCCTTCGTGAAAAAATAATAGT...</td>\n",
       "    </tr>\n",
       "  </tbody>\n",
       "</table>\n",
       "</div>"
      ]
     },
     "execution_count": 71,
     "metadata": {},
     "output_type": "execute_result"
    }
   ],
   "execution_count": 71
  },
  {
   "metadata": {
    "ExecuteTime": {
     "end_time": "2025-04-12T10:38:20.690821Z",
     "start_time": "2025-04-12T10:38:20.685330Z"
    }
   },
   "cell_type": "code",
   "source": "df_stylophora_pistillata",
   "id": "8aaf07ba18022954",
   "outputs": [
    {
     "data": {
      "text/plain": [
       "    length                                           sequence\n",
       "0      243  ATGTGGTTCCTACCACCAGTGGTCTGCTTCGATAATAAGCTTCATT...\n",
       "1      210  AAGACAAAACTTGTATCAGATAATCCAGTCTATTGTGGAATGAGCA...\n",
       "2      167  AAGGAGACANCAGGCAGAAGCAGGGGTAGAGGAAGGGGGAGAGGAA...\n",
       "3      139  CAATCCTTACAACAGAAGACCTCCGTCTCGTCGTGGAGACAGAGGA...\n",
       "4      104  CCCCACCCCAAAACCAAACCAATAATTTTCCTGTTCGTGAAGTTCA...\n",
       "5       70  GAGTGTCTCAGTAAACGTTATGATAATATGGCAAAAGCACTCGACC...\n",
       "6       89  TGCTAAATTCAAATAATGTACAAGGAGTACTGTCAAGATATTGGCT...\n",
       "7      108  GTTCAGTCACTTGACTTAAGTAACAATCGCCTAAAGAGCTTGGATG...\n",
       "8      116  TTAAGAGCTGTAGAAGAACTGGACAAGATAAAGTCCTTGAGTCAGC...\n",
       "9       51  TTTTTTTGGTGATCCTGCAGTTAAGGACCTGGTGCTAAAATTCATT...\n",
       "10      61  ATATTTTAAGATTTATGACACAGACAACAGACAAGGCCTTCTAGAA...\n",
       "11      59  GCAATATTTTCCATGTGTGTCAATACAGAAGCATTAGTGAAGGATC...\n",
       "12      62  GGCTCCTTCACTTGGTGACTACATGAAGAACAGCCGAAACTTGAAA...\n",
       "13     116  AGCGTCGAAGCAGTTTCTTAAAGCACTCAAGACTCTCTGTTGTTGC...\n",
       "14      43        CCTTCCTGCTTGTCATTTGCAGTCAGAGGATTGTTCTTAGAGA\n",
       "15      64  ATTCAAAAACATGGAGGTCTTTTACAAGAGTATTTCTCGCTGTTCC...\n",
       "16      58  GTTGAGTATAATAAATGATGAACTTCACATTAGCCACGCTTCAACA...\n",
       "17      87  GCTGCTGAGAGTGCGATTGCCACAAACAGCACTGCAACGTTACAAG...\n",
       "18      62  CAGCAGCAGATGATTCTCCAGTTTGCAGAGCGGTCTACAATGAACT...\n",
       "19      61  GTGCCTGTCTGAATATAATTGGAACTTTGAGAAAGCTGCAATGGCG...\n",
       "20     521  GAGAGTGGGAGGATTCCGCCCGAAGCTTTTGTGAAATGACTCGAAT..."
      ],
      "text/html": [
       "<div>\n",
       "<style scoped>\n",
       "    .dataframe tbody tr th:only-of-type {\n",
       "        vertical-align: middle;\n",
       "    }\n",
       "\n",
       "    .dataframe tbody tr th {\n",
       "        vertical-align: top;\n",
       "    }\n",
       "\n",
       "    .dataframe thead th {\n",
       "        text-align: right;\n",
       "    }\n",
       "</style>\n",
       "<table border=\"1\" class=\"dataframe\">\n",
       "  <thead>\n",
       "    <tr style=\"text-align: right;\">\n",
       "      <th></th>\n",
       "      <th>length</th>\n",
       "      <th>sequence</th>\n",
       "    </tr>\n",
       "  </thead>\n",
       "  <tbody>\n",
       "    <tr>\n",
       "      <th>0</th>\n",
       "      <td>243</td>\n",
       "      <td>ATGTGGTTCCTACCACCAGTGGTCTGCTTCGATAATAAGCTTCATT...</td>\n",
       "    </tr>\n",
       "    <tr>\n",
       "      <th>1</th>\n",
       "      <td>210</td>\n",
       "      <td>AAGACAAAACTTGTATCAGATAATCCAGTCTATTGTGGAATGAGCA...</td>\n",
       "    </tr>\n",
       "    <tr>\n",
       "      <th>2</th>\n",
       "      <td>167</td>\n",
       "      <td>AAGGAGACANCAGGCAGAAGCAGGGGTAGAGGAAGGGGGAGAGGAA...</td>\n",
       "    </tr>\n",
       "    <tr>\n",
       "      <th>3</th>\n",
       "      <td>139</td>\n",
       "      <td>CAATCCTTACAACAGAAGACCTCCGTCTCGTCGTGGAGACAGAGGA...</td>\n",
       "    </tr>\n",
       "    <tr>\n",
       "      <th>4</th>\n",
       "      <td>104</td>\n",
       "      <td>CCCCACCCCAAAACCAAACCAATAATTTTCCTGTTCGTGAAGTTCA...</td>\n",
       "    </tr>\n",
       "    <tr>\n",
       "      <th>5</th>\n",
       "      <td>70</td>\n",
       "      <td>GAGTGTCTCAGTAAACGTTATGATAATATGGCAAAAGCACTCGACC...</td>\n",
       "    </tr>\n",
       "    <tr>\n",
       "      <th>6</th>\n",
       "      <td>89</td>\n",
       "      <td>TGCTAAATTCAAATAATGTACAAGGAGTACTGTCAAGATATTGGCT...</td>\n",
       "    </tr>\n",
       "    <tr>\n",
       "      <th>7</th>\n",
       "      <td>108</td>\n",
       "      <td>GTTCAGTCACTTGACTTAAGTAACAATCGCCTAAAGAGCTTGGATG...</td>\n",
       "    </tr>\n",
       "    <tr>\n",
       "      <th>8</th>\n",
       "      <td>116</td>\n",
       "      <td>TTAAGAGCTGTAGAAGAACTGGACAAGATAAAGTCCTTGAGTCAGC...</td>\n",
       "    </tr>\n",
       "    <tr>\n",
       "      <th>9</th>\n",
       "      <td>51</td>\n",
       "      <td>TTTTTTTGGTGATCCTGCAGTTAAGGACCTGGTGCTAAAATTCATT...</td>\n",
       "    </tr>\n",
       "    <tr>\n",
       "      <th>10</th>\n",
       "      <td>61</td>\n",
       "      <td>ATATTTTAAGATTTATGACACAGACAACAGACAAGGCCTTCTAGAA...</td>\n",
       "    </tr>\n",
       "    <tr>\n",
       "      <th>11</th>\n",
       "      <td>59</td>\n",
       "      <td>GCAATATTTTCCATGTGTGTCAATACAGAAGCATTAGTGAAGGATC...</td>\n",
       "    </tr>\n",
       "    <tr>\n",
       "      <th>12</th>\n",
       "      <td>62</td>\n",
       "      <td>GGCTCCTTCACTTGGTGACTACATGAAGAACAGCCGAAACTTGAAA...</td>\n",
       "    </tr>\n",
       "    <tr>\n",
       "      <th>13</th>\n",
       "      <td>116</td>\n",
       "      <td>AGCGTCGAAGCAGTTTCTTAAAGCACTCAAGACTCTCTGTTGTTGC...</td>\n",
       "    </tr>\n",
       "    <tr>\n",
       "      <th>14</th>\n",
       "      <td>43</td>\n",
       "      <td>CCTTCCTGCTTGTCATTTGCAGTCAGAGGATTGTTCTTAGAGA</td>\n",
       "    </tr>\n",
       "    <tr>\n",
       "      <th>15</th>\n",
       "      <td>64</td>\n",
       "      <td>ATTCAAAAACATGGAGGTCTTTTACAAGAGTATTTCTCGCTGTTCC...</td>\n",
       "    </tr>\n",
       "    <tr>\n",
       "      <th>16</th>\n",
       "      <td>58</td>\n",
       "      <td>GTTGAGTATAATAAATGATGAACTTCACATTAGCCACGCTTCAACA...</td>\n",
       "    </tr>\n",
       "    <tr>\n",
       "      <th>17</th>\n",
       "      <td>87</td>\n",
       "      <td>GCTGCTGAGAGTGCGATTGCCACAAACAGCACTGCAACGTTACAAG...</td>\n",
       "    </tr>\n",
       "    <tr>\n",
       "      <th>18</th>\n",
       "      <td>62</td>\n",
       "      <td>CAGCAGCAGATGATTCTCCAGTTTGCAGAGCGGTCTACAATGAACT...</td>\n",
       "    </tr>\n",
       "    <tr>\n",
       "      <th>19</th>\n",
       "      <td>61</td>\n",
       "      <td>GTGCCTGTCTGAATATAATTGGAACTTTGAGAAAGCTGCAATGGCG...</td>\n",
       "    </tr>\n",
       "    <tr>\n",
       "      <th>20</th>\n",
       "      <td>521</td>\n",
       "      <td>GAGAGTGGGAGGATTCCGCCCGAAGCTTTTGTGAAATGACTCGAAT...</td>\n",
       "    </tr>\n",
       "  </tbody>\n",
       "</table>\n",
       "</div>"
      ]
     },
     "execution_count": 72,
     "metadata": {},
     "output_type": "execute_result"
    }
   ],
   "execution_count": 72
  },
  {
   "metadata": {
    "ExecuteTime": {
     "end_time": "2025-04-12T10:38:28.024462Z",
     "start_time": "2025-04-12T10:38:28.017554Z"
    }
   },
   "cell_type": "code",
   "source": "df_actinia_tenebrosa",
   "id": "97c01dd849e7090a",
   "outputs": [
    {
     "data": {
      "text/plain": [
       "    length                                           sequence\n",
       "0      183  TTTTTCTCTAGTGTCGCGAGGATTATTGTATAAATATTGTTCAACA...\n",
       "1      229  ATAACCAAGATTCAAGCTCAAACTCTAATAGAGGAGGATATCGAGG...\n",
       "2      133  TACGCCATATGGAACAAGACCACCTTCAAGGCGTGGTTTTCAAAAT...\n",
       "3       84  ATTGTAAAAGGGAAGCAGCACGACAAAGATTGGTTACTCAGAAAAC...\n",
       "4      105  TTCCATTACAAGGGAGACACTGCTATGTTTTTTGTAGAGGGTAGTA...\n",
       "5      123  TTGACCCTCACTGTTAGACAAAGTGAACGGCCATTTATGACAAATC...\n",
       "6       70  GAATGTTTGAGCAATCGCTACAATATGGAAACAAAGACTATGGATT...\n",
       "7       89  TTTTAAAGGCTAATAATGTTCAAGGAAGTTTATATAGAGCTCCTGT...\n",
       "8      108  ATGCAAGGTTTGGATATGAGTGATAATCGCCTGTACAATCTTGAAG...\n",
       "9      116  ATGAGGAATATTGAAGAACTGGATAAACTCAAAGGACTTACTGGAG...\n",
       "10      37              TGCGGTTAGAAGCAGGTTTCCAAAAGTCTTAAATCTG\n",
       "11      69  GATGGTGTAGAGCATGCTCCTCCCATTGGGTTTGATTTGGCTACCA...\n",
       "12      56  GGGAGTTACCTGGTTGATCCAGAGATCAAGAAACTTCTTCTCAGTT...\n",
       "13      61  ATATTTCAGGATCTATGATTCAAATGACAGACAGCCCCTTCTAGAG...\n",
       "14      56  GCAATTTTTTCCATGAGTGTCAACCCAGGATCATTTAATAGAGAAA...\n",
       "15      62  AGGACCTTCATTGGGGGAGTACATGAAAAGCAGCAGAAATATGATC...\n",
       "16     116  ATGTTAGAGCATCTCTAATTAAACATAATCGTCTATCAGTTGTGGC...\n",
       "17      43        CCAACTTGTCTTCATTTTTCCATTCGTGGATTTTTCATGGAAG\n",
       "18      64  GAAACAAGACAATGAGATCATTCACAAGAGTCTTCGTAGCACTTCC...\n",
       "19      58  GTTGAAAATAGTCAATGATGAATTACATGTAAGAGGCCCCGCGTTA...\n",
       "20     165  GCATTTAAGAAACAGCAAGAATCCATCACAGCAACTTCAACATTAC...\n",
       "21      62  CAACAGCAAATGATATTACAGTTTAGCAGGGAATCAAGAATGAATG...\n",
       "22      61  GTGTCTTGCTGACAATGGTTGGGATTACCAAAAGTCTGCAGAGTGC...\n",
       "23     719  AATCAAGGACTAATTCCTCCTGGTGCTTTTATCAAGACATAGCCTG..."
      ],
      "text/html": [
       "<div>\n",
       "<style scoped>\n",
       "    .dataframe tbody tr th:only-of-type {\n",
       "        vertical-align: middle;\n",
       "    }\n",
       "\n",
       "    .dataframe tbody tr th {\n",
       "        vertical-align: top;\n",
       "    }\n",
       "\n",
       "    .dataframe thead th {\n",
       "        text-align: right;\n",
       "    }\n",
       "</style>\n",
       "<table border=\"1\" class=\"dataframe\">\n",
       "  <thead>\n",
       "    <tr style=\"text-align: right;\">\n",
       "      <th></th>\n",
       "      <th>length</th>\n",
       "      <th>sequence</th>\n",
       "    </tr>\n",
       "  </thead>\n",
       "  <tbody>\n",
       "    <tr>\n",
       "      <th>0</th>\n",
       "      <td>183</td>\n",
       "      <td>TTTTTCTCTAGTGTCGCGAGGATTATTGTATAAATATTGTTCAACA...</td>\n",
       "    </tr>\n",
       "    <tr>\n",
       "      <th>1</th>\n",
       "      <td>229</td>\n",
       "      <td>ATAACCAAGATTCAAGCTCAAACTCTAATAGAGGAGGATATCGAGG...</td>\n",
       "    </tr>\n",
       "    <tr>\n",
       "      <th>2</th>\n",
       "      <td>133</td>\n",
       "      <td>TACGCCATATGGAACAAGACCACCTTCAAGGCGTGGTTTTCAAAAT...</td>\n",
       "    </tr>\n",
       "    <tr>\n",
       "      <th>3</th>\n",
       "      <td>84</td>\n",
       "      <td>ATTGTAAAAGGGAAGCAGCACGACAAAGATTGGTTACTCAGAAAAC...</td>\n",
       "    </tr>\n",
       "    <tr>\n",
       "      <th>4</th>\n",
       "      <td>105</td>\n",
       "      <td>TTCCATTACAAGGGAGACACTGCTATGTTTTTTGTAGAGGGTAGTA...</td>\n",
       "    </tr>\n",
       "    <tr>\n",
       "      <th>5</th>\n",
       "      <td>123</td>\n",
       "      <td>TTGACCCTCACTGTTAGACAAAGTGAACGGCCATTTATGACAAATC...</td>\n",
       "    </tr>\n",
       "    <tr>\n",
       "      <th>6</th>\n",
       "      <td>70</td>\n",
       "      <td>GAATGTTTGAGCAATCGCTACAATATGGAAACAAAGACTATGGATT...</td>\n",
       "    </tr>\n",
       "    <tr>\n",
       "      <th>7</th>\n",
       "      <td>89</td>\n",
       "      <td>TTTTAAAGGCTAATAATGTTCAAGGAAGTTTATATAGAGCTCCTGT...</td>\n",
       "    </tr>\n",
       "    <tr>\n",
       "      <th>8</th>\n",
       "      <td>108</td>\n",
       "      <td>ATGCAAGGTTTGGATATGAGTGATAATCGCCTGTACAATCTTGAAG...</td>\n",
       "    </tr>\n",
       "    <tr>\n",
       "      <th>9</th>\n",
       "      <td>116</td>\n",
       "      <td>ATGAGGAATATTGAAGAACTGGATAAACTCAAAGGACTTACTGGAG...</td>\n",
       "    </tr>\n",
       "    <tr>\n",
       "      <th>10</th>\n",
       "      <td>37</td>\n",
       "      <td>TGCGGTTAGAAGCAGGTTTCCAAAAGTCTTAAATCTG</td>\n",
       "    </tr>\n",
       "    <tr>\n",
       "      <th>11</th>\n",
       "      <td>69</td>\n",
       "      <td>GATGGTGTAGAGCATGCTCCTCCCATTGGGTTTGATTTGGCTACCA...</td>\n",
       "    </tr>\n",
       "    <tr>\n",
       "      <th>12</th>\n",
       "      <td>56</td>\n",
       "      <td>GGGAGTTACCTGGTTGATCCAGAGATCAAGAAACTTCTTCTCAGTT...</td>\n",
       "    </tr>\n",
       "    <tr>\n",
       "      <th>13</th>\n",
       "      <td>61</td>\n",
       "      <td>ATATTTCAGGATCTATGATTCAAATGACAGACAGCCCCTTCTAGAG...</td>\n",
       "    </tr>\n",
       "    <tr>\n",
       "      <th>14</th>\n",
       "      <td>56</td>\n",
       "      <td>GCAATTTTTTCCATGAGTGTCAACCCAGGATCATTTAATAGAGAAA...</td>\n",
       "    </tr>\n",
       "    <tr>\n",
       "      <th>15</th>\n",
       "      <td>62</td>\n",
       "      <td>AGGACCTTCATTGGGGGAGTACATGAAAAGCAGCAGAAATATGATC...</td>\n",
       "    </tr>\n",
       "    <tr>\n",
       "      <th>16</th>\n",
       "      <td>116</td>\n",
       "      <td>ATGTTAGAGCATCTCTAATTAAACATAATCGTCTATCAGTTGTGGC...</td>\n",
       "    </tr>\n",
       "    <tr>\n",
       "      <th>17</th>\n",
       "      <td>43</td>\n",
       "      <td>CCAACTTGTCTTCATTTTTCCATTCGTGGATTTTTCATGGAAG</td>\n",
       "    </tr>\n",
       "    <tr>\n",
       "      <th>18</th>\n",
       "      <td>64</td>\n",
       "      <td>GAAACAAGACAATGAGATCATTCACAAGAGTCTTCGTAGCACTTCC...</td>\n",
       "    </tr>\n",
       "    <tr>\n",
       "      <th>19</th>\n",
       "      <td>58</td>\n",
       "      <td>GTTGAAAATAGTCAATGATGAATTACATGTAAGAGGCCCCGCGTTA...</td>\n",
       "    </tr>\n",
       "    <tr>\n",
       "      <th>20</th>\n",
       "      <td>165</td>\n",
       "      <td>GCATTTAAGAAACAGCAAGAATCCATCACAGCAACTTCAACATTAC...</td>\n",
       "    </tr>\n",
       "    <tr>\n",
       "      <th>21</th>\n",
       "      <td>62</td>\n",
       "      <td>CAACAGCAAATGATATTACAGTTTAGCAGGGAATCAAGAATGAATG...</td>\n",
       "    </tr>\n",
       "    <tr>\n",
       "      <th>22</th>\n",
       "      <td>61</td>\n",
       "      <td>GTGTCTTGCTGACAATGGTTGGGATTACCAAAAGTCTGCAGAGTGC...</td>\n",
       "    </tr>\n",
       "    <tr>\n",
       "      <th>23</th>\n",
       "      <td>719</td>\n",
       "      <td>AATCAAGGACTAATTCCTCCTGGTGCTTTTATCAAGACATAGCCTG...</td>\n",
       "    </tr>\n",
       "  </tbody>\n",
       "</table>\n",
       "</div>"
      ]
     },
     "execution_count": 73,
     "metadata": {},
     "output_type": "execute_result"
    }
   ],
   "execution_count": 73
  },
  {
   "metadata": {
    "ExecuteTime": {
     "end_time": "2025-04-12T09:19:20.932805Z",
     "start_time": "2025-04-12T09:19:20.929491Z"
    }
   },
   "cell_type": "code",
   "source": [
    "def concat_2_exons(df: pd.DataFrame, org_name: str, indices: list):\n",
    "    path = f\"../Datasets/{org_name}/ncbi_dataset/data/\"\n",
    "\n",
    "    seq_0 = df.iloc[indices[0]].sequence\n",
    "    seq_1 = df.iloc[indices[1]].sequence\n",
    "\n",
    "    filename = f\"{org_name}_{indices[0]}-{len(seq_0)}-{indices[1]}_{len(seq_1)}.fa\"\n",
    "\n",
    "    with open(f\"{path}/{filename}\", \"w\") as handle:\n",
    "        handle.write(f\">{org_name}\\n\")\n",
    "        handle.write(f\"{''.join([seq_0, seq_1])}\\n\")"
   ],
   "id": "3303c482860679f7",
   "outputs": [],
   "execution_count": 41
  },
  {
   "metadata": {
    "ExecuteTime": {
     "end_time": "2025-04-12T09:19:22.224964Z",
     "start_time": "2025-04-12T09:19:22.221181Z"
    }
   },
   "cell_type": "code",
   "source": "concat_2_exons(df, \"stylophora_pistillata\", [8, 9])",
   "id": "5f9755f492d22ab8",
   "outputs": [],
   "execution_count": 42
  },
  {
   "metadata": {
    "ExecuteTime": {
     "end_time": "2025-04-12T09:19:50.075465Z",
     "start_time": "2025-04-12T09:19:50.072534Z"
    }
   },
   "cell_type": "code",
   "source": "concat_2_exons(df, \"stylophora_pistillata\", [13, 14])",
   "id": "ef46db899b97f1ce",
   "outputs": [],
   "execution_count": 43
  },
  {
   "metadata": {
    "ExecuteTime": {
     "end_time": "2025-04-12T10:39:46.287921Z",
     "start_time": "2025-04-12T10:39:46.284555Z"
    }
   },
   "cell_type": "code",
   "source": "concat_2_exons(df_nematostella_vectensis, \"nematostella_vectensis\", [9, 10])",
   "id": "b07da489c9f3ecdb",
   "outputs": [],
   "execution_count": 74
  },
  {
   "metadata": {
    "ExecuteTime": {
     "end_time": "2025-04-12T10:39:48.701746Z",
     "start_time": "2025-04-12T10:39:48.697885Z"
    }
   },
   "cell_type": "code",
   "source": "concat_2_exons(df_actinia_tenebrosa, \"actinia_tenebrosa\", [9, 10])",
   "id": "f5a819ccb11693f",
   "outputs": [],
   "execution_count": 75
  },
  {
   "metadata": {
    "ExecuteTime": {
     "end_time": "2025-04-12T09:35:41.486647Z",
     "start_time": "2025-04-12T09:35:41.482709Z"
    }
   },
   "cell_type": "code",
   "source": [
    "org_name_1 = \"nematostella_vectensis\"\n",
    "org_name_2 = \"stylophora_pistillata\"\n",
    "\n",
    "dict_align = {\n",
    "    f\"{org_name_1}_gene\": read_single_fasta(f\"../Datasets/{org_name_1}/ncbi_dataset/data/gene.fna\"),\n",
    "    f\"{org_name_2}_2_exons\": read_single_fasta(f\"../Datasets/{org_name_2}/ncbi_dataset/data/{org_name_2}_8-116-9_51.fa\"),\n",
    "}\n",
    "dict_align_to_fasta(dict_align, f\"../Alignment/nematostella_gene_stylophora_2_exon.fa\")\n",
    "dict_align_to_fasta(dict_align, f\"../Alignment/nematostella_gene_stylophora_2_exon.aln\")"
   ],
   "id": "dc257e5274fe18ef",
   "outputs": [],
   "execution_count": 45
  },
  {
   "metadata": {
    "ExecuteTime": {
     "end_time": "2025-04-12T10:45:06.035017Z",
     "start_time": "2025-04-12T10:45:06.030582Z"
    }
   },
   "cell_type": "code",
   "source": [
    "org_name_1 = \"nematostella_vectensis\"\n",
    "org_name_2 = \"actinia_tenebrosa\"\n",
    "\n",
    "dict_align = {\n",
    "    f\"{org_name_1}_gene\": read_single_fasta(f\"../Datasets/{org_name_1}/ncbi_dataset/data/gene.fna\"),\n",
    "    f\"{org_name_1}_2_exons\": read_single_fasta(f\"../Datasets/{org_name_1}/ncbi_dataset/data/{org_name_1}_9-116-10_37.fa\"),\n",
    "}\n",
    "dict_align_to_fasta(dict_align, f\"../Alignment/nematostella_gene_2_exon.fa\")\n",
    "dict_align_to_fasta(dict_align, f\"../Alignment/nematostella_gene_2_exon.aln\")\n",
    "\n",
    "dict_align = {\n",
    "    f\"{org_name_2}_gene\": read_single_fasta(f\"../Datasets/{org_name_2}/ncbi_dataset/data/gene.fna\"),\n",
    "    f\"{org_name_2}_2_exons\": read_single_fasta(f\"../Datasets/{org_name_2}/ncbi_dataset/data/{org_name_2}_9-116-10_37.fa\"),\n",
    "}\n",
    "dict_align_to_fasta(dict_align, f\"../Alignment/actinia_gene_2_exon.fa\")\n",
    "dict_align_to_fasta(dict_align, f\"../Alignment/actinia_gene_2_exon.aln\")"
   ],
   "id": "947eb503160f17e7",
   "outputs": [],
   "execution_count": 77
  },
  {
   "metadata": {
    "ExecuteTime": {
     "end_time": "2025-04-12T10:49:05.377246Z",
     "start_time": "2025-04-12T10:49:05.373726Z"
    }
   },
   "cell_type": "code",
   "source": [
    "org_name_1 = \"nematostella_vectensis\"\n",
    "org_name_2 = \"actinia_tenebrosa\"\n",
    "\n",
    "dict_align = {\n",
    "    f\"{org_name_1}_2_exons\": read_single_fasta(f\"../Datasets/{org_name_1}/ncbi_dataset/data/{org_name_1}_9-116-10_37.fa\"),\n",
    "    f\"{org_name_2}_2_exons\": read_single_fasta(f\"../Datasets/{org_name_2}/ncbi_dataset/data/{org_name_2}_9-116-10_37.fa\"),\n",
    "}\n",
    "dict_align_to_fasta(dict_align, f\"../Alignment/nematostella_actinia_2_exon.fa\")\n",
    "dict_align_to_fasta(dict_align, f\"../Alignment/nematostella_actinia_2_exon.aln\")"
   ],
   "id": "196d0c2bb60fbf9d",
   "outputs": [],
   "execution_count": 78
  },
  {
   "metadata": {
    "ExecuteTime": {
     "end_time": "2025-04-12T10:22:38.827951Z",
     "start_time": "2025-04-12T10:22:38.824880Z"
    }
   },
   "cell_type": "code",
   "source": [
    "def dict_align_create(org_names: list, align_type: str) -> dict:\n",
    "    align_types = [\"gene\", \"rna\", \"protein\"]\n",
    "    if align_type not in align_types:\n",
    "        raise ValueError(f\"Unknown alignment type: {align_type}\")\n",
    "    else:\n",
    "        match align_type:\n",
    "            case \"gene\":\n",
    "                ext = \"fna\"\n",
    "            case \"rna\":\n",
    "                ext = \"fna\"\n",
    "            case \"protein\":\n",
    "                ext = \"faa\"\n",
    "\n",
    "    filename = f\"{align_type}.{ext}\"\n",
    "    dict_align = {}\n",
    "    for org_name in org_names:\n",
    "        dict_align[f\"{org_name}\"] = read_single_fasta(f\"../Datasets/{org_name}/ncbi_dataset/data/{filename}\")\n",
    "\n",
    "    return dict_align"
   ],
   "id": "8a5328ba696af56e",
   "outputs": [],
   "execution_count": 59
  },
  {
   "metadata": {
    "ExecuteTime": {
     "end_time": "2025-04-12T10:21:55.376245Z",
     "start_time": "2025-04-12T10:21:55.373464Z"
    }
   },
   "cell_type": "code",
   "source": [
    "org_names = [\n",
    "    \"nematostella_vectensis\",\n",
    "    \"stylophora_pistillata\",\n",
    "    \"actinia_tenebrosa\",\n",
    "    \"hydra_vulgaris\",\n",
    "]"
   ],
   "id": "ca6fb78847d48be7",
   "outputs": [],
   "execution_count": 57
  },
  {
   "metadata": {
    "ExecuteTime": {
     "end_time": "2025-04-12T10:28:26.146190Z",
     "start_time": "2025-04-12T10:28:26.142824Z"
    }
   },
   "cell_type": "code",
   "source": "dict_align = dict_align_create(org_names, \"gene\")",
   "id": "7be0c33aa66f38c4",
   "outputs": [],
   "execution_count": 62
  },
  {
   "metadata": {
    "ExecuteTime": {
     "end_time": "2025-04-12T10:28:28.867468Z",
     "start_time": "2025-04-12T10:28:28.864381Z"
    }
   },
   "cell_type": "code",
   "source": [
    "dict_align_to_fasta(dict_align, f\"../Alignment/4_cnidaria_gene.fa\")\n",
    "dict_align_to_fasta(dict_align, f\"../Alignment/4_cnidaria_gene.aln\")"
   ],
   "id": "abdcc83868664d42",
   "outputs": [],
   "execution_count": 63
  },
  {
   "metadata": {},
   "cell_type": "code",
   "outputs": [],
   "execution_count": null,
   "source": "",
   "id": "d50237a397584e9b"
  },
  {
   "metadata": {},
   "cell_type": "code",
   "outputs": [],
   "execution_count": null,
   "source": "",
   "id": "763042c3d435cc8"
  },
  {
   "metadata": {},
   "cell_type": "code",
   "outputs": [],
   "execution_count": null,
   "source": "",
   "id": "36689fa5eee81879"
  },
  {
   "metadata": {},
   "cell_type": "code",
   "outputs": [],
   "execution_count": null,
   "source": [
    ">NW_022259381.1:16092-33206 LOC116292710 [organism=Actinia tenebrosa] [GeneID=116292710] [chromosome=Un]\n",
    ">NC_088975.1:c739315-736736 LOC100214173 [organism=Hydra vulgaris] [GeneID=100214173] [chromosome=12]\n",
    ">NC_064040.1:11955766-11973360 LOC5510737 [organism=Nematostella vectensis] [GeneID=5510737] [chromosome=7]\n",
    ">NW_019218197.1:98177-131366 LOC111339613 [organism=Stylophora pistillata] [GeneID=111339613] [chromosome=Un]"
   ],
   "id": "1e2c16ee2dcd8c11"
  },
  {
   "metadata": {},
   "cell_type": "code",
   "outputs": [],
   "execution_count": null,
   "source": "",
   "id": "302aa1884a6a4397"
  },
  {
   "metadata": {
    "ExecuteTime": {
     "end_time": "2025-04-12T11:02:43.449918Z",
     "start_time": "2025-04-12T11:02:43.447216Z"
    }
   },
   "cell_type": "code",
   "source": "actinia_tenebrosa_cassette = \"ATGAGGAATATTGAAGAACTGGATAAACTCAAAGGACTTACTGGAGTAGTTACCCTTTTTCTGAATGGGAATCCATTCTGTGATAAATTTGAAGGCAAAGAATCAAGCTATATAAGGTTAGTTGAGTGAAATTATTATTCCCTAACAAAATAGATGTTATGATGTCACTTTGAAAACCTAGCATGTAGGTATGATGCTAGATTATATTCTCAGCAGCTTCTTCTAACCAGTAACTACAGTTAGAGAAAAGATAGTAGAATCTAATAAAATAAATGCTTTTACTTTTCAGTGCGGTTAGAAGCAGGTTTCCAAAAGTCTTAAATCTG\"",
   "id": "f54916fa27b91a1e",
   "outputs": [],
   "execution_count": 79
  },
  {
   "metadata": {
    "ExecuteTime": {
     "end_time": "2025-04-12T11:03:32.703865Z",
     "start_time": "2025-04-12T11:03:32.699737Z"
    }
   },
   "cell_type": "code",
   "source": "find_codon(actinia_tenebrosa_cassette, which=\"stop\", frame_shift=0, print_seq=True)",
   "id": "92b54bfcf7600a2e",
   "outputs": [
    {
     "name": "stdout",
     "output_type": "stream",
     "text": [
      "ATG-AGG-AAT-ATT-GAA-GAA-CTG-GAT-AAA-CTC-AAA-GGA-CTT-ACT-GGA-GTA-GTT-ACC-CTT-TTT-CTG-AAT-GGG-AAT-CCA-TTC-TGT-GAT-AAA-TTT-GAA-GGC-AAA-GAA-TCA-AGC-TAT-ATA-AGG-TTA-GTT-GAG-TGA\n"
     ]
    },
    {
     "data": {
      "text/plain": [
       "126"
      ]
     },
     "execution_count": 83,
     "metadata": {},
     "output_type": "execute_result"
    }
   ],
   "execution_count": 83
  },
  {
   "metadata": {
    "ExecuteTime": {
     "end_time": "2025-04-12T11:06:16.621985Z",
     "start_time": "2025-04-12T11:06:16.619772Z"
    }
   },
   "cell_type": "code",
   "source": "actinia_tenebrosa_2_exon = \"ATGAGGAATATTGAAGAACTGGATAAACTCAAAGGACTTACTGGAGTAGTTACCCTTTTTCTGAATGGGAATCCATTCTGTGATAAATTTGAAGGCAAAGAATCAAGCTATATAAGTGCGGTTAGAAGCAGGTTTCCAAAAGTCTTAAATCTG\"",
   "id": "1f8ed1c546033615",
   "outputs": [],
   "execution_count": 84
  },
  {
   "metadata": {
    "ExecuteTime": {
     "end_time": "2025-04-12T11:08:01.148898Z",
     "start_time": "2025-04-12T11:08:01.145764Z"
    }
   },
   "cell_type": "code",
   "source": "actinia_tenebrosa_rna = read_single_fasta(\"../Datasets/actinia_tenebrosa/ncbi_dataset/data/rna.fna\")",
   "id": "13e1d4dd121503e8",
   "outputs": [],
   "execution_count": 90
  },
  {
   "metadata": {
    "ExecuteTime": {
     "end_time": "2025-04-12T11:07:44.633325Z",
     "start_time": "2025-04-12T11:07:44.630595Z"
    }
   },
   "cell_type": "code",
   "source": "actinia_tenebrosa_rna_cassette = actinia_tenebrosa_rna.replace(actinia_tenebrosa_2_exon, actinia_tenebrosa_cassette)",
   "id": "6cb9ebf6ed5ed49",
   "outputs": [],
   "execution_count": 88
  },
  {
   "metadata": {
    "ExecuteTime": {
     "end_time": "2025-04-12T11:08:03.390450Z",
     "start_time": "2025-04-12T11:08:03.386556Z"
    }
   },
   "cell_type": "code",
   "source": "len(actinia_tenebrosa_rna)",
   "id": "1fb17fbdedb8ca55",
   "outputs": [
    {
     "data": {
      "text/plain": [
       "2869"
      ]
     },
     "execution_count": 91,
     "metadata": {},
     "output_type": "execute_result"
    }
   ],
   "execution_count": 91
  },
  {
   "metadata": {
    "ExecuteTime": {
     "end_time": "2025-04-12T11:08:50.122678Z",
     "start_time": "2025-04-12T11:08:50.118898Z"
    }
   },
   "cell_type": "code",
   "source": "len(actinia_tenebrosa_2_exon)",
   "id": "d947f051ac28eb91",
   "outputs": [
    {
     "data": {
      "text/plain": [
       "153"
      ]
     },
     "execution_count": 92,
     "metadata": {},
     "output_type": "execute_result"
    }
   ],
   "execution_count": 92
  },
  {
   "metadata": {
    "ExecuteTime": {
     "end_time": "2025-04-12T11:08:55.612038Z",
     "start_time": "2025-04-12T11:08:55.607713Z"
    }
   },
   "cell_type": "code",
   "source": "len(actinia_tenebrosa_cassette)",
   "id": "a315705973210810",
   "outputs": [
    {
     "data": {
      "text/plain": [
       "326"
      ]
     },
     "execution_count": 93,
     "metadata": {},
     "output_type": "execute_result"
    }
   ],
   "execution_count": 93
  },
  {
   "metadata": {
    "ExecuteTime": {
     "end_time": "2025-04-12T11:09:02.335483Z",
     "start_time": "2025-04-12T11:09:02.332136Z"
    }
   },
   "cell_type": "code",
   "source": "len(actinia_tenebrosa_rna_cassette)",
   "id": "183227a378170b85",
   "outputs": [
    {
     "data": {
      "text/plain": [
       "3042"
      ]
     },
     "execution_count": 94,
     "metadata": {},
     "output_type": "execute_result"
    }
   ],
   "execution_count": 94
  },
  {
   "metadata": {
    "ExecuteTime": {
     "end_time": "2025-04-12T11:09:22.255806Z",
     "start_time": "2025-04-12T11:09:22.252741Z"
    }
   },
   "cell_type": "code",
   "source": "326-153 == 3042-2869",
   "id": "76567bf1a86eafcd",
   "outputs": [
    {
     "data": {
      "text/plain": [
       "True"
      ]
     },
     "execution_count": 95,
     "metadata": {},
     "output_type": "execute_result"
    }
   ],
   "execution_count": 95
  },
  {
   "metadata": {
    "ExecuteTime": {
     "end_time": "2025-04-12T11:13:22.799439Z",
     "start_time": "2025-04-12T11:13:22.795911Z"
    }
   },
   "cell_type": "code",
   "source": "actinia_tenebrosa_rna_cassette[98:1253]",
   "id": "ecf2b15d2d0e90e4",
   "outputs": [
    {
     "data": {
      "text/plain": [
       "'ATGGCAGGTCTGTTTGGGAAGGCAATGAAGGATGCCTCATTATCGGTAACGACCACAAGAGAAGGCTCTCGGACGTTCGATCAAGATAACCAAGATTCAAGCTCAAACTCTAATAGAGGAGGATATCGAGGCAGAAGTCAAGGAAGAGGTCAAAAGAGAGGTCGTGGTAGAGGAAACTACTGGAGGCCTAGGGGKAGAGGTGGTAGAGGAAGAGCCAATCCACAGAATCCCACACCAAGGTCATACCTGATTGATGAAGAAGATGATGAAAGCATGGGCGATGAAGAAGACAATGCCACATCTTTTTCAAGATATACGCCATATGGAACAAGACCACCTTCAAGGCGTGGTTTTCAAAATGACAGAGGGAACAACAGGGGAACTGGTGGTATTAAACGATGGCTTGGAAATCAACCCCAAGGAAAATCAGACTGGTACAAAGTTGCTATTGTAAAAGGGAAGCAGCACGACAAAGATTGGTTACTCAGAAAACTACAAAATGCTTCAGAAGAAGCCTTTCAACCAGTTGAGTTCCATTACAAGGGAGACACTGCTATGTTTTTTGTAGAGGGTAGTAGTGCTGCAGATGCATTAAAAAAAGTCAGTCATCAAATAACTGTCAAAGATGGTTCCAAGTTGACCCTCACTGTTAGACAAAGTGAACGGCCATTTATGACAAATCATAGTGGTAAAGAAGGCAGTGCTTTTAGTGGAACTGATAGCTCACAATGGAATGCAGAAACAGAGCAAGCATTAAAGGAATGTTTGAGCAATCGCTACAATATGGAAACAAAGACTATGGATTTATCTGATCTTTTTCATGATGAAGTTTTAAAGGCTAATAATGTTCAAGGAAGTTTATATAGAGCTCCTGTGGCAAATGCAATCTTGAAACTTATTGGTGAAAATTGTCCTGATATGCAAGGTTTGGATATGAGTGATAATCGCCTGTACAATCTTGAAGCAATGAAAGACTTGCCTACTTATGCACCCAGTATACAACATCTGAAGCTGTCCAACAACCAGATGAGGAATATTGAAGAACTGGATAAACTCAAAGGACTTACTGGAGTAGTTACCCTTTTTCTGAATGGGAATCCATTCTGTGATAAATTTGAAGGCAAAGAATCAAGCTATATAAGGTTAGTTGAGTGA'"
      ]
     },
     "execution_count": 103,
     "metadata": {},
     "output_type": "execute_result"
    }
   ],
   "execution_count": 103
  },
  {
   "metadata": {
    "ExecuteTime": {
     "end_time": "2025-04-12T11:11:59.917966Z",
     "start_time": "2025-04-12T11:11:59.914681Z"
    }
   },
   "cell_type": "code",
   "source": "actinia_tenebrosa_rna_cassette_prot = choose_best_frameshift(actinia_tenebrosa_rna_cassette, translate=True)",
   "id": "418d1bd473b4cd96",
   "outputs": [
    {
     "name": "stdout",
     "output_type": "stream",
     "text": [
      "Frameshift 0: Start: 129, Stop: 147, Length: 18\n",
      "Frameshift 1: Start: 496, Stop: 628, Length: 132\n",
      "Frameshift 2: Start: 98, Stop: 1253, Length: 1155\n"
     ]
    }
   ],
   "execution_count": 99
  },
  {
   "metadata": {
    "ExecuteTime": {
     "end_time": "2025-04-12T11:12:23.386803Z",
     "start_time": "2025-04-12T11:12:23.383898Z"
    }
   },
   "cell_type": "code",
   "source": "actinia_tenebrosa_rna_prot = choose_best_frameshift(actinia_tenebrosa_rna, translate=True)",
   "id": "a16bec205a922e88",
   "outputs": [
    {
     "name": "stdout",
     "output_type": "stream",
     "text": [
      "Frameshift 0: Start: 129, Stop: 147, Length: 18\n",
      "Frameshift 1: Start: 496, Stop: 628, Length: 132\n",
      "Frameshift 2: Start: 98, Stop: 2192, Length: 2094\n"
     ]
    }
   ],
   "execution_count": 100
  },
  {
   "metadata": {
    "ExecuteTime": {
     "end_time": "2025-04-12T11:12:28.674255Z",
     "start_time": "2025-04-12T11:12:28.671433Z"
    }
   },
   "cell_type": "code",
   "source": "actinia_tenebrosa_rna_cassette_prot",
   "id": "bd8bd0a364a9e97f",
   "outputs": [
    {
     "data": {
      "text/plain": [
       "'MAGLFGKAMKDASLSVTTTREGSRTFDQDNQDSSSNSNRGGYRGRSQGRGQKRGRGRGNYWRPRGRGGRGRANPQNPTPRSYLIDEEDDESMGDEEDNATSFSRYTPYGTRPPSRRGFQNDRGNNRGTGGIKRWLGNQPQGKSDWYKVAIVKGKQHDKDWLLRKLQNASEEAFQPVEFHYKGDTAMFFVEGSSAADALKKVSHQITVKDGSKLTLTVRQSERPFMTNHSGKEGSAFSGTDSSQWNAETEQALKECLSNRYNMETKTMDLSDLFHDEVLKANNVQGSLYRAPVANAILKLIGENCPDMQGLDMSDNRLYNLEAMKDLPTYAPSIQHLKLSNNQMRNIEELDKLKGLTGVVTLFLNGNPFCDKFEGKESSYIRLVE*'"
      ]
     },
     "execution_count": 101,
     "metadata": {},
     "output_type": "execute_result"
    }
   ],
   "execution_count": 101
  },
  {
   "metadata": {
    "ExecuteTime": {
     "end_time": "2025-04-12T11:12:32.449299Z",
     "start_time": "2025-04-12T11:12:32.446072Z"
    }
   },
   "cell_type": "code",
   "source": "actinia_tenebrosa_rna_prot",
   "id": "70c510782cba9add",
   "outputs": [
    {
     "data": {
      "text/plain": [
       "'MAGLFGKAMKDASLSVTTTREGSRTFDQDNQDSSSNSNRGGYRGRSQGRGQKRGRGRGNYWRPRGRGGRGRANPQNPTPRSYLIDEEDDESMGDEEDNATSFSRYTPYGTRPPSRRGFQNDRGNNRGTGGIKRWLGNQPQGKSDWYKVAIVKGKQHDKDWLLRKLQNASEEAFQPVEFHYKGDTAMFFVEGSSAADALKKVSHQITVKDGSKLTLTVRQSERPFMTNHSGKEGSAFSGTDSSQWNAETEQALKECLSNRYNMETKTMDLSDLFHDEVLKANNVQGSLYRAPVANAILKLIGENCPDMQGLDMSDNRLYNLEAMKDLPTYAPSIQHLKLSNNQMRNIEELDKLKGLTGVVTLFLNGNPFCDKFEGKESSYISAVRSRFPKVLNLDGVEHAPPIGFDLATTTALPKVQGSYLVDPEIKKLLLSFLEQYFRIYDSNDRQPLLEAYHDQAIFSMSVNPGSFNREKGPRGPSLGEYMKSSRNMIRRKEQDVRASLIKHNRLSVVAMLNELPPTTHELSSFVVDVSLAIPTCLHFSIRGFFMEGNKTMRSFTRVFVALPAAGGKSLKIVNDELHVRGPALPQIQAFKKQQESITATSTLQVPAAVPTIPTTLPTIVTVPTLTPSTSLTTLPIPSGLTPEQQQMILQFSRESRMNAEWSKKCLADNGWDYQKSAECFTSLNNQGLIPPGAFIKT*'"
      ]
     },
     "execution_count": 102,
     "metadata": {},
     "output_type": "execute_result"
    }
   ],
   "execution_count": 102
  },
  {
   "metadata": {},
   "cell_type": "code",
   "outputs": [],
   "execution_count": null,
   "source": "",
   "id": "9e1ff28abe7a0963"
  },
  {
   "metadata": {},
   "cell_type": "markdown",
   "source": [
    "Пайплайн:\n",
    "\n",
    "- прочитать табличку генов nxf\n",
    "- достать из нее все сначала все таксоны (это индекс в табличке), затем по ним сделать сабсет таблицы и достать gene_id\n",
    "- с помощью датасетс по gene_id скачать весь ген, рнк и белок (os.subprocess)\n",
    "- отдельно скачать все экзоны (КАК?)\n",
    "- функция для dict_align...."
   ],
   "id": "f1470d365b3fdb92"
  },
  {
   "metadata": {},
   "cell_type": "code",
   "outputs": [],
   "execution_count": null,
   "source": "",
   "id": "46bdbbdfe5c86c1f"
  }
 ],
 "metadata": {
  "kernelspec": {
   "display_name": "Python 3",
   "language": "python",
   "name": "python3"
  },
  "language_info": {
   "codemirror_mode": {
    "name": "ipython",
    "version": 2
   },
   "file_extension": ".py",
   "mimetype": "text/x-python",
   "name": "python",
   "nbconvert_exporter": "python",
   "pygments_lexer": "ipython2",
   "version": "2.7.6"
  }
 },
 "nbformat": 4,
 "nbformat_minor": 5
}
