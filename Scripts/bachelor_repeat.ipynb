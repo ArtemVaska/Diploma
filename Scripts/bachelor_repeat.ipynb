{
 "cells": [
  {
   "metadata": {},
   "cell_type": "markdown",
   "source": "# TODOs",
   "id": "bea6ec612ff1c1b0"
  },
  {
   "metadata": {},
   "cell_type": "markdown",
   "source": [
    "1. Найти референсные последовательности для sbr - https://www.alliancegenome.org/gene/FB:FBgn0003321 (Sequence Details (Mode: cDNA)):\n",
    "   - найти координаты гены на X хромосоме\n",
    "   - полная последовательность гена\n",
    "   - сплайсированный вариант\n",
    "   - консервативная кассета\n",
    "2. Написать срипт, который:\n",
    "   - ищет ген sbr / nxf1 в базе данных NCBI для семейства Drosophilidae\n",
    "   - выбирает из найденных только адекватные варианты и формирует из них БД для бласта\n",
    "3. Сделать бласт вариантов из 1-го пункта на варианты из второго пункта"
   ],
   "id": "4ff87593e857663"
  },
  {
   "metadata": {},
   "cell_type": "markdown",
   "source": "# Imports",
   "id": "8f035ed9a033250a"
  },
  {
   "metadata": {
    "ExecuteTime": {
     "end_time": "2024-10-20T18:43:06.256642Z",
     "start_time": "2024-10-20T18:43:06.187066Z"
    }
   },
   "cell_type": "code",
   "source": [
    "import Bio.Blast\n",
    "from Bio import Entrez\n",
    "from Bio import Blast\n",
    "\n",
    "from entrez import nucl_search, save_esearch_results\n",
    "from parse_blast_results import extract_target_range, calculate_qc\n",
    "from fasta_processing import plain_to_fasta, read_fasta\n",
    "\n",
    "Entrez.email = \"artemvaskaa@gmail.com\"\n",
    "Blast.email = \"artemvaskaa@gmail.com\""
   ],
   "id": "7e29b05634374eaa",
   "outputs": [],
   "execution_count": 1
  },
  {
   "metadata": {},
   "cell_type": "markdown",
   "source": "# Fasta processing funcs",
   "id": "70ee05c80b2e6708"
  },
  {
   "metadata": {},
   "cell_type": "code",
   "outputs": [],
   "execution_count": 42,
   "source": "path_to_plain_dir = \"/home/artemvaska/Master_degree/Diploma/References/\"",
   "id": "197469dbb9cf8ee4"
  },
  {
   "metadata": {},
   "cell_type": "code",
   "outputs": [],
   "execution_count": null,
   "source": "plain_to_fasta(path_to_plain_dir + \"sbr_RA_gene_plain.fa\", fasta_line_length=80, uppercase=True)",
   "id": "8294a6a5077a4043"
  },
  {
   "metadata": {},
   "cell_type": "code",
   "outputs": [],
   "execution_count": 45,
   "source": "plain_to_fasta(path_to_plain_dir + \"sbr_RA_CDS_plain.fa\", fasta_line_length=80, uppercase=True)",
   "id": "1828b4ac4664a76a"
  },
  {
   "metadata": {},
   "cell_type": "markdown",
   "source": "# Entrez funcs",
   "id": "1b9b2a63016911c2"
  },
  {
   "metadata": {
    "ExecuteTime": {
     "end_time": "2024-10-17T17:52:52.112803Z",
     "start_time": "2024-10-17T17:52:52.111046Z"
    }
   },
   "cell_type": "code",
   "source": "query = \"(Drosophilidae[ORGN] NOT Drosophila melanogaster[ORGN]) AND (chromosome X[WORD] NOT PREDICTED[WORD] NOT gene[WORD]) AND 15000000:75000000[SLEN]\"",
   "id": "78eb5b22cb0070f7",
   "outputs": [],
   "execution_count": 8
  },
  {
   "metadata": {
    "ExecuteTime": {
     "end_time": "2024-10-17T17:52:53.446039Z",
     "start_time": "2024-10-17T17:52:52.658361Z"
    }
   },
   "cell_type": "code",
   "source": "id_list_test = nucl_search(query)",
   "id": "7d9115740e2aab21",
   "outputs": [],
   "execution_count": 9
  },
  {
   "metadata": {
    "ExecuteTime": {
     "end_time": "2024-10-17T15:49:19.349345Z",
     "start_time": "2024-10-17T15:48:54.687784Z"
    }
   },
   "cell_type": "code",
   "source": "save_esearch_results(id_list_test[:3], \"Drosophilidae\")",
   "id": "6ef5cc45df2366a3",
   "outputs": [],
   "execution_count": 63
  },
  {
   "metadata": {
    "ExecuteTime": {
     "end_time": "2024-10-17T17:54:57.474248Z",
     "start_time": "2024-10-17T17:53:34.733050Z"
    }
   },
   "cell_type": "code",
   "source": [
    "# save all seqs in 1 file\n",
    "\n",
    "with open(\"3_species.fa\", \"w\") as ouf:\n",
    "    for rec in id_list_test[:3]:\n",
    "        lne = Entrez.efetch(\n",
    "        db=\"nucleotide\", id=rec, retmode=\"text\", rettype=\"fasta\"\n",
    "        ).read()\n",
    "        ouf.write(lne + \"\\n\")"
   ],
   "id": "e07b81109fbb22a2",
   "outputs": [],
   "execution_count": 13
  },
  {
   "metadata": {},
   "cell_type": "markdown",
   "source": "# Local blast+",
   "id": "557ac3635171952c"
  },
  {
   "metadata": {},
   "cell_type": "markdown",
   "source": [
    "Available DB in NCBI blastn -remote:\n",
    "\n",
    "https://rc.dartmouth.edu/index.php/blast-introduction/blast-databases/"
   ],
   "id": "75138cfcd534738d"
  },
  {
   "metadata": {},
   "cell_type": "markdown",
   "source": [
    "Установка blast+ на linux (https://www.ncbi.nlm.nih.gov/books/NBK52640/):\n",
    "\n",
    "1. https://ftp.ncbi.nlm.nih.gov/blast/executables/LATEST/ (ncbi-blast-2.16.0+-x64-linux.tar.gz)\n",
    "2. `mv ~/Downloads/ncbi-blast-2.16.0+-x64-linux.tar.gz ~`\n",
    "3. `tar zxvpf ncbi-blast-2.16.0+-x64-linux.tar.gz`\n",
    "4. `export PATH=$PATH:$HOME/ncbi-blast-2.16.0+/bin`\n",
    "5. `mkdir $HOME/blastdb`\n",
    "6. `export BLASTDB=$HOME/blastdb`\n",
    "7. export into bash_profile (`nano .bash_profile`)"
   ],
   "id": "961cf322de85c8ae"
  },
  {
   "metadata": {},
   "cell_type": "markdown",
   "source": "## Commands for local db",
   "id": "d989e20e4cc2a41a"
  },
  {
   "metadata": {},
   "cell_type": "markdown",
   "source": "`$ makeblastdb -in Master_degree/Diploma/References/sbr_RA_gene.fa -dbtype nucl -out blastdb/sbr_ra/sbr_ra`",
   "id": "f916c83f1e5fd760"
  },
  {
   "metadata": {},
   "cell_type": "markdown",
   "source": "`$ blastn -db blastdb/sbr_ra -query Master_degree/Diploma/References/Drosophilidae/1797095071.fa`",
   "id": "6fc8d76a3b4540b2"
  },
  {
   "metadata": {},
   "cell_type": "markdown",
   "source": "`$ makeblastdb -in Master_degree/Diploma/References/3_species.fa -dbtype nucl -out blastdb/3_sp/3_sp`",
   "id": "a449655007e0a786"
  },
  {
   "metadata": {},
   "cell_type": "markdown",
   "source": "`$ blastn -db blastdb/3_sp/3_sp -query Master_degree/Diploma/References/sbr_RA_gene.fa`",
   "id": "480f6b95a4a80bad"
  },
  {
   "cell_type": "markdown",
   "id": "2dc37077-8e0d-471f-9752-1c90b5599bdc",
   "metadata": {},
   "source": [
    "AE - NCBI - Genome project\n",
    "\n",
    "AJ - EBI - Direct submissions\n",
    "\n",
    "NM - curated RefSeq"
   ]
  },
  {
   "metadata": {},
   "cell_type": "markdown",
   "source": "# sbr gene",
   "id": "3850847ac5c048dc"
  },
  {
   "cell_type": "markdown",
   "id": "f7f1171d-2672-4d05-b8c9-016a260b2b2e",
   "metadata": {},
   "source": [
    "https://www.alliancegenome.org/gene/FB:FBgn0003321\n",
    "\n",
    "Sequence Details (Mode: cDNA)"
   ]
  },
  {
   "cell_type": "markdown",
   "id": "2cd40f98-ad92-4a4d-8fb7-1c7915b2ae03",
   "metadata": {},
   "source": [
    "---"
   ]
  },
  {
   "metadata": {},
   "cell_type": "markdown",
   "source": "# Parsing BLAST XML2 and calculating QC",
   "id": "8961d200180a993b"
  },
  {
   "metadata": {},
   "cell_type": "markdown",
   "source": [
    "Drosophilidae (taxid:7214)\n",
    "\n",
    "Drosophila melanogaster (taxid:7227)\n",
    "\n",
    "https://biochem.slu.edu/bchm628/handouts/2013/Entrez_boolian_searches.pdf"
   ],
   "id": "c245fbfb00656f6c"
  },
  {
   "metadata": {},
   "cell_type": "markdown",
   "source": "https://biopython.org/docs/dev/Tutorial/chapter_blast.html",
   "id": "42c0ab8e013690"
  },
  {
   "metadata": {},
   "cell_type": "markdown",
   "source": "https://biopython.org/docs/dev/Tutorial/chapter_blast.html#the-blast-records-record-and-hit-classes",
   "id": "8ba489c25706d10"
  },
  {
   "metadata": {
    "ExecuteTime": {
     "end_time": "2024-10-20T18:43:11.921825Z",
     "start_time": "2024-10-20T18:43:11.919959Z"
    }
   },
   "cell_type": "code",
   "source": [
    "name_of_blast_res = \"../Blast_res/full_sbr_RA_wgs_megablast_250_16.xml\" # XML2 !!!\n",
    "result_stream = open(name_of_blast_res, \"rb\")"
   ],
   "id": "b9559e76e1d2af12",
   "outputs": [],
   "execution_count": 2
  },
  {
   "metadata": {
    "ExecuteTime": {
     "end_time": "2024-10-20T18:43:12.741535Z",
     "start_time": "2024-10-20T18:43:12.592501Z"
    }
   },
   "cell_type": "code",
   "source": "blast_record = Blast.read(result_stream)",
   "id": "9e3a050466d8b9c6",
   "outputs": [],
   "execution_count": 3
  },
  {
   "metadata": {
    "ExecuteTime": {
     "end_time": "2024-10-20T18:43:15.916649Z",
     "start_time": "2024-10-20T18:43:15.914872Z"
    }
   },
   "cell_type": "code",
   "source": "original_blast_record = blast_record[:]",
   "id": "fdc4fd3d3b49aa53",
   "outputs": [],
   "execution_count": 6
  },
  {
   "metadata": {
    "ExecuteTime": {
     "end_time": "2024-10-20T18:43:16.549220Z",
     "start_time": "2024-10-20T18:43:16.547757Z"
    }
   },
   "cell_type": "code",
   "source": [
    "hit = blast_record[0]\n",
    "# hsp = hit[0] # HSPs -- “High-scoring Segment Pairs”\n",
    "# hit.target  # hit.targets"
   ],
   "id": "cca767202d507606",
   "outputs": [],
   "execution_count": 7
  },
  {
   "metadata": {
    "ExecuteTime": {
     "end_time": "2024-10-20T18:43:17.169767Z",
     "start_time": "2024-10-20T18:43:17.167844Z"
    }
   },
   "cell_type": "code",
   "source": "print(hit)  # span -- the alignment length including gaps",
   "id": "b839f010ad9763b8",
   "outputs": [
    {
     "name": "stdout",
     "output_type": "stream",
     "text": [
      "Query: Query_719443\n",
      "       sbr-RA-gene\n",
      "  Hit: gi|2735068466|gb|JBBODO010000732.1| (length=1492563)\n",
      "       Drosophila simulans strain SZ45 tig00001109, whole genome shotgun\n",
      "       sequence\n",
      " HSPs: ----  --------  ---------  ------  ---------------  ---------------------\n",
      "          #   E-value  Bit score    Span      Query range              Hit range\n",
      "       ----  --------  ---------  ------  ---------------  ---------------------\n",
      "          0         0    9745.89    8606     [5873:14341]        [165809:174040]\n",
      "          1         0    6167.08    4460      [1113:5494]        [161115:165507]\n",
      "          2         0    1055.56     761       [360:1116]        [160331:161089]\n",
      "          3   7.9e-81     315.05     231      [5500:5728]        [165482:165708]\n",
      "          4     5e-43     189.48     217          [0:217]        [160127:160331]\n"
     ]
    }
   ],
   "execution_count": 8
  },
  {
   "metadata": {
    "ExecuteTime": {
     "end_time": "2024-10-20T18:43:18.549330Z",
     "start_time": "2024-10-20T18:43:18.547607Z"
    }
   },
   "cell_type": "code",
   "source": "hsp = hit[0]",
   "id": "38205e99a719860b",
   "outputs": [],
   "execution_count": 9
  },
  {
   "metadata": {
    "ExecuteTime": {
     "end_time": "2024-10-20T18:43:19.106584Z",
     "start_time": "2024-10-20T18:43:19.103182Z"
    }
   },
   "cell_type": "code",
   "source": "print(hsp)",
   "id": "3a58d49bfeaa4614",
   "outputs": [
    {
     "name": "stdout",
     "output_type": "stream",
     "text": [
      "Query : Query_719443 Length: 14341 Strand: Plus\n",
      "        sbr-RA-gene\n",
      "Target: gi|2735068466|gb|JBBODO010000732.1| Length: 1492563 Strand: Plus\n",
      "        Drosophila simulans strain SZ45 tig00001109, whole genome shotgun\n",
      "        sequence\n",
      "\n",
      "Score:9745 bits(5277), Expect:0,\n",
      "Identities:7582/8606(88%),  Gaps:513.8606(6%)\n",
      "\n",
      "gi|273506    165809 AGTTGAAAAGCAACTA-A-ATACCGCCGTCTAGAGTTCTAAATGCTTAATGGTAATTGGC\n",
      "                  0 ||||||||||||||||-|-|||||-.|||||||||||.|||||.||||..|||||||||.\n",
      "Query_719      5873 AGTTGAAAAGCAACTAGAGATACC-TCGTCTAGAGTTTTAAATTCTTATCGGTAATTGGG\n",
      "\n",
      "gi|273506    165867 TTTACTTAATTACTCACTGCTACAATTACTTTGCCTGCCTTCAGGCGTTGCTAAAAAGC-\n",
      "                 60 .|||.|||||||||||||||||||||||||||||||||||||||||||||||||||-||-\n",
      "Query_719      5932 CTTATTTAATTACTCACTGCTACAATTACTTTGCCTGCCTTCAGGCGTTGCTAAAA-GCt\n",
      "\n",
      "gi|273506    165926 -TTTTTCATAAACAAATTGC-ATAGCATAGTCTAAGTTGTAGTGCGCGACGAATCGGTGT\n",
      "                120 -......|||||||||||||-||||||||||||||.|||||||||..|.|||||..||||\n",
      "Query_719      5991 tttttttATAAACAAATTGCAATAGCATAGTCTAACTTGTAGTGCATGCCGAATTAGTGT\n",
      "\n",
      "gi|273506    165984 CAACAAAGGAATTATTGTTAAATATATTGCGCTATTATGCGTTGAATTATAACAATTTGA\n",
      "                180 ||||||||.||||||||||||||||||||||||||||||.|||||||||||||.||||||\n",
      "Query_719      6051 CAACAAAGAAATTATTGTTAAATATATTGCGCTATTATGTGTTGAATTATAACGATTTGA\n",
      "\n",
      "gi|273506    166044 CAAATACACGTAACGACGTTCTTGAGCGACAATGGAAACTGAAAACAAGTCGAGATTGTC\n",
      "                240 ||||||||||||||||||||||||||.|||||||||||.||.......||||||||||||\n",
      "Query_719      6111 CAAATACACGTAACGACGTTCTTGAGTGACAATGGAAATTGaaaaaaaGTCGAGATTGTC\n",
      "\n",
      "gi|273506    166104 AAGTTGCATGTAACGTGCGACGACGAAGTGTATTGATAAATGTGAATTCTAAATGGAAAA\n",
      "                300 |||||||||||||||||||||||.|.|.-||||||||||||||.||||||||||||||||\n",
      "Query_719      6171 AAGTTGCATGTAACGTGCGACGAAGTAA-GTATTGATAAATGTAAATTCTAAATGGAAAA\n",
      "\n",
      "gi|273506    166164 TGGCAATAGCCAGCCTTATTTGCATTTTCCTAATGGATTCACATCTGGCATGCGAGCAAC\n",
      "                360 |.|||||.|.|||.||||||||||||||||||||||.|||||||||||||||||||||||\n",
      "Query_719      6230 TCGCAATTGTCAGTCTTATTTGCATTTTCCTAATGGTTTCACATCTGGCATGCGAGCAAC\n",
      "\n",
      "gi|273506    166224 C----GAC--A--TA--TGCTATGC--TATAT-C-TACATATG----T--A-CG--TAT-\n",
      "                420 |----...--.--..--........--.....-.-........----.--.-..--...-\n",
      "Query_719      6290 Ctacatacatatgtatgtgctatgctatatatacatacatatgtatataaagtgtttata\n",
      "\n",
      "gi|273506    166260 ATATATATATA--T----ATGGAATGGCCAAAACATTCCACTGACTGATCGTTGTTGGCT\n",
      "                480 ..........|--|----||||||||||||||||||||||||||||||||||||||.|||\n",
      "Query_719      6350 aaataaatgtACGTGCGAATGGAATGGCCAAAACATTCCACTGACTGATCGTTGTTAGCT\n",
      "\n",
      "gi|273506    166314 TTTATTAGACTGCAAACACGTGC-CAACCCCCTTTTGGTTAGTTAGTCATTTTTGGCCGA\n",
      "                540 |||||||||||||||||||||||-|.|.|||..|||||||||||||||||||||||..||\n",
      "Query_719      6410 TTTATTAGACTGCAAACACGTGCGCCAGCCCGCTTTGGTTAGTTAGTCATTTTTGGTTGA\n",
      "\n",
      "gi|273506    166373 GAATGAAAAGAA-AGAAA---------CAGAACTGTGAGCAGCGTTGATAACCGTGTTGT\n",
      "                600 ||||||||||||-.....---------|||||||||.|||||||||||||||||||||||\n",
      "Query_719      6470 GAATGAAAAGAAGaaaaaaaaaaaaCCCAGAACTGTCAGCAGCGTTGATAACCGTGTTGT\n",
      "\n",
      "gi|273506    166423 GGGCCAAAC-CGA---ACTGACTCACTGGCTAGGATAGCTCC---GCCAGCTATGGGGGG\n",
      "                660 |||||||||-|.|---||||||||||||..||||||||||||---||||||||||||.||\n",
      "Query_719      6530 GGGCCAAACACAACTGACTGACTCACTGTATAGGATAGCTCCATAGCCAGCTATGGGAGG\n",
      "\n",
      "gi|273506    166476 CACACTATCGAAAGGCAACCGAAAGCAGCAACCAGTCCACTTGACGCTCTTTTGTGTGCA\n",
      "                720 .||.|||||-||.||||.||.|.|||||||||||.||||||||||.||||||||||||||\n",
      "Query_719      6590 TACCCTATC-AAGGGCACCCAATAGCAGCAACCAATCCACTTGACTCTCTTTTGTGTGCA\n",
      "\n",
      "gi|273506    166536 TCTCCTCCTGATGTCATCGACCAACAATGCGTTGGATCGTTTCCCCTGCTTATCGCTGGC\n",
      "                780 |---||||||||||||||||||||.||||||||||||||||||||.|-|||||||||.||\n",
      "Query_719      6649 T---CTCCTGATGTCATCGACCAATAATGCGTTGGATCGTTTCCCTT-CTTATCGCTAGC\n",
      "\n",
      "gi|273506    166596 CAGTTGAACTGGCATATACCGCCGATTCCAACCTGCGCTCTCCTGCGGCTTCCCACCTTG\n",
      "                840 ||||||||||||||.||.|||||||||||||||||||--|||||||||.|||||||||||\n",
      "Query_719      6705 CAGTTGAACTGGCAGATTCCGCCGATTCCAACCTGCG--CTCCTGCGGATTCCCACCTTG\n",
      "\n",
      "gi|273506    166656 CCAATCACTTATCCCACATTTGTACAGCAGATATCGGATGAGTGGATCTTGTTGAGTGCT\n",
      "                900 ||||||.|.||||||||||||.|||||.||||||.|||||||.|.||||.|||||||---\n",
      "Query_719      6763 CCAATCTCATATCCCACATTTATACAGTAGATATGGGATGAGCGAATCTCGTTGAGT---\n",
      "\n",
      "gi|273506    166716 GCTAAAACAAAAAAATGTGTACCAGTTTCTACTGAGAACTATCACTGATCACAGAAACGT\n",
      "                960 ---|---|-------|-------||||||||||.|||||||||||.||||||||||..||\n",
      "Query_719      6820 ---A---C-------T-------AGTTTCTACTCAGAACTATCACCGATCACAGAACAGT\n",
      "\n",
      "gi|273506    166776 TGAGAACTTCTATTTCTAACTATGATTGCGATTGTCAGTACATATTTTGAAACAAATGCA\n",
      "               1020 |.|||||||||||||||||||||||||.||.||.|||.|||||||||||||||||||.||\n",
      "Query_719      6860 TAAGAACTTCTATTTCTAACTATGATTTCGTTTCTCAATACATATTTTGAAACAAATACA\n",
      "\n",
      "gi|273506    166836 TGTTTGATGCATCAATTGTTGAACATTATTCATAGAAATTGCATTGAACAGCGT-TAATA\n",
      "               1080 .||||||||||.||||||||.|||||||||||||.||||||||||||||||||.-||.||\n",
      "Query_719      6920 AGTTTGATGCAACAATTGTTAAACATTATTCATAAAAATTGCATTGAACAGCGAATATTA\n",
      "\n",
      "gi|273506    166895 TAATCAAAT-CAAAAGCAGCACTTGTTTAATGCTATCTGTAGATAGTTAAA-A---A--G\n",
      "               1140 ||||||||.-||||||||||||||.|||||||.|||.||||||||||||||-|---|--|\n",
      "Query_719      6980 TAATCAAAAGCAAAAGCAGCACTTATTTAATGATATTTGTAGATAGTTAAATAGTTATAG\n",
      "\n",
      "gi|273506    166948 -T---TA--T--A-----GTTCTATATGAAATTATCCCATTGAATGCAAAAAAAAAAAGA\n",
      "               1200 -|---||--|--|-----|||||||||||||||||||||||||||||||||||.----|.\n",
      "Query_719      7040 ATGCATAGCTTTAAGGTTGTTCTATATGAAATTATCCCATTGAATGCAAAAAAT----GC\n",
      "\n",
      "gi|273506    166995 AAAAGTGATTGATGATTTCCTGAATCGAAGCCACTTTATT-GACTGCATTTGATTTGAGT\n",
      "               1260 |||||||||||||||||||||||||||||||||||||||.-|||||.|||||||||||.|\n",
      "Query_719      7096 AAAAGTGATTGATGATTTCCTGAATCGAAGCCACTTTATAAGACTGTATTTGATTTGAAT\n",
      "\n",
      "gi|273506    167054 GAGAACCCAAGTTTGTTTGCCTTTTTATAATTTAAAGCAAAGTGCAATATTTAGCGATTC\n",
      "               1320 ||.|.|||.||||||----|||||---|||||||||||.|||||||||||||||||||||\n",
      "Query_719      7156 GAAAGCCCGAGTTTG----CCTTT---TAATTTAAAGCCAAGTGCAATATTTAGCGATTC\n",
      "\n",
      "gi|273506    167114 AACAATTTATTACGATATTGAAATTCAGGCGCATAACAATTAATAATTACTCGTTAACAG\n",
      "               1380 ||||||||||||||||||||||||||||||||||||||||||||||||||||||||||||\n",
      "Query_719      7209 AACAATTTATTACGATATTGAAATTCAGGCGCATAACAATTAATAATTACTCGTTAACAG\n",
      "\n",
      "gi|273506    167174 CTTAACTTGATTCATATTCATATTCACATTGTTCGTATGTACATTTTTCTTTTTTATTAT\n",
      "               1440 |||||||||||||||||||||||||||||||||||||||||||||.|-||||||-|||||\n",
      "Query_719      7269 CTTAACTTGATTCATATTCATATTCACATTGTTCGTATGTACATTAT-CTTTTT-ATTAT\n",
      "\n",
      "gi|273506    167234 TTATTACTTTGGTAGTATTCACACACTCACAACAGACTCACGCACACACTCACGCACACA\n",
      "               1500 |--------------|||..........................................\n",
      "Query_719      7327 T--------------TATtcacacactcacaacagactcacgcacacactcacgcacaca\n",
      "\n",
      "gi|273506    167294 -----A---AAA-GGTGTTAAAAAAAAAAGGTTTTGGTT--------GT---TT--TC--\n",
      "               1560 -----|---|||-|||-||..........||||||||||--------||---||--||--\n",
      "Query_719      7373 TTGGCATTGAAATGGT-TTCaaaaaaaaaGGTTTTGGTTCTTTTCACGTCAGTTAATCTG\n",
      "\n",
      "gi|273506    167330 ATGGCAGCTAATCCTGCTCCTGCTCCTCGCTGGTGGTGGTCACCGTCTTCTCCTGCCGCG\n",
      "               1620 ||||||||||||||||||||||||||||||||||||||||||||||||||||||||||||\n",
      "Query_719      7432 ATGGCAGCTAATCCTGCTCCTGCTCCTCGCTGGTGGTGGTCACCGTCTTCTCCTGCCGCG\n",
      "\n",
      "gi|273506    167390 TGGTGCTAGTGGTGGTGCGAGTCAATGTGAAGACACCGGTGGAGCCCACCTCATCCAGCG\n",
      "               1680 |||||||||||||||||||.||||||||||||||||||||||.|||||||||||||||||\n",
      "Query_719      7492 TGGTGCTAGTGGTGGTGCGTGTCAATGTGAAGACACCGGTGGTGCCCACCTCATCCAGCG\n",
      "\n",
      "gi|273506    167450 GCTGGGCAATGATGGTCGATGTGGTGCTCTGGAAACGAGTTGTTAGACATTAGATGCTAT\n",
      "               1740 |||||||||||||.||.||||||||||||||||||||||.|||||||||||.|||.|||.\n",
      "Query_719      7552 GCTGGGCAATGATTGTTGATGTGGTGCTCTGGAAACGAGGTGTTAGACATTTGATACTAC\n",
      "\n",
      "gi|273506    167510 ATATATATATTGTTCGGATGTCGTACGCCATTCTTGGTCTCCTCGGGACTCCACGAGCGT\n",
      "               1800 ||||||-|||.....||.||||||||||||||||||||||||||||||||||||||||||\n",
      "Query_719      7612 ATATAT-TATGAGGAGGGTGTCGTACGCCATTCTTGGTCTCCTCGGGACTCCACGAGCGT\n",
      "\n",
      "gi|273506    167570 TTGTCATCCAAATCCTTCGAGCAACAGCCTCCCATTCTTTGGTTAT---C-TATATA---\n",
      "               1860 |||||||||||||||||.||||||||||||||||||||||||||.|---|-||||||---\n",
      "Query_719      7671 TTGTCATCCAAATCCTTTGAGCAACAGCCTCCCATTCTTTGGTTTTGTGCGTATATAGAA\n",
      "\n",
      "gi|273506    167623 -TA--T----G--GTATAATTGGG-T---TGGTTTGG---G-A-TGCCTCTAG----CGG\n",
      "               1920 -||--|----|--|||||..|||.-|---||||||||---|-|-|||||.||.----||.\n",
      "Query_719      7731 ATACGTATTCGTTGTATATATGGTATAAATGGTTTGGTTCGGAATGCCTTTATTTTTCGT\n",
      "\n",
      "gi|273506    167661 TCTATACTGGTGTATATTGGGGGCCAGTAACTTGTTGCTGCTTCATCGGCGCACGTCTGT\n",
      "               1980 ||||||.|..|||||||.||||||||||||||||||||||||||||||||||||||||||\n",
      "Query_719      7791 TCTATATTAATGTATATCGGGGGCCAGTAACTTGTTGCTGCTTCATCGGCGCACGTCTGT\n",
      "\n",
      "gi|273506    167721 CAGCGAATGCCGGTGTTCGATGTGGTGTTCACTTGTTAGCCAAACGAACGAACCGAAAG-\n",
      "               2040 |||||||||||||||||||||||||||||||||||||||||||||||||||||||||||-\n",
      "Query_719      7851 CAGCGAATGCCGGTGTTCGATGTGGTGTTCACTTGTTAGCCAAACGAACGAACCGAAAGC\n",
      "\n",
      "gi|273506    167780 ---------CCCAACCCAACCCAAGCTGCGCCGCCAGCTGTGACTGCGACTGCGACGCCG\n",
      "               2100 ---------|||||||||||||||||||||||||||||||||||||||||||||||||||\n",
      "Query_719      7911 CCAACCCAACCCAACCCAACCCAAGCTGCGCCGCCAGCTGTGACTGCGACTGCGACGCCG\n",
      "\n",
      "gi|273506    167831 GAGTTGGGTTGTCATAGCTATATAGCTCCATATCAATTCTAGAAATATGTCTCAGCCAGC\n",
      "               2160 ||||||||||||||||||||||||||||||||||||||||||||||||||||........\n",
      "Query_719      7971 GAGTTGGGTTGTCATAGCTATATAGCTCCATATCAATTCTAGAAATATGTCTcagccagc\n",
      "\n",
      "gi|273506    167891 ---C-AGT----CAGCCAGTACTCGCATTCGGTGTATATTGTATTGTGTTGAATACAATA\n",
      "               2220 ---.-...----.......|||||||||||||||||||||||||||||||||||||||||\n",
      "Query_719      8031 gagccagccagccagccagTACTCGCATTCGGTGTATATTGTATTGTGTTGAATACAATA\n",
      "\n",
      "gi|273506    167943 AGTATATGTATAGCTCCATGTATGCCTGTGAGCTGTACAAACAAACCATTCACATTCCAA\n",
      "               2280 ||||||||||||||||||||||||||||||||||||||||||||||||||||||||||||\n",
      "Query_719      8091 AGTATATGTATAGCTCCATGTATGCCTGTGAGCTGTACAAACAAACCATTCACATTCCAA\n",
      "\n",
      "gi|273506    168003 ACAAC-----------CCACCCACCTCAGCGCCCTCGGGCGAAACTCTATGTTCCCGAGA\n",
      "               2340 |||||-----------||||||||||||..||||.||..|||||||||||||||||||||\n",
      "Query_719      8151 ACAACCAACCAGCCAGCCACCCACCTCAATGCCCCCGTTCGAAACTCTATGTTCCCGAGA\n",
      "\n",
      "gi|273506    168052 ATGTCAAATCCGATCTGATTCCGTCTTTGAAAG-A--CACAGTCATCATCTTTATTTTCA\n",
      "               2400 ||||||||||||||||||||||..||||||||.-|--|||||||||||||||||||||||\n",
      "Query_719      8211 ATGTCAAATCCGATCTGATTCCCGCTTTGAAAACAGTCACAGTCATCATCTTTATTTTCA\n",
      "\n",
      "gi|273506    168109 AATGGGAACCACTGGCCTTGTCGCCTTAACGGTTCCATTTGCCCATCGAGCAGGTGCAGC\n",
      "               2460 ||||||||||||||||||||||||||||||||||||||||||||||||||||||||||||\n",
      "Query_719      8271 AATGGGAACCACTGGCCTTGTCGCCTTAACGGTTCCATTTGCCCATCGAGCAGGTGCAGC\n",
      "\n",
      "gi|273506    168169 GTGTCAACTCAAGGCTGCCATTGTTGTCTGTGTCCTATTTTGTGGCACTATTCGAAGT--\n",
      "               2520 ||||||||||||||||||||||||||||||||.|||||||.||||||||||||.||||--\n",
      "Query_719      8331 GTGTCAACTCAAGGCTGCCATTGTTGTCTGTGGCCTATTTGGTGGCACTATTCAAAGTTG\n",
      "\n",
      "gi|273506    168227 -AATGTTGA-AG-TCCT-TCCT--TC-TTCCT-GCGGCACAT-TGATAA-ATCAGCGTCA\n",
      "               2580 -||.||-||-|.-|..|-||..--||-||||.-|.||....|-||.||.-|||..|.|..\n",
      "Query_719      8391 CAACGT-GACAACTAATGTCAAAATCCTTCCAAGAGGATTGTGTGCTATGATCTTCCTTT\n",
      "\n",
      "gi|273506    168277 --TAAATAAAAAATAAACCAAATTGGCCATTAACAGATTAAATTGGGC----TT-TC---\n",
      "               2640 --|..||......-...||||||.||||||||||||.|||||||||||----||-|.---\n",
      "Query_719      8450 GGTTCATTTaaaa-aaaCCAAATGGGCCATTAACAGCTTAAATTGGGCACCCTTATATAG\n",
      "\n",
      "gi|273506    168327 -------AACTAATTAGCAGAGTTAGTTCCAAAAAGAATC-AA-TAG----CTTTGTAGT\n",
      "               2700 -------||||||||||||||.|||||.||........|.-||-||.----|||||||||\n",
      "Query_719      8509 AGCTTTTAACTAATTAGCAGAATTAGTCCCaaaaaaaaTATAAATAAATACCTTTGTAGT\n",
      "\n",
      "gi|273506    168374 TAAGACCAAACTATATTTAAAGAACCTATGACACACCAATTTTGCGGGAAAATTCAAAAA\n",
      "               2760 ||.|||||||||.||||||||||.|||||||||||.|||.||||||||.|||||||||.|\n",
      "Query_719      8569 TAGGACCAAACTTTATTTAAAGATCCTATGACACATCAACTTTGCGGGGAAATTCAAATA\n",
      "\n",
      "gi|273506    168434 GACAATGGTTGTAAATTAAT-AAAACACAACAATTTGTCAGTTTTGAATGCGATATCACG\n",
      "               2820 .|||||||||||||||||||-|||||||||||||||||||.|||||||||||||||||||\n",
      "Query_719      8629 CACAATGGTTGTAAATTAATAAAAACACAACAATTTGTCATTTTTGAATGCGATATCACG\n",
      "\n",
      "gi|273506    168493 AGGGGGTTTATGTTGTTCGTTTGCTTTAGTCAATGGAAAGTTAGGGTTAACCATATCGGG\n",
      "               2880 ||||||||||||||||||||.||.||||||||||||||||||||||||||||||||||.|\n",
      "Query_719      8689 AGGGGGTTTATGTTGTTCGTATGTTTTAGTCAATGGAAAGTTAGGGTTAACCATATCGAG\n",
      "\n",
      "gi|273506    168553 GCAACCAATGGACGCCGGAGAGCCAAAATATACATATAATCGTATACAGCTAATGCCCGT\n",
      "               2940 |||||||||.|||||...||||||||||||||||||||||||||||||||||||||||||\n",
      "Query_719      8749 GCAACCAATAGACGCAAAAGAGCCAAAATATACATATAATCGTATACAGCTAATGCCCGT\n",
      "\n",
      "gi|273506    168613 AATAAATAAATTTATCGCATTAATGCGCAATGAATGAGTGGGCTAGA--TGTGCTGTGAC\n",
      "               3000 |||||||||||||||||||||||||||||||||||||||||||||||--|||||||||||\n",
      "Query_719      8809 AATAAATAAATTTATCGCATTAATGCGCAATGAATGAGTGGGCTAGATGTGTGCTGTGAC\n",
      "\n",
      "gi|273506    168671 TGTTCGCGGACTTATCTGCTTGATACTGTTGATATGAATAGGGTCGAGTGGATTGGCTTG\n",
      "               3060 |||||||||||||||||||||||||||||||||||||||||||||||||||||||||.||\n",
      "Query_719      8869 TGTTCGCGGACTTATCTGCTTGATACTGTTGATATGAATAGGGTCGAGTGGATTGGCATG\n",
      "\n",
      "gi|273506    168731 GTTTGGGGGCATCGGGATGGATGGGAGTGGGTGCCGGCAACCATGAGCTGCTAGCTGGTG\n",
      "               3120 |||||.||-||||---||.|--||-|-|||.|------||.--||-|--|-|||..||||\n",
      "Query_719      8929 GTTTGTGG-CATC---ATCG--GG-A-TGGAT------AAG--TG-G--G-TAGTGGGTG\n",
      "\n",
      "gi|273506    168791 GCTGGGAGC-AGGCAGCTGGCAGCTGGTCAGCATGGCGATCATTCACACGATCATTATGC\n",
      "               3180 -||||||.|-|.|-||||||.||||||.||||..|||-|.||||||||||||||||||.|\n",
      "Query_719      8969 -CTGGGAACTATG-AGCTGGTAGCTGGGCAGCTAGGC-AGCATTCACACGATCATTATAC\n",
      "\n",
      "gi|273506    168850 GCATACGACCCCCCCATTGCGGTGCCCGAGTGTAACCGAAGTGATCCTATAAATTGAATT\n",
      "               3240 ||||||||||||||.||..|.|||||||||||||||||||||||||||||||||||||||\n",
      "Query_719      9026 GCATACGACCCCCCTATCACTGTGCCCGAGTGTAACCGAAGTGATCCTATAAATTGAATT\n",
      "\n",
      "gi|273506    168910 ACCTACCACTGATTCCAGTGAATCTCTGAAGCACATAACACCATTGCC--ATATATGGCG\n",
      "               3300 ||||||||||.||||||||||||||||||||||||||.||||||.|.|--||||||||||\n",
      "Query_719      9086 ACCTACCACTTATTCCAGTGAATCTCTGAAGCACATAGCACCATGGTCATATATATGGCG\n",
      "\n",
      "gi|273506    168968 CACATGTGCACGTACA--------TATGTACGTCTGGATGCGATGCAGTCAGTGCGATTA\n",
      "               3360 ||||||||.|||||||--------|||||||||||||||||||||||||||||.||||||\n",
      "Query_719      9146 CACATGTGTACGTACATATATATGTATGTACGTCTGGATGCGATGCAGTCAGTCCGATTA\n",
      "\n",
      "gi|273506    169020 GATAGCCATCGACCAA---TAATAATAATAATAACAA---TAATAGCCAAGTGACCGATA\n",
      "               3420 ||||||||||||||||---..................---||||||||||||||||||||\n",
      "Query_719      9206 GATAGCCATCGACCAATATtaataataataataataaCATTAATAGCCAAGTGACCGATA\n",
      "\n",
      "gi|273506    169074 TTGCGTATCGCTGACCTTCGGTCATCGGTGTCAGAGGAAGTGGTAACTCGGTTCCACTCC\n",
      "               3480 |||||||||||||||||-------||||||||||||||||||||||||||.||||||||.\n",
      "Query_719      9266 TTGCGTATCGCTGACCT-------TCGGTGTCAGAGGAAGTGGTAACTCGTTTCCACTCT\n",
      "\n",
      "gi|273506    169134 CTCTTCGTTTTGCATCCACC------------ACACTCACT-ATATCCGAATATAAGTGC\n",
      "               3540 |||.||||||||||||||||------------|||||||||-|||||||.||||||||||\n",
      "Query_719      9319 CTCCTCGTTTTGCATCCACCTCTGTTTGCCGTACACTCACTCATATCCGGATATAAGTGC\n",
      "\n",
      "gi|273506    169181 ACGTAATTAAATCACTGAAGGCTTTAATGATAAGACTGCTCCGCCCACAAAAAACCAT--\n",
      "               3600 ||||||||||||||||||||||||.|||||||||||||||||||||||..........--\n",
      "Query_719      9379 ACGTAATTAAATCACTGAAGGCTTGAATGATAAGACTGCTCCGCCCACaaaaaaaaaaaa\n",
      "\n",
      "gi|273506    169239 --GT---AATTAGGTGACGAGTTCCACGCATAGCTCTGCTCAATGGTAATG--AATG-GC\n",
      "               3660 --||---||||||||||.||||||||||||||||||||||||||||.|-||--|||.-|.\n",
      "Query_719      9439 aCGTTGCAATTAGGTGATGAGTTCCACGCATAGCTCTGCTCAATGGCA-TGCCAATCAGT\n",
      "\n",
      "gi|273506    169291 ATGCCAATCAGTGTACACATAGGTAGAATAACAATATTATACATATTATATAA--TATAT\n",
      "               3720 |.|...||..||||||||||.|.|||||.||||||||||||||||||||||||--|||||\n",
      "Query_719      9498 AAGGTCATATGTGTACACATTGATAGAACAACAATATTATACATATTATATAATGTATAT\n",
      "\n",
      "gi|273506    169349 AGTAGAAAGT--T---------GAGAAGATCCCAGTAAGCCAACTGAATAATGTCAAATA\n",
      "               3780 ||||||||||--|---------||||||||..||||||||.||||||||||.||||||||\n",
      "Query_719      9558 AGTAGAAAGTGATTTAAGTTCAGAGAAGATTTCAGTAAGCTAACTGAATAAAGTCAAATA\n",
      "\n",
      "gi|273506    169398 TTACGGCTTGCTTTCACAGACGTGTACGTGATT-TTGAGACTTTT-GA-------AGCTA\n",
      "               3840 |||..||||.|.|..||||||||||||||||||-||...|.||||-||-------|||||\n",
      "Query_719      9618 TTATTGCTTACATCTACAGACGTGTACGTGATTCTTCCTATTTTTAGACATTTAGAGCTA\n",
      "\n",
      "gi|273506    169449 TCTCTCCGTTTTG-----------GG-TGATCTATCGCAGAACCAACACGAAATATGGAG\n",
      "               3900 ||||||||||||.-----------||-|||||||||||||||||||||||||||||||||\n",
      "Query_719      9678 TCTCTCCGTTTTACACACTCCATTGGATGATCTATCGCAGAACCAACACGAAATATGGAG\n",
      "\n",
      "gi|273506    169497 CACTGCTGG-------------CATGAGTTGGCCGATGAGATAATTCCGGTCGCTGCTAT\n",
      "               3960 |||||||||-------------||||||||||||||||||||||||.|||||||||||||\n",
      "Query_719      9738 CACTGCTGGCAAAACATGAGTTCATGAGTTGGCCGATGAGATAATTTCGGTCGCTGCTAT\n",
      "\n",
      "gi|273506    169544 CTGTGCACCATATGAGTTTATATAATAATCAACAGACGACGTCTAATGGTTTCCCTATTT\n",
      "               4020 |||||||||||||.||||||||||||||||.||||||||||||||||||...........\n",
      "Query_719      9798 CTGTGCACCATATAAGTTTATATAATAATCGACAGACGACGTCTAATGGtttcccttttt\n",
      "\n",
      "gi|273506    169604 CCGCATATTTGTTTTTGCAGCTACAAAACGCCCAGATATACGAGAAGGAAACACTCTTGC\n",
      "               4080 ................||||.||||||||||||||||||||||.|||||||||||||||.\n",
      "Query_719      9858 ccgcatttttctttttGCAGTTACAAAACGCCCAGATATACGAAAAGGAAACACTCTTGA\n",
      "\n",
      "gi|273506    169664 GTGCACTCTTGGCAGCGATGTCGCCACATGTCTTTATTCCTCAATATTGGCGGGTAGAGC\n",
      "               4140 ||||.||.||||||||||||||||||||||||||||||||||||||||||||.||.||||\n",
      "Query_719      9918 GTGCTCTATTGGCAGCGATGTCGCCACATGTCTTTATTCCTCAATATTGGCGAGTGGAGC\n",
      "\n",
      "gi|273506    169724 GAAACTGCGTGGTCTTCTTTACGGACGACTATGAGGCGGCCGAACGCATTCAACATCTGG\n",
      "               4200 ||||||||||..|||||||||||||||||||.|||||.||||||||||||||||||||||\n",
      "Query_719      9978 GAAACTGCGTAATCTTCTTTACGGACGACTACGAGGCAGCCGAACGCATTCAACATCTGG\n",
      "\n",
      "gi|273506    169784 GCAGGCATGGCCATCTTCCAGATGGCTATCGTCTAATGCCACGCGTGCGAAGCGGTATAC\n",
      "               4260 |||.|.||||||||||||||||||||||||||||.||||||||.||.||.||||||||||\n",
      "Query_719     10038 GCAAGAATGGCCATCTTCCAGATGGCTATCGTCTGATGCCACGAGTACGCAGCGGTATAC\n",
      "\n",
      "gi|273506    169844 CACTGGTGGCCATCGACGATGCCTTCAAGGAGAAGATGAAGGTCACAATGGCAAAGCGTT\n",
      "               4320 ||||.|||||||||||||||||||||||||||||||||||||||||||||||.|||||||\n",
      "Query_719     10098 CACTAGTGGCCATCGACGATGCCTTCAAGGAGAAGATGAAGGTCACAATGGCCAAGCGTT\n",
      "\n",
      "gi|273506    169904 ACAATATACAAACCAAGGCGCTGGATCTTTCCCGGTTCCATGCCGATCCGGATCTCAAGC\n",
      "               4380 |||||||.||||||||||||||||||||||||||.||.|||||.|||||||||||.||||\n",
      "Query_719     10158 ACAATATTCAAACCAAGGCGCTGGATCTTTCCCGTTTTCATGCAGATCCGGATCTTAAGC\n",
      "\n",
      "gi|273506    169964 ATATTTTCTGCCCACTTTTCCGTCAGAATGTGATGGGCGCTGCCCTTGACATTATCTGCG\n",
      "               4440 |..|||||||||||||.||.||||||||||||||||||||||||.||||||||||.||||\n",
      "Query_719     10218 AAGTTTTCTGCCCACTCTTTCGTCAGAATGTGATGGGCGCTGCCATTGACATTATGTGCG\n",
      "\n",
      "gi|273506    170024 ACAATATACCCGACTTGGAGGCCCTTAATCTGAATGACAACTCCATTACCAGCATGGAGG\n",
      "               4500 |||||||||||||.||||||||.|||||.|||||||||||||||||||.|||||||||||\n",
      "Query_719     10278 ACAATATACCCGATTTGGAGGCACTTAACCTGAATGACAACTCCATTAGCAGCATGGAGG\n",
      "\n",
      "gi|273506    170084 CGTTCAAGGGTGTGGAGAAACGCATACCGAACCTCAAGATTCTCTATTTGGGGGATAACA\n",
      "               4560 ||||.||||||||||||||||||.||||||||||||||||||||||||||||||||||||\n",
      "Query_719     10338 CGTTTAAGGGTGTGGAGAAACGCTTACCGAACCTCAAGATTCTCTATTTGGGGGATAACA\n",
      "\n",
      "gi|273506    170144 AGGTTAGTGTTGATTATAGATAGTCACTTTTTCAATAACTGAC---CGACCATTGCCTCT\n",
      "               4620 |||||||||||||||..|||||||||||||.|||||||||.||---||||||||.|||.|\n",
      "Query_719     10398 AGGTTAGTGTTGATTGAAGATAGTCACTTTATCAATAACTAACTGACGACCATTACCTTT\n",
      "\n",
      "gi|273506    170201 TCCAGATACCATCTTTGGCCCACCTTGTCGTGCTTCGCAATCTGGCCATCGTGGAACTCG\n",
      "               4680 ||||||||||||||||||||||||||||.|||||||||||||||.|||||.|||||||||\n",
      "Query_719     10458 TCCAGATACCATCTTTGGCCCACCTTGTAGTGCTTCGCAATCTGTCCATCTTGGAACTCG\n",
      "\n",
      "gi|273506    170261 TTTTAAAGAACAATCCCTGCCGTTCCCGCTACAAGGATTCCCAGCAGTTTATCAGGTATA\n",
      "               4740 ||||||||||||||||||||||||||||||||||||||||||||||||||||||||||||\n",
      "Query_719     10518 TTTTAAAGAACAATCCCTGCCGTTCCCGCTACAAGGATTCCCAGCAGTTTATCAGGTATA\n",
      "\n",
      "gi|273506    170321 CTATGGTGTGATTCGTTGATCTTCTAACTTTTCTAGTGGATGCTGCCGCATATTCGACGT\n",
      "               4800 ||||||||||||||||||||||||||||||||||||||||||||||||||||||||||||\n",
      "Query_719     10578 CTATGGTGTGATTCGTTGATCTTCTAACTTTTCTAGTGGATGCTGCCGCATATTCGACGT\n",
      "\n",
      "gi|273506    170381 GGGATCTGTCGCGTCAGGAGTTACAGAGGAATTAGGATTACCACATTTCCATTGTTCTGT\n",
      "               4860 |||||.|||||||||.||||||||||||||||||||||||||||||||||||||||||||\n",
      "Query_719     10638 GGGATTTGTCGCGTCTGGAGTTACAGAGGAATTAGGATTACCACATTTCCATTGTTCTGT\n",
      "\n",
      "gi|273506    170441 TGTCTCCATTCCGTTTCTTTGATGCAAATGCGCTGCAGAATTGGGGACCAATGTCAGGTG\n",
      "               4920 ||||||||||||.|||||||||.||||||||||||||||||||||||||||.||||||||\n",
      "Query_719     10698 TGTCTCCATTCCTTTTCTTTGAAGCAAATGCGCTGCAGAATTGGGGACCAAGGTCAGGTG\n",
      "\n",
      "gi|273506    170501 TTGCCTGCGTCCAAAGTTTAAAGCAGCTGAGAAGGCAAGGGCATTTTGGAAATATTTTCC\n",
      "               4980 ||||||.||||||||||||||||||||||||.||||||.|||||||.|||||||||||||\n",
      "Query_719     10758 TTGCCTTCGTCCAAAGTTTAAAGCAGCTGAGCAGGCAAAGGCATTTGGGAAATATTTTCC\n",
      "\n",
      "gi|273506    170561 GTATCAGCTGTCTTAAAGCCAGGACAGATCGTGTGCAGCGGAATGGATTTTGGGCAGAGC\n",
      "               5040 .|||||||||||||||||||||||||||||||.|||||||||||||||||||||||||||\n",
      "Query_719     10818 TTATCAGCTGTCTTAAAGCCAGGACAGATCGTATGCAGCGGAATGGATTTTGGGCAGAGC\n",
      "\n",
      "gi|273506    170621 AAAAAAAAAAAA--G--GAAAGAT-AAAAAAGATTTCAAGTTAACAAAAAAAAAAAAAAA\n",
      "               5100 ............--.--.......-...................-...............\n",
      "Query_719     10878 aaaaaaaaaaaaaagaagaaagaaaaaaaaagatttgaagttaa-aaaaaaaaaagaaaa\n",
      "\n",
      "gi|273506    170676 AAAAAAAAAACAAGAAAAATAAGATGAAAAAAATGTACA-GTGAA----GCCCAAGCCAA\n",
      "               5160 ..........-..-.....-.-..--.......-.....-.....----|||||||||||\n",
      "Query_719     10937 aaaaagaaga-aa-aaaaa-a-ga--aaaaaaa-gtacaagcaaaaaaGGCCCAAGCCAA\n",
      "\n",
      "gi|273506    170731 TTGCACTAAGCTTTCGACGATATGGCAACGCTGAACTAAGGACGCAACTGTACTTTTGAC\n",
      "               5220 |||||.|||.|||||||||||.||||||||||.|||||||.|||||||||||||||||..\n",
      "Query_719     10990 TTGCAGTAAACTTTCGACGATGTGGCAACGCTAAACTAAGAACGCAACTGTACTTTTGac\n",
      "\n",
      "gi|273506    170791 AT----ACACCGGCACCGTTCGTACTTCCACTTGAGCAGGCGGACGTGCAGCAGTCCCAA\n",
      "               5280 ..----....||||||||||||||||||||.|||||||||||||||||||||||||||||\n",
      "Query_719     11050 acacacacacCGGCACCGTTCGTACTTCCAATTGAGCAGGCGGACGTGCAGCAGTCCCAA\n",
      "\n",
      "gi|273506    170847 AGCGAATCACATTAACGCATTAACATCGACAAAGATCAATTATTTTACGAATAACAAGTA\n",
      "               5340 |||||||||||||||||||||||||||||||||.||.||||||||||||||||||||.||\n",
      "Query_719     11110 AGCGAATCACATTAACGCATTAACATCGACAAATATAAATTATTTTACGAATAACAAATA\n",
      "\n",
      "gi|273506    170907 ATCCACCGAACCCACCCACCGCGCACCCCGCTACA--ACACACACGGGCGCACGCATGTA\n",
      "               5400 |||||||||||||||||||||||||||||||||||--|||||||||||||||||||||||\n",
      "Query_719     11170 ATCCACCGAACCCACCCACCGCGCACCCCGCTACAACACACACACGGGCGCACGCATGTA\n",
      "\n",
      "gi|273506    170965 GCCACTCCACGCCAGCGCACGCACGCATGCGCATGCGCATATGCAGTTGTGTTCGTGCCA\n",
      "               5460 ||||||||||||||||||||||||||||||||||||||||||||||||||||.|||||||\n",
      "Query_719     11230 GCCACTCCACGCCAGCGCACGCACGCATGCGCATGCGCATATGCAGTTGTGTACGTGCCA\n",
      "\n",
      "gi|273506    171025 CATCGAAAGCTGCGTGCTCTGTGCGCGCCGTTGCGCCTTGCATTGTCGTGTCGCCGCTTG\n",
      "               5520 ||||.||.|||||||||.||||||||||||||||||||||||||||||||||||||||||\n",
      "Query_719     11290 CATCTAATGCTGCGTGCCCTGTGCGCGCCGTTGCGCCTTGCATTGTCGTGTCGCCGCTTG\n",
      "\n",
      "gi|273506    171085 TTGATTTTGCGGTGGTTGCCAAGAAGTGGAGGCAGAGTGG--TGC---G-C--A------\n",
      "               5580 |||||||||||||||||||||||.||||||||||||||||--|||---|-|--|------\n",
      "Query_719     11350 TTGATTTTGCGGTGGTTGCCAAGTAGTGGAGGCAGAGTGGAGTGCATAGGCTCACCATTC\n",
      "\n",
      "gi|273506    171131 G----CG-----TCCAGCAGG-AGCAAAAACGACTACCAAGACGGAGGACACAACACTGA\n",
      "               5640 |----||-----|||||||||-||||.|||||||||||||||||.||||||||.||||||\n",
      "Query_719     11410 GGGTGCGCAGCGTCCAGCAGGAAGCAGAAACGACTACCAAGACGAAGGACACACCACTGA\n",
      "\n",
      "gi|273506    171181 CTGACTCACGTGACTCACGGACATTCTGCTGGCGCCAGCGGCCGCCGCGTTCTTTTGCCA\n",
      "               5700 ||||||||||||-||.||||||||||||||||||||||||||||.||||||.||||||||\n",
      "Query_719     11470 CTGACTCACGTG-CTAACGGACATTCTGCTGGCGCCAGCGGCCGGCGCGTTGTTTTGCCA\n",
      "\n",
      "gi|273506    171241 GTCGATTACAATTTACAATTAGTTTTTTCGGCTTTGTTGGGCGCACGAGCCGCCTGCGGA\n",
      "               5760 |||||||||||||||||||||||.|||||||||||||||||||||.||||||||||||||\n",
      "Query_719     11529 GTCGATTACAATTTACAATTAGTATTTTCGGCTTTGTTGGGCGCATGAGCCGCCTGCGGA\n",
      "\n",
      "gi|273506    171301 TGCGACGTGCTTGAACATGACGCGACGAACAGAAGTTACACAGCAGTCAGCTTTGAAAGC\n",
      "               5820 ||||||||||||||||||||||.|||||||||||||||||||||||||||||||||||||\n",
      "Query_719     11589 TGCGACGTGCTTGAACATGACGAGACGAACAGAAGTTACACAGCAGTCAGCTTTGAAAGC\n",
      "\n",
      "gi|273506    171361 CACTTTTTGCTTGTGGCCACTGAAAAAATAGAAATGTAAAAAAAAAAAAAACGAAAAAAA\n",
      "               5880 ||||||||||||||||||||||......-.-....--..............-........\n",
      "Query_719     11649 CACTTTTTGCTTGTGGCCACTGaaagaa-a-aaac--aaaaaaaaaaaaat-gaaaaaaa\n",
      "\n",
      "gi|273506    171421 GGAAAAGAAAAAAAGG-TGTTAAAAAGAAAAAAACTAAAAATACAAAAGAGAAAACACCA\n",
      "               5940 ................-...........................................\n",
      "Query_719     11704 ggaaaagaaaaaagtgttgataaaaaaaaaaaaacaaaaaatacaaaagagaaaatacca\n",
      "\n",
      "gi|273506    171480 CAAAAAAGATGCCCCGGCACAATGCACTGCTCAATTGTACTTTTCCGCTGTACTTTTCAC\n",
      "               6000 .......|||||||||||||||||||||||||||||||||||||||||||||||||||||\n",
      "Query_719     11764 caaaaaaGATGCCCCGGCACAATGCACTGCTCAATTGTACTTTTCCGCTGTACTTTTCAC\n",
      "\n",
      "gi|273506    171540 ATCAAACCATTGAAGGCACAACAATGGCCAAGCTCCTAGTGCCTCTGCCTCTTCAGCTGA\n",
      "               6060 |||.|||.|||||||||||||||||||||||||.||||||||||||||||||||||||||\n",
      "Query_719     11824 ATCGAACTATTGAAGGCACAACAATGGCCAAGCACCTAGTGCCTCTGCCTCTTCAGCTGA\n",
      "\n",
      "gi|273506    171600 TCAAAGCTCCGCCAATTTGTGTGTGAGTCGGTCGAGTAACGGTGAAGCTATATCAAAG--\n",
      "               6120 |||||||||||||||||||||||||||.||||||||||||||||||||||||||||||--\n",
      "Query_719     11884 TCAAAGCTCCGCCAATTTGTGTGTGAGCCGGTCGAGTAACGGTGAAGCTATATCAAAGAT\n",
      "\n",
      "gi|273506    171658 ------ATATATACTCCGCTTGAGGAGGAGAAGTAGTCACATCTGGCCACTGACTAATCT\n",
      "               6180 ------|||||||||||||.||||.||.|||||.||||||||||||||||||||||||||\n",
      "Query_719     11944 ACAAACATATATACTCCGCGTGAGAAGAAGAAGGAGTCACATCTGGCCACTGACTAATCT\n",
      "\n",
      "gi|273506    171712 GCAACTCCTGCAGCGCATACATCCCAAA--TCCCCCCAACCCCCAC-AT-G-A-AAA---\n",
      "               6240 ||||.|||||||||||||||||||.|||--|.......-.....||-|.-|-|-|||---\n",
      "Query_719     12004 GCAATTCCTGCAGCGCATACATCCTAAACCTccccccc-cccccACCAACGCACAAATTT\n",
      "\n",
      "gi|273506    171763 AAATAAACA---CCCATTCAATTATTATTTCTCGCTATTTAACTCGCATATCCTTCATTG\n",
      "               6300 .........---||||||.|||||||||||||||||||||||||||||||||..||||.|\n",
      "Query_719     12063 aaaaaaaaaaCCCCCATTTAATTATTATTTCTCGCTATTTAACTCGCATATCTATCATCG\n",
      "\n",
      "gi|273506    171820 CCTACCTGTGCTAATGCCAACAAAAATACGGCCGAATGTCCACTATTTACAGCGAAGTAC\n",
      "               6360 |||.||||||||||||.|||||||||||||||||||||||||||||||||||||||||||\n",
      "Query_719     12123 CCTCCCTGTGCTAATGACAACAAAAATACGGCCGAATGTCCACTATTTACAGCGAAGTAC\n",
      "\n",
      "gi|273506    171880 GTCGCAAGTTTCCCAAACTGGTTAAATTGGTAAGTTCTATTTGTAAGTGCCCCGTCCTTT\n",
      "               6420 |||||||||||||||||||||||||.|||||||||||||||||||||||||||.|||.||\n",
      "Query_719     12183 GTCGCAAGTTTCCCAAACTGGTTAAGTTGGTAAGTTCTATTTGTAAGTGCCCCTTCCGTT\n",
      "\n",
      "gi|273506    171940 ACCAAATCGATGGGAATTCCCTAAAAATCGTACTCAGCTTCCATTGTTGTTATGCACACA\n",
      "               6480 |.||||..||||||||||||.|||||||||||..||..||||||-|--|.|-|--||---\n",
      "Query_719     12243 AGCAAAAAGATGGGAATTCCATAAAAATCGTATACATATTCCAT-G--GAT-T--AC---\n",
      "\n",
      "gi|273506    172000 CATGGATGGATCTAAGGTTTGGAATATCCTTACCGATCATTTGGCTCATCAATTCCCATC\n",
      "               6540 -----||||||||||||||||||||||||||||||||.||||||||||||||||||||||\n",
      "Query_719     12294 -----ATGGATCTAAGGTTTGGAATATCCTTACCGATTATTTGGCTCATCAATTCCCATC\n",
      "\n",
      "gi|273506    172060 ACAGCTAGGCAATCACACGACCATAACCAAATTAAATCCCATCTAGGACGAAGAGACCCT\n",
      "               6600 ||||||||||||||||||||||||||||||||||||||||||.|||||||.|||||||||\n",
      "Query_719     12349 ACAGCTAGGCAATCACACGACCATAACCAAATTAAATCCCATATAGGACGGAGAGACCCT\n",
      "\n",
      "gi|273506    172120 GGAGCCGCAGATCACATTTGATCTAGCCGAGCAGGAACGTCTTCTCGAAACGAAGGCATC\n",
      "               6660 |||||||||.|||||||||||||||.|||||||||.||||||||||||||||||||||||\n",
      "Query_719     12409 GGAGCCGCAAATCACATTTGATCTATCCGAGCAGGGACGTCTTCTCGAAACGAAGGCATC\n",
      "\n",
      "gi|273506    172180 CTATCTGTGCGACGTCGCTGGCGCCGAGGTGGTGCGCCAGTTCCTGGACCAGTACTTCCG\n",
      "               6720 |||||||||||||||||||||.||||||||||||||||||||||||||||||||||||||\n",
      "Query_719     12469 CTATCTGTGCGACGTCGCTGGTGCCGAGGTGGTGCGCCAGTTCCTGGACCAGTACTTCCG\n",
      "\n",
      "gi|273506    172240 CATATTTGACTCGGACAATCGGCAAGCTCTGCTAGATGCCTACCATGAGAAAGCGATGCT\n",
      "               6780 ||||||||||||||.|||||||||||||||||||||||||||||||||||||||||||||\n",
      "Query_719     12529 CATATTTGACTCGGGCAATCGGCAAGCTCTGCTAGATGCCTACCATGAGAAAGCGATGCT\n",
      "\n",
      "gi|273506    172300 CTCCATATCGATGCCTTCGGCCAGTCAGGCGGGCAGGTGAGCATAC-AGTGCTCGATAAT\n",
      "               6840 |||||||||.|||||||||||||||||||||||||||||||||||.-||||||.||||||\n",
      "Query_719     12589 CTCCATATCAATGCCTTCGGCCAGTCAGGCGGGCAGGTGAGCATATTAGTGCTTGATAAT\n",
      "\n",
      "gi|273506    172359 AAGCGAATACCACCCATTCATTAATCGCATTCATGTCCCTCAGATTGAACAGTTTCTGGA\n",
      "               6900 ||..||||||||||.||.||||||||||||||||||||.|||||||||||||||||||||\n",
      "Query_719     12649 AAATGAATACCACCAATGCATTAATCGCATTCATGTCCTTCAGATTGAACAGTTTCTGGA\n",
      "\n",
      "gi|273506    172419 AATTCAATCGCAATCTTCGGCGCTTGTTAAACGGCGAAGAGAATTGTATACGAAACTTGA\n",
      "               6960 |.||||||||||||||.|||||||||||||||||||||||||||.|.|..||||||||||\n",
      "Query_719     12709 AGTTCAATCGCAATCTCCGGCGCTTGTTAAACGGCGAAGAGAATCGCACCCGAAACTTGA\n",
      "\n",
      "gi|273506    172479 AGTACGGGCGCCTGGCCTGTGTTTCCACATTGGACGAATGGCCAAAAACGCAACACGACC\n",
      "               7020 |||||||.||||||||.|||||||||||||||||.|||||||||||||||||.|||||||\n",
      "Query_719     12769 AGTACGGACGCCTGGCATGTGTTTCCACATTGGATGAATGGCCAAAAACGCAGCACGACC\n",
      "\n",
      "gi|273506    172539 GTCGCACCTTCACCGTCGACCTGACCATCTACAATGTAAGTAAAGATTTCAAAATTGATT\n",
      "               7080 |.|||||||||||||||||||||||||||||||||||||||||||||||||||.|..|||\n",
      "Query_719     12829 GACGCACCTTCACCGTCGACCTGACCATCTACAATGTAAGTAAAGATTTCAAATTCTATT\n",
      "\n",
      "gi|273506    172599 AGCTTAAACTAAATATCTTATCTCTTCCCATCCAGACTTCAATGATGGTTTTCACCGTGA\n",
      "               7140 |||||.||||||||.-|--|||||||||||||||||||||||||||||||||||||||||\n",
      "Query_719     12889 AGCTTGAACTAAATG-C--ATCTCTTCCCATCCAGACTTCAATGATGGTTTTCACCGTGA\n",
      "\n",
      "gi|273506    172659 CGGGATTATTCAAGGAGCTGAACGCCGAGCCCAGCAATCCCGGCTCCATGGAATTGTATG\n",
      "               7200 |||||||||||||.||||||||||.||||.|||.||||||||.||||||||||||.||||\n",
      "Query_719     12946 CGGGATTATTCAAAGAGCTGAACGACGAGACCAACAATCCCGCCTCCATGGAATTATATG\n",
      "\n",
      "gi|273506    172719 ACGTTCGCCATTTTGCCCGCACCTACGTGGTGGTGCCACAGAATAATGGTTTTTGTATCC\n",
      "               7260 ||||||||||.||||||||||||||||||||||||||||||||||||||.||||||||||\n",
      "Query_719     13006 ACGTTCGCCACTTTGCCCGCACCTACGTGGTGGTGCCACAGAATAATGGCTTTTGTATCC\n",
      "\n",
      "gi|273506    172779 GCAACGAGACGATCTTCATCACAAACGCCTCGCACGAGCAGGTGCGAGAGTTCAAGCGAT\n",
      "               7320 ||||||||||||||||||||||||||||..||||||||||||||||||||||||||||||\n",
      "Query_719     13066 GCAACGAGACGATCTTCATCACAAACGCTACGCACGAGCAGGTGCGAGAGTTCAAGCGAT\n",
      "\n",
      "gi|273506    172839 CGCAGCACCAGCCTGCTCCCGGAGCTATGCCCTCCACTTCCAGTGCGGTGGCCAGTCCTC\n",
      "               7380 ||||||||||||||||||||||||||||||||||||||||||||||.|||.|||||||||\n",
      "Query_719     13126 CGCAGCACCAGCCTGCTCCCGGAGCTATGCCCTCCACTTCCAGTGCAGTGACCAGTCCTC\n",
      "\n",
      "gi|273506    172899 AAGCCGGGGCAGTGGCGGGTCTGCAGGGTCGTCTGAATGCGTTGAGCGTGACCACTGGGC\n",
      "               7440 |.||||||||||.|||||||||||||||||||||||||||||||.|||||.|||||||.|\n",
      "Query_719     13186 AGGCCGGGGCAGCGGCGGGTCTGCAGGGTCGTCTGAATGCGTTGGGCGTGGCCACTGGAC\n",
      "\n",
      "gi|273506    172959 CGGTGGCTATACTACCAGGAGATCCGCTGGCGGCCACCGCGCCGGTGAACAGCGGCAGTG\n",
      "               7500 ||||||||||||||.|||||||||||.|||||||||||||.|||||.|||||||||||||\n",
      "Query_719     13246 CGGTGGCTATACTATCAGGAGATCCGTTGGCGGCCACCGCACCGGTTAACAGCGGCAGTG\n",
      "\n",
      "gi|273506    173019 CCGCCATATCGGCAACAGCAGTGGCACCTGGCGCCCAGGATGAGAACACTAAAATGCAAA\n",
      "               7560 |||||||||||.|||||||||||||||||||||||||||||||||.||||||||||||||\n",
      "Query_719     13306 CCGCCATATCGACAACAGCAGTGGCACCTGGCGCCCAGGATGAGAGCACTAAAATGCAAA\n",
      "\n",
      "gi|273506    173079 TGATTCAGGCCATGAGCGCCCAAAGCCAAATGAATGTGATCTGGAGTCGGAAGTAAGATC\n",
      "               7620 |||||.|.||||||||||||||||||||||||||||||||||||||||||||||||||||\n",
      "Query_719     13366 TGATTGAAGCCATGAGCGCCCAAAGCCAAATGAATGTGATCTGGAGTCGGAAGTAAGATC\n",
      "\n",
      "gi|273506    173139 CAAATGACAATCTATCAATAGCTAGATGAAAT-AGTTGACCCATTTCTTCATTTAACAGA\n",
      "               7680 |||.||.||||||||||||||||||||-||||-|||..||||||||||||||||||||||\n",
      "Query_719     13426 CAAGTGGCAATCTATCAATAGCTAGAT-AAATAAGTAAACCCATTTCTTCATTTAACAGA\n",
      "\n",
      "gi|273506    173198 TGCCTGGAGGAAACGAATTGGGACTATAACCATGCCGCCTTTGTGTTCGAGCAACTATTC\n",
      "               7740 |||||||||||||||||||||||||.|||||||||||||||||||||||||.||||||||\n",
      "Query_719     13485 TGCCTGGAGGAAACGAATTGGGACTTTAACCATGCCGCCTTTGTGTTCGAGAAACTATTC\n",
      "\n",
      "gi|273506    173258 AAGGAGAACCAAATACCGCCTGAGGCTTTTATCAAGTAAAACACATTGGAGTTCCCGTAG\n",
      "               7800 |||||.|||.||||||||||||||||||||||.|||||||.|.|||.||||||.||||||\n",
      "Query_719     13545 AAGGAAAACAAAATACCGCCTGAGGCTTTTATGAAGTAAATCGCATAGGAGTTTCCGTAG\n",
      "\n",
      "gi|273506    173318 GACAGAGCCGAGTGCCACATCCACATAATCGAATGTTGTTTTTTTTTA-TTGGTCTTGTA\n",
      "               7860 ||||||||||.||||||||||||||||||||||||.||..........-..|||.|||..\n",
      "Query_719     13605 GACAGAGCCGCGTGCCACATCCACATAATCGAATGCTGtttttttttttttGGTTTTGta\n",
      "\n",
      "gi|273506    173377 ATTAAATTTTTT-TTGTTTATTTAATTAT-TAGAGAAACCTCTATA--TAATAATATTAA\n",
      "               7920 ............-................-............-...--............\n",
      "Query_719     13665 attaaattttaaaattattagagaaacctctatataataata-ataattaatattattaa\n",
      "\n",
      "gi|273506    173433 GCTGCGAAGTTGTGTGCACATGCGGGCAGTAGCAATGGTTATCCCAGCACTGCGGGCAAT\n",
      "               7980 |||||||||||||||||||||.||||||||||||||..||||||||||||||||||||||\n",
      "Query_719     13724 GCTGCGAAGTTGTGTGCACATTCGGGCAGTAGCAATTATTATCCCAGCACTGCGGGCAAT\n",
      "\n",
      "gi|273506    173493 ATGCCTCAACGGTCACAGTTCTTCGGTAGATTAGTTTAACTCTCTTTAAGTTCCGTCCGC\n",
      "               8040 .|||.||||||.|||||||||||||.||||||||||||.|||||||||||||||||||||\n",
      "Query_719     13784 GTGCATCAACGATCACAGTTCTTCGATAGATTAGTTTAGCTCTCTTTAAGTTCCGTCCGC\n",
      "\n",
      "gi|273506    173553 AGATCCGCTGGTTTACATTGAAGCCAGGACGAGTCTGCGAACGGGAGTCCCTTTAGAGTT\n",
      "               8100 ||||||||||||.||||||||.||||||||||||||||||||||.|||||||||||||-|\n",
      "Query_719     13844 AGATCCGCTGGTCTACATTGAGGCCAGGACGAGTCTGCGAACGGTAGTCCCTTTAGAG-T\n",
      "\n",
      "gi|273506    173613 TAAAGTTGTTTTAGATTCCTAAGC-A--CA--TTCAAACACACACAACACGACAACACCA\n",
      "               8160 ||||||||||||||||||||||||-|--||--||||||||||||||||||||||||||.|\n",
      "Query_719     13903 TAAAGTTGTTTTAGATTCCTAAGCCAAACACCTTCAAACACACACAACACGACAACACTA\n",
      "\n",
      "gi|273506    173668 TTAAACGTAATGCAACAATGTTGTCGAAACGAAAGAAACACAATTATTATTATTATTTTA\n",
      "               8220 ||||||||||||||||||||||||||||.||||||||||.|||||-||-|-|||-||---\n",
      "Query_719     13963 TTAAACGTAATGCAACAATGTTGTCGAATCGAAAGAAACCCAATT-TT-T-ATT-TT---\n",
      "\n",
      "gi|273506    173728 AATATATACGACGATACCCAAATCAAGGCGATAGTCGAAAAGCACGGATCGCGCCAATAA\n",
      "               8280 ||||||||||||||||||.|||.|||||||||.|||||||||||.|||||||||||||||\n",
      "Query_719     14016 AATATATACGACGATACCGAAACCAAGGCGATGGTCGAAAAGCATGGATCGCGCCAATAA\n",
      "\n",
      "gi|273506    173788 TCCTATATTTCCCGCTTTCCCAGGTCCTCGACTCGCCTTACATTTTGTATACAAGGACCA\n",
      "               8340 |.|||||||.|||||||||||||.||||||||||||||||||||||||||||||..||||\n",
      "Query_719     14076 TTCTATATTCCCCGCTTTCCCAGATCCTCGACTCGCCTTACATTTTGTATACAAATACCA\n",
      "\n",
      "gi|273506    173848 TAGAATAAAAAGAAACATTTTGACCACTGTATAAATTTTGTAACGACTCGAAAAAAAAAC\n",
      "               8400 |||||||||||||||||||||||||||||||.||||||||||||||||||.|||..|||-\n",
      "Query_719     14136 TAGAATAAAAAGAAACATTTTGACCACTGTAAAAATTTTGTAACGACTCGGAAACCAAA-\n",
      "\n",
      "gi|273506    173908 ATTACCTTTATTTCTTAATAG-AAAAAATGATTCGAT-------------TTAGCCGTAA\n",
      "               8460 |||||||||||||||||||||-......|.|||||||-------------||||||||||\n",
      "Query_719     14195 ATTACCTTTATTTCTTAATAGaaaaaaaTTATTCGATTTACAATACACGCTTAGCCGTAA\n",
      "\n",
      "gi|273506    173954 GTTGGATTGAATTTAAGTGTGCGATATATAAAAATTATATACATTAAAGCAAAAGCGTAG\n",
      "               8520 .||..|||||||||||||||..|||||||||||||||||||||||||..||||||.||||\n",
      "Query_719     14255 ATTCAATTGAATTTAAGTGTAAGATATATAAAAATTATATACATTAAGACAAAAGTGTAG\n",
      "\n",
      "gi|273506    174014 AATCATAAATAAATTTTTCAGAATAG 174040\n",
      "               8580 |.||||||||||||||||||||||||   8606\n",
      "Query_719     14315 ATTCATAAATAAATTTTTCAGAATAG  14341\n",
      "\n",
      "\n"
     ]
    }
   ],
   "execution_count": 10
  },
  {
   "metadata": {},
   "cell_type": "code",
   "outputs": [],
   "execution_count": 289,
   "source": [
    "# filter_func = lambda hit: len(hit) > 1\n",
    "# len(blast_record) # 250\n",
    "# blast_record[:] = filter(filter_func, blast_record)\n",
    "# len(blast_record) # 228\n",
    "\n",
    "# for hit in blast_record[:5]:  # quick check for the hit lengths\n",
    "#     print(f\"{hit.target.id} {len(hit)}\")"
   ],
   "id": "45a44751f0bb0809"
  },
  {
   "metadata": {
    "ExecuteTime": {
     "end_time": "2024-10-20T18:43:20.862483Z",
     "start_time": "2024-10-20T18:43:20.859335Z"
    }
   },
   "cell_type": "code",
   "source": "extract_target_range(hit)",
   "id": "ba08b4e09007faab",
   "outputs": [
    {
     "data": {
      "text/plain": [
       "[160127, 174040]"
      ]
     },
     "execution_count": 11,
     "metadata": {},
     "output_type": "execute_result"
    }
   ],
   "execution_count": 11
  },
  {
   "metadata": {},
   "cell_type": "code",
   "outputs": [],
   "execution_count": 12,
   "source": "qcs = calculate_qc(blast_record)",
   "id": "c0d0ad898bf99fb5"
  },
  {
   "metadata": {
    "ExecuteTime": {
     "end_time": "2024-10-20T18:53:51.833486Z",
     "start_time": "2024-10-20T18:53:51.831689Z"
    }
   },
   "cell_type": "code",
   "source": "qcs_sorted = sorted(qcs.items(), key=lambda qc: qc[1], reverse=True)",
   "id": "1baf15c0cb0eb624",
   "outputs": [],
   "execution_count": 32
  },
  {
   "metadata": {
    "ExecuteTime": {
     "end_time": "2024-10-20T17:22:07.789643Z",
     "start_time": "2024-10-20T17:22:07.787934Z"
    }
   },
   "cell_type": "code",
   "source": "QC_THRESHOLD = 0.5",
   "id": "8e9b6c60b35732a0",
   "outputs": [],
   "execution_count": 24
  },
  {
   "metadata": {
    "ExecuteTime": {
     "end_time": "2024-10-20T18:39:59.271205Z",
     "start_time": "2024-10-20T18:39:59.269220Z"
    }
   },
   "cell_type": "code",
   "source": [
    "for id, qc in qcs_sorted:\n",
    "    if qc > QC_THRESHOLD:\n",
    "        start, stop = extract_target_range(blast_record[id])\n",
    "        break\n",
    "\n",
    "print(start, stop)"
   ],
   "id": "31630293e9583e3e",
   "outputs": [
    {
     "name": "stdout",
     "output_type": "stream",
     "text": [
      "160127 174040\n"
     ]
    }
   ],
   "execution_count": 169
  },
  {
   "metadata": {
    "ExecuteTime": {
     "end_time": "2024-10-20T18:53:53.149619Z",
     "start_time": "2024-10-20T18:53:53.147538Z"
    }
   },
   "cell_type": "code",
   "source": [
    "def check_strands(hsp: Bio.Blast.HSP) -> (int, int):\n",
    "    query_strand = (\n",
    "        1 if hsp.coordinates[1][0] <= hsp.coordinates[1][-1] else 2\n",
    "    )\n",
    "    target_strand = (\n",
    "        1 if hsp.coordinates[0][0] <= hsp.coordinates[0][-1] else 2\n",
    "    )\n",
    "    return query_strand, target_strand"
   ],
   "id": "75c8ec001c910e70",
   "outputs": [],
   "execution_count": 33
  },
  {
   "metadata": {
    "ExecuteTime": {
     "end_time": "2024-10-20T18:53:53.755284Z",
     "start_time": "2024-10-20T18:53:53.752960Z"
    }
   },
   "cell_type": "code",
   "source": [
    "for hsp in blast_record[qcs_sorted[0][0]]:\n",
    "    print(check_strands(hsp))"
   ],
   "id": "59ba02a70bf87b50",
   "outputs": [
    {
     "name": "stdout",
     "output_type": "stream",
     "text": [
      "(1, 1)\n",
      "(1, 1)\n",
      "(1, 1)\n",
      "(1, 1)\n",
      "(1, 1)\n"
     ]
    }
   ],
   "execution_count": 34
  },
  {
   "metadata": {
    "ExecuteTime": {
     "end_time": "2024-10-20T18:36:03.288956Z",
     "start_time": "2024-10-20T18:36:03.286780Z"
    }
   },
   "cell_type": "code",
   "source": "blast_record[qcs_sorted[0][0]][0].target.seq",
   "id": "f3e1b2781adbd30f",
   "outputs": [
    {
     "data": {
      "text/plain": [
       "Seq({165809: 'AGTTGAAAAGCAACTAAATACCGCCGTCTAGAGTTCTAAATGCTTAATGGTAAT...TAG'}, length=1492563)"
      ]
     },
     "execution_count": 167,
     "metadata": {},
     "output_type": "execute_result"
    }
   ],
   "execution_count": 167
  },
  {
   "metadata": {
    "ExecuteTime": {
     "end_time": "2024-10-20T18:44:59.630458Z",
     "start_time": "2024-10-20T18:44:59.628927Z"
    }
   },
   "cell_type": "code",
   "source": "minus_hit = blast_record[\"gi|2733173904|gb|JBAMBW010000153.1|\"]",
   "id": "dc0c4a872ce8b142",
   "outputs": [],
   "execution_count": 19
  },
  {
   "metadata": {
    "ExecuteTime": {
     "end_time": "2024-10-20T18:45:02.927704Z",
     "start_time": "2024-10-20T18:45:02.925792Z"
    }
   },
   "cell_type": "code",
   "source": "print(minus_hit)",
   "id": "dc28bdc0825948c2",
   "outputs": [
    {
     "name": "stdout",
     "output_type": "stream",
     "text": [
      "Query: Query_719443\n",
      "       sbr-RA-gene\n",
      "  Hit: gi|2733173904|gb|JBAMBW010000153.1| (length=10800764)\n",
      "       Drosophila mauritiana strain Dmau_R32 contig_177, whole genome shotgun\n",
      "       sequence\n",
      " HSPs: ----  --------  ---------  ------  ---------------  ---------------------\n",
      "          #   E-value  Bit score    Span      Query range              Hit range\n",
      "       ----  --------  ---------  ------  ---------------  ---------------------\n",
      "          0         0    6597.35    4971     [9403:14341]    [10651515:10646675]\n",
      "          1         0    6270.50    4461      [1113:5494]    [10659647:10655239]\n",
      "          2         0    3626.09    3585      [5873:9339]    [10654967:10651530]\n",
      "          3         0    1050.02     761       [360:1116]    [10660426:10659673]\n",
      "          4   7.9e-81     315.05     231      [5500:5728]    [10655264:10655038]\n",
      "          5   1.4e-53     224.56     223          [0:223]    [10660638:10660420]\n"
     ]
    }
   ],
   "execution_count": 20
  },
  {
   "metadata": {
    "ExecuteTime": {
     "end_time": "2024-10-20T18:48:46.265891Z",
     "start_time": "2024-10-20T18:48:46.264044Z"
    }
   },
   "cell_type": "code",
   "source": "start, stop = extract_target_range(minus_hit)",
   "id": "d29b209d6a445a47",
   "outputs": [],
   "execution_count": 23
  },
  {
   "metadata": {
    "ExecuteTime": {
     "end_time": "2024-10-20T18:50:12.190641Z",
     "start_time": "2024-10-20T18:50:11.315478Z"
    }
   },
   "cell_type": "code",
   "source": [
    "# TODO\n",
    "\n",
    "# seq = Entrez.efetch(db=\"nucleotide\", id=\"JBAMBW010000153.1\", strand=2, seq_start=start, seq_stop=stop, rettype=\"fasta\")\n",
    "# seq.read()"
   ],
   "id": "3fd98d2e91ea288",
   "outputs": [],
   "execution_count": 27
  }
 ],
 "metadata": {
  "kernelspec": {
   "display_name": "Python 3 (ipykernel)",
   "language": "python",
   "name": "python3"
  },
  "language_info": {
   "codemirror_mode": {
    "name": "ipython",
    "version": 3
   },
   "file_extension": ".py",
   "mimetype": "text/x-python",
   "name": "python",
   "nbconvert_exporter": "python",
   "pygments_lexer": "ipython3",
   "version": "3.12.6"
  }
 },
 "nbformat": 4,
 "nbformat_minor": 5
}
