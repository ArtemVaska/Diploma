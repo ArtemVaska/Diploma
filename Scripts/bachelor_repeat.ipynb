{
 "cells": [
  {
   "metadata": {},
   "cell_type": "markdown",
   "source": "# TODOs",
   "id": "bea6ec612ff1c1b0"
  },
  {
   "metadata": {},
   "cell_type": "markdown",
   "source": [
    "1. Найти референсные последовательности для sbr - https://www.alliancegenome.org/gene/FB:FBgn0003321 (Sequence Details (Mode: cDNA)):\n",
    "   - найти координаты гены на X хромосоме\n",
    "   - полная последовательность гена\n",
    "   - сплайсированный вариант\n",
    "   - консервативная кассета\n",
    "2. Написать срипт, который:\n",
    "   - ищет ген sbr / nxf1 в базе данных NCBI для семейства Drosophilidae\n",
    "   - выбирает из найденных только адекватные варианты и формирует из них БД для бласта\n",
    "3. Сделать бласт вариантов из 1-го пункта на варианты из второго пункта"
   ],
   "id": "4ff87593e857663"
  },
  {
   "metadata": {},
   "cell_type": "markdown",
   "source": "# Imports",
   "id": "8f035ed9a033250a"
  },
  {
   "metadata": {
    "ExecuteTime": {
     "end_time": "2024-11-18T10:09:10.682300Z",
     "start_time": "2024-11-18T10:09:10.171676Z"
    }
   },
   "cell_type": "code",
   "source": [
    "from Bio import Entrez\n",
    "from Bio import Blast\n",
    "\n",
    "from entrez import nucl_search, save_esearch_results\n",
    "from parse_blast_results import calculate_qc, update_df\n",
    "from fasta_processing import plain_to_fasta, read_fasta\n",
    "from data_processing import cluster_analysis, save_seqs\n",
    "\n",
    "Entrez.email = \"artemvaskaa@gmail.com\"\n",
    "Blast.email = \"artemvaskaa@gmail.com\""
   ],
   "id": "7e29b05634374eaa",
   "outputs": [],
   "execution_count": 1
  },
  {
   "metadata": {},
   "cell_type": "markdown",
   "source": "# Fasta processing funcs",
   "id": "70ee05c80b2e6708"
  },
  {
   "metadata": {},
   "cell_type": "code",
   "outputs": [],
   "execution_count": 42,
   "source": "path_to_plain_dir = \"/home/artemvaska/Master_degree/Diploma/References/\"",
   "id": "197469dbb9cf8ee4"
  },
  {
   "metadata": {},
   "cell_type": "code",
   "outputs": [],
   "execution_count": null,
   "source": "plain_to_fasta(path_to_plain_dir + \"sbr_RA_gene_plain.fa\", fasta_line_length=80, uppercase=True)",
   "id": "8294a6a5077a4043"
  },
  {
   "metadata": {},
   "cell_type": "code",
   "outputs": [],
   "execution_count": 45,
   "source": "plain_to_fasta(path_to_plain_dir + \"sbr_RA_CDS_plain.fa\", fasta_line_length=80, uppercase=True)",
   "id": "1828b4ac4664a76a"
  },
  {
   "metadata": {},
   "cell_type": "markdown",
   "source": "# Entrez funcs",
   "id": "1b9b2a63016911c2"
  },
  {
   "metadata": {
    "ExecuteTime": {
     "end_time": "2024-10-17T17:52:52.112803Z",
     "start_time": "2024-10-17T17:52:52.111046Z"
    }
   },
   "cell_type": "code",
   "source": "query = \"(Drosophilidae[ORGN] NOT Drosophila melanogaster[ORGN]) AND (chromosome X[WORD] NOT PREDICTED[WORD] NOT gene[WORD]) AND 15000000:75000000[SLEN]\"",
   "id": "78eb5b22cb0070f7",
   "outputs": [],
   "execution_count": 8
  },
  {
   "metadata": {
    "ExecuteTime": {
     "end_time": "2024-10-17T17:52:53.446039Z",
     "start_time": "2024-10-17T17:52:52.658361Z"
    }
   },
   "cell_type": "code",
   "source": "id_list_test = nucl_search(query)",
   "id": "7d9115740e2aab21",
   "outputs": [],
   "execution_count": 9
  },
  {
   "metadata": {
    "ExecuteTime": {
     "end_time": "2024-10-17T15:49:19.349345Z",
     "start_time": "2024-10-17T15:48:54.687784Z"
    }
   },
   "cell_type": "code",
   "source": "save_esearch_results(id_list_test[:3], \"Drosophilidae\")",
   "id": "6ef5cc45df2366a3",
   "outputs": [],
   "execution_count": 63
  },
  {
   "metadata": {
    "ExecuteTime": {
     "end_time": "2024-10-17T17:54:57.474248Z",
     "start_time": "2024-10-17T17:53:34.733050Z"
    }
   },
   "cell_type": "code",
   "source": [
    "# save all seqs in 1 file\n",
    "\n",
    "with open(\"3_species.fa\", \"w\") as ouf:\n",
    "    for rec in id_list_test[:3]:\n",
    "        lne = Entrez.efetch(\n",
    "        db=\"nucleotide\", id=rec, retmode=\"text\", rettype=\"fasta\"\n",
    "        ).read()\n",
    "        ouf.write(lne + \"\\n\")"
   ],
   "id": "e07b81109fbb22a2",
   "outputs": [],
   "execution_count": 13
  },
  {
   "metadata": {},
   "cell_type": "markdown",
   "source": "# Local blast+",
   "id": "557ac3635171952c"
  },
  {
   "metadata": {},
   "cell_type": "markdown",
   "source": [
    "Available DB in NCBI blastn -remote:\n",
    "\n",
    "https://rc.dartmouth.edu/index.php/blast-introduction/blast-databases/"
   ],
   "id": "75138cfcd534738d"
  },
  {
   "metadata": {},
   "cell_type": "markdown",
   "source": [
    "Установка blast+ на linux (https://www.ncbi.nlm.nih.gov/books/NBK52640/):\n",
    "\n",
    "1. https://ftp.ncbi.nlm.nih.gov/blast/executables/LATEST/ (ncbi-blast-2.16.0+-x64-linux.tar.gz)\n",
    "2. `mv ~/Downloads/ncbi-blast-2.16.0+-x64-linux.tar.gz ~`\n",
    "3. `tar zxvpf ncbi-blast-2.16.0+-x64-linux.tar.gz`\n",
    "4. `export PATH=$PATH:$HOME/ncbi-blast-2.16.0+/bin`\n",
    "5. `mkdir $HOME/blastdb`\n",
    "6. `export BLASTDB=$HOME/blastdb`\n",
    "7. export into bash_profile (`nano .bash_profile`)"
   ],
   "id": "961cf322de85c8ae"
  },
  {
   "metadata": {},
   "cell_type": "markdown",
   "source": "## Commands for local db",
   "id": "d989e20e4cc2a41a"
  },
  {
   "metadata": {},
   "cell_type": "markdown",
   "source": "`$ makeblastdb -in Master_degree/Diploma/References/sbr_RA_gene.fa -dbtype nucl -out blastdb/sbr_ra/sbr_ra`",
   "id": "f916c83f1e5fd760"
  },
  {
   "metadata": {},
   "cell_type": "markdown",
   "source": "`$ blastn -db blastdb/sbr_ra -query Master_degree/Diploma/References/Drosophilidae/1797095071.fa`",
   "id": "6fc8d76a3b4540b2"
  },
  {
   "metadata": {},
   "cell_type": "markdown",
   "source": "`$ makeblastdb -in Master_degree/Diploma/References/3_species.fa -dbtype nucl -out blastdb/3_sp/3_sp`",
   "id": "a449655007e0a786"
  },
  {
   "metadata": {},
   "cell_type": "markdown",
   "source": "`$ blastn -db blastdb/3_sp/3_sp -query Master_degree/Diploma/References/sbr_RA_gene.fa`",
   "id": "480f6b95a4a80bad"
  },
  {
   "cell_type": "markdown",
   "id": "2dc37077-8e0d-471f-9752-1c90b5599bdc",
   "metadata": {},
   "source": [
    "AE - NCBI - Genome project\n",
    "\n",
    "AJ - EBI - Direct submissions\n",
    "\n",
    "NM - curated RefSeq"
   ]
  },
  {
   "metadata": {},
   "cell_type": "markdown",
   "source": "# sbr gene",
   "id": "3850847ac5c048dc"
  },
  {
   "cell_type": "markdown",
   "id": "f7f1171d-2672-4d05-b8c9-016a260b2b2e",
   "metadata": {},
   "source": [
    "https://www.alliancegenome.org/gene/FB:FBgn0003321\n",
    "\n",
    "Sequence Details (Mode: cDNA)"
   ]
  },
  {
   "cell_type": "markdown",
   "id": "2cd40f98-ad92-4a4d-8fb7-1c7915b2ae03",
   "metadata": {},
   "source": [
    "---"
   ]
  },
  {
   "metadata": {},
   "cell_type": "markdown",
   "source": "# Parsing BLAST XML2, calculating QC and saving found sequences",
   "id": "8961d200180a993b"
  },
  {
   "metadata": {},
   "cell_type": "markdown",
   "source": [
    "Drosophilidae (taxid:7214)\n",
    "\n",
    "Drosophila melanogaster (taxid:7227)\n",
    "\n",
    "https://biochem.slu.edu/bchm628/handouts/2013/Entrez_boolian_searches.pdf"
   ],
   "id": "c245fbfb00656f6c"
  },
  {
   "metadata": {},
   "cell_type": "markdown",
   "source": "https://biopython.org/docs/dev/Tutorial/chapter_blast.html",
   "id": "42c0ab8e013690"
  },
  {
   "metadata": {},
   "cell_type": "markdown",
   "source": "https://biopython.org/docs/dev/Tutorial/chapter_blast.html#the-blast-records-record-and-hit-classes",
   "id": "8ba489c25706d10"
  },
  {
   "metadata": {
    "ExecuteTime": {
     "end_time": "2024-11-18T06:43:03.928889Z",
     "start_time": "2024-11-18T06:43:03.926951Z"
    }
   },
   "cell_type": "code",
   "source": [
    "name_of_blast_res = \"../Blast_res/full_sbr_RA_wgs_megablast_250_16.xml\" # XML2 !!!\n",
    "result_stream = open(name_of_blast_res, \"rb\")"
   ],
   "id": "b9559e76e1d2af12",
   "outputs": [],
   "execution_count": 1
  },
  {
   "metadata": {
    "ExecuteTime": {
     "end_time": "2024-11-18T06:43:23.052053Z",
     "start_time": "2024-11-18T06:43:22.898967Z"
    }
   },
   "cell_type": "code",
   "source": "blast_record = Blast.read(result_stream)",
   "id": "9e3a050466d8b9c6",
   "outputs": [],
   "execution_count": 4
  },
  {
   "metadata": {
    "ExecuteTime": {
     "end_time": "2024-11-18T06:43:28.943812Z",
     "start_time": "2024-11-18T06:43:28.942146Z"
    }
   },
   "cell_type": "code",
   "source": "original_blast_record = blast_record[:]",
   "id": "fdc4fd3d3b49aa53",
   "outputs": [],
   "execution_count": 5
  },
  {
   "metadata": {
    "ExecuteTime": {
     "end_time": "2024-11-18T07:57:51.546618Z",
     "start_time": "2024-11-18T07:57:51.544798Z"
    }
   },
   "cell_type": "code",
   "source": [
    "hit = blast_record[0]\n",
    "# hsp = hit[0] # HSPs -- “High-scoring Segment Pairs”\n",
    "# hit.target  # hit.targets\n",
    "# print(hit)  # span -- the alignment length including gaps"
   ],
   "id": "cca767202d507606",
   "outputs": [],
   "execution_count": 5
  },
  {
   "metadata": {
    "ExecuteTime": {
     "end_time": "2024-11-18T06:43:35.104350Z",
     "start_time": "2024-11-18T06:43:35.102801Z"
    }
   },
   "cell_type": "code",
   "source": [
    "hsp = hit[0]\n",
    "# print(hsp)"
   ],
   "id": "38205e99a719860b",
   "outputs": [],
   "execution_count": 8
  },
  {
   "metadata": {},
   "cell_type": "markdown",
   "source": [
    "1. Obtain BLAST results (NCBI / Bio.Blast / cmd local db / cmd -remote)\n",
    "2. Parse (target.id, QC)\n",
    "3. Filter based on QC_THRESHOLD `#TODO`\n",
    "4. Group QC `#TODO Scikit-learn cluster?`\n",
    "5. Download into group_folder via Entrez.efetch\n",
    "6. Multiple align via `#TODO MEGA / UGENE / cmd` cmd + check in UGENE??"
   ],
   "id": "cc0a3af623b2c9b6"
  },
  {
   "metadata": {},
   "cell_type": "markdown",
   "source": "## Pipeline",
   "id": "49db3023eb3e5327"
  },
  {
   "metadata": {
    "ExecuteTime": {
     "end_time": "2024-11-18T10:09:34.194027Z",
     "start_time": "2024-11-18T10:09:34.035377Z"
    }
   },
   "cell_type": "code",
   "source": [
    "name_of_blast_res = \"../Blast_res/full_sbr_RA_wgs_megablast_250_16.xml\" # XML2 !!!\n",
    "result_stream = open(name_of_blast_res, \"rb\")\n",
    "blast_record = Blast.read(result_stream)\n",
    "\n",
    "qcs = calculate_qc(blast_record)\n",
    "qcs_df = cluster_analysis(qcs)\n",
    "qcs_df = update_df(qcs_df, blast_record)"
   ],
   "id": "a8340d59498fac86",
   "outputs": [],
   "execution_count": 2
  },
  {
   "metadata": {
    "ExecuteTime": {
     "end_time": "2024-11-18T10:09:35.154080Z",
     "start_time": "2024-11-18T10:09:35.147506Z"
    }
   },
   "cell_type": "code",
   "source": "qcs_df",
   "id": "bf1636ea80ec2e40",
   "outputs": [
    {
     "data": {
      "text/plain": [
       "                                         QC  Cluster                Acc  \\\n",
       "gi|2735068466|gb|JBBODO010000732.1|  0.9797        0  JBBODO010000732.1   \n",
       "gi|2735070232|gb|JBBODR010000286.1|  0.9764        0  JBBODR010000286.1   \n",
       "gi|2733175125|gb|JBAMBY010000011.1|  0.9729        0  JBAMBY010000011.1   \n",
       "gi|2733173904|gb|JBAMBW010000153.1|  0.9757        0  JBAMBW010000153.1   \n",
       "gi|2735068651|gb|JBBODP010000434.1|  0.9773        0  JBBODP010000434.1   \n",
       "...                                     ...      ...                ...   \n",
       "gi|823984223|gb|JXPY01022046.1|      0.1416        1     JXPY01022046.1   \n",
       "gi|2030294827|gb|JAECWR010000194.1|  0.2088        1  JAECWR010000194.1   \n",
       "gi|2644252255|gb|JAWNPD010000679.1|  0.1697        1  JAWNPD010000679.1   \n",
       "gi|2644243871|gb|JAWNOD010000520.1|  0.1625        1  JAWNOD010000520.1   \n",
       "gi|2167097572|gb|JAJJHP010009108.1|  0.1803        1  JAJJHP010009108.1   \n",
       "\n",
       "                                     Strand     Start      Stop  \n",
       "gi|2735068466|gb|JBBODO010000732.1|       1    160127    174040  \n",
       "gi|2735070232|gb|JBBODR010000286.1|       1   4625347   4639269  \n",
       "gi|2733175125|gb|JBAMBY010000011.1|       1   4400346   4414275  \n",
       "gi|2733173904|gb|JBAMBW010000153.1|       2  10646675  10660638  \n",
       "gi|2735068651|gb|JBBODP010000434.1|       1   4652416   4666336  \n",
       "...                                     ...       ...       ...  \n",
       "gi|823984223|gb|JXPY01022046.1|           1      9944     11982  \n",
       "gi|2030294827|gb|JAECWR010000194.1|       2  17051973  17063133  \n",
       "gi|2644252255|gb|JAWNPD010000679.1|       1   8198711   8212105  \n",
       "gi|2644243871|gb|JAWNOD010000520.1|       1   3143039   3154598  \n",
       "gi|2167097572|gb|JAJJHP010009108.1|       1    133693    146412  \n",
       "\n",
       "[234 rows x 6 columns]"
      ],
      "text/html": [
       "<div>\n",
       "<style scoped>\n",
       "    .dataframe tbody tr th:only-of-type {\n",
       "        vertical-align: middle;\n",
       "    }\n",
       "\n",
       "    .dataframe tbody tr th {\n",
       "        vertical-align: top;\n",
       "    }\n",
       "\n",
       "    .dataframe thead th {\n",
       "        text-align: right;\n",
       "    }\n",
       "</style>\n",
       "<table border=\"1\" class=\"dataframe\">\n",
       "  <thead>\n",
       "    <tr style=\"text-align: right;\">\n",
       "      <th></th>\n",
       "      <th>QC</th>\n",
       "      <th>Cluster</th>\n",
       "      <th>Acc</th>\n",
       "      <th>Strand</th>\n",
       "      <th>Start</th>\n",
       "      <th>Stop</th>\n",
       "    </tr>\n",
       "  </thead>\n",
       "  <tbody>\n",
       "    <tr>\n",
       "      <th>gi|2735068466|gb|JBBODO010000732.1|</th>\n",
       "      <td>0.9797</td>\n",
       "      <td>0</td>\n",
       "      <td>JBBODO010000732.1</td>\n",
       "      <td>1</td>\n",
       "      <td>160127</td>\n",
       "      <td>174040</td>\n",
       "    </tr>\n",
       "    <tr>\n",
       "      <th>gi|2735070232|gb|JBBODR010000286.1|</th>\n",
       "      <td>0.9764</td>\n",
       "      <td>0</td>\n",
       "      <td>JBBODR010000286.1</td>\n",
       "      <td>1</td>\n",
       "      <td>4625347</td>\n",
       "      <td>4639269</td>\n",
       "    </tr>\n",
       "    <tr>\n",
       "      <th>gi|2733175125|gb|JBAMBY010000011.1|</th>\n",
       "      <td>0.9729</td>\n",
       "      <td>0</td>\n",
       "      <td>JBAMBY010000011.1</td>\n",
       "      <td>1</td>\n",
       "      <td>4400346</td>\n",
       "      <td>4414275</td>\n",
       "    </tr>\n",
       "    <tr>\n",
       "      <th>gi|2733173904|gb|JBAMBW010000153.1|</th>\n",
       "      <td>0.9757</td>\n",
       "      <td>0</td>\n",
       "      <td>JBAMBW010000153.1</td>\n",
       "      <td>2</td>\n",
       "      <td>10646675</td>\n",
       "      <td>10660638</td>\n",
       "    </tr>\n",
       "    <tr>\n",
       "      <th>gi|2735068651|gb|JBBODP010000434.1|</th>\n",
       "      <td>0.9773</td>\n",
       "      <td>0</td>\n",
       "      <td>JBBODP010000434.1</td>\n",
       "      <td>1</td>\n",
       "      <td>4652416</td>\n",
       "      <td>4666336</td>\n",
       "    </tr>\n",
       "    <tr>\n",
       "      <th>...</th>\n",
       "      <td>...</td>\n",
       "      <td>...</td>\n",
       "      <td>...</td>\n",
       "      <td>...</td>\n",
       "      <td>...</td>\n",
       "      <td>...</td>\n",
       "    </tr>\n",
       "    <tr>\n",
       "      <th>gi|823984223|gb|JXPY01022046.1|</th>\n",
       "      <td>0.1416</td>\n",
       "      <td>1</td>\n",
       "      <td>JXPY01022046.1</td>\n",
       "      <td>1</td>\n",
       "      <td>9944</td>\n",
       "      <td>11982</td>\n",
       "    </tr>\n",
       "    <tr>\n",
       "      <th>gi|2030294827|gb|JAECWR010000194.1|</th>\n",
       "      <td>0.2088</td>\n",
       "      <td>1</td>\n",
       "      <td>JAECWR010000194.1</td>\n",
       "      <td>2</td>\n",
       "      <td>17051973</td>\n",
       "      <td>17063133</td>\n",
       "    </tr>\n",
       "    <tr>\n",
       "      <th>gi|2644252255|gb|JAWNPD010000679.1|</th>\n",
       "      <td>0.1697</td>\n",
       "      <td>1</td>\n",
       "      <td>JAWNPD010000679.1</td>\n",
       "      <td>1</td>\n",
       "      <td>8198711</td>\n",
       "      <td>8212105</td>\n",
       "    </tr>\n",
       "    <tr>\n",
       "      <th>gi|2644243871|gb|JAWNOD010000520.1|</th>\n",
       "      <td>0.1625</td>\n",
       "      <td>1</td>\n",
       "      <td>JAWNOD010000520.1</td>\n",
       "      <td>1</td>\n",
       "      <td>3143039</td>\n",
       "      <td>3154598</td>\n",
       "    </tr>\n",
       "    <tr>\n",
       "      <th>gi|2167097572|gb|JAJJHP010009108.1|</th>\n",
       "      <td>0.1803</td>\n",
       "      <td>1</td>\n",
       "      <td>JAJJHP010009108.1</td>\n",
       "      <td>1</td>\n",
       "      <td>133693</td>\n",
       "      <td>146412</td>\n",
       "    </tr>\n",
       "  </tbody>\n",
       "</table>\n",
       "<p>234 rows × 6 columns</p>\n",
       "</div>"
      ]
     },
     "execution_count": 3,
     "metadata": {},
     "output_type": "execute_result"
    }
   ],
   "execution_count": 3
  },
  {
   "metadata": {
    "ExecuteTime": {
     "end_time": "2024-11-18T10:17:54.784542Z",
     "start_time": "2024-11-18T10:09:38.780767Z"
    }
   },
   "cell_type": "code",
   "source": [
    "# CAREFUL !!!\n",
    "\n",
    "save_seqs(\"Drosophilidae\", qcs_df)"
   ],
   "id": "3a1628ca640389a9",
   "outputs": [],
   "execution_count": 4
  },
  {
   "metadata": {},
   "cell_type": "markdown",
   "source": [
    "Пофиксить название файлов в подпапках\n",
    "\n",
    "Добавить фильтр, чтобы не скачивались очень большие и очень маленькие последовательности\n",
    "\n",
    "Проверить range(Start, Stop), чтобы Start < Stop"
   ],
   "id": "4ad4e66539e2727"
  },
  {
   "metadata": {},
   "cell_type": "code",
   "outputs": [],
   "execution_count": null,
   "source": "",
   "id": "35d23b221560dce2"
  },
  {
   "metadata": {
    "ExecuteTime": {
     "end_time": "2024-11-18T10:25:57.406366Z",
     "start_time": "2024-11-18T10:25:57.404583Z"
    }
   },
   "cell_type": "code",
   "source": "check = qcs_df.Start < qcs_df.Stop",
   "id": "4290323d508ba76d",
   "outputs": [],
   "execution_count": 7
  },
  {
   "metadata": {
    "ExecuteTime": {
     "end_time": "2024-11-18T10:26:39.816457Z",
     "start_time": "2024-11-18T10:26:39.814334Z"
    }
   },
   "cell_type": "code",
   "source": "check.nunique()",
   "id": "8a623002d5334ad7",
   "outputs": [
    {
     "data": {
      "text/plain": [
       "1"
      ]
     },
     "execution_count": 13,
     "metadata": {},
     "output_type": "execute_result"
    }
   ],
   "execution_count": 13
  },
  {
   "metadata": {
    "ExecuteTime": {
     "end_time": "2024-11-18T10:29:22.502921Z",
     "start_time": "2024-11-18T10:29:22.498768Z"
    }
   },
   "cell_type": "code",
   "source": "qcs_df.loc[qcs_df[\"Acc\"] == \"JARPSD010000001.1\"]",
   "id": "943d3bed5f2fd11a",
   "outputs": [
    {
     "data": {
      "text/plain": [
       "                                         QC  Cluster                Acc  \\\n",
       "gi|2514662160|gb|JARPSD010000001.1|  0.3883        1  JARPSD010000001.1   \n",
       "\n",
       "                                     Strand    Start     Stop  \n",
       "gi|2514662160|gb|JARPSD010000001.1|       2  7188510  8410026  "
      ],
      "text/html": [
       "<div>\n",
       "<style scoped>\n",
       "    .dataframe tbody tr th:only-of-type {\n",
       "        vertical-align: middle;\n",
       "    }\n",
       "\n",
       "    .dataframe tbody tr th {\n",
       "        vertical-align: top;\n",
       "    }\n",
       "\n",
       "    .dataframe thead th {\n",
       "        text-align: right;\n",
       "    }\n",
       "</style>\n",
       "<table border=\"1\" class=\"dataframe\">\n",
       "  <thead>\n",
       "    <tr style=\"text-align: right;\">\n",
       "      <th></th>\n",
       "      <th>QC</th>\n",
       "      <th>Cluster</th>\n",
       "      <th>Acc</th>\n",
       "      <th>Strand</th>\n",
       "      <th>Start</th>\n",
       "      <th>Stop</th>\n",
       "    </tr>\n",
       "  </thead>\n",
       "  <tbody>\n",
       "    <tr>\n",
       "      <th>gi|2514662160|gb|JARPSD010000001.1|</th>\n",
       "      <td>0.3883</td>\n",
       "      <td>1</td>\n",
       "      <td>JARPSD010000001.1</td>\n",
       "      <td>2</td>\n",
       "      <td>7188510</td>\n",
       "      <td>8410026</td>\n",
       "    </tr>\n",
       "  </tbody>\n",
       "</table>\n",
       "</div>"
      ]
     },
     "execution_count": 14,
     "metadata": {},
     "output_type": "execute_result"
    }
   ],
   "execution_count": 14
  },
  {
   "metadata": {
    "ExecuteTime": {
     "end_time": "2024-11-18T10:30:14.924695Z",
     "start_time": "2024-11-18T10:30:14.922604Z"
    }
   },
   "cell_type": "code",
   "source": "print(blast_record[\"gi|2514662160|gb|JARPSD010000001.1|\"])",
   "id": "8be8fb528a4632fe",
   "outputs": [
    {
     "name": "stdout",
     "output_type": "stream",
     "text": [
      "Query: Query_719443\n",
      "       sbr-RA-gene\n",
      "  Hit: gi|2514662160|gb|JARPSD010000001.1| (length=32685500)\n",
      "       Drosophila kikkawai strain 14028-0561.14 chromosome X, whole genome\n",
      "       shotgun sequence\n",
      " HSPs: ----  --------  ---------  ------  ---------------  ---------------------\n",
      "          #   E-value  Bit score    Span      Query range              Hit range\n",
      "       ----  --------  ---------  ------  ---------------  ---------------------\n",
      "          0         0    1696.34    1825      [2170:3987]      [8408741:8406927]\n",
      "          1  7.5e-116     431.39     856     [9890:10718]      [8399803:8398959]\n",
      "          2     3e-50     213.49     793    [12389:13157]      [8396961:8396190]\n",
      "          3   2.3e-46     200.56     330        [668:993]      [8410026:8409703]\n",
      "          4     3e-35     163.62     253      [7462:7706]      [8402572:8402321]\n",
      "          5   2.4e-31     150.70     524      [2235:2751]      [7189026:7188510]\n",
      "          6   2.4e-31     150.70     525      [2235:2751]      [7297950:7297434]\n",
      "          7     3e-30     147.01     250    [13344:13591]      [8395989:8395741]\n",
      "          8   1.4e-18     108.23      87      [7197:7281]      [8402932:8402845]\n",
      "          9   6.7e-17     102.69      74      [8784:8858]      [8400909:8400836]\n",
      "         10   1.1e-09      78.68      52      [1532:1583]      [8409341:8409289]\n",
      "         11   1.5e-08      74.99      60      [5300:5359]      [8405296:8405238]\n",
      "         12   6.8e-07      69.45      40    [12075:12115]      [8397472:8397432]\n"
     ]
    }
   ],
   "execution_count": 16
  },
  {
   "metadata": {
    "ExecuteTime": {
     "end_time": "2024-11-18T10:31:00.464714Z",
     "start_time": "2024-11-18T10:31:00.460629Z"
    }
   },
   "cell_type": "code",
   "source": "qcs_df.loc[qcs_df[\"Acc\"] == \"JAECXM010000281.1\"]",
   "id": "416aed172a5114d7",
   "outputs": [
    {
     "data": {
      "text/plain": [
       "                                         QC  Cluster                Acc  \\\n",
       "gi|2030316345|gb|JAECXM010000281.1|  0.3523        1  JAECXM010000281.1   \n",
       "\n",
       "                                     Strand    Start     Stop  \n",
       "gi|2030316345|gb|JAECXM010000281.1|       2  2269971  3363902  "
      ],
      "text/html": [
       "<div>\n",
       "<style scoped>\n",
       "    .dataframe tbody tr th:only-of-type {\n",
       "        vertical-align: middle;\n",
       "    }\n",
       "\n",
       "    .dataframe tbody tr th {\n",
       "        vertical-align: top;\n",
       "    }\n",
       "\n",
       "    .dataframe thead th {\n",
       "        text-align: right;\n",
       "    }\n",
       "</style>\n",
       "<table border=\"1\" class=\"dataframe\">\n",
       "  <thead>\n",
       "    <tr style=\"text-align: right;\">\n",
       "      <th></th>\n",
       "      <th>QC</th>\n",
       "      <th>Cluster</th>\n",
       "      <th>Acc</th>\n",
       "      <th>Strand</th>\n",
       "      <th>Start</th>\n",
       "      <th>Stop</th>\n",
       "    </tr>\n",
       "  </thead>\n",
       "  <tbody>\n",
       "    <tr>\n",
       "      <th>gi|2030316345|gb|JAECXM010000281.1|</th>\n",
       "      <td>0.3523</td>\n",
       "      <td>1</td>\n",
       "      <td>JAECXM010000281.1</td>\n",
       "      <td>2</td>\n",
       "      <td>2269971</td>\n",
       "      <td>3363902</td>\n",
       "    </tr>\n",
       "  </tbody>\n",
       "</table>\n",
       "</div>"
      ]
     },
     "execution_count": 17,
     "metadata": {},
     "output_type": "execute_result"
    }
   ],
   "execution_count": 17
  },
  {
   "metadata": {
    "ExecuteTime": {
     "end_time": "2024-11-18T10:31:11.425188Z",
     "start_time": "2024-11-18T10:31:11.423104Z"
    }
   },
   "cell_type": "code",
   "source": "print(blast_record[\"gi|2030316345|gb|JAECXM010000281.1|\"])",
   "id": "1043729d18fc81e6",
   "outputs": [
    {
     "name": "stdout",
     "output_type": "stream",
     "text": [
      "Query: Query_719443\n",
      "       sbr-RA-gene\n",
      "  Hit: gi|2030316345|gb|JAECXM010000281.1| (length=27625346)\n",
      "       Drosophila kikkawai isolate 14028-0561.14 contig_284, whole genome\n",
      "       shotgun sequence\n",
      " HSPs: ----  --------  ---------  ------  ---------------  ---------------------\n",
      "          #   E-value  Bit score    Span      Query range              Hit range\n",
      "       ----  --------  ---------  ------  ---------------  ---------------------\n",
      "          0         0    1696.34    1825      [2170:3987]      [3362617:3360803]\n",
      "          1  7.5e-116     431.39     856     [9890:10718]      [3353679:3352835]\n",
      "          2     3e-50     213.49     793    [12389:13157]      [3350837:3350066]\n",
      "          3   2.3e-46     200.56     330        [668:993]      [3363902:3363579]\n",
      "          4     3e-35     163.62     253      [7462:7706]      [3356448:3356197]\n",
      "          5   2.4e-31     150.70     525      [2235:2751]      [2270487:2269971]\n",
      "          6     3e-30     147.01     250    [13344:13591]      [3349865:3349617]\n",
      "          7   1.4e-18     108.23      87      [7197:7281]      [3356808:3356721]\n",
      "          8   6.7e-17     102.69      74      [8784:8858]      [3354785:3354712]\n",
      "          9   1.1e-09      78.68      52      [1532:1583]      [3363217:3363165]\n",
      "         10   1.5e-08      74.99      60      [5300:5359]      [3359172:3359114]\n",
      "         11   6.8e-07      69.45      40    [12075:12115]      [3351351:3351311]\n"
     ]
    }
   ],
   "execution_count": 18
  }
 ],
 "metadata": {
  "kernelspec": {
   "display_name": "Python 3 (ipykernel)",
   "language": "python",
   "name": "python3"
  },
  "language_info": {
   "codemirror_mode": {
    "name": "ipython",
    "version": 3
   },
   "file_extension": ".py",
   "mimetype": "text/x-python",
   "name": "python",
   "nbconvert_exporter": "python",
   "pygments_lexer": "ipython3",
   "version": "3.12.6"
  }
 },
 "nbformat": 4,
 "nbformat_minor": 5
}
