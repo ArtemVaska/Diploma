{
 "cells": [
  {
   "cell_type": "code",
   "execution_count": 1,
   "id": "initial_id",
   "metadata": {
    "ExecuteTime": {
     "end_time": "2024-10-05T13:55:18.832697Z",
     "start_time": "2024-10-05T13:55:18.830822Z"
    }
   },
   "outputs": [],
   "source": [
    "from Bio import Entrez\n",
    "Entrez.email = \"artem_vasilev_01@list.ru\""
   ]
  },
  {
   "cell_type": "code",
   "execution_count": 2,
   "id": "daf1c8bf-db12-4d7c-968f-fcaac6e5cdc6",
   "metadata": {},
   "outputs": [],
   "source": [
    "handle = Entrez.esearch(db=\"pubmed\", term=\"nxf1\")"
   ]
  },
  {
   "cell_type": "code",
   "execution_count": 3,
   "id": "e27d975c-0923-43b8-9a9c-46638f3b68b1",
   "metadata": {},
   "outputs": [
    {
     "name": "stdout",
     "output_type": "stream",
     "text": [
      "{'Count': '284', 'RetMax': '20', 'RetStart': '0', 'IdList': ['39270556', '39108207', '38799568', '38768348', '38626369', '38593806', '38165804', '37909783', '37679383', '37628773', '37583452', '37540751', '37143720', '37069509', '36920996', '36857431', '36658633', '36040180', '35751040', '35589130'], 'TranslationSet': [], 'QueryTranslation': '\"nxf1\"[All Fields]'}\n"
     ]
    }
   ],
   "source": [
    "record = Entrez.read(handle)\n",
    "print(record)"
   ]
  },
  {
   "cell_type": "code",
   "execution_count": 8,
   "id": "604d645f-e8dd-4bec-ba2a-684a38f6c007",
   "metadata": {},
   "outputs": [
    {
     "name": "stdout",
     "output_type": "stream",
     "text": [
      "1. Biochem Biophys Res Commun. 2024 Aug 28;735:150608. doi: \n",
      "10.1016/j.bbrc.2024.150608. Online ahead of print.\n",
      "\n",
      "Interaction of CDK12 with NXF1 is a new node for the linking mechanism between \n",
      "transcription and transportation of mRNA.\n",
      "\n",
      "Ebara S(1), Yoshida M(2), Yamakawa H(1), Shimokawa K(2), Inoue Y(3), Tauchi \n",
      "H(4), Morishita D(5).\n",
      "\n",
      "Author information:\n",
      "(1)Department of Biological Sciences, Faculty of Science, Ibaraki University, \n",
      "Bunkyo 2-1-1, Mito, Ibaraki, 310-8512, Japan; Chordia Therapeutics Inc., \n",
      "Kanagawa, 251-0012, Japan.\n",
      "(2)Chordia Therapeutics Inc., Kanagawa, 251-0012, Japan.\n",
      "(3)Department of Cell Signaling, Graduate School of Pharmaceutical Sciences, \n",
      "Nagoya City University, Nagoya, 467-8603, Japan.\n",
      "(4)Department of Biological Sciences, Faculty of Science, Ibaraki University, \n",
      "Bunkyo 2-1-1, Mito, Ibaraki, 310-8512, Japan. Electronic address: \n",
      "hiroshi.tauchi.sci@vc.ibaraki.ac.jp.\n",
      "(5)Chordia Therapeutics Inc., Kanagawa, 251-0012, Japan. Electronic address: \n",
      "daisuke.morishita@chordiatherapeutics.com.\n",
      "\n",
      "The transcription and transportation of mRNA are coupled processes; however, the \n",
      "mechanisms linking these processes remain unclear. Additionally, the \n",
      "significance of this connection in cancer drug development is poorly understood. \n",
      "To address these issues, we investigated the role of CDK12 kinase, which \n",
      "regulates RNA transcription through the phosphorylation of RNA polymerase II \n",
      "(Pol II) and has a repeated serine-arginine dipeptide (RS domain) involved in \n",
      "mRNA transport. Despite the anticipated uniqueness of CDK12 function, the \n",
      "mechanism by which CDK12 bridges and manages mRNA transcription and transport \n",
      "has not been fully analyzed. Our study revealed that CDK12 interacts with NXF1, \n",
      "a key molecule involved in the export of mRNA from the nucleus to the cytosol. \n",
      "Although CDK12 does not phosphorylate NXF1, we found that NXF1 unexpectedly \n",
      "stabilized the CDK12 protein, suggesting that NXF1 mRNA export activity \n",
      "indirectly affects mRNA transcriptional activity by modifying the protein level \n",
      "of CDK12. Furthermore, CDK12 recruited other essential RNA transporters, \n",
      "specifically the exon junction complex (EJC) and THO complexes, into the \n",
      "CDK12-NXF1 axis through its kinase activity. These observations provide insights \n",
      "into the mechanisms linking mRNA transcription and transport through the \n",
      "formation of a novel CDK12-NXF1 complex that involves EJC and THO. Importantly, \n",
      "the expression level of NXF1 influences sensitivity to CDK12 inhibitors, which \n",
      "are emerging as novel anti-cancer drug candidates. This highlights the \n",
      "importance of considering the relationship between mRNA transcription and \n",
      "transport when targeting RNA transcription in cancer therapy.\n",
      "\n",
      "Copyright © 2024. Published by Elsevier Inc.\n",
      "\n",
      "DOI: 10.1016/j.bbrc.2024.150608\n",
      "PMID: 39270556\n",
      "\n",
      "Conflict of interest statement: Declaration of competing interest The authors \n",
      "declare the following financial interests/personal relationships which may be \n",
      "considered as potential competing interests: Daisuke Morishita reports a \n",
      "relationship with Chordia Therapeutics Inc. that includes: employment and equity \n",
      "or stocks. Shunsuke Ebara reports a relationship with Chordia Therapeutics Inc. \n",
      "that includes: employment and equity or stocks. Misaki Yoshida reports a \n",
      "relationship with Chordia Therapeutics Inc. that includes: employment. Hiroko \n",
      "Yamakawa reports a relationship with Chordia Therapeutics Inc. that includes: \n",
      "employment and equity or stocks. Kenichiro Shimokawa reports a relationship with \n",
      "Chordia Therapeutics Inc. that includes: employment and equity or stocks. If \n",
      "there are other authors, they declare that they have no known competing \n",
      "financial interests or personal relationships that could have appeared to \n",
      "influence the work reported in this paper.\n"
     ]
    }
   ],
   "source": [
    "mshandle = Entrez.efetch(\n",
    "db=\"pubmed\", id=record[\"IdList\"][0], rettype=\"abstract\", retmode=\"text\"\n",
    ")\n",
    "print(mshandle.read())"
   ]
  },
  {
   "cell_type": "markdown",
   "id": "8acfb485-52bc-47fa-9cb6-77a50ab56cac",
   "metadata": {},
   "source": [
    "---"
   ]
  },
  {
   "cell_type": "code",
   "execution_count": 9,
   "id": "b20c4624-98c0-4115-b5ca-d3a26d3912f2",
   "metadata": {},
   "outputs": [
    {
     "name": "stdout",
     "output_type": "stream",
     "text": [
      "{'Count': '1', 'RetMax': '1', 'RetStart': '0', 'IdList': ['7227'], 'TranslationSet': [], 'TranslationStack': [{'Term': 'drosophila melanogaster[All Names]', 'Field': 'All Names', 'Count': '1', 'Explode': 'N'}, 'GROUP'], 'QueryTranslation': 'drosophila melanogaster[All Names]'}\n",
      "['7227']\n"
     ]
    }
   ],
   "source": [
    "handle = Entrez.esearch(\n",
    "db=\"nucleotide\", term=\"nxf1 AND Drosophila melanogaster[orgn]\"\n",
    ") # db=\"genbank\" Error!!\n",
    "record = Entrez.read(handle)\n",
    "Entrez.efetch(db=\"nucleotide\", id=record[\"IdList\"])\n",
    "handle = Entrez.esearch(db=\"taxonomy\", term=\"Drosophila melanogaster\")\n",
    "record = Entrez.read(handle)\n",
    "print(record)\n",
    "print(record[\"IdList\"])"
   ]
  },
  {
   "cell_type": "markdown",
   "id": "fc1e344a-dc3a-435c-b528-beebfd67ad54",
   "metadata": {},
   "source": [
    "---"
   ]
  },
  {
   "cell_type": "code",
   "execution_count": 11,
   "id": "2f46937e-7c6d-40c3-8030-e7c9b51d0a95",
   "metadata": {},
   "outputs": [
    {
     "name": "stdout",
     "output_type": "stream",
     "text": [
      "20978541\tQ9VV73\t841\n",
      "13124798\tQ24168\t618\n",
      "1376014748\tA0A0B4K7J2\t2718\n",
      "20455240\tQ9VIW3\t596\n",
      "74948793\tQ9VYX1\t101\n",
      "74948518\tQ9VTL1\t395\n",
      "20978539\tQ9U1H9\t672\n",
      "18203549\tQ9V3H8\t133\n",
      "2282536378\tQ9U3V9\t2079\n",
      "1624698291\tNP_001356942\t536\n",
      "1624698289\tNP_001356941\t536\n",
      "17933682\tNP_524660\t672\n",
      "1622462254\tQCD25237\t536\n",
      "1622462253\tQCD25236\t536\n",
      "22832060\tAAF47959\t672\n",
      "1727108961\t6IHJ_D\t135\n",
      "1727108960\t6IHJ_B\t135\n",
      "1727108959\t6IHJ_C\t191\n",
      "1727108958\t6IHJ_A\t191\n",
      "1700031391\t6OPF_F\t98\n"
     ]
    }
   ],
   "source": [
    "handle = Entrez.esearch(db=\"protein\", term=\"nxf1 AND Drosophila melanogaster[orgn]\")\n",
    "record = Entrez.read(handle)\n",
    "for rec in record[\"IdList\"]:\n",
    "    temphandle = Entrez.read(Entrez.esummary(db=\"protein\", id=rec, retmode=\"text\"))\n",
    "    print(\n",
    "        temphandle[0][\"Id\"]\n",
    "        + \"\\t\"\n",
    "        + temphandle[0][\"Caption\"]\n",
    "        + \"\\t\"\n",
    "        + str(int(temphandle[0][\"Length\"]))\n",
    "    ) # +\"\\n\")"
   ]
  },
  {
   "cell_type": "markdown",
   "id": "fc21ce8e-f7f8-49f0-9e34-b2fb9412f573",
   "metadata": {},
   "source": [
    "---"
   ]
  },
  {
   "cell_type": "code",
   "execution_count": 14,
   "id": "687cc4c5-ee45-44ee-ba1c-825dbe62fc1b",
   "metadata": {},
   "outputs": [],
   "source": [
    "Entrez.efetch(db=\"protein\", id=record[\"IdList\"], retmode=\"text\", rettype=\"fasta\").read()\n",
    "\n",
    "with open(\"Drmel_nxf1.fa\", \"w\") as ouf:\n",
    "    for rec in record[\"IdList\"]:\n",
    "        lne = Entrez.efetch(\n",
    "            db=\"protein\", id=rec, retmode=\"text\", rettype=\"fasta\"\n",
    "        ).read()\n",
    "        ouf.write(lne + \"\\n\")"
   ]
  },
  {
   "cell_type": "code",
   "execution_count": null,
   "id": "d522a6e1-9107-4a1a-8260-7f307fb26408",
   "metadata": {},
   "outputs": [],
   "source": [
    "with open(\"Drmel_nxf1.fa\", \"r\") as fastaf:\n",
    "    snippet = [next(fastaf) for x in range(5)]\n",
    "    print(snippet)"
   ]
  },
  {
   "cell_type": "markdown",
   "id": "d0a4b60c-36d3-43c2-b115-e6bd94d04983",
   "metadata": {},
   "source": [
    "---"
   ]
  },
  {
   "cell_type": "code",
   "execution_count": 43,
   "id": "ce40ef7f-952c-46a1-b2d5-7703b9b2c791",
   "metadata": {},
   "outputs": [],
   "source": [
    "handle = Entrez.esearch(db=\"nucleotide\", term=\"nxf1 AND Drosophila melanogaster[orgn]\") # db=\"genbank\" Error!!\n",
    "record = Entrez.read(handle)"
   ]
  },
  {
   "cell_type": "code",
   "execution_count": 44,
   "id": "4b1b024e-8404-4e3d-98b9-24823fe4c05c",
   "metadata": {},
   "outputs": [
    {
     "data": {
      "text/plain": [
       "['1624698290', '1624698288', '669632474', '281360686', '667695275', '14456154', '14456089']"
      ]
     },
     "execution_count": 44,
     "metadata": {},
     "output_type": "execute_result"
    }
   ],
   "source": [
    "record[\"IdList\"]"
   ]
  },
  {
   "cell_type": "code",
   "execution_count": 45,
   "id": "6254ee49-929b-4b6d-a991-57cf9cee72b1",
   "metadata": {},
   "outputs": [
    {
     "name": "stdout",
     "output_type": "stream",
     "text": [
      "1624698290\tNM_001369982\t2147\n",
      "1624698288\tNM_001369981\t1910\n",
      "669632474\tNC_004354\t23542271\n",
      "281360686\tNM_079921\t3280\n",
      "667695275\tAE014298\t23542271\n",
      "14456154\tAJ318090\t2522\n",
      "14456089\tAJ312282\t2526\n"
     ]
    }
   ],
   "source": [
    "for rec in record[\"IdList\"]:\n",
    "    temphandle = Entrez.read(Entrez.esummary(db=\"nucleotide\", id=rec, retmode=\"text\"))\n",
    "    print(\n",
    "        temphandle[0][\"Id\"]\n",
    "        + \"\\t\"\n",
    "        + temphandle[0][\"Caption\"]\n",
    "        + \"\\t\"\n",
    "        + str(int(temphandle[0][\"Length\"]))\n",
    "    ) # +\"\\n\")"
   ]
  },
  {
   "cell_type": "markdown",
   "id": "2dc37077-8e0d-471f-9752-1c90b5599bdc",
   "metadata": {},
   "source": [
    "AE - NCBI - Genome project\n",
    "AJ - EBI - Direct submissions\n",
    "NM - curated RefSeq"
   ]
  },
  {
   "cell_type": "code",
   "execution_count": 47,
   "id": "2bc1b706-9975-401e-be8a-32cba8f74a9f",
   "metadata": {},
   "outputs": [],
   "source": [
    "with open(\"Dm_nxf1_transcript_var_A.fa\", \"w\") as outfile:\n",
    "    lne = Entrez.efetch(\n",
    "        db=\"nucleotide\", id=record[\"IdList\"][3], retmode=\"text\", rettype=\"fasta\"\n",
    "    ).read()\n",
    "    outfile.write(lne + \"\\n\")"
   ]
  },
  {
   "cell_type": "markdown",
   "id": "f7f1171d-2672-4d05-b8c9-016a260b2b2e",
   "metadata": {},
   "source": [
    "https://www.alliancegenome.org/gene/FB:FBgn0003321\n",
    "\n",
    "Sequence Details (Mode: cDNA)"
   ]
  },
  {
   "cell_type": "markdown",
   "id": "2cd40f98-ad92-4a4d-8fb7-1c7915b2ae03",
   "metadata": {},
   "source": [
    "---"
   ]
  },
  {
   "cell_type": "markdown",
   "id": "f323a7da-109b-4e65-b14c-000a365b5b4f",
   "metadata": {},
   "source": [
    "1. Найти референсные последовательности для sbr - https://www.alliancegenome.org/gene/FB:FBgn0003321 (Sequence Details (Mode: cDNA)):\n",
    "   - найти координаты гены на X хромосоме\n",
    "   - полная последовательность гена\n",
    "   - сплайсированный вариант\n",
    "   - консервативная кассета\n",
    "2. Написать срипт, который:\n",
    "   - ищет ген sbr / nxf1 в базе данных NCBI для семейства Drosophilidae\n",
    "   - выбирает из найденных только адекватные варианты и формирует из них БД для бласта\n",
    "3. Сделать бласт вариантов из 1-го пункта на варианты из второго пункта"
   ]
  },
  {
   "cell_type": "code",
   "execution_count": 41,
   "id": "b256ee44-84ea-444d-8d18-2c35ef01df00",
   "metadata": {},
   "outputs": [],
   "source": [
    "from functions import plain_to_fasta"
   ]
  },
  {
   "cell_type": "code",
   "execution_count": 42,
   "id": "983dc924-9950-404e-a5f2-006f5ea9870a",
   "metadata": {},
   "outputs": [],
   "source": [
    "path_to_plain_dir = \"/home/artemvaska/Master_degree/Diploma/References/\""
   ]
  },
  {
   "cell_type": "code",
   "execution_count": null,
   "id": "3279da4b-d325-4e19-ad8a-94c8a2c8ec17",
   "metadata": {},
   "outputs": [],
   "source": [
    "plain_to_fasta(path_to_plain_dir + \"sbr_RA_gene_plain.fa\", fasta_line_length=80, uppercase=True)"
   ]
  },
  {
   "cell_type": "code",
   "execution_count": 45,
   "id": "1a5a2f8a-a61e-468b-b7da-244a715c9e2b",
   "metadata": {},
   "outputs": [],
   "source": [
    "plain_to_fasta(path_to_plain_dir + \"sbr_RA_CDS_plain.fa\", fasta_line_length=80, uppercase=True)"
   ]
  },
  {
   "cell_type": "code",
   "execution_count": null,
   "id": "129a9612-2965-456c-8e67-91e8ff02c4f4",
   "metadata": {},
   "outputs": [],
   "source": []
  },
  {
   "cell_type": "code",
   "execution_count": null,
   "id": "1e45d057-6cc1-4a04-a8d4-121f26ed7b7c",
   "metadata": {},
   "outputs": [],
   "source": []
  },
  {
   "cell_type": "code",
   "execution_count": null,
   "id": "82422dc5-61e8-4153-b1e9-f1c24cce5a91",
   "metadata": {},
   "outputs": [],
   "source": []
  },
  {
   "cell_type": "code",
   "execution_count": null,
   "id": "08d2794b-3ede-4a0a-804f-99e9738e3c41",
   "metadata": {},
   "outputs": [],
   "source": []
  }
 ],
 "metadata": {
  "kernelspec": {
   "display_name": "Python 3 (ipykernel)",
   "language": "python",
   "name": "python3"
  },
  "language_info": {
   "codemirror_mode": {
    "name": "ipython",
    "version": 3
   },
   "file_extension": ".py",
   "mimetype": "text/x-python",
   "name": "python",
   "nbconvert_exporter": "python",
   "pygments_lexer": "ipython3",
   "version": "3.12.6"
  }
 },
 "nbformat": 4,
 "nbformat_minor": 5
}
