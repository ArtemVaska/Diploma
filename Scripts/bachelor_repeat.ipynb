{
 "cells": [
  {
   "metadata": {
    "ExecuteTime": {
     "end_time": "2024-10-17T15:48:39.193289Z",
     "start_time": "2024-10-17T15:48:39.190936Z"
    }
   },
   "cell_type": "code",
   "source": "from functions import nucl_search, save_esearch_results, plain_to_fasta",
   "id": "7dd1fddc287c67ad",
   "outputs": [],
   "execution_count": 60
  },
  {
   "metadata": {
    "ExecuteTime": {
     "end_time": "2024-10-17T15:48:42.234251Z",
     "start_time": "2024-10-17T15:48:42.232446Z"
    }
   },
   "cell_type": "code",
   "source": "query = \"(Drosophilidae[ORGN] NOT Drosophila melanogaster[ORGN]) AND (chromosome X[WORD] NOT PREDICTED[WORD] NOT gene[WORD]) AND 15000000:75000000[SLEN]\"",
   "id": "78eb5b22cb0070f7",
   "outputs": [],
   "execution_count": 61
  },
  {
   "metadata": {
    "ExecuteTime": {
     "end_time": "2024-10-17T15:48:49.905442Z",
     "start_time": "2024-10-17T15:48:49.331804Z"
    }
   },
   "cell_type": "code",
   "source": "id_list_test = nucl_search(query)",
   "id": "7d9115740e2aab21",
   "outputs": [],
   "execution_count": 62
  },
  {
   "metadata": {
    "ExecuteTime": {
     "end_time": "2024-10-17T15:49:19.349345Z",
     "start_time": "2024-10-17T15:48:54.687784Z"
    }
   },
   "cell_type": "code",
   "source": "save_esearch_results(id_list_test[:3], \"Drosophilidae\")",
   "id": "6ef5cc45df2366a3",
   "outputs": [],
   "execution_count": 63
  },
  {
   "cell_type": "markdown",
   "id": "2dc37077-8e0d-471f-9752-1c90b5599bdc",
   "metadata": {},
   "source": [
    "AE - NCBI - Genome project\n",
    "AJ - EBI - Direct submissions\n",
    "NM - curated RefSeq"
   ]
  },
  {
   "cell_type": "markdown",
   "id": "f7f1171d-2672-4d05-b8c9-016a260b2b2e",
   "metadata": {},
   "source": [
    "https://www.alliancegenome.org/gene/FB:FBgn0003321\n",
    "\n",
    "Sequence Details (Mode: cDNA)"
   ]
  },
  {
   "cell_type": "markdown",
   "id": "2cd40f98-ad92-4a4d-8fb7-1c7915b2ae03",
   "metadata": {},
   "source": [
    "---"
   ]
  },
  {
   "cell_type": "markdown",
   "id": "f323a7da-109b-4e65-b14c-000a365b5b4f",
   "metadata": {},
   "source": [
    "1. Найти референсные последовательности для sbr - https://www.alliancegenome.org/gene/FB:FBgn0003321 (Sequence Details (Mode: cDNA)):\n",
    "   - найти координаты гены на X хромосоме\n",
    "   - полная последовательность гена\n",
    "   - сплайсированный вариант\n",
    "   - консервативная кассета\n",
    "2. Написать срипт, который:\n",
    "   - ищет ген sbr / nxf1 в базе данных NCBI для семейства Drosophilidae\n",
    "   - выбирает из найденных только адекватные варианты и формирует из них БД для бласта\n",
    "3. Сделать бласт вариантов из 1-го пункта на варианты из второго пункта"
   ]
  },
  {
   "cell_type": "code",
   "execution_count": 42,
   "id": "983dc924-9950-404e-a5f2-006f5ea9870a",
   "metadata": {},
   "outputs": [],
   "source": [
    "path_to_plain_dir = \"/home/artemvaska/Master_degree/Diploma/References/\""
   ]
  },
  {
   "cell_type": "code",
   "execution_count": null,
   "id": "3279da4b-d325-4e19-ad8a-94c8a2c8ec17",
   "metadata": {},
   "outputs": [],
   "source": [
    "plain_to_fasta(path_to_plain_dir + \"sbr_RA_gene_plain.fa\", fasta_line_length=80, uppercase=True)"
   ]
  },
  {
   "cell_type": "code",
   "execution_count": 45,
   "id": "1a5a2f8a-a61e-468b-b7da-244a715c9e2b",
   "metadata": {},
   "outputs": [],
   "source": [
    "plain_to_fasta(path_to_plain_dir + \"sbr_RA_CDS_plain.fa\", fasta_line_length=80, uppercase=True)"
   ]
  },
  {
   "cell_type": "code",
   "execution_count": null,
   "id": "129a9612-2965-456c-8e67-91e8ff02c4f4",
   "metadata": {},
   "outputs": [],
   "source": []
  },
  {
   "cell_type": "code",
   "execution_count": 52,
   "id": "f6c11861-b832-457a-8993-5c7f196eff30",
   "metadata": {},
   "outputs": [],
   "source": [
    "SBR_CONSERVATIVE_CASSETTE = 'ATACCATCTTTGGCCCACCTTGTAGTGCTTCGCAATCTGTCCATCTTGGAACTCGTTTTAAAGAACAATCCCTGCCGTTCCCGCTACAAGGATTCCCAGCAGTTTATCAGGTATACTATGGTGTGATTCGTTGATCTTCTAACTTTTCTAGTGGATGCTGCCGCATATTCGACGTGGGATTTGTCGCGTCTGGAGTTACAGAGGAATTAGGATTACCACATTTCCATTGTTCTGTTGTCTCCATTCCTTTTCTTTGAAGCAAATGCGCTGCAGAATTGGGGACCAAGGTCAGGTGTTGCCTTCGTCCAAAGTTTAAAGCAGCTGAGCAGGCAAAGGCATTTGGGAAATATTTTCCTTATCAGCTGTCTTAAAGCCAGGACAGATCGTATGCAGCGGAATGGATTTTGGGCAGAGCAAAAAAAAAAAAAAGAAGAAAGAAAAAAAAAGATTTGAAGTTAAAAAAAAAAAAGAAAAAAAAAGAAGAAAAAAAAAGAAAAAAAAGTACAAGCAAAAAAGGCCCAAGCCAATTGCAGTAAACTTTCGACGATGTGGCAACGCTAAACTAAGAACGCAACTGTACTTTTGACACACACACACCGGCACCGTTCGTACTTCCAATTGAGCAGGCGGACGTGCAGCAGTCCCAAAGCGAATCACATTAACGCATTAACATCGACAAATATAAATTATTTTACGAATAACAAATAATCCACCGAACCCACCCACCGCGCACCCCGCTACAACACACACACGGGCGCACGCATGTAGCCACTCCACGCCAGCGCACGCACGCATGCGCATGCGCATATGCAGTTGTGTACGTGCCACATCTAATGCTGCGTGCCCTGTGCGCGCCGTTGCGCCTTGCATTGTCGTGTCGCCGCTTGTTGATTTTGCGGTGGTTGCCAAGTAGTGGAGGCAGAGTGGAGTGCATAGGCTCACCATTCGGGTGCGCAGCGTCCAGCAGGAAGCAGAAACGACTACCAAGACGAAGGACACACCACTGACTGACTCACGTGCTAACGGACATTCTGCTGGCGCCAGCGGCCGGCGCGTTGTTTTGCCAGTCGATTACAATTTACAATTAGTATTTTCGGCTTTGTTGGGCGCATGAGCCGCCTGCGGATGCGACGTGCTTGAACATGACGAGACGAACAGAAGTTACACAGCAGTCAGCTTTGAAAGCCACTTTTTGCTTGTGGCCACTGAAAGAAAAAACAAAAAAAAAAAAATGAAAAAAAGGAAAAGAAAAAAGTGTTGATAAAAAAAAAAAAACAAAAAATACAAAAGAGAAAATACCACAAAAAAGATGCCCCGGCACAATGCACTGCTCAATTGTACTTTTCCGCTGTACTTTTCACATCGAACTATTGAAGGCACAACAATGGCCAAGCACCTAGTGCCTCTGCCTCTTCAGCTGATCAAAGCTCCGCCAATTTGTGTGTGAGCCGGTCGAGTAACGGTGAAGCTATATCAAAGATACAAACATATATACTCCGCGTGAGAAGAAGAAGGAGTCACATCTGGCCACTGACTAATCTGCAATTCCTGCAGCGCATACATCCTAAACCTCCCCCCCCCCCCACCAACGCACAAATTTAAAAAAAAAACCCCCATTTAATTATTATTTCTCGCTATTTAACTCGCATATCTATCATCGCCTCCCTGTGCTAATGACAACAAAAATACGGCCGAATGTCCACTATTTACAGCGAAGTACGTCGCAAGTTTCCCAAACTGGTTAAGTTG'"
   ]
  },
  {
   "cell_type": "code",
   "execution_count": 55,
   "id": "c89a9238-af07-4d64-92a8-dc59d6d3ecad",
   "metadata": {},
   "outputs": [],
   "source": [
    "SBR_CASSETTE_INTRON = 'GTATACTATGGTGTGATTCGTTGATCTTCTAACTTTTCTAGTGGATGCTGCCGCATATTCGACGTGGGATTTGTCGCGTCTGGAGTTACAGAGGAATTAGGATTACCACATTTCCATTGTTCTGTTGTCTCCATTCCTTTTCTTTGAAGCAAATGCGCTGCAGAATTGGGGACCAAGGTCAGGTGTTGCCTTCGTCCAAAGTTTAAAGCAGCTGAGCAGGCAAAGGCATTTGGGAAATATTTTCCTTATCAGCTGTCTTAAAGCCAGGACAGATCGTATGCAGCGGAATGGATTTTGGGCAGAGCAAAAAAAAAAAAAAGAAGAAAGAAAAAAAAAGATTTGAAGTTAAAAAAAAAAAAGAAAAAAAAAGAAGAAAAAAAAAGAAAAAAAAGTACAAGCAAAAAAGGCCCAAGCCAATTGCAGTAAACTTTCGACGATGTGGCAACGCTAAACTAAGAACGCAACTGTACTTTTGACACACACACACCGGCACCGTTCGTACTTCCAATTGAGCAGGCGGACGTGCAGCAGTCCCAAAGCGAATCACATTAACGCATTAACATCGACAAATATAAATTATTTTACGAATAACAAATAATCCACCGAACCCACCCACCGCGCACCCCGCTACAACACACACACGGGCGCACGCATGTAGCCACTCCACGCCAGCGCACGCACGCATGCGCATGCGCATATGCAGTTGTGTACGTGCCACATCTAATGCTGCGTGCCCTGTGCGCGCCGTTGCGCCTTGCATTGTCGTGTCGCCGCTTGTTGATTTTGCGGTGGTTGCCAAGTAGTGGAGGCAGAGTGGAGTGCATAGGCTCACCATTCGGGTGCGCAGCGTCCAGCAGGAAGCAGAAACGACTACCAAGACGAAGGACACACCACTGACTGACTCACGTGCTAACGGACATTCTGCTGGCGCCAGCGGCCGGCGCGTTGTTTTGCCAGTCGATTACAATTTACAATTAGTATTTTCGGCTTTGTTGGGCGCATGAGCCGCCTGCGGATGCGACGTGCTTGAACATGACGAGACGAACAGAAGTTACACAGCAGTCAGCTTTGAAAGCCACTTTTTGCTTGTGGCCACTGAAAGAAAAAACAAAAAAAAAAAAATGAAAAAAAGGAAAAGAAAAAAGTGTTGATAAAAAAAAAAAAACAAAAAATACAAAAGAGAAAATACCACAAAAAAGATGCCCCGGCACAATGCACTGCTCAATTGTACTTTTCCGCTGTACTTTTCACATCGAACTATTGAAGGCACAACAATGGCCAAGCACCTAGTGCCTCTGCCTCTTCAGCTGATCAAAGCTCCGCCAATTTGTGTGTGAGCCGGTCGAGTAACGGTGAAGCTATATCAAAGATACAAACATATATACTCCGCGTGAGAAGAAGAAGGAGTCACATCTGGCCACTGACTAATCTGCAATTCCTGCAGCGCATACATCCTAAACCTCCCCCCCCCCCCACCAACGCACAAATTTAAAAAAAAAACCCCCATTTAATTATTATTTCTCGCTATTTAACTCGCATATCTATCATCGCCTCCCTGTGCTAATGACAACAAAAATACGGCCGAATGTCCACTATTTACAG'"
   ]
  },
  {
   "cell_type": "code",
   "execution_count": null,
   "id": "e21936fb-51f1-4a56-aa7f-4ef573175c72",
   "metadata": {},
   "outputs": [],
   "source": []
  },
  {
   "cell_type": "code",
   "execution_count": 71,
   "id": "dcbbf336-d510-433a-a50c-f40a8c11814a",
   "metadata": {},
   "outputs": [],
   "source": [
    "def read_fasta(file: str) -> dict:\n",
    "    seqs = {}\n",
    "    seq = []\n",
    "    with open(file) as infile:\n",
    "        for line in infile:\n",
    "            line = line.strip()\n",
    "            if line.startswith(\">\"):\n",
    "                header = line[1:]\n",
    "            else:\n",
    "                seq.append(line)\n",
    "    seqs[header] = \"\".join(seq)\n",
    "    return seqs"
   ]
  },
  {
   "cell_type": "code",
   "execution_count": 75,
   "id": "54a33468-a7aa-46ea-b2df-9d51176c9380",
   "metadata": {},
   "outputs": [],
   "source": [
    "sbr_gene = read_fasta(\"../References/sbr_RA_CDS.fa\")"
   ]
  },
  {
   "cell_type": "code",
   "execution_count": null,
   "id": "022c69a3-fde8-4efc-a061-c76eca8cd2cd",
   "metadata": {},
   "outputs": [],
   "source": []
  },
  {
   "cell_type": "code",
   "execution_count": 79,
   "id": "82d183cf-a1bc-4d98-a226-70225b62c79f",
   "metadata": {},
   "outputs": [
    {
     "data": {
      "text/plain": [
       "'ATGCCCAAACGCGGCGGTGGCAGTAGCCAGCGGTACAACAACAACGTTGGAAATGGCGGCGGACGTTACAACGCTCCCGAGGATTTCGATGATTTTGGTCATGTGGAGGATCGCCAGCGACGCAAGGATCGAAACAAGCGGCGCGTCAGCTTTAAGCCCTCCCAATGTCTACATAACAAAAAGGACATCAAGCTGCGACCCGAAGATTTGCGTCGATGGGACGAGGATGATGACATGAGCGACATGACCACGGCCGTTAAGGATAGACCCACCTCCCGACGTCGGGGATCGCCCATTCCGCGCGGCAAGTTCGGCAAACTGATGCCCAACAGCTTTGGCTGGTACCAAGTCACGTTACAAAACGCCCAGATATACGAAAAGGAAACACTCTTGAGTGCTCTATTGGCAGCGATGTCGCCACATGTCTTTATTCCTCAATATTGGCGAGTGGAGCGAAACTGCGTAATCTTCTTTACGGACGACTACGAGGCAGCCGAACGCATTCAACATCTGGGCAAGAATGGCCATCTTCCAGATGGCTATCGTCTGATGCCACGAGTACGCAGCGGTATACCACTAGTGGCCATCGACGATGCCTTCAAGGAGAAGATGAAGGTCACAATGGCCAAGCGTTACAATATTCAAACCAAGGCGCTGGATCTTTCCCGTTTTCATGCAGATCCGGATCTTAAGCAAGTTTTCTGCCCACTCTTTCGTCAGAATGTGATGGGCGCTGCCATTGACATTATGTGCGACAATATACCCGATTTGGAGGCACTTAACCTGAATGACAACTCCATTAGCAGCATGGAGGCGTTTAAGGGTGTGGAGAAACGCTTACCGAACCTCAAGATTCTCTATTTGGGGGATAACAAGATACCATCTTTGGCCCACCTTGTAGTGCTTCGCAATCTGTCCATCTTGGAACTCGTTTTAAAGAACAATCCCTGCCGTTCCCGCTACAAGGATTCCCAGCAGTTTATCAGCGAAGTACGTCGCAAGTTTCCCAAACTGGTTAAGTTGGACGGAGAGACCCTGGAGCCGCAAATCACATTTGATCTATCCGAGCAGGGACGTCTTCTCGAAACGAAGGCATCCTATCTGTGCGACGTCGCTGGTGCCGAGGTGGTGCGCCAGTTCCTGGACCAGTACTTCCGCATATTTGACTCGGGCAATCGGCAAGCTCTGCTAGATGCCTACCATGAGAAAGCGATGCTCTCCATATCAATGCCTTCGGCCAGTCAGGCGGGCAGATTGAACAGTTTCTGGAAGTTCAATCGCAATCTCCGGCGCTTGTTAAACGGCGAAGAGAATCGCACCCGAAACTTGAAGTACGGACGCCTGGCATGTGTTTCCACATTGGATGAATGGCCAAAAACGCAGCACGACCGACGCACCTTCACCGTCGACCTGACCATCTACAATACTTCAATGATGGTTTTCACCGTGACGGGATTATTCAAAGAGCTGAACGACGAGACCAACAATCCCGCCTCCATGGAATTATATGACGTTCGCCACTTTGCCCGCACCTACGTGGTGGTGCCACAGAATAATGGCTTTTGTATCCGCAACGAGACGATCTTCATCACAAACGCTACGCACGAGCAGGTGCGAGAGTTCAAGCGATCGCAGCACCAGCCTGCTCCCGGAGCTATGCCCTCCACTTCCAGTGCAGTGACCAGTCCTCAGGCCGGGGCAGCGGCGGGTCTGCAGGGTCGTCTGAATGCGTTGGGCGTGGCCACTGGACCGGTGGCTATACTATCAGGAGATCCGTTGGCGGCCACCGCACCGGTTAACAGCGGCAGTGCCGCCATATCGACAACAGCAGTGGCACCTGGCGCCCAGGATGAGAGCACTAAAATGCAAATGATTGAAGCCATGAGCGCCCAAAGCCAAATGAATGTGATCTGGAGTCGGAAATGCCTGGAGGAAACGAATTGGGACTTTAACCATGCCGCCTTTGTGTTCGAGAAACTATTCAAGGAAAACAAAATACCGCCTGAGGCTTTTATGAAG'"
      ]
     },
     "execution_count": 79,
     "metadata": {},
     "output_type": "execute_result"
    }
   ],
   "source": [
    "sbr_gene['sbr-RA-cds']"
   ]
  },
  {
   "cell_type": "code",
   "execution_count": null,
   "id": "3806a017-96d0-4a32-9ad1-884f8bc5629e",
   "metadata": {},
   "outputs": [],
   "source": []
  },
  {
   "cell_type": "markdown",
   "id": "2fb6e5dc-785f-413e-b521-d5fb4726b50f",
   "metadata": {},
   "source": [
    "https://biopython.org/docs/dev/Tutorial/chapter_blast.html"
   ]
  },
  {
   "cell_type": "code",
   "execution_count": 1,
   "id": "003a4ced-bd30-4e05-a07a-01963a07511d",
   "metadata": {},
   "outputs": [],
   "source": [
    "from Bio import Blast"
   ]
  },
  {
   "cell_type": "code",
   "execution_count": 2,
   "id": "a887c259-6b58-48af-99b4-9fa4e99604e0",
   "metadata": {},
   "outputs": [
    {
     "data": {
      "text/plain": [
       "'biopython'"
      ]
     },
     "execution_count": 2,
     "metadata": {},
     "output_type": "execute_result"
    }
   ],
   "source": [
    "Blast.tool"
   ]
  },
  {
   "cell_type": "code",
   "execution_count": 3,
   "id": "d2bfb779-86a8-467f-af74-6129c554d36c",
   "metadata": {},
   "outputs": [],
   "source": [
    "Blast.email = \"artem_vasilev_01@list.ru\""
   ]
  },
  {
   "cell_type": "code",
   "execution_count": 4,
   "id": "695f2770-0f13-4fad-a676-c81a10060054",
   "metadata": {},
   "outputs": [],
   "source": [
    "fasta_string = open(\"../References/sbr_RA_gene.fa\").read()"
   ]
  },
  {
   "cell_type": "code",
   "execution_count": null,
   "id": "dadae7ff-c0d3-42a5-a632-ccfc768b6f8c",
   "metadata": {},
   "outputs": [],
   "source": [
    "\"all [filter] NOT(environmental samples[organism] OR metagenomes[orgn]) AND txid3702[ORGN] AND txid9606[ORGN]\""
   ]
  },
  {
   "cell_type": "code",
   "execution_count": 67,
   "id": "5341bf68-1427-4c64-bc52-8e47bdd43e32",
   "metadata": {},
   "outputs": [],
   "source": [
    "result_stream = Blast.qblast(program=\"blastn\",\n",
    "                             database=\"wgs\",\n",
    "                             sequence=fasta_string,\n",
    "                             entrez_query=\"Drosophilidae AND NOT Drosophila melanogaster\",\n",
    "                             megablast=True)"
   ]
  },
  {
   "cell_type": "markdown",
   "id": "7009ce93-5065-4102-b053-7af3a185b5b9",
   "metadata": {},
   "source": [
    "Проблемы: \n",
    "\n",
    "- параметр database м.б. только \"nt\"\n",
    "- не удается сделать exclude в entrez_query"
   ]
  },
  {
   "cell_type": "markdown",
   "id": "b6e94cda-a7b2-459f-ab3a-5e582e87884a",
   "metadata": {},
   "source": [
    "Решение:\n",
    "\n",
    "- cmd tool blast+ с кастомной базой данных\n",
    "- cmd blast+ -remote\n",
    "- просто ncbi blastn"
   ]
  },
  {
   "cell_type": "markdown",
   "id": "07ab4a02-efa4-4caa-a01d-f0aab0be695f",
   "metadata": {},
   "source": [
    "Drosophilidae (taxid:7214)\n",
    "\n",
    "Drosophila melanogaster (taxid:7227)\n",
    "\n",
    "https://biochem.slu.edu/bchm628/handouts/2013/Entrez_boolian_searches.pdf"
   ]
  },
  {
   "cell_type": "code",
   "execution_count": null,
   "id": "cc3fc2ba-719c-4ba3-a788-649f515c3702",
   "metadata": {
    "scrolled": true
   },
   "outputs": [],
   "source": [
    "with open(\"sbr_RA_gene_blast.xml\", \"wb\") as out_stream:\n",
    "    out_stream.write(result_stream.read())\n",
    "result_stream.close()\n",
    "\n",
    "result_stream = open(\"sbr_RA_gene_blast.xml\", \"rb\")\n",
    "\n",
    "blast_record = Blast.read(result_stream)"
   ]
  },
  {
   "cell_type": "code",
   "execution_count": 77,
   "id": "b04221a8-5ab9-4f96-abc8-29a6c59d2d20",
   "metadata": {},
   "outputs": [
    {
     "data": {
      "text/plain": [
       "<Bio.Blast.Record query.id='Query_6742799'; no hits>"
      ]
     },
     "execution_count": 77,
     "metadata": {},
     "output_type": "execute_result"
    }
   ],
   "source": [
    "blast_record"
   ]
  },
  {
   "cell_type": "code",
   "execution_count": 78,
   "id": "d07357e8-f0ad-4e4b-8d0a-7fcaa88f2b61",
   "metadata": {},
   "outputs": [
    {
     "name": "stdout",
     "output_type": "stream",
     "text": [
      "Program: BLASTN 2.16.0+\n",
      "     db: wgs\n",
      "  Query: Query_6742799 (length=14341)\n",
      "         sbr-RA-gene\n",
      "   Hits: No hits found\n"
     ]
    }
   ],
   "source": [
    "print(blast_record)"
   ]
  },
  {
   "metadata": {},
   "cell_type": "markdown",
   "source": [
    "Установка blast+ на linux (https://www.ncbi.nlm.nih.gov/books/NBK52640/):\n",
    "\n",
    "1. https://ftp.ncbi.nlm.nih.gov/blast/executables/LATEST/ (ncbi-blast-2.16.0+-x64-linux.tar.gz)\n",
    "2. `mv ~/Downloads/ncbi-blast-2.16.0+-x64-linux.tar.gz ~`\n",
    "3. `tar zxvpf ncbi-blast-2.16.0+-x64-linux.tar.gz`\n",
    "4. `export PATH=$PATH:$HOME/ncbi-blast-2.16.0+/bin`\n",
    "5. `mkdir $HOME/blastdb`\n",
    "6. `export BLASTDB=$HOME/blastdb`\n",
    "7. export into bash_profile (`nano .bash_profile`)"
   ],
   "id": "673f1e5900543e50"
  },
  {
   "cell_type": "markdown",
   "id": "e7c57533-e0a8-4f14-8193-a496c3fd6c93",
   "metadata": {},
   "source": "blastn -db nt -query References/sbr_RA_gene.fa -out References/test.out -remote"
  },
  {
   "cell_type": "markdown",
   "id": "ac7ff4d1-c3c5-4cbe-b201-e2e6e6715b9f",
   "metadata": {},
   "source": [
    "Available DB in NCBI blastn -remote:\n",
    "\n",
    "https://rc.dartmouth.edu/index.php/blast-introduction/blast-databases/"
   ]
  },
  {
   "cell_type": "markdown",
   "id": "7a7d3112-1f25-4e5c-b6d9-62c42661acea",
   "metadata": {},
   "source": [
    "blastn -db nt -query References/sbr_RA_gene.fa -out References/test3.out -remote -entrez_query \"NOT Drosophila melanogaster AND Drosophilidae\""
   ]
  },
  {
   "cell_type": "markdown",
   "id": "a72c0ec1-181b-41f6-9ef7-2d9963486f03",
   "metadata": {},
   "source": [
    "Попробовать распарсить XML результат бласта, полученный 1) через cmd, 2) через веб-сервис NCBI\n",
    "\n",
    "Попробовать скачать wgs db локально"
   ]
  },
  {
   "cell_type": "code",
   "execution_count": null,
   "id": "c0d10bae-cce7-45be-a7c0-5cf5913ad8b2",
   "metadata": {},
   "outputs": [],
   "source": []
  }
 ],
 "metadata": {
  "kernelspec": {
   "display_name": "Python 3 (ipykernel)",
   "language": "python",
   "name": "python3"
  },
  "language_info": {
   "codemirror_mode": {
    "name": "ipython",
    "version": 3
   },
   "file_extension": ".py",
   "mimetype": "text/x-python",
   "name": "python",
   "nbconvert_exporter": "python",
   "pygments_lexer": "ipython3",
   "version": "3.12.6"
  }
 },
 "nbformat": 4,
 "nbformat_minor": 5
}
