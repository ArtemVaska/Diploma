{
 "cells": [
  {
   "cell_type": "code",
   "execution_count": 1,
   "id": "initial_id",
   "metadata": {
    "ExecuteTime": {
     "end_time": "2024-10-05T13:55:18.832697Z",
     "start_time": "2024-10-05T13:55:18.830822Z"
    }
   },
   "outputs": [],
   "source": [
    "from Bio import Entrez\n",
    "Entrez.email = \"artem_vasilev_01@list.ru\""
   ]
  },
  {
   "cell_type": "code",
   "execution_count": 2,
   "id": "daf1c8bf-db12-4d7c-968f-fcaac6e5cdc6",
   "metadata": {},
   "outputs": [],
   "source": [
    "handle = Entrez.esearch(db=\"pubmed\", term=\"nxf1\")"
   ]
  },
  {
   "cell_type": "code",
   "execution_count": 3,
   "id": "e27d975c-0923-43b8-9a9c-46638f3b68b1",
   "metadata": {},
   "outputs": [
    {
     "name": "stdout",
     "output_type": "stream",
     "text": [
      "{'Count': '284', 'RetMax': '20', 'RetStart': '0', 'IdList': ['39270556', '39108207', '38799568', '38768348', '38626369', '38593806', '38165804', '37909783', '37679383', '37628773', '37583452', '37540751', '37143720', '37069509', '36920996', '36857431', '36658633', '36040180', '35751040', '35589130'], 'TranslationSet': [], 'QueryTranslation': '\"nxf1\"[All Fields]'}\n"
     ]
    }
   ],
   "source": [
    "record = Entrez.read(handle)\n",
    "print(record)"
   ]
  },
  {
   "cell_type": "code",
   "execution_count": 8,
   "id": "604d645f-e8dd-4bec-ba2a-684a38f6c007",
   "metadata": {},
   "outputs": [
    {
     "name": "stdout",
     "output_type": "stream",
     "text": [
      "1. Biochem Biophys Res Commun. 2024 Aug 28;735:150608. doi: \n",
      "10.1016/j.bbrc.2024.150608. Online ahead of print.\n",
      "\n",
      "Interaction of CDK12 with NXF1 is a new node for the linking mechanism between \n",
      "transcription and transportation of mRNA.\n",
      "\n",
      "Ebara S(1), Yoshida M(2), Yamakawa H(1), Shimokawa K(2), Inoue Y(3), Tauchi \n",
      "H(4), Morishita D(5).\n",
      "\n",
      "Author information:\n",
      "(1)Department of Biological Sciences, Faculty of Science, Ibaraki University, \n",
      "Bunkyo 2-1-1, Mito, Ibaraki, 310-8512, Japan; Chordia Therapeutics Inc., \n",
      "Kanagawa, 251-0012, Japan.\n",
      "(2)Chordia Therapeutics Inc., Kanagawa, 251-0012, Japan.\n",
      "(3)Department of Cell Signaling, Graduate School of Pharmaceutical Sciences, \n",
      "Nagoya City University, Nagoya, 467-8603, Japan.\n",
      "(4)Department of Biological Sciences, Faculty of Science, Ibaraki University, \n",
      "Bunkyo 2-1-1, Mito, Ibaraki, 310-8512, Japan. Electronic address: \n",
      "hiroshi.tauchi.sci@vc.ibaraki.ac.jp.\n",
      "(5)Chordia Therapeutics Inc., Kanagawa, 251-0012, Japan. Electronic address: \n",
      "daisuke.morishita@chordiatherapeutics.com.\n",
      "\n",
      "The transcription and transportation of mRNA are coupled processes; however, the \n",
      "mechanisms linking these processes remain unclear. Additionally, the \n",
      "significance of this connection in cancer drug development is poorly understood. \n",
      "To address these issues, we investigated the role of CDK12 kinase, which \n",
      "regulates RNA transcription through the phosphorylation of RNA polymerase II \n",
      "(Pol II) and has a repeated serine-arginine dipeptide (RS domain) involved in \n",
      "mRNA transport. Despite the anticipated uniqueness of CDK12 function, the \n",
      "mechanism by which CDK12 bridges and manages mRNA transcription and transport \n",
      "has not been fully analyzed. Our study revealed that CDK12 interacts with NXF1, \n",
      "a key molecule involved in the export of mRNA from the nucleus to the cytosol. \n",
      "Although CDK12 does not phosphorylate NXF1, we found that NXF1 unexpectedly \n",
      "stabilized the CDK12 protein, suggesting that NXF1 mRNA export activity \n",
      "indirectly affects mRNA transcriptional activity by modifying the protein level \n",
      "of CDK12. Furthermore, CDK12 recruited other essential RNA transporters, \n",
      "specifically the exon junction complex (EJC) and THO complexes, into the \n",
      "CDK12-NXF1 axis through its kinase activity. These observations provide insights \n",
      "into the mechanisms linking mRNA transcription and transport through the \n",
      "formation of a novel CDK12-NXF1 complex that involves EJC and THO. Importantly, \n",
      "the expression level of NXF1 influences sensitivity to CDK12 inhibitors, which \n",
      "are emerging as novel anti-cancer drug candidates. This highlights the \n",
      "importance of considering the relationship between mRNA transcription and \n",
      "transport when targeting RNA transcription in cancer therapy.\n",
      "\n",
      "Copyright © 2024. Published by Elsevier Inc.\n",
      "\n",
      "DOI: 10.1016/j.bbrc.2024.150608\n",
      "PMID: 39270556\n",
      "\n",
      "Conflict of interest statement: Declaration of competing interest The authors \n",
      "declare the following financial interests/personal relationships which may be \n",
      "considered as potential competing interests: Daisuke Morishita reports a \n",
      "relationship with Chordia Therapeutics Inc. that includes: employment and equity \n",
      "or stocks. Shunsuke Ebara reports a relationship with Chordia Therapeutics Inc. \n",
      "that includes: employment and equity or stocks. Misaki Yoshida reports a \n",
      "relationship with Chordia Therapeutics Inc. that includes: employment. Hiroko \n",
      "Yamakawa reports a relationship with Chordia Therapeutics Inc. that includes: \n",
      "employment and equity or stocks. Kenichiro Shimokawa reports a relationship with \n",
      "Chordia Therapeutics Inc. that includes: employment and equity or stocks. If \n",
      "there are other authors, they declare that they have no known competing \n",
      "financial interests or personal relationships that could have appeared to \n",
      "influence the work reported in this paper.\n"
     ]
    }
   ],
   "source": [
    "mshandle = Entrez.efetch(\n",
    "db=\"pubmed\", id=record[\"IdList\"][0], rettype=\"abstract\", retmode=\"text\"\n",
    ")\n",
    "print(mshandle.read())"
   ]
  },
  {
   "cell_type": "markdown",
   "id": "8acfb485-52bc-47fa-9cb6-77a50ab56cac",
   "metadata": {},
   "source": [
    "---"
   ]
  },
  {
   "cell_type": "code",
   "execution_count": 9,
   "id": "b20c4624-98c0-4115-b5ca-d3a26d3912f2",
   "metadata": {},
   "outputs": [
    {
     "name": "stdout",
     "output_type": "stream",
     "text": [
      "{'Count': '1', 'RetMax': '1', 'RetStart': '0', 'IdList': ['7227'], 'TranslationSet': [], 'TranslationStack': [{'Term': 'drosophila melanogaster[All Names]', 'Field': 'All Names', 'Count': '1', 'Explode': 'N'}, 'GROUP'], 'QueryTranslation': 'drosophila melanogaster[All Names]'}\n",
      "['7227']\n"
     ]
    }
   ],
   "source": [
    "handle = Entrez.esearch(\n",
    "db=\"nucleotide\", term=\"nxf1 AND Drosophila melanogaster[orgn]\"\n",
    ") # db=\"genbank\" Error!!\n",
    "record = Entrez.read(handle)\n",
    "Entrez.efetch(db=\"nucleotide\", id=record[\"IdList\"])\n",
    "handle = Entrez.esearch(db=\"taxonomy\", term=\"Drosophila melanogaster\")\n",
    "record = Entrez.read(handle)\n",
    "print(record)\n",
    "print(record[\"IdList\"])"
   ]
  },
  {
   "cell_type": "markdown",
   "id": "fc1e344a-dc3a-435c-b528-beebfd67ad54",
   "metadata": {},
   "source": [
    "---"
   ]
  },
  {
   "cell_type": "code",
   "execution_count": 11,
   "id": "2f46937e-7c6d-40c3-8030-e7c9b51d0a95",
   "metadata": {},
   "outputs": [
    {
     "name": "stdout",
     "output_type": "stream",
     "text": [
      "20978541\tQ9VV73\t841\n",
      "13124798\tQ24168\t618\n",
      "1376014748\tA0A0B4K7J2\t2718\n",
      "20455240\tQ9VIW3\t596\n",
      "74948793\tQ9VYX1\t101\n",
      "74948518\tQ9VTL1\t395\n",
      "20978539\tQ9U1H9\t672\n",
      "18203549\tQ9V3H8\t133\n",
      "2282536378\tQ9U3V9\t2079\n",
      "1624698291\tNP_001356942\t536\n",
      "1624698289\tNP_001356941\t536\n",
      "17933682\tNP_524660\t672\n",
      "1622462254\tQCD25237\t536\n",
      "1622462253\tQCD25236\t536\n",
      "22832060\tAAF47959\t672\n",
      "1727108961\t6IHJ_D\t135\n",
      "1727108960\t6IHJ_B\t135\n",
      "1727108959\t6IHJ_C\t191\n",
      "1727108958\t6IHJ_A\t191\n",
      "1700031391\t6OPF_F\t98\n"
     ]
    }
   ],
   "source": [
    "handle = Entrez.esearch(db=\"protein\", term=\"nxf1 AND Drosophila melanogaster[orgn]\")\n",
    "record = Entrez.read(handle)\n",
    "for rec in record[\"IdList\"]:\n",
    "    temphandle = Entrez.read(Entrez.esummary(db=\"protein\", id=rec, retmode=\"text\"))\n",
    "    print(\n",
    "        temphandle[0][\"Id\"]\n",
    "        + \"\\t\"\n",
    "        + temphandle[0][\"Caption\"]\n",
    "        + \"\\t\"\n",
    "        + str(int(temphandle[0][\"Length\"]))\n",
    "    ) # +\"\\n\")"
   ]
  },
  {
   "cell_type": "markdown",
   "id": "fc21ce8e-f7f8-49f0-9e34-b2fb9412f573",
   "metadata": {},
   "source": [
    "---"
   ]
  },
  {
   "cell_type": "code",
   "execution_count": 14,
   "id": "687cc4c5-ee45-44ee-ba1c-825dbe62fc1b",
   "metadata": {},
   "outputs": [],
   "source": [
    "Entrez.efetch(db=\"protein\", id=record[\"IdList\"], retmode=\"text\", rettype=\"fasta\").read()\n",
    "\n",
    "with open(\"Drmel_nxf1.fa\", \"w\") as ouf:\n",
    "    for rec in record[\"IdList\"]:\n",
    "        lne = Entrez.efetch(\n",
    "            db=\"protein\", id=rec, retmode=\"text\", rettype=\"fasta\"\n",
    "        ).read()\n",
    "        ouf.write(lne + \"\\n\")"
   ]
  },
  {
   "cell_type": "code",
   "execution_count": null,
   "id": "d522a6e1-9107-4a1a-8260-7f307fb26408",
   "metadata": {},
   "outputs": [],
   "source": [
    "with open(\"Drmel_nxf1.fa\", \"r\") as fastaf:\n",
    "    snippet = [next(fastaf) for x in range(5)]\n",
    "    print(snippet)"
   ]
  },
  {
   "cell_type": "markdown",
   "id": "d0a4b60c-36d3-43c2-b115-e6bd94d04983",
   "metadata": {},
   "source": [
    "---"
   ]
  },
  {
   "cell_type": "code",
   "execution_count": 43,
   "id": "ce40ef7f-952c-46a1-b2d5-7703b9b2c791",
   "metadata": {},
   "outputs": [],
   "source": [
    "handle = Entrez.esearch(db=\"nucleotide\", term=\"nxf1 AND Drosophila melanogaster[orgn]\") # db=\"genbank\" Error!!\n",
    "record = Entrez.read(handle)"
   ]
  },
  {
   "cell_type": "code",
   "execution_count": 44,
   "id": "4b1b024e-8404-4e3d-98b9-24823fe4c05c",
   "metadata": {},
   "outputs": [
    {
     "data": {
      "text/plain": [
       "['1624698290', '1624698288', '669632474', '281360686', '667695275', '14456154', '14456089']"
      ]
     },
     "execution_count": 44,
     "metadata": {},
     "output_type": "execute_result"
    }
   ],
   "source": [
    "record[\"IdList\"]"
   ]
  },
  {
   "cell_type": "code",
   "execution_count": 45,
   "id": "6254ee49-929b-4b6d-a991-57cf9cee72b1",
   "metadata": {},
   "outputs": [
    {
     "name": "stdout",
     "output_type": "stream",
     "text": [
      "1624698290\tNM_001369982\t2147\n",
      "1624698288\tNM_001369981\t1910\n",
      "669632474\tNC_004354\t23542271\n",
      "281360686\tNM_079921\t3280\n",
      "667695275\tAE014298\t23542271\n",
      "14456154\tAJ318090\t2522\n",
      "14456089\tAJ312282\t2526\n"
     ]
    }
   ],
   "source": [
    "for rec in record[\"IdList\"]:\n",
    "    temphandle = Entrez.read(Entrez.esummary(db=\"nucleotide\", id=rec, retmode=\"text\"))\n",
    "    print(\n",
    "        temphandle[0][\"Id\"]\n",
    "        + \"\\t\"\n",
    "        + temphandle[0][\"Caption\"]\n",
    "        + \"\\t\"\n",
    "        + str(int(temphandle[0][\"Length\"]))\n",
    "    ) # +\"\\n\")"
   ]
  },
  {
   "cell_type": "markdown",
   "id": "2dc37077-8e0d-471f-9752-1c90b5599bdc",
   "metadata": {},
   "source": [
    "AE - NCBI - Genome project\n",
    "AJ - EBI - Direct submissions\n",
    "NM - curated RefSeq"
   ]
  },
  {
   "cell_type": "code",
   "execution_count": 47,
   "id": "2bc1b706-9975-401e-be8a-32cba8f74a9f",
   "metadata": {},
   "outputs": [],
   "source": [
    "with open(\"Dm_nxf1_transcript_var_A.fa\", \"w\") as outfile:\n",
    "    lne = Entrez.efetch(\n",
    "        db=\"nucleotide\", id=record[\"IdList\"][3], retmode=\"text\", rettype=\"fasta\"\n",
    "    ).read()\n",
    "    outfile.write(lne + \"\\n\")"
   ]
  },
  {
   "cell_type": "markdown",
   "id": "f7f1171d-2672-4d05-b8c9-016a260b2b2e",
   "metadata": {},
   "source": [
    "https://www.alliancegenome.org/gene/FB:FBgn0003321\n",
    "\n",
    "Sequence Details (Mode: cDNA)"
   ]
  },
  {
   "cell_type": "markdown",
   "id": "2cd40f98-ad92-4a4d-8fb7-1c7915b2ae03",
   "metadata": {},
   "source": [
    "---"
   ]
  },
  {
   "cell_type": "markdown",
   "id": "f323a7da-109b-4e65-b14c-000a365b5b4f",
   "metadata": {},
   "source": [
    "1. Найти референсные последовательности для sbr - https://www.alliancegenome.org/gene/FB:FBgn0003321 (Sequence Details (Mode: cDNA)):\n",
    "   - найти координаты гены на X хромосоме\n",
    "   - полная последовательность гена\n",
    "   - сплайсированный вариант\n",
    "   - консервативная кассета\n",
    "2. Написать срипт, который:\n",
    "   - ищет ген sbr / nxf1 в базе данных NCBI для семейства Drosophilidae\n",
    "   - выбирает из найденных только адекватные варианты и формирует из них БД для бласта\n",
    "3. Сделать бласт вариантов из 1-го пункта на варианты из второго пункта"
   ]
  },
  {
   "cell_type": "code",
   "execution_count": 41,
   "id": "b256ee44-84ea-444d-8d18-2c35ef01df00",
   "metadata": {},
   "outputs": [],
   "source": [
    "from functions import plain_to_fasta"
   ]
  },
  {
   "cell_type": "code",
   "execution_count": 42,
   "id": "983dc924-9950-404e-a5f2-006f5ea9870a",
   "metadata": {},
   "outputs": [],
   "source": [
    "path_to_plain_dir = \"/home/artemvaska/Master_degree/Diploma/References/\""
   ]
  },
  {
   "cell_type": "code",
   "execution_count": null,
   "id": "3279da4b-d325-4e19-ad8a-94c8a2c8ec17",
   "metadata": {},
   "outputs": [],
   "source": [
    "plain_to_fasta(path_to_plain_dir + \"sbr_RA_gene_plain.fa\", fasta_line_length=80, uppercase=True)"
   ]
  },
  {
   "cell_type": "code",
   "execution_count": 45,
   "id": "1a5a2f8a-a61e-468b-b7da-244a715c9e2b",
   "metadata": {},
   "outputs": [],
   "source": [
    "plain_to_fasta(path_to_plain_dir + \"sbr_RA_CDS_plain.fa\", fasta_line_length=80, uppercase=True)"
   ]
  },
  {
   "cell_type": "code",
   "execution_count": null,
   "id": "129a9612-2965-456c-8e67-91e8ff02c4f4",
   "metadata": {},
   "outputs": [],
   "source": []
  },
  {
   "cell_type": "code",
   "execution_count": 52,
   "id": "f6c11861-b832-457a-8993-5c7f196eff30",
   "metadata": {},
   "outputs": [],
   "source": [
    "SBR_CONSERVATIVE_CASSETTE = 'ATACCATCTTTGGCCCACCTTGTAGTGCTTCGCAATCTGTCCATCTTGGAACTCGTTTTAAAGAACAATCCCTGCCGTTCCCGCTACAAGGATTCCCAGCAGTTTATCAGGTATACTATGGTGTGATTCGTTGATCTTCTAACTTTTCTAGTGGATGCTGCCGCATATTCGACGTGGGATTTGTCGCGTCTGGAGTTACAGAGGAATTAGGATTACCACATTTCCATTGTTCTGTTGTCTCCATTCCTTTTCTTTGAAGCAAATGCGCTGCAGAATTGGGGACCAAGGTCAGGTGTTGCCTTCGTCCAAAGTTTAAAGCAGCTGAGCAGGCAAAGGCATTTGGGAAATATTTTCCTTATCAGCTGTCTTAAAGCCAGGACAGATCGTATGCAGCGGAATGGATTTTGGGCAGAGCAAAAAAAAAAAAAAGAAGAAAGAAAAAAAAAGATTTGAAGTTAAAAAAAAAAAAGAAAAAAAAAGAAGAAAAAAAAAGAAAAAAAAGTACAAGCAAAAAAGGCCCAAGCCAATTGCAGTAAACTTTCGACGATGTGGCAACGCTAAACTAAGAACGCAACTGTACTTTTGACACACACACACCGGCACCGTTCGTACTTCCAATTGAGCAGGCGGACGTGCAGCAGTCCCAAAGCGAATCACATTAACGCATTAACATCGACAAATATAAATTATTTTACGAATAACAAATAATCCACCGAACCCACCCACCGCGCACCCCGCTACAACACACACACGGGCGCACGCATGTAGCCACTCCACGCCAGCGCACGCACGCATGCGCATGCGCATATGCAGTTGTGTACGTGCCACATCTAATGCTGCGTGCCCTGTGCGCGCCGTTGCGCCTTGCATTGTCGTGTCGCCGCTTGTTGATTTTGCGGTGGTTGCCAAGTAGTGGAGGCAGAGTGGAGTGCATAGGCTCACCATTCGGGTGCGCAGCGTCCAGCAGGAAGCAGAAACGACTACCAAGACGAAGGACACACCACTGACTGACTCACGTGCTAACGGACATTCTGCTGGCGCCAGCGGCCGGCGCGTTGTTTTGCCAGTCGATTACAATTTACAATTAGTATTTTCGGCTTTGTTGGGCGCATGAGCCGCCTGCGGATGCGACGTGCTTGAACATGACGAGACGAACAGAAGTTACACAGCAGTCAGCTTTGAAAGCCACTTTTTGCTTGTGGCCACTGAAAGAAAAAACAAAAAAAAAAAAATGAAAAAAAGGAAAAGAAAAAAGTGTTGATAAAAAAAAAAAAACAAAAAATACAAAAGAGAAAATACCACAAAAAAGATGCCCCGGCACAATGCACTGCTCAATTGTACTTTTCCGCTGTACTTTTCACATCGAACTATTGAAGGCACAACAATGGCCAAGCACCTAGTGCCTCTGCCTCTTCAGCTGATCAAAGCTCCGCCAATTTGTGTGTGAGCCGGTCGAGTAACGGTGAAGCTATATCAAAGATACAAACATATATACTCCGCGTGAGAAGAAGAAGGAGTCACATCTGGCCACTGACTAATCTGCAATTCCTGCAGCGCATACATCCTAAACCTCCCCCCCCCCCCACCAACGCACAAATTTAAAAAAAAAACCCCCATTTAATTATTATTTCTCGCTATTTAACTCGCATATCTATCATCGCCTCCCTGTGCTAATGACAACAAAAATACGGCCGAATGTCCACTATTTACAGCGAAGTACGTCGCAAGTTTCCCAAACTGGTTAAGTTG'"
   ]
  },
  {
   "cell_type": "code",
   "execution_count": 55,
   "id": "c89a9238-af07-4d64-92a8-dc59d6d3ecad",
   "metadata": {},
   "outputs": [],
   "source": [
    "SBR_CASSETTE_INTRON = 'GTATACTATGGTGTGATTCGTTGATCTTCTAACTTTTCTAGTGGATGCTGCCGCATATTCGACGTGGGATTTGTCGCGTCTGGAGTTACAGAGGAATTAGGATTACCACATTTCCATTGTTCTGTTGTCTCCATTCCTTTTCTTTGAAGCAAATGCGCTGCAGAATTGGGGACCAAGGTCAGGTGTTGCCTTCGTCCAAAGTTTAAAGCAGCTGAGCAGGCAAAGGCATTTGGGAAATATTTTCCTTATCAGCTGTCTTAAAGCCAGGACAGATCGTATGCAGCGGAATGGATTTTGGGCAGAGCAAAAAAAAAAAAAAGAAGAAAGAAAAAAAAAGATTTGAAGTTAAAAAAAAAAAAGAAAAAAAAAGAAGAAAAAAAAAGAAAAAAAAGTACAAGCAAAAAAGGCCCAAGCCAATTGCAGTAAACTTTCGACGATGTGGCAACGCTAAACTAAGAACGCAACTGTACTTTTGACACACACACACCGGCACCGTTCGTACTTCCAATTGAGCAGGCGGACGTGCAGCAGTCCCAAAGCGAATCACATTAACGCATTAACATCGACAAATATAAATTATTTTACGAATAACAAATAATCCACCGAACCCACCCACCGCGCACCCCGCTACAACACACACACGGGCGCACGCATGTAGCCACTCCACGCCAGCGCACGCACGCATGCGCATGCGCATATGCAGTTGTGTACGTGCCACATCTAATGCTGCGTGCCCTGTGCGCGCCGTTGCGCCTTGCATTGTCGTGTCGCCGCTTGTTGATTTTGCGGTGGTTGCCAAGTAGTGGAGGCAGAGTGGAGTGCATAGGCTCACCATTCGGGTGCGCAGCGTCCAGCAGGAAGCAGAAACGACTACCAAGACGAAGGACACACCACTGACTGACTCACGTGCTAACGGACATTCTGCTGGCGCCAGCGGCCGGCGCGTTGTTTTGCCAGTCGATTACAATTTACAATTAGTATTTTCGGCTTTGTTGGGCGCATGAGCCGCCTGCGGATGCGACGTGCTTGAACATGACGAGACGAACAGAAGTTACACAGCAGTCAGCTTTGAAAGCCACTTTTTGCTTGTGGCCACTGAAAGAAAAAACAAAAAAAAAAAAATGAAAAAAAGGAAAAGAAAAAAGTGTTGATAAAAAAAAAAAAACAAAAAATACAAAAGAGAAAATACCACAAAAAAGATGCCCCGGCACAATGCACTGCTCAATTGTACTTTTCCGCTGTACTTTTCACATCGAACTATTGAAGGCACAACAATGGCCAAGCACCTAGTGCCTCTGCCTCTTCAGCTGATCAAAGCTCCGCCAATTTGTGTGTGAGCCGGTCGAGTAACGGTGAAGCTATATCAAAGATACAAACATATATACTCCGCGTGAGAAGAAGAAGGAGTCACATCTGGCCACTGACTAATCTGCAATTCCTGCAGCGCATACATCCTAAACCTCCCCCCCCCCCCACCAACGCACAAATTTAAAAAAAAAACCCCCATTTAATTATTATTTCTCGCTATTTAACTCGCATATCTATCATCGCCTCCCTGTGCTAATGACAACAAAAATACGGCCGAATGTCCACTATTTACAG'"
   ]
  },
  {
   "cell_type": "code",
   "execution_count": null,
   "id": "e21936fb-51f1-4a56-aa7f-4ef573175c72",
   "metadata": {},
   "outputs": [],
   "source": []
  },
  {
   "cell_type": "code",
   "execution_count": 71,
   "id": "dcbbf336-d510-433a-a50c-f40a8c11814a",
   "metadata": {},
   "outputs": [],
   "source": [
    "def read_fasta(file: str) -> dict:\n",
    "    seqs = {}\n",
    "    seq = []\n",
    "    with open(file) as infile:\n",
    "        for line in infile:\n",
    "            line = line.strip()\n",
    "            if line.startswith(\">\"):\n",
    "                header = line[1:]\n",
    "            else:\n",
    "                seq.append(line)\n",
    "    seqs[header] = \"\".join(seq)\n",
    "    return seqs"
   ]
  },
  {
   "cell_type": "code",
   "execution_count": 75,
   "id": "54a33468-a7aa-46ea-b2df-9d51176c9380",
   "metadata": {},
   "outputs": [],
   "source": [
    "sbr_gene = read_fasta(\"../References/sbr_RA_CDS.fa\")"
   ]
  },
  {
   "cell_type": "code",
   "execution_count": null,
   "id": "022c69a3-fde8-4efc-a061-c76eca8cd2cd",
   "metadata": {},
   "outputs": [],
   "source": []
  },
  {
   "cell_type": "code",
   "execution_count": 79,
   "id": "82d183cf-a1bc-4d98-a226-70225b62c79f",
   "metadata": {},
   "outputs": [
    {
     "data": {
      "text/plain": [
       "'ATGCCCAAACGCGGCGGTGGCAGTAGCCAGCGGTACAACAACAACGTTGGAAATGGCGGCGGACGTTACAACGCTCCCGAGGATTTCGATGATTTTGGTCATGTGGAGGATCGCCAGCGACGCAAGGATCGAAACAAGCGGCGCGTCAGCTTTAAGCCCTCCCAATGTCTACATAACAAAAAGGACATCAAGCTGCGACCCGAAGATTTGCGTCGATGGGACGAGGATGATGACATGAGCGACATGACCACGGCCGTTAAGGATAGACCCACCTCCCGACGTCGGGGATCGCCCATTCCGCGCGGCAAGTTCGGCAAACTGATGCCCAACAGCTTTGGCTGGTACCAAGTCACGTTACAAAACGCCCAGATATACGAAAAGGAAACACTCTTGAGTGCTCTATTGGCAGCGATGTCGCCACATGTCTTTATTCCTCAATATTGGCGAGTGGAGCGAAACTGCGTAATCTTCTTTACGGACGACTACGAGGCAGCCGAACGCATTCAACATCTGGGCAAGAATGGCCATCTTCCAGATGGCTATCGTCTGATGCCACGAGTACGCAGCGGTATACCACTAGTGGCCATCGACGATGCCTTCAAGGAGAAGATGAAGGTCACAATGGCCAAGCGTTACAATATTCAAACCAAGGCGCTGGATCTTTCCCGTTTTCATGCAGATCCGGATCTTAAGCAAGTTTTCTGCCCACTCTTTCGTCAGAATGTGATGGGCGCTGCCATTGACATTATGTGCGACAATATACCCGATTTGGAGGCACTTAACCTGAATGACAACTCCATTAGCAGCATGGAGGCGTTTAAGGGTGTGGAGAAACGCTTACCGAACCTCAAGATTCTCTATTTGGGGGATAACAAGATACCATCTTTGGCCCACCTTGTAGTGCTTCGCAATCTGTCCATCTTGGAACTCGTTTTAAAGAACAATCCCTGCCGTTCCCGCTACAAGGATTCCCAGCAGTTTATCAGCGAAGTACGTCGCAAGTTTCCCAAACTGGTTAAGTTGGACGGAGAGACCCTGGAGCCGCAAATCACATTTGATCTATCCGAGCAGGGACGTCTTCTCGAAACGAAGGCATCCTATCTGTGCGACGTCGCTGGTGCCGAGGTGGTGCGCCAGTTCCTGGACCAGTACTTCCGCATATTTGACTCGGGCAATCGGCAAGCTCTGCTAGATGCCTACCATGAGAAAGCGATGCTCTCCATATCAATGCCTTCGGCCAGTCAGGCGGGCAGATTGAACAGTTTCTGGAAGTTCAATCGCAATCTCCGGCGCTTGTTAAACGGCGAAGAGAATCGCACCCGAAACTTGAAGTACGGACGCCTGGCATGTGTTTCCACATTGGATGAATGGCCAAAAACGCAGCACGACCGACGCACCTTCACCGTCGACCTGACCATCTACAATACTTCAATGATGGTTTTCACCGTGACGGGATTATTCAAAGAGCTGAACGACGAGACCAACAATCCCGCCTCCATGGAATTATATGACGTTCGCCACTTTGCCCGCACCTACGTGGTGGTGCCACAGAATAATGGCTTTTGTATCCGCAACGAGACGATCTTCATCACAAACGCTACGCACGAGCAGGTGCGAGAGTTCAAGCGATCGCAGCACCAGCCTGCTCCCGGAGCTATGCCCTCCACTTCCAGTGCAGTGACCAGTCCTCAGGCCGGGGCAGCGGCGGGTCTGCAGGGTCGTCTGAATGCGTTGGGCGTGGCCACTGGACCGGTGGCTATACTATCAGGAGATCCGTTGGCGGCCACCGCACCGGTTAACAGCGGCAGTGCCGCCATATCGACAACAGCAGTGGCACCTGGCGCCCAGGATGAGAGCACTAAAATGCAAATGATTGAAGCCATGAGCGCCCAAAGCCAAATGAATGTGATCTGGAGTCGGAAATGCCTGGAGGAAACGAATTGGGACTTTAACCATGCCGCCTTTGTGTTCGAGAAACTATTCAAGGAAAACAAAATACCGCCTGAGGCTTTTATGAAG'"
      ]
     },
     "execution_count": 79,
     "metadata": {},
     "output_type": "execute_result"
    }
   ],
   "source": [
    "sbr_gene['sbr-RA-cds']"
   ]
  },
  {
   "cell_type": "code",
   "execution_count": null,
   "id": "3806a017-96d0-4a32-9ad1-884f8bc5629e",
   "metadata": {},
   "outputs": [],
   "source": []
  },
  {
   "cell_type": "markdown",
   "id": "2fb6e5dc-785f-413e-b521-d5fb4726b50f",
   "metadata": {},
   "source": [
    "https://biopython.org/docs/dev/Tutorial/chapter_blast.html"
   ]
  },
  {
   "cell_type": "code",
   "execution_count": 1,
   "id": "003a4ced-bd30-4e05-a07a-01963a07511d",
   "metadata": {},
   "outputs": [],
   "source": [
    "from Bio import Blast"
   ]
  },
  {
   "cell_type": "code",
   "execution_count": 2,
   "id": "a887c259-6b58-48af-99b4-9fa4e99604e0",
   "metadata": {},
   "outputs": [
    {
     "data": {
      "text/plain": [
       "'biopython'"
      ]
     },
     "execution_count": 2,
     "metadata": {},
     "output_type": "execute_result"
    }
   ],
   "source": [
    "Blast.tool"
   ]
  },
  {
   "cell_type": "code",
   "execution_count": 3,
   "id": "d2bfb779-86a8-467f-af74-6129c554d36c",
   "metadata": {},
   "outputs": [],
   "source": [
    "Blast.email = \"artem_vasilev_01@list.ru\""
   ]
  },
  {
   "cell_type": "code",
   "execution_count": 4,
   "id": "695f2770-0f13-4fad-a676-c81a10060054",
   "metadata": {},
   "outputs": [],
   "source": [
    "fasta_string = open(\"../References/sbr_RA_gene.fa\").read()"
   ]
  },
  {
   "cell_type": "code",
   "execution_count": null,
   "id": "dadae7ff-c0d3-42a5-a632-ccfc768b6f8c",
   "metadata": {},
   "outputs": [],
   "source": [
    "\"all [filter] NOT(environmental samples[organism] OR metagenomes[orgn]) AND txid3702[ORGN] AND txid9606[ORGN]\""
   ]
  },
  {
   "cell_type": "code",
   "execution_count": 67,
   "id": "5341bf68-1427-4c64-bc52-8e47bdd43e32",
   "metadata": {},
   "outputs": [],
   "source": [
    "result_stream = Blast.qblast(program=\"blastn\",\n",
    "                             database=\"wgs\",\n",
    "                             sequence=fasta_string,\n",
    "                             entrez_query=\"Drosophilidae AND NOT Drosophila melanogaster\",\n",
    "                             megablast=True)"
   ]
  },
  {
   "cell_type": "markdown",
   "id": "07ab4a02-efa4-4caa-a01d-f0aab0be695f",
   "metadata": {},
   "source": [
    "Drosophilidae (taxid:7214)\n",
    "\n",
    "Drosophila melanogaster (taxid:7227)\n",
    "\n",
    "https://biochem.slu.edu/bchm628/handouts/2013/Entrez_boolian_searches.pdf"
   ]
  },
  {
   "cell_type": "code",
   "execution_count": 71,
   "id": "0e7fec68-29a7-402f-b5db-4ae1553de74e",
   "metadata": {},
   "outputs": [
    {
     "ename": "ValueError",
     "evalue": "premature end of XML file (after reading -1 bytes)",
     "output_type": "error",
     "traceback": [
      "\u001b[0;31m---------------------------------------------------------------------------\u001b[0m",
      "\u001b[0;31mValueError\u001b[0m                                Traceback (most recent call last)",
      "Cell \u001b[0;32mIn[71], line 7\u001b[0m\n\u001b[1;32m      3\u001b[0m result_stream\u001b[38;5;241m.\u001b[39mclose()\n\u001b[1;32m      5\u001b[0m result_stream \u001b[38;5;241m=\u001b[39m \u001b[38;5;28mopen\u001b[39m(\u001b[38;5;124m\"\u001b[39m\u001b[38;5;124msbr_RA_gene_blast.xml\u001b[39m\u001b[38;5;124m\"\u001b[39m, \u001b[38;5;124m\"\u001b[39m\u001b[38;5;124mrb\u001b[39m\u001b[38;5;124m\"\u001b[39m)\n\u001b[0;32m----> 7\u001b[0m blast_record \u001b[38;5;241m=\u001b[39m \u001b[43mBlast\u001b[49m\u001b[38;5;241;43m.\u001b[39;49m\u001b[43mread\u001b[49m\u001b[43m(\u001b[49m\u001b[43mresult_stream\u001b[49m\u001b[43m)\u001b[49m\n",
      "File \u001b[0;32m~/mamba/envs/diploma/lib/python3.12/site-packages/Bio/Blast/__init__.py:921\u001b[0m, in \u001b[0;36mread\u001b[0;34m(source)\u001b[0m\n\u001b[1;32m    891\u001b[0m \u001b[38;5;28;01mdef\u001b[39;00m \u001b[38;5;21mread\u001b[39m(source):\n\u001b[1;32m    892\u001b[0m \u001b[38;5;250m    \u001b[39m\u001b[38;5;124;03m\"\"\"Parse an XML file containing BLAST output for a single query and return it.\u001b[39;00m\n\u001b[1;32m    893\u001b[0m \n\u001b[1;32m    894\u001b[0m \u001b[38;5;124;03m    Internally, this function uses Bio.Blast.parse to obtain an iterator over\u001b[39;00m\n\u001b[0;32m   (...)\u001b[0m\n\u001b[1;32m    919\u001b[0m \u001b[38;5;124;03m    BLAST output for more than one query.\u001b[39;00m\n\u001b[1;32m    920\u001b[0m \u001b[38;5;124;03m    \"\"\"\u001b[39;00m\n\u001b[0;32m--> 921\u001b[0m     \u001b[38;5;28;01mwith\u001b[39;00m \u001b[43mparse\u001b[49m\u001b[43m(\u001b[49m\u001b[43msource\u001b[49m\u001b[43m)\u001b[49m \u001b[38;5;28;01mas\u001b[39;00m records:\n\u001b[1;32m    922\u001b[0m         \u001b[38;5;28;01mtry\u001b[39;00m:\n\u001b[1;32m    923\u001b[0m             record \u001b[38;5;241m=\u001b[39m \u001b[38;5;28mnext\u001b[39m(records)\n",
      "File \u001b[0;32m~/mamba/envs/diploma/lib/python3.12/site-packages/Bio/Blast/__init__.py:888\u001b[0m, in \u001b[0;36mparse\u001b[0;34m(source)\u001b[0m\n\u001b[1;32m    861\u001b[0m \u001b[38;5;28;01mdef\u001b[39;00m \u001b[38;5;21mparse\u001b[39m(source):\n\u001b[1;32m    862\u001b[0m \u001b[38;5;250m    \u001b[39m\u001b[38;5;124;03m\"\"\"Parse an XML file containing BLAST output and return a Bio.Blast.Records object.\u001b[39;00m\n\u001b[1;32m    863\u001b[0m \n\u001b[1;32m    864\u001b[0m \u001b[38;5;124;03m    This returns an iterator object; iterating over it returns Bio.Blast.Record\u001b[39;00m\n\u001b[0;32m   (...)\u001b[0m\n\u001b[1;32m    886\u001b[0m \n\u001b[1;32m    887\u001b[0m \u001b[38;5;124;03m    \"\"\"\u001b[39;00m\n\u001b[0;32m--> 888\u001b[0m     \u001b[38;5;28;01mreturn\u001b[39;00m \u001b[43mRecords\u001b[49m\u001b[43m(\u001b[49m\u001b[43msource\u001b[49m\u001b[43m)\u001b[49m\n",
      "File \u001b[0;32m~/mamba/envs/diploma/lib/python3.12/site-packages/Bio/Blast/__init__.py:708\u001b[0m, in \u001b[0;36mRecords.__init__\u001b[0;34m(self, source)\u001b[0m\n\u001b[1;32m    706\u001b[0m     stream \u001b[38;5;241m=\u001b[39m source\n\u001b[1;32m    707\u001b[0m \u001b[38;5;28mself\u001b[39m\u001b[38;5;241m.\u001b[39m_stream \u001b[38;5;241m=\u001b[39m stream\n\u001b[0;32m--> 708\u001b[0m \u001b[38;5;28;43mself\u001b[39;49m\u001b[38;5;241;43m.\u001b[39;49m\u001b[43m_read_header\u001b[49m\u001b[43m(\u001b[49m\u001b[43m)\u001b[49m\n\u001b[1;32m    709\u001b[0m \u001b[38;5;28mself\u001b[39m\u001b[38;5;241m.\u001b[39m_records \u001b[38;5;241m=\u001b[39m []  \u001b[38;5;66;03m# for when we want to use Records as a list\u001b[39;00m\n\u001b[1;32m    710\u001b[0m \u001b[38;5;28mself\u001b[39m\u001b[38;5;241m.\u001b[39m_loaded \u001b[38;5;241m=\u001b[39m \u001b[38;5;28;01mFalse\u001b[39;00m\n",
      "File \u001b[0;32m~/mamba/envs/diploma/lib/python3.12/site-packages/Bio/Blast/__init__.py:732\u001b[0m, in \u001b[0;36mRecords._read_header\u001b[0;34m(self)\u001b[0m\n\u001b[1;32m    730\u001b[0m         \u001b[38;5;28;01mbreak\u001b[39;00m\n\u001b[1;32m    731\u001b[0m     \u001b[38;5;28;01melse\u001b[39;00m:\n\u001b[0;32m--> 732\u001b[0m         \u001b[38;5;28;01mraise\u001b[39;00m \u001b[38;5;167;01mValueError\u001b[39;00m(\n\u001b[1;32m    733\u001b[0m             \u001b[38;5;124mf\u001b[39m\u001b[38;5;124m\"\u001b[39m\u001b[38;5;124mpremature end of XML file (after reading \u001b[39m\u001b[38;5;132;01m{\u001b[39;00mparser\u001b[38;5;241m.\u001b[39mCurrentByteIndex\u001b[38;5;132;01m}\u001b[39;00m\u001b[38;5;124m bytes)\u001b[39m\u001b[38;5;124m\"\u001b[39m\n\u001b[1;32m    734\u001b[0m         )\n\u001b[1;32m    735\u001b[0m \u001b[38;5;28;01mtry\u001b[39;00m:\n\u001b[1;32m    736\u001b[0m     parser\u001b[38;5;241m.\u001b[39mParse(data, \u001b[38;5;28;01mFalse\u001b[39;00m)\n",
      "\u001b[0;31mValueError\u001b[0m: premature end of XML file (after reading -1 bytes)"
     ]
    }
   ],
   "source": [
    "with open(\"sbr_RA_gene_blast.xml\", \"wb\") as out_stream:\n",
    "    out_stream.write(result_stream.read())\n",
    "result_stream.close()\n",
    "\n",
    "result_stream = open(\"sbr_RA_gene_blast.xml\", \"rb\")\n",
    "\n",
    "blast_record = Blast.read(result_stream)"
   ]
  },
  {
   "cell_type": "code",
   "execution_count": 77,
   "id": "b04221a8-5ab9-4f96-abc8-29a6c59d2d20",
   "metadata": {},
   "outputs": [
    {
     "data": {
      "text/plain": [
       "<Bio.Blast.Record query.id='Query_6742799'; no hits>"
      ]
     },
     "execution_count": 77,
     "metadata": {},
     "output_type": "execute_result"
    }
   ],
   "source": [
    "blast_record"
   ]
  },
  {
   "cell_type": "code",
   "execution_count": 78,
   "id": "d07357e8-f0ad-4e4b-8d0a-7fcaa88f2b61",
   "metadata": {},
   "outputs": [
    {
     "name": "stdout",
     "output_type": "stream",
     "text": [
      "Program: BLASTN 2.16.0+\n",
      "     db: wgs\n",
      "  Query: Query_6742799 (length=14341)\n",
      "         sbr-RA-gene\n",
      "   Hits: No hits found\n"
     ]
    }
   ],
   "source": [
    "print(blast_record)"
   ]
  },
  {
   "cell_type": "code",
   "execution_count": null,
   "id": "2ca9f72f-5320-449a-b625-cd31ad7d0d1e",
   "metadata": {},
   "outputs": [],
   "source": []
  },
  {
   "cell_type": "code",
   "execution_count": 79,
   "id": "c25afa28-cd16-4254-8641-0730290bcbab",
   "metadata": {},
   "outputs": [
    {
     "name": "stderr",
     "output_type": "stream",
     "text": [
      "/home/artemvaska/mamba/envs/diploma/lib/python3.12/site-packages/Bio/Application/__init__.py:39: BiopythonDeprecationWarning: The Bio.Application modules and modules relying on it have been deprecated.\n",
      "\n",
      "Due to the on going maintenance burden of keeping command line application\n",
      "wrappers up to date, we have decided to deprecate and eventually remove these\n",
      "modules.\n",
      "\n",
      "We instead now recommend building your command line and invoking it directly\n",
      "with the subprocess module.\n",
      "  warnings.warn(\n"
     ]
    }
   ],
   "source": [
    "from Bio.Blast.Applications import NcbiblastnCommandline"
   ]
  },
  {
   "cell_type": "code",
   "execution_count": null,
   "id": "5d12a231-a23d-4eec-bfce-53d99c003f6c",
   "metadata": {},
   "outputs": [],
   "source": [
    "blastn_cline = NcbiblastnCommandline(query = \"search.fasta\", db = \"alun\", \n",
    "outfmt = 5, out = \"results.xml\")"
   ]
  },
  {
   "cell_type": "code",
   "execution_count": null,
   "id": "f1d31b7e-1a01-42a3-a6a7-8ecd161724ee",
   "metadata": {},
   "outputs": [],
   "source": [
    "stdout, stderr = blastn_cline()"
   ]
  }
 ],
 "metadata": {
  "kernelspec": {
   "display_name": "Python 3 (ipykernel)",
   "language": "python",
   "name": "python3"
  },
  "language_info": {
   "codemirror_mode": {
    "name": "ipython",
    "version": 3
   },
   "file_extension": ".py",
   "mimetype": "text/x-python",
   "name": "python",
   "nbconvert_exporter": "python",
   "pygments_lexer": "ipython3",
   "version": "3.12.6"
  }
 },
 "nbformat": 4,
 "nbformat_minor": 5
}
