{
 "cells": [
  {
   "cell_type": "code",
   "id": "initial_id",
   "metadata": {
    "collapsed": true,
    "ExecuteTime": {
     "end_time": "2025-05-21T15:25:32.554503Z",
     "start_time": "2025-05-21T15:25:32.455250Z"
    }
   },
   "source": [
    "from Scripts.data_processing import obtain_data\n",
    "from Scripts.fasta_processing import read_single_fasta\n",
    "\n",
    "from Bio import Entrez\n",
    "from Bio import Blast\n",
    "\n",
    "from entrez import nucl_search, save_esearch_results\n",
    "from parse_blast_results import calculate_qc, filter_df, update_df\n",
    "from fasta_processing import plain_to_fasta, read_fasta\n",
    "from data_processing import (cluster_analysis_preview,\n",
    "                             cluster_analysis,\n",
    "                             save_seqs,\n",
    "                             extract_genome_coverages,\n",
    "                             add_genome_coverages,\n",
    "                             select_max_ids,\n",
    "                             filter_genome_coverages\n",
    "                             )\n",
    "from group_species import group_species, group_species_genome_coverage\n",
    "\n",
    "Entrez.email = \"artemvaskaa@gmail.com\"\n",
    "Blast.email = \"artemvaskaa@gmail.com\""
   ],
   "outputs": [],
   "execution_count": 1
  },
  {
   "metadata": {},
   "cell_type": "code",
   "outputs": [],
   "execution_count": null,
   "source": [
    "prefix = \"../Datasets\"\n",
    "postfix = \"ncbi_dataset/data\""
   ],
   "id": "767397cb423b6c29"
  },
  {
   "metadata": {},
   "cell_type": "markdown",
   "source": "### Platyhelminthes",
   "id": "a733b3100640ce54"
  },
  {
   "metadata": {},
   "cell_type": "markdown",
   "source": [
    "phylum: Spiralia Platyhelminthes\n",
    "\n",
    "query: schistosoma_haematobium_1 | cds.fna\n",
    "\n",
    "blast_settings:\n",
    "- job title: schistosoma_haematobium\n",
    "- db: wgs\n",
    "- organism: Platyhelminthes (taxid:6157), Schistosoma haematobium (taxid:6185) exclude\n",
    "- blast_algorithm: megablast\n",
    "\n",
    "additional_params:\n",
    "- word size: 28\n",
    "\n",
    "[blastn_link](https://blast.ncbi.nlm.nih.gov/Blast.cgi?PAGE_TYPE=BlastSearch&USER_FORMAT_DEFAULTS=on&SET_SAVED_SEARCH=true&PAGE=MegaBlast&PROGRAM=blastn&JOB_TITLE=schistosoma_haematobium&NEWWIN=on&NEWWIN=on&GAPCOSTS=0%200&MATCH_SCORES=1,-2&DATABASE=Whole_Genome_Shotgun_contigs&BLAST_PROGRAMS=megaBlast&MAX_NUM_SEQ=100&SHORT_QUERY_ADJUST=on&EXPECT=0.05&WORD_SIZE=16&REPEATS=repeat_9606&TEMPLATE_TYPE=0&TEMPLATE_LENGTH=0&FILTER=L&FILTER=m&EQ_MENU=Platyhelminthes%20%28taxid%3A6157%29&EQ_MENU1=Schistosoma%20haematobium%20(taxid:6185)&ORG_EXCLUDE1=on&NUM_ORG=2&DB_GROUP=wgsOrg&PROG_DEFAULTS=on&SHOW_OVERVIEW=on&SHOW_LINKOUT=on&ALIGNMENT_VIEW=Pairwise&MASK_CHAR=2&MASK_COLOR=1&GET_SEQUENCE=on&NCBI_GI=false&NUM_OVERVIEW=100&DESCRIPTIONS=100&ALIGNMENTS=100&FORMAT_OBJECT=Alignment&FORMAT_TYPE=HTML&SHOW_CDS_FEATURE=false&ADV_VIEW=on&BOOKMARK=on)"
   ],
   "id": "c8f59e1db7bd48a4"
  },
  {
   "metadata": {},
   "cell_type": "markdown",
   "source": [
    "phylum: Spiralia Platyhelminthes\n",
    "\n",
    "query: schistosoma_haematobium_1 | protein.faa\n",
    "\n",
    "blast_settings:\n",
    "- job title: schistosoma_haematobium_tblastn\n",
    "- db: wgs\n",
    "- organism: Platyhelminthes (taxid:6157), Schistosoma haematobium (taxid:6185) exclude\n",
    "\n",
    "[tblastn_link](https://blast.ncbi.nlm.nih.gov/Blast.cgi?PAGE_TYPE=BlastSearch&USER_FORMAT_DEFAULTS=on&SET_SAVED_SEARCH=true&PAGE=Translations&PROGRAM=tblastn&JOB_TITLE=schistosoma_haematobium_tblastn&GAPCOSTS=11%201&DATABASE=Whole_Genome_Shotgun_contigs&MAX_NUM_SEQ=100&SHORT_QUERY_ADJUST=on&EXPECT=0.05&WORD_SIZE=5&MATRIX_NAME=BLOSUM62&COMPOSITION_BASED_STATISTICS=2&FILTER=L&EQ_MENU=Platyhelminthes%20%28taxid%3A6157%29&EQ_MENU1=Schistosoma%20haematobium%20(taxid:6185)&ORG_EXCLUDE1=on&NUM_ORG=2&DB_GROUP=wgsOrg&BLAST_PROGRAMS=tblastn&SHOW_OVERVIEW=on&SHOW_LINKOUT=on&ALIGNMENT_VIEW=Pairwise&MASK_CHAR=2&MASK_COLOR=1&GET_SEQUENCE=on&NEW_VIEW=on&NUM_OVERVIEW=100&DESCRIPTIONS=100&ALIGNMENTS=100&FORMAT_OBJECT=Alignment&FORMAT_TYPE=HTML&ADV_VIEW=on&BOOKMARK=on)"
   ],
   "id": "44595b66e9948845"
  },
  {
   "metadata": {
    "ExecuteTime": {
     "end_time": "2025-05-21T15:25:32.657348Z",
     "start_time": "2025-05-21T15:25:32.655316Z"
    }
   },
   "cell_type": "code",
   "source": [
    "phylum = \"Spiralia\"\n",
    "org_name = \"schistosoma_haematobium_1\"\n",
    "\n",
    "schistosoma_data = obtain_data(phylum, org_name)"
   ],
   "id": "7bb2cfc8a0645bdc",
   "outputs": [],
   "execution_count": 3
  },
  {
   "metadata": {},
   "cell_type": "markdown",
   "source": "---",
   "id": "96db186a15eec1bc"
  },
  {
   "metadata": {},
   "cell_type": "markdown",
   "source": "### QC >= 45%",
   "id": "1fb6c07b3be0b8b7"
  },
  {
   "metadata": {
    "ExecuteTime": {
     "end_time": "2025-05-21T15:25:32.702675Z",
     "start_time": "2025-05-21T15:25:32.696420Z"
    }
   },
   "cell_type": "code",
   "source": [
    "name_of_blast_res = \"../Blast_res/schistosoma_blastn.xml\" # XML2 !!!\n",
    "result_stream = open(name_of_blast_res, \"rb\")\n",
    "blast_record = Blast.read(result_stream)\n",
    "df = calculate_qc(blast_record)"
   ],
   "id": "4e4991bb8fefad2",
   "outputs": [],
   "execution_count": 4
  },
  {
   "metadata": {
    "ExecuteTime": {
     "end_time": "2025-05-21T15:25:32.744996Z",
     "start_time": "2025-05-21T15:25:32.742450Z"
    }
   },
   "cell_type": "code",
   "source": "df = update_df(df, blast_record)  #",
   "id": "6af758f0b7f77b7c",
   "outputs": [],
   "execution_count": 5
  },
  {
   "metadata": {
    "ExecuteTime": {
     "end_time": "2025-05-21T15:25:32.792040Z",
     "start_time": "2025-05-21T15:25:32.788001Z"
    }
   },
   "cell_type": "code",
   "source": "df = filter_df(df, qc_threshold=0.45, range_threshold=1900)",
   "id": "da81a652ab5b5bc6",
   "outputs": [],
   "execution_count": 6
  },
  {
   "metadata": {
    "ExecuteTime": {
     "end_time": "2025-05-21T15:25:32.903684Z",
     "start_time": "2025-05-21T15:25:32.834484Z"
    }
   },
   "cell_type": "code",
   "source": "cluster_analysis_preview(df)  # select eps",
   "id": "e02afbb63bb30b79",
   "outputs": [
    {
     "name": "stdout",
     "output_type": "stream",
     "text": [
      "eps: 0.01, n_clusters: 4\n",
      "cluster: 3, qcs_range: (0.4925, 0.4925), items_in_cluster: 1\n",
      "cluster: 2, qcs_range: (0.6887, 0.6887), items_in_cluster: 1\n",
      "cluster: 1, qcs_range: (0.8053, 0.8053), items_in_cluster: 1\n",
      "cluster: 0, qcs_range: (1.01, 1.0115), items_in_cluster: 2\n",
      "\n",
      "eps: 0.02, n_clusters: 4\n",
      "cluster: 3, qcs_range: (0.4925, 0.4925), items_in_cluster: 1\n",
      "cluster: 2, qcs_range: (0.6887, 0.6887), items_in_cluster: 1\n",
      "cluster: 1, qcs_range: (0.8053, 0.8053), items_in_cluster: 1\n",
      "cluster: 0, qcs_range: (1.01, 1.0115), items_in_cluster: 2\n",
      "\n",
      "eps: 0.03, n_clusters: 4\n",
      "cluster: 3, qcs_range: (0.4925, 0.4925), items_in_cluster: 1\n",
      "cluster: 2, qcs_range: (0.6887, 0.6887), items_in_cluster: 1\n",
      "cluster: 1, qcs_range: (0.8053, 0.8053), items_in_cluster: 1\n",
      "cluster: 0, qcs_range: (1.01, 1.0115), items_in_cluster: 2\n",
      "\n",
      "eps: 0.04, n_clusters: 4\n",
      "cluster: 3, qcs_range: (0.4925, 0.4925), items_in_cluster: 1\n",
      "cluster: 2, qcs_range: (0.6887, 0.6887), items_in_cluster: 1\n",
      "cluster: 1, qcs_range: (0.8053, 0.8053), items_in_cluster: 1\n",
      "cluster: 0, qcs_range: (1.01, 1.0115), items_in_cluster: 2\n",
      "\n",
      "eps: 0.05, n_clusters: 4\n",
      "cluster: 3, qcs_range: (0.4925, 0.4925), items_in_cluster: 1\n",
      "cluster: 2, qcs_range: (0.6887, 0.6887), items_in_cluster: 1\n",
      "cluster: 1, qcs_range: (0.8053, 0.8053), items_in_cluster: 1\n",
      "cluster: 0, qcs_range: (1.01, 1.0115), items_in_cluster: 2\n",
      "\n",
      "eps: 0.06, n_clusters: 4\n",
      "cluster: 3, qcs_range: (0.4925, 0.4925), items_in_cluster: 1\n",
      "cluster: 2, qcs_range: (0.6887, 0.6887), items_in_cluster: 1\n",
      "cluster: 1, qcs_range: (0.8053, 0.8053), items_in_cluster: 1\n",
      "cluster: 0, qcs_range: (1.01, 1.0115), items_in_cluster: 2\n",
      "\n",
      "eps: 0.07, n_clusters: 4\n",
      "cluster: 3, qcs_range: (0.4925, 0.4925), items_in_cluster: 1\n",
      "cluster: 2, qcs_range: (0.6887, 0.6887), items_in_cluster: 1\n",
      "cluster: 1, qcs_range: (0.8053, 0.8053), items_in_cluster: 1\n",
      "cluster: 0, qcs_range: (1.01, 1.0115), items_in_cluster: 2\n",
      "\n",
      "eps: 0.08, n_clusters: 4\n",
      "cluster: 3, qcs_range: (0.4925, 0.4925), items_in_cluster: 1\n",
      "cluster: 2, qcs_range: (0.6887, 0.6887), items_in_cluster: 1\n",
      "cluster: 1, qcs_range: (0.8053, 0.8053), items_in_cluster: 1\n",
      "cluster: 0, qcs_range: (1.01, 1.0115), items_in_cluster: 2\n",
      "\n",
      "eps: 0.09, n_clusters: 4\n",
      "cluster: 3, qcs_range: (0.4925, 0.4925), items_in_cluster: 1\n",
      "cluster: 2, qcs_range: (0.6887, 0.6887), items_in_cluster: 1\n",
      "cluster: 1, qcs_range: (0.8053, 0.8053), items_in_cluster: 1\n",
      "cluster: 0, qcs_range: (1.01, 1.0115), items_in_cluster: 2\n",
      "\n",
      "eps: 0.1, n_clusters: 4\n",
      "cluster: 3, qcs_range: (0.4925, 0.4925), items_in_cluster: 1\n",
      "cluster: 2, qcs_range: (0.6887, 0.6887), items_in_cluster: 1\n",
      "cluster: 1, qcs_range: (0.8053, 0.8053), items_in_cluster: 1\n",
      "cluster: 0, qcs_range: (1.01, 1.0115), items_in_cluster: 2\n",
      "\n",
      "eps: 0.11, n_clusters: 4\n",
      "cluster: 3, qcs_range: (0.4925, 0.4925), items_in_cluster: 1\n",
      "cluster: 2, qcs_range: (0.6887, 0.6887), items_in_cluster: 1\n",
      "cluster: 1, qcs_range: (0.8053, 0.8053), items_in_cluster: 1\n",
      "cluster: 0, qcs_range: (1.01, 1.0115), items_in_cluster: 2\n",
      "\n",
      "eps: 0.12, n_clusters: 3\n",
      "cluster: 2, qcs_range: (0.4925, 0.4925), items_in_cluster: 1\n",
      "cluster: 1, qcs_range: (0.6887, 0.8053), items_in_cluster: 2\n",
      "cluster: 0, qcs_range: (1.01, 1.0115), items_in_cluster: 2\n",
      "\n",
      "eps: 0.13, n_clusters: 3\n",
      "cluster: 2, qcs_range: (0.4925, 0.4925), items_in_cluster: 1\n",
      "cluster: 1, qcs_range: (0.6887, 0.8053), items_in_cluster: 2\n",
      "cluster: 0, qcs_range: (1.01, 1.0115), items_in_cluster: 2\n",
      "\n",
      "eps: 0.14, n_clusters: 3\n",
      "cluster: 2, qcs_range: (0.4925, 0.4925), items_in_cluster: 1\n",
      "cluster: 1, qcs_range: (0.6887, 0.8053), items_in_cluster: 2\n",
      "cluster: 0, qcs_range: (1.01, 1.0115), items_in_cluster: 2\n",
      "\n",
      "eps: 0.15, n_clusters: 3\n",
      "cluster: 2, qcs_range: (0.4925, 0.4925), items_in_cluster: 1\n",
      "cluster: 1, qcs_range: (0.6887, 0.8053), items_in_cluster: 2\n",
      "cluster: 0, qcs_range: (1.01, 1.0115), items_in_cluster: 2\n",
      "\n",
      "eps: 0.16, n_clusters: 3\n",
      "cluster: 2, qcs_range: (0.4925, 0.4925), items_in_cluster: 1\n",
      "cluster: 1, qcs_range: (0.6887, 0.8053), items_in_cluster: 2\n",
      "cluster: 0, qcs_range: (1.01, 1.0115), items_in_cluster: 2\n",
      "\n",
      "eps: 0.17, n_clusters: 3\n",
      "cluster: 2, qcs_range: (0.4925, 0.4925), items_in_cluster: 1\n",
      "cluster: 1, qcs_range: (0.6887, 0.8053), items_in_cluster: 2\n",
      "cluster: 0, qcs_range: (1.01, 1.0115), items_in_cluster: 2\n",
      "\n",
      "eps: 0.18, n_clusters: 3\n",
      "cluster: 2, qcs_range: (0.4925, 0.4925), items_in_cluster: 1\n",
      "cluster: 1, qcs_range: (0.6887, 0.8053), items_in_cluster: 2\n",
      "cluster: 0, qcs_range: (1.01, 1.0115), items_in_cluster: 2\n",
      "\n",
      "eps: 0.19, n_clusters: 3\n",
      "cluster: 2, qcs_range: (0.4925, 0.4925), items_in_cluster: 1\n",
      "cluster: 1, qcs_range: (0.6887, 0.8053), items_in_cluster: 2\n",
      "cluster: 0, qcs_range: (1.01, 1.0115), items_in_cluster: 2\n",
      "\n",
      "eps: 0.2, n_clusters: 2\n",
      "cluster: 1, qcs_range: (0.4925, 0.8053), items_in_cluster: 3\n",
      "cluster: 0, qcs_range: (1.01, 1.0115), items_in_cluster: 2\n",
      "\n"
     ]
    }
   ],
   "execution_count": 7
  },
  {
   "metadata": {
    "ExecuteTime": {
     "end_time": "2025-05-21T15:25:32.914345Z",
     "start_time": "2025-05-21T15:25:32.911843Z"
    }
   },
   "cell_type": "code",
   "source": "df = cluster_analysis(df, eps=0.12)  # 3 clusters",
   "id": "378d147103ba1287",
   "outputs": [],
   "execution_count": 8
  },
  {
   "metadata": {},
   "cell_type": "code",
   "outputs": [],
   "execution_count": null,
   "source": [
    "# long-time execution\n",
    "\n",
    "save_seqs(df, \"Platyhelminthes\", seq_length_threshold=1900)"
   ],
   "id": "ae72d4ae3b05a735"
  },
  {
   "metadata": {},
   "cell_type": "code",
   "outputs": [],
   "execution_count": null,
   "source": "group_species(df, \"Platyhelminthes\", \"Platyhelminthes_grouped\")",
   "id": "3e2dbc72db044807"
  },
  {
   "metadata": {},
   "cell_type": "code",
   "outputs": [],
   "execution_count": null,
   "source": [
    "# long-time execution\n",
    "\n",
    "genome_coverages = extract_genome_coverages(df)"
   ],
   "id": "e5d95b2a81990ba7"
  },
  {
   "metadata": {
    "ExecuteTime": {
     "end_time": "2025-05-21T15:25:47.241943Z",
     "start_time": "2025-05-21T15:25:47.240108Z"
    }
   },
   "cell_type": "code",
   "source": "genome_coverages  # check if everything is OK",
   "id": "54fb69f08e064bcf",
   "outputs": [
    {
     "data": {
      "text/plain": [
       "['            Genome Coverage        :: 0x',\n",
       " '            Genome Coverage        :: 0x',\n",
       " '            Genome Coverage        :: 100.0x',\n",
       " '            Genome Coverage        :: 100.0x',\n",
       " '            Genome Coverage        :: 0x']"
      ]
     },
     "execution_count": 13,
     "metadata": {},
     "output_type": "execute_result"
    }
   ],
   "execution_count": 13
  },
  {
   "metadata": {
    "ExecuteTime": {
     "end_time": "2025-05-21T15:25:47.310437Z",
     "start_time": "2025-05-21T15:25:47.308508Z"
    }
   },
   "cell_type": "code",
   "source": "df = add_genome_coverages(genome_coverages, df)",
   "id": "3a9462e29c87a57b",
   "outputs": [],
   "execution_count": 14
  },
  {
   "metadata": {
    "ExecuteTime": {
     "end_time": "2025-05-21T15:25:47.389675Z",
     "start_time": "2025-05-21T15:25:47.380888Z"
    }
   },
   "cell_type": "code",
   "source": "df = select_max_ids(df)",
   "id": "7817484c46220bff",
   "outputs": [],
   "execution_count": 15
  },
  {
   "metadata": {
    "ExecuteTime": {
     "end_time": "2025-05-21T15:25:47.433035Z",
     "start_time": "2025-05-21T15:25:47.431757Z"
    }
   },
   "cell_type": "code",
   "source": [
    "# видов мало, поэтому оставим все\n",
    "# df = filter_genome_coverages(df, genome_coverage_threshold=50)"
   ],
   "id": "3e269e685d38c23e",
   "outputs": [],
   "execution_count": 16
  },
  {
   "metadata": {
    "ExecuteTime": {
     "end_time": "2025-05-21T15:25:47.483944Z",
     "start_time": "2025-05-21T15:25:47.476894Z"
    }
   },
   "cell_type": "code",
   "source": "group_species_genome_coverage(df, folder_name=\"Platyhelminthes\", new_folder_name=\"Platyhelminthes_filtered\")",
   "id": "953dada4d38ccfd",
   "outputs": [],
   "execution_count": 17
  },
  {
   "metadata": {},
   "cell_type": "markdown",
   "source": "---",
   "id": "68faf93a0c82c613"
  },
  {
   "metadata": {},
   "cell_type": "code",
   "outputs": [],
   "execution_count": null,
   "source": [
    "from Scripts.fasta_processing import dict_align_to_fasta\n",
    "\n",
    "# all ranges\n",
    "\n",
    "alignment_dict = {\n",
    "    \"Schistosoma_haematobium\": read_single_fasta(\"../Datasets/Spiralia/schistosoma_haematobium_1/ncbi_dataset/data/cds_cassette.fa\"),\n",
    "    \"Schistosoma_curassoni\": read_single_fasta(\"../Sequences/Platyhelminthes_filtered/1.01-1.01/Schistosoma_curassoni_genome_assembly_CAJSMQ010000001.1.fa\"),\n",
    "    \"Schistosoma_margrebowiei_strain_Zambia\": read_single_fasta(\"../Sequences/Platyhelminthes_filtered/1.01-1.01/Schistosoma_margrebowiei_strain_Zambia_genome_assembly_UZAI01001861.1.fa\"),\n",
    "    \"Schistosoma_bovis_strain_TAN1997_SBOVIS_629\": read_single_fasta(\"../Sequences/Platyhelminthes_filtered/0.69-0.81/Schistosoma_bovis_strain_TAN1997_SBOVIS_629_QMKO01000629.1.fa\"),\n",
    "    \"Schistosoma_bovis_strain_TAN1997_SBOVIS_2705\": read_single_fasta(\"../Sequences/Platyhelminthes_filtered/0.69-0.81/Schistosoma_bovis_strain_TAN1997_SBOVIS_2705_QMKO01002703.1.fa\"),\n",
    "    \"Schistosoma_curassoni_strain_Dakar\": read_single_fasta(\"../Sequences/Platyhelminthes_filtered/0.49-0.49/Schistosoma_curassoni_strain_Dakar_UZAK01042702.1.fa\"),\n",
    "}\n",
    "\n",
    "# dict_align_to_fasta(alignment_dict, \"../Alignment/Spiralia/Platyhelminthes_blast.fa\")\n",
    "# dict_align_to_fasta(alignment_dict, \"../Alignment/Spiralia/Platyhelminthes_blast.aln\")"
   ],
   "id": "bb7bdcca762edf5"
  },
  {
   "metadata": {},
   "cell_type": "code",
   "outputs": [],
   "execution_count": null,
   "source": "# Schistosoma_curassoni_strain_Dakar: нет интрона - удаляем",
   "id": "658380432d78ee82"
  },
  {
   "metadata": {},
   "cell_type": "markdown",
   "source": "### QC >= 10%",
   "id": "1a95ffc3b4295113"
  },
  {
   "metadata": {},
   "cell_type": "code",
   "outputs": [],
   "execution_count": null,
   "source": "# ничего хорошего не получилось, нужно брать нормальный QC",
   "id": "e23d6492b5de7500"
  },
  {
   "metadata": {},
   "cell_type": "markdown",
   "source": "### Bivalvia",
   "id": "d824763598205148"
  },
  {
   "metadata": {},
   "cell_type": "markdown",
   "source": [
    "phylum: Spiralia Bivalvia\n",
    "\n",
    "query: mya_arenaria_2 | cds.fna\n",
    "\n",
    "blast_settings:\n",
    "    - job title: mya_arenaria_cds_blastn\n",
    "- db: wgs\n",
    "- organism: Bivalvia (taxid:6544), Mya arenaria (taxid:6604) exclude\n",
    "- blast_algorithm: megablast\n",
    "\n",
    "additional_params:\n",
    "- word size: 28\n",
    "\n",
    "[blastn_link](https://blast.ncbi.nlm.nih.gov/Blast.cgi?PAGE_TYPE=BlastSearch&USER_FORMAT_DEFAULTS=on&SET_SAVED_SEARCH=true&PAGE=MegaBlast&PROGRAM=blastn&JOB_TITLE=mya_arenaria_cds_blastn&NEWWIN=on&NEWWIN=on&GAPCOSTS=0%200&MATCH_SCORES=1,-2&DATABASE=Whole_Genome_Shotgun_contigs&BLAST_PROGRAMS=megaBlast&MAX_NUM_SEQ=100&SHORT_QUERY_ADJUST=on&EXPECT=0.05&WORD_SIZE=28&REPEATS=566037&TEMPLATE_TYPE=0&TEMPLATE_LENGTH=0&FILTER=L&FILTER=m&EQ_MENU=Bivalvia%20%28taxid%3A6544%29&EQ_MENU1=Mya%20arenaria%20(taxid:6604)&ORG_EXCLUDE1=on&NUM_ORG=2&DB_GROUP=wgsOrg&PROG_DEFAULTS=on&SHOW_OVERVIEW=true&SHOW_LINKOUT=true&ALIGNMENT_VIEW=Pairwise&MASK_CHAR=2&MASK_COLOR=1&GET_SEQUENCE=true&NCBI_GI=false&NUM_OVERVIEW=100&DESCRIPTIONS=100&ALIGNMENTS=100&FORMAT_OBJECT=Alignment&FORMAT_TYPE=HTML&SHOW_CDS_FEATURE=false&ADV_VIEW=true&BOOKMARK=on)"
   ],
   "id": "5b0c54ca6f44238b"
  },
  {
   "metadata": {},
   "cell_type": "code",
   "outputs": [],
   "execution_count": null,
   "source": "",
   "id": "3594421da23929a6"
  },
  {
   "metadata": {},
   "cell_type": "code",
   "outputs": [],
   "execution_count": null,
   "source": "",
   "id": "3367e08414da7afa"
  }
 ],
 "metadata": {
  "kernelspec": {
   "display_name": "Python 3",
   "language": "python",
   "name": "python3"
  },
  "language_info": {
   "codemirror_mode": {
    "name": "ipython",
    "version": 2
   },
   "file_extension": ".py",
   "mimetype": "text/x-python",
   "name": "python",
   "nbconvert_exporter": "python",
   "pygments_lexer": "ipython2",
   "version": "2.7.6"
  }
 },
 "nbformat": 4,
 "nbformat_minor": 5
}
