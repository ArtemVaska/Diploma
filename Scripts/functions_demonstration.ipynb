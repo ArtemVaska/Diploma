{
 "cells": [
  {
   "cell_type": "markdown",
   "id": "47ad436f-425d-4f92-982b-c40b45be1ed8",
   "metadata": {},
   "source": [
    "### Convert plain to fasta"
   ]
  },
  {
   "cell_type": "code",
   "execution_count": 1,
   "id": "365a5aa6-601c-4000-a018-a9edad8bce27",
   "metadata": {},
   "outputs": [],
   "source": [
    "from functions import plain_to_fasta"
   ]
  },
  {
   "cell_type": "code",
   "execution_count": 5,
   "id": "3c9656cf-9595-4f44-b12d-0f0d159b61cb",
   "metadata": {},
   "outputs": [],
   "source": [
    "path_to_plain_dir = \"/home/artemvaska/Master_degree/Diploma/References/\""
   ]
  },
  {
   "cell_type": "code",
   "execution_count": 7,
   "id": "30d935a6-6668-456c-b0ce-6cc5791bdebb",
   "metadata": {},
   "outputs": [],
   "source": [
    "plain_to_fasta(path_to_plain_dir + \"Dm_nxf1_gene_plain.fa\", fasta_line_length=80, uppercase=True)"
   ]
  },
  {
   "cell_type": "code",
   "execution_count": null,
   "id": "b911bf9a-6ef7-4df6-91c0-a304410452c0",
   "metadata": {},
   "outputs": [],
   "source": []
  },
  {
   "cell_type": "code",
   "execution_count": null,
   "id": "122b4f2e-8f01-4ef3-9be3-11dc99f76fb9",
   "metadata": {},
   "outputs": [],
   "source": []
  },
  {
   "cell_type": "code",
   "execution_count": null,
   "id": "ea6da441-737a-44be-ba43-6ba3c24d4ab8",
   "metadata": {},
   "outputs": [],
   "source": []
  }
 ],
 "metadata": {
  "kernelspec": {
   "display_name": "Python 3 (ipykernel)",
   "language": "python",
   "name": "python3"
  },
  "language_info": {
   "codemirror_mode": {
    "name": "ipython",
    "version": 3
   },
   "file_extension": ".py",
   "mimetype": "text/x-python",
   "name": "python",
   "nbconvert_exporter": "python",
   "pygments_lexer": "ipython3",
   "version": "3.12.6"
  }
 },
 "nbformat": 4,
 "nbformat_minor": 5
}
