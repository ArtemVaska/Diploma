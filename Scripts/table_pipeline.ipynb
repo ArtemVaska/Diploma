{
 "cells": [
  {
   "metadata": {
    "ExecuteTime": {
     "end_time": "2025-04-14T09:14:15.002414Z",
     "start_time": "2025-04-14T09:14:14.999884Z"
    }
   },
   "cell_type": "code",
   "source": [
    "import pandas as pd\n",
    "\n",
    "from datasets import select_phyla, download_all_files_ncbi"
   ],
   "id": "c400281e0b03a67c",
   "outputs": [],
   "execution_count": 2
  },
  {
   "metadata": {
    "ExecuteTime": {
     "end_time": "2025-04-14T09:14:16.051586Z",
     "start_time": "2025-04-14T09:14:16.029657Z"
    }
   },
   "cell_type": "code",
   "source": [
    "column_names = [\"tax_id\", \"org_name\", \"gene_id\", \"current_id\", \"status\", \"symbol\", \"aliases\", \"description\",\n",
    "                \"other_designations\", \"map_location\", \"chromosome\", \"genomic_nucleotide_accession.version\",\n",
    "                \"start_position_on_the_genomic_accession\", \"end_position_on_the_genomic_accession\", \"orientation\",\n",
    "                \"exon_count\", \"to_delete_1\", \"to_delete_2\"]\n",
    "\n",
    "df = pd.read_csv(\"../all_nxf1.txt\", sep=\"\\t\", skiprows=1, names=column_names, index_col=0)\n",
    "df.drop([\"to_delete_1\", \"to_delete_2\"], axis=1, inplace=True)\n",
    "df.head()"
   ],
   "id": "dcb1e1d16b0b6e39",
   "outputs": [
    {
     "data": {
      "text/plain": [
       "                      org_name    gene_id  current_id status symbol  \\\n",
       "tax_id                                                                \n",
       "8407           Rana temporaria  120917577           0   live   NXF1   \n",
       "8364        Xenopus tropicalis     734058           0   live   nxf1   \n",
       "9598           Pan troglodytes     451267           0   live   NXF1   \n",
       "9913                Bos taurus     512136           0   live   NXF1   \n",
       "9615    Canis lupus familiaris     483780           0   live   NXF1   \n",
       "\n",
       "               aliases                  description  \\\n",
       "tax_id                                                \n",
       "8407               NaN  nuclear RNA export factor 1   \n",
       "8364        mex67, tap  nuclear RNA export factor 1   \n",
       "9598    CK820_G0030982  nuclear RNA export factor 1   \n",
       "9913               NaN  nuclear RNA export factor 1   \n",
       "9615               NaN  nuclear RNA export factor 1   \n",
       "\n",
       "                 other_designations  map_location chromosome  \\\n",
       "tax_id                                                         \n",
       "8407    nuclear RNA export factor 1           NaN         11   \n",
       "8364    nuclear RNA export factor 1           NaN          4   \n",
       "9598    nuclear RNA export factor 1           NaN          9   \n",
       "9913    nuclear RNA export factor 1           NaN         29   \n",
       "9615    nuclear RNA export factor 1           NaN         18   \n",
       "\n",
       "       genomic_nucleotide_accession.version  \\\n",
       "tax_id                                        \n",
       "8407                            NC_053499.1   \n",
       "8364                            NC_030680.2   \n",
       "9598                            NC_072407.2   \n",
       "9913                            NC_037356.1   \n",
       "9615                            NC_051822.1   \n",
       "\n",
       "        start_position_on_the_genomic_accession  \\\n",
       "tax_id                                            \n",
       "8407                                120752259.0   \n",
       "8364                                 36493131.0   \n",
       "9598                                 65104305.0   \n",
       "9913                                 41099477.0   \n",
       "9615                                 54936964.0   \n",
       "\n",
       "        end_position_on_the_genomic_accession orientation  exon_count  \n",
       "tax_id                                                                 \n",
       "8407                              120809664.0        plus        22.0  \n",
       "8364                               36532401.0       minus        23.0  \n",
       "9598                               65118449.0       minus        23.0  \n",
       "9913                               41110792.0       minus        22.0  \n",
       "9615                               54947631.0        plus        21.0  "
      ],
      "text/html": [
       "<div>\n",
       "<style scoped>\n",
       "    .dataframe tbody tr th:only-of-type {\n",
       "        vertical-align: middle;\n",
       "    }\n",
       "\n",
       "    .dataframe tbody tr th {\n",
       "        vertical-align: top;\n",
       "    }\n",
       "\n",
       "    .dataframe thead th {\n",
       "        text-align: right;\n",
       "    }\n",
       "</style>\n",
       "<table border=\"1\" class=\"dataframe\">\n",
       "  <thead>\n",
       "    <tr style=\"text-align: right;\">\n",
       "      <th></th>\n",
       "      <th>org_name</th>\n",
       "      <th>gene_id</th>\n",
       "      <th>current_id</th>\n",
       "      <th>status</th>\n",
       "      <th>symbol</th>\n",
       "      <th>aliases</th>\n",
       "      <th>description</th>\n",
       "      <th>other_designations</th>\n",
       "      <th>map_location</th>\n",
       "      <th>chromosome</th>\n",
       "      <th>genomic_nucleotide_accession.version</th>\n",
       "      <th>start_position_on_the_genomic_accession</th>\n",
       "      <th>end_position_on_the_genomic_accession</th>\n",
       "      <th>orientation</th>\n",
       "      <th>exon_count</th>\n",
       "    </tr>\n",
       "    <tr>\n",
       "      <th>tax_id</th>\n",
       "      <th></th>\n",
       "      <th></th>\n",
       "      <th></th>\n",
       "      <th></th>\n",
       "      <th></th>\n",
       "      <th></th>\n",
       "      <th></th>\n",
       "      <th></th>\n",
       "      <th></th>\n",
       "      <th></th>\n",
       "      <th></th>\n",
       "      <th></th>\n",
       "      <th></th>\n",
       "      <th></th>\n",
       "      <th></th>\n",
       "    </tr>\n",
       "  </thead>\n",
       "  <tbody>\n",
       "    <tr>\n",
       "      <th>8407</th>\n",
       "      <td>Rana temporaria</td>\n",
       "      <td>120917577</td>\n",
       "      <td>0</td>\n",
       "      <td>live</td>\n",
       "      <td>NXF1</td>\n",
       "      <td>NaN</td>\n",
       "      <td>nuclear RNA export factor 1</td>\n",
       "      <td>nuclear RNA export factor 1</td>\n",
       "      <td>NaN</td>\n",
       "      <td>11</td>\n",
       "      <td>NC_053499.1</td>\n",
       "      <td>120752259.0</td>\n",
       "      <td>120809664.0</td>\n",
       "      <td>plus</td>\n",
       "      <td>22.0</td>\n",
       "    </tr>\n",
       "    <tr>\n",
       "      <th>8364</th>\n",
       "      <td>Xenopus tropicalis</td>\n",
       "      <td>734058</td>\n",
       "      <td>0</td>\n",
       "      <td>live</td>\n",
       "      <td>nxf1</td>\n",
       "      <td>mex67, tap</td>\n",
       "      <td>nuclear RNA export factor 1</td>\n",
       "      <td>nuclear RNA export factor 1</td>\n",
       "      <td>NaN</td>\n",
       "      <td>4</td>\n",
       "      <td>NC_030680.2</td>\n",
       "      <td>36493131.0</td>\n",
       "      <td>36532401.0</td>\n",
       "      <td>minus</td>\n",
       "      <td>23.0</td>\n",
       "    </tr>\n",
       "    <tr>\n",
       "      <th>9598</th>\n",
       "      <td>Pan troglodytes</td>\n",
       "      <td>451267</td>\n",
       "      <td>0</td>\n",
       "      <td>live</td>\n",
       "      <td>NXF1</td>\n",
       "      <td>CK820_G0030982</td>\n",
       "      <td>nuclear RNA export factor 1</td>\n",
       "      <td>nuclear RNA export factor 1</td>\n",
       "      <td>NaN</td>\n",
       "      <td>9</td>\n",
       "      <td>NC_072407.2</td>\n",
       "      <td>65104305.0</td>\n",
       "      <td>65118449.0</td>\n",
       "      <td>minus</td>\n",
       "      <td>23.0</td>\n",
       "    </tr>\n",
       "    <tr>\n",
       "      <th>9913</th>\n",
       "      <td>Bos taurus</td>\n",
       "      <td>512136</td>\n",
       "      <td>0</td>\n",
       "      <td>live</td>\n",
       "      <td>NXF1</td>\n",
       "      <td>NaN</td>\n",
       "      <td>nuclear RNA export factor 1</td>\n",
       "      <td>nuclear RNA export factor 1</td>\n",
       "      <td>NaN</td>\n",
       "      <td>29</td>\n",
       "      <td>NC_037356.1</td>\n",
       "      <td>41099477.0</td>\n",
       "      <td>41110792.0</td>\n",
       "      <td>minus</td>\n",
       "      <td>22.0</td>\n",
       "    </tr>\n",
       "    <tr>\n",
       "      <th>9615</th>\n",
       "      <td>Canis lupus familiaris</td>\n",
       "      <td>483780</td>\n",
       "      <td>0</td>\n",
       "      <td>live</td>\n",
       "      <td>NXF1</td>\n",
       "      <td>NaN</td>\n",
       "      <td>nuclear RNA export factor 1</td>\n",
       "      <td>nuclear RNA export factor 1</td>\n",
       "      <td>NaN</td>\n",
       "      <td>18</td>\n",
       "      <td>NC_051822.1</td>\n",
       "      <td>54936964.0</td>\n",
       "      <td>54947631.0</td>\n",
       "      <td>plus</td>\n",
       "      <td>21.0</td>\n",
       "    </tr>\n",
       "  </tbody>\n",
       "</table>\n",
       "</div>"
      ]
     },
     "execution_count": 3,
     "metadata": {},
     "output_type": "execute_result"
    }
   ],
   "execution_count": 3
  },
  {
   "metadata": {
    "ExecuteTime": {
     "end_time": "2025-04-14T09:14:18.301364Z",
     "start_time": "2025-04-14T09:14:18.297565Z"
    }
   },
   "cell_type": "code",
   "source": [
    "phylas = [\n",
    "    \"Cnidaria\",\n",
    "    \"Ctenophora\",\n",
    "    \"Choanoflagellata\",\n",
    "    \"Amoeba\",\n",
    "    \"Ciliophora\"\n",
    "]"
   ],
   "id": "1f0d1efa6c11b669",
   "outputs": [],
   "execution_count": 4
  },
  {
   "metadata": {
    "ExecuteTime": {
     "end_time": "2025-04-14T09:05:27.781657Z",
     "start_time": "2025-04-14T08:49:04.219803Z"
    }
   },
   "cell_type": "code",
   "source": [
    "# long-time func !!!\n",
    "phyla_taxids, taxids_error = select_phyla(df, phylas)\n",
    "phyla_taxids"
   ],
   "id": "d153abeb11cabe75",
   "outputs": [
    {
     "name": "stdout",
     "output_type": "stream",
     "text": [
      "ERROR taxid: 9669, Mustela putorius furo\n",
      "ERROR taxid: 13085, Heteronotia binoei\n",
      "ERROR taxid: 30640, Sciurus carolinensis\n",
      "ERROR taxid: 9715, Mirounga leonina\n",
      "ERROR taxid: 61156, Arvicanthis niloticus\n",
      "Cnidaria: 50429, Stylophora pistillata\n",
      "ERROR taxid: 2732470, Bacidia gigantensis\n",
      "Choanoflagellata: 431895, Monosiga brevicollis MX1\n",
      "Cnidaria: 6105, Actinia tenebrosa\n",
      "ERROR taxid: 143948, Diuraphis noxia\n",
      "Cnidaria: 6087, Hydra vulgaris\n",
      "Choanoflagellata: 946362, Salpingoeca rosetta\n",
      "Cnidaria: 45351, Nematostella vectensis\n"
     ]
    },
    {
     "data": {
      "text/plain": [
       "{'Cnidaria': [50429, 6105, 6087, 45351],\n",
       " 'Ctenophora': [],\n",
       " 'Choanoflagellata': [431895, 946362],\n",
       " 'Amoeba': [],\n",
       " 'Ciliophora': []}"
      ]
     },
     "execution_count": 4,
     "metadata": {},
     "output_type": "execute_result"
    }
   ],
   "execution_count": 4
  },
  {
   "metadata": {
    "ExecuteTime": {
     "end_time": "2025-04-14T09:14:24.242093Z",
     "start_time": "2025-04-14T09:14:24.238853Z"
    }
   },
   "cell_type": "code",
   "source": [
    "found_phyla_taxids = {\n",
    "    'Cnidaria': [50429, 6105, 6087, 45351],\n",
    "    'Ctenophora': [],\n",
    "    'Choanoflagellata': [431895, 946362],\n",
    "    'Amoeba': [],\n",
    "    'Ciliophora': []\n",
    "}"
   ],
   "id": "70881116d944110b",
   "outputs": [],
   "execution_count": 5
  },
  {
   "metadata": {},
   "cell_type": "code",
   "outputs": [],
   "execution_count": null,
   "source": "taxids_error",
   "id": "b90c7f3fc914dbb6"
  },
  {
   "metadata": {
    "ExecuteTime": {
     "end_time": "2025-04-14T09:11:04.749967Z",
     "start_time": "2025-04-14T09:11:04.747593Z"
    }
   },
   "cell_type": "code",
   "source": "found_taxids_error = [9669, 13085, 30640, 9715, 61156, 2732470, 143948]",
   "id": "a56ad9d40ee1bcc5",
   "outputs": [],
   "execution_count": 5
  },
  {
   "metadata": {
    "ExecuteTime": {
     "end_time": "2025-04-14T09:12:07.503279Z",
     "start_time": "2025-04-14T09:11:55.916420Z"
    }
   },
   "cell_type": "code",
   "source": [
    "phyla_taxids_missed = select_phyla(df, phylas, found_taxids_error)\n",
    "phyla_taxids_missed[0]"
   ],
   "id": "c4d2d8b406f0eceb",
   "outputs": [
    {
     "data": {
      "text/plain": [
       "{'Cnidaria': [],\n",
       " 'Ctenophora': [],\n",
       " 'Choanoflagellata': [],\n",
       " 'Amoeba': [],\n",
       " 'Ciliophora': []}"
      ]
     },
     "execution_count": 7,
     "metadata": {},
     "output_type": "execute_result"
    }
   ],
   "execution_count": 7
  },
  {
   "metadata": {
    "ExecuteTime": {
     "end_time": "2025-04-14T09:15:10.872494Z",
     "start_time": "2025-04-14T09:14:48.094702Z"
    }
   },
   "cell_type": "code",
   "source": "download_all_files_ncbi(df, found_phyla_taxids, phylas=[\"Cnidaria\", \"Choanoflagellata\"])",
   "id": "673c86bda8c8aba6",
   "outputs": [
    {
     "name": "stdout",
     "output_type": "stream",
     "text": [
      "Gene, mRNA, protein for Cnidaria/stylophora_pistillata downloaded successfully\n",
      "Gene, mRNA, protein for Cnidaria/actinia_tenebrosa downloaded successfully\n",
      "Gene, mRNA, protein for Cnidaria/hydra_vulgaris downloaded successfully\n",
      "Gene, mRNA, protein for Cnidaria/nematostella_vectensis downloaded successfully\n",
      "Gene GenBank for Cnidaria/stylophora_pistillata downloaded successfully\n",
      "Gene GenBank for Cnidaria/actinia_tenebrosa downloaded successfully\n",
      "Gene GenBank for Cnidaria/hydra_vulgaris downloaded successfully\n",
      "Gene GenBank for Cnidaria/nematostella_vectensis downloaded successfully\n",
      "Exons for Cnidaria/stylophora_pistillata created successfully\n",
      "Exons for Cnidaria/actinia_tenebrosa created successfully\n",
      "Exons for Cnidaria/hydra_vulgaris created successfully\n",
      "Exons for Cnidaria/nematostella_vectensis created successfully\n",
      "\n",
      "Gene, mRNA, protein for Choanoflagellata/monosiga_brevicollis_mx1 downloaded successfully\n",
      "Gene, mRNA, protein for Choanoflagellata/salpingoeca_rosetta downloaded successfully\n",
      "Gene GenBank for Choanoflagellata/monosiga_brevicollis_mx1 downloaded successfully\n",
      "Gene GenBank for Choanoflagellata/salpingoeca_rosetta downloaded successfully\n",
      "Exons for Choanoflagellata/monosiga_brevicollis_mx1 created successfully\n",
      "Exons for Choanoflagellata/salpingoeca_rosetta created successfully\n",
      "\n"
     ]
    }
   ],
   "execution_count": 6
  },
  {
   "metadata": {
    "ExecuteTime": {
     "end_time": "2025-04-14T08:12:52.985139Z",
     "start_time": "2025-04-14T08:12:52.983253Z"
    }
   },
   "cell_type": "code",
   "source": "",
   "id": "483ccbced7aca93b",
   "outputs": [],
   "execution_count": null
  },
  {
   "metadata": {},
   "cell_type": "code",
   "outputs": [],
   "execution_count": null,
   "source": "",
   "id": "807a5f3787f1c243"
  },
  {
   "metadata": {},
   "cell_type": "code",
   "outputs": [],
   "execution_count": null,
   "source": "",
   "id": "df951494004b21d7"
  }
 ],
 "metadata": {
  "kernelspec": {
   "display_name": "Python 3",
   "language": "python",
   "name": "python3"
  },
  "language_info": {
   "codemirror_mode": {
    "name": "ipython",
    "version": 2
   },
   "file_extension": ".py",
   "mimetype": "text/x-python",
   "name": "python",
   "nbconvert_exporter": "python",
   "pygments_lexer": "ipython2",
   "version": "2.7.6"
  }
 },
 "nbformat": 4,
 "nbformat_minor": 5
}
