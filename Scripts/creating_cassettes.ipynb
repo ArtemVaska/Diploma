{
 "cells": [
  {
   "metadata": {
    "ExecuteTime": {
     "end_time": "2025-04-24T09:35:10.561191Z",
     "start_time": "2025-04-24T09:35:09.288361Z"
    }
   },
   "cell_type": "code",
   "source": [
    "from Scripts.fasta_processing import dict_align_to_fasta, read_single_fasta\n",
    "from data_processing import analyze_exons, create_cassette, dict_align_create, find_codon\n",
    "from fasta_processing import read_fasta"
   ],
   "id": "eab099399613ed28",
   "outputs": [],
   "execution_count": 1
  },
  {
   "metadata": {
    "ExecuteTime": {
     "end_time": "2025-04-24T09:35:14.192583Z",
     "start_time": "2025-04-24T09:35:14.186459Z"
    }
   },
   "cell_type": "code",
   "source": "lingula_anatina_0 = analyze_exons(\"../Datasets/Brachiopoda/lingula_anatina_0/ncbi_dataset/data/exons.fa\")",
   "id": "5b316c7dfbbf65ff",
   "outputs": [],
   "execution_count": 2
  },
  {
   "metadata": {},
   "cell_type": "code",
   "outputs": [],
   "execution_count": null,
   "source": [
    "lingula_anatina_0_cassette = create_cassette(phyla=\"Brachiopoda\",\n",
    "                                             org_name=\"lingula_anatina_0\",\n",
    "                                             df_exons=lingula_anatina_0,\n",
    "                                             exons_i=[9, 10])"
   ],
   "id": "241298000bf9e3c6"
  },
  {
   "metadata": {},
   "cell_type": "code",
   "outputs": [],
   "execution_count": null,
   "source": "",
   "id": "c548137334df23eb"
  },
  {
   "metadata": {
    "ExecuteTime": {
     "end_time": "2025-04-24T09:37:17.748848Z",
     "start_time": "2025-04-24T09:37:17.736408Z"
    }
   },
   "cell_type": "code",
   "source": [
    "monosiga_brevicollis_mx1_1 = analyze_exons(\n",
    "    \"../Datasets/Choanoflagellata/monosiga_brevicollis_mx1_1/ncbi_dataset/data/exons.fa\")"
   ],
   "id": "e87f95b26be8e694",
   "outputs": [],
   "execution_count": 3
  },
  {
   "metadata": {
    "ExecuteTime": {
     "end_time": "2025-04-23T08:13:29.357192Z",
     "start_time": "2025-04-23T08:13:29.353893Z"
    }
   },
   "cell_type": "code",
   "source": "salpingoeca_rosetta_0 = analyze_exons(\"../Datasets/Choanoflagellata/salpingoeca_rosetta_0/ncbi_dataset/data/exons.fa\")",
   "id": "5ec1b052f498344d",
   "outputs": [],
   "execution_count": 4
  },
  {
   "metadata": {},
   "cell_type": "code",
   "outputs": [],
   "execution_count": null,
   "source": "",
   "id": "d9759a30b8a86d8d"
  },
  {
   "metadata": {
    "ExecuteTime": {
     "end_time": "2025-04-24T09:37:30.734613Z",
     "start_time": "2025-04-24T09:37:30.682652Z"
    }
   },
   "cell_type": "code",
   "source": [
    "# у этих есть 116 43 у троих кроме гидры, посмотреть тоже можно\n",
    "actinia_tenebrosa_0 = analyze_exons(\n",
    "    \"../Datasets/Cnidaria/actinia_tenebrosa_0/ncbi_dataset/data/exons.fa\")\n",
    "hydra_vulgaris_3 = analyze_exons(\n",
    "    \"../Datasets/Cnidaria/hydra_vulgaris_3/ncbi_dataset/data/exons.fa\")\n",
    "nematostella_vectensis_2 = analyze_exons(\n",
    "    \"../Datasets/Cnidaria/nematostella_vectensis_2/ncbi_dataset/data/exons.fa\")\n",
    "stylophora_pistillata_1 = analyze_exons(\n",
    "    \"../Datasets/Cnidaria/stylophora_pistillata_1/ncbi_dataset/data/exons.fa\")"
   ],
   "id": "9ce8c2e49a196ada",
   "outputs": [],
   "execution_count": 4
  },
  {
   "metadata": {},
   "cell_type": "code",
   "outputs": [],
   "execution_count": null,
   "source": [
    "actinia_tenebrosa_0_cassette = create_cassette(phyla=\"Cnidaria\",\n",
    "                                               org_name=\"actinia_tenebrosa_0\",\n",
    "                                               df_exons=actinia_tenebrosa_0,\n",
    "                                               exons_i=[9, 10])"
   ],
   "id": "e90940be9c9352f1"
  },
  {
   "metadata": {},
   "cell_type": "code",
   "outputs": [],
   "execution_count": null,
   "source": [
    "nematostella_vectensis_2_cassette = create_cassette(phyla=\"Cnidaria\",\n",
    "                                                    org_name=\"nematostella_vectensis_2\",\n",
    "                                                    df_exons=nematostella_vectensis_2,\n",
    "                                                    exons_i=[9, 10])"
   ],
   "id": "8810d9b89fb9e81b"
  },
  {
   "metadata": {},
   "cell_type": "code",
   "outputs": [],
   "execution_count": null,
   "source": "",
   "id": "b2e31e8c1550d451"
  },
  {
   "metadata": {
    "ExecuteTime": {
     "end_time": "2025-04-23T08:13:35.912288Z",
     "start_time": "2025-04-23T08:13:35.906153Z"
    }
   },
   "cell_type": "code",
   "source": [
    "# тоже есть 116 43, надо сравнить\n",
    "aplysia_californica_0 = analyze_exons(\n",
    "    \"../Datasets/Mollusca/aplysia_californica_0/ncbi_dataset/data/exons.fa\")\n",
    "crassostrea_virginica_1 = analyze_exons(\n",
    "    \"../Datasets/Mollusca/crassostrea_virginica_1/ncbi_dataset/data/exons.fa\")\n",
    "gigantopelta_aegis_3 = analyze_exons(\n",
    "    \"../Datasets/Mollusca/gigantopelta_aegis_3/ncbi_dataset/data/exons.fa\")\n",
    "magallana_gigas_2 = analyze_exons(\n",
    "    \"../Datasets/Mollusca/magallana_gigas_2/ncbi_dataset/data/exons.fa\")\n",
    "mya_arenaria_4 = analyze_exons(\n",
    "    \"../Datasets/Mollusca/mya_arenaria_4/ncbi_dataset/data/exons.fa\")\n",
    "pomacea_canaliculata_5 = analyze_exons(\n",
    "    \"../Datasets/Mollusca/pomacea_canaliculata_5/ncbi_dataset/data/exons.fa\")"
   ],
   "id": "7c1acd77aca013c3",
   "outputs": [],
   "execution_count": 6
  },
  {
   "metadata": {},
   "cell_type": "code",
   "outputs": [],
   "execution_count": null,
   "source": [
    "crassostrea_virginica_1_cassette = create_cassette(phyla=\"Mollusca\",\n",
    "                                                   org_name=\"crassostrea_virginica_1\",\n",
    "                                                   df_exons=crassostrea_virginica_1,\n",
    "                                                   exons_i=[11, 12])"
   ],
   "id": "73fc5612e0e4d33f"
  },
  {
   "metadata": {},
   "cell_type": "code",
   "outputs": [],
   "execution_count": null,
   "source": [
    "gigantopelta_aegis_3_cassette = create_cassette(phyla=\"Mollusca\",\n",
    "                                                org_name=\"gigantopelta_aegis_3\",\n",
    "                                                df_exons=gigantopelta_aegis_3,\n",
    "                                                exons_i=[11, 12])"
   ],
   "id": "fefae7ef08ec8537"
  },
  {
   "metadata": {},
   "cell_type": "code",
   "outputs": [],
   "execution_count": null,
   "source": [
    "magallana_gigas_2_cassette = create_cassette(phyla=\"Mollusca\",\n",
    "                                             org_name=\"magallana_gigas_2\",\n",
    "                                             df_exons=magallana_gigas_2,\n",
    "                                             exons_i=[11, 12])"
   ],
   "id": "b2902836d3ff79b1"
  },
  {
   "metadata": {},
   "cell_type": "code",
   "outputs": [],
   "execution_count": null,
   "source": [
    "mya_arenaria_4_cassette = create_cassette(phyla=\"Mollusca\",\n",
    "                                          org_name=\"mya_arenaria_4\",\n",
    "                                          df_exons=mya_arenaria_4,\n",
    "                                          exons_i=[10, 11])"
   ],
   "id": "2ba21914d7617aa6"
  },
  {
   "metadata": {},
   "cell_type": "code",
   "outputs": [],
   "execution_count": null,
   "source": [
    "pomacea_canaliculata_5_cassette = create_cassette(phyla=\"Mollusca\",\n",
    "                                                  org_name=\"pomacea_canaliculata_5\",\n",
    "                                                  df_exons=pomacea_canaliculata_5,\n",
    "                                                  exons_i=[12, 13])"
   ],
   "id": "f6b63f94c8f4d880"
  },
  {
   "metadata": {},
   "cell_type": "code",
   "outputs": [],
   "execution_count": null,
   "source": "",
   "id": "e7398932bfe28d84"
  },
  {
   "metadata": {
    "ExecuteTime": {
     "end_time": "2025-04-23T08:13:39.005311Z",
     "start_time": "2025-04-23T08:13:38.999075Z"
    }
   },
   "cell_type": "code",
   "source": [
    "brugia_malayi_0 = analyze_exons(\n",
    "    \"../Datasets/Nematoda/brugia_malayi_0/ncbi_dataset/data/exons.fa\")\n",
    "caenorhabditis_elegans_2 = analyze_exons(\n",
    "    \"../Datasets/Nematoda/caenorhabditis_elegans_2/ncbi_dataset/data/exons.fa\")\n",
    "caenorhabditis_elegans_3 = analyze_exons(\n",
    "    \"../Datasets/Nematoda/caenorhabditis_elegans_3/ncbi_dataset/data/exons.fa\")\n",
    "trichinella_spiralis_1 = analyze_exons(\n",
    "    \"../Datasets/Nematoda/trichinella_spiralis_1/ncbi_dataset/data/exons.fa\")"
   ],
   "id": "4c0e782df720f260",
   "outputs": [],
   "execution_count": 7
  },
  {
   "metadata": {},
   "cell_type": "code",
   "outputs": [],
   "execution_count": null,
   "source": [
    "brugia_malayi_0_cassette = create_cassette(phyla=\"Nematoda\",\n",
    "                                           org_name=\"brugia_malayi_0\",\n",
    "                                           df_exons=brugia_malayi_0,\n",
    "                                           exons_i=[8, 9])"
   ],
   "id": "9afa2abe1d656593"
  },
  {
   "metadata": {},
   "cell_type": "code",
   "outputs": [],
   "execution_count": null,
   "source": [
    "caenorhabditis_elegans_2_cassette = create_cassette(phyla=\"Nematoda\",\n",
    "                                                    org_name=\"caenorhabditis_elegans_2\",\n",
    "                                                    df_exons=caenorhabditis_elegans_2,\n",
    "                                                    exons_i=[4, 5])"
   ],
   "id": "2b02fddd310f6be3"
  },
  {
   "metadata": {},
   "cell_type": "code",
   "outputs": [],
   "execution_count": null,
   "source": [
    "trichinella_spiralis_1_cassette = create_cassette(phyla=\"Nematoda\",\n",
    "                                                  org_name=\"trichinella_spiralis_1\",\n",
    "                                                  df_exons=trichinella_spiralis_1,\n",
    "                                                  exons_i=[5, 6])"
   ],
   "id": "37bc10cfd4f11d09"
  },
  {
   "metadata": {},
   "cell_type": "code",
   "outputs": [],
   "execution_count": null,
   "source": "",
   "id": "99e9c4595f9959e9"
  },
  {
   "metadata": {
    "ExecuteTime": {
     "end_time": "2025-04-23T08:13:41.702389Z",
     "start_time": "2025-04-23T08:13:41.697653Z"
    }
   },
   "cell_type": "code",
   "source": [
    "opisthorchis_viverrini_2 = analyze_exons(\n",
    "    \"../Datasets/Platyhelminthes/opisthorchis_viverrini_2/ncbi_dataset/data/exons.fa\")\n",
    "schistosoma_haematobium_0 = analyze_exons(\n",
    "    \"../Datasets/Platyhelminthes/schistosoma_haematobium_0/ncbi_dataset/data/exons.fa\")\n",
    "schistosoma_haematobium_1 = analyze_exons(\n",
    "    \"../Datasets/Platyhelminthes/schistosoma_haematobium_1/ncbi_dataset/data/exons.fa\")"
   ],
   "id": "7812606b1352d75f",
   "outputs": [],
   "execution_count": 8
  },
  {
   "metadata": {},
   "cell_type": "code",
   "outputs": [],
   "execution_count": null,
   "source": "",
   "id": "46f9b08a77ad12ed"
  },
  {
   "metadata": {
    "ExecuteTime": {
     "end_time": "2025-04-23T08:13:43.855486Z",
     "start_time": "2025-04-23T08:13:43.851959Z"
    }
   },
   "cell_type": "code",
   "source": [
    "priapulus_caudatus_0 = analyze_exons(\n",
    "    \"../Datasets/Priapulida/priapulus_caudatus_0/ncbi_dataset/data/exons.fa\")"
   ],
   "id": "3c288c5686392a59",
   "outputs": [],
   "execution_count": 9
  },
  {
   "metadata": {},
   "cell_type": "code",
   "outputs": [],
   "execution_count": null,
   "source": [
    "# тоже есть 116 43\n",
    "priapulus_caudatus_0 = create_cassette(phyla=\"Priapulida\",\n",
    "                                       org_name=\"priapulus_caudatus_0\",\n",
    "                                       df_exons=priapulus_caudatus_0,\n",
    "                                       exons_i=[10, 11])"
   ],
   "id": "2ea42da70c765e30"
  },
  {
   "metadata": {},
   "cell_type": "code",
   "outputs": [],
   "execution_count": null,
   "source": "",
   "id": "d2e18ffa4f5aaf24"
  },
  {
   "metadata": {
    "ExecuteTime": {
     "end_time": "2025-04-23T08:13:49.046114Z",
     "start_time": "2025-04-23T08:13:49.042917Z"
    }
   },
   "cell_type": "code",
   "source": [
    "dict_align_info = {\n",
    "    \"Brachiopoda\": [\"lingula_anatina_0\"],\n",
    "    \"Cnidaria\": [\"actinia_tenebrosa_0\", \"nematostella_vectensis_2\"],\n",
    "    \"Mollusca\": [\"crassostrea_virginica_1\", \"gigantopelta_aegis_3\", \"magallana_gigas_2\", \"mya_arenaria_4\",\n",
    "                 \"pomacea_canaliculata_5\"],\n",
    "    \"Nematoda\": [\"brugia_malayi_0\", \"caenorhabditis_elegans_2\", \"trichinella_spiralis_1\"],\n",
    "    \"Priapulida\": [\"priapulus_caudatus_0\"],\n",
    "}"
   ],
   "id": "296f8924f81c7e21",
   "outputs": [],
   "execution_count": 10
  },
  {
   "metadata": {
    "ExecuteTime": {
     "end_time": "2025-04-23T08:15:10.320005Z",
     "start_time": "2025-04-23T08:15:10.316006Z"
    }
   },
   "cell_type": "code",
   "source": [
    "def dict_align_info_analyze(dict_align_info: dict, feature: str) -> dict:\n",
    "    dict_align = {}\n",
    "    for phyla, org_names in dict_align_info.items():\n",
    "        dict_align[phyla] = dict_align_create(phyla, org_names, feature)\n",
    "\n",
    "    for phyla, org_name_seq in dict_align.items():\n",
    "        print()\n",
    "        for org_name, seq in org_name_seq.items():\n",
    "            stop_codon_pos = find_codon(seq, which=\"stop\")\n",
    "            cassette = read_fasta(f\"../Datasets/{phyla}/{org_name}/ncbi_dataset/data/cassette.fa\")[\"cassette\"]\n",
    "            cassette_start = seq.find(cassette)\n",
    "            print(\n",
    "                f\"{phyla}: {org_name}: stop_codon_pos={stop_codon_pos}, equal={stop_codon_pos + 3 == len(seq)} | cassette_start={cassette_start}, intron_len_to_stop_codon={stop_codon_pos - cassette_start}\")\n",
    "    return dict_align"
   ],
   "id": "c0e6a826c97eb71d",
   "outputs": [],
   "execution_count": 11
  },
  {
   "metadata": {
    "ExecuteTime": {
     "end_time": "2025-04-23T08:15:11.950207Z",
     "start_time": "2025-04-23T08:15:11.938142Z"
    }
   },
   "cell_type": "code",
   "source": "dict_align_cds = dict_align_info_analyze(dict_align_info, \"cds\")",
   "id": "3a9b9a8a9894cec0",
   "outputs": [
    {
     "name": "stdout",
     "output_type": "stream",
     "text": [
      "\n",
      "Brachiopoda: lingula_anatina_0: stop_codon_pos=1854, equal=True | cassette_start=-1, intron_len_to_stop_codon=1855\n",
      "\n",
      "Cnidaria: actinia_tenebrosa_0: stop_codon_pos=2091, equal=True | cassette_start=-1, intron_len_to_stop_codon=2092\n",
      "Cnidaria: nematostella_vectensis_2: stop_codon_pos=2097, equal=True | cassette_start=-1, intron_len_to_stop_codon=2098\n",
      "\n",
      "Mollusca: crassostrea_virginica_1: stop_codon_pos=2004, equal=True | cassette_start=-1, intron_len_to_stop_codon=2005\n",
      "Mollusca: gigantopelta_aegis_3: stop_codon_pos=1941, equal=True | cassette_start=-1, intron_len_to_stop_codon=1942\n",
      "Mollusca: magallana_gigas_2: stop_codon_pos=1995, equal=True | cassette_start=-1, intron_len_to_stop_codon=1996\n",
      "Mollusca: mya_arenaria_4: stop_codon_pos=1986, equal=True | cassette_start=-1, intron_len_to_stop_codon=1987\n",
      "Mollusca: pomacea_canaliculata_5: stop_codon_pos=2076, equal=True | cassette_start=-1, intron_len_to_stop_codon=2077\n",
      "\n",
      "Nematoda: brugia_malayi_0: stop_codon_pos=1950, equal=True | cassette_start=-1, intron_len_to_stop_codon=1951\n",
      "Nematoda: caenorhabditis_elegans_2: stop_codon_pos=1827, equal=True | cassette_start=-1, intron_len_to_stop_codon=1828\n",
      "Nematoda: trichinella_spiralis_1: stop_codon_pos=1479, equal=True | cassette_start=-1, intron_len_to_stop_codon=1480\n",
      "\n",
      "Priapulida: priapulus_caudatus_0: stop_codon_pos=1995, equal=True | cassette_start=-1, intron_len_to_stop_codon=1996\n"
     ]
    }
   ],
   "execution_count": 12
  },
  {
   "metadata": {
    "ExecuteTime": {
     "end_time": "2025-04-23T08:15:24.244348Z",
     "start_time": "2025-04-23T08:15:24.236996Z"
    }
   },
   "cell_type": "code",
   "source": "dict_align_cds_cassette = dict_align_info_analyze(dict_align_info, \"cds_cassette\")",
   "id": "9d3276a45bec6a4f",
   "outputs": [
    {
     "name": "stdout",
     "output_type": "stream",
     "text": [
      "\n",
      "Brachiopoda: lingula_anatina_0: stop_codon_pos=1062, equal=False | cassette_start=977, intron_len_to_stop_codon=85\n",
      "\n",
      "Cnidaria: actinia_tenebrosa_0: stop_codon_pos=1143, equal=False | cassette_start=1142, intron_len_to_stop_codon=1\n",
      "Cnidaria: nematostella_vectensis_2: stop_codon_pos=1191, equal=False | cassette_start=1172, intron_len_to_stop_codon=19\n",
      "\n",
      "Mollusca: crassostrea_virginica_1: stop_codon_pos=1284, equal=False | cassette_start=1109, intron_len_to_stop_codon=175\n",
      "Mollusca: gigantopelta_aegis_3: stop_codon_pos=1071, equal=False | cassette_start=1049, intron_len_to_stop_codon=22\n",
      "Mollusca: magallana_gigas_2: stop_codon_pos=1218, equal=False | cassette_start=1100, intron_len_to_stop_codon=118\n",
      "Mollusca: mya_arenaria_4: stop_codon_pos=1191, equal=False | cassette_start=1109, intron_len_to_stop_codon=82\n",
      "Mollusca: pomacea_canaliculata_5: stop_codon_pos=1155, equal=False | cassette_start=1142, intron_len_to_stop_codon=13\n",
      "\n",
      "Nematoda: brugia_malayi_0: stop_codon_pos=993, equal=False | cassette_start=956, intron_len_to_stop_codon=37\n",
      "Nematoda: caenorhabditis_elegans_2: stop_codon_pos=906, equal=False | cassette_start=896, intron_len_to_stop_codon=10\n",
      "Nematoda: trichinella_spiralis_1: stop_codon_pos=864, equal=False | cassette_start=761, intron_len_to_stop_codon=103\n",
      "\n",
      "Priapulida: priapulus_caudatus_0: stop_codon_pos=1215, equal=False | cassette_start=1082, intron_len_to_stop_codon=133\n"
     ]
    }
   ],
   "execution_count": 13
  },
  {
   "metadata": {},
   "cell_type": "code",
   "outputs": [],
   "execution_count": null,
   "source": [
    "crassostrea_virginica_1_cds = read_single_fasta(\n",
    "    f\"../Datasets/Mollusca/crassostrea_virginica_1/ncbi_dataset/data/cds.fna\")\n",
    "crassostrea_virginica_1_cds_cassette = read_single_fasta(\n",
    "    f\"../Datasets/Mollusca/crassostrea_virginica_1/ncbi_dataset/data/cds_cassette.fa\")"
   ],
   "id": "bb373d6cc88b0908"
  },
  {
   "metadata": {},
   "cell_type": "code",
   "outputs": [],
   "execution_count": null,
   "source": "crassostrea_virginica_1_cds_cassette[:1109]",
   "id": "1e23de729caa9683"
  },
  {
   "metadata": {},
   "cell_type": "code",
   "outputs": [],
   "execution_count": null,
   "source": [
    "# for phyla, org_name_seq in dict_align_cds_cassette.items():\n",
    "#     dict_align_to_fasta(dict_align_cds_cassette[phyla], f\"../Alignment/{phyla}_cds_cassette.fa\")"
   ],
   "id": "e2ed5ea610deedf1"
  },
  {
   "metadata": {},
   "cell_type": "code",
   "outputs": [],
   "execution_count": null,
   "source": [
    "dict_align_cassette = {}\n",
    "for phyla, org_names in dict_align_info.items():\n",
    "    dict_align_cassette[phyla] = dict_align_create(phyla, org_names, \"cassette\")"
   ],
   "id": "3036afbeae270861"
  },
  {
   "metadata": {},
   "cell_type": "code",
   "outputs": [],
   "execution_count": null,
   "source": [
    "for phyla, org_name_seq in dict_align_cds_cassette.items():\n",
    "    dict_align_to_fasta(dict_align_cassette[phyla], f\"../Alignment/{phyla}_cassette.fa\")"
   ],
   "id": "ca6386806306ad37"
  }
 ],
 "metadata": {},
 "nbformat": 5,
 "nbformat_minor": 9
}
