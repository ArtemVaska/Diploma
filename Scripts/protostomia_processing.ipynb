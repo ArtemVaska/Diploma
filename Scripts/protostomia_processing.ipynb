{
 "cells": [
  {
   "cell_type": "code",
   "id": "initial_id",
   "metadata": {
    "collapsed": true,
    "ExecuteTime": {
     "end_time": "2025-05-19T07:12:57.903406Z",
     "start_time": "2025-05-19T07:12:57.666627Z"
    }
   },
   "source": [
    "import os\n",
    "\n",
    "import pandas as pd\n",
    "\n",
    "from os.path import commonprefix\n",
    "from pathlib import Path\n",
    "from IPython.display import HTML\n",
    "\n",
    "from highlight import highlight_intron_in_seq\n",
    "from fasta_processing import read_single_fasta, dict_align_to_fasta, read_fasta\n",
    "from datasets import select_all_phylas, download_all_files_ncbi, check_transcript_count\n",
    "from taxonomy_processing import create_taxonomy\n",
    "from data_processing import analyze_exons, create_cassette, concat_cassette, dict_align_create, find_codon, \\\n",
    "    dict_align_info_analyze, dict_align_update_keys\n",
    "from build_rna_structures import run_rnafold_with_highlight"
   ],
   "outputs": [],
   "execution_count": 1
  },
  {
   "metadata": {
    "ExecuteTime": {
     "end_time": "2025-05-19T07:12:57.944939Z",
     "start_time": "2025-05-19T07:12:57.919016Z"
    }
   },
   "cell_type": "code",
   "source": [
    "column_names = [\"tax_id\", \"org_name\", \"gene_id\", \"current_id\", \"status\", \"symbol\", \"aliases\", \"description\",\n",
    "                \"other_designations\", \"map_location\", \"chromosome\", \"genomic_nucleotide_accession.version\",\n",
    "                \"start_position_on_the_genomic_accession\", \"end_position_on_the_genomic_accession\", \"orientation\",\n",
    "                \"exon_count\", \"to_delete_1\", \"to_delete_2\"]\n",
    "\n",
    "df = pd.read_csv(\"../all_nxf1_2.txt\", sep=\"\\t\", skiprows=1, names=column_names, index_col=0)\n",
    "df.drop([\"to_delete_1\", \"to_delete_2\"], axis=1, inplace=True)\n",
    "df.head()"
   ],
   "id": "598fc83782e0fe4a",
   "outputs": [
    {
     "data": {
      "text/plain": [
       "                  org_name    gene_id  current_id status symbol  \\\n",
       "tax_id                                                            \n",
       "9606          Homo sapiens      10482           0   live   NXF1   \n",
       "10090         Mus musculus      53319           0   live   Nxf1   \n",
       "10116    Rattus norvegicus      59087           0   live   Nxf1   \n",
       "8407       Rana temporaria  120917577           0   live   NXF1   \n",
       "8364    Xenopus tropicalis     734058           0   live   nxf1   \n",
       "\n",
       "                 aliases                  description  \\\n",
       "tax_id                                                  \n",
       "9606          MEX67, TAP  nuclear RNA export factor 1   \n",
       "10090   Mex67, Mvb1, Tap  nuclear RNA export factor 1   \n",
       "10116        Mex67h, Tap  nuclear RNA export factor 1   \n",
       "8407                 NaN  nuclear RNA export factor 1   \n",
       "8364          mex67, tap  nuclear RNA export factor 1   \n",
       "\n",
       "                                       other_designations map_location  \\\n",
       "tax_id                                                                   \n",
       "9606    nuclear RNA export factor 1|mRNA export factor...      11q12.3   \n",
       "10090   nuclear RNA export factor 1|Mex 67 homolog|mRN...    19 5.5 cM   \n",
       "10116   nuclear RNA export factor 1|mRNA export factor...         1q43   \n",
       "8407                          nuclear RNA export factor 1          NaN   \n",
       "8364                          nuclear RNA export factor 1          NaN   \n",
       "\n",
       "       chromosome genomic_nucleotide_accession.version  \\\n",
       "tax_id                                                   \n",
       "9606           11                         NC_000011.10   \n",
       "10090          19                          NC_000085.7   \n",
       "10116           1                          NC_086019.1   \n",
       "8407           11                          NC_053499.1   \n",
       "8364            4                          NC_030680.2   \n",
       "\n",
       "        start_position_on_the_genomic_accession  \\\n",
       "tax_id                                            \n",
       "9606                                 62792130.0   \n",
       "10090                                 8734467.0   \n",
       "10116                               215084563.0   \n",
       "8407                                120752259.0   \n",
       "8364                                 36493131.0   \n",
       "\n",
       "        end_position_on_the_genomic_accession orientation  exon_count  \n",
       "tax_id                                                                 \n",
       "9606                               62805440.0       minus        22.0  \n",
       "10090                               8748274.0        plus        20.0  \n",
       "10116                             215097756.0        plus        21.0  \n",
       "8407                              120809664.0        plus        22.0  \n",
       "8364                               36532401.0       minus        23.0  "
      ],
      "text/html": [
       "<div>\n",
       "<style scoped>\n",
       "    .dataframe tbody tr th:only-of-type {\n",
       "        vertical-align: middle;\n",
       "    }\n",
       "\n",
       "    .dataframe tbody tr th {\n",
       "        vertical-align: top;\n",
       "    }\n",
       "\n",
       "    .dataframe thead th {\n",
       "        text-align: right;\n",
       "    }\n",
       "</style>\n",
       "<table border=\"1\" class=\"dataframe\">\n",
       "  <thead>\n",
       "    <tr style=\"text-align: right;\">\n",
       "      <th></th>\n",
       "      <th>org_name</th>\n",
       "      <th>gene_id</th>\n",
       "      <th>current_id</th>\n",
       "      <th>status</th>\n",
       "      <th>symbol</th>\n",
       "      <th>aliases</th>\n",
       "      <th>description</th>\n",
       "      <th>other_designations</th>\n",
       "      <th>map_location</th>\n",
       "      <th>chromosome</th>\n",
       "      <th>genomic_nucleotide_accession.version</th>\n",
       "      <th>start_position_on_the_genomic_accession</th>\n",
       "      <th>end_position_on_the_genomic_accession</th>\n",
       "      <th>orientation</th>\n",
       "      <th>exon_count</th>\n",
       "    </tr>\n",
       "    <tr>\n",
       "      <th>tax_id</th>\n",
       "      <th></th>\n",
       "      <th></th>\n",
       "      <th></th>\n",
       "      <th></th>\n",
       "      <th></th>\n",
       "      <th></th>\n",
       "      <th></th>\n",
       "      <th></th>\n",
       "      <th></th>\n",
       "      <th></th>\n",
       "      <th></th>\n",
       "      <th></th>\n",
       "      <th></th>\n",
       "      <th></th>\n",
       "      <th></th>\n",
       "    </tr>\n",
       "  </thead>\n",
       "  <tbody>\n",
       "    <tr>\n",
       "      <th>9606</th>\n",
       "      <td>Homo sapiens</td>\n",
       "      <td>10482</td>\n",
       "      <td>0</td>\n",
       "      <td>live</td>\n",
       "      <td>NXF1</td>\n",
       "      <td>MEX67, TAP</td>\n",
       "      <td>nuclear RNA export factor 1</td>\n",
       "      <td>nuclear RNA export factor 1|mRNA export factor...</td>\n",
       "      <td>11q12.3</td>\n",
       "      <td>11</td>\n",
       "      <td>NC_000011.10</td>\n",
       "      <td>62792130.0</td>\n",
       "      <td>62805440.0</td>\n",
       "      <td>minus</td>\n",
       "      <td>22.0</td>\n",
       "    </tr>\n",
       "    <tr>\n",
       "      <th>10090</th>\n",
       "      <td>Mus musculus</td>\n",
       "      <td>53319</td>\n",
       "      <td>0</td>\n",
       "      <td>live</td>\n",
       "      <td>Nxf1</td>\n",
       "      <td>Mex67, Mvb1, Tap</td>\n",
       "      <td>nuclear RNA export factor 1</td>\n",
       "      <td>nuclear RNA export factor 1|Mex 67 homolog|mRN...</td>\n",
       "      <td>19 5.5 cM</td>\n",
       "      <td>19</td>\n",
       "      <td>NC_000085.7</td>\n",
       "      <td>8734467.0</td>\n",
       "      <td>8748274.0</td>\n",
       "      <td>plus</td>\n",
       "      <td>20.0</td>\n",
       "    </tr>\n",
       "    <tr>\n",
       "      <th>10116</th>\n",
       "      <td>Rattus norvegicus</td>\n",
       "      <td>59087</td>\n",
       "      <td>0</td>\n",
       "      <td>live</td>\n",
       "      <td>Nxf1</td>\n",
       "      <td>Mex67h, Tap</td>\n",
       "      <td>nuclear RNA export factor 1</td>\n",
       "      <td>nuclear RNA export factor 1|mRNA export factor...</td>\n",
       "      <td>1q43</td>\n",
       "      <td>1</td>\n",
       "      <td>NC_086019.1</td>\n",
       "      <td>215084563.0</td>\n",
       "      <td>215097756.0</td>\n",
       "      <td>plus</td>\n",
       "      <td>21.0</td>\n",
       "    </tr>\n",
       "    <tr>\n",
       "      <th>8407</th>\n",
       "      <td>Rana temporaria</td>\n",
       "      <td>120917577</td>\n",
       "      <td>0</td>\n",
       "      <td>live</td>\n",
       "      <td>NXF1</td>\n",
       "      <td>NaN</td>\n",
       "      <td>nuclear RNA export factor 1</td>\n",
       "      <td>nuclear RNA export factor 1</td>\n",
       "      <td>NaN</td>\n",
       "      <td>11</td>\n",
       "      <td>NC_053499.1</td>\n",
       "      <td>120752259.0</td>\n",
       "      <td>120809664.0</td>\n",
       "      <td>plus</td>\n",
       "      <td>22.0</td>\n",
       "    </tr>\n",
       "    <tr>\n",
       "      <th>8364</th>\n",
       "      <td>Xenopus tropicalis</td>\n",
       "      <td>734058</td>\n",
       "      <td>0</td>\n",
       "      <td>live</td>\n",
       "      <td>nxf1</td>\n",
       "      <td>mex67, tap</td>\n",
       "      <td>nuclear RNA export factor 1</td>\n",
       "      <td>nuclear RNA export factor 1</td>\n",
       "      <td>NaN</td>\n",
       "      <td>4</td>\n",
       "      <td>NC_030680.2</td>\n",
       "      <td>36493131.0</td>\n",
       "      <td>36532401.0</td>\n",
       "      <td>minus</td>\n",
       "      <td>23.0</td>\n",
       "    </tr>\n",
       "  </tbody>\n",
       "</table>\n",
       "</div>"
      ]
     },
     "execution_count": 2,
     "metadata": {},
     "output_type": "execute_result"
    }
   ],
   "execution_count": 2
  },
  {
   "metadata": {
    "ExecuteTime": {
     "end_time": "2025-05-19T07:12:58.081352Z",
     "start_time": "2025-05-19T07:12:58.074975Z"
    }
   },
   "cell_type": "code",
   "source": [
    "df_taxonomy = pd.read_csv(\"../all_phylas_taxonomy.tsv\", sep=\"\\t\", names=[\"taxid\", \"taxonomy\"], index_col=0,\n",
    "                          dtype={\"taxid\": int, \"taxonomy\": str})"
   ],
   "id": "8ed9afdb8aae83d4",
   "outputs": [],
   "execution_count": 3
  },
  {
   "metadata": {
    "ExecuteTime": {
     "end_time": "2025-05-19T07:12:58.110774Z",
     "start_time": "2025-05-19T07:12:58.106981Z"
    }
   },
   "cell_type": "code",
   "source": [
    "df_protostomia = df_taxonomy[df_taxonomy.taxonomy.str.contains(\"Protostomia\")]\n",
    "df_prot = df_protostomia[~df_protostomia.taxonomy.str.contains(\"Arthropoda\")]"
   ],
   "id": "d62ef322604061d3",
   "outputs": [],
   "execution_count": 4
  },
  {
   "metadata": {
    "ExecuteTime": {
     "end_time": "2025-05-19T07:12:58.278436Z",
     "start_time": "2025-05-19T07:12:58.275558Z"
    }
   },
   "cell_type": "code",
   "source": [
    "df_ecdysozoa = df_prot[df_prot.taxonomy.str.contains(\"Ecdysozoa\")]\n",
    "df_spiralia = df_prot[df_prot.taxonomy.str.contains(\"Spiralia\")]"
   ],
   "id": "1b5a2a3fbb90bd",
   "outputs": [],
   "execution_count": 5
  },
  {
   "metadata": {
    "ExecuteTime": {
     "end_time": "2025-05-19T07:12:58.349719Z",
     "start_time": "2025-05-19T07:12:58.347432Z"
    }
   },
   "cell_type": "code",
   "source": [
    "prot_taxids = {\n",
    "    \"Ecdysozoa\": df_ecdysozoa.index.tolist(),\n",
    "    \"Spiralia\": df_spiralia.index.tolist(),\n",
    "}\n",
    "prot_taxids"
   ],
   "id": "b9d268296861f9d1",
   "outputs": [
    {
     "data": {
      "text/plain": [
       "{'Ecdysozoa': [6239, 6279, 6334, 37621],\n",
       " 'Spiralia': [6185, 6604, 400727, 7574, 6198, 1735272, 6565, 29159, 6500]}"
      ]
     },
     "execution_count": 6,
     "metadata": {},
     "output_type": "execute_result"
    }
   ],
   "execution_count": 6
  },
  {
   "metadata": {
    "ExecuteTime": {
     "end_time": "2025-05-19T07:12:58.402922Z",
     "start_time": "2025-05-19T07:12:58.400993Z"
    }
   },
   "cell_type": "code",
   "source": "# download_all_files_ncbi(df, prot_taxids, phylas=list(prot_taxids.keys()))",
   "id": "b18f10403c4bacf8",
   "outputs": [],
   "execution_count": 7
  },
  {
   "metadata": {
    "ExecuteTime": {
     "end_time": "2025-05-19T07:12:58.454536Z",
     "start_time": "2025-05-19T07:12:58.452662Z"
    }
   },
   "cell_type": "code",
   "source": [
    "# при загрузке может быть такое, что в cds и других файлах оказывается несколько последовательностей - разные транскрипты возможны\n",
    "# поэтому будем просто удалять второй и последующие варики транскриптов, потому что экзоны загружаются из генбанк файла, и порядок вроде соответствует и там, и там"
   ],
   "id": "8af0f45a0b8376d5",
   "outputs": [],
   "execution_count": 8
  },
  {
   "metadata": {
    "ExecuteTime": {
     "end_time": "2025-05-19T07:12:58.506688Z",
     "start_time": "2025-05-19T07:12:58.502296Z"
    }
   },
   "cell_type": "code",
   "source": [
    "# после ручного изменения эта функция не должна ничего печатать\n",
    "check_transcript_count([\"Ecdysozoa\", \"Spiralia\"])"
   ],
   "id": "526a529d63bf40b0",
   "outputs": [],
   "execution_count": 9
  },
  {
   "metadata": {
    "ExecuteTime": {
     "end_time": "2025-05-19T07:12:58.556824Z",
     "start_time": "2025-05-19T07:12:58.553344Z"
    }
   },
   "cell_type": "code",
   "source": "df_prot",
   "id": "255462ea9e4d7d74",
   "outputs": [
    {
     "data": {
      "text/plain": [
       "                                                  taxonomy\n",
       "taxid                                                     \n",
       "6239     cellular organisms; Eukaryota; Opisthokonta; M...\n",
       "6185     cellular organisms; Eukaryota; Opisthokonta; M...\n",
       "6604     cellular organisms; Eukaryota; Opisthokonta; M...\n",
       "400727   cellular organisms; Eukaryota; Opisthokonta; M...\n",
       "6279     cellular organisms; Eukaryota; Opisthokonta; M...\n",
       "6334     cellular organisms; Eukaryota; Opisthokonta; M...\n",
       "7574     cellular organisms; Eukaryota; Opisthokonta; M...\n",
       "6198     cellular organisms; Eukaryota; Opisthokonta; M...\n",
       "1735272  cellular organisms; Eukaryota; Opisthokonta; M...\n",
       "6565     cellular organisms; Eukaryota; Opisthokonta; M...\n",
       "37621    cellular organisms; Eukaryota; Opisthokonta; M...\n",
       "29159    cellular organisms; Eukaryota; Opisthokonta; M...\n",
       "6500     cellular organisms; Eukaryota; Opisthokonta; M..."
      ],
      "text/html": [
       "<div>\n",
       "<style scoped>\n",
       "    .dataframe tbody tr th:only-of-type {\n",
       "        vertical-align: middle;\n",
       "    }\n",
       "\n",
       "    .dataframe tbody tr th {\n",
       "        vertical-align: top;\n",
       "    }\n",
       "\n",
       "    .dataframe thead th {\n",
       "        text-align: right;\n",
       "    }\n",
       "</style>\n",
       "<table border=\"1\" class=\"dataframe\">\n",
       "  <thead>\n",
       "    <tr style=\"text-align: right;\">\n",
       "      <th></th>\n",
       "      <th>taxonomy</th>\n",
       "    </tr>\n",
       "    <tr>\n",
       "      <th>taxid</th>\n",
       "      <th></th>\n",
       "    </tr>\n",
       "  </thead>\n",
       "  <tbody>\n",
       "    <tr>\n",
       "      <th>6239</th>\n",
       "      <td>cellular organisms; Eukaryota; Opisthokonta; M...</td>\n",
       "    </tr>\n",
       "    <tr>\n",
       "      <th>6185</th>\n",
       "      <td>cellular organisms; Eukaryota; Opisthokonta; M...</td>\n",
       "    </tr>\n",
       "    <tr>\n",
       "      <th>6604</th>\n",
       "      <td>cellular organisms; Eukaryota; Opisthokonta; M...</td>\n",
       "    </tr>\n",
       "    <tr>\n",
       "      <th>400727</th>\n",
       "      <td>cellular organisms; Eukaryota; Opisthokonta; M...</td>\n",
       "    </tr>\n",
       "    <tr>\n",
       "      <th>6279</th>\n",
       "      <td>cellular organisms; Eukaryota; Opisthokonta; M...</td>\n",
       "    </tr>\n",
       "    <tr>\n",
       "      <th>6334</th>\n",
       "      <td>cellular organisms; Eukaryota; Opisthokonta; M...</td>\n",
       "    </tr>\n",
       "    <tr>\n",
       "      <th>7574</th>\n",
       "      <td>cellular organisms; Eukaryota; Opisthokonta; M...</td>\n",
       "    </tr>\n",
       "    <tr>\n",
       "      <th>6198</th>\n",
       "      <td>cellular organisms; Eukaryota; Opisthokonta; M...</td>\n",
       "    </tr>\n",
       "    <tr>\n",
       "      <th>1735272</th>\n",
       "      <td>cellular organisms; Eukaryota; Opisthokonta; M...</td>\n",
       "    </tr>\n",
       "    <tr>\n",
       "      <th>6565</th>\n",
       "      <td>cellular organisms; Eukaryota; Opisthokonta; M...</td>\n",
       "    </tr>\n",
       "    <tr>\n",
       "      <th>37621</th>\n",
       "      <td>cellular organisms; Eukaryota; Opisthokonta; M...</td>\n",
       "    </tr>\n",
       "    <tr>\n",
       "      <th>29159</th>\n",
       "      <td>cellular organisms; Eukaryota; Opisthokonta; M...</td>\n",
       "    </tr>\n",
       "    <tr>\n",
       "      <th>6500</th>\n",
       "      <td>cellular organisms; Eukaryota; Opisthokonta; M...</td>\n",
       "    </tr>\n",
       "  </tbody>\n",
       "</table>\n",
       "</div>"
      ]
     },
     "execution_count": 10,
     "metadata": {},
     "output_type": "execute_result"
    }
   ],
   "execution_count": 10
  },
  {
   "metadata": {
    "ExecuteTime": {
     "end_time": "2025-05-19T07:12:58.625625Z",
     "start_time": "2025-05-19T07:12:58.624097Z"
    }
   },
   "cell_type": "code",
   "source": "# df_prot.to_csv(\"../protostomia_taxonomy.tsv\", sep=\"\\t\", index=True, header=False)",
   "id": "c10e3d642a50206",
   "outputs": [],
   "execution_count": 11
  },
  {
   "metadata": {
    "ExecuteTime": {
     "end_time": "2025-05-19T07:12:58.679814Z",
     "start_time": "2025-05-19T07:12:58.678386Z"
    }
   },
   "cell_type": "code",
   "source": "# create_taxonomy(\"../protostomia_taxonomy.tsv\")",
   "id": "b1f0b9543597ee44",
   "outputs": [],
   "execution_count": 12
  },
  {
   "metadata": {},
   "cell_type": "markdown",
   "source": "---",
   "id": "4535655660171700"
  },
  {
   "metadata": {
    "ExecuteTime": {
     "end_time": "2025-05-19T07:12:58.737945Z",
     "start_time": "2025-05-19T07:12:58.736121Z"
    }
   },
   "cell_type": "code",
   "source": "# Пробую построить вторичные структуры для кассет у Ecdysozoa",
   "id": "efbce97f868449a1",
   "outputs": [],
   "execution_count": 13
  },
  {
   "metadata": {
    "ExecuteTime": {
     "end_time": "2025-05-19T07:12:59.028625Z",
     "start_time": "2025-05-19T07:12:58.788280Z"
    }
   },
   "cell_type": "code",
   "source": "os.listdir(\"../Datasets/Ecdysozoa\")",
   "id": "a2814f0fbc1ab5b9",
   "outputs": [
    {
     "data": {
      "text/plain": [
       "['trichinella_spiralis_3',\n",
       " 'priapulus_caudatus_4',\n",
       " 'brugia_malayi_2',\n",
       " 'caenorhabditis_elegans_0']"
      ]
     },
     "execution_count": 14,
     "metadata": {},
     "output_type": "execute_result"
    }
   ],
   "execution_count": 14
  },
  {
   "metadata": {
    "ExecuteTime": {
     "end_time": "2025-05-19T07:12:59.050748Z",
     "start_time": "2025-05-19T07:12:59.048625Z"
    }
   },
   "cell_type": "code",
   "source": [
    "# Удалил caenorhabditis_elegans_1, потому что там ген nxf-2\n",
    "\n",
    "[\n",
    "    'caenorhabditis_elegans_0',\n",
    "    'brugia_malayi_2',\n",
    "    'trichinella_spiralis_3',\n",
    "    'priapulus_caudatus_4',\n",
    "]"
   ],
   "id": "90981a74b70871d6",
   "outputs": [
    {
     "data": {
      "text/plain": [
       "['caenorhabditis_elegans_0',\n",
       " 'brugia_malayi_2',\n",
       " 'trichinella_spiralis_3',\n",
       " 'priapulus_caudatus_4']"
      ]
     },
     "execution_count": 15,
     "metadata": {},
     "output_type": "execute_result"
    }
   ],
   "execution_count": 15
  },
  {
   "metadata": {
    "ExecuteTime": {
     "end_time": "2025-05-19T07:12:59.102105Z",
     "start_time": "2025-05-19T07:12:59.100258Z"
    }
   },
   "cell_type": "code",
   "source": [
    "prefix = \"../Datasets\"\n",
    "phylum = \"Ecdysozoa\"\n",
    "postfix = \"ncbi_dataset/data\"\n",
    "nof = \"exons.fa\""
   ],
   "id": "83248bd0bb53af8a",
   "outputs": [],
   "execution_count": 16
  },
  {
   "metadata": {
    "ExecuteTime": {
     "end_time": "2025-05-19T07:12:59.157756Z",
     "start_time": "2025-05-19T07:12:59.151665Z"
    }
   },
   "cell_type": "code",
   "source": [
    "# Nematoda\n",
    "caenorhabditis_elegans_0 = analyze_exons(\n",
    "    f\"{prefix}/{phylum}/caenorhabditis_elegans_0/{postfix}/exons.fa\")  # 110 37 | 4, 5\n",
    "brugia_malayi_2 = analyze_exons(f\"{prefix}/{phylum}/brugia_malayi_2/{postfix}/exons.fa\")  # 110 37 | 8, 9\n",
    "trichinella_spiralis_3 = analyze_exons(f\"{prefix}/{phylum}/trichinella_spiralis_3/{postfix}/exons.fa\")  # 110 37 | 5, 6\n",
    "\n",
    "# Scalidophora\n",
    "priapulus_caudatus_4 = analyze_exons(\n",
    "    f\"{prefix}/{phylum}/priapulus_caudatus_4/{postfix}/exons.fa\")  # 110 37 | 10, 11 || 116 43 | 16, 17"
   ],
   "id": "d27b172aba105b50",
   "outputs": [],
   "execution_count": 17
  },
  {
   "metadata": {
    "ExecuteTime": {
     "end_time": "2025-05-19T07:12:59.209458Z",
     "start_time": "2025-05-19T07:12:59.205288Z"
    }
   },
   "cell_type": "code",
   "source": [
    "# Nematoda\n",
    "caenorhabditis_elegans_0_cassette = create_cassette(phylum, \"caenorhabditis_elegans_0\", caenorhabditis_elegans_0,\n",
    "                                                    exons_i=[4, 5])\n",
    "brugia_malayi_2_cassette = create_cassette(phylum, \"brugia_malayi_2\", brugia_malayi_2, exons_i=[8, 9])\n",
    "trichinella_spiralis_3_cassette = create_cassette(phylum, \"trichinella_spiralis_3\", trichinella_spiralis_3,\n",
    "                                                  exons_i=[5, 6])\n",
    "\n",
    "# Scalidophora\n",
    "priapulus_caudatus_4_cassette = create_cassette(phylum, \"priapulus_caudatus_4\", priapulus_caudatus_4, exons_i=[10, 11])"
   ],
   "id": "6eee1c9baad841ff",
   "outputs": [],
   "execution_count": 18
  },
  {
   "metadata": {
    "ExecuteTime": {
     "end_time": "2025-05-19T07:12:59.259991Z",
     "start_time": "2025-05-19T07:12:59.257976Z"
    }
   },
   "cell_type": "code",
   "source": [
    "alignment_dict = {\n",
    "    \"Caenorhabditis_elegans\": concat_cassette(caenorhabditis_elegans_0_cassette, \"eie\"),\n",
    "    \"Brugia_malayi\": concat_cassette(brugia_malayi_2_cassette, \"eie\"),\n",
    "    \"Trichinella_spiralis\": concat_cassette(trichinella_spiralis_3_cassette, \"eie\"),\n",
    "    \"Priapulus_caudatus\": concat_cassette(priapulus_caudatus_4_cassette, \"eie\"),\n",
    "}\n",
    "\n",
    "dict_align_to_fasta(alignment_dict, \"../Alignment/Ecdysozoa/Ecdysozoa_cassette.fa\")\n",
    "dict_align_to_fasta(alignment_dict, \"../Alignment/Ecdysozoa/Ecdysozoa_cassette.aln\")"
   ],
   "id": "703148fccd59229",
   "outputs": [],
   "execution_count": 19
  },
  {
   "metadata": {
    "ExecuteTime": {
     "end_time": "2025-05-19T07:12:59.313173Z",
     "start_time": "2025-05-19T07:12:59.311115Z"
    }
   },
   "cell_type": "code",
   "source": [
    "alignment_dict = {\n",
    "    \"Caenorhabditis_elegans\": concat_cassette(caenorhabditis_elegans_0_cassette, \"ee\"),\n",
    "    \"Brugia_malayi\": concat_cassette(brugia_malayi_2_cassette, \"ee\"),\n",
    "    \"Trichinella_spiralis\": concat_cassette(trichinella_spiralis_3_cassette, \"ee\"),\n",
    "    \"Priapulus_caudatus\": concat_cassette(priapulus_caudatus_4_cassette, \"ee\"),\n",
    "}\n",
    "\n",
    "dict_align_to_fasta(alignment_dict, \"../Alignment/Ecdysozoa/Ecdysozoa_2_exons.fa\")\n",
    "dict_align_to_fasta(alignment_dict, \"../Alignment/Ecdysozoa/Ecdysozoa_2_exons.aln\")"
   ],
   "id": "25e02b1b43602da",
   "outputs": [],
   "execution_count": 20
  },
  {
   "metadata": {
    "ExecuteTime": {
     "end_time": "2025-05-19T07:12:59.366257Z",
     "start_time": "2025-05-19T07:12:59.364385Z"
    }
   },
   "cell_type": "code",
   "source": [
    "alignment_dict = {\n",
    "    \"Caenorhabditis_elegans\": concat_cassette(caenorhabditis_elegans_0_cassette, \"i\"),\n",
    "    \"Brugia_malayi\": concat_cassette(brugia_malayi_2_cassette, \"i\"),\n",
    "    \"Trichinella_spiralis\": concat_cassette(trichinella_spiralis_3_cassette, \"i\"),\n",
    "    \"Priapulus_caudatus\": concat_cassette(priapulus_caudatus_4_cassette, \"i\"),\n",
    "}\n",
    "\n",
    "dict_align_to_fasta(alignment_dict, \"../Alignment/Ecdysozoa/Ecdysozoa_introns.fa\")\n",
    "dict_align_to_fasta(alignment_dict, \"../Alignment/Ecdysozoa/Ecdysozoa_introns.aln\")"
   ],
   "id": "b0b2247dd5fbb473",
   "outputs": [],
   "execution_count": 21
  },
  {
   "metadata": {
    "ExecuteTime": {
     "end_time": "2025-05-19T07:12:59.420385Z",
     "start_time": "2025-05-19T07:12:59.417842Z"
    }
   },
   "cell_type": "code",
   "source": "\"python Scripts/build_rna_structures.py --input Alignment/Ecdysozoa/Ecdysozoa_cassette.fa --paint Alignment/Ecdysozoa/Ecdysozoa_introns.fa\"",
   "id": "cd56b9c84e11deb4",
   "outputs": [
    {
     "data": {
      "text/plain": [
       "'python Scripts/build_rna_structures.py --input Alignment/Ecdysozoa/Ecdysozoa_cassette.fa --paint Alignment/Ecdysozoa/Ecdysozoa_introns.fa'"
      ]
     },
     "execution_count": 22,
     "metadata": {},
     "output_type": "execute_result"
    }
   ],
   "execution_count": 22
  },
  {
   "metadata": {},
   "cell_type": "markdown",
   "source": "---",
   "id": "8142c6e937e6e601"
  },
  {
   "metadata": {
    "ExecuteTime": {
     "end_time": "2025-05-19T07:12:59.474091Z",
     "start_time": "2025-05-19T07:12:59.472080Z"
    }
   },
   "cell_type": "code",
   "source": [
    "# Пробую посмотреть, что будет если построить структуру для всех экзонов и кассетного интрона.\n",
    "# Получается, что структуры, которые формируются в кассете интроном не отличаются от тех, которые формируются экзонами."
   ],
   "id": "d0b92b338c300a02",
   "outputs": [],
   "execution_count": 23
  },
  {
   "metadata": {
    "ExecuteTime": {
     "end_time": "2025-05-19T07:12:59.527376Z",
     "start_time": "2025-05-19T07:12:59.525246Z"
    }
   },
   "cell_type": "code",
   "source": "os.listdir(\"../Datasets/Ecdysozoa\")",
   "id": "55b69166bfbdb2b",
   "outputs": [
    {
     "data": {
      "text/plain": [
       "['trichinella_spiralis_3',\n",
       " 'priapulus_caudatus_4',\n",
       " 'brugia_malayi_2',\n",
       " 'caenorhabditis_elegans_0']"
      ]
     },
     "execution_count": 24,
     "metadata": {},
     "output_type": "execute_result"
    }
   ],
   "execution_count": 24
  },
  {
   "metadata": {
    "ExecuteTime": {
     "end_time": "2025-05-19T07:12:59.581150Z",
     "start_time": "2025-05-19T07:12:59.579563Z"
    }
   },
   "cell_type": "code",
   "source": [
    "prefix = \"../Datasets\"\n",
    "phylum = \"Ecdysozoa\"\n",
    "postfix = \"ncbi_dataset/data\"\n",
    "nof = \"cds_cassette.fa\""
   ],
   "id": "9a52832e3155e6ba",
   "outputs": [],
   "execution_count": 25
  },
  {
   "metadata": {
    "ExecuteTime": {
     "end_time": "2025-05-19T07:12:59.635231Z",
     "start_time": "2025-05-19T07:12:59.633218Z"
    }
   },
   "cell_type": "code",
   "source": [
    "caenorhabditis_elegans_0_cds_cassette = read_single_fasta(f\"{prefix}/{phylum}/caenorhabditis_elegans_0/{postfix}/{nof}\")\n",
    "brugia_malayi_2_cds_cassette = read_single_fasta(f\"{prefix}/{phylum}/brugia_malayi_2/{postfix}/{nof}\")\n",
    "trichinella_spiralis_3_cds_cassette = read_single_fasta(f\"{prefix}/{phylum}/trichinella_spiralis_3/{postfix}/{nof}\")\n",
    "priapulus_caudatus_4_cds_cassette = read_single_fasta(f\"{prefix}/{phylum}/priapulus_caudatus_4/{postfix}/{nof}\")"
   ],
   "id": "29f11b4e189cbd0d",
   "outputs": [],
   "execution_count": 26
  },
  {
   "metadata": {
    "ExecuteTime": {
     "end_time": "2025-05-19T07:12:59.690994Z",
     "start_time": "2025-05-19T07:12:59.689143Z"
    }
   },
   "cell_type": "code",
   "source": [
    "alignment_dict = {\n",
    "    \"Caenorhabditis_elegans\": caenorhabditis_elegans_0_cds_cassette,\n",
    "    \"Brugia_malayi\": brugia_malayi_2_cds_cassette,\n",
    "    \"Trichinella_spiralis\": trichinella_spiralis_3_cds_cassette,\n",
    "    \"Priapulus_caudatus\": priapulus_caudatus_4_cds_cassette,\n",
    "}\n",
    "dict_align_to_fasta(alignment_dict, \"../Alignment/Ecdysozoa/Ecdysozoa_cds_cassette.fa\")\n",
    "dict_align_to_fasta(alignment_dict, \"../Alignment/Ecdysozoa/Ecdysozoa_cds_cassette.aln\")"
   ],
   "id": "56dc775509929a7c",
   "outputs": [],
   "execution_count": 27
  },
  {
   "metadata": {},
   "cell_type": "markdown",
   "source": "---",
   "id": "3b3f3c6053927866"
  },
  {
   "metadata": {
    "ExecuteTime": {
     "end_time": "2025-05-19T07:12:59.743598Z",
     "start_time": "2025-05-19T07:12:59.742110Z"
    }
   },
   "cell_type": "code",
   "source": "# Попробуем построить вторичные структуры кассет для Spiralia",
   "id": "796bfa9264d1ff53",
   "outputs": [],
   "execution_count": 28
  },
  {
   "metadata": {
    "ExecuteTime": {
     "end_time": "2025-05-19T07:12:59.798628Z",
     "start_time": "2025-05-19T07:12:59.796368Z"
    }
   },
   "cell_type": "code",
   "source": "os.listdir(\"../Datasets/Spiralia\")",
   "id": "8d0c6ebbe4f98b98",
   "outputs": [
    {
     "data": {
      "text/plain": [
       "['gigantopelta_aegis_6',\n",
       " 'crassostrea_virginica_7',\n",
       " 'schistosoma_haematobium_1',\n",
       " 'mya_arenaria_2',\n",
       " 'opisthorchis_viverrini_5',\n",
       " 'lingula_anatina_4',\n",
       " 'pomacea_canaliculata_3',\n",
       " 'magallana_gigas_8',\n",
       " 'aplysia_californica_9']"
      ]
     },
     "execution_count": 29,
     "metadata": {},
     "output_type": "execute_result"
    }
   ],
   "execution_count": 29
  },
  {
   "metadata": {
    "ExecuteTime": {
     "end_time": "2025-05-19T07:12:59.853834Z",
     "start_time": "2025-05-19T07:12:59.851248Z"
    }
   },
   "cell_type": "code",
   "source": [
    "# Удалил schistosoma_haematobium_0, т.к. там 4 экзона и более ранняя сборка\n",
    "\n",
    "[\n",
    "    'schistosoma_haematobium_1',\n",
    "    'opisthorchis_viverrini_5',\n",
    "    'mya_arenaria_2',\n",
    "    'crassostrea_virginica_7',\n",
    "    'magallana_gigas_8',\n",
    "    'pomacea_canaliculata_3',\n",
    "    'gigantopelta_aegis_6',\n",
    "    'aplysia_californica_9',\n",
    "    'lingula_anatina_4',\n",
    "]"
   ],
   "id": "a4c9d3702c1f4c9b",
   "outputs": [
    {
     "data": {
      "text/plain": [
       "['schistosoma_haematobium_1',\n",
       " 'opisthorchis_viverrini_5',\n",
       " 'mya_arenaria_2',\n",
       " 'crassostrea_virginica_7',\n",
       " 'magallana_gigas_8',\n",
       " 'pomacea_canaliculata_3',\n",
       " 'gigantopelta_aegis_6',\n",
       " 'aplysia_californica_9',\n",
       " 'lingula_anatina_4']"
      ]
     },
     "execution_count": 30,
     "metadata": {},
     "output_type": "execute_result"
    }
   ],
   "execution_count": 30
  },
  {
   "metadata": {
    "ExecuteTime": {
     "end_time": "2025-05-19T07:12:59.909919Z",
     "start_time": "2025-05-19T07:12:59.907472Z"
    }
   },
   "cell_type": "code",
   "source": [
    "prefix = \"../Datasets\"\n",
    "phylum = \"Spiralia\"\n",
    "postfix = \"ncbi_dataset/data\"\n",
    "nof = \"exons.fa\""
   ],
   "id": "783f4059273fc248",
   "outputs": [],
   "execution_count": 31
  },
  {
   "metadata": {
    "ExecuteTime": {
     "end_time": "2025-05-19T07:12:59.965089Z",
     "start_time": "2025-05-19T07:12:59.960320Z"
    }
   },
   "cell_type": "code",
   "source": [
    "# Platyhelminthes\n",
    "schistosoma_haematobium_1 = analyze_exons(\n",
    "    f\"{prefix}/{phylum}/schistosoma_haematobium_1/{postfix}/{nof}\")  # 239 37 | 4, 5\n",
    "opisthorchis_viverrini_5 = analyze_exons(f\"{prefix}/{phylum}/opisthorchis_viverrini_5/{postfix}/{nof}\")  # 1 exon\n",
    "\n",
    "# Mollusca / Bivalvia\n",
    "mya_arenaria_2 = analyze_exons(\n",
    "    f\"{prefix}/{phylum}/mya_arenaria_2/{postfix}/{nof}\")  # 110 37 | 10, 11 || 113 43 | 15, 16\n",
    "crassostrea_virginica_7 = analyze_exons(\n",
    "    f\"{prefix}/{phylum}/crassostrea_virginica_7/{postfix}/{nof}\")  # 110 37 | 11, 12 || 122 43 | 17, 18\n",
    "magallana_gigas_8 = analyze_exons(\n",
    "    f\"{prefix}/{phylum}/magallana_gigas_8/{postfix}/{nof}\")  # 110 37 | 11, 12 || 122 43 | 17, 18\n",
    "\n",
    "# Mollusca / Gastropoda\n",
    "pomacea_canaliculata_3 = analyze_exons(f\"{prefix}/{phylum}/pomacea_canaliculata_3/{postfix}/{nof}\")  # 2 exons\n",
    "gigantopelta_aegis_6 = analyze_exons(\n",
    "    f\"{prefix}/{phylum}/gigantopelta_aegis_6/{postfix}/{nof}\")  # 110 37 | 11, 12 || 116 43 | 17, 18\n",
    "aplysia_californica_9 = analyze_exons(\n",
    "    f\"{prefix}/{phylum}/aplysia_californica_9/{postfix}/{nof}\")  # 221 37 | 5, 6 || 116 43 | 11, 12\n",
    "lingula_anatina_4 = analyze_exons(f\"{prefix}/{phylum}/lingula_anatina_4/{postfix}/{nof}\")  # 1 exon"
   ],
   "id": "a0011d18355a03c1",
   "outputs": [],
   "execution_count": 32
  },
  {
   "metadata": {
    "ExecuteTime": {
     "end_time": "2025-05-19T07:13:00.027783Z",
     "start_time": "2025-05-19T07:13:00.019533Z"
    }
   },
   "cell_type": "code",
   "source": [
    "# Platyhelminthes\n",
    "schistosoma_haematobium_1_cassette = create_cassette(phylum, \"schistosoma_haematobium_1\", schistosoma_haematobium_1,\n",
    "                                                     exons_i=[4, 5])\n",
    "\n",
    "# Mollusca / Bivalvia\n",
    "mya_arenaria_2_cassette = create_cassette(phylum, \"mya_arenaria_2\", mya_arenaria_2, exons_i=[10, 11])\n",
    "crassostrea_virginica_7_cassette = create_cassette(phylum, \"crassostrea_virginica_7\", crassostrea_virginica_7,\n",
    "                                                   exons_i=[11, 12])\n",
    "magallana_gigas_8_cassette = create_cassette(phylum, \"magallana_gigas_8\", magallana_gigas_8, exons_i=[11, 12])\n",
    "\n",
    "# Mollusca / Gastropoda\n",
    "gigantopelta_aegis_6_cassette = create_cassette(phylum, \"gigantopelta_aegis_6\", gigantopelta_aegis_6, exons_i=[11, 12])\n",
    "aplysia_californica_9_cassette = create_cassette(phylum, \"aplysia_californica_9\", aplysia_californica_9, exons_i=[5, 6])"
   ],
   "id": "fa6e34139856f46e",
   "outputs": [],
   "execution_count": 33
  },
  {
   "metadata": {
    "ExecuteTime": {
     "end_time": "2025-05-19T07:13:00.080548Z",
     "start_time": "2025-05-19T07:13:00.078524Z"
    }
   },
   "cell_type": "code",
   "source": [
    "alignment_dict = {\n",
    "    \"Schistosoma_haematobium\": concat_cassette(schistosoma_haematobium_1_cassette, \"eie\"),\n",
    "    \"Mya_arenaria\": concat_cassette(mya_arenaria_2_cassette, \"eie\"),\n",
    "    \"Crassostrea_virginica\": concat_cassette(crassostrea_virginica_7_cassette, \"eie\"),\n",
    "    \"Magallana_gigas\": concat_cassette(magallana_gigas_8_cassette, \"eie\"),\n",
    "    \"Gigantopelta_aegis\": concat_cassette(gigantopelta_aegis_6_cassette, \"eie\"),\n",
    "    \"Aplysia_californica\": concat_cassette(aplysia_californica_9_cassette, \"eie\"),\n",
    "}\n",
    "\n",
    "dict_align_to_fasta(alignment_dict, \"../Alignment/Spiralia/Spiralia_cassette.fa\")\n",
    "dict_align_to_fasta(alignment_dict, \"../Alignment/Spiralia/Spiralia_cassette.aln\")"
   ],
   "id": "9e75115d28b21a07",
   "outputs": [],
   "execution_count": 34
  },
  {
   "metadata": {
    "ExecuteTime": {
     "end_time": "2025-05-19T07:13:00.138721Z",
     "start_time": "2025-05-19T07:13:00.136675Z"
    }
   },
   "cell_type": "code",
   "source": [
    "alignment_dict = {\n",
    "    \"Schistosoma_haematobium\": concat_cassette(schistosoma_haematobium_1_cassette, \"i\"),\n",
    "    \"Mya_arenaria\": concat_cassette(mya_arenaria_2_cassette, \"i\"),\n",
    "    \"Crassostrea_virginica\": concat_cassette(crassostrea_virginica_7_cassette, \"i\"),\n",
    "    \"Magallana_gigas\": concat_cassette(magallana_gigas_8_cassette, \"i\"),\n",
    "    \"Gigantopelta_aegis\": concat_cassette(gigantopelta_aegis_6_cassette, \"i\"),\n",
    "    \"Aplysia_californica\": concat_cassette(aplysia_californica_9_cassette, \"i\"),\n",
    "}\n",
    "\n",
    "dict_align_to_fasta(alignment_dict, \"../Alignment/Spiralia/Spiralia_introns.fa\")\n",
    "dict_align_to_fasta(alignment_dict, \"../Alignment/Spiralia/Spiralia_introns.aln\")"
   ],
   "id": "3f1c163e20c1b086",
   "outputs": [],
   "execution_count": 35
  },
  {
   "metadata": {
    "ExecuteTime": {
     "end_time": "2025-05-19T07:13:00.197046Z",
     "start_time": "2025-05-19T07:13:00.195130Z"
    }
   },
   "cell_type": "code",
   "source": "\"python Scripts/build_rna_structures.py --input Alignment/Spiralia/Spiralia_cassette.fa --paint Alignment/Spiralia/Spiralia_introns.fa\"",
   "id": "103b0186fb99554b",
   "outputs": [
    {
     "data": {
      "text/plain": [
       "'python Scripts/build_rna_structures.py --input Alignment/Spiralia/Spiralia_cassette.fa --paint Alignment/Spiralia/Spiralia_introns.fa'"
      ]
     },
     "execution_count": 36,
     "metadata": {},
     "output_type": "execute_result"
    }
   ],
   "execution_count": 36
  },
  {
   "metadata": {},
   "cell_type": "markdown",
   "source": "---",
   "id": "c510d4121824712b"
  },
  {
   "metadata": {
    "ExecuteTime": {
     "end_time": "2025-05-19T07:13:00.258968Z",
     "start_time": "2025-05-19T07:13:00.257438Z"
    }
   },
   "cell_type": "code",
   "source": "# Характеристика кассетных интронов для Protostomia",
   "id": "68acfe3db384729f",
   "outputs": [],
   "execution_count": 37
  },
  {
   "metadata": {
    "ExecuteTime": {
     "end_time": "2025-05-19T07:13:00.317403Z",
     "start_time": "2025-05-19T07:13:00.315700Z"
    }
   },
   "cell_type": "code",
   "source": [
    "dict_align_info = {\n",
    "    \"Ecdysozoa\":\n",
    "        [\n",
    "            'caenorhabditis_elegans_0',\n",
    "            'brugia_malayi_2',\n",
    "            'trichinella_spiralis_3',\n",
    "            'priapulus_caudatus_4',\n",
    "        ],\n",
    "    \"Spiralia\":\n",
    "        [\n",
    "            'schistosoma_haematobium_1',\n",
    "            'mya_arenaria_2',\n",
    "            'crassostrea_virginica_7',\n",
    "            'magallana_gigas_8',\n",
    "            'gigantopelta_aegis_6',\n",
    "            'aplysia_californica_9',\n",
    "        ]\n",
    "}"
   ],
   "id": "81c4e3736cbea257",
   "outputs": [],
   "execution_count": 38
  },
  {
   "metadata": {
    "ExecuteTime": {
     "end_time": "2025-05-19T07:13:00.381438Z",
     "start_time": "2025-05-19T07:13:00.375684Z"
    }
   },
   "cell_type": "code",
   "source": [
    "# здесь везде должно быть True в столбце equal_to_cds, НО если у нас в файле есть 2 транскрипта, то будет False\n",
    "# выше исправил\n",
    "\n",
    "protostomia_df_cds, protostomia_dict_align_cds = dict_align_info_analyze(dict_align_info, \"cds\")\n",
    "protostomia_df_cds"
   ],
   "id": "3c756fe3cb8ac42c",
   "outputs": [
    {
     "data": {
      "text/plain": [
       "      phylum                   org_name  stop_codon_pos  equal_to_cds  \\\n",
       "0  Ecdysozoa   caenorhabditis_elegans_0            1827          True   \n",
       "1  Ecdysozoa            brugia_malayi_2            1950          True   \n",
       "2  Ecdysozoa     trichinella_spiralis_3            1479          True   \n",
       "3  Ecdysozoa       priapulus_caudatus_4            1995          True   \n",
       "4   Spiralia  schistosoma_haematobium_1            1995          True   \n",
       "5   Spiralia             mya_arenaria_2            1986          True   \n",
       "6   Spiralia    crassostrea_virginica_7            2004          True   \n",
       "7   Spiralia          magallana_gigas_8            1929          True   \n",
       "8   Spiralia       gigantopelta_aegis_6            1941          True   \n",
       "9   Spiralia      aplysia_californica_9            1980          True   \n",
       "\n",
       "   cassette_start  length_to_stop_codon  intron_length  \n",
       "0              -1                  1828            106  \n",
       "1              -1                  1951            243  \n",
       "2              -1                  1480            185  \n",
       "3              -1                  1996           2114  \n",
       "4              -1                  1996            652  \n",
       "5              -1                  1987           1727  \n",
       "6              -1                  2005           1613  \n",
       "7              -1                  1930           1537  \n",
       "8              -1                  1942           1869  \n",
       "9              -1                  1981           4146  "
      ],
      "text/html": [
       "<div>\n",
       "<style scoped>\n",
       "    .dataframe tbody tr th:only-of-type {\n",
       "        vertical-align: middle;\n",
       "    }\n",
       "\n",
       "    .dataframe tbody tr th {\n",
       "        vertical-align: top;\n",
       "    }\n",
       "\n",
       "    .dataframe thead th {\n",
       "        text-align: right;\n",
       "    }\n",
       "</style>\n",
       "<table border=\"1\" class=\"dataframe\">\n",
       "  <thead>\n",
       "    <tr style=\"text-align: right;\">\n",
       "      <th></th>\n",
       "      <th>phylum</th>\n",
       "      <th>org_name</th>\n",
       "      <th>stop_codon_pos</th>\n",
       "      <th>equal_to_cds</th>\n",
       "      <th>cassette_start</th>\n",
       "      <th>length_to_stop_codon</th>\n",
       "      <th>intron_length</th>\n",
       "    </tr>\n",
       "  </thead>\n",
       "  <tbody>\n",
       "    <tr>\n",
       "      <th>0</th>\n",
       "      <td>Ecdysozoa</td>\n",
       "      <td>caenorhabditis_elegans_0</td>\n",
       "      <td>1827</td>\n",
       "      <td>True</td>\n",
       "      <td>-1</td>\n",
       "      <td>1828</td>\n",
       "      <td>106</td>\n",
       "    </tr>\n",
       "    <tr>\n",
       "      <th>1</th>\n",
       "      <td>Ecdysozoa</td>\n",
       "      <td>brugia_malayi_2</td>\n",
       "      <td>1950</td>\n",
       "      <td>True</td>\n",
       "      <td>-1</td>\n",
       "      <td>1951</td>\n",
       "      <td>243</td>\n",
       "    </tr>\n",
       "    <tr>\n",
       "      <th>2</th>\n",
       "      <td>Ecdysozoa</td>\n",
       "      <td>trichinella_spiralis_3</td>\n",
       "      <td>1479</td>\n",
       "      <td>True</td>\n",
       "      <td>-1</td>\n",
       "      <td>1480</td>\n",
       "      <td>185</td>\n",
       "    </tr>\n",
       "    <tr>\n",
       "      <th>3</th>\n",
       "      <td>Ecdysozoa</td>\n",
       "      <td>priapulus_caudatus_4</td>\n",
       "      <td>1995</td>\n",
       "      <td>True</td>\n",
       "      <td>-1</td>\n",
       "      <td>1996</td>\n",
       "      <td>2114</td>\n",
       "    </tr>\n",
       "    <tr>\n",
       "      <th>4</th>\n",
       "      <td>Spiralia</td>\n",
       "      <td>schistosoma_haematobium_1</td>\n",
       "      <td>1995</td>\n",
       "      <td>True</td>\n",
       "      <td>-1</td>\n",
       "      <td>1996</td>\n",
       "      <td>652</td>\n",
       "    </tr>\n",
       "    <tr>\n",
       "      <th>5</th>\n",
       "      <td>Spiralia</td>\n",
       "      <td>mya_arenaria_2</td>\n",
       "      <td>1986</td>\n",
       "      <td>True</td>\n",
       "      <td>-1</td>\n",
       "      <td>1987</td>\n",
       "      <td>1727</td>\n",
       "    </tr>\n",
       "    <tr>\n",
       "      <th>6</th>\n",
       "      <td>Spiralia</td>\n",
       "      <td>crassostrea_virginica_7</td>\n",
       "      <td>2004</td>\n",
       "      <td>True</td>\n",
       "      <td>-1</td>\n",
       "      <td>2005</td>\n",
       "      <td>1613</td>\n",
       "    </tr>\n",
       "    <tr>\n",
       "      <th>7</th>\n",
       "      <td>Spiralia</td>\n",
       "      <td>magallana_gigas_8</td>\n",
       "      <td>1929</td>\n",
       "      <td>True</td>\n",
       "      <td>-1</td>\n",
       "      <td>1930</td>\n",
       "      <td>1537</td>\n",
       "    </tr>\n",
       "    <tr>\n",
       "      <th>8</th>\n",
       "      <td>Spiralia</td>\n",
       "      <td>gigantopelta_aegis_6</td>\n",
       "      <td>1941</td>\n",
       "      <td>True</td>\n",
       "      <td>-1</td>\n",
       "      <td>1942</td>\n",
       "      <td>1869</td>\n",
       "    </tr>\n",
       "    <tr>\n",
       "      <th>9</th>\n",
       "      <td>Spiralia</td>\n",
       "      <td>aplysia_californica_9</td>\n",
       "      <td>1980</td>\n",
       "      <td>True</td>\n",
       "      <td>-1</td>\n",
       "      <td>1981</td>\n",
       "      <td>4146</td>\n",
       "    </tr>\n",
       "  </tbody>\n",
       "</table>\n",
       "</div>"
      ]
     },
     "execution_count": 39,
     "metadata": {},
     "output_type": "execute_result"
    }
   ],
   "execution_count": 39
  },
  {
   "metadata": {
    "ExecuteTime": {
     "end_time": "2025-05-19T07:13:00.461698Z",
     "start_time": "2025-05-19T07:13:00.456102Z"
    }
   },
   "cell_type": "code",
   "source": [
    "protostomia_df_cds_cassette, protostomia_dict_align_cds_cassette = dict_align_info_analyze(dict_align_info,\n",
    "                                                                                           \"cds_cassette\")\n",
    "protostomia_df_cds_cassette"
   ],
   "id": "5f114dcf9e292610",
   "outputs": [
    {
     "data": {
      "text/plain": [
       "      phylum                   org_name  stop_codon_pos  equal_to_cds  \\\n",
       "0  Ecdysozoa   caenorhabditis_elegans_0            1089         False   \n",
       "1  Ecdysozoa            brugia_malayi_2            1095         False   \n",
       "2  Ecdysozoa     trichinella_spiralis_3             972         False   \n",
       "3  Ecdysozoa       priapulus_caudatus_4            1083         False   \n",
       "4   Spiralia  schistosoma_haematobium_1             981         False   \n",
       "5   Spiralia             mya_arenaria_2            1110         False   \n",
       "6   Spiralia    crassostrea_virginica_7            1110         False   \n",
       "7   Spiralia          magallana_gigas_8            1035         False   \n",
       "8   Spiralia       gigantopelta_aegis_6            1050         False   \n",
       "9   Spiralia      aplysia_californica_9            1068         False   \n",
       "\n",
       "   cassette_start  length_to_stop_codon  intron_length  \n",
       "0             896                   193            106  \n",
       "1             956                   139            243  \n",
       "2             761                   211            185  \n",
       "3            1082                     1           2114  \n",
       "4             980                     1            652  \n",
       "5            1109                     1           1727  \n",
       "6            1109                     1           1613  \n",
       "7            1034                     1           1537  \n",
       "8            1049                     1           1869  \n",
       "9            1067                     1           4146  "
      ],
      "text/html": [
       "<div>\n",
       "<style scoped>\n",
       "    .dataframe tbody tr th:only-of-type {\n",
       "        vertical-align: middle;\n",
       "    }\n",
       "\n",
       "    .dataframe tbody tr th {\n",
       "        vertical-align: top;\n",
       "    }\n",
       "\n",
       "    .dataframe thead th {\n",
       "        text-align: right;\n",
       "    }\n",
       "</style>\n",
       "<table border=\"1\" class=\"dataframe\">\n",
       "  <thead>\n",
       "    <tr style=\"text-align: right;\">\n",
       "      <th></th>\n",
       "      <th>phylum</th>\n",
       "      <th>org_name</th>\n",
       "      <th>stop_codon_pos</th>\n",
       "      <th>equal_to_cds</th>\n",
       "      <th>cassette_start</th>\n",
       "      <th>length_to_stop_codon</th>\n",
       "      <th>intron_length</th>\n",
       "    </tr>\n",
       "  </thead>\n",
       "  <tbody>\n",
       "    <tr>\n",
       "      <th>0</th>\n",
       "      <td>Ecdysozoa</td>\n",
       "      <td>caenorhabditis_elegans_0</td>\n",
       "      <td>1089</td>\n",
       "      <td>False</td>\n",
       "      <td>896</td>\n",
       "      <td>193</td>\n",
       "      <td>106</td>\n",
       "    </tr>\n",
       "    <tr>\n",
       "      <th>1</th>\n",
       "      <td>Ecdysozoa</td>\n",
       "      <td>brugia_malayi_2</td>\n",
       "      <td>1095</td>\n",
       "      <td>False</td>\n",
       "      <td>956</td>\n",
       "      <td>139</td>\n",
       "      <td>243</td>\n",
       "    </tr>\n",
       "    <tr>\n",
       "      <th>2</th>\n",
       "      <td>Ecdysozoa</td>\n",
       "      <td>trichinella_spiralis_3</td>\n",
       "      <td>972</td>\n",
       "      <td>False</td>\n",
       "      <td>761</td>\n",
       "      <td>211</td>\n",
       "      <td>185</td>\n",
       "    </tr>\n",
       "    <tr>\n",
       "      <th>3</th>\n",
       "      <td>Ecdysozoa</td>\n",
       "      <td>priapulus_caudatus_4</td>\n",
       "      <td>1083</td>\n",
       "      <td>False</td>\n",
       "      <td>1082</td>\n",
       "      <td>1</td>\n",
       "      <td>2114</td>\n",
       "    </tr>\n",
       "    <tr>\n",
       "      <th>4</th>\n",
       "      <td>Spiralia</td>\n",
       "      <td>schistosoma_haematobium_1</td>\n",
       "      <td>981</td>\n",
       "      <td>False</td>\n",
       "      <td>980</td>\n",
       "      <td>1</td>\n",
       "      <td>652</td>\n",
       "    </tr>\n",
       "    <tr>\n",
       "      <th>5</th>\n",
       "      <td>Spiralia</td>\n",
       "      <td>mya_arenaria_2</td>\n",
       "      <td>1110</td>\n",
       "      <td>False</td>\n",
       "      <td>1109</td>\n",
       "      <td>1</td>\n",
       "      <td>1727</td>\n",
       "    </tr>\n",
       "    <tr>\n",
       "      <th>6</th>\n",
       "      <td>Spiralia</td>\n",
       "      <td>crassostrea_virginica_7</td>\n",
       "      <td>1110</td>\n",
       "      <td>False</td>\n",
       "      <td>1109</td>\n",
       "      <td>1</td>\n",
       "      <td>1613</td>\n",
       "    </tr>\n",
       "    <tr>\n",
       "      <th>7</th>\n",
       "      <td>Spiralia</td>\n",
       "      <td>magallana_gigas_8</td>\n",
       "      <td>1035</td>\n",
       "      <td>False</td>\n",
       "      <td>1034</td>\n",
       "      <td>1</td>\n",
       "      <td>1537</td>\n",
       "    </tr>\n",
       "    <tr>\n",
       "      <th>8</th>\n",
       "      <td>Spiralia</td>\n",
       "      <td>gigantopelta_aegis_6</td>\n",
       "      <td>1050</td>\n",
       "      <td>False</td>\n",
       "      <td>1049</td>\n",
       "      <td>1</td>\n",
       "      <td>1869</td>\n",
       "    </tr>\n",
       "    <tr>\n",
       "      <th>9</th>\n",
       "      <td>Spiralia</td>\n",
       "      <td>aplysia_californica_9</td>\n",
       "      <td>1068</td>\n",
       "      <td>False</td>\n",
       "      <td>1067</td>\n",
       "      <td>1</td>\n",
       "      <td>4146</td>\n",
       "    </tr>\n",
       "  </tbody>\n",
       "</table>\n",
       "</div>"
      ]
     },
     "execution_count": 40,
     "metadata": {},
     "output_type": "execute_result"
    }
   ],
   "execution_count": 40
  },
  {
   "metadata": {
    "ExecuteTime": {
     "end_time": "2025-05-19T07:13:00.541513Z",
     "start_time": "2025-05-19T07:13:00.538490Z"
    }
   },
   "cell_type": "code",
   "source": "highlight_intron_in_seq(\"Ecdysozoa\", \"caenorhabditis_elegans_0\")",
   "id": "84c62d76faf9ee05",
   "outputs": [
    {
     "data": {
      "text/plain": [
       "<IPython.core.display.HTML object>"
      ],
      "text/html": [
       "<div style=\"white-space: pre-wrap; font-family: monospace;\"><span style=\"color:green;\">A</span><span style=\"color:green;\">T</span><span style=\"color:green;\">G</span>AATCGCAAAGGGTTTGGAGGGCATCGTGACGCGAAGCAATTGTCACGTACAAAGAATCGTTTTGCTC<br>GACTTGACCCAGACACTCAAAGCAGATATGAAGACGACGACGAGCCTGCCGTTCCAGTTCGTGCAAGCCT<br>TACTTCTGCCAGTAGCCGTGGTCGTGGAGGATCATCACGCGGTTTCGGACAATCGGCTGCATCCATCGCC<br>AACACTGGAGTTCGTAATGCTGACATCGTCTACAAGTGCCGTGCTACTGGAGCTGCCAAGAAAGTTGATG<br>CCAAGTGGCTGATCAAGCAGCTTAATCAAATAATCGAAAATTTCAAGCCACTTCTCTGGACTGATAACGC<br>CCGTGGAGACTTTGAATGGTACGTCCGCGACGAGGACACTGCTTCAACTATCCGAGCCAATAATCGTCGT<br>GTTGTCCACAAAGAAAGTGGCACACGCGTTGAGTTTTACACTTCCAAAGTTCCAGCCCCATGGATGAAAC<br>TGAAACGAGAGGAAATTGAGATCATTCATAGAGTAGTCGACAAACGTCACAACGCCGAGAATCGAGTATT<br>GGATTTATCAAACTTCCACGAAGACGAAGAGTTCAAGGCAAAGGATATGATGATGAATTTGACGAAAGGA<br>AATGTCATGCTCACAGTTCTCGATCACATTGATGATAAGTACGGAAACATTGTGGCTTTGTCGTTATCAA<br>ACAATCGCATCCGTCATTTGGACTACGCTTCAGCTCTCGTGTCAATCGCTAAGTTCGTTATGGAGTTGGA<br>TTTGAGTCACAACCACATTTCCACTGAAAAGGAGTTAGAGAAATTCGCCGGATTGCCAGTCGAAAGATTC<br>TTCTTTGAAGGAAACCCAGTCGTCGAGTCATTCACACAGAGGGCAGCATATATCAG<span style=\"color:yellow;\">G</span><span style=\"color:yellow;\">T</span><span style=\"color:yellow;\">T</span><span style=\"color:yellow;\">A</span><span style=\"color:yellow;\">C</span><span style=\"color:yellow;\">A</span><span style=\"color:yellow;\">T</span><span style=\"color:yellow;\">T</span><span style=\"color:yellow;\">A</span><span style=\"color:yellow;\">T</span><span style=\"color:yellow;\">C</span><span style=\"color:yellow;\">T</span><span style=\"color:yellow;\">G</span><span style=\"color:yellow;\">A<br></span><span style=\"color:yellow;\">A</span><span style=\"color:yellow;\">T</span><span style=\"color:yellow;\">G</span><span style=\"color:yellow;\">A</span><span style=\"color:yellow;\">T</span><span style=\"color:yellow;\">T</span><span style=\"color:yellow;\">T</span><span style=\"color:yellow;\">T</span><span style=\"color:yellow;\">C</span><span style=\"color:yellow;\">A</span><span style=\"color:yellow;\">G</span><span style=\"color:yellow;\">A</span><span style=\"color:yellow;\">T</span><span style=\"color:yellow;\">T</span><span style=\"color:yellow;\">T</span><span style=\"color:yellow;\">T</span><span style=\"color:yellow;\">T</span><span style=\"color:yellow;\">T</span><span style=\"color:yellow;\">A</span><span style=\"color:yellow;\">T</span><span style=\"color:yellow;\">T</span><span style=\"color:yellow;\">T</span><span style=\"color:yellow;\">A</span><span style=\"color:yellow;\">A</span><span style=\"color:yellow;\">A</span><span style=\"color:yellow;\">T</span><span style=\"color:yellow;\">T</span><span style=\"color:yellow;\">T</span><span style=\"color:yellow;\">C</span><span style=\"color:yellow;\">A</span><span style=\"color:yellow;\">T</span><span style=\"color:yellow;\">T</span><span style=\"color:yellow;\">G</span><span style=\"color:yellow;\">T</span><span style=\"color:yellow;\">G</span><span style=\"color:yellow;\">T</span><span style=\"color:yellow;\">T</span><span style=\"color:yellow;\">T</span><span style=\"color:yellow;\">T</span><span style=\"color:yellow;\">C</span><span style=\"color:yellow;\">C</span><span style=\"color:yellow;\">T</span><span style=\"color:yellow;\">C</span><span style=\"color:yellow;\">C</span><span style=\"color:yellow;\">T</span><span style=\"color:yellow;\">T</span><span style=\"color:yellow;\">G</span><span style=\"color:yellow;\">T</span><span style=\"color:yellow;\">T</span><span style=\"color:yellow;\">C</span><span style=\"color:yellow;\">C</span><span style=\"color:yellow;\">C</span><span style=\"color:yellow;\">T</span><span style=\"color:yellow;\">A</span><span style=\"color:yellow;\">T</span><span style=\"color:yellow;\">T</span><span style=\"color:yellow;\">T</span><span style=\"color:yellow;\">T</span><span style=\"color:yellow;\">A</span><span style=\"color:yellow;\">T</span><span style=\"color:yellow;\">T</span><span style=\"color:yellow;\">A</span><span style=\"color:yellow;\">T</span><span style=\"color:yellow;\">G</span><span style=\"color:yellow;\">T</span><span style=\"color:yellow;\">T</span><span style=\"color:yellow;\">C</span><span style=\"color:yellow;\">A</span><span style=\"color:yellow;\">T</span><span style=\"color:yellow;\">T<br></span><span style=\"color:yellow;\">A</span><span style=\"color:yellow;\">A</span><span style=\"color:yellow;\">C</span><span style=\"color:yellow;\">C</span><span style=\"color:yellow;\">C</span><span style=\"color:yellow;\">C</span><span style=\"color:yellow;\">A</span><span style=\"color:yellow;\">A</span><span style=\"color:yellow;\">A</span><span style=\"color:yellow;\">C</span><span style=\"color:yellow;\">C</span><span style=\"color:yellow;\">T</span><span style=\"color:yellow;\">A</span><span style=\"color:yellow;\">C</span><span style=\"color:yellow;\">C</span><span style=\"color:yellow;\">A</span><span style=\"color:yellow;\">C</span><span style=\"color:yellow;\">T</span><span style=\"color:yellow;\">T</span><span style=\"color:yellow;\">C</span><span style=\"color:yellow;\">A</span><span style=\"color:yellow;\">G</span>CTATATTCATCAATCATTCCCGCGATGCAACATGCTGGACGGAGTCGA<br>AGTGCAGCCGCTGGTTGTTGGACCGGATCTCGATATTCA<span style=\"color:red;\">T</span><span style=\"color:red;\">G</span><span style=\"color:red;\">A</span></div>"
      ]
     },
     "execution_count": 41,
     "metadata": {},
     "output_type": "execute_result"
    }
   ],
   "execution_count": 41
  },
  {
   "metadata": {
    "ExecuteTime": {
     "end_time": "2025-05-19T07:13:00.622538Z",
     "start_time": "2025-05-19T07:13:00.619715Z"
    }
   },
   "cell_type": "code",
   "source": "highlight_intron_in_seq(\"Ecdysozoa\", \"trichinella_spiralis_3\")",
   "id": "10f683d0b0afe310",
   "outputs": [
    {
     "data": {
      "text/plain": [
       "<IPython.core.display.HTML object>"
      ],
      "text/html": [
       "<div style=\"white-space: pre-wrap; font-family: monospace;\"><span style=\"color:green;\">A</span><span style=\"color:green;\">T</span><span style=\"color:green;\">G</span>GCATCCCATATGCGACGTCCAAATACCAATGCTTATAGAAGTCGACTTGTTTATGGCGCAAAGAGCT<br>CGAGCACAAATCAACCAACAACCAGTCGTTCCACTGGTGTACGAAGAACGGTGAGAAATGGAAAAGATTT<br>ATCAGAAAGTGAAATTATCGCTGCTTTGGAAGATTTTTTAAAAAGTCCTGTCCATCCGTTTTGCATTTCA<br>AATTTGGACAATGGTGATGTTACGTTTTATGTGCGCAAAAGCGAAGAAGGAAGCGCAATTTTATCTGCTT<br>CACGTCGTGCTACAACGTCATCTGGGAGAAAATTAGTTATTGAAACTCAGTCAGCTTCACCACCATGTAT<br>TGAATTGGTTGATGCGGATAAAGAGGTGTTGAGGCAAGTATTGGATTCGTTGTTTTGTGCTGGAACGCAT<br>CATTTAAATTTGGGATGCTTCTCCCAGAATACAGTAATTCGCAACCATCGCGAATACATGCCTGTCAATC<br>GCAACAGCGTGATGTTGGCAATTGCAACTTTGTTATCCGAGCAAGGCGGTTTAATACATTCTATAGACTT<br>GTCGAACAATCGTCTTCGGTATTTGGACTATTTGGCAAATTTAGTCTCATTCACGAGAAATGTTATTGCG<br>CTGGATCTTAACGAAAATCAAGTGGATTCAGTGGATGAGTTGCGTAAGCTGAGTGGTTGGAAGTTGAGCC<br>AGTTGAATATAAAGCAAAATCCATTCTATAAACATTTTAAATCAGAATCGGAGTATCACAG<span style=\"color:yellow;\">G</span><span style=\"color:yellow;\">T</span><span style=\"color:yellow;\">T</span><span style=\"color:yellow;\">T</span><span style=\"color:yellow;\">G</span><span style=\"color:yellow;\">T</span><span style=\"color:yellow;\">T</span><span style=\"color:yellow;\">T</span><span style=\"color:yellow;\">T<br></span><span style=\"color:yellow;\">T</span><span style=\"color:yellow;\">G</span><span style=\"color:yellow;\">T</span><span style=\"color:yellow;\">T</span><span style=\"color:yellow;\">C</span><span style=\"color:yellow;\">G</span><span style=\"color:yellow;\">G</span><span style=\"color:yellow;\">T</span><span style=\"color:yellow;\">T</span><span style=\"color:yellow;\">T</span><span style=\"color:yellow;\">T</span><span style=\"color:yellow;\">T</span><span style=\"color:yellow;\">T</span><span style=\"color:yellow;\">G</span><span style=\"color:yellow;\">T</span><span style=\"color:yellow;\">T</span><span style=\"color:yellow;\">T</span><span style=\"color:yellow;\">T</span><span style=\"color:yellow;\">A</span><span style=\"color:yellow;\">T</span><span style=\"color:yellow;\">T</span><span style=\"color:yellow;\">T</span><span style=\"color:yellow;\">G</span><span style=\"color:yellow;\">T</span><span style=\"color:yellow;\">T</span><span style=\"color:yellow;\">T</span><span style=\"color:yellow;\">T</span><span style=\"color:yellow;\">T</span><span style=\"color:yellow;\">T</span><span style=\"color:yellow;\">T</span><span style=\"color:yellow;\">C</span><span style=\"color:yellow;\">C</span><span style=\"color:yellow;\">G</span><span style=\"color:yellow;\">G</span><span style=\"color:yellow;\">C</span><span style=\"color:yellow;\">T</span><span style=\"color:yellow;\">G</span><span style=\"color:yellow;\">C</span><span style=\"color:yellow;\">A</span><span style=\"color:yellow;\">C</span><span style=\"color:yellow;\">C</span><span style=\"color:yellow;\">T</span><span style=\"color:yellow;\">C</span><span style=\"color:yellow;\">G</span><span style=\"color:yellow;\">A</span><span style=\"color:yellow;\">C</span><span style=\"color:yellow;\">G</span><span style=\"color:yellow;\">T</span><span style=\"color:yellow;\">T</span><span style=\"color:yellow;\">G</span><span style=\"color:yellow;\">A</span><span style=\"color:yellow;\">C</span><span style=\"color:yellow;\">G</span><span style=\"color:yellow;\">T</span><span style=\"color:yellow;\">T</span><span style=\"color:yellow;\">G</span><span style=\"color:yellow;\">T</span><span style=\"color:yellow;\">A</span><span style=\"color:yellow;\">T</span><span style=\"color:yellow;\">T</span><span style=\"color:yellow;\">T</span><span style=\"color:yellow;\">T</span><span style=\"color:yellow;\">G</span><span style=\"color:yellow;\">G</span><span style=\"color:yellow;\">T</span><span style=\"color:yellow;\">T</span><span style=\"color:yellow;\">G</span><span style=\"color:yellow;\">T</span><span style=\"color:yellow;\">C</span><span style=\"color:yellow;\">T<br></span><span style=\"color:yellow;\">C</span><span style=\"color:yellow;\">T</span><span style=\"color:yellow;\">A</span><span style=\"color:yellow;\">C</span><span style=\"color:yellow;\">G</span><span style=\"color:yellow;\">T</span><span style=\"color:yellow;\">C</span><span style=\"color:yellow;\">C</span><span style=\"color:yellow;\">A</span><span style=\"color:yellow;\">G</span><span style=\"color:yellow;\">G</span><span style=\"color:yellow;\">C</span><span style=\"color:yellow;\">G</span><span style=\"color:yellow;\">A</span><span style=\"color:yellow;\">C</span><span style=\"color:yellow;\">T</span><span style=\"color:yellow;\">T</span><span style=\"color:yellow;\">T</span><span style=\"color:yellow;\">A</span><span style=\"color:yellow;\">C</span><span style=\"color:yellow;\">A</span><span style=\"color:yellow;\">C</span><span style=\"color:yellow;\">T</span><span style=\"color:yellow;\">T</span><span style=\"color:yellow;\">T</span><span style=\"color:yellow;\">T</span><span style=\"color:yellow;\">A</span><span style=\"color:yellow;\">G</span><span style=\"color:yellow;\">T</span><span style=\"color:yellow;\">T</span><span style=\"color:yellow;\">G</span><span style=\"color:yellow;\">C</span><span style=\"color:yellow;\">A</span><span style=\"color:yellow;\">A</span><span style=\"color:yellow;\">C</span><span style=\"color:yellow;\">G</span><span style=\"color:yellow;\">G</span><span style=\"color:yellow;\">T</span><span style=\"color:yellow;\">T</span><span style=\"color:yellow;\">G</span><span style=\"color:yellow;\">T</span><span style=\"color:yellow;\">A</span><span style=\"color:yellow;\">G</span><span style=\"color:yellow;\">A</span><span style=\"color:yellow;\">G</span><span style=\"color:yellow;\">A</span><span style=\"color:yellow;\">T</span><span style=\"color:yellow;\">T</span><span style=\"color:yellow;\">G</span><span style=\"color:yellow;\">C</span><span style=\"color:yellow;\">A</span><span style=\"color:yellow;\">C</span><span style=\"color:yellow;\">A</span><span style=\"color:yellow;\">G</span><span style=\"color:yellow;\">C</span><span style=\"color:yellow;\">A</span><span style=\"color:yellow;\">G</span><span style=\"color:yellow;\">T</span><span style=\"color:yellow;\">C</span><span style=\"color:yellow;\">T</span><span style=\"color:yellow;\">T</span><span style=\"color:yellow;\">T</span><span style=\"color:yellow;\">A</span><span style=\"color:yellow;\">A</span><span style=\"color:yellow;\">T</span><span style=\"color:yellow;\">G</span><span style=\"color:yellow;\">A</span><span style=\"color:yellow;\">C</span><span style=\"color:yellow;\">A</span><span style=\"color:yellow;\">T<br></span><span style=\"color:yellow;\">C</span><span style=\"color:yellow;\">A</span><span style=\"color:yellow;\">T</span><span style=\"color:yellow;\">T</span><span style=\"color:yellow;\">G</span><span style=\"color:yellow;\">T</span><span style=\"color:yellow;\">C</span><span style=\"color:yellow;\">A</span><span style=\"color:yellow;\">T</span><span style=\"color:yellow;\">T</span><span style=\"color:yellow;\">T</span><span style=\"color:yellow;\">C</span><span style=\"color:yellow;\">T</span><span style=\"color:yellow;\">A</span><span style=\"color:yellow;\">C</span><span style=\"color:yellow;\">C</span><span style=\"color:yellow;\">A</span><span style=\"color:yellow;\">A</span><span style=\"color:yellow;\">A</span><span style=\"color:yellow;\">T</span><span style=\"color:yellow;\">G</span><span style=\"color:yellow;\">A</span><span style=\"color:yellow;\">T</span><span style=\"color:yellow;\">C</span><span style=\"color:yellow;\">T</span><span style=\"color:yellow;\">T</span><span style=\"color:yellow;\">A</span><span style=\"color:yellow;\">T</span><span style=\"color:yellow;\">A</span><span style=\"color:yellow;\">C</span><span style=\"color:yellow;\">T</span><span style=\"color:yellow;\">T</span><span style=\"color:yellow;\">A</span><span style=\"color:yellow;\">T</span><span style=\"color:yellow;\">A</span><span style=\"color:yellow;\">G</span>AGCCATGCTATCAGTATTTCCCCAGC<span style=\"color:red;\">T</span><span style=\"color:red;\">G</span><span style=\"color:red;\">A</span></div>"
      ]
     },
     "execution_count": 42,
     "metadata": {},
     "output_type": "execute_result"
    }
   ],
   "execution_count": 42
  },
  {
   "metadata": {
    "ExecuteTime": {
     "end_time": "2025-05-19T07:13:00.742321Z",
     "start_time": "2025-05-19T07:13:00.741006Z"
    }
   },
   "cell_type": "code",
   "source": "",
   "id": "712ad69acfa53ec4",
   "outputs": [],
   "execution_count": null
  },
  {
   "metadata": {},
   "cell_type": "markdown",
   "source": "---",
   "id": "89c05d6e06e54502"
  },
  {
   "metadata": {
    "ExecuteTime": {
     "end_time": "2025-05-19T07:13:00.803314Z",
     "start_time": "2025-05-19T07:13:00.801712Z"
    }
   },
   "cell_type": "code",
   "source": "# Пробую сделать cds + intron и построить вторичные структуры",
   "id": "1365101138ac0b21",
   "outputs": [],
   "execution_count": 43
  },
  {
   "metadata": {
    "ExecuteTime": {
     "end_time": "2025-05-19T07:13:00.865856Z",
     "start_time": "2025-05-19T07:13:00.862980Z"
    }
   },
   "cell_type": "code",
   "source": [
    "org_names = \\\n",
    "    [\n",
    "        \"caenorhabditis_elegans_0\",\n",
    "        \"brugia_malayi_2\",\n",
    "        \"trichinella_spiralis_3\",\n",
    "        \"priapulus_caudatus_4\",\n",
    "    ]\n",
    "\n",
    "dict_align = dict_align_create(\"Ecdysozoa\", org_names, \"cds_cassette\")\n",
    "new_dict_align = dict_align_update_keys(dict_align)\n",
    "\n",
    "dict_align_to_fasta(new_dict_align, \"../Alignment/Ecdysozoa/Ecdysozoa_cds_cassette.fa\")\n",
    "dict_align_to_fasta(new_dict_align, \"../Alignment/Ecdysozoa/Ecdysozoa_cds_cassette.aln\")"
   ],
   "id": "dd6d197bd05fb213",
   "outputs": [],
   "execution_count": 44
  },
  {
   "metadata": {
    "ExecuteTime": {
     "end_time": "2025-05-19T07:13:00.936039Z",
     "start_time": "2025-05-19T07:13:00.933492Z"
    }
   },
   "cell_type": "code",
   "source": "\"python Scripts/build_rna_structures.py --input Alignment/Ecdysozoa/Ecdysozoa_cds_cassette.fa --paint Alignment/Ecdysozoa/Ecdysozoa_introns.fa --output rnafold_output/Ecdysozoa_cds_cassette\"",
   "id": "70243d777d38f526",
   "outputs": [
    {
     "data": {
      "text/plain": [
       "'python Scripts/build_rna_structures.py --input Alignment/Ecdysozoa/Ecdysozoa_cds_cassette.fa --paint Alignment/Ecdysozoa/Ecdysozoa_introns.fa --output rnafold_output/Ecdysozoa_cds_cassette'"
      ]
     },
     "execution_count": 45,
     "metadata": {},
     "output_type": "execute_result"
    }
   ],
   "execution_count": 45
  },
  {
   "metadata": {
    "ExecuteTime": {
     "end_time": "2025-05-19T07:13:00.996188Z",
     "start_time": "2025-05-19T07:13:00.994687Z"
    }
   },
   "cell_type": "code",
   "source": [
    "# run_rnafold_with_highlight(\n",
    "#     Path(\"../Alignment/Ecdysozoa/Ecdysozoa_cds_cassette.fa\"),\n",
    "#     Path(\"../Alignment/Ecdysozoa/Ecdysozoa_introns.fa\"),\n",
    "#     Path(\"../rnafold_output/Ecdysozoa_cds_cassette\")\n",
    "# )"
   ],
   "id": "2b45edfd04ceaa4d",
   "outputs": [],
   "execution_count": 46
  },
  {
   "metadata": {
    "ExecuteTime": {
     "end_time": "2025-05-19T07:13:01.057722Z",
     "start_time": "2025-05-19T07:13:01.055432Z"
    }
   },
   "cell_type": "code",
   "source": [
    "org_names = \\\n",
    "    [\n",
    "        'schistosoma_haematobium_1',\n",
    "        'mya_arenaria_2',\n",
    "        'crassostrea_virginica_7',\n",
    "        'magallana_gigas_8',\n",
    "        'gigantopelta_aegis_6',\n",
    "        'aplysia_californica_9',\n",
    "    ]\n",
    "\n",
    "dict_align = dict_align_create(\"Spiralia\", org_names, \"cds_cassette\")\n",
    "new_dict_align = dict_align_update_keys(dict_align)\n",
    "\n",
    "dict_align_to_fasta(new_dict_align, \"../Alignment/Spiralia/Spiralia_cds_cassette.fa\")\n",
    "dict_align_to_fasta(new_dict_align, \"../Alignment/Spiralia/Spiralia_cds_cassette.aln\")"
   ],
   "id": "9d732b51951e672e",
   "outputs": [],
   "execution_count": 47
  },
  {
   "metadata": {
    "ExecuteTime": {
     "end_time": "2025-05-19T07:13:01.119552Z",
     "start_time": "2025-05-19T07:13:01.117483Z"
    }
   },
   "cell_type": "code",
   "source": "\"python Scripts/build_rna_structures.py --input Alignment/Spiralia/Spiralia_cds_cassette.fa --paint Alignment/Spiralia/Spiralia_introns.fa --output rnafold_output/Spiralia_cds_cassette\"",
   "id": "f06558b844292efc",
   "outputs": [
    {
     "data": {
      "text/plain": [
       "'python Scripts/build_rna_structures.py --input Alignment/Spiralia/Spiralia_cds_cassette.fa --paint Alignment/Spiralia/Spiralia_introns.fa --output rnafold_output/Spiralia_cds_cassette'"
      ]
     },
     "execution_count": 48,
     "metadata": {},
     "output_type": "execute_result"
    }
   ],
   "execution_count": 48
  },
  {
   "metadata": {
    "ExecuteTime": {
     "end_time": "2025-05-19T07:13:01.185192Z",
     "start_time": "2025-05-19T07:13:01.183571Z"
    }
   },
   "cell_type": "code",
   "source": [
    "# run_rnafold_with_highlight(\n",
    "#     Path(\"../Alignment/Spiralia/Spiralia_cds_cassette.fa\"),\n",
    "#     Path(\"../Alignment/Spiralia/Spiralia_introns.fa\"),\n",
    "#     Path(\"../rnafold_output/Spiralia_cds_cassette\")\n",
    "# )"
   ],
   "id": "1e5cd0999da74f03",
   "outputs": [],
   "execution_count": 49
  },
  {
   "metadata": {
    "ExecuteTime": {
     "end_time": "2025-05-19T07:13:01.249345Z",
     "start_time": "2025-05-19T07:13:01.247715Z"
    }
   },
   "cell_type": "code",
   "source": [
    "# Вручную создал файлики для хайлайта полного гена дрозофилы -- нет смысла\n",
    "# RNAplot --pre \"\" < mfe.fold\n",
    "# RNAplot --pre \"\" < centroid.fold\n",
    "\n",
    "# В них вручную проставил аннотацию для интронов (желтые -- все, зеленый -- кассетный)\n",
    "# % Start Annotations\n",
    "# 1 504 8 10 10 0 omark\n",
    "# 602 665 8 10 10 0 omark\n",
    "# 827 893 8 10 10 0 omark\n",
    "# 987 9878 8 10 10 0 omark\n",
    "# 10574 12175 8 0 10 0 omark\n",
    "# 12626 12692 8 10 10 0 omark\n",
    "# 12865 12921 8 10 10 0 omark\n",
    "# 13419 13484 8 10 10 0 omark\n",
    "# 13585 14341 8 10 10 0 omark\n",
    "# % End Annotations\n",
    "\n",
    "# run_rnafold_with_highlight(\n",
    "#     fasta_path=Path(\"../References/sbr_RA_gene_for_rnafold.fa\"),\n",
    "#     output_dir=Path(\"../rnafold_output\")\n",
    "# )"
   ],
   "id": "643b938742e53e1f",
   "outputs": [],
   "execution_count": 50
  },
  {
   "metadata": {},
   "cell_type": "markdown",
   "source": "---",
   "id": "8e6a221c0a60fb49"
  },
  {
   "metadata": {
    "ExecuteTime": {
     "end_time": "2025-05-19T07:13:01.318592Z",
     "start_time": "2025-05-19T07:13:01.316854Z"
    }
   },
   "cell_type": "code",
   "source": "# У некоторых видов получилось что-то очень интересное, посмотрим на cds без интрона для сравнения",
   "id": "948330dc4ead4b2f",
   "outputs": [],
   "execution_count": 51
  },
  {
   "metadata": {
    "ExecuteTime": {
     "end_time": "2025-05-19T07:13:01.378486Z",
     "start_time": "2025-05-19T07:13:01.376488Z"
    }
   },
   "cell_type": "code",
   "source": [
    "org_names = \\\n",
    "    [\n",
    "        \"caenorhabditis_elegans_0\",\n",
    "        \"brugia_malayi_2\",\n",
    "        \"trichinella_spiralis_3\",\n",
    "        \"priapulus_caudatus_4\",\n",
    "    ]\n",
    "\n",
    "dict_align = dict_align_create(\"Ecdysozoa\", org_names, \"cds\")\n",
    "new_dict_align = dict_align_update_keys(dict_align)\n",
    "\n",
    "dict_align_to_fasta(new_dict_align, \"../Alignment/Ecdysozoa/Ecdysozoa_cds.fa\")\n",
    "dict_align_to_fasta(new_dict_align, \"../Alignment/Ecdysozoa/Ecdysozoa_cds.aln\")"
   ],
   "id": "ab1908ff01032a63",
   "outputs": [],
   "execution_count": 52
  },
  {
   "metadata": {
    "ExecuteTime": {
     "end_time": "2025-05-19T07:13:01.438148Z",
     "start_time": "2025-05-19T07:13:01.436121Z"
    }
   },
   "cell_type": "code",
   "source": [
    "org_names = \\\n",
    "    [\n",
    "        'schistosoma_haematobium_1',\n",
    "        'mya_arenaria_2',\n",
    "        'crassostrea_virginica_7',\n",
    "        'magallana_gigas_8',\n",
    "        'gigantopelta_aegis_6',\n",
    "        'aplysia_californica_9',\n",
    "    ]\n",
    "\n",
    "dict_align = dict_align_create(\"Spiralia\", org_names, \"cds\")\n",
    "new_dict_align = dict_align_update_keys(dict_align)\n",
    "\n",
    "dict_align_to_fasta(new_dict_align, \"../Alignment/Spiralia/Spiralia_cds.fa\")\n",
    "dict_align_to_fasta(new_dict_align, \"../Alignment/Spiralia/Spiralia_cds.aln\")"
   ],
   "id": "181977d9e07b2fbe",
   "outputs": [],
   "execution_count": 53
  },
  {
   "metadata": {
    "ExecuteTime": {
     "end_time": "2025-05-19T07:13:01.496895Z",
     "start_time": "2025-05-19T07:13:01.495379Z"
    }
   },
   "cell_type": "code",
   "source": [
    "# run_rnafold_with_highlight(\n",
    "#     fasta_path=Path(\"../Alignment/Ecdysozoa/Ecdysozoa_cds.fa\"),\n",
    "#     output_dir=Path(\"../rnafold_output/Ecdysozoa_cds\")\n",
    "# )\n",
    "#\n",
    "# run_rnafold_with_highlight(\n",
    "#     fasta_path=Path(\"../Alignment/Spiralia/Spiralia_cds.fa\"),\n",
    "#     output_dir=Path(\"../rnafold_output/Spiralia_cds\")\n",
    "# )"
   ],
   "id": "cf7599e5ef6a70f5",
   "outputs": [],
   "execution_count": 54
  }
 ],
 "metadata": {
  "kernelspec": {
   "display_name": "Python 3",
   "language": "python",
   "name": "python3"
  },
  "language_info": {
   "codemirror_mode": {
    "name": "ipython",
    "version": 2
   },
   "file_extension": ".py",
   "mimetype": "text/x-python",
   "name": "python",
   "nbconvert_exporter": "python",
   "pygments_lexer": "ipython2",
   "version": "2.7.6"
  }
 },
 "nbformat": 4,
 "nbformat_minor": 5
}
