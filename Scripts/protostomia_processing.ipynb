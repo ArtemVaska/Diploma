{
 "cells": [
  {
   "cell_type": "code",
   "id": "initial_id",
   "metadata": {
    "collapsed": true,
    "ExecuteTime": {
     "end_time": "2025-05-15T02:02:24.686355Z",
     "start_time": "2025-05-15T02:02:24.142347Z"
    }
   },
   "source": [
    "import os\n",
    "\n",
    "import pandas as pd\n",
    "\n",
    "from os.path import commonprefix\n",
    "\n",
    "from fasta_processing import read_single_fasta, dict_align_to_fasta\n",
    "from datasets import select_all_phylas, download_all_files_ncbi\n",
    "from taxonomy_processing import create_taxonomy\n",
    "from data_processing import analyze_exons, create_cassette, concat_cassette"
   ],
   "outputs": [],
   "execution_count": 1
  },
  {
   "metadata": {
    "ExecuteTime": {
     "end_time": "2025-05-15T02:02:24.756019Z",
     "start_time": "2025-05-15T02:02:24.740956Z"
    }
   },
   "cell_type": "code",
   "source": [
    "column_names = [\"tax_id\", \"org_name\", \"gene_id\", \"current_id\", \"status\", \"symbol\", \"aliases\", \"description\",\n",
    "                \"other_designations\", \"map_location\", \"chromosome\", \"genomic_nucleotide_accession.version\",\n",
    "                \"start_position_on_the_genomic_accession\", \"end_position_on_the_genomic_accession\", \"orientation\",\n",
    "                \"exon_count\", \"to_delete_1\", \"to_delete_2\"]\n",
    "\n",
    "df = pd.read_csv(\"../all_nxf1_2.txt\", sep=\"\\t\", skiprows=1, names=column_names, index_col=0)\n",
    "df.drop([\"to_delete_1\", \"to_delete_2\"], axis=1, inplace=True)\n",
    "df.head()"
   ],
   "id": "598fc83782e0fe4a",
   "outputs": [
    {
     "data": {
      "text/plain": [
       "                  org_name    gene_id  current_id status symbol  \\\n",
       "tax_id                                                            \n",
       "9606          Homo sapiens      10482           0   live   NXF1   \n",
       "10090         Mus musculus      53319           0   live   Nxf1   \n",
       "10116    Rattus norvegicus      59087           0   live   Nxf1   \n",
       "8407       Rana temporaria  120917577           0   live   NXF1   \n",
       "8364    Xenopus tropicalis     734058           0   live   nxf1   \n",
       "\n",
       "                 aliases                  description  \\\n",
       "tax_id                                                  \n",
       "9606          MEX67, TAP  nuclear RNA export factor 1   \n",
       "10090   Mex67, Mvb1, Tap  nuclear RNA export factor 1   \n",
       "10116        Mex67h, Tap  nuclear RNA export factor 1   \n",
       "8407                 NaN  nuclear RNA export factor 1   \n",
       "8364          mex67, tap  nuclear RNA export factor 1   \n",
       "\n",
       "                                       other_designations map_location  \\\n",
       "tax_id                                                                   \n",
       "9606    nuclear RNA export factor 1|mRNA export factor...      11q12.3   \n",
       "10090   nuclear RNA export factor 1|Mex 67 homolog|mRN...    19 5.5 cM   \n",
       "10116   nuclear RNA export factor 1|mRNA export factor...         1q43   \n",
       "8407                          nuclear RNA export factor 1          NaN   \n",
       "8364                          nuclear RNA export factor 1          NaN   \n",
       "\n",
       "       chromosome genomic_nucleotide_accession.version  \\\n",
       "tax_id                                                   \n",
       "9606           11                         NC_000011.10   \n",
       "10090          19                          NC_000085.7   \n",
       "10116           1                          NC_086019.1   \n",
       "8407           11                          NC_053499.1   \n",
       "8364            4                          NC_030680.2   \n",
       "\n",
       "        start_position_on_the_genomic_accession  \\\n",
       "tax_id                                            \n",
       "9606                                 62792130.0   \n",
       "10090                                 8734467.0   \n",
       "10116                               215084563.0   \n",
       "8407                                120752259.0   \n",
       "8364                                 36493131.0   \n",
       "\n",
       "        end_position_on_the_genomic_accession orientation  exon_count  \n",
       "tax_id                                                                 \n",
       "9606                               62805440.0       minus        22.0  \n",
       "10090                               8748274.0        plus        20.0  \n",
       "10116                             215097756.0        plus        21.0  \n",
       "8407                              120809664.0        plus        22.0  \n",
       "8364                               36532401.0       minus        23.0  "
      ],
      "text/html": [
       "<div>\n",
       "<style scoped>\n",
       "    .dataframe tbody tr th:only-of-type {\n",
       "        vertical-align: middle;\n",
       "    }\n",
       "\n",
       "    .dataframe tbody tr th {\n",
       "        vertical-align: top;\n",
       "    }\n",
       "\n",
       "    .dataframe thead th {\n",
       "        text-align: right;\n",
       "    }\n",
       "</style>\n",
       "<table border=\"1\" class=\"dataframe\">\n",
       "  <thead>\n",
       "    <tr style=\"text-align: right;\">\n",
       "      <th></th>\n",
       "      <th>org_name</th>\n",
       "      <th>gene_id</th>\n",
       "      <th>current_id</th>\n",
       "      <th>status</th>\n",
       "      <th>symbol</th>\n",
       "      <th>aliases</th>\n",
       "      <th>description</th>\n",
       "      <th>other_designations</th>\n",
       "      <th>map_location</th>\n",
       "      <th>chromosome</th>\n",
       "      <th>genomic_nucleotide_accession.version</th>\n",
       "      <th>start_position_on_the_genomic_accession</th>\n",
       "      <th>end_position_on_the_genomic_accession</th>\n",
       "      <th>orientation</th>\n",
       "      <th>exon_count</th>\n",
       "    </tr>\n",
       "    <tr>\n",
       "      <th>tax_id</th>\n",
       "      <th></th>\n",
       "      <th></th>\n",
       "      <th></th>\n",
       "      <th></th>\n",
       "      <th></th>\n",
       "      <th></th>\n",
       "      <th></th>\n",
       "      <th></th>\n",
       "      <th></th>\n",
       "      <th></th>\n",
       "      <th></th>\n",
       "      <th></th>\n",
       "      <th></th>\n",
       "      <th></th>\n",
       "      <th></th>\n",
       "    </tr>\n",
       "  </thead>\n",
       "  <tbody>\n",
       "    <tr>\n",
       "      <th>9606</th>\n",
       "      <td>Homo sapiens</td>\n",
       "      <td>10482</td>\n",
       "      <td>0</td>\n",
       "      <td>live</td>\n",
       "      <td>NXF1</td>\n",
       "      <td>MEX67, TAP</td>\n",
       "      <td>nuclear RNA export factor 1</td>\n",
       "      <td>nuclear RNA export factor 1|mRNA export factor...</td>\n",
       "      <td>11q12.3</td>\n",
       "      <td>11</td>\n",
       "      <td>NC_000011.10</td>\n",
       "      <td>62792130.0</td>\n",
       "      <td>62805440.0</td>\n",
       "      <td>minus</td>\n",
       "      <td>22.0</td>\n",
       "    </tr>\n",
       "    <tr>\n",
       "      <th>10090</th>\n",
       "      <td>Mus musculus</td>\n",
       "      <td>53319</td>\n",
       "      <td>0</td>\n",
       "      <td>live</td>\n",
       "      <td>Nxf1</td>\n",
       "      <td>Mex67, Mvb1, Tap</td>\n",
       "      <td>nuclear RNA export factor 1</td>\n",
       "      <td>nuclear RNA export factor 1|Mex 67 homolog|mRN...</td>\n",
       "      <td>19 5.5 cM</td>\n",
       "      <td>19</td>\n",
       "      <td>NC_000085.7</td>\n",
       "      <td>8734467.0</td>\n",
       "      <td>8748274.0</td>\n",
       "      <td>plus</td>\n",
       "      <td>20.0</td>\n",
       "    </tr>\n",
       "    <tr>\n",
       "      <th>10116</th>\n",
       "      <td>Rattus norvegicus</td>\n",
       "      <td>59087</td>\n",
       "      <td>0</td>\n",
       "      <td>live</td>\n",
       "      <td>Nxf1</td>\n",
       "      <td>Mex67h, Tap</td>\n",
       "      <td>nuclear RNA export factor 1</td>\n",
       "      <td>nuclear RNA export factor 1|mRNA export factor...</td>\n",
       "      <td>1q43</td>\n",
       "      <td>1</td>\n",
       "      <td>NC_086019.1</td>\n",
       "      <td>215084563.0</td>\n",
       "      <td>215097756.0</td>\n",
       "      <td>plus</td>\n",
       "      <td>21.0</td>\n",
       "    </tr>\n",
       "    <tr>\n",
       "      <th>8407</th>\n",
       "      <td>Rana temporaria</td>\n",
       "      <td>120917577</td>\n",
       "      <td>0</td>\n",
       "      <td>live</td>\n",
       "      <td>NXF1</td>\n",
       "      <td>NaN</td>\n",
       "      <td>nuclear RNA export factor 1</td>\n",
       "      <td>nuclear RNA export factor 1</td>\n",
       "      <td>NaN</td>\n",
       "      <td>11</td>\n",
       "      <td>NC_053499.1</td>\n",
       "      <td>120752259.0</td>\n",
       "      <td>120809664.0</td>\n",
       "      <td>plus</td>\n",
       "      <td>22.0</td>\n",
       "    </tr>\n",
       "    <tr>\n",
       "      <th>8364</th>\n",
       "      <td>Xenopus tropicalis</td>\n",
       "      <td>734058</td>\n",
       "      <td>0</td>\n",
       "      <td>live</td>\n",
       "      <td>nxf1</td>\n",
       "      <td>mex67, tap</td>\n",
       "      <td>nuclear RNA export factor 1</td>\n",
       "      <td>nuclear RNA export factor 1</td>\n",
       "      <td>NaN</td>\n",
       "      <td>4</td>\n",
       "      <td>NC_030680.2</td>\n",
       "      <td>36493131.0</td>\n",
       "      <td>36532401.0</td>\n",
       "      <td>minus</td>\n",
       "      <td>23.0</td>\n",
       "    </tr>\n",
       "  </tbody>\n",
       "</table>\n",
       "</div>"
      ]
     },
     "execution_count": 2,
     "metadata": {},
     "output_type": "execute_result"
    }
   ],
   "execution_count": 2
  },
  {
   "metadata": {
    "ExecuteTime": {
     "end_time": "2025-05-15T02:02:24.815264Z",
     "start_time": "2025-05-15T02:02:24.810914Z"
    }
   },
   "cell_type": "code",
   "source": "df_taxonomy = pd.read_csv(\"../all_phylas_taxonomy.tsv\", sep=\"\\t\", names=[\"taxid\", \"taxonomy\"], index_col=0, dtype={\"taxid\": int, \"taxonomy\": str})",
   "id": "8ed9afdb8aae83d4",
   "outputs": [],
   "execution_count": 3
  },
  {
   "metadata": {
    "ExecuteTime": {
     "end_time": "2025-05-15T02:02:24.867866Z",
     "start_time": "2025-05-15T02:02:24.865111Z"
    }
   },
   "cell_type": "code",
   "source": [
    "df_protostomia = df_taxonomy[df_taxonomy.taxonomy.str.contains(\"Protostomia\")]\n",
    "df_prot = df_protostomia[~df_protostomia.taxonomy.str.contains(\"Arthropoda\")]"
   ],
   "id": "d62ef322604061d3",
   "outputs": [],
   "execution_count": 4
  },
  {
   "metadata": {
    "ExecuteTime": {
     "end_time": "2025-05-15T02:02:24.944165Z",
     "start_time": "2025-05-15T02:02:24.941800Z"
    }
   },
   "cell_type": "code",
   "source": [
    "df_ecdysozoa = df_prot[df_prot.taxonomy.str.contains(\"Ecdysozoa\")]\n",
    "df_spiralia = df_prot[df_prot.taxonomy.str.contains(\"Spiralia\")]"
   ],
   "id": "1b5a2a3fbb90bd",
   "outputs": [],
   "execution_count": 5
  },
  {
   "metadata": {
    "ExecuteTime": {
     "end_time": "2025-05-15T02:02:25.013093Z",
     "start_time": "2025-05-15T02:02:25.010615Z"
    }
   },
   "cell_type": "code",
   "source": [
    "prot_taxids = {\n",
    "    \"Ecdysozoa\": df_ecdysozoa.index.tolist(),\n",
    "    \"Spiralia\": df_spiralia.index.tolist(),\n",
    "}\n",
    "prot_taxids"
   ],
   "id": "b9d268296861f9d1",
   "outputs": [
    {
     "data": {
      "text/plain": [
       "{'Ecdysozoa': [6239, 6279, 6334, 37621],\n",
       " 'Spiralia': [6185, 6604, 400727, 7574, 6198, 1735272, 6565, 29159, 6500]}"
      ]
     },
     "execution_count": 6,
     "metadata": {},
     "output_type": "execute_result"
    }
   ],
   "execution_count": 6
  },
  {
   "metadata": {
    "ExecuteTime": {
     "end_time": "2025-05-15T02:02:25.065461Z",
     "start_time": "2025-05-15T02:02:25.063873Z"
    }
   },
   "cell_type": "code",
   "source": "# download_all_files_ncbi(df, prot_taxids, phylas=list(prot_taxids.keys()))",
   "id": "b18f10403c4bacf8",
   "outputs": [],
   "execution_count": 7
  },
  {
   "metadata": {
    "ExecuteTime": {
     "end_time": "2025-05-15T02:02:25.116508Z",
     "start_time": "2025-05-15T02:02:25.113377Z"
    }
   },
   "cell_type": "code",
   "source": "df_prot",
   "id": "255462ea9e4d7d74",
   "outputs": [
    {
     "data": {
      "text/plain": [
       "                                                  taxonomy\n",
       "taxid                                                     \n",
       "6239     cellular organisms; Eukaryota; Opisthokonta; M...\n",
       "6185     cellular organisms; Eukaryota; Opisthokonta; M...\n",
       "6604     cellular organisms; Eukaryota; Opisthokonta; M...\n",
       "400727   cellular organisms; Eukaryota; Opisthokonta; M...\n",
       "6279     cellular organisms; Eukaryota; Opisthokonta; M...\n",
       "6334     cellular organisms; Eukaryota; Opisthokonta; M...\n",
       "7574     cellular organisms; Eukaryota; Opisthokonta; M...\n",
       "6198     cellular organisms; Eukaryota; Opisthokonta; M...\n",
       "1735272  cellular organisms; Eukaryota; Opisthokonta; M...\n",
       "6565     cellular organisms; Eukaryota; Opisthokonta; M...\n",
       "37621    cellular organisms; Eukaryota; Opisthokonta; M...\n",
       "29159    cellular organisms; Eukaryota; Opisthokonta; M...\n",
       "6500     cellular organisms; Eukaryota; Opisthokonta; M..."
      ],
      "text/html": [
       "<div>\n",
       "<style scoped>\n",
       "    .dataframe tbody tr th:only-of-type {\n",
       "        vertical-align: middle;\n",
       "    }\n",
       "\n",
       "    .dataframe tbody tr th {\n",
       "        vertical-align: top;\n",
       "    }\n",
       "\n",
       "    .dataframe thead th {\n",
       "        text-align: right;\n",
       "    }\n",
       "</style>\n",
       "<table border=\"1\" class=\"dataframe\">\n",
       "  <thead>\n",
       "    <tr style=\"text-align: right;\">\n",
       "      <th></th>\n",
       "      <th>taxonomy</th>\n",
       "    </tr>\n",
       "    <tr>\n",
       "      <th>taxid</th>\n",
       "      <th></th>\n",
       "    </tr>\n",
       "  </thead>\n",
       "  <tbody>\n",
       "    <tr>\n",
       "      <th>6239</th>\n",
       "      <td>cellular organisms; Eukaryota; Opisthokonta; M...</td>\n",
       "    </tr>\n",
       "    <tr>\n",
       "      <th>6185</th>\n",
       "      <td>cellular organisms; Eukaryota; Opisthokonta; M...</td>\n",
       "    </tr>\n",
       "    <tr>\n",
       "      <th>6604</th>\n",
       "      <td>cellular organisms; Eukaryota; Opisthokonta; M...</td>\n",
       "    </tr>\n",
       "    <tr>\n",
       "      <th>400727</th>\n",
       "      <td>cellular organisms; Eukaryota; Opisthokonta; M...</td>\n",
       "    </tr>\n",
       "    <tr>\n",
       "      <th>6279</th>\n",
       "      <td>cellular organisms; Eukaryota; Opisthokonta; M...</td>\n",
       "    </tr>\n",
       "    <tr>\n",
       "      <th>6334</th>\n",
       "      <td>cellular organisms; Eukaryota; Opisthokonta; M...</td>\n",
       "    </tr>\n",
       "    <tr>\n",
       "      <th>7574</th>\n",
       "      <td>cellular organisms; Eukaryota; Opisthokonta; M...</td>\n",
       "    </tr>\n",
       "    <tr>\n",
       "      <th>6198</th>\n",
       "      <td>cellular organisms; Eukaryota; Opisthokonta; M...</td>\n",
       "    </tr>\n",
       "    <tr>\n",
       "      <th>1735272</th>\n",
       "      <td>cellular organisms; Eukaryota; Opisthokonta; M...</td>\n",
       "    </tr>\n",
       "    <tr>\n",
       "      <th>6565</th>\n",
       "      <td>cellular organisms; Eukaryota; Opisthokonta; M...</td>\n",
       "    </tr>\n",
       "    <tr>\n",
       "      <th>37621</th>\n",
       "      <td>cellular organisms; Eukaryota; Opisthokonta; M...</td>\n",
       "    </tr>\n",
       "    <tr>\n",
       "      <th>29159</th>\n",
       "      <td>cellular organisms; Eukaryota; Opisthokonta; M...</td>\n",
       "    </tr>\n",
       "    <tr>\n",
       "      <th>6500</th>\n",
       "      <td>cellular organisms; Eukaryota; Opisthokonta; M...</td>\n",
       "    </tr>\n",
       "  </tbody>\n",
       "</table>\n",
       "</div>"
      ]
     },
     "execution_count": 8,
     "metadata": {},
     "output_type": "execute_result"
    }
   ],
   "execution_count": 8
  },
  {
   "metadata": {
    "ExecuteTime": {
     "end_time": "2025-05-15T02:02:25.184972Z",
     "start_time": "2025-05-15T02:02:25.183522Z"
    }
   },
   "cell_type": "code",
   "source": "# df_prot.to_csv(\"../protostomia_taxonomy.tsv\", sep=\"\\t\", index=True, header=False)",
   "id": "c10e3d642a50206",
   "outputs": [],
   "execution_count": 9
  },
  {
   "metadata": {
    "ExecuteTime": {
     "end_time": "2025-05-15T02:02:25.242134Z",
     "start_time": "2025-05-15T02:02:25.240619Z"
    }
   },
   "cell_type": "code",
   "source": "# create_taxonomy(\"../protostomia_taxonomy.tsv\")",
   "id": "b1f0b9543597ee44",
   "outputs": [],
   "execution_count": 10
  },
  {
   "metadata": {},
   "cell_type": "markdown",
   "source": "---",
   "id": "4535655660171700"
  },
  {
   "metadata": {
    "ExecuteTime": {
     "end_time": "2025-05-15T02:02:25.299159Z",
     "start_time": "2025-05-15T02:02:25.297067Z"
    }
   },
   "cell_type": "code",
   "source": "os.listdir(\"../Datasets/Ecdysozoa\")",
   "id": "a2814f0fbc1ab5b9",
   "outputs": [
    {
     "data": {
      "text/plain": [
       "['trichinella_spiralis_3',\n",
       " 'priapulus_caudatus_4',\n",
       " 'brugia_malayi_2',\n",
       " 'caenorhabditis_elegans_0']"
      ]
     },
     "execution_count": 11,
     "metadata": {},
     "output_type": "execute_result"
    }
   ],
   "execution_count": 11
  },
  {
   "metadata": {
    "ExecuteTime": {
     "end_time": "2025-05-15T02:02:25.350088Z",
     "start_time": "2025-05-15T02:02:25.348637Z"
    }
   },
   "cell_type": "code",
   "source": [
    "prefix = \"../Datasets\"\n",
    "phylum = \"Ecdysozoa\"\n",
    "postfix = \"ncbi_dataset/data\""
   ],
   "id": "83248bd0bb53af8a",
   "outputs": [],
   "execution_count": 12
  },
  {
   "metadata": {
    "ExecuteTime": {
     "end_time": "2025-05-15T02:02:25.403305Z",
     "start_time": "2025-05-15T02:02:25.398385Z"
    }
   },
   "cell_type": "code",
   "source": [
    "caenorhabditis_elegans_0 = analyze_exons(f\"{prefix}/{phylum}/caenorhabditis_elegans_0/{postfix}/exons.fa\")\n",
    "caenorhabditis_elegans_0_cassette = create_cassette(phylum, \"caenorhabditis_elegans_0\", caenorhabditis_elegans_0, exons_i=[4, 5])\n",
    "\n",
    "brugia_malayi_2 = analyze_exons(f\"{prefix}/{phylum}/brugia_malayi_2/{postfix}/exons.fa\")\n",
    "brugia_malayi_2_cassette = create_cassette(phylum, \"brugia_malayi_2\", brugia_malayi_2, exons_i=[8, 9])\n",
    "\n",
    "trichinella_spiralis_3 = analyze_exons(f\"{prefix}/{phylum}/trichinella_spiralis_3/{postfix}/exons.fa\")\n",
    "trichinella_spiralis_3_cassette = create_cassette(phylum, \"trichinella_spiralis_3\", trichinella_spiralis_3, exons_i=[5, 6])\n",
    "\n",
    "priapulus_caudatus_4 = analyze_exons(f\"{prefix}/{phylum}/priapulus_caudatus_4/{postfix}/exons.fa\") # 116-43\n",
    "priapulus_caudatus_4_cassette = create_cassette(phylum, \"priapulus_caudatus_4\", priapulus_caudatus_4, exons_i=[10, 11])"
   ],
   "id": "d27b172aba105b50",
   "outputs": [],
   "execution_count": 13
  },
  {
   "metadata": {
    "ExecuteTime": {
     "end_time": "2025-05-15T02:02:25.451981Z",
     "start_time": "2025-05-15T02:02:25.450131Z"
    }
   },
   "cell_type": "code",
   "source": [
    "alignment_dict = {\n",
    "    \"Caenorhabditis_elegans\": concat_cassette(caenorhabditis_elegans_0_cassette, \"eie\"),\n",
    "    \"Brugia_malayi\": concat_cassette(brugia_malayi_2_cassette, \"eie\"),\n",
    "    \"Trichinella_spiralis\": concat_cassette(trichinella_spiralis_3_cassette, \"eie\"),\n",
    "    \"Priapulus_caudatus\": concat_cassette(priapulus_caudatus_4_cassette, \"eie\"),\n",
    "}"
   ],
   "id": "703148fccd59229",
   "outputs": [],
   "execution_count": 14
  },
  {
   "metadata": {
    "ExecuteTime": {
     "end_time": "2025-05-15T02:02:25.503298Z",
     "start_time": "2025-05-15T02:02:25.501432Z"
    }
   },
   "cell_type": "code",
   "source": [
    "dict_align_to_fasta(alignment_dict, \"../Alignment/Ecdysozoa_cassette.fa\")\n",
    "dict_align_to_fasta(alignment_dict, \"../Alignment/Ecdysozoa_cassette.aln\")"
   ],
   "id": "669049399e825d84",
   "outputs": [],
   "execution_count": 15
  },
  {
   "metadata": {
    "ExecuteTime": {
     "end_time": "2025-05-15T02:02:25.555555Z",
     "start_time": "2025-05-15T02:02:25.553896Z"
    }
   },
   "cell_type": "code",
   "source": [
    "alignment_dict = {\n",
    "    \"Caenorhabditis_elegans\": concat_cassette(caenorhabditis_elegans_0_cassette, \"ee\"),\n",
    "    \"Brugia_malayi\": concat_cassette(brugia_malayi_2_cassette, \"ee\"),\n",
    "    \"Trichinella_spiralis\": concat_cassette(trichinella_spiralis_3_cassette, \"ee\"),\n",
    "    \"Priapulus_caudatus\": concat_cassette(priapulus_caudatus_4_cassette, \"ee\"),\n",
    "}"
   ],
   "id": "25e02b1b43602da",
   "outputs": [],
   "execution_count": 16
  },
  {
   "metadata": {
    "ExecuteTime": {
     "end_time": "2025-05-15T02:02:25.607045Z",
     "start_time": "2025-05-15T02:02:25.605390Z"
    }
   },
   "cell_type": "code",
   "source": [
    "dict_align_to_fasta(alignment_dict, \"../Alignment/Ecdysozoa_2_exons.fa\")\n",
    "dict_align_to_fasta(alignment_dict, \"../Alignment/Ecdysozoa_2_exons.aln\")"
   ],
   "id": "c84b41bcc570caf8",
   "outputs": [],
   "execution_count": 17
  },
  {
   "metadata": {
    "ExecuteTime": {
     "end_time": "2025-05-15T02:03:24.226944Z",
     "start_time": "2025-05-15T02:03:24.225046Z"
    }
   },
   "cell_type": "code",
   "source": [
    "alignment_dict = {\n",
    "    \"Caenorhabditis_elegans\": concat_cassette(caenorhabditis_elegans_0_cassette, \"i\"),\n",
    "    \"Brugia_malayi\": concat_cassette(brugia_malayi_2_cassette, \"i\"),\n",
    "    \"Trichinella_spiralis\": concat_cassette(trichinella_spiralis_3_cassette, \"i\"),\n",
    "    \"Priapulus_caudatus\": concat_cassette(priapulus_caudatus_4_cassette, \"i\"),\n",
    "}"
   ],
   "id": "b0b2247dd5fbb473",
   "outputs": [],
   "execution_count": 18
  },
  {
   "metadata": {
    "ExecuteTime": {
     "end_time": "2025-05-15T02:04:47.118821Z",
     "start_time": "2025-05-15T02:04:47.116381Z"
    }
   },
   "cell_type": "code",
   "source": [
    "dict_align_to_fasta(alignment_dict, \"../Alignment/Ecdysozoa_introns.fa\")\n",
    "dict_align_to_fasta(alignment_dict, \"../Alignment/Ecdysozoa_introns.aln\")"
   ],
   "id": "8482cf14994c1e19",
   "outputs": [],
   "execution_count": 20
  },
  {
   "metadata": {},
   "cell_type": "code",
   "outputs": [],
   "execution_count": null,
   "source": "\"python Scripts/build_rna_structures.py --input Alignment/Ecdysozoa_cassette.fa --paint Alignment/Ecdysozoa_introns.fa\"",
   "id": "cd56b9c84e11deb4"
  }
 ],
 "metadata": {
  "kernelspec": {
   "display_name": "Python 3",
   "language": "python",
   "name": "python3"
  },
  "language_info": {
   "codemirror_mode": {
    "name": "ipython",
    "version": 2
   },
   "file_extension": ".py",
   "mimetype": "text/x-python",
   "name": "python",
   "nbconvert_exporter": "python",
   "pygments_lexer": "ipython2",
   "version": "2.7.6"
  }
 },
 "nbformat": 4,
 "nbformat_minor": 5
}
