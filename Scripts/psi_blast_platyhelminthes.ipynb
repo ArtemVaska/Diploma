{
 "cells": [
  {
   "cell_type": "code",
   "id": "initial_id",
   "metadata": {
    "collapsed": true,
    "ExecuteTime": {
     "end_time": "2025-05-22T19:29:48.877219Z",
     "start_time": "2025-05-22T19:29:48.874945Z"
    }
   },
   "source": [
    "import pandas as pd\n",
    "from Bio import Entrez, SeqIO\n",
    "\n",
    "from data_processing import analyze_exons\n",
    "from fasta_processing import dict_align_to_fasta, read_single_fasta, plain_to_fasta\n",
    "from parse_psi_blast_results import parse_psiblast_xml, filter_psiblast_hits, update_df, save_genes, save_cdss_exons, save_proteins\n",
    "\n",
    "Entrez.email = \"artemvaskaa@gmail.com\""
   ],
   "outputs": [],
   "execution_count": 12
  },
  {
   "metadata": {
    "ExecuteTime": {
     "end_time": "2025-05-22T19:06:41.958012Z",
     "start_time": "2025-05-22T19:06:41.949206Z"
    }
   },
   "cell_type": "code",
   "source": [
    "name_of_blast_res = \"../Blast_res/schistosoma_haematobium_psi_blast.xml\" # XML2 !!!\n",
    "df = parse_psiblast_xml(name_of_blast_res)\n",
    "df = filter_psiblast_hits(df, min_qc=0, min_ident=0, min_sbjct_len=500)\n",
    "df = update_df(df)\n",
    "df.to_csv(\"../Sequences_protein_id/df_no_filters.tsv\", sep=\"\\t\", index=True)\n",
    "\n",
    "save_genes(df)\n",
    "save_cdss_exons(df)\n",
    "save_proteins(df)"
   ],
   "id": "600f3ed524de1a58",
   "outputs": [],
   "execution_count": 2
  },
  {
   "metadata": {},
   "cell_type": "markdown",
   "source": "---",
   "id": "d1319f71e596e085"
  },
  {
   "metadata": {
    "ExecuteTime": {
     "end_time": "2025-05-22T19:30:04.622670Z",
     "start_time": "2025-05-22T19:30:04.619538Z"
    }
   },
   "cell_type": "code",
   "source": "df = pd.read_csv(\"../Sequences_protein_id/df_no_filters.tsv\", sep=\"\\t\", index_col=0)",
   "id": "6889fd5aa085c679",
   "outputs": [],
   "execution_count": 14
  },
  {
   "metadata": {
    "ExecuteTime": {
     "end_time": "2025-05-22T19:23:03.922698Z",
     "start_time": "2025-05-22T19:23:03.898978Z"
    }
   },
   "cell_type": "code",
   "source": [
    "prefix = \"../Sequences_protein_id\"\n",
    "ref_exon_len = [107, 110, 113, 116, 37]\n",
    "found_protein_ids = {}\n",
    "\n",
    "for protein_id in df.protein_id:\n",
    "    df_subset = df[df[\"protein_id\"] == protein_id]\n",
    "    df_exons = analyze_exons(f\"{prefix}/{protein_id}/exons.fa\")\n",
    "    condition = set(ref_exon_len) & set(df_exons.length.tolist())\n",
    "    if condition:\n",
    "        found_protein_ids[protein_id] = condition\n",
    "\n",
    "df_found_protein_ids = df[df[\"protein_id\"].isin(found_protein_ids.keys())]\n",
    "\n",
    "dict_align = {\"Schistosoma_haematobium_reference\": read_single_fasta(\"../Datasets/Spiralia/schistosoma_haematobium_1/ncbi_dataset/data/protein.faa\")}\n",
    "for protein_id in df_found_protein_ids.protein_id:\n",
    "    df_subset = df_found_protein_ids[df_found_protein_ids[\"protein_id\"] == protein_id]\n",
    "    org_name = df_subset.org_name.iloc[0]\n",
    "    dict_align[f\"{org_name}_{protein_id}\"] = read_single_fasta(f\"{prefix}/{protein_id}/protein.faa\")\n",
    "\n",
    "dict_align_to_fasta(dict_align, f\"../Alignment/psi_blast/protein.fa\")\n",
    "dict_align_to_fasta(dict_align, f\"../Alignment/psi_blast/protein.aln\")"
   ],
   "id": "2dad44d47906649c",
   "outputs": [],
   "execution_count": 8
  },
  {
   "metadata": {},
   "cell_type": "markdown",
   "source": "---",
   "id": "e65b7a95e644eb1"
  },
  {
   "metadata": {
    "ExecuteTime": {
     "end_time": "2025-05-22T19:23:03.953543Z",
     "start_time": "2025-05-22T19:23:03.952397Z"
    }
   },
   "cell_type": "code",
   "source": "",
   "id": "cac6cef6abed6978",
   "outputs": [],
   "execution_count": null
  }
 ],
 "metadata": {
  "kernelspec": {
   "display_name": "Python 3",
   "language": "python",
   "name": "python3"
  },
  "language_info": {
   "codemirror_mode": {
    "name": "ipython",
    "version": 2
   },
   "file_extension": ".py",
   "mimetype": "text/x-python",
   "name": "python",
   "nbconvert_exporter": "python",
   "pygments_lexer": "ipython2",
   "version": "2.7.6"
  }
 },
 "nbformat": 4,
 "nbformat_minor": 5
}
