{
 "cells": [
  {
   "cell_type": "code",
   "id": "initial_id",
   "metadata": {
    "collapsed": true,
    "ExecuteTime": {
     "end_time": "2025-05-22T17:53:22.597081Z",
     "start_time": "2025-05-22T17:53:22.592420Z"
    }
   },
   "source": [
    "import os\n",
    "import time\n",
    "import pandas as pd\n",
    "\n",
    "from Bio import Entrez, SeqIO\n",
    "\n",
    "from Scripts.data_processing import dict_align_create\n",
    "from fasta_processing import dict_align_to_fasta, read_single_fasta, plain_to_fasta\n",
    "from parse_psi_blast_results import parse_psiblast_xml, filter_psiblast_hits, update_df, save_genes, save_cdss_exons, save_proteins\n",
    "\n",
    "Entrez.email = \"artemvaskaa@gmail.com\""
   ],
   "outputs": [],
   "execution_count": 18
  },
  {
   "metadata": {
    "ExecuteTime": {
     "end_time": "2025-05-22T17:29:34.235637Z",
     "start_time": "2025-05-22T17:29:34.227004Z"
    }
   },
   "cell_type": "code",
   "source": [
    "name_of_blast_res = \"../Blast_res/schistosoma_haematobium_psi_blast.xml\" # XML2 !!!\n",
    "df = parse_psiblast_xml(name_of_blast_res)"
   ],
   "id": "600f3ed524de1a58",
   "outputs": [],
   "execution_count": 2
  },
  {
   "metadata": {
    "ExecuteTime": {
     "end_time": "2025-05-22T17:29:34.972456Z",
     "start_time": "2025-05-22T17:29:34.969854Z"
    }
   },
   "cell_type": "code",
   "source": "df = filter_psiblast_hits(df, min_qc=0.8, min_ident=0.8, min_sbjct_len=500)",
   "id": "611abe22f196361d",
   "outputs": [],
   "execution_count": 3
  },
  {
   "metadata": {
    "ExecuteTime": {
     "end_time": "2025-05-22T17:32:14.356232Z",
     "start_time": "2025-05-22T17:29:35.717515Z"
    }
   },
   "cell_type": "code",
   "source": "df = update_df(df)",
   "id": "a5be80b1d46aa7d4",
   "outputs": [],
   "execution_count": 4
  },
  {
   "metadata": {},
   "cell_type": "code",
   "outputs": [],
   "execution_count": null,
   "source": "",
   "id": "93bd57d435956529"
  },
  {
   "metadata": {
    "ExecuteTime": {
     "end_time": "2025-05-22T17:33:20.958047Z",
     "start_time": "2025-05-22T17:32:58.740348Z"
    }
   },
   "cell_type": "code",
   "source": "save_genes(df)",
   "id": "16818d4d21117cf7",
   "outputs": [],
   "execution_count": 6
  },
  {
   "metadata": {
    "ExecuteTime": {
     "end_time": "2025-05-22T17:36:35.557225Z",
     "start_time": "2025-05-22T17:33:23.643995Z"
    }
   },
   "cell_type": "code",
   "source": "save_cdss_exons(df)",
   "id": "758fd1c9a87b0c77",
   "outputs": [],
   "execution_count": 7
  },
  {
   "metadata": {},
   "cell_type": "code",
   "outputs": [],
   "execution_count": null,
   "source": "save_proteins(df)",
   "id": "29bf2013a6fae13d"
  },
  {
   "metadata": {},
   "cell_type": "markdown",
   "source": "---",
   "id": "d1319f71e596e085"
  },
  {
   "metadata": {
    "ExecuteTime": {
     "end_time": "2025-05-22T17:44:51.123043Z",
     "start_time": "2025-05-22T17:44:50.962293Z"
    }
   },
   "cell_type": "code",
   "source": "from data_processing import analyze_exons",
   "id": "86fe8416476423c9",
   "outputs": [],
   "execution_count": 8
  },
  {
   "metadata": {},
   "cell_type": "code",
   "source": [
    "prefix = \"../Sequences_protein_id\"\n",
    "ref_exon_len = [107, 110, 113, 116, 37]\n",
    "found_protein_ids = {}\n",
    "\n",
    "for protein_id in df.protein_id:\n",
    "    df_subset = df[df[\"protein_id\"] == protein_id]\n",
    "    df_exons = analyze_exons(f\"{prefix}/{protein_id}/exons.fa\")\n",
    "    condition = set(ref_exon_len) & set(df_exons.length.tolist())\n",
    "    if condition:\n",
    "        found_protein_ids[protein_id] = condition\n",
    "\n",
    "df_found_protein_ids = df[df[\"protein_id\"].isin(found_protein_ids.keys())]\n",
    "\n",
    "dict_align = {\"Schistosoma_haematobium_reference\": read_single_fasta(\"../Datasets/Spiralia/schistosoma_haematobium_1/ncbi_dataset/data/cds.fna\")}\n",
    "for protein_id in df_found_protein_ids.protein_id:\n",
    "    df_subset = df_found_protein_ids[df_found_protein_ids[\"protein_id\"] == protein_id]\n",
    "    org_name = df_subset.org_name.iloc[0]\n",
    "    dict_align[f\"{org_name}_{protein_id}\"] = read_single_fasta(f\"{prefix}/{protein_id}/cds.fna\")\n",
    "\n",
    "dict_align_to_fasta(dict_align, f\"../Alignment/psi_blast/cds.fna\")\n",
    "dict_align_to_fasta(dict_align, f\"../Alignment/psi_blast/cds.aln\")"
   ],
   "id": "2dad44d47906649c",
   "outputs": [],
   "execution_count": null
  },
  {
   "metadata": {},
   "cell_type": "markdown",
   "source": "---",
   "id": "e65b7a95e644eb1"
  },
  {
   "metadata": {
    "ExecuteTime": {
     "end_time": "2025-05-22T18:06:15.964302Z",
     "start_time": "2025-05-22T18:06:15.961947Z"
    }
   },
   "cell_type": "code",
   "source": "",
   "id": "cac6cef6abed6978",
   "outputs": [],
   "execution_count": 26
  }
 ],
 "metadata": {
  "kernelspec": {
   "display_name": "Python 3",
   "language": "python",
   "name": "python3"
  },
  "language_info": {
   "codemirror_mode": {
    "name": "ipython",
    "version": 2
   },
   "file_extension": ".py",
   "mimetype": "text/x-python",
   "name": "python",
   "nbconvert_exporter": "python",
   "pygments_lexer": "ipython2",
   "version": "2.7.6"
  }
 },
 "nbformat": 4,
 "nbformat_minor": 5
}
