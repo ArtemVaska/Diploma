{
 "cells": [
  {
   "cell_type": "code",
   "id": "initial_id",
   "metadata": {
    "collapsed": true,
    "ExecuteTime": {
     "end_time": "2025-05-22T14:10:32.125099Z",
     "start_time": "2025-05-22T14:10:32.104003Z"
    }
   },
   "source": [
    "import pandas as pd\n",
    "import time\n",
    "\n",
    "from fasta_processing import dict_align_to_fasta, read_single_fasta\n",
    "\n",
    "from parse_psi_blast_results import parse_psiblast_xml, filter_psiblast_hits"
   ],
   "outputs": [],
   "execution_count": 1
  },
  {
   "metadata": {
    "ExecuteTime": {
     "end_time": "2025-05-22T14:10:32.986339Z",
     "start_time": "2025-05-22T14:10:32.977470Z"
    }
   },
   "cell_type": "code",
   "source": [
    "name_of_blast_res = \"../Blast_res/schistosoma_haematobium_psi_blast.xml\" # XML2 !!!\n",
    "df = parse_psiblast_xml(name_of_blast_res)"
   ],
   "id": "600f3ed524de1a58",
   "outputs": [],
   "execution_count": 2
  },
  {
   "metadata": {
    "ExecuteTime": {
     "end_time": "2025-05-22T14:10:34.909192Z",
     "start_time": "2025-05-22T14:10:34.906555Z"
    }
   },
   "cell_type": "code",
   "source": "df_filtered = filter_psiblast_hits(df, min_qc=0.8, min_ident=0.8, min_sbjct_len=500)",
   "id": "611abe22f196361d",
   "outputs": [],
   "execution_count": 3
  }
 ],
 "metadata": {
  "kernelspec": {
   "display_name": "Python 3",
   "language": "python",
   "name": "python3"
  },
  "language_info": {
   "codemirror_mode": {
    "name": "ipython",
    "version": 2
   },
   "file_extension": ".py",
   "mimetype": "text/x-python",
   "name": "python",
   "nbconvert_exporter": "python",
   "pygments_lexer": "ipython2",
   "version": "2.7.6"
  }
 },
 "nbformat": 4,
 "nbformat_minor": 5
}
