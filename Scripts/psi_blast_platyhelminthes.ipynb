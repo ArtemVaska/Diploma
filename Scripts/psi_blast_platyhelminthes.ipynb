{
 "cells": [
  {
   "cell_type": "code",
   "id": "initial_id",
   "metadata": {
    "collapsed": true,
    "ExecuteTime": {
     "end_time": "2025-05-22T17:29:33.511839Z",
     "start_time": "2025-05-22T17:29:33.478791Z"
    }
   },
   "source": [
    "import os\n",
    "import time\n",
    "import pandas as pd\n",
    "\n",
    "from Bio import Entrez, SeqIO\n",
    "\n",
    "from fasta_processing import dict_align_to_fasta, read_single_fasta, plain_to_fasta\n",
    "from parse_psi_blast_results import parse_psiblast_xml, filter_psiblast_hits, update_df, save_genes, save_cdss_exons\n",
    "\n",
    "Entrez.email = \"artemvaskaa@gmail.com\""
   ],
   "outputs": [],
   "execution_count": 1
  },
  {
   "metadata": {
    "ExecuteTime": {
     "end_time": "2025-05-22T17:29:34.235637Z",
     "start_time": "2025-05-22T17:29:34.227004Z"
    }
   },
   "cell_type": "code",
   "source": [
    "name_of_blast_res = \"../Blast_res/schistosoma_haematobium_psi_blast.xml\" # XML2 !!!\n",
    "df = parse_psiblast_xml(name_of_blast_res)"
   ],
   "id": "600f3ed524de1a58",
   "outputs": [],
   "execution_count": 2
  },
  {
   "metadata": {
    "ExecuteTime": {
     "end_time": "2025-05-22T17:29:34.972456Z",
     "start_time": "2025-05-22T17:29:34.969854Z"
    }
   },
   "cell_type": "code",
   "source": "df = filter_psiblast_hits(df, min_qc=0.8, min_ident=0.8, min_sbjct_len=500)",
   "id": "611abe22f196361d",
   "outputs": [],
   "execution_count": 3
  },
  {
   "metadata": {
    "ExecuteTime": {
     "end_time": "2025-05-22T17:32:14.356232Z",
     "start_time": "2025-05-22T17:29:35.717515Z"
    }
   },
   "cell_type": "code",
   "source": "df = update_df(df)",
   "id": "a5be80b1d46aa7d4",
   "outputs": [],
   "execution_count": 4
  },
  {
   "metadata": {},
   "cell_type": "code",
   "outputs": [],
   "execution_count": null,
   "source": "",
   "id": "93bd57d435956529"
  },
  {
   "metadata": {
    "ExecuteTime": {
     "end_time": "2025-05-22T17:33:20.958047Z",
     "start_time": "2025-05-22T17:32:58.740348Z"
    }
   },
   "cell_type": "code",
   "source": "save_genes(df)",
   "id": "16818d4d21117cf7",
   "outputs": [],
   "execution_count": 6
  },
  {
   "metadata": {
    "ExecuteTime": {
     "end_time": "2025-05-22T17:36:35.557225Z",
     "start_time": "2025-05-22T17:33:23.643995Z"
    }
   },
   "cell_type": "code",
   "source": "save_cdss_exons(df)",
   "id": "758fd1c9a87b0c77",
   "outputs": [],
   "execution_count": 7
  },
  {
   "metadata": {},
   "cell_type": "markdown",
   "source": "---",
   "id": "d1319f71e596e085"
  }
 ],
 "metadata": {
  "kernelspec": {
   "display_name": "Python 3",
   "language": "python",
   "name": "python3"
  },
  "language_info": {
   "codemirror_mode": {
    "name": "ipython",
    "version": 2
   },
   "file_extension": ".py",
   "mimetype": "text/x-python",
   "name": "python",
   "nbconvert_exporter": "python",
   "pygments_lexer": "ipython2",
   "version": "2.7.6"
  }
 },
 "nbformat": 4,
 "nbformat_minor": 5
}
