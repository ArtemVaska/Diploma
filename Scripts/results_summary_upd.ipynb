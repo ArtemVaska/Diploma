{
 "cells": [
  {
   "cell_type": "code",
   "id": "initial_id",
   "metadata": {
    "collapsed": true,
    "ExecuteTime": {
     "end_time": "2025-05-28T12:21:49.821071Z",
     "start_time": "2025-05-28T12:21:49.819459Z"
    }
   },
   "source": [
    "import os\n",
    "\n",
    "import pandas as pd"
   ],
   "outputs": [],
   "execution_count": 1
  },
  {
   "metadata": {
    "ExecuteTime": {
     "end_time": "2025-05-28T12:21:49.903789Z",
     "start_time": "2025-05-28T12:21:49.887477Z"
    }
   },
   "cell_type": "code",
   "source": [
    "protostomia = pd.concat(\n",
    "    [\n",
    "        pd.read_csv(\"../results_summary/datasets_Cnidaria_cds_cassette.tsv\", sep=\"\\t\"),\n",
    "        pd.read_csv(\"../results_summary/datasets_Ecdysozoa_cds_cassette.tsv\", sep=\"\\t\"),\n",
    "        pd.read_csv(\"../results_summary/datasets_Spiralia_cds_cassette.tsv\", sep=\"\\t\"),\n",
    "        pd.read_csv(\"../results_summary/psi_blast_Anthozoa_cds_cassette.tsv\", sep=\"\\t\"),\n",
    "        pd.read_csv(\"../results_summary/psi_blast_Bivalvia_cds_cassette.tsv\", sep=\"\\t\"),\n",
    "        pd.read_csv(\"../results_summary/psi_blast_Gastropoda_cds_cassette.tsv\", sep=\"\\t\"),\n",
    "        pd.read_csv(\"../results_summary/psi_blast_Nematoda_cds_cassette.tsv\", sep=\"\\t\"),\n",
    "        pd.read_csv(\"../results_summary/psi_blast_Platyhelminthes_cds_cassette.tsv\", sep=\"\\t\"),\n",
    "    ], ignore_index=True\n",
    ")\n",
    "\n",
    "# ищем дубликаты\n",
    "# protostomia[protostomia[\"org_name\"].duplicated(keep=False)]\n",
    "\n",
    "# удаляем дубликаты\n",
    "# -----------------\n",
    "# 64 - Actinia_tenebrosa__XP_031555922.1\n",
    "# 111 - Aplysia_californica__XP_005094816.1\n",
    "# 88 - Crassostrea_virginica__XP_022333190.1\n",
    "# 95 - Magallana_gigas__XP_065942772.1\n",
    "# -----------------\n",
    "indices_to_drop = [64, 111, 88, 95]\n",
    "protostomia = protostomia.drop(indices_to_drop)\n",
    "\n",
    "deuterostomia = pd.concat(\n",
    "    [\n",
    "        pd.read_csv(\"../results_summary/datasets_Actinopterygii_cds_cassette.tsv\", sep=\"\\t\"),\n",
    "        pd.read_csv(\"../results_summary/datasets_Amphibia_cds_cassette.tsv\", sep=\"\\t\"),\n",
    "        pd.read_csv(\"../results_summary/datasets_Sauropsida_cds_cassette.tsv\", sep=\"\\t\"),\n",
    "        pd.read_csv(\"../results_summary/psi_blast_Caudata_cds_cassette.tsv\", sep=\"\\t\"),\n",
    "        pd.read_csv(\"../results_summary/psi_blast_Gymnophiona_cds_cassette.tsv\", sep=\"\\t\"),\n",
    "    ], ignore_index=True\n",
    ")\n",
    "\n",
    "# ищем дубликаты\n",
    "# deuterostomia[deuterostomia[\"org_name\"].duplicated(keep=False)]\n",
    "\n",
    "# удаляем дубликаты\n",
    "# -----------------\n",
    "# 172 - Pleurodeles_waltl__KAJ1108515.1\n",
    "# 173 - Rhinatrema_bivittatum__XP_029448920.1\n",
    "# -----------------\n",
    "indices_to_drop = [172, 173]\n",
    "deuterostomia = deuterostomia.drop(indices_to_drop)\n",
    "\n",
    "# сохраняем итоговые таблицы\n",
    "protostomia.to_csv(\"../results_summary/protostomia.tsv\", index=False, sep=\"\\t\")\n",
    "deuterostomia.to_csv(\"../results_summary/deuterostomia.tsv\", index=False, sep=\"\\t\")"
   ],
   "id": "4bbfded21c113fc0",
   "outputs": [],
   "execution_count": 2
  },
  {
   "metadata": {},
   "cell_type": "markdown",
   "source": "---",
   "id": "15b76e7653e4b62f"
  }
 ],
 "metadata": {
  "kernelspec": {
   "display_name": "Python 3",
   "language": "python",
   "name": "python3"
  },
  "language_info": {
   "codemirror_mode": {
    "name": "ipython",
    "version": 2
   },
   "file_extension": ".py",
   "mimetype": "text/x-python",
   "name": "python",
   "nbconvert_exporter": "python",
   "pygments_lexer": "ipython2",
   "version": "2.7.6"
  }
 },
 "nbformat": 4,
 "nbformat_minor": 5
}
