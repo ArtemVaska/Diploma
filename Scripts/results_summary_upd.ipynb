{
 "cells": [
  {
   "cell_type": "code",
   "id": "initial_id",
   "metadata": {
    "collapsed": true,
    "ExecuteTime": {
     "end_time": "2025-05-30T17:44:47.753959Z",
     "start_time": "2025-05-30T17:44:47.595928Z"
    }
   },
   "source": [
    "import os\n",
    "\n",
    "import pandas as pd"
   ],
   "outputs": [],
   "execution_count": 1
  },
  {
   "metadata": {
    "ExecuteTime": {
     "end_time": "2025-05-28T12:21:49.903789Z",
     "start_time": "2025-05-28T12:21:49.887477Z"
    }
   },
   "cell_type": "code",
   "source": [
    "# # объединение и сохранение всех результатов\n",
    "# protostomia = pd.concat(\n",
    "#     [\n",
    "#         pd.read_csv(\"../results_summary/datasets_Cnidaria_cds_cassette.tsv\", sep=\"\\t\"),\n",
    "#         pd.read_csv(\"../results_summary/datasets_Ecdysozoa_cds_cassette.tsv\", sep=\"\\t\"),\n",
    "#         pd.read_csv(\"../results_summary/datasets_Spiralia_cds_cassette.tsv\", sep=\"\\t\"),\n",
    "#         pd.read_csv(\"../results_summary/psi_blast_Anthozoa_cds_cassette.tsv\", sep=\"\\t\"),\n",
    "#         pd.read_csv(\"../results_summary/psi_blast_Bivalvia_cds_cassette.tsv\", sep=\"\\t\"),\n",
    "#         pd.read_csv(\"../results_summary/psi_blast_Gastropoda_cds_cassette.tsv\", sep=\"\\t\"),\n",
    "#         pd.read_csv(\"../results_summary/psi_blast_Nematoda_cds_cassette.tsv\", sep=\"\\t\"),\n",
    "#         pd.read_csv(\"../results_summary/psi_blast_Platyhelminthes_cds_cassette.tsv\", sep=\"\\t\"),\n",
    "#     ], ignore_index=True\n",
    "# )\n",
    "#\n",
    "# # ищем дубликаты\n",
    "# # protostomia[protostomia[\"org_name\"].duplicated(keep=False)]\n",
    "#\n",
    "# # удаляем дубликаты\n",
    "# # -----------------\n",
    "# # 64 - Actinia_tenebrosa__XP_031555922.1\n",
    "# # 111 - Aplysia_californica__XP_005094816.1\n",
    "# # 88 - Crassostrea_virginica__XP_022333190.1\n",
    "# # 95 - Magallana_gigas__XP_065942772.1\n",
    "# # -----------------\n",
    "# indices_to_drop = [64, 111, 88, 95]\n",
    "# protostomia = protostomia.drop(indices_to_drop)\n",
    "#\n",
    "# deuterostomia = pd.concat(\n",
    "#     [\n",
    "#         pd.read_csv(\"../results_summary/datasets_Actinopterygii_cds_cassette.tsv\", sep=\"\\t\"),\n",
    "#         pd.read_csv(\"../results_summary/datasets_Amphibia_cds_cassette.tsv\", sep=\"\\t\"),\n",
    "#         pd.read_csv(\"../results_summary/datasets_Sauropsida_cds_cassette.tsv\", sep=\"\\t\"),\n",
    "#         pd.read_csv(\"../results_summary/psi_blast_Caudata_cds_cassette.tsv\", sep=\"\\t\"),\n",
    "#         pd.read_csv(\"../results_summary/psi_blast_Gymnophiona_cds_cassette.tsv\", sep=\"\\t\"),\n",
    "#     ], ignore_index=True\n",
    "# )\n",
    "#\n",
    "# # ищем дубликаты\n",
    "# # deuterostomia[deuterostomia[\"org_name\"].duplicated(keep=False)]\n",
    "#\n",
    "# # удаляем дубликаты\n",
    "# # -----------------\n",
    "# # 172 - Pleurodeles_waltl__KAJ1108515.1\n",
    "# # 173 - Rhinatrema_bivittatum__XP_029448920.1\n",
    "# # -----------------\n",
    "# indices_to_drop = [172, 173]\n",
    "# deuterostomia = deuterostomia.drop(indices_to_drop)\n",
    "#\n",
    "# # сохраняем итоговые таблицы\n",
    "# protostomia.to_csv(\"../results_summary/protostomia.tsv\", index=False, sep=\"\\t\")\n",
    "# deuterostomia.to_csv(\"../results_summary/deuterostomia.tsv\", index=False, sep=\"\\t\")"
   ],
   "id": "4bbfded21c113fc0",
   "outputs": [],
   "execution_count": 2
  },
  {
   "metadata": {
    "ExecuteTime": {
     "end_time": "2025-05-30T23:26:33.114960Z",
     "start_time": "2025-05-30T23:26:33.112424Z"
    }
   },
   "cell_type": "code",
   "source": [
    "def create_table_for_phylum(df: pd.DataFrame, phylum: str, columns_to_select: list, column_to_sort: str,\n",
    "                            save_dir: str = None) -> pd.DataFrame | None:\n",
    "    df_subset = df[df.phylum == phylum].copy()\n",
    "    df_selected = df_subset[columns_to_select]\n",
    "    df_selected = df_selected[columns_to_select]\n",
    "\n",
    "    df_selected[\"org_name\"] = df_selected[\"org_name\"].str.replace(\"_\", \" \")\n",
    "    df_selected = df_selected.sort_values(by=column_to_sort, ascending=True)\n",
    "\n",
    "    df_selected = df_selected.rename(columns={\n",
    "        \"org_name\": \"Название\\nорганизма\",\n",
    "        \"intron_length_to_stop_codon\": \"Кол-во\\nнуклеотидов\\nдо стоп-кодона\\nв интроне\",\n",
    "        \"first_exon_length\": \"Длина\\n1-го экзона\\nв кассете\",\n",
    "        \"intron_length\": \"Длина\\nкассетного\\nинтрона\",\n",
    "        \"second_exon_length\": \"Длина\\n2-го экзона\\nв кассете\",\n",
    "    })\n",
    "\n",
    "    if save_dir is not None:\n",
    "        df_selected.to_csv(f\"{save_dir}/{phylum}.tsv\", sep=\"\\t\", index=False, encoding=\"utf-8\")\n",
    "        return None\n",
    "    else:\n",
    "        return df_selected"
   ],
   "id": "dc6bfc1712a13897",
   "outputs": [],
   "execution_count": 134
  },
  {
   "metadata": {},
   "cell_type": "markdown",
   "source": "### Первичноротые + книдарии",
   "id": "1a3d444a46bd0196"
  },
  {
   "metadata": {
    "ExecuteTime": {
     "end_time": "2025-05-30T23:26:34.983654Z",
     "start_time": "2025-05-30T23:26:34.974515Z"
    }
   },
   "cell_type": "code",
   "source": [
    "protostomia = pd.read_csv(\"../results_summary/protostomia.tsv\", sep=\"\\t\")  # 181 вид, 3 филы\n",
    "\n",
    "# добавляем phylum колонку в таблицу\n",
    "phylum_list = []\n",
    "for row in protostomia.iterrows():\n",
    "    sub_phylum = row[1].sub_phylum\n",
    "    match sub_phylum:\n",
    "        case \"Anthozoa\":\n",
    "            phylum = \"Cnidaria\"\n",
    "        case \"Nematoda\" | \"Scalidophora\" | \"Chelicerata\" | \"Crustacea\" | \"Polyneoptera\" | \"Paraneoptera\" | \"Endopterygota\":\n",
    "            phylum = \"Ecdysozoa\"\n",
    "        case \"Platyhelminthes\" | \"Bivalvia\" | \"Gastropoda\":\n",
    "            phylum = \"Spiralia\"\n",
    "    phylum_list.append(phylum)\n",
    "protostomia.insert(0, \"phylum\", phylum_list)\n",
    "\n",
    "# добавляем длину второго экзона для красоты в таблице\n",
    "protostomia[\"second_exon_length\"] = 37"
   ],
   "id": "56ed17b6ab8845f0",
   "outputs": [],
   "execution_count": 135
  },
  {
   "metadata": {
    "ExecuteTime": {
     "end_time": "2025-05-30T23:26:36.222579Z",
     "start_time": "2025-05-30T23:26:36.215455Z"
    }
   },
   "cell_type": "code",
   "source": [
    "columns_to_select = [\"org_name\", \"intron_length_to_stop_codon\", \"first_exon_length\", \"intron_length\", \"second_exon_length\"]\n",
    "\n",
    "for phylum in protostomia.phylum.unique():\n",
    "    create_table_for_phylum(protostomia,\n",
    "                            phylum=phylum,\n",
    "                            columns_to_select=columns_to_select,\n",
    "                            column_to_sort=\"intron_length_to_stop_codon\",\n",
    "                            save_dir=\"../results_print\")"
   ],
   "id": "8e4e62dc31358de4",
   "outputs": [],
   "execution_count": 136
  },
  {
   "metadata": {},
   "cell_type": "markdown",
   "source": "### Вторичноротые",
   "id": "940941dcf11e9476"
  },
  {
   "metadata": {
    "ExecuteTime": {
     "end_time": "2025-05-30T23:26:37.738921Z",
     "start_time": "2025-05-30T23:26:37.730260Z"
    }
   },
   "cell_type": "code",
   "source": [
    "deuterostomia = pd.read_csv(\"../results_summary/deuterostomia.tsv\", sep=\"\\t\")  # 172 вида, 4 филы\n",
    "\n",
    "# добавляем phylum колонку в таблицу\n",
    "phylum_list = []\n",
    "for row in deuterostomia.iterrows():\n",
    "    sub_phylum = row[1].sub_phylum\n",
    "    match sub_phylum:\n",
    "        case \"Otomorpha\" | \"Euteleosteomorpha\" | \"Osteoglossomorpha\" | \"Cladistia\":\n",
    "            phylum = \"Actinopterygii\"\n",
    "        case \"Gymnophiona\" | \"Caudata\" | \"Anura\":\n",
    "            phylum = \"Amphibia\"\n",
    "        case \"Lepidosauria\":\n",
    "            phylum = \"Lepidosauria\"\n",
    "        case \"Testudinata\" | \"Crocodylia\" | \"Aves\":\n",
    "            phylum = \"Sauropsida\"\n",
    "    phylum_list.append(phylum)\n",
    "deuterostomia.insert(0, \"phylum\", phylum_list)\n",
    "\n",
    "# добавляем длину второго экзона для красоты в таблице\n",
    "deuterostomia[\"second_exon_length\"] = 37"
   ],
   "id": "a66869ce56fee3d0",
   "outputs": [],
   "execution_count": 137
  },
  {
   "metadata": {
    "ExecuteTime": {
     "end_time": "2025-05-30T23:26:38.985901Z",
     "start_time": "2025-05-30T23:26:38.977062Z"
    }
   },
   "cell_type": "code",
   "source": [
    "columns_to_select = [\"org_name\", \"intron_length_to_stop_codon\", \"first_exon_length\", \"intron_length\", \"second_exon_length\"]\n",
    "\n",
    "for phylum in deuterostomia.phylum.unique():\n",
    "    create_table_for_phylum(deuterostomia,\n",
    "                            phylum=phylum,\n",
    "                            columns_to_select=columns_to_select,\n",
    "                            column_to_sort=\"intron_length_to_stop_codon\",\n",
    "                            save_dir=\"../results_print\")"
   ],
   "id": "bec03523631ce238",
   "outputs": [],
   "execution_count": 138
  }
 ],
 "metadata": {
  "kernelspec": {
   "display_name": "Python 3",
   "language": "python",
   "name": "python3"
  },
  "language_info": {
   "codemirror_mode": {
    "name": "ipython",
    "version": 2
   },
   "file_extension": ".py",
   "mimetype": "text/x-python",
   "name": "python",
   "nbconvert_exporter": "python",
   "pygments_lexer": "ipython2",
   "version": "2.7.6"
  }
 },
 "nbformat": 4,
 "nbformat_minor": 5
}
