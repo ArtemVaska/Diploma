{
 "cells": [
  {
   "metadata": {
    "ExecuteTime": {
     "end_time": "2025-05-30T16:59:56.058724Z",
     "start_time": "2025-05-30T16:59:56.057072Z"
    }
   },
   "cell_type": "code",
   "source": [
    "import os\n",
    "\n",
    "import pandas as pd\n",
    "\n",
    "from meme_suite import parse_meme_block\n",
    "from fasta_processing import read_fasta, read_single_fasta"
   ],
   "id": "89e4d1c6cf0042ab",
   "outputs": [],
   "execution_count": 5
  },
  {
   "metadata": {
    "ExecuteTime": {
     "end_time": "2025-05-30T17:08:24.600312Z",
     "start_time": "2025-05-30T17:08:24.597528Z"
    }
   },
   "cell_type": "code",
   "outputs": [],
   "execution_count": 8,
   "source": [
    "def create_alignment_files(df_info: pd.DataFrame, phylum: str) -> None:\n",
    "    cds_cassette_dict = {}\n",
    "\n",
    "    for row in df_info.iterrows():\n",
    "        org_name = row[1].org_name\n",
    "        org_name_protein_id = row[1].org_name_protein_id\n",
    "        sub_phylum = row[1].sub_phylum\n",
    "        source = row[1].source\n",
    "\n",
    "        match source:\n",
    "            case \"datasets\":\n",
    "                cds_cassette_seq = read_single_fasta(f\"../Datasets/{sub_phylum}/{org_name_protein_id}/ncbi_dataset/data/cds_cassette_plain.fa\")\n",
    "            case \"psi_blast\":\n",
    "                cds_cassette_seq = read_single_fasta(f\"../Sequences_protein_id/{sub_phylum}/{org_name_protein_id.split(\"__\")[1]}/cds_cassette_plain.fa\")\n",
    "            case _:\n",
    "                raise KeyError(f\"Source {source} not recognized\")\n",
    "\n",
    "        cds_cassette_dict[f\"{sub_phylum}_{org_name}\"] = cds_cassette_seq\n",
    "\n",
    "    with open(f\"../Alignment/{phylum}/{phylum}_cds_cassette_motif.fa\", \"w\") as fa_outfile:\n",
    "        with open(f\"../Alignment/{phylum}/{phylum}_cds_cassette_motif.aln\", \"w\") as aln_outfile:\n",
    "            for header, seq in cds_cassette_dict.items():\n",
    "                fa_outfile.write(f\">{header}\\n{seq}\\n\")\n",
    "                aln_outfile.write(f\">{header}\\n{seq}\\n\")\n",
    "\n",
    "    print(f\"Alignment files with motif for {phylum} created in ../Alignment/{phylum}\")"
   ],
   "id": "9f3103ea7ecf99c5"
  },
  {
   "metadata": {},
   "cell_type": "markdown",
   "source": "### Множестевнные выравнивания",
   "id": "7de3f2f79174a3ec"
  },
  {
   "metadata": {
    "ExecuteTime": {
     "end_time": "2025-05-30T17:07:22.272736Z",
     "start_time": "2025-05-30T17:07:22.267314Z"
    }
   },
   "cell_type": "code",
   "source": [
    "protostomia = pd.read_csv(\"../results_summary/protostomia.tsv\", sep=\"\\t\")\n",
    "deuterostomia = pd.read_csv(\"../results_summary/deuterostomia.tsv\", sep=\"\\t\")\n",
    "\n",
    "Actinopterygii_list = [\"Euteleosteomorpha\", \"Otomorpha\", \"Osteoglossomorpha\", \"Cladistia\"]\n",
    "# создаем таблицу, в которой все найденные виды для лучеперых рыб\n",
    "df_Actinopterygii_info = deuterostomia[deuterostomia.sub_phylum.isin(Actinopterygii_list)]\n",
    "\n",
    "# читаем ранее сохраненную в meme suite таблицу\n",
    "df_Actinopterygii_meme_result = pd.read_csv(\"../Alignment/Actinopterygii/Actinopterygii_cds_cassette_motif.tsv\", sep=\"\\t\")\n",
    "\n",
    "# обновляем информационную табличку видами из таблицы с найденными мотивами\n",
    "df_Actinopterygii_info_upd = df_Actinopterygii_info[df_Actinopterygii_info[\"org_name\"].isin(df_Actinopterygii_meme_result.org_name)]"
   ],
   "id": "ff6facaab7f4e82a",
   "outputs": [],
   "execution_count": 7
  },
  {
   "metadata": {
    "ExecuteTime": {
     "end_time": "2025-05-30T17:09:21.188472Z",
     "start_time": "2025-05-30T17:09:21.181308Z"
    }
   },
   "cell_type": "code",
   "source": [
    "# создаем файлы для выравнивания видов, у которых нашелся мотив в интроне\n",
    "# create_alignment_files(df_Actinopterygii_info_upd, \"Actinopterygii\")"
   ],
   "id": "da730cc089ff0186",
   "outputs": [
    {
     "name": "stdout",
     "output_type": "stream",
     "text": [
      "Alignment files with motif for Actinopterygii created in ../Alignment/Actinopterygii\n"
     ]
    }
   ],
   "execution_count": 9
  },
  {
   "metadata": {},
   "cell_type": "code",
   "outputs": [],
   "execution_count": null,
   "source": "# для созданного файла проводим множественное выравнивание MAFFT 10 итераций в UGENE",
   "id": "1b822a11ba2541a1"
  },
  {
   "metadata": {},
   "cell_type": "markdown",
   "source": "### Филогенетический анализ",
   "id": "728c133cdf739465"
  },
  {
   "metadata": {
    "ExecuteTime": {
     "end_time": "2025-05-30T17:19:00.999817Z",
     "start_time": "2025-05-30T17:19:00.997865Z"
    }
   },
   "cell_type": "code",
   "source": [
    "# нужно запустить эту ячейку, чтобы создалась папка для исследуемой филы\n",
    "os.makedirs(\"../iqtree/Actinopterygii\", exist_ok=True)\n",
    "\n",
    "# команда для запуска iqtree (скачана мамбой, окружение то же) через терминал из директории с проектом (Diploma), seed для повторности, -nt 16 ядер\n",
    "# iqtree -s Alignment/Actinopterygii/Actinopterygii_cds_cassette_motif.aln -pre iqtree/Actinopterygii/Actinopterygii -m MFP -bb 1000 -alrt 1000 -seed 12345 -nt 16\n",
    "# логи лежат в соответствующей папке в файле .log"
   ],
   "id": "24ec05b058910c56",
   "outputs": [],
   "execution_count": 10
  },
  {
   "metadata": {},
   "cell_type": "code",
   "outputs": [],
   "execution_count": null,
   "source": [
    "# для запуска Fitree нужно сменить окружение: mamba activate figtree\n",
    "# запускаем просто через figtree в терминал, лучше через обычный терминал, а не в пайчарме\n",
    "# меняем системную тему на светлую, чтобы было что-то видно в программе\n",
    "# в программе открываем файл .treefile\n",
    "\n",
    "# Appearance: line weidth 2\n",
    "# Tip Labels: font size 15\n",
    "# какие-то доп. настройки цвета и т.д.\n",
    "\n",
    "# File -> Export: JPEG"
   ],
   "id": "e1be0a464077fc92"
  }
 ],
 "metadata": {
  "kernelspec": {
   "display_name": "Python 3",
   "language": "python",
   "name": "python3"
  },
  "language_info": {
   "codemirror_mode": {
    "name": "ipython",
    "version": 2
   },
   "file_extension": ".py",
   "mimetype": "text/x-python",
   "name": "python",
   "nbconvert_exporter": "python",
   "pygments_lexer": "ipython2",
   "version": "2.7.6"
  }
 },
 "nbformat": 4,
 "nbformat_minor": 5
}
