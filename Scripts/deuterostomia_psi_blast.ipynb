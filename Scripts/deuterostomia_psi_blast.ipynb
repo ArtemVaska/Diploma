{
 "cells": [
  {
   "cell_type": "code",
   "id": "initial_id",
   "metadata": {
    "collapsed": true,
    "ExecuteTime": {
     "end_time": "2025-05-27T11:49:39.344429Z",
     "start_time": "2025-05-27T11:49:38.345095Z"
    }
   },
   "source": [
    "import ast\n",
    "import os\n",
    "\n",
    "import pandas as pd\n",
    "from Bio import Entrez\n",
    "\n",
    "from data_processing import analyze_exons\n",
    "from fasta_processing import read_single_fasta, dict_align_to_fasta\n",
    "from parse_psi_blast_results import parse_psiblast_xml, filter_psiblast_hits, update_df, save_files, \\\n",
    "    create_many_cassettes, dict_align_info_analyze\n",
    "\n",
    "Entrez.email = \"artemvaskaa@gmail.com\""
   ],
   "outputs": [],
   "execution_count": 2
  },
  {
   "metadata": {},
   "cell_type": "markdown",
   "source": "### Cephalochordata Бесчерепные +2 вида",
   "id": "9c9e85575f89d58f"
  },
  {
   "metadata": {},
   "cell_type": "markdown",
   "source": "[branchiostoma_floridae_cephalochordata](https://blast.ncbi.nlm.nih.gov/Blast.cgi?PAGE_TYPE=BlastSearch&USER_FORMAT_DEFAULTS=on&SET_SAVED_SEARCH=true&PAGE=Proteins&PROGRAM=blastp&QUERY=%3EXP_035686715.1%20LOC118422917%20%5Borganism%3DBranchiostoma%20floridae%5D%20%5BGeneID%3D118422917%5D%0AMKKLLHPGNSLKLRREGVRLYMLWLQALQENASEECLLIFACLIPGFPSPSSDSGMYTLEGLVTGAFHNG%0ASASDAVVPTEISAVLTPQSGERVTDDQTKFFLDAVLEFMVRKLEWKDAQFQPKGFNFLFQHFQQHYLTHI%0AFPSMSSTTSLYQPKXSQVQLFQCISHDDRTSSGSRDRGGGFGFNRDRGGGGGSWRGGYDQNRDGGYRSGG%0ARGGQSRGGNRNRYRGNRRGGWKKGGPGRGGQGGGRGAGPTPRSRFEDDEGDIQMSDDASDSQHSQRYNPY%0AGRPDSRRSNRPNNSGRGGRGRGGGYRDLDAPSTSHSDRSEGGDEDGWHKITIVQGKRSNKDWLMSTLQKT%0ACPVPFQPTEFHYEKNNAVFYVPDKATADGLTGISRKVRTKEGYRVVVFSRVETPETIKMVNKTTMEAIKL%0ASMAKRFDAATSALNLSNLFGDIELQAQDIRVALSRKMYMNSVIAIIKENVPVIEHLDMSNNRLFHLGDLA%0ADLVSVRKGVKYLNLSHNELKSEFELDKIKEWKLDELWLDGNPVCNHFKEQSAYISAVRKRFPKVARLDGH%0AELPPPIAFDLESNTTLPETKGSNFDNNDMCRKIITDFLEKFFIVYDSDDRQGLLEAYHDQAYFSFCMSYP%0APGAPHYHRKSLQDFCRDSRNLLFVNDLSQRVKFLKHSRLNVVAFLNELPHTQHDPNSFVIDVGVAMNSLI%0ACFTVSGVFREVVSKSGGNPPIRAFSRVFTAVPAPQGLCIVNDMMTISAATPAQEKAAFTSPAPTPSPSPV%0APGPSGLSEPQQQMIKMFAEQSGMNEEWSQSCLEQNGWEYNKSAQVFTELKAQNKIPPEAFLK&JOB_TITLE=branchiostoma_floridae_cephalochordata&GAPCOSTS=11%201&DATABASE=nr&BLAST_PROGRAMS=psiBlast&MAX_NUM_SEQ=100&SHORT_QUERY_ADJUST=on&EXPECT=0.05&WORD_SIZE=3&MATRIX_NAME=BLOSUM62&COMPOSITION_BASED_STATISTICS=2&I_THRESH=0.005&EQ_MENU=Cephalochordata%20%28taxid%3A7735%29&EQ_MENU1=Branchiostoma%20floridae%20(taxid:7739)&ORG_EXCLUDE1=on&NUM_ORG=2&PROG_DEFAULTS=on&SHOW_OVERVIEW=on&SHOW_LINKOUT=on&ALIGNMENT_VIEW=Pairwise&MASK_CHAR=2&MASK_COLOR=1&GET_SEQUENCE=on&NUM_OVERVIEW=100&DESCRIPTIONS=100&ALIGNMENTS=100&FORMAT_OBJECT=Alignment&FORMAT_TYPE=HTML&ADV_VIEW=on&BOOKMARK=on)",
   "id": "da19b4b203cadce0"
  },
  {
   "metadata": {
    "ExecuteTime": {
     "end_time": "2025-05-27T11:51:12.051057Z",
     "start_time": "2025-05-27T11:50:23.407522Z"
    }
   },
   "cell_type": "code",
   "source": [
    "phyla = \"Cephalochordata\"\n",
    "dir = f\"../Sequences_protein_id/{phyla}\"\n",
    "\n",
    "name_of_blast_res = f\"../Blast_res/psi_blast/branchiostoma_floridae_{phyla.lower()}.xml\"  # XML2 !!!\n",
    "df = parse_psiblast_xml(name_of_blast_res)\n",
    "df = filter_psiblast_hits(df, min_qc=0.5, min_ident=0, min_sbjct_len=500)\n",
    "df = update_df(df)"
   ],
   "id": "abd0aa7be2f5963f",
   "outputs": [],
   "execution_count": 4
  },
  {
   "metadata": {
    "ExecuteTime": {
     "end_time": "2025-05-27T11:52:10.218310Z",
     "start_time": "2025-05-27T11:52:10.212141Z"
    }
   },
   "cell_type": "code",
   "source": [
    "os.makedirs(f\"{dir}\", exist_ok=True)\n",
    "df.to_csv(f\"{dir}/df_{phyla.lower()}.tsv\", sep=\"\\t\", index=True)"
   ],
   "id": "5db0cb9c54ff79d4",
   "outputs": [],
   "execution_count": 5
  },
  {
   "metadata": {
    "ExecuteTime": {
     "end_time": "2025-05-27T11:53:50.664971Z",
     "start_time": "2025-05-27T11:52:13.659106Z"
    }
   },
   "cell_type": "code",
   "source": "save_files(df, f\"../Sequences_protein_id/{phyla}\")",
   "id": "f507068d2c4504e6",
   "outputs": [],
   "execution_count": 6
  },
  {
   "metadata": {
    "ExecuteTime": {
     "end_time": "2025-05-27T11:53:53.975044Z",
     "start_time": "2025-05-27T11:53:53.963799Z"
    }
   },
   "cell_type": "code",
   "source": [
    "phyla = \"Cephalochordata\"\n",
    "dir = f\"../Sequences_protein_id/{phyla}\"\n",
    "df = pd.read_csv(f\"{dir}/df_{phyla.lower()}.tsv\", sep=\"\\t\", index_col=0,\n",
    "                 converters={11: ast.literal_eval, 13: ast.literal_eval})\n",
    "\n",
    "ref_exon_len = [37]\n",
    "found_protein_ids = {}\n",
    "\n",
    "for protein_id in df.protein_id:\n",
    "    df_subset = df[df[\"protein_id\"] == protein_id]\n",
    "    df_exons = analyze_exons(f\"{dir}/{protein_id}/exons.fa\")\n",
    "    condition = set(ref_exon_len) & set(df_exons.length.tolist())\n",
    "    if condition:\n",
    "        found_protein_ids[protein_id] = condition\n",
    "\n",
    "df_found_protein_ids = df[df[\"protein_id\"].isin(found_protein_ids.keys())]  # !!!\n",
    "\n",
    "data = {}\n",
    "\n",
    "for protein_id in df_found_protein_ids.protein_id:\n",
    "    df_subset = df_found_protein_ids[df_found_protein_ids[\"protein_id\"] == protein_id]\n",
    "    org_name = df_subset.org_name.iloc[0]\n",
    "    df_exons = analyze_exons(f\"{dir}/{protein_id}/exons.fa\")\n",
    "    exon_37_idx = df_exons[df_exons[\"length\"] == 37].index[0]\n",
    "    exon_110_idx = exon_37_idx - 1\n",
    "    data[f\"{org_name}__{protein_id}\"] = (df_exons, [exon_110_idx, exon_37_idx])"
   ],
   "id": "c0ac9160fc303f9",
   "outputs": [],
   "execution_count": 7
  },
  {
   "metadata": {
    "ExecuteTime": {
     "end_time": "2025-05-27T11:53:56.144900Z",
     "start_time": "2025-05-27T11:53:56.141281Z"
    }
   },
   "cell_type": "code",
   "source": "introns = create_many_cassettes(dir, data)",
   "id": "7dbd6237a2d1fb91",
   "outputs": [],
   "execution_count": 8
  },
  {
   "metadata": {
    "ExecuteTime": {
     "end_time": "2025-05-27T11:53:57.749797Z",
     "start_time": "2025-05-27T11:53:57.742599Z"
    }
   },
   "cell_type": "code",
   "source": [
    "df_cds, dict_align_cds = dict_align_info_analyze(df_found_protein_ids, \"cds\", dir)\n",
    "df_cds.equal_to_cds.unique()  # должно быть только True"
   ],
   "id": "8234bed02aeda68e",
   "outputs": [
    {
     "data": {
      "text/plain": [
       "array([ True])"
      ]
     },
     "execution_count": 9,
     "metadata": {},
     "output_type": "execute_result"
    }
   ],
   "execution_count": 9
  },
  {
   "metadata": {
    "ExecuteTime": {
     "end_time": "2025-05-27T11:53:59.400551Z",
     "start_time": "2025-05-27T11:53:59.394277Z"
    }
   },
   "cell_type": "code",
   "source": [
    "df_cds_cassette, dict_align_cds_cassette = dict_align_info_analyze(df_found_protein_ids, \"cds_cassette\", dir)\n",
    "df_cds_cassette"
   ],
   "id": "d3eff1f8d6178b0d",
   "outputs": [
    {
     "data": {
      "text/plain": [
       "                         org_name_protein_id  stop_codon_pos  equal_to_cds  \\\n",
       "0     Branchiostoma_belcheri__XP_019647902.1            1227         False   \n",
       "1     Branchiostoma_belcheri__XP_019647903.1            1227         False   \n",
       "2  Branchiostoma_lanceolatum__XP_066280099.1            1224         False   \n",
       "3    Branchiostoma_lanceolatum__CAH1263602.1            1323         False   \n",
       "4       Branchiostoma_belcheri__KAI8485387.1            1695         False   \n",
       "\n",
       "   cassette_intron_start  intron_length_to_stop_codon  intron_length  \n",
       "0                   1226                            1           1663  \n",
       "1                   1226                            1           1663  \n",
       "2                   1223                            1           1753  \n",
       "3                   1322                            1           1746  \n",
       "4                   1640                           55            625  "
      ],
      "text/html": [
       "<div>\n",
       "<style scoped>\n",
       "    .dataframe tbody tr th:only-of-type {\n",
       "        vertical-align: middle;\n",
       "    }\n",
       "\n",
       "    .dataframe tbody tr th {\n",
       "        vertical-align: top;\n",
       "    }\n",
       "\n",
       "    .dataframe thead th {\n",
       "        text-align: right;\n",
       "    }\n",
       "</style>\n",
       "<table border=\"1\" class=\"dataframe\">\n",
       "  <thead>\n",
       "    <tr style=\"text-align: right;\">\n",
       "      <th></th>\n",
       "      <th>org_name_protein_id</th>\n",
       "      <th>stop_codon_pos</th>\n",
       "      <th>equal_to_cds</th>\n",
       "      <th>cassette_intron_start</th>\n",
       "      <th>intron_length_to_stop_codon</th>\n",
       "      <th>intron_length</th>\n",
       "    </tr>\n",
       "  </thead>\n",
       "  <tbody>\n",
       "    <tr>\n",
       "      <th>0</th>\n",
       "      <td>Branchiostoma_belcheri__XP_019647902.1</td>\n",
       "      <td>1227</td>\n",
       "      <td>False</td>\n",
       "      <td>1226</td>\n",
       "      <td>1</td>\n",
       "      <td>1663</td>\n",
       "    </tr>\n",
       "    <tr>\n",
       "      <th>1</th>\n",
       "      <td>Branchiostoma_belcheri__XP_019647903.1</td>\n",
       "      <td>1227</td>\n",
       "      <td>False</td>\n",
       "      <td>1226</td>\n",
       "      <td>1</td>\n",
       "      <td>1663</td>\n",
       "    </tr>\n",
       "    <tr>\n",
       "      <th>2</th>\n",
       "      <td>Branchiostoma_lanceolatum__XP_066280099.1</td>\n",
       "      <td>1224</td>\n",
       "      <td>False</td>\n",
       "      <td>1223</td>\n",
       "      <td>1</td>\n",
       "      <td>1753</td>\n",
       "    </tr>\n",
       "    <tr>\n",
       "      <th>3</th>\n",
       "      <td>Branchiostoma_lanceolatum__CAH1263602.1</td>\n",
       "      <td>1323</td>\n",
       "      <td>False</td>\n",
       "      <td>1322</td>\n",
       "      <td>1</td>\n",
       "      <td>1746</td>\n",
       "    </tr>\n",
       "    <tr>\n",
       "      <th>4</th>\n",
       "      <td>Branchiostoma_belcheri__KAI8485387.1</td>\n",
       "      <td>1695</td>\n",
       "      <td>False</td>\n",
       "      <td>1640</td>\n",
       "      <td>55</td>\n",
       "      <td>625</td>\n",
       "    </tr>\n",
       "  </tbody>\n",
       "</table>\n",
       "</div>"
      ]
     },
     "execution_count": 10,
     "metadata": {},
     "output_type": "execute_result"
    }
   ],
   "execution_count": 10
  },
  {
   "metadata": {},
   "cell_type": "code",
   "source": [
    "# os.makedirs(f\"../Alignment/psi_blast/{phyla}\", exist_ok=True)\n",
    "#\n",
    "# dict_align_cds_cassette[\"Branchiostoma_floridae_reference\"] = read_single_fasta(\"../Datasets/Cephalochordata/branchiostoma_floridae_0/ncbi_dataset/data/cds_cassette.fa\")\n",
    "# dict_align_to_fasta(dict_align_cds_cassette, f\"../Alignment/psi_blast/{phyla}/cds_cassette.fa\")\n",
    "# dict_align_to_fasta(dict_align_cds_cassette, f\"../Alignment/psi_blast/{phyla}/cds_cassette.aln\")"
   ],
   "id": "89cd88438d96fb55",
   "outputs": [],
   "execution_count": null
  },
  {
   "metadata": {},
   "cell_type": "markdown",
   "source": "### Tunicata Оболочники +1 вид",
   "id": "902569f4613402de"
  },
  {
   "metadata": {},
   "cell_type": "markdown",
   "source": "[styela_clava_tunicata](https://blast.ncbi.nlm.nih.gov/Blast.cgi?PAGE_TYPE=BlastSearch&USER_FORMAT_DEFAULTS=on&SET_SAVED_SEARCH=true&PAGE=Proteins&PROGRAM=blastp&QUERY=%3EXP_039257222.1%20LOC120333895%20%5Borganism%3DStyela%20clava%5D%20%5BGeneID%3D120333895%5D%0AMSYRGRSRNNYNKRGSYSYRGDYNNKYSQHDNRSGSPSYNNRDKESGESYNDRQYSNDRYEPRGRGGGKF%0ARGRRPNGRFSARRGSRGRGGSYRGRGGRGDFNQNNHIDPDGDIDMEGGTSTGKARPAPYARPSRDNRPPR%0AGNPRFHQNNRNGPNWSLVTIVQGAMLDREWLIEAIQKEIMVQIKPVQYFHDGENSQFCIEDAEVAQNIRD%0ACNRKITGPDGNKLLILKTYCSPPITDDQLVILRDALSKRYNTDTLHLDASDLYSDKTLRENRIDMKLKFS%0AKAMYILINIIGEHISGLLSLDLSNNRMDNLSYLKNLVVVTPRLKCLKLERNELRHSKELDNIREWDLTEL%0ANIDGNPLCQHFESQSDYISAIRDKFPNLQVLDGKKLPPPVKFDLEKVTKLVPAIPNHIPPAVTEIIKQFV%0AKQYFALYDTNRENLSQAYDENCMFSLTIPSNPRGAPLTRYLDYTRNLRRLKNAKLRLSYLRKSRSEICET%0ALKKLPKTEHDISGFCVDVPLVSPTMIKFIIRGVFKEKHSGKDNSCMRAFTRAFLCLTDGARLSIINEEIH%0AIRNTTIVEYKSAFAKPPVTPSPSPVPEQTIASPAQSTSSSVPTVAPVVVGSPSKLDMVAAFCKESGMNAG%0AFSEQCLNENGWDYMKAGQAFLSLKNEGKIPAEAFVR&JOB_TITLE=styela_clava_tunicata&GAPCOSTS=11%201&DATABASE=nr&BLAST_PROGRAMS=psiBlast&MAX_NUM_SEQ=100&SHORT_QUERY_ADJUST=on&EXPECT=0.05&WORD_SIZE=3&MATRIX_NAME=BLOSUM62&COMPOSITION_BASED_STATISTICS=2&I_THRESH=0.005&EQ_MENU=Tunicata%20%28taxid%3A7712%29&EQ_MENU1=Styela%20clava%20(taxid:7725)&ORG_EXCLUDE1=on&NUM_ORG=2&PROG_DEFAULTS=on&SHOW_OVERVIEW=on&SHOW_LINKOUT=on&ALIGNMENT_VIEW=Pairwise&MASK_CHAR=2&MASK_COLOR=1&GET_SEQUENCE=on&NCBI_GI=false&NUM_OVERVIEW=100&DESCRIPTIONS=100&ALIGNMENTS=100&FORMAT_OBJECT=Alignment&FORMAT_TYPE=HTML&SHOW_CDS_FEATURE=false&ADV_VIEW=on&BOOKMARK=on)",
   "id": "131c8179c19427a0"
  },
  {
   "metadata": {
    "ExecuteTime": {
     "end_time": "2025-05-27T11:58:47.692390Z",
     "start_time": "2025-05-27T11:58:27.068359Z"
    }
   },
   "cell_type": "code",
   "source": [
    "phyla = \"Tunicata\"\n",
    "dir = f\"../Sequences_protein_id/{phyla}\"\n",
    "\n",
    "name_of_blast_res = f\"../Blast_res/psi_blast/styela_clava_{phyla.lower()}.xml\"  # XML2 !!!\n",
    "df = parse_psiblast_xml(name_of_blast_res)\n",
    "df = filter_psiblast_hits(df, min_qc=0.5, min_ident=0, min_sbjct_len=500)\n",
    "df = update_df(df)"
   ],
   "id": "baccab7f2eab480a",
   "outputs": [
    {
     "name": "stdout",
     "output_type": "stream",
     "text": [
      "IndexError: ProteinID CAB3264527.1 GeneID not found -> skipping...\n"
     ]
    }
   ],
   "execution_count": 11
  },
  {
   "metadata": {
    "ExecuteTime": {
     "end_time": "2025-05-27T11:59:07.578956Z",
     "start_time": "2025-05-27T11:59:07.575794Z"
    }
   },
   "cell_type": "code",
   "source": [
    "os.makedirs(f\"{dir}\", exist_ok=True)\n",
    "df.to_csv(f\"{dir}/df_{phyla.lower()}.tsv\", sep=\"\\t\", index=True)"
   ],
   "id": "551e73da918eb750",
   "outputs": [],
   "execution_count": 12
  },
  {
   "metadata": {
    "ExecuteTime": {
     "end_time": "2025-05-27T11:59:19.767979Z",
     "start_time": "2025-05-27T11:59:10.419092Z"
    }
   },
   "cell_type": "code",
   "source": "save_files(df, f\"../Sequences_protein_id/{phyla}\")",
   "id": "c2a024bae22f7e67",
   "outputs": [],
   "execution_count": 13
  },
  {
   "metadata": {
    "ExecuteTime": {
     "end_time": "2025-05-27T12:01:39.431919Z",
     "start_time": "2025-05-27T12:01:39.424787Z"
    }
   },
   "cell_type": "code",
   "source": [
    "phyla = \"Tunicata\"\n",
    "dir = f\"../Sequences_protein_id/{phyla}\"\n",
    "df = pd.read_csv(f\"{dir}/df_{phyla.lower()}.tsv\", sep=\"\\t\", index_col=0,\n",
    "                 converters={11: ast.literal_eval, 13: ast.literal_eval})\n",
    "\n",
    "ref_exon_len = [37]\n",
    "found_protein_ids = {}\n",
    "\n",
    "for protein_id in df.protein_id:\n",
    "    df_subset = df[df[\"protein_id\"] == protein_id]\n",
    "    df_exons = analyze_exons(f\"{dir}/{protein_id}/exons.fa\")\n",
    "    condition = set(ref_exon_len) & set(df_exons.length.tolist())\n",
    "    if condition:\n",
    "        found_protein_ids[protein_id] = condition\n",
    "\n",
    "df_found_protein_ids = df[df[\"protein_id\"].isin(found_protein_ids.keys())]  # !!!\n",
    "\n",
    "data = {}\n",
    "\n",
    "for protein_id in df_found_protein_ids.protein_id:\n",
    "    df_subset = df_found_protein_ids[df_found_protein_ids[\"protein_id\"] == protein_id]\n",
    "    org_name = df_subset.org_name.iloc[0]\n",
    "    df_exons = analyze_exons(f\"{dir}/{protein_id}/exons.fa\")\n",
    "    exon_37_idx = df_exons[df_exons[\"length\"] == 37].index[0]\n",
    "    exon_110_idx = exon_37_idx - 1\n",
    "    data[f\"{org_name}__{protein_id}\"] = (df_exons, [exon_110_idx, exon_37_idx])"
   ],
   "id": "af33c1033ab8388",
   "outputs": [],
   "execution_count": 14
  },
  {
   "metadata": {
    "ExecuteTime": {
     "end_time": "2025-05-27T12:01:41.197493Z",
     "start_time": "2025-05-27T12:01:41.194110Z"
    }
   },
   "cell_type": "code",
   "source": "introns = create_many_cassettes(dir, data)",
   "id": "fee9fb79a7520412",
   "outputs": [],
   "execution_count": 15
  },
  {
   "metadata": {
    "ExecuteTime": {
     "end_time": "2025-05-27T12:01:42.389446Z",
     "start_time": "2025-05-27T12:01:42.385460Z"
    }
   },
   "cell_type": "code",
   "source": [
    "df_cds, dict_align_cds = dict_align_info_analyze(df_found_protein_ids, \"cds\", dir)\n",
    "df_cds.equal_to_cds.unique()  # должно быть только True"
   ],
   "id": "c19ab46c4667fea3",
   "outputs": [
    {
     "data": {
      "text/plain": [
       "array([ True])"
      ]
     },
     "execution_count": 16,
     "metadata": {},
     "output_type": "execute_result"
    }
   ],
   "execution_count": 16
  },
  {
   "metadata": {
    "ExecuteTime": {
     "end_time": "2025-05-27T12:01:44.281410Z",
     "start_time": "2025-05-27T12:01:44.276292Z"
    }
   },
   "cell_type": "code",
   "source": [
    "df_cds_cassette, dict_align_cds_cassette = dict_align_info_analyze(df_found_protein_ids, \"cds_cassette\", dir)\n",
    "df_cds_cassette"
   ],
   "id": "26d161ea285e5188",
   "outputs": [
    {
     "data": {
      "text/plain": [
       "                  org_name_protein_id  stop_codon_pos  equal_to_cds  \\\n",
       "0  Ciona_intestinalis__XP_002129680.2            1116         False   \n",
       "1  Ciona_intestinalis__XP_018671856.1            1116         False   \n",
       "\n",
       "   cassette_intron_start  intron_length_to_stop_codon  intron_length  \n",
       "0                   1085                           31            261  \n",
       "1                   1085                           31            261  "
      ],
      "text/html": [
       "<div>\n",
       "<style scoped>\n",
       "    .dataframe tbody tr th:only-of-type {\n",
       "        vertical-align: middle;\n",
       "    }\n",
       "\n",
       "    .dataframe tbody tr th {\n",
       "        vertical-align: top;\n",
       "    }\n",
       "\n",
       "    .dataframe thead th {\n",
       "        text-align: right;\n",
       "    }\n",
       "</style>\n",
       "<table border=\"1\" class=\"dataframe\">\n",
       "  <thead>\n",
       "    <tr style=\"text-align: right;\">\n",
       "      <th></th>\n",
       "      <th>org_name_protein_id</th>\n",
       "      <th>stop_codon_pos</th>\n",
       "      <th>equal_to_cds</th>\n",
       "      <th>cassette_intron_start</th>\n",
       "      <th>intron_length_to_stop_codon</th>\n",
       "      <th>intron_length</th>\n",
       "    </tr>\n",
       "  </thead>\n",
       "  <tbody>\n",
       "    <tr>\n",
       "      <th>0</th>\n",
       "      <td>Ciona_intestinalis__XP_002129680.2</td>\n",
       "      <td>1116</td>\n",
       "      <td>False</td>\n",
       "      <td>1085</td>\n",
       "      <td>31</td>\n",
       "      <td>261</td>\n",
       "    </tr>\n",
       "    <tr>\n",
       "      <th>1</th>\n",
       "      <td>Ciona_intestinalis__XP_018671856.1</td>\n",
       "      <td>1116</td>\n",
       "      <td>False</td>\n",
       "      <td>1085</td>\n",
       "      <td>31</td>\n",
       "      <td>261</td>\n",
       "    </tr>\n",
       "  </tbody>\n",
       "</table>\n",
       "</div>"
      ]
     },
     "execution_count": 17,
     "metadata": {},
     "output_type": "execute_result"
    }
   ],
   "execution_count": 17
  },
  {
   "metadata": {},
   "cell_type": "code",
   "outputs": [],
   "execution_count": null,
   "source": [
    "# os.makedirs(f\"../Alignment/psi_blast/{phyla}\", exist_ok=True)\n",
    "#\n",
    "# dict_align_cds_cassette[\"Styela_clava_reference\"] = read_single_fasta(\"../Datasets/Tunicata/styela_clava_0/ncbi_dataset/data/cds_cassette.fa\")\n",
    "# dict_align_to_fasta(dict_align_cds_cassette, f\"../Alignment/psi_blast/{phyla}/cds_cassette.fa\")\n",
    "# dict_align_to_fasta(dict_align_cds_cassette, f\"../Alignment/psi_blast/{phyla}/cds_cassette.aln\")"
   ],
   "id": "472a25dbd6aeb768"
  },
  {
   "metadata": {},
   "cell_type": "markdown",
   "source": "### Cyclostomata Круглоротые + 2 вида",
   "id": "91a992376c53da4b"
  },
  {
   "metadata": {},
   "cell_type": "markdown",
   "source": "[petromyzon_marinus_cyclostomata](https://blast.ncbi.nlm.nih.gov/Blast.cgi?PAGE_TYPE=BlastSearch&USER_FORMAT_DEFAULTS=on&SET_SAVED_SEARCH=true&PAGE=Proteins&PROGRAM=blastp&QUERY=%3EXP_032819871.1%20NXF1%20%5Borganism%3DPetromyzon%20marinus%5D%20%5BGeneID%3D116947809%5D%0AMSQKQDADQFFDGRHYSEHDDRTGSQAVDRRNRGRGPRLYMDGRSSGSPARSSGGGGSSGGGGGGGGGGG%0AGRRSGHGYFRGNRKGRNNGGGGGGGGGGGGGRGGGGGRIGGPNPRSHLNDDDDVDMWEDMPSSRARFTPY%0ASTNPNRWRQQQRTDHRRSAVEVTFRPDSTGYGGRPSHSTSGGHRERSSWYKITIPFGKKYNKTWLLQSLQ%0AQASSTPFTPVQFHYEDKRAVFHLEDRAAAEALKSISRQIVDTDNFKVAVVMNQSGPPPSLLNDLKEEDLQ%0AHIKECLSRRFEPAEQALDLSGIRNDEELQARGVDLVMNRKSCMDAVTKIISENIPTIMSLNLSSNRLYRL%0ADDLAELAQHTPSLKTMNLSRNELKSERDLDRIKGFKLEELWLSGNSLCDSFRDQSAYISAVRQRFPKLMK%0ALDGQELPPPIAFDLEAPTTLPPTREGYFPNDEIKSLILRFLTQYFTVYDSANRQSLLNAYHDTACCSITI%0APHSPQNPSKSSLGEYFKESRNIKRLKDPIMRQKLLKHTRLNVVAFLNELPHTQHDLPSFVIDVSVHLASL%0ALNFTVNGFFKETEGKCRESVRAFSRVFLAVPAANGGLCIVNDQLFVRNASTEEIRRAFVMPAPTPSSSPV%0APTLTPLQQEMLQAFSTQSGMNLEWSQRCLQQHSWDFERSAQIFTQLNTAGHIPKEAFVK&JOB_TITLE=petromyzon_marinus_cyclostomata&GAPCOSTS=11%201&DATABASE=nr&BLAST_PROGRAMS=psiBlast&MAX_NUM_SEQ=100&SHORT_QUERY_ADJUST=on&EXPECT=0.05&WORD_SIZE=3&MATRIX_NAME=BLOSUM62&COMPOSITION_BASED_STATISTICS=2&I_THRESH=0.005&EQ_MENU=Cyclostomata%20%28taxid%3A1476529%29&EQ_MENU1=Petromyzon%20marinus%20(taxid:7757)&ORG_EXCLUDE1=on&NUM_ORG=2&PROG_DEFAULTS=on&SHOW_OVERVIEW=on&SHOW_LINKOUT=on&ALIGNMENT_VIEW=Pairwise&MASK_CHAR=2&MASK_COLOR=1&GET_SEQUENCE=on&NCBI_GI=false&NUM_OVERVIEW=100&DESCRIPTIONS=100&ALIGNMENTS=100&FORMAT_OBJECT=Alignment&FORMAT_TYPE=HTML&SHOW_CDS_FEATURE=false&ADV_VIEW=on&BOOKMARK=on)",
   "id": "ae4e8ed3d9df5bf"
  },
  {
   "metadata": {
    "ExecuteTime": {
     "end_time": "2025-05-27T12:09:45.729531Z",
     "start_time": "2025-05-27T12:09:06.864032Z"
    }
   },
   "cell_type": "code",
   "source": [
    "phyla = \"Cyclostomata\"\n",
    "dir = f\"../Sequences_protein_id/{phyla}\"\n",
    "\n",
    "name_of_blast_res = f\"../Blast_res/psi_blast/petromyzon_marinus_{phyla.lower()}.xml\"  # XML2 !!!\n",
    "df = parse_psiblast_xml(name_of_blast_res)\n",
    "df = filter_psiblast_hits(df, min_qc=0.6, min_ident=0, min_sbjct_len=500)\n",
    "df = update_df(df)"
   ],
   "id": "22cc69be55fab0a0",
   "outputs": [],
   "execution_count": 18
  },
  {
   "metadata": {
    "ExecuteTime": {
     "end_time": "2025-05-27T12:10:02.901282Z",
     "start_time": "2025-05-27T12:10:02.896384Z"
    }
   },
   "cell_type": "code",
   "source": [
    "os.makedirs(f\"{dir}\", exist_ok=True)\n",
    "df.to_csv(f\"{dir}/df_{phyla.lower()}.tsv\", sep=\"\\t\", index=True)"
   ],
   "id": "35d7f181eff620f9",
   "outputs": [],
   "execution_count": 19
  },
  {
   "metadata": {
    "ExecuteTime": {
     "end_time": "2025-05-27T12:12:17.344143Z",
     "start_time": "2025-05-27T12:10:05.036579Z"
    }
   },
   "cell_type": "code",
   "source": "save_files(df, f\"../Sequences_protein_id/{phyla}\")",
   "id": "1a0483cfd238a3e2",
   "outputs": [],
   "execution_count": 20
  },
  {
   "metadata": {
    "ExecuteTime": {
     "end_time": "2025-05-27T12:12:21.933139Z",
     "start_time": "2025-05-27T12:12:21.922319Z"
    }
   },
   "cell_type": "code",
   "source": [
    "phyla = \"Cyclostomata\"\n",
    "dir = f\"../Sequences_protein_id/{phyla}\"\n",
    "df = pd.read_csv(f\"{dir}/df_{phyla.lower()}.tsv\", sep=\"\\t\", index_col=0,\n",
    "                 converters={11: ast.literal_eval, 13: ast.literal_eval})\n",
    "\n",
    "ref_exon_len = [37]\n",
    "found_protein_ids = {}\n",
    "\n",
    "for protein_id in df.protein_id:\n",
    "    df_subset = df[df[\"protein_id\"] == protein_id]\n",
    "    df_exons = analyze_exons(f\"{dir}/{protein_id}/exons.fa\")\n",
    "    condition = set(ref_exon_len) & set(df_exons.length.tolist())\n",
    "    if condition:\n",
    "        found_protein_ids[protein_id] = condition\n",
    "\n",
    "df_found_protein_ids = df[df[\"protein_id\"].isin(found_protein_ids.keys())]  # !!!\n",
    "\n",
    "data = {}\n",
    "\n",
    "for protein_id in df_found_protein_ids.protein_id:\n",
    "    df_subset = df_found_protein_ids[df_found_protein_ids[\"protein_id\"] == protein_id]\n",
    "    org_name = df_subset.org_name.iloc[0]\n",
    "    df_exons = analyze_exons(f\"{dir}/{protein_id}/exons.fa\")\n",
    "    exon_37_idx = df_exons[df_exons[\"length\"] == 37].index[0]\n",
    "    exon_110_idx = exon_37_idx - 1\n",
    "    data[f\"{org_name}__{protein_id}\"] = (df_exons, [exon_110_idx, exon_37_idx])"
   ],
   "id": "e76e9bbf4701a2b3",
   "outputs": [],
   "execution_count": 21
  },
  {
   "metadata": {
    "ExecuteTime": {
     "end_time": "2025-05-27T12:12:24.130040Z",
     "start_time": "2025-05-27T12:12:24.126155Z"
    }
   },
   "cell_type": "code",
   "source": "introns = create_many_cassettes(dir, data)",
   "id": "6c603ec660ef936b",
   "outputs": [],
   "execution_count": 22
  },
  {
   "metadata": {
    "ExecuteTime": {
     "end_time": "2025-05-27T12:12:25.210699Z",
     "start_time": "2025-05-27T12:12:25.205959Z"
    }
   },
   "cell_type": "code",
   "source": [
    "df_cds, dict_align_cds = dict_align_info_analyze(df_found_protein_ids, \"cds\", dir)\n",
    "df_cds.equal_to_cds.unique()  # должно быть только True"
   ],
   "id": "5a47c814d8705383",
   "outputs": [
    {
     "data": {
      "text/plain": [
       "array([ True])"
      ]
     },
     "execution_count": 23,
     "metadata": {},
     "output_type": "execute_result"
    }
   ],
   "execution_count": 23
  },
  {
   "metadata": {
    "ExecuteTime": {
     "end_time": "2025-05-27T12:12:26.720288Z",
     "start_time": "2025-05-27T12:12:26.714730Z"
    }
   },
   "cell_type": "code",
   "source": [
    "df_cds_cassette, dict_align_cds_cassette = dict_align_info_analyze(df_found_protein_ids, \"cds_cassette\", dir)\n",
    "df_cds_cassette"
   ],
   "id": "fd90cda7166e2396",
   "outputs": [
    {
     "data": {
      "text/plain": [
       "                  org_name_protein_id  stop_codon_pos  equal_to_cds  \\\n",
       "0      Lampetra_planeri__CAM9977466.1            1272         False   \n",
       "1      Lampetra_planeri__CAL9852373.1            1287         False   \n",
       "2  Lampetra_fluviatilis__CAM9885821.1            1308         False   \n",
       "3  Lampetra_fluviatilis__CAL5915659.1            2313         False   \n",
       "\n",
       "   cassette_intron_start  intron_length_to_stop_codon  intron_length  \n",
       "0                   1247                           25           3126  \n",
       "1                   1262                           25           3122  \n",
       "2                   1283                           25           3116  \n",
       "3                   2288                           25           3123  "
      ],
      "text/html": [
       "<div>\n",
       "<style scoped>\n",
       "    .dataframe tbody tr th:only-of-type {\n",
       "        vertical-align: middle;\n",
       "    }\n",
       "\n",
       "    .dataframe tbody tr th {\n",
       "        vertical-align: top;\n",
       "    }\n",
       "\n",
       "    .dataframe thead th {\n",
       "        text-align: right;\n",
       "    }\n",
       "</style>\n",
       "<table border=\"1\" class=\"dataframe\">\n",
       "  <thead>\n",
       "    <tr style=\"text-align: right;\">\n",
       "      <th></th>\n",
       "      <th>org_name_protein_id</th>\n",
       "      <th>stop_codon_pos</th>\n",
       "      <th>equal_to_cds</th>\n",
       "      <th>cassette_intron_start</th>\n",
       "      <th>intron_length_to_stop_codon</th>\n",
       "      <th>intron_length</th>\n",
       "    </tr>\n",
       "  </thead>\n",
       "  <tbody>\n",
       "    <tr>\n",
       "      <th>0</th>\n",
       "      <td>Lampetra_planeri__CAM9977466.1</td>\n",
       "      <td>1272</td>\n",
       "      <td>False</td>\n",
       "      <td>1247</td>\n",
       "      <td>25</td>\n",
       "      <td>3126</td>\n",
       "    </tr>\n",
       "    <tr>\n",
       "      <th>1</th>\n",
       "      <td>Lampetra_planeri__CAL9852373.1</td>\n",
       "      <td>1287</td>\n",
       "      <td>False</td>\n",
       "      <td>1262</td>\n",
       "      <td>25</td>\n",
       "      <td>3122</td>\n",
       "    </tr>\n",
       "    <tr>\n",
       "      <th>2</th>\n",
       "      <td>Lampetra_fluviatilis__CAM9885821.1</td>\n",
       "      <td>1308</td>\n",
       "      <td>False</td>\n",
       "      <td>1283</td>\n",
       "      <td>25</td>\n",
       "      <td>3116</td>\n",
       "    </tr>\n",
       "    <tr>\n",
       "      <th>3</th>\n",
       "      <td>Lampetra_fluviatilis__CAL5915659.1</td>\n",
       "      <td>2313</td>\n",
       "      <td>False</td>\n",
       "      <td>2288</td>\n",
       "      <td>25</td>\n",
       "      <td>3123</td>\n",
       "    </tr>\n",
       "  </tbody>\n",
       "</table>\n",
       "</div>"
      ]
     },
     "execution_count": 24,
     "metadata": {},
     "output_type": "execute_result"
    }
   ],
   "execution_count": 24
  },
  {
   "metadata": {},
   "cell_type": "code",
   "outputs": [],
   "execution_count": null,
   "source": [
    "# os.makedirs(f\"../Alignment/psi_blast/{phyla}\", exist_ok=True)\n",
    "#\n",
    "# dict_align_cds_cassette[\"Petromyzon_marinus_reference\"] = read_single_fasta(\"../Datasets/Cyclostomata/petromyzon_marinus_2/ncbi_dataset/data/cds_cassette.fa\")\n",
    "# dict_align_to_fasta(dict_align_cds_cassette, f\"../Alignment/psi_blast/{phyla}/cds_cassette.fa\")\n",
    "# dict_align_to_fasta(dict_align_cds_cassette, f\"../Alignment/psi_blast/{phyla}/cds_cassette.aln\")"
   ],
   "id": "e803fa3843ba39a9"
  },
  {
   "metadata": {},
   "cell_type": "markdown",
   "source": "### Chondrichthyes Хрящевые рыбы + 11 видов",
   "id": "3da0191af21ebaac"
  },
  {
   "metadata": {},
   "cell_type": "markdown",
   "source": "[amblyraja_radiata_chondrichthyes](https://blast.ncbi.nlm.nih.gov/Blast.cgi?PAGE_TYPE=BlastSearch&USER_FORMAT_DEFAULTS=on&SET_SAVED_SEARCH=true&PAGE=Proteins&PROGRAM=blastp&QUERY=%3EXP_032871106.1%20nxf1%20%5Borganism%3DAmblyraja%20radiata%5D%20%5BGeneID%3D116968450%5D%0AFETKLLPWLSSAPQRSGSVNYQFQGKGTNEGRWNWRKDKGDRYGEHDDRVGGNFPIRKKKGRGPFRWKMY%0ASDANHKPRNRGGGGGNPRLRFEDEDGDVAMNDHDVPRPRFSPYGSRPSRRPGNWHDSEGGPSNIHVTVKP%0ANSERGSSNNANTRRNWFKITIPYGKKYDKTWLLSNLQSMSSVPFNPVQFHYDGNKALFYVEDSTTANALK%0AQISRRITDKDLYRVVIIINQSAPPSSVSNELKAEEIVHIRQCMSKRYDGSQQALDLNTVRSDPDLVSQNI%0AEVVLNRRNSMSTVVKIIEENIPELLSLNLGNNKLYRLEDLTDLISKAPGLKILNLSRNELKSERDLDKIK%0AGFKLEELWLEGNPLCGNFRDQATYVSSVREKFPKLLRLDGHDLPPPISFDVETPTTLPSCKGSYFGTEEI%0AKVIVTRFIQQYYSVYDSTDRQGLLDAYHDTACCSLSIPFTQQNPARSSLGEYFKESRNVKRLKDPTLRAR%0ALLKHTRLNVVAFLNELPKTQHDTASFVVDVSTQTNTLLCFTVHGVFKEVDSKSRESVRAFSRVFVAVPAG%0ANAGLCIVNDQLFIRNATTEEIRMAFVTPAPTPSSSPVPTLTAPQQEMLQLFSQQSNMNIEWSQKCLQDND%0AWDFNQAAQIFTQLKAEGKIPEIAFVRQL&JOB_TITLE=amblyraja_radiata_chondrichthyes&GAPCOSTS=11%201&DATABASE=nr&BLAST_PROGRAMS=psiBlast&MAX_NUM_SEQ=100&SHORT_QUERY_ADJUST=on&EXPECT=0.05&WORD_SIZE=3&MATRIX_NAME=BLOSUM62&COMPOSITION_BASED_STATISTICS=2&I_THRESH=0.005&EQ_MENU=Chondrichthyes%20%28taxid%3A7777%29&EQ_MENU1=Amblyraja%20radiata%20(taxid:386614)&ORG_EXCLUDE1=on&NUM_ORG=2&PROG_DEFAULTS=on&SHOW_OVERVIEW=on&SHOW_LINKOUT=on&ALIGNMENT_VIEW=Pairwise&MASK_CHAR=2&MASK_COLOR=1&GET_SEQUENCE=on&NCBI_GI=false&NUM_OVERVIEW=100&DESCRIPTIONS=100&ALIGNMENTS=100&FORMAT_OBJECT=Alignment&FORMAT_TYPE=HTML&SHOW_CDS_FEATURE=false&ADV_VIEW=on&BOOKMARK=on)",
   "id": "315c3471a08da024"
  },
  {
   "metadata": {
    "ExecuteTime": {
     "end_time": "2025-05-27T12:20:47.786028Z",
     "start_time": "2025-05-27T12:16:32.464160Z"
    }
   },
   "cell_type": "code",
   "source": [
    "phyla = \"Chondrichthyes\"\n",
    "dir = f\"../Sequences_protein_id/{phyla}\"\n",
    "\n",
    "name_of_blast_res = f\"../Blast_res/psi_blast/amblyraja_radiata_{phyla.lower()}.xml\"  # XML2 !!!\n",
    "df = parse_psiblast_xml(name_of_blast_res)\n",
    "df = filter_psiblast_hits(df, min_qc=0.7, min_ident=0, min_sbjct_len=500)\n",
    "df = update_df(df)"
   ],
   "id": "d7d607849495da28",
   "outputs": [],
   "execution_count": 25
  },
  {
   "metadata": {
    "ExecuteTime": {
     "end_time": "2025-05-27T12:21:23.556432Z",
     "start_time": "2025-05-27T12:21:23.552766Z"
    }
   },
   "cell_type": "code",
   "source": [
    "os.makedirs(f\"{dir}\", exist_ok=True)\n",
    "df.to_csv(f\"{dir}/df_{phyla.lower()}.tsv\", sep=\"\\t\", index=True)"
   ],
   "id": "cbfe097e6a0de140",
   "outputs": [],
   "execution_count": 26
  },
  {
   "metadata": {
    "ExecuteTime": {
     "end_time": "2025-05-27T12:23:42.409053Z",
     "start_time": "2025-05-27T12:21:25.346914Z"
    }
   },
   "cell_type": "code",
   "source": "save_files(df, f\"../Sequences_protein_id/{phyla}\")",
   "id": "3d12ba92575fbd4a",
   "outputs": [],
   "execution_count": 27
  },
  {
   "metadata": {
    "ExecuteTime": {
     "end_time": "2025-05-27T12:41:02.074338Z",
     "start_time": "2025-05-27T12:41:02.036256Z"
    }
   },
   "cell_type": "code",
   "source": [
    "phyla = \"Chondrichthyes\"\n",
    "dir = f\"../Sequences_protein_id/{phyla}\"\n",
    "df = pd.read_csv(f\"{dir}/df_{phyla.lower()}.tsv\", sep=\"\\t\", index_col=0,\n",
    "                 converters={11: ast.literal_eval, 13: ast.literal_eval})\n",
    "\n",
    "ref_exon_len = [37]\n",
    "found_protein_ids = {}\n",
    "\n",
    "for protein_id in df.protein_id:\n",
    "    df_subset = df[df[\"protein_id\"] == protein_id]\n",
    "    df_exons = analyze_exons(f\"{dir}/{protein_id}/exons.fa\")\n",
    "    condition = set(ref_exon_len) & set(df_exons.length.tolist())\n",
    "    if condition:\n",
    "        found_protein_ids[protein_id] = condition\n",
    "\n",
    "df_found_protein_ids = df[df[\"protein_id\"].isin(found_protein_ids.keys())]  # !!!\n",
    "\n",
    "data = {}\n",
    "\n",
    "for protein_id in df_found_protein_ids.protein_id:\n",
    "    df_subset = df_found_protein_ids[df_found_protein_ids[\"protein_id\"] == protein_id]\n",
    "    org_name = df_subset.org_name.iloc[0]\n",
    "    df_exons = analyze_exons(f\"{dir}/{protein_id}/exons.fa\")\n",
    "    exon_37_idx = df_exons[df_exons[\"length\"] == 37].index[0]\n",
    "    exon_110_idx = exon_37_idx - 1\n",
    "    data[f\"{org_name}__{protein_id}\"] = (df_exons, [exon_110_idx, exon_37_idx])"
   ],
   "id": "6a3398c15b7e125",
   "outputs": [],
   "execution_count": 35
  },
  {
   "metadata": {
    "ExecuteTime": {
     "end_time": "2025-05-27T12:23:55.307450Z",
     "start_time": "2025-05-27T12:23:55.290284Z"
    }
   },
   "cell_type": "code",
   "source": "introns = create_many_cassettes(dir, data)",
   "id": "dbf4b09bf56d1746",
   "outputs": [],
   "execution_count": 29
  },
  {
   "metadata": {
    "ExecuteTime": {
     "end_time": "2025-05-27T12:23:56.633202Z",
     "start_time": "2025-05-27T12:23:56.622571Z"
    }
   },
   "cell_type": "code",
   "source": [
    "df_cds, dict_align_cds = dict_align_info_analyze(df_found_protein_ids, \"cds\", dir)\n",
    "df_cds.equal_to_cds.unique()  # должно быть только True\n",
    "# Scyliorhinus_torazame__XP_072345558.1 - стоп-кодон в кодирующей части не в конце"
   ],
   "id": "bcd7ee9e2ff25d1b",
   "outputs": [
    {
     "data": {
      "text/plain": [
       "array([ True, False])"
      ]
     },
     "execution_count": 30,
     "metadata": {},
     "output_type": "execute_result"
    }
   ],
   "execution_count": 30
  },
  {
   "metadata": {
    "ExecuteTime": {
     "end_time": "2025-05-27T12:41:06.414754Z",
     "start_time": "2025-05-27T12:41:06.403351Z"
    }
   },
   "cell_type": "code",
   "source": [
    "df_cds_cassette, dict_align_cds_cassette = dict_align_info_analyze(df_found_protein_ids, \"cds_cassette\", dir)\n",
    "df_cds_cassette"
   ],
   "id": "edf58b63e2ba103e",
   "outputs": [
    {
     "data": {
      "text/plain": [
       "                        org_name_protein_id  stop_codon_pos  equal_to_cds  \\\n",
       "0         Pristis_pectinata__XP_051901084.1            1023         False   \n",
       "1   Pristiophorus_japonicus__XP_070724389.1            1218         False   \n",
       "2   Pristiophorus_japonicus__XP_070724388.1            1218         False   \n",
       "3       Stegostoma_tigrinum__XP_048381107.1            1203         False   \n",
       "4        Heptranchias_perlo__XP_067831842.1            1212         False   \n",
       "5    Carcharodon_carcharias__XP_041037859.1            1284         False   \n",
       "6        Heptranchias_perlo__XP_067831841.1            1212         False   \n",
       "7    Hemiscyllium_ocellatum__XP_060711579.1            1110         False   \n",
       "8   Pristiophorus_japonicus__XP_070724386.1            1218         False   \n",
       "9       Chiloscyllium_punctatum__GCC19136.1            1299         False   \n",
       "10  Pristiophorus_japonicus__XP_070724385.1            1218         False   \n",
       "11      Stegostoma_tigrinum__XP_048381108.1            1203         False   \n",
       "12    Scyliorhinus_torazame__XP_072345558.1             612         False   \n",
       "13   Carcharodon_carcharias__XP_041037857.1            1284         False   \n",
       "14       Narcine_bancroftii__XP_069749948.1            1155         False   \n",
       "15       Heptranchias_perlo__XP_067831843.1            1212         False   \n",
       "16   Hemiscyllium_ocellatum__XP_060711580.1            1110         False   \n",
       "17         Mobula_birostris__XP_072106384.1            1266         False   \n",
       "18         Mobula_hypostoma__XP_062895289.1            1266         False   \n",
       "19         Mobula_birostris__XP_072106385.1            1266         False   \n",
       "20       Narcine_bancroftii__XP_069749949.1            1155         False   \n",
       "21  Pristiophorus_japonicus__XP_070724387.1            1218         False   \n",
       "22  Pristiophorus_japonicus__XP_070724390.1            1218         False   \n",
       "23   Carcharodon_carcharias__XP_041037858.1            1284         False   \n",
       "\n",
       "    cassette_intron_start  intron_length_to_stop_codon  intron_length  \n",
       "0                    1018                            5           2981  \n",
       "1                    1121                           97           3326  \n",
       "2                    1121                           97           3326  \n",
       "3                    1001                          202           3219  \n",
       "4                    1022                          190           3838  \n",
       "5                    1115                          169           3263  \n",
       "6                    1022                          190           3838  \n",
       "7                    1016                           94           3273  \n",
       "8                    1121                           97           3326  \n",
       "9                    1157                          142           3151  \n",
       "10                   1121                           97           3326  \n",
       "11                   1001                          202           3219  \n",
       "12                   1114                         -502           3094  \n",
       "13                   1115                          169           3263  \n",
       "14                   1022                          133           3125  \n",
       "15                   1022                          190           3838  \n",
       "16                   1016                           94           3273  \n",
       "17                   1019                          247           2778  \n",
       "18                   1019                          247           2793  \n",
       "19                   1019                          247           2778  \n",
       "20                   1022                          133           3125  \n",
       "21                   1121                           97           3326  \n",
       "22                   1121                           97           3326  \n",
       "23                   1115                          169           3263  "
      ],
      "text/html": [
       "<div>\n",
       "<style scoped>\n",
       "    .dataframe tbody tr th:only-of-type {\n",
       "        vertical-align: middle;\n",
       "    }\n",
       "\n",
       "    .dataframe tbody tr th {\n",
       "        vertical-align: top;\n",
       "    }\n",
       "\n",
       "    .dataframe thead th {\n",
       "        text-align: right;\n",
       "    }\n",
       "</style>\n",
       "<table border=\"1\" class=\"dataframe\">\n",
       "  <thead>\n",
       "    <tr style=\"text-align: right;\">\n",
       "      <th></th>\n",
       "      <th>org_name_protein_id</th>\n",
       "      <th>stop_codon_pos</th>\n",
       "      <th>equal_to_cds</th>\n",
       "      <th>cassette_intron_start</th>\n",
       "      <th>intron_length_to_stop_codon</th>\n",
       "      <th>intron_length</th>\n",
       "    </tr>\n",
       "  </thead>\n",
       "  <tbody>\n",
       "    <tr>\n",
       "      <th>0</th>\n",
       "      <td>Pristis_pectinata__XP_051901084.1</td>\n",
       "      <td>1023</td>\n",
       "      <td>False</td>\n",
       "      <td>1018</td>\n",
       "      <td>5</td>\n",
       "      <td>2981</td>\n",
       "    </tr>\n",
       "    <tr>\n",
       "      <th>1</th>\n",
       "      <td>Pristiophorus_japonicus__XP_070724389.1</td>\n",
       "      <td>1218</td>\n",
       "      <td>False</td>\n",
       "      <td>1121</td>\n",
       "      <td>97</td>\n",
       "      <td>3326</td>\n",
       "    </tr>\n",
       "    <tr>\n",
       "      <th>2</th>\n",
       "      <td>Pristiophorus_japonicus__XP_070724388.1</td>\n",
       "      <td>1218</td>\n",
       "      <td>False</td>\n",
       "      <td>1121</td>\n",
       "      <td>97</td>\n",
       "      <td>3326</td>\n",
       "    </tr>\n",
       "    <tr>\n",
       "      <th>3</th>\n",
       "      <td>Stegostoma_tigrinum__XP_048381107.1</td>\n",
       "      <td>1203</td>\n",
       "      <td>False</td>\n",
       "      <td>1001</td>\n",
       "      <td>202</td>\n",
       "      <td>3219</td>\n",
       "    </tr>\n",
       "    <tr>\n",
       "      <th>4</th>\n",
       "      <td>Heptranchias_perlo__XP_067831842.1</td>\n",
       "      <td>1212</td>\n",
       "      <td>False</td>\n",
       "      <td>1022</td>\n",
       "      <td>190</td>\n",
       "      <td>3838</td>\n",
       "    </tr>\n",
       "    <tr>\n",
       "      <th>5</th>\n",
       "      <td>Carcharodon_carcharias__XP_041037859.1</td>\n",
       "      <td>1284</td>\n",
       "      <td>False</td>\n",
       "      <td>1115</td>\n",
       "      <td>169</td>\n",
       "      <td>3263</td>\n",
       "    </tr>\n",
       "    <tr>\n",
       "      <th>6</th>\n",
       "      <td>Heptranchias_perlo__XP_067831841.1</td>\n",
       "      <td>1212</td>\n",
       "      <td>False</td>\n",
       "      <td>1022</td>\n",
       "      <td>190</td>\n",
       "      <td>3838</td>\n",
       "    </tr>\n",
       "    <tr>\n",
       "      <th>7</th>\n",
       "      <td>Hemiscyllium_ocellatum__XP_060711579.1</td>\n",
       "      <td>1110</td>\n",
       "      <td>False</td>\n",
       "      <td>1016</td>\n",
       "      <td>94</td>\n",
       "      <td>3273</td>\n",
       "    </tr>\n",
       "    <tr>\n",
       "      <th>8</th>\n",
       "      <td>Pristiophorus_japonicus__XP_070724386.1</td>\n",
       "      <td>1218</td>\n",
       "      <td>False</td>\n",
       "      <td>1121</td>\n",
       "      <td>97</td>\n",
       "      <td>3326</td>\n",
       "    </tr>\n",
       "    <tr>\n",
       "      <th>9</th>\n",
       "      <td>Chiloscyllium_punctatum__GCC19136.1</td>\n",
       "      <td>1299</td>\n",
       "      <td>False</td>\n",
       "      <td>1157</td>\n",
       "      <td>142</td>\n",
       "      <td>3151</td>\n",
       "    </tr>\n",
       "    <tr>\n",
       "      <th>10</th>\n",
       "      <td>Pristiophorus_japonicus__XP_070724385.1</td>\n",
       "      <td>1218</td>\n",
       "      <td>False</td>\n",
       "      <td>1121</td>\n",
       "      <td>97</td>\n",
       "      <td>3326</td>\n",
       "    </tr>\n",
       "    <tr>\n",
       "      <th>11</th>\n",
       "      <td>Stegostoma_tigrinum__XP_048381108.1</td>\n",
       "      <td>1203</td>\n",
       "      <td>False</td>\n",
       "      <td>1001</td>\n",
       "      <td>202</td>\n",
       "      <td>3219</td>\n",
       "    </tr>\n",
       "    <tr>\n",
       "      <th>12</th>\n",
       "      <td>Scyliorhinus_torazame__XP_072345558.1</td>\n",
       "      <td>612</td>\n",
       "      <td>False</td>\n",
       "      <td>1114</td>\n",
       "      <td>-502</td>\n",
       "      <td>3094</td>\n",
       "    </tr>\n",
       "    <tr>\n",
       "      <th>13</th>\n",
       "      <td>Carcharodon_carcharias__XP_041037857.1</td>\n",
       "      <td>1284</td>\n",
       "      <td>False</td>\n",
       "      <td>1115</td>\n",
       "      <td>169</td>\n",
       "      <td>3263</td>\n",
       "    </tr>\n",
       "    <tr>\n",
       "      <th>14</th>\n",
       "      <td>Narcine_bancroftii__XP_069749948.1</td>\n",
       "      <td>1155</td>\n",
       "      <td>False</td>\n",
       "      <td>1022</td>\n",
       "      <td>133</td>\n",
       "      <td>3125</td>\n",
       "    </tr>\n",
       "    <tr>\n",
       "      <th>15</th>\n",
       "      <td>Heptranchias_perlo__XP_067831843.1</td>\n",
       "      <td>1212</td>\n",
       "      <td>False</td>\n",
       "      <td>1022</td>\n",
       "      <td>190</td>\n",
       "      <td>3838</td>\n",
       "    </tr>\n",
       "    <tr>\n",
       "      <th>16</th>\n",
       "      <td>Hemiscyllium_ocellatum__XP_060711580.1</td>\n",
       "      <td>1110</td>\n",
       "      <td>False</td>\n",
       "      <td>1016</td>\n",
       "      <td>94</td>\n",
       "      <td>3273</td>\n",
       "    </tr>\n",
       "    <tr>\n",
       "      <th>17</th>\n",
       "      <td>Mobula_birostris__XP_072106384.1</td>\n",
       "      <td>1266</td>\n",
       "      <td>False</td>\n",
       "      <td>1019</td>\n",
       "      <td>247</td>\n",
       "      <td>2778</td>\n",
       "    </tr>\n",
       "    <tr>\n",
       "      <th>18</th>\n",
       "      <td>Mobula_hypostoma__XP_062895289.1</td>\n",
       "      <td>1266</td>\n",
       "      <td>False</td>\n",
       "      <td>1019</td>\n",
       "      <td>247</td>\n",
       "      <td>2793</td>\n",
       "    </tr>\n",
       "    <tr>\n",
       "      <th>19</th>\n",
       "      <td>Mobula_birostris__XP_072106385.1</td>\n",
       "      <td>1266</td>\n",
       "      <td>False</td>\n",
       "      <td>1019</td>\n",
       "      <td>247</td>\n",
       "      <td>2778</td>\n",
       "    </tr>\n",
       "    <tr>\n",
       "      <th>20</th>\n",
       "      <td>Narcine_bancroftii__XP_069749949.1</td>\n",
       "      <td>1155</td>\n",
       "      <td>False</td>\n",
       "      <td>1022</td>\n",
       "      <td>133</td>\n",
       "      <td>3125</td>\n",
       "    </tr>\n",
       "    <tr>\n",
       "      <th>21</th>\n",
       "      <td>Pristiophorus_japonicus__XP_070724387.1</td>\n",
       "      <td>1218</td>\n",
       "      <td>False</td>\n",
       "      <td>1121</td>\n",
       "      <td>97</td>\n",
       "      <td>3326</td>\n",
       "    </tr>\n",
       "    <tr>\n",
       "      <th>22</th>\n",
       "      <td>Pristiophorus_japonicus__XP_070724390.1</td>\n",
       "      <td>1218</td>\n",
       "      <td>False</td>\n",
       "      <td>1121</td>\n",
       "      <td>97</td>\n",
       "      <td>3326</td>\n",
       "    </tr>\n",
       "    <tr>\n",
       "      <th>23</th>\n",
       "      <td>Carcharodon_carcharias__XP_041037858.1</td>\n",
       "      <td>1284</td>\n",
       "      <td>False</td>\n",
       "      <td>1115</td>\n",
       "      <td>169</td>\n",
       "      <td>3263</td>\n",
       "    </tr>\n",
       "  </tbody>\n",
       "</table>\n",
       "</div>"
      ]
     },
     "execution_count": 36,
     "metadata": {},
     "output_type": "execute_result"
    }
   ],
   "execution_count": 36
  },
  {
   "metadata": {
    "ExecuteTime": {
     "end_time": "2025-05-27T12:43:32.590429Z",
     "start_time": "2025-05-27T12:43:32.587958Z"
    }
   },
   "cell_type": "code",
   "source": "len(df_cds_cassette.org_name_protein_id.str.split(\"__\").str[0].unique())",
   "id": "9c33fd63fe43402a",
   "outputs": [
    {
     "data": {
      "text/plain": [
       "11"
      ]
     },
     "execution_count": 41,
     "metadata": {},
     "output_type": "execute_result"
    }
   ],
   "execution_count": 41
  },
  {
   "metadata": {
    "ExecuteTime": {
     "end_time": "2025-05-27T12:27:52.305229Z",
     "start_time": "2025-05-27T12:27:52.302247Z"
    }
   },
   "cell_type": "code",
   "source": "df_cds_cassette.intron_length_to_stop_codon.value_counts()",
   "id": "3bee045b2e5ee2ca",
   "outputs": [
    {
     "data": {
      "text/plain": [
       "intron_length_to_stop_codon\n",
       " 97     6\n",
       " 190    3\n",
       " 247    3\n",
       " 169    3\n",
       " 94     2\n",
       " 202    2\n",
       " 133    2\n",
       " 5      1\n",
       "-502    1\n",
       " 142    1\n",
       "Name: count, dtype: int64"
      ]
     },
     "execution_count": 33,
     "metadata": {},
     "output_type": "execute_result"
    }
   ],
   "execution_count": 33
  },
  {
   "metadata": {
    "ExecuteTime": {
     "end_time": "2025-05-27T12:28:15.505992Z",
     "start_time": "2025-05-27T12:28:15.503314Z"
    }
   },
   "cell_type": "code",
   "source": [
    "# os.makedirs(f\"../Alignment/psi_blast/{phyla}\", exist_ok=True)\n",
    "#\n",
    "# dict_align_cds_cassette[\"Amblyraja_radiata_reference\"] = read_single_fasta(\"../Datasets/Chondrichthyes/amblyraja_radiata_0/ncbi_dataset/data/cds_cassette.fa\")\n",
    "# dict_align_to_fasta(dict_align_cds_cassette, f\"../Alignment/psi_blast/{phyla}/cds_cassette.fa\")\n",
    "# dict_align_to_fasta(dict_align_cds_cassette, f\"../Alignment/psi_blast/{phyla}/cds_cassette.aln\")"
   ],
   "id": "608501b6a6735ddd",
   "outputs": [],
   "execution_count": 34
  },
  {
   "metadata": {},
   "cell_type": "markdown",
   "source": "### Coelacanthimorpha Латимерии (Целакантообразные) + 0 видов",
   "id": "7984ede673eed7ef"
  },
  {
   "metadata": {},
   "cell_type": "markdown",
   "source": "[latimeria_chalumnae_coelacanthimorpha](https://blast.ncbi.nlm.nih.gov/Blast.cgi?PAGE_TYPE=BlastSearch&USER_FORMAT_DEFAULTS=on&SET_SAVED_SEARCH=true&PAGE=Proteins&PROGRAM=blastp&QUERY=%3EXP_005988847.1%20NXF1B%20%5Borganism%3DLatimeria%20chalumnae%5D%20%5BGeneID%3D102357219%5D%0AMSTGEDGRYHNEHDDRLCSGFIVRKKKGRGPFRWKTHNDVNYKHRSRGGGGPNPRSRLEDDDGDIPMSDS%0ASHDVTRGRYNPYSSRPNRRGDDWHDRDRGGPSNVQVTVRRDPLNQDRGLGSTGPRKNWFKITIPYGKKYD%0AKSWLLTSVQNLCSVPFSPVEFHYDHNKAVFYVEDSTTANALKQVSRKITDRDNYKVSLMVSLSSPPSSVQ%0ANELKPEHLEHLKQCMSKRYDGSQQALDLNSIRSDPDLVSQNIDVVLSKKSSLLAVIKIIEENIPELLSLN%0ALGNNRLFKLDDLTDLVTKAPNIKILNLSRNVLKSDRELDKVKGFKLEELWLDGNPLCDSFRDQSAYISAI%0ARERFPKLLRLDGHDLPPPIAFDVEAPTTLPPCKGSYFITDDIKVLVLRFLQQYYSVYDSGDRQALLDAYH%0ADGACCSLSIPYVSPNPSRCSLGEYFKDSRNVKKLKDPTLRFKLLKHTRLNVVAFLNELPKTQHDVNSFVV%0ADVNAQTNTLLCFTVHGIFKEVDGKSRDSVRAFSRVFIAVPAGNAGLCIVNDELFIRNATTEEIRKAFVTP%0AAPTPSSSPVPTLTAPQQEMLQVFSVQSGMNLEWSQKCLQDNDWDFNRSAQIFTQLKAEGKIPEVAFIK&JOB_TITLE=latimeria_chalumnae_coelacanthimorpha&GAPCOSTS=11%201&DATABASE=nr&BLAST_PROGRAMS=psiBlast&MAX_NUM_SEQ=100&SHORT_QUERY_ADJUST=on&EXPECT=0.05&WORD_SIZE=3&MATRIX_NAME=BLOSUM62&COMPOSITION_BASED_STATISTICS=2&I_THRESH=0.005&EQ_MENU=Coelacanthimorpha%20%28taxid%3A118072%29&EQ_MENU1=Latimeria%20chalumnae%20(taxid:7897)&ORG_EXCLUDE1=on&NUM_ORG=2&PROG_DEFAULTS=on&SHOW_OVERVIEW=on&SHOW_LINKOUT=on&ALIGNMENT_VIEW=Pairwise&MASK_CHAR=2&MASK_COLOR=1&GET_SEQUENCE=on&NCBI_GI=false&NUM_OVERVIEW=100&DESCRIPTIONS=100&ALIGNMENTS=100&FORMAT_OBJECT=Alignment&FORMAT_TYPE=HTML&SHOW_CDS_FEATURE=false&ADV_VIEW=on&BOOKMARK=on)",
   "id": "20ec24ab75f011cb"
  },
  {
   "metadata": {},
   "cell_type": "code",
   "outputs": [],
   "execution_count": null,
   "source": "# No significant similarity found.",
   "id": "8bd1284723814915"
  },
  {
   "metadata": {},
   "cell_type": "markdown",
   "source": "### Dipnomorpha Рипидистии (Лопастеперые рыбы) + 0 видов",
   "id": "55aae3945ffa5d98"
  },
  {
   "metadata": {},
   "cell_type": "markdown",
   "source": "[protopterus_annectens_dipnomorpha](https://blast.ncbi.nlm.nih.gov/Blast.cgi?PAGE_TYPE=BlastSearch&USER_FORMAT_DEFAULTS=on&SET_SAVED_SEARCH=true&PAGE=Proteins&PROGRAM=blastp&QUERY=%3EXP_043931305.1%20NXF1%20%5Borganism%3DProtopterus%20annectens%5D%20%5BGeneID%3D122805282%5D%0AMPEIKSIVGDKPRFAYRSCEALKQKICYKDFQVTYGKKYDREWLLESIKKCCSLPFTPIEYHFEENKAVF%0AYVQDSNVANALKQVTRKITDKDNYRVKLLVHRSGAPLSVRNELKPEQLEVVKQCMSKRFNAAEQSLSLKN%0AICSDPDLVAQKIDDVFFKRFCIYAVTKIIAEHIPELMSLDLSSNKLHYLDDVTDLLFGIRNLKILKLSQN%0AELKYDRELDKLKGLKLDELWLDENPLCKTFADQAAYISNIRDRFPKLRRLDGHELPPPICFEIASETTLP%0ATCKGSYFCTDDVKGLILHFLQQFYTFYDSDDRQGLLAAYHDNACFSVCTKSPPLNSTRALNDYLRENRNL%0AKKVKDAALRFRLLRHKRLNIIAFLNELPKTEHDLKSFVVDVSVQTNTLLSFTVNGIFKEANDKAKDPVMA%0AFSRVFVAVPAGSNGLCIVNDHLCVRSATSGEIRKAFVSPAPTPSSSPVPTLSATQQEMIQAFSLQSGMNF%0AEWSQKCLNDNNWDYTKAAHVFTVLKWIFY&JOB_TITLE=protopterus_annectens_dipnomorpha&GAPCOSTS=11%201&DATABASE=nr&BLAST_PROGRAMS=psiBlast&MAX_NUM_SEQ=100&SHORT_QUERY_ADJUST=on&EXPECT=0.05&WORD_SIZE=3&MATRIX_NAME=BLOSUM62&COMPOSITION_BASED_STATISTICS=2&I_THRESH=0.005&EQ_MENU=Dipnomorpha%20%28taxid%3A7878%29&EQ_MENU1=Protopterus%20annectens%20(taxid:7888)&ORG_EXCLUDE1=on&NUM_ORG=2&PROG_DEFAULTS=on&SHOW_OVERVIEW=on&SHOW_LINKOUT=on&ALIGNMENT_VIEW=Pairwise&MASK_CHAR=2&MASK_COLOR=1&GET_SEQUENCE=on&NCBI_GI=false&NUM_OVERVIEW=100&DESCRIPTIONS=100&ALIGNMENTS=100&FORMAT_OBJECT=Alignment&FORMAT_TYPE=HTML&SHOW_CDS_FEATURE=false&ADV_VIEW=on&BOOKMARK=on)",
   "id": "7a0597d566992c0a"
  },
  {
   "metadata": {},
   "cell_type": "code",
   "outputs": [],
   "execution_count": null,
   "source": "# No significant similarity found.",
   "id": "be7fcdbd1b99da8c"
  }
 ],
 "metadata": {
  "kernelspec": {
   "display_name": "Python 3",
   "language": "python",
   "name": "python3"
  },
  "language_info": {
   "codemirror_mode": {
    "name": "ipython",
    "version": 2
   },
   "file_extension": ".py",
   "mimetype": "text/x-python",
   "name": "python",
   "nbconvert_exporter": "python",
   "pygments_lexer": "ipython2",
   "version": "2.7.6"
  }
 },
 "nbformat": 4,
 "nbformat_minor": 5
}
